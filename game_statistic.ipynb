{
 "cells": [
  {
   "cell_type": "markdown",
   "metadata": {},
   "source": [
    "<div style=\"border:solid green 3px; padding: 20px\">\n",
    "\t\t\t\t\t\t\t\t\t\t\t\t\t\t\t\t\t\t\t\t\t\n",
    "<b>Привет!</b>\n",
    "\t\t\t\t\t\t\t\t\t\t\t\t\t\t\t\t\t\t\t\t\t\n",
    "Меня зовут Сороколетов Илья и я буду проверять твой проект. \n",
    "\t\t\t\t\t\t\t\t\t\t\t\t\t\t\t\t\t\t\t\t\t\n",
    "Предлагаю общаться на «**ты**», но если тебе будет комфортнее общаться на «**вы**», то сообщи об этом в комментариях)\n",
    "\t\t\t\t\t\t\t\t\t\t\t\t\t\t\t\t\t\t\t\t\t\n",
    "\t\t\t\t\t\t\t\t\t\t\t\t\t\t\t\t\t\t\t\t\t\n",
    "Для твоего удобства, я буду выделять свои комментарии следующим образом:\n",
    "\t\t\t\t\t\t\t\t\t\t\t\t\t\t\t\t\t\t\t\t\t\n",
    "<div class=\"alert alert-danger\">\n",
    "<b>❌ Комментарий ревьюера v1:</b> Самые важные замечания. Они указывают на ключевые моменты, которые влияют на конечный результат проекта. </div>\n",
    "\t\t\t\t\t\t\t\t\t\t\t\t\t\t\t\t\t\t\t\t\t\n",
    "<div class=\"alert alert-warning\">\n",
    "<b>⚠️ Комментарий ревьюера v1:</b> Советы или замечания, которые помогут сделать твою работу лучше, но необязательны к выполнению.\n",
    "\t\t\t\t\t\t\t\t\t\t\t\t\t\t\t\t\t\t\t\t\t\n",
    "</div>\n",
    "\t\t\t\t\t\t\t\t\t\t\t\t\t\t\t\t\t\t\t\t\t\n",
    "<div class=\"alert alert-success\">\n",
    "<b>✔️ Комментарий ревьюера v1:</b> Так я выделяю все остальные комментарии.</div>\n",
    "\t\t\t\t\t\t\t\t\t\t\t\t\t\t\t\t\t\t\t\t\t\n",
    "\t\t\t\t\t\t\t\t\t\t\t\t\t\t\t\t\t\t\t\t\t\n",
    "Пометками <b>v1-v2-v3-...</b> я буду отмечать версию проверки. Так ты сможешь быстро найти мои новые комментарии.\n",
    "\t\t\t\t\t\t\t\t\t\t\t\t\t\t\t\t\t\t\t\t\t\n",
    "Давай работать над проектом в диалоге: если ты что-то меняешь в проекте по моим рекомендациям — пиши об этом. Выбери для своих комментариев какой-то заметный цвет, так мне будет легче отследить изменения, например вот так:\n",
    "\t\t\t\t\t\t\t\t\t\t\t\t\t\t\t\t\t\t\t\t\t    \n",
    "<div class=\"alert alert-info\">\n",
    "<b>Комментарий студента:</b>\n",
    "<br>\n",
    "</div>\n",
    "\t\t\t\t\t\t\t\t\t\t\t\t\t\t\t\t\t\t\t\t\t\n",
    "<b>Пожалуйста, не перемещай, не изменяй и не удаляй мои комментарии.</b> Если ты оставляешь свои комментарии, то делай это под моими, чтобы сообщения были расположены в хронологическом порядке. Всё это поможет выполнить повторную проверку твоего проекта быстрее. \n",
    "\t\t\t\t\t\t\t\t\t\t\t\t\t\t\t\t\t\t\t\t\t\n",
    "Перед отправкой работы я рекомендую нажимать Kernel -> Restart & Run All. Это перезапустит ядро и по очереди выполнит все ячейки. Так ты сможешь проверить, что всё работает корректно. Кнопка Kernel находится в панели сверху\n",
    "\t\t\t\t\t\t\t\t\t\t\t\t\t\t\t\t\t\t\t\t\t\n",
    "Обязательно задавай вопросы если они возникнут, а я перехожу к проверке)\n",
    "\t\t\t\t\t\t\t\t\t\t\t\t\t\t\t\t\t\t\t\t\t\n",
    "P.S. На всякий случай, я оставлю пустой шаблон для твоих комментариев ниже. Кликни два раза на мой комментарий, скопируй последние четыре строчки кода и вставляй их в пустую ячейку там, где ты хочешь оставить комментарий. Не забудь только перед этим сменить тип ячейки на Markdown. Быстро это можно сделать так: кликнуть на ячейку - нажать ESC - нажать M. \n",
    "\t\t\t\t\t\t\t\t\t\t\t\t\t\t\t\t\t\t\t\t\t    \n",
    "\t\t\t\t\t\t\t\t\t\t\t\t\t\t\t\t\t\t\t\t\t    \n",
    "<div class=\"alert alert-info\">\n",
    "<b>Комментарий студента:</b>\n",
    "<br>Удали этот текст и вместо него напиши свой комментарий 🙂\n",
    "</div>"
   ]
  },
  {
   "cell_type": "markdown",
   "metadata": {},
   "source": [
    "<div class=\"alert alert-success\">\n",
    "<b>✔️ Комментарий ревьюера v3:</b> \n",
    "<br>Судя по всему я не туда нажал и отправил проект на доработку, хотя хотел принять)\n",
    "</div>"
   ]
  },
  {
   "cell_type": "markdown",
   "metadata": {},
   "source": [
    "**Заголовок:** Исследование интернет-магазина компьютерных игр «Стримчик»."
   ]
  },
  {
   "cell_type": "markdown",
   "metadata": {},
   "source": [
    "**Описание проекта:** В современном мире компьютерные игры становятся всё более популярным развлечением, и интернет-магазин «Стримчик» стремится занять лидирующие позиции на этом рынке. Мы планируем использовать исторические данные о продажах, оценках пользователей и экспертов, а также информацию о жанрах и платформах, чтобы выявить факторы, влияющие на успешность игр.\n",
    "С помощью собранных данных мы сможем понять, какие элементы способствуют популярности игр, что позволит не только улучшить ассортимент предлагаемых продуктов, но и разработать эффективные рекламные кампании для привлечения новых клиентов и удержания существующих. В процессе анализа мы также будем учитывать возрастные рейтинги, присваиваемые ассоциацией ESRB, что поможет определить целевую аудиторию для каждой игры."
   ]
  },
  {
   "cell_type": "markdown",
   "metadata": {},
   "source": [
    "**Цель исследования:** Провести анализ данных о продажах, оценках пользователей и экспертов, характеристиках жанров и платформ с целью выявления факторов, влияющих на успешность компьютерных игр."
   ]
  },
  {
   "cell_type": "markdown",
   "metadata": {},
   "source": [
    "**Ход исследования:**\n",
    "\n",
    "- Подготовка данных: загрузка и изучение общей информации из представленного датасета.\n",
    "- Предобработка данных: проверка на наличие пропущенных значений и дубликатов в датафреймах, приведение данных к корректному виду.\n",
    "- Расширение набора данных: объединение датафреймов, добавление новых столбцов, таких как, подсчет суммарных продаж во всех регионах и тд.\n",
    "- Исследовательский анализ данных: проверка гипотез, изучение основных параметров."
   ]
  },
  {
   "cell_type": "markdown",
   "metadata": {},
   "source": [
    "<div class=\"alert alert-success\">\n",
    "<b>✔️ Комментарий ревьюера v1:</b> \n",
    "<br>Молодец, что добавляешь описание задачи. Это поможет тебе быстро вспомнить о чем проект, если спустя время ты решишь к нему вернуться)\n",
    "</div>"
   ]
  },
  {
   "cell_type": "markdown",
   "metadata": {},
   "source": [
    "# Шаг 1-2: Подготовка и предобработка данных #"
   ]
  },
  {
   "cell_type": "code",
   "execution_count": 1,
   "metadata": {},
   "outputs": [],
   "source": [
    "import pandas as pd\n",
    "import warnings\n",
    "warnings.filterwarnings(\"ignore\")\n",
    "import seaborn as sns\n",
    "import matplotlib.pyplot as plt\n",
    "import numpy as np\n",
    "from scipy import stats as st"
   ]
  },
  {
   "cell_type": "markdown",
   "metadata": {},
   "source": [
    "<div class=\"alert alert-success\">\n",
    "<b>✔️ Комментарий ревьюера v1:</b> \n",
    "<br>Ты верно делаешь, что все библиотеки импортируешь отдельно в первой ячейке! Это позволит тебе в любой момент добавить ещё одну библиотеку без перезаписи переменных.\n",
    "</div>"
   ]
  },
  {
   "cell_type": "code",
   "execution_count": 2,
   "metadata": {},
   "outputs": [
    {
     "data": {
      "text/html": [
       "<div>\n",
       "<style scoped>\n",
       "    .dataframe tbody tr th:only-of-type {\n",
       "        vertical-align: middle;\n",
       "    }\n",
       "\n",
       "    .dataframe tbody tr th {\n",
       "        vertical-align: top;\n",
       "    }\n",
       "\n",
       "    .dataframe thead th {\n",
       "        text-align: right;\n",
       "    }\n",
       "</style>\n",
       "<table border=\"1\" class=\"dataframe\">\n",
       "  <thead>\n",
       "    <tr style=\"text-align: right;\">\n",
       "      <th></th>\n",
       "      <th>Name</th>\n",
       "      <th>Platform</th>\n",
       "      <th>Year_of_Release</th>\n",
       "      <th>Genre</th>\n",
       "      <th>NA_sales</th>\n",
       "      <th>EU_sales</th>\n",
       "      <th>JP_sales</th>\n",
       "      <th>Other_sales</th>\n",
       "      <th>Critic_Score</th>\n",
       "      <th>User_Score</th>\n",
       "      <th>Rating</th>\n",
       "    </tr>\n",
       "  </thead>\n",
       "  <tbody>\n",
       "    <tr>\n",
       "      <th>0</th>\n",
       "      <td>Wii Sports</td>\n",
       "      <td>Wii</td>\n",
       "      <td>2006.0</td>\n",
       "      <td>Sports</td>\n",
       "      <td>41.36</td>\n",
       "      <td>28.96</td>\n",
       "      <td>3.77</td>\n",
       "      <td>8.45</td>\n",
       "      <td>76.0</td>\n",
       "      <td>8</td>\n",
       "      <td>E</td>\n",
       "    </tr>\n",
       "    <tr>\n",
       "      <th>1</th>\n",
       "      <td>Super Mario Bros.</td>\n",
       "      <td>NES</td>\n",
       "      <td>1985.0</td>\n",
       "      <td>Platform</td>\n",
       "      <td>29.08</td>\n",
       "      <td>3.58</td>\n",
       "      <td>6.81</td>\n",
       "      <td>0.77</td>\n",
       "      <td>NaN</td>\n",
       "      <td>NaN</td>\n",
       "      <td>NaN</td>\n",
       "    </tr>\n",
       "    <tr>\n",
       "      <th>2</th>\n",
       "      <td>Mario Kart Wii</td>\n",
       "      <td>Wii</td>\n",
       "      <td>2008.0</td>\n",
       "      <td>Racing</td>\n",
       "      <td>15.68</td>\n",
       "      <td>12.76</td>\n",
       "      <td>3.79</td>\n",
       "      <td>3.29</td>\n",
       "      <td>82.0</td>\n",
       "      <td>8.3</td>\n",
       "      <td>E</td>\n",
       "    </tr>\n",
       "    <tr>\n",
       "      <th>3</th>\n",
       "      <td>Wii Sports Resort</td>\n",
       "      <td>Wii</td>\n",
       "      <td>2009.0</td>\n",
       "      <td>Sports</td>\n",
       "      <td>15.61</td>\n",
       "      <td>10.93</td>\n",
       "      <td>3.28</td>\n",
       "      <td>2.95</td>\n",
       "      <td>80.0</td>\n",
       "      <td>8</td>\n",
       "      <td>E</td>\n",
       "    </tr>\n",
       "    <tr>\n",
       "      <th>4</th>\n",
       "      <td>Pokemon Red/Pokemon Blue</td>\n",
       "      <td>GB</td>\n",
       "      <td>1996.0</td>\n",
       "      <td>Role-Playing</td>\n",
       "      <td>11.27</td>\n",
       "      <td>8.89</td>\n",
       "      <td>10.22</td>\n",
       "      <td>1.00</td>\n",
       "      <td>NaN</td>\n",
       "      <td>NaN</td>\n",
       "      <td>NaN</td>\n",
       "    </tr>\n",
       "  </tbody>\n",
       "</table>\n",
       "</div>"
      ],
      "text/plain": [
       "                       Name Platform  Year_of_Release         Genre  NA_sales  \\\n",
       "0                Wii Sports      Wii           2006.0        Sports     41.36   \n",
       "1         Super Mario Bros.      NES           1985.0      Platform     29.08   \n",
       "2            Mario Kart Wii      Wii           2008.0        Racing     15.68   \n",
       "3         Wii Sports Resort      Wii           2009.0        Sports     15.61   \n",
       "4  Pokemon Red/Pokemon Blue       GB           1996.0  Role-Playing     11.27   \n",
       "\n",
       "   EU_sales  JP_sales  Other_sales  Critic_Score User_Score Rating  \n",
       "0     28.96      3.77         8.45          76.0          8      E  \n",
       "1      3.58      6.81         0.77           NaN        NaN    NaN  \n",
       "2     12.76      3.79         3.29          82.0        8.3      E  \n",
       "3     10.93      3.28         2.95          80.0          8      E  \n",
       "4      8.89     10.22         1.00           NaN        NaN    NaN  "
      ]
     },
     "execution_count": 2,
     "metadata": {},
     "output_type": "execute_result"
    }
   ],
   "source": [
    "#открываем файл с данными\n",
    "data = pd.read_csv('/datasets/games.csv')\n",
    "data.head()"
   ]
  },
  {
   "cell_type": "code",
   "execution_count": 3,
   "metadata": {},
   "outputs": [
    {
     "data": {
      "text/html": [
       "<div>\n",
       "<style scoped>\n",
       "    .dataframe tbody tr th:only-of-type {\n",
       "        vertical-align: middle;\n",
       "    }\n",
       "\n",
       "    .dataframe tbody tr th {\n",
       "        vertical-align: top;\n",
       "    }\n",
       "\n",
       "    .dataframe thead th {\n",
       "        text-align: right;\n",
       "    }\n",
       "</style>\n",
       "<table border=\"1\" class=\"dataframe\">\n",
       "  <thead>\n",
       "    <tr style=\"text-align: right;\">\n",
       "      <th></th>\n",
       "      <th>name</th>\n",
       "      <th>platform</th>\n",
       "      <th>year_of_release</th>\n",
       "      <th>genre</th>\n",
       "      <th>na_sales</th>\n",
       "      <th>eu_sales</th>\n",
       "      <th>jp_sales</th>\n",
       "      <th>other_sales</th>\n",
       "      <th>critic_score</th>\n",
       "      <th>user_score</th>\n",
       "      <th>rating</th>\n",
       "    </tr>\n",
       "  </thead>\n",
       "  <tbody>\n",
       "    <tr>\n",
       "      <th>0</th>\n",
       "      <td>Wii Sports</td>\n",
       "      <td>Wii</td>\n",
       "      <td>2006.0</td>\n",
       "      <td>Sports</td>\n",
       "      <td>41.36</td>\n",
       "      <td>28.96</td>\n",
       "      <td>3.77</td>\n",
       "      <td>8.45</td>\n",
       "      <td>76.0</td>\n",
       "      <td>8</td>\n",
       "      <td>E</td>\n",
       "    </tr>\n",
       "    <tr>\n",
       "      <th>1</th>\n",
       "      <td>Super Mario Bros.</td>\n",
       "      <td>NES</td>\n",
       "      <td>1985.0</td>\n",
       "      <td>Platform</td>\n",
       "      <td>29.08</td>\n",
       "      <td>3.58</td>\n",
       "      <td>6.81</td>\n",
       "      <td>0.77</td>\n",
       "      <td>NaN</td>\n",
       "      <td>NaN</td>\n",
       "      <td>NaN</td>\n",
       "    </tr>\n",
       "    <tr>\n",
       "      <th>2</th>\n",
       "      <td>Mario Kart Wii</td>\n",
       "      <td>Wii</td>\n",
       "      <td>2008.0</td>\n",
       "      <td>Racing</td>\n",
       "      <td>15.68</td>\n",
       "      <td>12.76</td>\n",
       "      <td>3.79</td>\n",
       "      <td>3.29</td>\n",
       "      <td>82.0</td>\n",
       "      <td>8.3</td>\n",
       "      <td>E</td>\n",
       "    </tr>\n",
       "    <tr>\n",
       "      <th>3</th>\n",
       "      <td>Wii Sports Resort</td>\n",
       "      <td>Wii</td>\n",
       "      <td>2009.0</td>\n",
       "      <td>Sports</td>\n",
       "      <td>15.61</td>\n",
       "      <td>10.93</td>\n",
       "      <td>3.28</td>\n",
       "      <td>2.95</td>\n",
       "      <td>80.0</td>\n",
       "      <td>8</td>\n",
       "      <td>E</td>\n",
       "    </tr>\n",
       "    <tr>\n",
       "      <th>4</th>\n",
       "      <td>Pokemon Red/Pokemon Blue</td>\n",
       "      <td>GB</td>\n",
       "      <td>1996.0</td>\n",
       "      <td>Role-Playing</td>\n",
       "      <td>11.27</td>\n",
       "      <td>8.89</td>\n",
       "      <td>10.22</td>\n",
       "      <td>1.00</td>\n",
       "      <td>NaN</td>\n",
       "      <td>NaN</td>\n",
       "      <td>NaN</td>\n",
       "    </tr>\n",
       "  </tbody>\n",
       "</table>\n",
       "</div>"
      ],
      "text/plain": [
       "                       name platform  year_of_release         genre  na_sales  \\\n",
       "0                Wii Sports      Wii           2006.0        Sports     41.36   \n",
       "1         Super Mario Bros.      NES           1985.0      Platform     29.08   \n",
       "2            Mario Kart Wii      Wii           2008.0        Racing     15.68   \n",
       "3         Wii Sports Resort      Wii           2009.0        Sports     15.61   \n",
       "4  Pokemon Red/Pokemon Blue       GB           1996.0  Role-Playing     11.27   \n",
       "\n",
       "   eu_sales  jp_sales  other_sales  critic_score user_score rating  \n",
       "0     28.96      3.77         8.45          76.0          8      E  \n",
       "1      3.58      6.81         0.77           NaN        NaN    NaN  \n",
       "2     12.76      3.79         3.29          82.0        8.3      E  \n",
       "3     10.93      3.28         2.95          80.0          8      E  \n",
       "4      8.89     10.22         1.00           NaN        NaN    NaN  "
      ]
     },
     "execution_count": 3,
     "metadata": {},
     "output_type": "execute_result"
    }
   ],
   "source": [
    "# Заменяем названия столбцов\n",
    "data.columns = data.columns.str.lower()\n",
    "data.head()"
   ]
  },
  {
   "cell_type": "markdown",
   "metadata": {},
   "source": [
    "<div class=\"alert alert-warning\">\n",
    "<b>⚠️ Комментарий ревьюера v1:</b> \n",
    "<br>А если бы колонок было больше?) Тут достаточно использовать df.columns.str.lower(), чтобы привести названия всех колонок к нижнему регистру\n",
    "</div>"
   ]
  },
  {
   "cell_type": "markdown",
   "metadata": {},
   "source": [
    "<div class=\"alert alert-info\">\n",
    "<b>Комментарий студента:</b>\n",
    "<br>Изменила способ приведения колонок к нижнему регистру\n",
    "</div>"
   ]
  },
  {
   "cell_type": "code",
   "execution_count": 4,
   "metadata": {},
   "outputs": [
    {
     "name": "stdout",
     "output_type": "stream",
     "text": [
      "<class 'pandas.core.frame.DataFrame'>\n",
      "RangeIndex: 16715 entries, 0 to 16714\n",
      "Data columns (total 11 columns):\n",
      " #   Column           Non-Null Count  Dtype  \n",
      "---  ------           --------------  -----  \n",
      " 0   name             16713 non-null  object \n",
      " 1   platform         16715 non-null  object \n",
      " 2   year_of_release  16446 non-null  float64\n",
      " 3   genre            16713 non-null  object \n",
      " 4   na_sales         16715 non-null  float64\n",
      " 5   eu_sales         16715 non-null  float64\n",
      " 6   jp_sales         16715 non-null  float64\n",
      " 7   other_sales      16715 non-null  float64\n",
      " 8   critic_score     8137 non-null   float64\n",
      " 9   user_score       10014 non-null  object \n",
      " 10  rating           9949 non-null   object \n",
      "dtypes: float64(6), object(5)\n",
      "memory usage: 1.4+ MB\n"
     ]
    }
   ],
   "source": [
    "data.info()"
   ]
  },
  {
   "cell_type": "markdown",
   "metadata": {},
   "source": [
    "Изучаем общую информацию о файле. Видим, что не у всех столбцов корретктные типы данных. Требуется изменить тип у столбца year_of_realease на datetime, а также столбец user_score на numeric."
   ]
  },
  {
   "cell_type": "code",
   "execution_count": 5,
   "metadata": {},
   "outputs": [
    {
     "name": "stdout",
     "output_type": "stream",
     "text": [
      "<class 'pandas.core.frame.DataFrame'>\n",
      "RangeIndex: 16715 entries, 0 to 16714\n",
      "Data columns (total 11 columns):\n",
      " #   Column           Non-Null Count  Dtype         \n",
      "---  ------           --------------  -----         \n",
      " 0   name             16713 non-null  object        \n",
      " 1   platform         16715 non-null  object        \n",
      " 2   year_of_release  16446 non-null  datetime64[ns]\n",
      " 3   genre            16713 non-null  object        \n",
      " 4   na_sales         16715 non-null  float64       \n",
      " 5   eu_sales         16715 non-null  float64       \n",
      " 6   jp_sales         16715 non-null  float64       \n",
      " 7   other_sales      16715 non-null  float64       \n",
      " 8   critic_score     8137 non-null   float64       \n",
      " 9   user_score       7590 non-null   float64       \n",
      " 10  rating           9949 non-null   object        \n",
      "dtypes: datetime64[ns](1), float64(6), object(4)\n",
      "memory usage: 1.4+ MB\n"
     ]
    }
   ],
   "source": [
    "data['year_of_release'] = pd.to_numeric(data['year_of_release'], errors='coerce')\n",
    "data['year_of_release'] = pd.to_datetime(data['year_of_release'], format='%Y', errors='coerce')\n",
    "data['user_score'] = pd.to_numeric(data['user_score'], errors='coerce')\n",
    "data.info()"
   ]
  },
  {
   "cell_type": "markdown",
   "metadata": {},
   "source": [
    "Проверяем изменились ли данные. Следует отметить, что изменение столбца user_score методом astype, приводит к ошибке, тк в одной из строчек есть аббревиатура tbd(означает подлежит определению), поэтому воспользовались методом  to_numeric и в параметрах указали errors='coerce'."
   ]
  },
  {
   "cell_type": "code",
   "execution_count": 6,
   "metadata": {},
   "outputs": [
    {
     "data": {
      "text/plain": [
       "name                  2\n",
       "platform              0\n",
       "year_of_release     269\n",
       "genre                 2\n",
       "na_sales              0\n",
       "eu_sales              0\n",
       "jp_sales              0\n",
       "other_sales           0\n",
       "critic_score       8578\n",
       "user_score         9125\n",
       "rating             6766\n",
       "dtype: int64"
      ]
     },
     "execution_count": 6,
     "metadata": {},
     "output_type": "execute_result"
    }
   ],
   "source": [
    "data.isna().sum()"
   ]
  },
  {
   "cell_type": "markdown",
   "metadata": {},
   "source": [
    "По данной таблице, можно сказать, что если в столбце не так много пропусков, то их можно удалить, если пропусков много, то следует проанализировать, чем их лучше всего заполнить. Для этого воспользуемся методом describe, чтобы вывести основные статистические данные"
   ]
  },
  {
   "cell_type": "markdown",
   "metadata": {},
   "source": [
    "Возможные причины пропусков:\n",
    "\n",
    "- отсутствие данных \n",
    "- ошибки при выгрузке данных\n",
    "- неактульные данные\n",
    "- данные записаны в неверном формате"
   ]
  },
  {
   "cell_type": "code",
   "execution_count": 7,
   "metadata": {},
   "outputs": [
    {
     "data": {
      "text/html": [
       "<div>\n",
       "<style scoped>\n",
       "    .dataframe tbody tr th:only-of-type {\n",
       "        vertical-align: middle;\n",
       "    }\n",
       "\n",
       "    .dataframe tbody tr th {\n",
       "        vertical-align: top;\n",
       "    }\n",
       "\n",
       "    .dataframe thead th {\n",
       "        text-align: right;\n",
       "    }\n",
       "</style>\n",
       "<table border=\"1\" class=\"dataframe\">\n",
       "  <thead>\n",
       "    <tr style=\"text-align: right;\">\n",
       "      <th></th>\n",
       "      <th>na_sales</th>\n",
       "      <th>eu_sales</th>\n",
       "      <th>jp_sales</th>\n",
       "      <th>other_sales</th>\n",
       "      <th>critic_score</th>\n",
       "      <th>user_score</th>\n",
       "    </tr>\n",
       "  </thead>\n",
       "  <tbody>\n",
       "    <tr>\n",
       "      <th>count</th>\n",
       "      <td>16715.000000</td>\n",
       "      <td>16715.000000</td>\n",
       "      <td>16715.000000</td>\n",
       "      <td>16715.000000</td>\n",
       "      <td>8137.000000</td>\n",
       "      <td>7590.000000</td>\n",
       "    </tr>\n",
       "    <tr>\n",
       "      <th>mean</th>\n",
       "      <td>0.263377</td>\n",
       "      <td>0.145060</td>\n",
       "      <td>0.077617</td>\n",
       "      <td>0.047342</td>\n",
       "      <td>68.967679</td>\n",
       "      <td>7.125046</td>\n",
       "    </tr>\n",
       "    <tr>\n",
       "      <th>std</th>\n",
       "      <td>0.813604</td>\n",
       "      <td>0.503339</td>\n",
       "      <td>0.308853</td>\n",
       "      <td>0.186731</td>\n",
       "      <td>13.938165</td>\n",
       "      <td>1.500006</td>\n",
       "    </tr>\n",
       "    <tr>\n",
       "      <th>min</th>\n",
       "      <td>0.000000</td>\n",
       "      <td>0.000000</td>\n",
       "      <td>0.000000</td>\n",
       "      <td>0.000000</td>\n",
       "      <td>13.000000</td>\n",
       "      <td>0.000000</td>\n",
       "    </tr>\n",
       "    <tr>\n",
       "      <th>25%</th>\n",
       "      <td>0.000000</td>\n",
       "      <td>0.000000</td>\n",
       "      <td>0.000000</td>\n",
       "      <td>0.000000</td>\n",
       "      <td>60.000000</td>\n",
       "      <td>6.400000</td>\n",
       "    </tr>\n",
       "    <tr>\n",
       "      <th>50%</th>\n",
       "      <td>0.080000</td>\n",
       "      <td>0.020000</td>\n",
       "      <td>0.000000</td>\n",
       "      <td>0.010000</td>\n",
       "      <td>71.000000</td>\n",
       "      <td>7.500000</td>\n",
       "    </tr>\n",
       "    <tr>\n",
       "      <th>75%</th>\n",
       "      <td>0.240000</td>\n",
       "      <td>0.110000</td>\n",
       "      <td>0.040000</td>\n",
       "      <td>0.030000</td>\n",
       "      <td>79.000000</td>\n",
       "      <td>8.200000</td>\n",
       "    </tr>\n",
       "    <tr>\n",
       "      <th>max</th>\n",
       "      <td>41.360000</td>\n",
       "      <td>28.960000</td>\n",
       "      <td>10.220000</td>\n",
       "      <td>10.570000</td>\n",
       "      <td>98.000000</td>\n",
       "      <td>9.700000</td>\n",
       "    </tr>\n",
       "  </tbody>\n",
       "</table>\n",
       "</div>"
      ],
      "text/plain": [
       "           na_sales      eu_sales      jp_sales   other_sales  critic_score  \\\n",
       "count  16715.000000  16715.000000  16715.000000  16715.000000   8137.000000   \n",
       "mean       0.263377      0.145060      0.077617      0.047342     68.967679   \n",
       "std        0.813604      0.503339      0.308853      0.186731     13.938165   \n",
       "min        0.000000      0.000000      0.000000      0.000000     13.000000   \n",
       "25%        0.000000      0.000000      0.000000      0.000000     60.000000   \n",
       "50%        0.080000      0.020000      0.000000      0.010000     71.000000   \n",
       "75%        0.240000      0.110000      0.040000      0.030000     79.000000   \n",
       "max       41.360000     28.960000     10.220000     10.570000     98.000000   \n",
       "\n",
       "        user_score  \n",
       "count  7590.000000  \n",
       "mean      7.125046  \n",
       "std       1.500006  \n",
       "min       0.000000  \n",
       "25%       6.400000  \n",
       "50%       7.500000  \n",
       "75%       8.200000  \n",
       "max       9.700000  "
      ]
     },
     "execution_count": 7,
     "metadata": {},
     "output_type": "execute_result"
    }
   ],
   "source": [
    "data.describe()"
   ]
  },
  {
   "cell_type": "markdown",
   "metadata": {},
   "source": [
    "Видим, что в столбцах critic_score, user_score, rating достаточно много пропусков, из-за чего их лучше не заполнять, тк их диапозон может значительно отличаться и исказить информацию"
   ]
  },
  {
   "cell_type": "code",
   "execution_count": 8,
   "metadata": {},
   "outputs": [
    {
     "data": {
      "text/plain": [
       "count                   16446\n",
       "unique                     37\n",
       "top       2008-01-01 00:00:00\n",
       "freq                     1427\n",
       "first     1980-01-01 00:00:00\n",
       "last      2016-01-01 00:00:00\n",
       "Name: year_of_release, dtype: object"
      ]
     },
     "execution_count": 8,
     "metadata": {},
     "output_type": "execute_result"
    }
   ],
   "source": [
    "data['year_of_release'].describe()"
   ]
  },
  {
   "cell_type": "markdown",
   "metadata": {},
   "source": [
    "Так как значения в столбце с годами также имеют сильный диапазон, то заполним пропуски медианой"
   ]
  },
  {
   "cell_type": "code",
   "execution_count": 9,
   "metadata": {},
   "outputs": [],
   "source": [
    "#удаляем строки с пропусками, где их мало\n",
    "data = data.dropna(subset=['name', 'genre'])"
   ]
  },
  {
   "cell_type": "markdown",
   "metadata": {},
   "source": [
    "<div class=\"alert alert-success\">\n",
    "<b>✔️ Комментарий ревьюера v1:</b>\n",
    "<br>Удалить пропуски - хорошее решение, так как их меньше 5%, а без названия игры ее сложно как-то исследовать\n",
    "</div>"
   ]
  },
  {
   "cell_type": "markdown",
   "metadata": {},
   "source": [
    "<div class=\"alert alert-danger\">\n",
    "<b>❌ Комментарий ревьюера v1:</b> \n",
    "<br>Заполнять пропуски общей медианой в данном случае нельзя, так как данные слишком разнородные. Я бы рекомендовал вообще не заполнять пропуски\n",
    "</div>"
   ]
  },
  {
   "cell_type": "markdown",
   "metadata": {},
   "source": [
    "<div class=\"alert alert-danger\">\n",
    "<b>❌ Комментарий ревьюера v1:</b> \n",
    "<br>Мы не можем достоверено восстановить пропуски в данном столбце. Удалять тоже нельзя, так как пропусков слишком много и мы потеряем данные в других столбцах. Тут лучше оставить их как есть.\n",
    "</div>"
   ]
  },
  {
   "cell_type": "markdown",
   "metadata": {},
   "source": [
    "<div class=\"alert alert-info\">\n",
    "<b>Комментарий студента:</b>\n",
    "<br>Убрала строки с заполнением пропусков в столбцах critic_score, user_score, rating\n",
    "</div>"
   ]
  },
  {
   "cell_type": "markdown",
   "metadata": {},
   "source": [
    "<div class=\"alert alert-success\">\n",
    "<b>✔️ Комментарий ревьюера v2:</b>\n",
    "<br>Обе правки выполнены 👍\n",
    "</div>"
   ]
  },
  {
   "cell_type": "code",
   "execution_count": 10,
   "metadata": {},
   "outputs": [
    {
     "data": {
      "text/plain": [
       "name                  0\n",
       "platform              0\n",
       "year_of_release     269\n",
       "genre                 0\n",
       "na_sales              0\n",
       "eu_sales              0\n",
       "jp_sales              0\n",
       "other_sales           0\n",
       "critic_score       8576\n",
       "user_score         9123\n",
       "rating             6764\n",
       "dtype: int64"
      ]
     },
     "execution_count": 10,
     "metadata": {},
     "output_type": "execute_result"
    }
   ],
   "source": [
    "#проверка\n",
    "data.isna().sum()"
   ]
  },
  {
   "cell_type": "code",
   "execution_count": 11,
   "metadata": {},
   "outputs": [
    {
     "data": {
      "text/html": [
       "<div>\n",
       "<style scoped>\n",
       "    .dataframe tbody tr th:only-of-type {\n",
       "        vertical-align: middle;\n",
       "    }\n",
       "\n",
       "    .dataframe tbody tr th {\n",
       "        vertical-align: top;\n",
       "    }\n",
       "\n",
       "    .dataframe thead th {\n",
       "        text-align: right;\n",
       "    }\n",
       "</style>\n",
       "<table border=\"1\" class=\"dataframe\">\n",
       "  <thead>\n",
       "    <tr style=\"text-align: right;\">\n",
       "      <th></th>\n",
       "      <th>name</th>\n",
       "      <th>platform</th>\n",
       "      <th>year_of_release</th>\n",
       "      <th>genre</th>\n",
       "      <th>na_sales</th>\n",
       "      <th>eu_sales</th>\n",
       "      <th>jp_sales</th>\n",
       "      <th>other_sales</th>\n",
       "      <th>critic_score</th>\n",
       "      <th>user_score</th>\n",
       "      <th>rating</th>\n",
       "      <th>overall_sales</th>\n",
       "    </tr>\n",
       "  </thead>\n",
       "  <tbody>\n",
       "    <tr>\n",
       "      <th>0</th>\n",
       "      <td>Wii Sports</td>\n",
       "      <td>Wii</td>\n",
       "      <td>2006-01-01</td>\n",
       "      <td>Sports</td>\n",
       "      <td>41.36</td>\n",
       "      <td>28.96</td>\n",
       "      <td>3.77</td>\n",
       "      <td>8.45</td>\n",
       "      <td>76.0</td>\n",
       "      <td>8.0</td>\n",
       "      <td>E</td>\n",
       "      <td>82.54</td>\n",
       "    </tr>\n",
       "    <tr>\n",
       "      <th>1</th>\n",
       "      <td>Super Mario Bros.</td>\n",
       "      <td>NES</td>\n",
       "      <td>1985-01-01</td>\n",
       "      <td>Platform</td>\n",
       "      <td>29.08</td>\n",
       "      <td>3.58</td>\n",
       "      <td>6.81</td>\n",
       "      <td>0.77</td>\n",
       "      <td>NaN</td>\n",
       "      <td>NaN</td>\n",
       "      <td>NaN</td>\n",
       "      <td>40.24</td>\n",
       "    </tr>\n",
       "    <tr>\n",
       "      <th>2</th>\n",
       "      <td>Mario Kart Wii</td>\n",
       "      <td>Wii</td>\n",
       "      <td>2008-01-01</td>\n",
       "      <td>Racing</td>\n",
       "      <td>15.68</td>\n",
       "      <td>12.76</td>\n",
       "      <td>3.79</td>\n",
       "      <td>3.29</td>\n",
       "      <td>82.0</td>\n",
       "      <td>8.3</td>\n",
       "      <td>E</td>\n",
       "      <td>35.52</td>\n",
       "    </tr>\n",
       "    <tr>\n",
       "      <th>3</th>\n",
       "      <td>Wii Sports Resort</td>\n",
       "      <td>Wii</td>\n",
       "      <td>2009-01-01</td>\n",
       "      <td>Sports</td>\n",
       "      <td>15.61</td>\n",
       "      <td>10.93</td>\n",
       "      <td>3.28</td>\n",
       "      <td>2.95</td>\n",
       "      <td>80.0</td>\n",
       "      <td>8.0</td>\n",
       "      <td>E</td>\n",
       "      <td>32.77</td>\n",
       "    </tr>\n",
       "    <tr>\n",
       "      <th>4</th>\n",
       "      <td>Pokemon Red/Pokemon Blue</td>\n",
       "      <td>GB</td>\n",
       "      <td>1996-01-01</td>\n",
       "      <td>Role-Playing</td>\n",
       "      <td>11.27</td>\n",
       "      <td>8.89</td>\n",
       "      <td>10.22</td>\n",
       "      <td>1.00</td>\n",
       "      <td>NaN</td>\n",
       "      <td>NaN</td>\n",
       "      <td>NaN</td>\n",
       "      <td>31.38</td>\n",
       "    </tr>\n",
       "  </tbody>\n",
       "</table>\n",
       "</div>"
      ],
      "text/plain": [
       "                       name platform year_of_release         genre  na_sales  \\\n",
       "0                Wii Sports      Wii      2006-01-01        Sports     41.36   \n",
       "1         Super Mario Bros.      NES      1985-01-01      Platform     29.08   \n",
       "2            Mario Kart Wii      Wii      2008-01-01        Racing     15.68   \n",
       "3         Wii Sports Resort      Wii      2009-01-01        Sports     15.61   \n",
       "4  Pokemon Red/Pokemon Blue       GB      1996-01-01  Role-Playing     11.27   \n",
       "\n",
       "   eu_sales  jp_sales  other_sales  critic_score  user_score rating  \\\n",
       "0     28.96      3.77         8.45          76.0         8.0      E   \n",
       "1      3.58      6.81         0.77           NaN         NaN    NaN   \n",
       "2     12.76      3.79         3.29          82.0         8.3      E   \n",
       "3     10.93      3.28         2.95          80.0         8.0      E   \n",
       "4      8.89     10.22         1.00           NaN         NaN    NaN   \n",
       "\n",
       "   overall_sales  \n",
       "0          82.54  \n",
       "1          40.24  \n",
       "2          35.52  \n",
       "3          32.77  \n",
       "4          31.38  "
      ]
     },
     "execution_count": 11,
     "metadata": {},
     "output_type": "execute_result"
    }
   ],
   "source": [
    "#складываем продажи во всех регионах, записываем в отдельный столбец\n",
    "data['overall_sales'] = data[['na_sales', 'eu_sales', 'jp_sales', 'other_sales']].sum(axis=1)\n",
    "data.head()"
   ]
  },
  {
   "cell_type": "markdown",
   "metadata": {},
   "source": [
    "<div class=\"alert alert-success\">\n",
    "<b>✔️ Комментарий ревьюера v1:</b> \n",
    "<br>Столбец создан корректно\n",
    "</div>"
   ]
  },
  {
   "cell_type": "markdown",
   "metadata": {},
   "source": [
    "Проверим также наличие дубликатов"
   ]
  },
  {
   "cell_type": "code",
   "execution_count": 12,
   "metadata": {},
   "outputs": [
    {
     "data": {
      "text/plain": [
       "0"
      ]
     },
     "execution_count": 12,
     "metadata": {},
     "output_type": "execute_result"
    }
   ],
   "source": [
    "data.duplicated().sum()"
   ]
  },
  {
   "cell_type": "markdown",
   "metadata": {},
   "source": [
    "Проверим также наличие неявных дубликатов в столбцах name, platform и year_of_release"
   ]
  },
  {
   "cell_type": "code",
   "execution_count": 13,
   "metadata": {},
   "outputs": [
    {
     "data": {
      "text/plain": [
       "1"
      ]
     },
     "execution_count": 13,
     "metadata": {},
     "output_type": "execute_result"
    }
   ],
   "source": [
    "data[['name', 'platform', 'year_of_release']].duplicated().sum()"
   ]
  },
  {
   "cell_type": "markdown",
   "metadata": {},
   "source": [
    "Видим, что присутствует 1 дубликат, выведем строки, являющиеся дубликатами."
   ]
  },
  {
   "cell_type": "code",
   "execution_count": 14,
   "metadata": {},
   "outputs": [
    {
     "name": "stdout",
     "output_type": "stream",
     "text": [
      "                name platform year_of_release   genre  na_sales  eu_sales  \\\n",
      "604    Madden NFL 13      PS3      2012-01-01  Sports      2.11      0.22   \n",
      "16230  Madden NFL 13      PS3      2012-01-01  Sports      0.00      0.01   \n",
      "\n",
      "       jp_sales  other_sales  critic_score  user_score rating  overall_sales  \n",
      "604         0.0         0.23          83.0         5.5      E           2.56  \n",
      "16230       0.0         0.00          83.0         5.5      E           0.01  \n"
     ]
    }
   ],
   "source": [
    "duplicate_rows = data[data[['name', 'platform', 'year_of_release']].duplicated(keep=False)]\n",
    "print(duplicate_rows)"
   ]
  },
  {
   "cell_type": "markdown",
   "metadata": {},
   "source": [
    "Совпадают name, platform, genre и year_of_release. Отличаются данные по продажам, причем в дубликате почти нулевые значения продаж, поэтому оставим первое вхождение"
   ]
  },
  {
   "cell_type": "code",
   "execution_count": 15,
   "metadata": {},
   "outputs": [],
   "source": [
    "data = data.drop_duplicates(subset=['name', 'platform', 'year_of_release'], keep='first')"
   ]
  },
  {
   "cell_type": "code",
   "execution_count": 16,
   "metadata": {},
   "outputs": [
    {
     "data": {
      "text/plain": [
       "0"
      ]
     },
     "execution_count": 16,
     "metadata": {},
     "output_type": "execute_result"
    }
   ],
   "source": [
    "data[['name', 'platform', 'year_of_release']].duplicated().sum()"
   ]
  },
  {
   "cell_type": "markdown",
   "metadata": {},
   "source": [
    "<div class=\"alert alert-danger\">\n",
    "<b>❌ Комментарий ревьюера v1:</b> \n",
    "<br>Давай ещё проверим данные на неявные дубликаты. \n",
    "\n",
    "<br>Для этого выбери несколько столбцов одновременно, примени duplicated и выведи результат либо посчитай количество дубликатов. В данном проекте лучше всего посмотреть дубликаты по полям name, platform и year_of_release. \n",
    "</div>"
   ]
  },
  {
   "cell_type": "markdown",
   "metadata": {},
   "source": [
    "<div class=\"alert alert-info\">\n",
    "<b>Комментарий студента:</b>\n",
    "<br>Добавила проверку на неявные дубликаты\n",
    "</div>"
   ]
  },
  {
   "cell_type": "markdown",
   "metadata": {},
   "source": [
    "<div class=\"alert alert-success\">\n",
    "<b>✔️ Комментарий ревьюера v2:</b>\n",
    "<br>Правка выполнена 👍\n",
    "</div>"
   ]
  },
  {
   "cell_type": "markdown",
   "metadata": {},
   "source": [
    "На данном шаге мы выполнили **предобработку данных:**\n",
    "\n",
    "\n",
    "- Привели названия столбцов к нижнему регистру\n",
    "- Привели столбцы к корректным типам данных\n",
    "- Создали новый столбец с суммарными продажами во всех регионах\n",
    "- Проверили наличие пропущенных значений и дубликатов, обработали их"
   ]
  },
  {
   "cell_type": "markdown",
   "metadata": {},
   "source": [
    "# Шаг 3: Исследовательский анализ данных #"
   ]
  },
  {
   "cell_type": "code",
   "execution_count": 17,
   "metadata": {},
   "outputs": [
    {
     "data": {
      "text/html": [
       "<div>\n",
       "<style scoped>\n",
       "    .dataframe tbody tr th:only-of-type {\n",
       "        vertical-align: middle;\n",
       "    }\n",
       "\n",
       "    .dataframe tbody tr th {\n",
       "        vertical-align: top;\n",
       "    }\n",
       "\n",
       "    .dataframe thead th {\n",
       "        text-align: right;\n",
       "    }\n",
       "</style>\n",
       "<table border=\"1\" class=\"dataframe\">\n",
       "  <thead>\n",
       "    <tr style=\"text-align: right;\">\n",
       "      <th></th>\n",
       "      <th>name</th>\n",
       "      <th>platform</th>\n",
       "      <th>year_of_release</th>\n",
       "      <th>genre</th>\n",
       "      <th>na_sales</th>\n",
       "      <th>eu_sales</th>\n",
       "      <th>jp_sales</th>\n",
       "      <th>other_sales</th>\n",
       "      <th>critic_score</th>\n",
       "      <th>user_score</th>\n",
       "      <th>rating</th>\n",
       "      <th>overall_sales</th>\n",
       "    </tr>\n",
       "  </thead>\n",
       "  <tbody>\n",
       "    <tr>\n",
       "      <th>0</th>\n",
       "      <td>Wii Sports</td>\n",
       "      <td>Wii</td>\n",
       "      <td>2006</td>\n",
       "      <td>Sports</td>\n",
       "      <td>41.36</td>\n",
       "      <td>28.96</td>\n",
       "      <td>3.77</td>\n",
       "      <td>8.45</td>\n",
       "      <td>76.0</td>\n",
       "      <td>8.0</td>\n",
       "      <td>E</td>\n",
       "      <td>82.54</td>\n",
       "    </tr>\n",
       "    <tr>\n",
       "      <th>1</th>\n",
       "      <td>Super Mario Bros.</td>\n",
       "      <td>NES</td>\n",
       "      <td>1985</td>\n",
       "      <td>Platform</td>\n",
       "      <td>29.08</td>\n",
       "      <td>3.58</td>\n",
       "      <td>6.81</td>\n",
       "      <td>0.77</td>\n",
       "      <td>NaN</td>\n",
       "      <td>NaN</td>\n",
       "      <td>NaN</td>\n",
       "      <td>40.24</td>\n",
       "    </tr>\n",
       "    <tr>\n",
       "      <th>2</th>\n",
       "      <td>Mario Kart Wii</td>\n",
       "      <td>Wii</td>\n",
       "      <td>2008</td>\n",
       "      <td>Racing</td>\n",
       "      <td>15.68</td>\n",
       "      <td>12.76</td>\n",
       "      <td>3.79</td>\n",
       "      <td>3.29</td>\n",
       "      <td>82.0</td>\n",
       "      <td>8.3</td>\n",
       "      <td>E</td>\n",
       "      <td>35.52</td>\n",
       "    </tr>\n",
       "    <tr>\n",
       "      <th>3</th>\n",
       "      <td>Wii Sports Resort</td>\n",
       "      <td>Wii</td>\n",
       "      <td>2009</td>\n",
       "      <td>Sports</td>\n",
       "      <td>15.61</td>\n",
       "      <td>10.93</td>\n",
       "      <td>3.28</td>\n",
       "      <td>2.95</td>\n",
       "      <td>80.0</td>\n",
       "      <td>8.0</td>\n",
       "      <td>E</td>\n",
       "      <td>32.77</td>\n",
       "    </tr>\n",
       "    <tr>\n",
       "      <th>4</th>\n",
       "      <td>Pokemon Red/Pokemon Blue</td>\n",
       "      <td>GB</td>\n",
       "      <td>1996</td>\n",
       "      <td>Role-Playing</td>\n",
       "      <td>11.27</td>\n",
       "      <td>8.89</td>\n",
       "      <td>10.22</td>\n",
       "      <td>1.00</td>\n",
       "      <td>NaN</td>\n",
       "      <td>NaN</td>\n",
       "      <td>NaN</td>\n",
       "      <td>31.38</td>\n",
       "    </tr>\n",
       "  </tbody>\n",
       "</table>\n",
       "</div>"
      ],
      "text/plain": [
       "                       name platform  year_of_release         genre  na_sales  \\\n",
       "0                Wii Sports      Wii             2006        Sports     41.36   \n",
       "1         Super Mario Bros.      NES             1985      Platform     29.08   \n",
       "2            Mario Kart Wii      Wii             2008        Racing     15.68   \n",
       "3         Wii Sports Resort      Wii             2009        Sports     15.61   \n",
       "4  Pokemon Red/Pokemon Blue       GB             1996  Role-Playing     11.27   \n",
       "\n",
       "   eu_sales  jp_sales  other_sales  critic_score  user_score rating  \\\n",
       "0     28.96      3.77         8.45          76.0         8.0      E   \n",
       "1      3.58      6.81         0.77           NaN         NaN    NaN   \n",
       "2     12.76      3.79         3.29          82.0         8.3      E   \n",
       "3     10.93      3.28         2.95          80.0         8.0      E   \n",
       "4      8.89     10.22         1.00           NaN         NaN    NaN   \n",
       "\n",
       "   overall_sales  \n",
       "0          82.54  \n",
       "1          40.24  \n",
       "2          35.52  \n",
       "3          32.77  \n",
       "4          31.38  "
      ]
     },
     "execution_count": 17,
     "metadata": {},
     "output_type": "execute_result"
    }
   ],
   "source": [
    "#для анализа нам понадобится только год\n",
    "data['year_of_release'] = pd.to_datetime(data['year_of_release'], format='%Y', errors='coerce').dt.year\n",
    "data['year_of_release'] = data['year_of_release'].astype('Int64') \n",
    "data.head()"
   ]
  },
  {
   "cell_type": "markdown",
   "metadata": {},
   "source": [
    "**Исследуем количество игр, выпущенных в разные годы**"
   ]
  },
  {
   "cell_type": "code",
   "execution_count": 18,
   "metadata": {},
   "outputs": [
    {
     "data": {
      "text/plain": [
       "year_of_release\n",
       "1980       9\n",
       "1981      46\n",
       "1982      36\n",
       "1983      17\n",
       "1984      14\n",
       "1985      14\n",
       "1986      21\n",
       "1987      16\n",
       "1988      15\n",
       "1989      17\n",
       "1990      16\n",
       "1991      41\n",
       "1992      43\n",
       "1993      60\n",
       "1994     121\n",
       "1995     219\n",
       "1996     263\n",
       "1997     289\n",
       "1998     379\n",
       "1999     338\n",
       "2000     350\n",
       "2001     482\n",
       "2002     829\n",
       "2003     775\n",
       "2004     762\n",
       "2005     939\n",
       "2006    1006\n",
       "2007    1197\n",
       "2008    1427\n",
       "2009    1426\n",
       "2010    1255\n",
       "2011    1136\n",
       "2012     652\n",
       "2013     544\n",
       "2014     581\n",
       "2015     606\n",
       "2016     502\n",
       "Name: name, dtype: int64"
      ]
     },
     "execution_count": 18,
     "metadata": {},
     "output_type": "execute_result"
    }
   ],
   "source": [
    "grouped_by_year = data.groupby('year_of_release')['name'].count()\n",
    "grouped_by_year"
   ]
  },
  {
   "cell_type": "code",
   "execution_count": 19,
   "metadata": {},
   "outputs": [
    {
     "data": {
      "text/plain": [
       "Text(0, 0.5, 'Количество игр')"
      ]
     },
     "execution_count": 19,
     "metadata": {},
     "output_type": "execute_result"
    },
    {
     "data": {
      "image/png": "[encoded data removed]",
      "text/plain": [
       "<Figure size 1800x1440 with 1 Axes>"
      ]
     },
     "metadata": {
      "needs_background": "light"
     },
     "output_type": "display_data"
    }
   ],
   "source": [
    "plt.figure(figsize=(25, 20))\n",
    "sns.barplot(x=grouped_by_year.index, y=grouped_by_year.values, color='skyblue')\n",
    "plt.title('Количество игр, выпущенных по годам')\n",
    "plt.xlabel('Год')\n",
    "plt.ylabel('Количество игр')"
   ]
  },
  {
   "cell_type": "markdown",
   "metadata": {},
   "source": [
    "<div class=\"alert alert-success\">\n",
    "<b>✔️ Комментарий ревьюера v1:</b> \n",
    "<br>Отличный график! Здорово, что ты подписываешь график и его оси, так сразу становится понятно, что на нем изображено\n",
    "</div>"
   ]
  },
  {
   "cell_type": "markdown",
   "metadata": {},
   "source": [
    "По данной таблице видим, что больше всего игр было выпущено в период с 2007-2009 год, меньше всего в период с 1980 по 1994. После 1994 наблюдается рост количества. Кроме того, можно заметить резкий скачок в 2007 и резкий спад в 2012."
   ]
  },
  {
   "cell_type": "markdown",
   "metadata": {},
   "source": [
    "Теперь воспользуемся box plots, чтобы выявить выбросы и аномальные значения в данных"
   ]
  },
  {
   "cell_type": "code",
   "execution_count": 20,
   "metadata": {},
   "outputs": [
    {
     "data": {
      "text/plain": [
       "count    16443.000000\n",
       "mean      2006.485921\n",
       "std          5.875546\n",
       "min       1980.000000\n",
       "25%       2003.000000\n",
       "50%       2007.000000\n",
       "75%       2010.000000\n",
       "max       2016.000000\n",
       "Name: year_of_release, dtype: float64"
      ]
     },
     "execution_count": 20,
     "metadata": {},
     "output_type": "execute_result"
    }
   ],
   "source": [
    "data['year_of_release'].describe()"
   ]
  },
  {
   "cell_type": "markdown",
   "metadata": {},
   "source": [
    "По данной таблице видим, что первый квартиль равен 2003, третий - 2010. Медиана - 2007 год, среднее значение - 2006 год. "
   ]
  },
  {
   "cell_type": "code",
   "execution_count": 21,
   "metadata": {},
   "outputs": [],
   "source": [
    "#вычислим конкретные значения\n",
    "Q1 = data['year_of_release'].quantile(0.25)\n",
    "Q3 = data['year_of_release'].quantile(0.75)\n",
    "IQR = Q3 - Q1\n",
    "#сохраняем только нужные нам значения\n",
    "grouped_by_year = data[~((data['year_of_release'] < (Q1 - 1.5 * IQR)) | (data['year_of_release'] > (Q3 + 1.5 * IQR)))]\n",
    "grouped_by_year = grouped_by_year.groupby('year_of_release')['name'].count()"
   ]
  },
  {
   "cell_type": "code",
   "execution_count": 22,
   "metadata": {},
   "outputs": [
    {
     "data": {
      "text/plain": [
       "Text(0, 0.5, 'Количество игр')"
      ]
     },
     "execution_count": 22,
     "metadata": {},
     "output_type": "execute_result"
    },
    {
     "data": {
      "image/png": "[encoded data removed]",
      "text/plain": [
       "<Figure size 1440x720 with 1 Axes>"
      ]
     },
     "metadata": {
      "needs_background": "light"
     },
     "output_type": "display_data"
    }
   ],
   "source": [
    "#строим обновленный график\n",
    "plt.figure(figsize=(20, 10))\n",
    "sns.barplot(x=grouped_by_year.index, y=grouped_by_year.values, color='skyblue')\n",
    "plt.title('Количество игр, выпущенных по годам')\n",
    "plt.xlabel('Год')\n",
    "plt.ylabel('Количество игр')"
   ]
  },
  {
   "cell_type": "markdown",
   "metadata": {},
   "source": [
    "**Исследуем изменение продаж по платформам**"
   ]
  },
  {
   "cell_type": "code",
   "execution_count": 23,
   "metadata": {},
   "outputs": [
    {
     "data": {
      "text/html": [
       "<div>\n",
       "<style scoped>\n",
       "    .dataframe tbody tr th:only-of-type {\n",
       "        vertical-align: middle;\n",
       "    }\n",
       "\n",
       "    .dataframe tbody tr th {\n",
       "        vertical-align: top;\n",
       "    }\n",
       "\n",
       "    .dataframe thead th {\n",
       "        text-align: right;\n",
       "    }\n",
       "</style>\n",
       "<table border=\"1\" class=\"dataframe\">\n",
       "  <thead>\n",
       "    <tr style=\"text-align: right;\">\n",
       "      <th></th>\n",
       "      <th></th>\n",
       "      <th>overall_sales</th>\n",
       "    </tr>\n",
       "    <tr>\n",
       "      <th>year_of_release</th>\n",
       "      <th>platform</th>\n",
       "      <th></th>\n",
       "    </tr>\n",
       "  </thead>\n",
       "  <tbody>\n",
       "    <tr>\n",
       "      <th>1980</th>\n",
       "      <th>2600</th>\n",
       "      <td>11.38</td>\n",
       "    </tr>\n",
       "    <tr>\n",
       "      <th>1981</th>\n",
       "      <th>2600</th>\n",
       "      <td>35.68</td>\n",
       "    </tr>\n",
       "    <tr>\n",
       "      <th>1982</th>\n",
       "      <th>2600</th>\n",
       "      <td>28.88</td>\n",
       "    </tr>\n",
       "    <tr>\n",
       "      <th rowspan=\"2\" valign=\"top\">1983</th>\n",
       "      <th>2600</th>\n",
       "      <td>5.84</td>\n",
       "    </tr>\n",
       "    <tr>\n",
       "      <th>NES</th>\n",
       "      <td>10.96</td>\n",
       "    </tr>\n",
       "    <tr>\n",
       "      <th>...</th>\n",
       "      <th>...</th>\n",
       "      <td>...</td>\n",
       "    </tr>\n",
       "    <tr>\n",
       "      <th rowspan=\"5\" valign=\"top\">2016</th>\n",
       "      <th>PSV</th>\n",
       "      <td>4.25</td>\n",
       "    </tr>\n",
       "    <tr>\n",
       "      <th>Wii</th>\n",
       "      <td>0.18</td>\n",
       "    </tr>\n",
       "    <tr>\n",
       "      <th>WiiU</th>\n",
       "      <td>4.60</td>\n",
       "    </tr>\n",
       "    <tr>\n",
       "      <th>X360</th>\n",
       "      <td>1.52</td>\n",
       "    </tr>\n",
       "    <tr>\n",
       "      <th>XOne</th>\n",
       "      <td>26.15</td>\n",
       "    </tr>\n",
       "  </tbody>\n",
       "</table>\n",
       "<p>238 rows × 1 columns</p>\n",
       "</div>"
      ],
      "text/plain": [
       "                          overall_sales\n",
       "year_of_release platform               \n",
       "1980            2600              11.38\n",
       "1981            2600              35.68\n",
       "1982            2600              28.88\n",
       "1983            2600               5.84\n",
       "                NES               10.96\n",
       "...                                 ...\n",
       "2016            PSV                4.25\n",
       "                Wii                0.18\n",
       "                WiiU               4.60\n",
       "                X360               1.52\n",
       "                XOne              26.15\n",
       "\n",
       "[238 rows x 1 columns]"
      ]
     },
     "execution_count": 23,
     "metadata": {},
     "output_type": "execute_result"
    }
   ],
   "source": [
    "grouped_by_platform = pd.pivot_table(data, index=['year_of_release','platform'],\n",
    "                                     values='overall_sales',\n",
    "                                     aggfunc='sum')\n",
    "grouped_by_platform"
   ]
  },
  {
   "cell_type": "code",
   "execution_count": 24,
   "metadata": {},
   "outputs": [
    {
     "data": {
      "text/html": [
       "<div>\n",
       "<style scoped>\n",
       "    .dataframe tbody tr th:only-of-type {\n",
       "        vertical-align: middle;\n",
       "    }\n",
       "\n",
       "    .dataframe tbody tr th {\n",
       "        vertical-align: top;\n",
       "    }\n",
       "\n",
       "    .dataframe thead th {\n",
       "        text-align: right;\n",
       "    }\n",
       "</style>\n",
       "<table border=\"1\" class=\"dataframe\">\n",
       "  <thead>\n",
       "    <tr style=\"text-align: right;\">\n",
       "      <th></th>\n",
       "      <th>overall_sales</th>\n",
       "    </tr>\n",
       "  </thead>\n",
       "  <tbody>\n",
       "    <tr>\n",
       "      <th>count</th>\n",
       "      <td>238.000000</td>\n",
       "    </tr>\n",
       "    <tr>\n",
       "      <th>mean</th>\n",
       "      <td>37.035126</td>\n",
       "    </tr>\n",
       "    <tr>\n",
       "      <th>std</th>\n",
       "      <td>48.493731</td>\n",
       "    </tr>\n",
       "    <tr>\n",
       "      <th>min</th>\n",
       "      <td>0.020000</td>\n",
       "    </tr>\n",
       "    <tr>\n",
       "      <th>25%</th>\n",
       "      <td>3.620000</td>\n",
       "    </tr>\n",
       "    <tr>\n",
       "      <th>50%</th>\n",
       "      <td>16.055000</td>\n",
       "    </tr>\n",
       "    <tr>\n",
       "      <th>75%</th>\n",
       "      <td>50.477500</td>\n",
       "    </tr>\n",
       "    <tr>\n",
       "      <th>max</th>\n",
       "      <td>211.810000</td>\n",
       "    </tr>\n",
       "  </tbody>\n",
       "</table>\n",
       "</div>"
      ],
      "text/plain": [
       "       overall_sales\n",
       "count     238.000000\n",
       "mean       37.035126\n",
       "std        48.493731\n",
       "min         0.020000\n",
       "25%         3.620000\n",
       "50%        16.055000\n",
       "75%        50.477500\n",
       "max       211.810000"
      ]
     },
     "execution_count": 24,
     "metadata": {},
     "output_type": "execute_result"
    }
   ],
   "source": [
    "grouped_by_platform.describe()"
   ]
  },
  {
   "cell_type": "code",
   "execution_count": 25,
   "metadata": {},
   "outputs": [
    {
     "name": "stderr",
     "output_type": "stream",
     "text": [
      "No handles with labels found to put in legend.\n"
     ]
    },
    {
     "data": {
      "image/png": "[encoded data removed]",
      "text/plain": [
       "<Figure size 864x432 with 1 Axes>"
      ]
     },
     "metadata": {
      "needs_background": "light"
     },
     "output_type": "display_data"
    }
   ],
   "source": [
    "plt.figure(figsize=(12, 6))\n",
    "plt.boxplot(grouped_by_platform)\n",
    "plt.title('Продажи по платформам по годам')\n",
    "plt.xlabel('Год')\n",
    "plt.ylabel('Суммарные продажи')\n",
    "plt.legend(title='Платформа')\n",
    "plt.show()"
   ]
  },
  {
   "cell_type": "markdown",
   "metadata": {},
   "source": [
    "По таблице и графику видим, что минимальное значение - 0.02, максимальное значение - 211.81, медиана - 16.055, среднее значение - 37.035. Медиана и среднее значение значительно отличаются, что говорит о большом диапазоне значений. Кроме того, можно наблюдать выбросы за максимально допустимым значением. Поэтому есть смысл обработать аномалии, вычислим их."
   ]
  },
  {
   "cell_type": "code",
   "execution_count": 26,
   "metadata": {},
   "outputs": [
    {
     "data": {
      "text/html": [
       "<div>\n",
       "<style scoped>\n",
       "    .dataframe tbody tr th:only-of-type {\n",
       "        vertical-align: middle;\n",
       "    }\n",
       "\n",
       "    .dataframe tbody tr th {\n",
       "        vertical-align: top;\n",
       "    }\n",
       "\n",
       "    .dataframe thead th {\n",
       "        text-align: right;\n",
       "    }\n",
       "</style>\n",
       "<table border=\"1\" class=\"dataframe\">\n",
       "  <thead>\n",
       "    <tr style=\"text-align: right;\">\n",
       "      <th></th>\n",
       "      <th>year_of_release</th>\n",
       "      <th>platform</th>\n",
       "      <th>overall_sales</th>\n",
       "    </tr>\n",
       "  </thead>\n",
       "  <tbody>\n",
       "    <tr>\n",
       "      <th>155</th>\n",
       "      <td>2009</td>\n",
       "      <td>X360</td>\n",
       "      <td>120.29</td>\n",
       "    </tr>\n",
       "    <tr>\n",
       "      <th>127</th>\n",
       "      <td>2006</td>\n",
       "      <td>DS</td>\n",
       "      <td>119.81</td>\n",
       "    </tr>\n",
       "    <tr>\n",
       "      <th>151</th>\n",
       "      <td>2009</td>\n",
       "      <td>DS</td>\n",
       "      <td>119.54</td>\n",
       "    </tr>\n",
       "    <tr>\n",
       "      <th>200</th>\n",
       "      <td>2015</td>\n",
       "      <td>PS4</td>\n",
       "      <td>118.90</td>\n",
       "    </tr>\n",
       "    <tr>\n",
       "      <th>148</th>\n",
       "      <td>2008</td>\n",
       "      <td>PS3</td>\n",
       "      <td>118.52</td>\n",
       "    </tr>\n",
       "    <tr>\n",
       "      <th>...</th>\n",
       "      <td>...</td>\n",
       "      <td>...</td>\n",
       "      <td>...</td>\n",
       "    </tr>\n",
       "    <tr>\n",
       "      <th>63</th>\n",
       "      <td>1996</td>\n",
       "      <td>PCFX</td>\n",
       "      <td>0.03</td>\n",
       "    </tr>\n",
       "    <tr>\n",
       "      <th>18</th>\n",
       "      <td>1988</td>\n",
       "      <td>PC</td>\n",
       "      <td>0.03</td>\n",
       "    </tr>\n",
       "    <tr>\n",
       "      <th>8</th>\n",
       "      <td>1985</td>\n",
       "      <td>DS</td>\n",
       "      <td>0.02</td>\n",
       "    </tr>\n",
       "    <tr>\n",
       "      <th>41</th>\n",
       "      <td>1994</td>\n",
       "      <td>3DO</td>\n",
       "      <td>0.02</td>\n",
       "    </tr>\n",
       "    <tr>\n",
       "      <th>136</th>\n",
       "      <td>2007</td>\n",
       "      <td>DC</td>\n",
       "      <td>0.02</td>\n",
       "    </tr>\n",
       "  </tbody>\n",
       "</table>\n",
       "<p>216 rows × 3 columns</p>\n",
       "</div>"
      ],
      "text/plain": [
       "     year_of_release platform  overall_sales\n",
       "155             2009     X360         120.29\n",
       "127             2006       DS         119.81\n",
       "151             2009       DS         119.54\n",
       "200             2015      PS4         118.90\n",
       "148             2008      PS3         118.52\n",
       "..               ...      ...            ...\n",
       "63              1996     PCFX           0.03\n",
       "18              1988       PC           0.03\n",
       "8               1985       DS           0.02\n",
       "41              1994      3DO           0.02\n",
       "136             2007       DC           0.02\n",
       "\n",
       "[216 rows x 3 columns]"
      ]
     },
     "execution_count": 26,
     "metadata": {},
     "output_type": "execute_result"
    }
   ],
   "source": [
    "#вычислим конкретные значения\n",
    "Q1 = grouped_by_platform['overall_sales'].quantile(0.25)\n",
    "Q3 = grouped_by_platform['overall_sales'].quantile(0.75)\n",
    "IQR = Q3 - Q1\n",
    "# Определение аномалий\n",
    "outliers = grouped_by_platform[(grouped_by_platform['overall_sales'] < (Q1 - 1.5 * IQR)) | \n",
    "                                (grouped_by_platform['overall_sales'] > (Q3 + 1.5 * IQR))]\n",
    "grouped_by_platform = grouped_by_platform[~grouped_by_platform['overall_sales'].isin(outliers['overall_sales'])]\n",
    "grouped_by_platform = grouped_by_platform.reset_index()\n",
    "grouped_by_platform.sort_values(by='overall_sales', ascending=False)"
   ]
  },
  {
   "cell_type": "code",
   "execution_count": 27,
   "metadata": {},
   "outputs": [
    {
     "name": "stdout",
     "output_type": "stream",
     "text": [
      "Index(['year_of_release', 'platform', 'overall_sales'], dtype='object')\n"
     ]
    }
   ],
   "source": [
    "print(grouped_by_platform.columns)"
   ]
  },
  {
   "cell_type": "code",
   "execution_count": 28,
   "metadata": {},
   "outputs": [
    {
     "data": {
      "image/png": "[encoded data removed]",
      "text/plain": [
       "<Figure size 864x432 with 2 Axes>"
      ]
     },
     "metadata": {
      "needs_background": "light"
     },
     "output_type": "display_data"
    }
   ],
   "source": [
    "plt.figure(figsize=(12, 6))\n",
    "sns.heatmap(grouped_by_platform.pivot('platform', 'year_of_release', 'overall_sales'), cmap='YlGnBu', annot=True, fmt='.0f')\n",
    "plt.title('Тепловая карта продаж по годам для различных платформ')\n",
    "plt.xlabel('Год')\n",
    "plt.ylabel('Платформа')\n",
    "plt.show()"
   ]
  },
  {
   "cell_type": "markdown",
   "metadata": {},
   "source": [
    "Для того, чтобы определить как менялись продажи по платформам нам больше всего подойдет тепловая карта. Анализируя данную карту, можем заметить, что наибольшие суммарные продажи наблюдаются у следующих платформ: DS, PCFX, WiiU, PS2, PS3. Если говорить о сроке, за который появляются новые и исчезают старые платформы, то можем уведеть, самая первая платформа 2600 появилась в 1980 и просуществовала до 2011, но пик ее деятельнсти приходится с 1980 по 1983. Так, определить единые сроки для всех платформ нельзя, у всех разные сроки. Если говорить о более актуальных сроках то мы видим, что в основном, те платформы, которые существуют в 2016 демонстрируют стабильные продажи примерно на протяжении 5 лет, однако есть платформа PC, у которой сравнительно небольшие продажи, однако она существует уже 1992 года и действует до 2016 года."
   ]
  },
  {
   "cell_type": "markdown",
   "metadata": {},
   "source": [
    "**Определяем актуальный период:**"
   ]
  },
  {
   "cell_type": "markdown",
   "metadata": {},
   "source": [
    "Если говорить о более актуальных сроках то мы видим, что в основном, те платформы, которые существуют в 2016 демонстрируют стабильные продажи примерно на протяжении 5 лет, однако есть платформа PC, у которой сравнительно небольшие продажи, однако она существует уже 1992 года и действует до 2016 года. Поэтому возьмем срок 5 лет"
   ]
  },
  {
   "cell_type": "code",
   "execution_count": 29,
   "metadata": {},
   "outputs": [
    {
     "data": {
      "text/html": [
       "<div>\n",
       "<style scoped>\n",
       "    .dataframe tbody tr th:only-of-type {\n",
       "        vertical-align: middle;\n",
       "    }\n",
       "\n",
       "    .dataframe tbody tr th {\n",
       "        vertical-align: top;\n",
       "    }\n",
       "\n",
       "    .dataframe thead th {\n",
       "        text-align: right;\n",
       "    }\n",
       "</style>\n",
       "<table border=\"1\" class=\"dataframe\">\n",
       "  <thead>\n",
       "    <tr style=\"text-align: right;\">\n",
       "      <th></th>\n",
       "      <th>name</th>\n",
       "      <th>platform</th>\n",
       "      <th>year_of_release</th>\n",
       "      <th>genre</th>\n",
       "      <th>na_sales</th>\n",
       "      <th>eu_sales</th>\n",
       "      <th>jp_sales</th>\n",
       "      <th>other_sales</th>\n",
       "      <th>critic_score</th>\n",
       "      <th>user_score</th>\n",
       "      <th>rating</th>\n",
       "      <th>overall_sales</th>\n",
       "    </tr>\n",
       "  </thead>\n",
       "  <tbody>\n",
       "    <tr>\n",
       "      <th>16</th>\n",
       "      <td>Grand Theft Auto V</td>\n",
       "      <td>PS3</td>\n",
       "      <td>2013</td>\n",
       "      <td>Action</td>\n",
       "      <td>7.02</td>\n",
       "      <td>9.09</td>\n",
       "      <td>0.98</td>\n",
       "      <td>3.96</td>\n",
       "      <td>97.0</td>\n",
       "      <td>8.2</td>\n",
       "      <td>M</td>\n",
       "      <td>21.05</td>\n",
       "    </tr>\n",
       "    <tr>\n",
       "      <th>23</th>\n",
       "      <td>Grand Theft Auto V</td>\n",
       "      <td>X360</td>\n",
       "      <td>2013</td>\n",
       "      <td>Action</td>\n",
       "      <td>9.66</td>\n",
       "      <td>5.14</td>\n",
       "      <td>0.06</td>\n",
       "      <td>1.41</td>\n",
       "      <td>97.0</td>\n",
       "      <td>8.1</td>\n",
       "      <td>M</td>\n",
       "      <td>16.27</td>\n",
       "    </tr>\n",
       "    <tr>\n",
       "      <th>31</th>\n",
       "      <td>Call of Duty: Black Ops 3</td>\n",
       "      <td>PS4</td>\n",
       "      <td>2015</td>\n",
       "      <td>Shooter</td>\n",
       "      <td>6.03</td>\n",
       "      <td>5.86</td>\n",
       "      <td>0.36</td>\n",
       "      <td>2.38</td>\n",
       "      <td>NaN</td>\n",
       "      <td>NaN</td>\n",
       "      <td>NaN</td>\n",
       "      <td>14.63</td>\n",
       "    </tr>\n",
       "    <tr>\n",
       "      <th>33</th>\n",
       "      <td>Pokemon X/Pokemon Y</td>\n",
       "      <td>3DS</td>\n",
       "      <td>2013</td>\n",
       "      <td>Role-Playing</td>\n",
       "      <td>5.28</td>\n",
       "      <td>4.19</td>\n",
       "      <td>4.35</td>\n",
       "      <td>0.78</td>\n",
       "      <td>NaN</td>\n",
       "      <td>NaN</td>\n",
       "      <td>NaN</td>\n",
       "      <td>14.60</td>\n",
       "    </tr>\n",
       "    <tr>\n",
       "      <th>34</th>\n",
       "      <td>Call of Duty: Black Ops II</td>\n",
       "      <td>PS3</td>\n",
       "      <td>2012</td>\n",
       "      <td>Shooter</td>\n",
       "      <td>4.99</td>\n",
       "      <td>5.73</td>\n",
       "      <td>0.65</td>\n",
       "      <td>2.42</td>\n",
       "      <td>83.0</td>\n",
       "      <td>5.3</td>\n",
       "      <td>M</td>\n",
       "      <td>13.79</td>\n",
       "    </tr>\n",
       "  </tbody>\n",
       "</table>\n",
       "</div>"
      ],
      "text/plain": [
       "                          name platform  year_of_release         genre  \\\n",
       "16          Grand Theft Auto V      PS3             2013        Action   \n",
       "23          Grand Theft Auto V     X360             2013        Action   \n",
       "31   Call of Duty: Black Ops 3      PS4             2015       Shooter   \n",
       "33         Pokemon X/Pokemon Y      3DS             2013  Role-Playing   \n",
       "34  Call of Duty: Black Ops II      PS3             2012       Shooter   \n",
       "\n",
       "    na_sales  eu_sales  jp_sales  other_sales  critic_score  user_score  \\\n",
       "16      7.02      9.09      0.98         3.96          97.0         8.2   \n",
       "23      9.66      5.14      0.06         1.41          97.0         8.1   \n",
       "31      6.03      5.86      0.36         2.38           NaN         NaN   \n",
       "33      5.28      4.19      4.35         0.78           NaN         NaN   \n",
       "34      4.99      5.73      0.65         2.42          83.0         5.3   \n",
       "\n",
       "   rating  overall_sales  \n",
       "16      M          21.05  \n",
       "23      M          16.27  \n",
       "31    NaN          14.63  \n",
       "33    NaN          14.60  \n",
       "34      M          13.79  "
      ]
     },
     "execution_count": 29,
     "metadata": {},
     "output_type": "execute_result"
    }
   ],
   "source": [
    "data = data[data['year_of_release'] > 2011]\n",
    "data.head()"
   ]
  },
  {
   "cell_type": "markdown",
   "metadata": {},
   "source": [
    "<div class=\"alert alert-danger\">\n",
    "<b>❌ Комментарий ревьюера v1:</b> \n",
    "<br>Тут важно корректно подобрать актуальный период. Индустрия компьютерных игр быстро меняется, поэтому стоит ограничить временной период 3-5 годами, иначе есть риск, что в данные попадут ушедшие тренды\n",
    "</div>"
   ]
  },
  {
   "cell_type": "markdown",
   "metadata": {},
   "source": [
    "<div class=\"alert alert-info\">\n",
    "<b>Комментарий студента:</b>\n",
    "<br>Изменила актуальный период\n",
    "</div>"
   ]
  },
  {
   "cell_type": "markdown",
   "metadata": {},
   "source": [
    "<div class=\"alert alert-success\">\n",
    "<b>✔️ Комментарий ревьюера v2:</b>\n",
    "<br>Правка выполнена 👍\n",
    "</div>"
   ]
  },
  {
   "cell_type": "markdown",
   "metadata": {},
   "source": [
    "**Анализируем продажи платформ:**"
   ]
  },
  {
   "cell_type": "code",
   "execution_count": 30,
   "metadata": {},
   "outputs": [
    {
     "data": {
      "text/plain": [
       "platform\n",
       "PS4     314.14\n",
       "PS3     288.78\n",
       "X360    236.54\n",
       "3DS     194.61\n",
       "XOne    159.32\n",
       "WiiU     82.19\n",
       "PC       62.65\n",
       "PSV      49.18\n",
       "Wii      35.37\n",
       "DS       12.55\n",
       "PSP      11.19\n",
       "Name: overall_sales, dtype: float64"
      ]
     },
     "execution_count": 30,
     "metadata": {},
     "output_type": "execute_result"
    }
   ],
   "source": [
    "platform_data = data.groupby('platform')['overall_sales'].sum().sort_values(ascending=False)\n",
    "platform_data"
   ]
  },
  {
   "cell_type": "code",
   "execution_count": 31,
   "metadata": {},
   "outputs": [
    {
     "data": {
      "text/plain": [
       "Text(0, 0.5, 'Общие продажи')"
      ]
     },
     "execution_count": 31,
     "metadata": {},
     "output_type": "execute_result"
    },
    {
     "data": {
      "image/png": "[encoded data removed]",
      "text/plain": [
       "<Figure size 1080x720 with 1 Axes>"
      ]
     },
     "metadata": {
      "needs_background": "light"
     },
     "output_type": "display_data"
    }
   ],
   "source": [
    "plt.figure(figsize=(15, 10))\n",
    "sns.barplot(x=platform_data.index, y=platform_data.values, palette='viridis')\n",
    "plt.title('Общие продажи по платформам')\n",
    "plt.xlabel('Платформы')\n",
    "plt.ylabel('Общие продажи')"
   ]
  },
  {
   "cell_type": "markdown",
   "metadata": {},
   "source": [
    "По данному графику видим следующих лидеров по общим продажам: PS4, PS3, X360. Их продажи составляют более 200 млн проданных копий."
   ]
  },
  {
   "cell_type": "markdown",
   "metadata": {},
   "source": [
    "<div class=\"alert alert-success\">\n",
    "<b>✔️ Комментарий ревьюера v1:</b> \n",
    "<br>Наиболее перспективные платформы определены верно!\n",
    "</div>"
   ]
  },
  {
   "cell_type": "markdown",
   "metadata": {},
   "source": [
    "Чтобы посмотреть как росли продажи платформ, проанализируем продажи по годам."
   ]
  },
  {
   "cell_type": "code",
   "execution_count": 32,
   "metadata": {},
   "outputs": [
    {
     "data": {
      "text/html": [
       "<div>\n",
       "<style scoped>\n",
       "    .dataframe tbody tr th:only-of-type {\n",
       "        vertical-align: middle;\n",
       "    }\n",
       "\n",
       "    .dataframe tbody tr th {\n",
       "        vertical-align: top;\n",
       "    }\n",
       "\n",
       "    .dataframe thead th {\n",
       "        text-align: right;\n",
       "    }\n",
       "</style>\n",
       "<table border=\"1\" class=\"dataframe\">\n",
       "  <thead>\n",
       "    <tr style=\"text-align: right;\">\n",
       "      <th></th>\n",
       "      <th>year_of_release</th>\n",
       "      <th>platform</th>\n",
       "      <th>overall_sales</th>\n",
       "    </tr>\n",
       "  </thead>\n",
       "  <tbody>\n",
       "    <tr>\n",
       "      <th>33</th>\n",
       "      <td>2015</td>\n",
       "      <td>PS4</td>\n",
       "      <td>118.90</td>\n",
       "    </tr>\n",
       "    <tr>\n",
       "      <th>12</th>\n",
       "      <td>2013</td>\n",
       "      <td>PS3</td>\n",
       "      <td>113.25</td>\n",
       "    </tr>\n",
       "    <tr>\n",
       "      <th>3</th>\n",
       "      <td>2012</td>\n",
       "      <td>PS3</td>\n",
       "      <td>107.35</td>\n",
       "    </tr>\n",
       "    <tr>\n",
       "      <th>23</th>\n",
       "      <td>2014</td>\n",
       "      <td>PS4</td>\n",
       "      <td>100.00</td>\n",
       "    </tr>\n",
       "    <tr>\n",
       "      <th>8</th>\n",
       "      <td>2012</td>\n",
       "      <td>X360</td>\n",
       "      <td>99.74</td>\n",
       "    </tr>\n",
       "    <tr>\n",
       "      <th>18</th>\n",
       "      <td>2013</td>\n",
       "      <td>X360</td>\n",
       "      <td>88.58</td>\n",
       "    </tr>\n",
       "    <tr>\n",
       "      <th>43</th>\n",
       "      <td>2016</td>\n",
       "      <td>PS4</td>\n",
       "      <td>69.25</td>\n",
       "    </tr>\n",
       "    <tr>\n",
       "      <th>39</th>\n",
       "      <td>2015</td>\n",
       "      <td>XOne</td>\n",
       "      <td>60.14</td>\n",
       "    </tr>\n",
       "    <tr>\n",
       "      <th>9</th>\n",
       "      <td>2013</td>\n",
       "      <td>3DS</td>\n",
       "      <td>56.57</td>\n",
       "    </tr>\n",
       "    <tr>\n",
       "      <th>29</th>\n",
       "      <td>2014</td>\n",
       "      <td>XOne</td>\n",
       "      <td>54.07</td>\n",
       "    </tr>\n",
       "  </tbody>\n",
       "</table>\n",
       "</div>"
      ],
      "text/plain": [
       "    year_of_release platform  overall_sales\n",
       "33             2015      PS4         118.90\n",
       "12             2013      PS3         113.25\n",
       "3              2012      PS3         107.35\n",
       "23             2014      PS4         100.00\n",
       "8              2012     X360          99.74\n",
       "18             2013     X360          88.58\n",
       "43             2016      PS4          69.25\n",
       "39             2015     XOne          60.14\n",
       "9              2013      3DS          56.57\n",
       "29             2014     XOne          54.07"
      ]
     },
     "execution_count": 32,
     "metadata": {},
     "output_type": "execute_result"
    }
   ],
   "source": [
    "platform_year_data = data.groupby(['year_of_release', 'platform'])['overall_sales'].sum()\n",
    "platform_year_data = platform_year_data.reset_index()\n",
    "platform_year_data.sort_values(by='overall_sales', ascending=False).head(10)"
   ]
  },
  {
   "cell_type": "code",
   "execution_count": 33,
   "metadata": {},
   "outputs": [
    {
     "data": {
      "image/png": "[encoded data removed]",
      "text/plain": [
       "<Figure size 720x432 with 1 Axes>"
      ]
     },
     "metadata": {
      "needs_background": "light"
     },
     "output_type": "display_data"
    }
   ],
   "source": [
    "platforms = platform_year_data['platform'].unique()\n",
    "\n",
    "# Генерируем уникальные цвета\n",
    "colors = plt.cm.inferno(np.linspace(0, 1, len(platforms)))\n",
    "\n",
    "# Создаем линейный график\n",
    "plt.figure(figsize=(10, 6))\n",
    "\n",
    "for i, platform in enumerate(platforms):\n",
    "    subset = platform_year_data[platform_year_data['platform'] == platform]\n",
    "    plt.plot(subset['year_of_release'], subset['overall_sales'], marker='o', label=platform, color=colors[i])\n",
    "\n",
    "plt.xlabel('Год выпуска')\n",
    "plt.ylabel('Общие продажи')\n",
    "plt.title('Общие продажи по платформам')\n",
    "plt.legend(loc='upper left', bbox_to_anchor=(1, 1))\n",
    "plt.grid(True)\n",
    "plt.show()"
   ]
  },
  {
   "cell_type": "markdown",
   "metadata": {},
   "source": [
    "По данному графику и таблице, можно сделать вывод, что в период с 2012 по 2013 лидировала платформа PS3(соответсвует фиолетовому цвету), затем в период с 2013 по 2016 - PS4(желтый цвет). Стоит отметить, что эти платформы нельзя назвать стабильными в плане общих продаж, у них отмечается и резкий скачок, и резкий спад. "
   ]
  },
  {
   "cell_type": "markdown",
   "metadata": {},
   "source": [
    "<div class=\"alert alert-success\">\n",
    "<b>✔️ Комментарий ревьюера v1:</b> \n",
    "<br>Отличный анализ! 👌\n",
    "</div>"
   ]
  },
  {
   "cell_type": "code",
   "execution_count": 34,
   "metadata": {},
   "outputs": [
    {
     "data": {
      "text/html": [
       "<div>\n",
       "<style scoped>\n",
       "    .dataframe tbody tr th:only-of-type {\n",
       "        vertical-align: middle;\n",
       "    }\n",
       "\n",
       "    .dataframe tbody tr th {\n",
       "        vertical-align: top;\n",
       "    }\n",
       "\n",
       "    .dataframe thead th {\n",
       "        text-align: right;\n",
       "    }\n",
       "</style>\n",
       "<table border=\"1\" class=\"dataframe\">\n",
       "  <thead>\n",
       "    <tr style=\"text-align: right;\">\n",
       "      <th></th>\n",
       "      <th>year_of_release</th>\n",
       "      <th>overall_sales</th>\n",
       "    </tr>\n",
       "  </thead>\n",
       "  <tbody>\n",
       "    <tr>\n",
       "      <th>count</th>\n",
       "      <td>49.000000</td>\n",
       "      <td>49.000000</td>\n",
       "    </tr>\n",
       "    <tr>\n",
       "      <th>mean</th>\n",
       "      <td>2013.979592</td>\n",
       "      <td>29.520816</td>\n",
       "    </tr>\n",
       "    <tr>\n",
       "      <th>std</th>\n",
       "      <td>1.391788</td>\n",
       "      <td>33.279923</td>\n",
       "    </tr>\n",
       "    <tr>\n",
       "      <th>min</th>\n",
       "      <td>2012.000000</td>\n",
       "      <td>0.120000</td>\n",
       "    </tr>\n",
       "    <tr>\n",
       "      <th>25%</th>\n",
       "      <td>2013.000000</td>\n",
       "      <td>6.250000</td>\n",
       "    </tr>\n",
       "    <tr>\n",
       "      <th>50%</th>\n",
       "      <td>2014.000000</td>\n",
       "      <td>16.350000</td>\n",
       "    </tr>\n",
       "    <tr>\n",
       "      <th>75%</th>\n",
       "      <td>2015.000000</td>\n",
       "      <td>43.760000</td>\n",
       "    </tr>\n",
       "    <tr>\n",
       "      <th>max</th>\n",
       "      <td>2016.000000</td>\n",
       "      <td>118.900000</td>\n",
       "    </tr>\n",
       "  </tbody>\n",
       "</table>\n",
       "</div>"
      ],
      "text/plain": [
       "       year_of_release  overall_sales\n",
       "count        49.000000      49.000000\n",
       "mean       2013.979592      29.520816\n",
       "std           1.391788      33.279923\n",
       "min        2012.000000       0.120000\n",
       "25%        2013.000000       6.250000\n",
       "50%        2014.000000      16.350000\n",
       "75%        2015.000000      43.760000\n",
       "max        2016.000000     118.900000"
      ]
     },
     "execution_count": 34,
     "metadata": {},
     "output_type": "execute_result"
    }
   ],
   "source": [
    "platform_year_data.describe()"
   ]
  },
  {
   "cell_type": "code",
   "execution_count": 35,
   "metadata": {},
   "outputs": [
    {
     "data": {
      "image/png": "[encoded data removed]",
      "text/plain": [
       "<Figure size 1080x432 with 1 Axes>"
      ]
     },
     "metadata": {
      "needs_background": "light"
     },
     "output_type": "display_data"
    }
   ],
   "source": [
    "plt.figure(figsize=(15, 6))\n",
    "sns.boxplot(x='platform', y='overall_sales', data=platform_year_data)\n",
    "\n",
    "plt.xlabel('Платформа')\n",
    "plt.ylabel('Глобальные продажи')\n",
    "plt.title('Глобальные продажи игр по платформам')\n",
    "plt.xticks(rotation=45)  \n",
    "plt.grid(True)\n",
    "plt.show()"
   ]
  },
  {
   "cell_type": "markdown",
   "metadata": {},
   "source": [
    "По данному графику можно выделить 3 лидера: PS3, X360, PS4. Самая максимальная прибль наблюдается у платформы PS4 - 118.9. Наибольшая медиана у платформы PS4 примерно 85. Самые короткие усы наблюдаются у платформ 3DS, DS, PC, PS3, X360, XOne что говорит о том, что их прибль стабильна, нет высоких колебаний. Самые длинные усы у платформы PS4 что говорит о том, что их прибль имеет широкий диапозон значений. Кроме того, медианы PS3,  X360 сильно меньше максимального значения, что может говорить об единичных прибльных продажах. Потенциально прибыльными платформами будем считать платформы с наибольшой медианаой и наименьшим интерквартильным размахом. У PS4, Xone, PS3, 3DS самые наибольшие медианы, но у PS3 достаточно широкий интерквартильным размах, а у платформы PS4 длинные усы, что указывает на вариативность значений, то есть у платформ могут быть как и очень прибыльные продажи, так и наоборот, что не говорит о стабильности. Поэтому наиболее стабильные и потенциально прибыльными платформами являются Xone и 3DS"
   ]
  },
  {
   "cell_type": "markdown",
   "metadata": {},
   "source": [
    "<div class=\"alert alert-danger\">\n",
    "<b>❌ Комментарий ревьюера v1:</b> \n",
    "<br>Расчеты и выводы верные, но нужно их обязательно перепроверить \n",
    "</div>"
   ]
  },
  {
   "cell_type": "markdown",
   "metadata": {},
   "source": [
    "<div class=\"alert alert-info\">\n",
    "<b>Комментарий студента:</b>\n",
    "<br>Перепроверила и подкорректировала\n",
    "</div>"
   ]
  },
  {
   "cell_type": "markdown",
   "metadata": {},
   "source": [
    "<div class=\"alert alert-success\">\n",
    "<b>✔️ Комментарий ревьюера v2:</b>\n",
    "<br>Правка выполнена 👍\n",
    "</div>"
   ]
  },
  {
   "cell_type": "markdown",
   "metadata": {},
   "source": [
    "**Влияние отзывов пользователей и критиков на продажи платформы PS2**"
   ]
  },
  {
   "cell_type": "markdown",
   "metadata": {},
   "source": [
    "Мы выявили, что лидером является платформа PS2, поэтому будем анализировать по ней"
   ]
  },
  {
   "cell_type": "code",
   "execution_count": 36,
   "metadata": {},
   "outputs": [
    {
     "data": {
      "text/html": [
       "<div>\n",
       "<style scoped>\n",
       "    .dataframe tbody tr th:only-of-type {\n",
       "        vertical-align: middle;\n",
       "    }\n",
       "\n",
       "    .dataframe tbody tr th {\n",
       "        vertical-align: top;\n",
       "    }\n",
       "\n",
       "    .dataframe thead th {\n",
       "        text-align: right;\n",
       "    }\n",
       "</style>\n",
       "<table border=\"1\" class=\"dataframe\">\n",
       "  <thead>\n",
       "    <tr style=\"text-align: right;\">\n",
       "      <th></th>\n",
       "      <th>year_of_release</th>\n",
       "      <th>na_sales</th>\n",
       "      <th>eu_sales</th>\n",
       "      <th>jp_sales</th>\n",
       "      <th>other_sales</th>\n",
       "      <th>critic_score</th>\n",
       "      <th>user_score</th>\n",
       "      <th>overall_sales</th>\n",
       "    </tr>\n",
       "  </thead>\n",
       "  <tbody>\n",
       "    <tr>\n",
       "      <th>count</th>\n",
       "      <td>492.000000</td>\n",
       "      <td>492.000000</td>\n",
       "      <td>492.000000</td>\n",
       "      <td>492.000000</td>\n",
       "      <td>492.000000</td>\n",
       "      <td>213.000000</td>\n",
       "      <td>282.000000</td>\n",
       "      <td>492.000000</td>\n",
       "    </tr>\n",
       "    <tr>\n",
       "      <th>mean</th>\n",
       "      <td>2013.449187</td>\n",
       "      <td>0.210122</td>\n",
       "      <td>0.217175</td>\n",
       "      <td>0.071728</td>\n",
       "      <td>0.087927</td>\n",
       "      <td>71.511737</td>\n",
       "      <td>6.536525</td>\n",
       "      <td>0.586951</td>\n",
       "    </tr>\n",
       "    <tr>\n",
       "      <th>std</th>\n",
       "      <td>1.268231</td>\n",
       "      <td>0.528413</td>\n",
       "      <td>0.667337</td>\n",
       "      <td>0.123472</td>\n",
       "      <td>0.266353</td>\n",
       "      <td>13.360958</td>\n",
       "      <td>1.650228</td>\n",
       "      <td>1.464113</td>\n",
       "    </tr>\n",
       "    <tr>\n",
       "      <th>min</th>\n",
       "      <td>2012.000000</td>\n",
       "      <td>0.000000</td>\n",
       "      <td>0.000000</td>\n",
       "      <td>0.000000</td>\n",
       "      <td>0.000000</td>\n",
       "      <td>13.000000</td>\n",
       "      <td>0.200000</td>\n",
       "      <td>0.010000</td>\n",
       "    </tr>\n",
       "    <tr>\n",
       "      <th>25%</th>\n",
       "      <td>2012.000000</td>\n",
       "      <td>0.000000</td>\n",
       "      <td>0.000000</td>\n",
       "      <td>0.000000</td>\n",
       "      <td>0.000000</td>\n",
       "      <td>65.000000</td>\n",
       "      <td>5.500000</td>\n",
       "      <td>0.050000</td>\n",
       "    </tr>\n",
       "    <tr>\n",
       "      <th>50%</th>\n",
       "      <td>2013.000000</td>\n",
       "      <td>0.050000</td>\n",
       "      <td>0.030000</td>\n",
       "      <td>0.030000</td>\n",
       "      <td>0.020000</td>\n",
       "      <td>74.000000</td>\n",
       "      <td>7.000000</td>\n",
       "      <td>0.200000</td>\n",
       "    </tr>\n",
       "    <tr>\n",
       "      <th>75%</th>\n",
       "      <td>2014.000000</td>\n",
       "      <td>0.222500</td>\n",
       "      <td>0.200000</td>\n",
       "      <td>0.090000</td>\n",
       "      <td>0.080000</td>\n",
       "      <td>81.000000</td>\n",
       "      <td>7.800000</td>\n",
       "      <td>0.610000</td>\n",
       "    </tr>\n",
       "    <tr>\n",
       "      <th>max</th>\n",
       "      <td>2016.000000</td>\n",
       "      <td>7.020000</td>\n",
       "      <td>9.090000</td>\n",
       "      <td>0.980000</td>\n",
       "      <td>3.960000</td>\n",
       "      <td>97.000000</td>\n",
       "      <td>9.100000</td>\n",
       "      <td>21.050000</td>\n",
       "    </tr>\n",
       "  </tbody>\n",
       "</table>\n",
       "</div>"
      ],
      "text/plain": [
       "       year_of_release    na_sales    eu_sales    jp_sales  other_sales  \\\n",
       "count       492.000000  492.000000  492.000000  492.000000   492.000000   \n",
       "mean       2013.449187    0.210122    0.217175    0.071728     0.087927   \n",
       "std           1.268231    0.528413    0.667337    0.123472     0.266353   \n",
       "min        2012.000000    0.000000    0.000000    0.000000     0.000000   \n",
       "25%        2012.000000    0.000000    0.000000    0.000000     0.000000   \n",
       "50%        2013.000000    0.050000    0.030000    0.030000     0.020000   \n",
       "75%        2014.000000    0.222500    0.200000    0.090000     0.080000   \n",
       "max        2016.000000    7.020000    9.090000    0.980000     3.960000   \n",
       "\n",
       "       critic_score  user_score  overall_sales  \n",
       "count    213.000000  282.000000     492.000000  \n",
       "mean      71.511737    6.536525       0.586951  \n",
       "std       13.360958    1.650228       1.464113  \n",
       "min       13.000000    0.200000       0.010000  \n",
       "25%       65.000000    5.500000       0.050000  \n",
       "50%       74.000000    7.000000       0.200000  \n",
       "75%       81.000000    7.800000       0.610000  \n",
       "max       97.000000    9.100000      21.050000  "
      ]
     },
     "execution_count": 36,
     "metadata": {},
     "output_type": "execute_result"
    }
   ],
   "source": [
    "platform = data[data['platform'] == 'PS3']\n",
    "platform.describe()"
   ]
  },
  {
   "cell_type": "code",
   "execution_count": 37,
   "metadata": {},
   "outputs": [
    {
     "data": {
      "image/png": "[encoded data removed]",
      "text/plain": [
       "<Figure size 1008x432 with 2 Axes>"
      ]
     },
     "metadata": {
      "needs_background": "light"
     },
     "output_type": "display_data"
    }
   ],
   "source": [
    "# Создание фигуры для двух подграфиков\n",
    "fig, axes = plt.subplots(1, 2, figsize=(14, 6))\n",
    "\n",
    "# Диаграмма рассеяния для оценок критиков\n",
    "sns.scatterplot(x='critic_score', y='overall_sales', data=platform, ax=axes[0], color='blue', alpha=0.6)\n",
    "axes[0].set_title('Влияние оценки критиков на продажи')\n",
    "axes[0].set_xlabel('Оценка критиков')\n",
    "axes[0].set_ylabel('Продажи в всех регионах')\n",
    "axes[0].grid(True)\n",
    "# Диаграмма рассеяния для оценок пользователей\n",
    "sns.scatterplot(x='user_score', y='overall_sales', data=platform, ax=axes[1], color='orange', alpha=0.6)\n",
    "axes[1].set_title('Влияние оценки пользователей на продажи')\n",
    "axes[1].set_xlabel('Оценка пользователей')\n",
    "axes[1].set_ylabel('Продажи во всех регионах')\n",
    "axes[1].grid(True)\n",
    "\n",
    "# Отображение графиков\n",
    "plt.tight_layout()\n",
    "plt.show()\n"
   ]
  },
  {
   "cell_type": "markdown",
   "metadata": {},
   "source": [
    "По графику можем сказать, что действительно оценки влияют на продажи платформы, так, чем выше оценка, тем больше увеличиваются продажи. Если говорить об оценках критиков, то если оценка превышает 80 можно наблюдать скачок рост продаж. Если говорить об оценках пользователей, то видно, что влияние уже не такое большое."
   ]
  },
  {
   "cell_type": "code",
   "execution_count": 38,
   "metadata": {},
   "outputs": [
    {
     "data": {
      "text/plain": [
       "0.3341517575509856"
      ]
     },
     "execution_count": 38,
     "metadata": {},
     "output_type": "execute_result"
    }
   ],
   "source": [
    "critic_corr = platform['critic_score'].corr(platform['overall_sales'])\n",
    "critic_corr"
   ]
  },
  {
   "cell_type": "code",
   "execution_count": 39,
   "metadata": {},
   "outputs": [
    {
     "data": {
      "text/plain": [
       "-0.006205767686051523"
      ]
     },
     "execution_count": 39,
     "metadata": {},
     "output_type": "execute_result"
    }
   ],
   "source": [
    "user_corr = platform['user_score'].corr(platform['overall_sales'])\n",
    "user_corr"
   ]
  },
  {
   "cell_type": "markdown",
   "metadata": {},
   "source": [
    "Видим, для оценки критиков наблюдается прямая зависимость на продажи в регионах, в то время как для оценки пользователей наоборот незначительно отрицательная(практически не наблюдается)."
   ]
  },
  {
   "cell_type": "markdown",
   "metadata": {},
   "source": [
    "**Влияние отзывов пользователей и критиков на другие платформы**"
   ]
  },
  {
   "cell_type": "markdown",
   "metadata": {},
   "source": [
    "Рассмотрим влияние и на другие платформы, возьмем другие наиболее популярные из них X360, PS3, Wii."
   ]
  },
  {
   "cell_type": "code",
   "execution_count": 40,
   "metadata": {},
   "outputs": [
    {
     "data": {
      "text/html": [
       "<div>\n",
       "<style scoped>\n",
       "    .dataframe tbody tr th:only-of-type {\n",
       "        vertical-align: middle;\n",
       "    }\n",
       "\n",
       "    .dataframe tbody tr th {\n",
       "        vertical-align: top;\n",
       "    }\n",
       "\n",
       "    .dataframe thead th {\n",
       "        text-align: right;\n",
       "    }\n",
       "</style>\n",
       "<table border=\"1\" class=\"dataframe\">\n",
       "  <thead>\n",
       "    <tr style=\"text-align: right;\">\n",
       "      <th></th>\n",
       "      <th>year_of_release</th>\n",
       "      <th>na_sales</th>\n",
       "      <th>eu_sales</th>\n",
       "      <th>jp_sales</th>\n",
       "      <th>other_sales</th>\n",
       "      <th>critic_score</th>\n",
       "      <th>user_score</th>\n",
       "      <th>overall_sales</th>\n",
       "    </tr>\n",
       "  </thead>\n",
       "  <tbody>\n",
       "    <tr>\n",
       "      <th>count</th>\n",
       "      <td>292.000000</td>\n",
       "      <td>292.000000</td>\n",
       "      <td>292.000000</td>\n",
       "      <td>292.000000</td>\n",
       "      <td>292.000000</td>\n",
       "      <td>171.000000</td>\n",
       "      <td>235.000000</td>\n",
       "      <td>292.000000</td>\n",
       "    </tr>\n",
       "    <tr>\n",
       "      <th>mean</th>\n",
       "      <td>2013.226027</td>\n",
       "      <td>0.479623</td>\n",
       "      <td>0.255205</td>\n",
       "      <td>0.005377</td>\n",
       "      <td>0.069863</td>\n",
       "      <td>70.871345</td>\n",
       "      <td>6.220851</td>\n",
       "      <td>0.810068</td>\n",
       "    </tr>\n",
       "    <tr>\n",
       "      <th>std</th>\n",
       "      <td>1.188551</td>\n",
       "      <td>1.055389</td>\n",
       "      <td>0.564480</td>\n",
       "      <td>0.011878</td>\n",
       "      <td>0.146965</td>\n",
       "      <td>14.193861</td>\n",
       "      <td>1.578823</td>\n",
       "      <td>1.712069</td>\n",
       "    </tr>\n",
       "    <tr>\n",
       "      <th>min</th>\n",
       "      <td>2012.000000</td>\n",
       "      <td>0.000000</td>\n",
       "      <td>0.000000</td>\n",
       "      <td>0.000000</td>\n",
       "      <td>0.000000</td>\n",
       "      <td>19.000000</td>\n",
       "      <td>0.700000</td>\n",
       "      <td>0.010000</td>\n",
       "    </tr>\n",
       "    <tr>\n",
       "      <th>25%</th>\n",
       "      <td>2012.000000</td>\n",
       "      <td>0.050000</td>\n",
       "      <td>0.020000</td>\n",
       "      <td>0.000000</td>\n",
       "      <td>0.010000</td>\n",
       "      <td>63.500000</td>\n",
       "      <td>5.250000</td>\n",
       "      <td>0.100000</td>\n",
       "    </tr>\n",
       "    <tr>\n",
       "      <th>50%</th>\n",
       "      <td>2013.000000</td>\n",
       "      <td>0.170000</td>\n",
       "      <td>0.100000</td>\n",
       "      <td>0.000000</td>\n",
       "      <td>0.030000</td>\n",
       "      <td>74.000000</td>\n",
       "      <td>6.500000</td>\n",
       "      <td>0.310000</td>\n",
       "    </tr>\n",
       "    <tr>\n",
       "      <th>75%</th>\n",
       "      <td>2014.000000</td>\n",
       "      <td>0.480000</td>\n",
       "      <td>0.252500</td>\n",
       "      <td>0.010000</td>\n",
       "      <td>0.072500</td>\n",
       "      <td>81.000000</td>\n",
       "      <td>7.400000</td>\n",
       "      <td>0.870000</td>\n",
       "    </tr>\n",
       "    <tr>\n",
       "      <th>max</th>\n",
       "      <td>2016.000000</td>\n",
       "      <td>9.660000</td>\n",
       "      <td>5.140000</td>\n",
       "      <td>0.070000</td>\n",
       "      <td>1.410000</td>\n",
       "      <td>97.000000</td>\n",
       "      <td>8.900000</td>\n",
       "      <td>16.270000</td>\n",
       "    </tr>\n",
       "  </tbody>\n",
       "</table>\n",
       "</div>"
      ],
      "text/plain": [
       "       year_of_release    na_sales    eu_sales    jp_sales  other_sales  \\\n",
       "count       292.000000  292.000000  292.000000  292.000000   292.000000   \n",
       "mean       2013.226027    0.479623    0.255205    0.005377     0.069863   \n",
       "std           1.188551    1.055389    0.564480    0.011878     0.146965   \n",
       "min        2012.000000    0.000000    0.000000    0.000000     0.000000   \n",
       "25%        2012.000000    0.050000    0.020000    0.000000     0.010000   \n",
       "50%        2013.000000    0.170000    0.100000    0.000000     0.030000   \n",
       "75%        2014.000000    0.480000    0.252500    0.010000     0.072500   \n",
       "max        2016.000000    9.660000    5.140000    0.070000     1.410000   \n",
       "\n",
       "       critic_score  user_score  overall_sales  \n",
       "count    171.000000  235.000000     292.000000  \n",
       "mean      70.871345    6.220851       0.810068  \n",
       "std       14.193861    1.578823       1.712069  \n",
       "min       19.000000    0.700000       0.010000  \n",
       "25%       63.500000    5.250000       0.100000  \n",
       "50%       74.000000    6.500000       0.310000  \n",
       "75%       81.000000    7.400000       0.870000  \n",
       "max       97.000000    8.900000      16.270000  "
      ]
     },
     "execution_count": 40,
     "metadata": {},
     "output_type": "execute_result"
    }
   ],
   "source": [
    "platform = data[data['platform'] == 'X360']\n",
    "platform.describe()"
   ]
  },
  {
   "cell_type": "code",
   "execution_count": 41,
   "metadata": {},
   "outputs": [
    {
     "data": {
      "image/png": "[encoded data removed]",
      "text/plain": [
       "<Figure size 1008x432 with 2 Axes>"
      ]
     },
     "metadata": {
      "needs_background": "light"
     },
     "output_type": "display_data"
    }
   ],
   "source": [
    "# Создание фигуры для двух подграфиков\n",
    "fig, axes = plt.subplots(1, 2, figsize=(14, 6))\n",
    "\n",
    "# Диаграмма рассеяния для оценок критиков\n",
    "sns.scatterplot(x='critic_score', y='overall_sales', data=platform, ax=axes[0], color='blue', alpha=0.6)\n",
    "axes[0].set_title('Влияние оценки критиков на продажи')\n",
    "axes[0].set_xlabel('Оценка критиков')\n",
    "axes[0].set_ylabel('Продажи в всех регионах')\n",
    "axes[0].grid(True)\n",
    "# Диаграмма рассеяния для оценок пользователей\n",
    "sns.scatterplot(x='user_score', y='overall_sales', data=platform, ax=axes[1], color='orange', alpha=0.6)\n",
    "axes[1].set_title('Влияние оценки пользователей на продажи')\n",
    "axes[1].set_xlabel('Оценка пользователей')\n",
    "axes[1].set_ylabel('Продажи во всех регионах')\n",
    "axes[1].grid(True)\n",
    "\n",
    "# Отображение графиков\n",
    "plt.tight_layout()\n",
    "plt.show()"
   ]
  },
  {
   "cell_type": "markdown",
   "metadata": {},
   "source": [
    "Здесь также наблюдается влияние оценок критиков и пользователей на продажи. Если оценка критиков больше 70, то продажи увеличиваются.  Если оценка пользователей больше 6, то продажи увеличиваются"
   ]
  },
  {
   "cell_type": "code",
   "execution_count": 42,
   "metadata": {},
   "outputs": [
    {
     "data": {
      "text/plain": [
       "0.3605734888507336"
      ]
     },
     "execution_count": 42,
     "metadata": {},
     "output_type": "execute_result"
    }
   ],
   "source": [
    "critic_corr = platform['critic_score'].corr(platform['overall_sales'])\n",
    "critic_corr"
   ]
  },
  {
   "cell_type": "code",
   "execution_count": 43,
   "metadata": {},
   "outputs": [
    {
     "data": {
      "text/plain": [
       "0.006163978646213326"
      ]
     },
     "execution_count": 43,
     "metadata": {},
     "output_type": "execute_result"
    }
   ],
   "source": [
    "user_corr = platform['user_score'].corr(platform['overall_sales'])\n",
    "user_corr"
   ]
  },
  {
   "cell_type": "markdown",
   "metadata": {},
   "source": [
    "Если говорить о коэффициенте корреляции, то наблюдается прямая зависимость на продажи в регионах, хоть и незначительная, но есть. Как и следовало ожидать, влияние оценок критиков больше, чем влияние оценок пользователей."
   ]
  },
  {
   "cell_type": "code",
   "execution_count": 44,
   "metadata": {},
   "outputs": [
    {
     "data": {
      "text/html": [
       "<div>\n",
       "<style scoped>\n",
       "    .dataframe tbody tr th:only-of-type {\n",
       "        vertical-align: middle;\n",
       "    }\n",
       "\n",
       "    .dataframe tbody tr th {\n",
       "        vertical-align: top;\n",
       "    }\n",
       "\n",
       "    .dataframe thead th {\n",
       "        text-align: right;\n",
       "    }\n",
       "</style>\n",
       "<table border=\"1\" class=\"dataframe\">\n",
       "  <thead>\n",
       "    <tr style=\"text-align: right;\">\n",
       "      <th></th>\n",
       "      <th>year_of_release</th>\n",
       "      <th>na_sales</th>\n",
       "      <th>eu_sales</th>\n",
       "      <th>jp_sales</th>\n",
       "      <th>other_sales</th>\n",
       "      <th>critic_score</th>\n",
       "      <th>user_score</th>\n",
       "      <th>overall_sales</th>\n",
       "    </tr>\n",
       "  </thead>\n",
       "  <tbody>\n",
       "    <tr>\n",
       "      <th>count</th>\n",
       "      <td>392.000000</td>\n",
       "      <td>392.000000</td>\n",
       "      <td>392.000000</td>\n",
       "      <td>392.000000</td>\n",
       "      <td>392.000000</td>\n",
       "      <td>252.000000</td>\n",
       "      <td>257.000000</td>\n",
       "      <td>392.000000</td>\n",
       "    </tr>\n",
       "    <tr>\n",
       "      <th>mean</th>\n",
       "      <td>2015.145408</td>\n",
       "      <td>0.277398</td>\n",
       "      <td>0.359923</td>\n",
       "      <td>0.040714</td>\n",
       "      <td>0.123342</td>\n",
       "      <td>72.091270</td>\n",
       "      <td>6.748249</td>\n",
       "      <td>0.801378</td>\n",
       "    </tr>\n",
       "    <tr>\n",
       "      <th>std</th>\n",
       "      <td>0.868181</td>\n",
       "      <td>0.583723</td>\n",
       "      <td>0.810843</td>\n",
       "      <td>0.069101</td>\n",
       "      <td>0.254825</td>\n",
       "      <td>12.485992</td>\n",
       "      <td>1.459481</td>\n",
       "      <td>1.609456</td>\n",
       "    </tr>\n",
       "    <tr>\n",
       "      <th>min</th>\n",
       "      <td>2013.000000</td>\n",
       "      <td>0.000000</td>\n",
       "      <td>0.000000</td>\n",
       "      <td>0.000000</td>\n",
       "      <td>0.000000</td>\n",
       "      <td>19.000000</td>\n",
       "      <td>1.500000</td>\n",
       "      <td>0.010000</td>\n",
       "    </tr>\n",
       "    <tr>\n",
       "      <th>25%</th>\n",
       "      <td>2015.000000</td>\n",
       "      <td>0.007500</td>\n",
       "      <td>0.000000</td>\n",
       "      <td>0.000000</td>\n",
       "      <td>0.010000</td>\n",
       "      <td>66.000000</td>\n",
       "      <td>6.100000</td>\n",
       "      <td>0.060000</td>\n",
       "    </tr>\n",
       "    <tr>\n",
       "      <th>50%</th>\n",
       "      <td>2015.000000</td>\n",
       "      <td>0.060000</td>\n",
       "      <td>0.080000</td>\n",
       "      <td>0.010000</td>\n",
       "      <td>0.030000</td>\n",
       "      <td>73.000000</td>\n",
       "      <td>7.000000</td>\n",
       "      <td>0.200000</td>\n",
       "    </tr>\n",
       "    <tr>\n",
       "      <th>75%</th>\n",
       "      <td>2016.000000</td>\n",
       "      <td>0.260000</td>\n",
       "      <td>0.300000</td>\n",
       "      <td>0.050000</td>\n",
       "      <td>0.110000</td>\n",
       "      <td>80.000000</td>\n",
       "      <td>7.800000</td>\n",
       "      <td>0.730000</td>\n",
       "    </tr>\n",
       "    <tr>\n",
       "      <th>max</th>\n",
       "      <td>2016.000000</td>\n",
       "      <td>6.030000</td>\n",
       "      <td>6.310000</td>\n",
       "      <td>0.490000</td>\n",
       "      <td>2.380000</td>\n",
       "      <td>97.000000</td>\n",
       "      <td>9.200000</td>\n",
       "      <td>14.630000</td>\n",
       "    </tr>\n",
       "  </tbody>\n",
       "</table>\n",
       "</div>"
      ],
      "text/plain": [
       "       year_of_release    na_sales    eu_sales    jp_sales  other_sales  \\\n",
       "count       392.000000  392.000000  392.000000  392.000000   392.000000   \n",
       "mean       2015.145408    0.277398    0.359923    0.040714     0.123342   \n",
       "std           0.868181    0.583723    0.810843    0.069101     0.254825   \n",
       "min        2013.000000    0.000000    0.000000    0.000000     0.000000   \n",
       "25%        2015.000000    0.007500    0.000000    0.000000     0.010000   \n",
       "50%        2015.000000    0.060000    0.080000    0.010000     0.030000   \n",
       "75%        2016.000000    0.260000    0.300000    0.050000     0.110000   \n",
       "max        2016.000000    6.030000    6.310000    0.490000     2.380000   \n",
       "\n",
       "       critic_score  user_score  overall_sales  \n",
       "count    252.000000  257.000000     392.000000  \n",
       "mean      72.091270    6.748249       0.801378  \n",
       "std       12.485992    1.459481       1.609456  \n",
       "min       19.000000    1.500000       0.010000  \n",
       "25%       66.000000    6.100000       0.060000  \n",
       "50%       73.000000    7.000000       0.200000  \n",
       "75%       80.000000    7.800000       0.730000  \n",
       "max       97.000000    9.200000      14.630000  "
      ]
     },
     "execution_count": 44,
     "metadata": {},
     "output_type": "execute_result"
    }
   ],
   "source": [
    "platform = data[data['platform'] == 'PS4']\n",
    "platform.describe()"
   ]
  },
  {
   "cell_type": "code",
   "execution_count": 45,
   "metadata": {},
   "outputs": [
    {
     "data": {
      "image/png": "[encoded data removed]",
      "text/plain": [
       "<Figure size 1008x432 with 2 Axes>"
      ]
     },
     "metadata": {
      "needs_background": "light"
     },
     "output_type": "display_data"
    }
   ],
   "source": [
    "# Создание фигуры для двух подграфиков\n",
    "fig, axes = plt.subplots(1, 2, figsize=(14, 6))\n",
    "\n",
    "# Диаграмма рассеяния для оценок критиков\n",
    "sns.scatterplot(x='critic_score', y='overall_sales', data=platform, ax=axes[0], color='blue', alpha=0.6)\n",
    "axes[0].set_title('Влияние оценки критиков на продажи')\n",
    "axes[0].set_xlabel('Оценка критиков')\n",
    "axes[0].set_ylabel('Продажи в всех регионах')\n",
    "axes[0].grid(True)\n",
    "# Диаграмма рассеяния для оценок пользователей\n",
    "sns.scatterplot(x='user_score', y='overall_sales', data=platform, ax=axes[1], color='orange', alpha=0.6)\n",
    "axes[1].set_title('Влияние оценки пользователей на продажи')\n",
    "axes[1].set_xlabel('Оценка пользователей')\n",
    "axes[1].set_ylabel('Продажи во всех регионах')\n",
    "axes[1].grid(True)\n",
    "\n",
    "# Отображение графиков\n",
    "plt.tight_layout()\n",
    "plt.show()"
   ]
  },
  {
   "cell_type": "markdown",
   "metadata": {},
   "source": [
    "Видим, что есть влияние оценок критиков. Если оценка критиков больше 65, то продажи увеличиваются. Если говорить об оценках пользователей, то сложно найти какую-то зависимость, ее скорее нет"
   ]
  },
  {
   "cell_type": "code",
   "execution_count": 46,
   "metadata": {},
   "outputs": [
    {
     "data": {
      "text/plain": [
       "0.40656790206178095"
      ]
     },
     "execution_count": 46,
     "metadata": {},
     "output_type": "execute_result"
    }
   ],
   "source": [
    "critic_corr = platform['critic_score'].corr(platform['overall_sales'])\n",
    "critic_corr"
   ]
  },
  {
   "cell_type": "code",
   "execution_count": 47,
   "metadata": {},
   "outputs": [
    {
     "data": {
      "text/plain": [
       "-0.031957110204556376"
      ]
     },
     "execution_count": 47,
     "metadata": {},
     "output_type": "execute_result"
    }
   ],
   "source": [
    "platform['user_score'].corr(platform['overall_sales'])"
   ]
  },
  {
   "cell_type": "markdown",
   "metadata": {},
   "source": [
    "Если говорить о коэффициенте корреляции, то наблюдается прямая зависимость оценок критиков на продажи в регионах. Оценки пользователей имеют незначительную отрицательную зависимость."
   ]
  },
  {
   "cell_type": "code",
   "execution_count": 48,
   "metadata": {},
   "outputs": [
    {
     "data": {
      "text/html": [
       "<div>\n",
       "<style scoped>\n",
       "    .dataframe tbody tr th:only-of-type {\n",
       "        vertical-align: middle;\n",
       "    }\n",
       "\n",
       "    .dataframe tbody tr th {\n",
       "        vertical-align: top;\n",
       "    }\n",
       "\n",
       "    .dataframe thead th {\n",
       "        text-align: right;\n",
       "    }\n",
       "</style>\n",
       "<table border=\"1\" class=\"dataframe\">\n",
       "  <thead>\n",
       "    <tr style=\"text-align: right;\">\n",
       "      <th></th>\n",
       "      <th>year_of_release</th>\n",
       "      <th>na_sales</th>\n",
       "      <th>eu_sales</th>\n",
       "      <th>jp_sales</th>\n",
       "      <th>other_sales</th>\n",
       "      <th>critic_score</th>\n",
       "      <th>user_score</th>\n",
       "      <th>overall_sales</th>\n",
       "    </tr>\n",
       "  </thead>\n",
       "  <tbody>\n",
       "    <tr>\n",
       "      <th>count</th>\n",
       "      <td>247.000000</td>\n",
       "      <td>247.000000</td>\n",
       "      <td>247.000000</td>\n",
       "      <td>247.000000</td>\n",
       "      <td>247.000000</td>\n",
       "      <td>169.000000</td>\n",
       "      <td>182.000000</td>\n",
       "      <td>247.000000</td>\n",
       "    </tr>\n",
       "    <tr>\n",
       "      <th>mean</th>\n",
       "      <td>2014.951417</td>\n",
       "      <td>0.377004</td>\n",
       "      <td>0.208866</td>\n",
       "      <td>0.001377</td>\n",
       "      <td>0.057773</td>\n",
       "      <td>73.325444</td>\n",
       "      <td>6.521429</td>\n",
       "      <td>0.645020</td>\n",
       "    </tr>\n",
       "    <tr>\n",
       "      <th>std</th>\n",
       "      <td>0.952995</td>\n",
       "      <td>0.630618</td>\n",
       "      <td>0.365306</td>\n",
       "      <td>0.005153</td>\n",
       "      <td>0.094221</td>\n",
       "      <td>12.953465</td>\n",
       "      <td>1.380941</td>\n",
       "      <td>1.036139</td>\n",
       "    </tr>\n",
       "    <tr>\n",
       "      <th>min</th>\n",
       "      <td>2013.000000</td>\n",
       "      <td>0.000000</td>\n",
       "      <td>0.000000</td>\n",
       "      <td>0.000000</td>\n",
       "      <td>0.000000</td>\n",
       "      <td>20.000000</td>\n",
       "      <td>1.600000</td>\n",
       "      <td>0.010000</td>\n",
       "    </tr>\n",
       "    <tr>\n",
       "      <th>25%</th>\n",
       "      <td>2014.000000</td>\n",
       "      <td>0.030000</td>\n",
       "      <td>0.020000</td>\n",
       "      <td>0.000000</td>\n",
       "      <td>0.010000</td>\n",
       "      <td>66.000000</td>\n",
       "      <td>5.800000</td>\n",
       "      <td>0.060000</td>\n",
       "    </tr>\n",
       "    <tr>\n",
       "      <th>50%</th>\n",
       "      <td>2015.000000</td>\n",
       "      <td>0.120000</td>\n",
       "      <td>0.070000</td>\n",
       "      <td>0.000000</td>\n",
       "      <td>0.020000</td>\n",
       "      <td>76.000000</td>\n",
       "      <td>6.800000</td>\n",
       "      <td>0.220000</td>\n",
       "    </tr>\n",
       "    <tr>\n",
       "      <th>75%</th>\n",
       "      <td>2016.000000</td>\n",
       "      <td>0.385000</td>\n",
       "      <td>0.220000</td>\n",
       "      <td>0.000000</td>\n",
       "      <td>0.060000</td>\n",
       "      <td>82.000000</td>\n",
       "      <td>7.500000</td>\n",
       "      <td>0.685000</td>\n",
       "    </tr>\n",
       "    <tr>\n",
       "      <th>max</th>\n",
       "      <td>2016.000000</td>\n",
       "      <td>4.590000</td>\n",
       "      <td>2.190000</td>\n",
       "      <td>0.040000</td>\n",
       "      <td>0.680000</td>\n",
       "      <td>97.000000</td>\n",
       "      <td>9.200000</td>\n",
       "      <td>7.390000</td>\n",
       "    </tr>\n",
       "  </tbody>\n",
       "</table>\n",
       "</div>"
      ],
      "text/plain": [
       "       year_of_release    na_sales    eu_sales    jp_sales  other_sales  \\\n",
       "count       247.000000  247.000000  247.000000  247.000000   247.000000   \n",
       "mean       2014.951417    0.377004    0.208866    0.001377     0.057773   \n",
       "std           0.952995    0.630618    0.365306    0.005153     0.094221   \n",
       "min        2013.000000    0.000000    0.000000    0.000000     0.000000   \n",
       "25%        2014.000000    0.030000    0.020000    0.000000     0.010000   \n",
       "50%        2015.000000    0.120000    0.070000    0.000000     0.020000   \n",
       "75%        2016.000000    0.385000    0.220000    0.000000     0.060000   \n",
       "max        2016.000000    4.590000    2.190000    0.040000     0.680000   \n",
       "\n",
       "       critic_score  user_score  overall_sales  \n",
       "count    169.000000  182.000000     247.000000  \n",
       "mean      73.325444    6.521429       0.645020  \n",
       "std       12.953465    1.380941       1.036139  \n",
       "min       20.000000    1.600000       0.010000  \n",
       "25%       66.000000    5.800000       0.060000  \n",
       "50%       76.000000    6.800000       0.220000  \n",
       "75%       82.000000    7.500000       0.685000  \n",
       "max       97.000000    9.200000       7.390000  "
      ]
     },
     "execution_count": 48,
     "metadata": {},
     "output_type": "execute_result"
    }
   ],
   "source": [
    "platform = data[data['platform'] == 'XOne']\n",
    "platform.describe()"
   ]
  },
  {
   "cell_type": "code",
   "execution_count": 49,
   "metadata": {},
   "outputs": [
    {
     "data": {
      "image/png": "[encoded data removed]",
      "text/plain": [
       "<Figure size 1008x432 with 2 Axes>"
      ]
     },
     "metadata": {
      "needs_background": "light"
     },
     "output_type": "display_data"
    }
   ],
   "source": [
    "# Создание фигуры для двух подграфиков\n",
    "fig, axes = plt.subplots(1, 2, figsize=(14, 6))\n",
    "\n",
    "# Диаграмма рассеяния для оценок критиков\n",
    "sns.scatterplot(x='critic_score', y='overall_sales', data=platform, ax=axes[0], color='blue', alpha=0.6)\n",
    "axes[0].set_title('Влияние оценки критиков на продажи')\n",
    "axes[0].set_xlabel('Оценка критиков')\n",
    "axes[0].set_ylabel('Продажи в всех регионах')\n",
    "axes[0].grid(True)\n",
    "# Диаграмма рассеяния для оценок пользователей\n",
    "sns.scatterplot(x='user_score', y='overall_sales', data=platform, ax=axes[1], color='orange', alpha=0.6)\n",
    "axes[1].set_title('Влияние оценки пользователей на продажи')\n",
    "axes[1].set_xlabel('Оценка пользователей')\n",
    "axes[1].set_ylabel('Продажи во всех регионах')\n",
    "axes[1].grid(True)\n",
    "\n",
    "# Отображение графиков\n",
    "plt.tight_layout()\n",
    "plt.show()"
   ]
  },
  {
   "cell_type": "code",
   "execution_count": 50,
   "metadata": {},
   "outputs": [
    {
     "data": {
      "text/plain": [
       "0.4169983280084017"
      ]
     },
     "execution_count": 50,
     "metadata": {},
     "output_type": "execute_result"
    }
   ],
   "source": [
    "platform['critic_score'].corr(platform['overall_sales'])"
   ]
  },
  {
   "cell_type": "code",
   "execution_count": 51,
   "metadata": {},
   "outputs": [
    {
     "data": {
      "text/plain": [
       "-0.06892505328279414"
      ]
     },
     "execution_count": 51,
     "metadata": {},
     "output_type": "execute_result"
    }
   ],
   "source": [
    "platform['user_score'].corr(platform['overall_sales'])"
   ]
  },
  {
   "cell_type": "markdown",
   "metadata": {},
   "source": [
    "Если говорить о коэффициенте корреляции, то наблюдается прямая зависимость оценок критиков на продажи в регионах. Оценки пользователей имеют незначительную отрицательную зависимость."
   ]
  },
  {
   "cell_type": "markdown",
   "metadata": {},
   "source": [
    "Проанализировав несколько платформ, можно прийти к выводу, что действительно наблюдается некая зависимость между оценками критиков/пользователей и продажами в регионах. Оценка пользователей не всегда влияет на продажи, в то время как оценки критиков влияют на продажи в значительной степени."
   ]
  },
  {
   "cell_type": "markdown",
   "metadata": {},
   "source": [
    "<div class=\"alert alert-success\">\n",
    "<b>✔️ Комментарий ревьюера v1:</b> \n",
    "<br>Верно! Оценки критиков имеют большее влияние на продажи, чем оценки пользователей.\n",
    "</div>"
   ]
  },
  {
   "cell_type": "markdown",
   "metadata": {},
   "source": [
    "**Анализ влияния жанров игр на продажи**"
   ]
  },
  {
   "cell_type": "code",
   "execution_count": 52,
   "metadata": {},
   "outputs": [
    {
     "data": {
      "text/plain": [
       "genre\n",
       "Action          441.12\n",
       "Shooter         304.73\n",
       "Role-Playing    192.80\n",
       "Sports          181.06\n",
       "Misc             85.04\n",
       "Platform         61.00\n",
       "Racing           53.50\n",
       "Fighting         44.49\n",
       "Simulation       35.12\n",
       "Adventure        29.43\n",
       "Strategy         13.34\n",
       "Puzzle            4.89\n",
       "Name: overall_sales, dtype: float64"
      ]
     },
     "execution_count": 52,
     "metadata": {},
     "output_type": "execute_result"
    }
   ],
   "source": [
    "genre_data = data.groupby('genre')['overall_sales'].sum().sort_values(ascending=False)\n",
    "genre_data"
   ]
  },
  {
   "cell_type": "code",
   "execution_count": 53,
   "metadata": {},
   "outputs": [
    {
     "data": {
      "text/plain": [
       "Text(0, 0.5, 'Продажи в регионах')"
      ]
     },
     "execution_count": 53,
     "metadata": {},
     "output_type": "execute_result"
    },
    {
     "data": {
      "image/png": "[encoded data removed]",
      "text/plain": [
       "<Figure size 1080x720 with 1 Axes>"
      ]
     },
     "metadata": {
      "needs_background": "light"
     },
     "output_type": "display_data"
    }
   ],
   "source": [
    "plt.figure(figsize=(15, 10))\n",
    "sns.barplot(x=genre_data.index, y=genre_data.values, palette='viridis')\n",
    "plt.title('Влияние жанра игры на количество продаж')\n",
    "plt.xlabel('Жанры')\n",
    "plt.ylabel('Продажи в регионах')"
   ]
  },
  {
   "cell_type": "markdown",
   "metadata": {},
   "source": [
    "По графику можно увидеть, что от жанра может зависеть количество продаж. Так самые прибыльные жанры: action, sports, shooter. Также можно отметить жанры с наиболее низкими продажами: adventure, strategy, puzzle"
   ]
  },
  {
   "cell_type": "code",
   "execution_count": 54,
   "metadata": {},
   "outputs": [
    {
     "data": {
      "text/plain": [
       "count     12.000000\n",
       "mean     120.543333\n",
       "std      135.220112\n",
       "min        4.890000\n",
       "25%       33.697500\n",
       "50%       57.250000\n",
       "75%      183.995000\n",
       "max      441.120000\n",
       "Name: overall_sales, dtype: float64"
      ]
     },
     "execution_count": 54,
     "metadata": {},
     "output_type": "execute_result"
    }
   ],
   "source": [
    "genre_data.describe()"
   ]
  },
  {
   "cell_type": "code",
   "execution_count": 55,
   "metadata": {},
   "outputs": [
    {
     "data": {
      "image/png": "[encoded data removed]",
      "text/plain": [
       "<Figure size 1080x360 with 1 Axes>"
      ]
     },
     "metadata": {
      "needs_background": "light"
     },
     "output_type": "display_data"
    }
   ],
   "source": [
    "plt.figure(figsize=(15, 5))\n",
    "sns.boxplot(x='genre', y='overall_sales', data=data)\n",
    "plt.title('Влияние жанра игры на количество продаж')\n",
    "plt.xlabel('Жанры')\n",
    "plt.ylabel('Продажи в регионах')\n",
    "plt.xticks(rotation=45) \n",
    "plt.ylim(-1, 10)\n",
    "plt.grid(True)\n",
    "plt.show()"
   ]
  },
  {
   "cell_type": "markdown",
   "metadata": {},
   "source": [
    "По данному графику можно сказать, что наиболее прибыльными  являются: shooter, action, sports. Наименее прибыльные:\n",
    "adventure, puzzle, strategy. У shooter наблюдается наибольшее максимальное значение и медиана. Отбросим жанры с наименьшими продажами"
   ]
  },
  {
   "cell_type": "code",
   "execution_count": 56,
   "metadata": {},
   "outputs": [
    {
     "data": {
      "text/html": [
       "<div>\n",
       "<style scoped>\n",
       "    .dataframe tbody tr th:only-of-type {\n",
       "        vertical-align: middle;\n",
       "    }\n",
       "\n",
       "    .dataframe tbody tr th {\n",
       "        vertical-align: top;\n",
       "    }\n",
       "\n",
       "    .dataframe thead th {\n",
       "        text-align: right;\n",
       "    }\n",
       "</style>\n",
       "<table border=\"1\" class=\"dataframe\">\n",
       "  <thead>\n",
       "    <tr style=\"text-align: right;\">\n",
       "      <th></th>\n",
       "      <th>name</th>\n",
       "      <th>platform</th>\n",
       "      <th>year_of_release</th>\n",
       "      <th>genre</th>\n",
       "      <th>na_sales</th>\n",
       "      <th>eu_sales</th>\n",
       "      <th>jp_sales</th>\n",
       "      <th>other_sales</th>\n",
       "      <th>critic_score</th>\n",
       "      <th>user_score</th>\n",
       "      <th>rating</th>\n",
       "      <th>overall_sales</th>\n",
       "    </tr>\n",
       "  </thead>\n",
       "  <tbody>\n",
       "    <tr>\n",
       "      <th>16</th>\n",
       "      <td>Grand Theft Auto V</td>\n",
       "      <td>PS3</td>\n",
       "      <td>2013</td>\n",
       "      <td>Action</td>\n",
       "      <td>7.02</td>\n",
       "      <td>9.09</td>\n",
       "      <td>0.98</td>\n",
       "      <td>3.96</td>\n",
       "      <td>97.0</td>\n",
       "      <td>8.2</td>\n",
       "      <td>M</td>\n",
       "      <td>21.05</td>\n",
       "    </tr>\n",
       "    <tr>\n",
       "      <th>23</th>\n",
       "      <td>Grand Theft Auto V</td>\n",
       "      <td>X360</td>\n",
       "      <td>2013</td>\n",
       "      <td>Action</td>\n",
       "      <td>9.66</td>\n",
       "      <td>5.14</td>\n",
       "      <td>0.06</td>\n",
       "      <td>1.41</td>\n",
       "      <td>97.0</td>\n",
       "      <td>8.1</td>\n",
       "      <td>M</td>\n",
       "      <td>16.27</td>\n",
       "    </tr>\n",
       "    <tr>\n",
       "      <th>31</th>\n",
       "      <td>Call of Duty: Black Ops 3</td>\n",
       "      <td>PS4</td>\n",
       "      <td>2015</td>\n",
       "      <td>Shooter</td>\n",
       "      <td>6.03</td>\n",
       "      <td>5.86</td>\n",
       "      <td>0.36</td>\n",
       "      <td>2.38</td>\n",
       "      <td>NaN</td>\n",
       "      <td>NaN</td>\n",
       "      <td>NaN</td>\n",
       "      <td>14.63</td>\n",
       "    </tr>\n",
       "    <tr>\n",
       "      <th>33</th>\n",
       "      <td>Pokemon X/Pokemon Y</td>\n",
       "      <td>3DS</td>\n",
       "      <td>2013</td>\n",
       "      <td>Role-Playing</td>\n",
       "      <td>5.28</td>\n",
       "      <td>4.19</td>\n",
       "      <td>4.35</td>\n",
       "      <td>0.78</td>\n",
       "      <td>NaN</td>\n",
       "      <td>NaN</td>\n",
       "      <td>NaN</td>\n",
       "      <td>14.60</td>\n",
       "    </tr>\n",
       "    <tr>\n",
       "      <th>34</th>\n",
       "      <td>Call of Duty: Black Ops II</td>\n",
       "      <td>PS3</td>\n",
       "      <td>2012</td>\n",
       "      <td>Shooter</td>\n",
       "      <td>4.99</td>\n",
       "      <td>5.73</td>\n",
       "      <td>0.65</td>\n",
       "      <td>2.42</td>\n",
       "      <td>83.0</td>\n",
       "      <td>5.3</td>\n",
       "      <td>M</td>\n",
       "      <td>13.79</td>\n",
       "    </tr>\n",
       "  </tbody>\n",
       "</table>\n",
       "</div>"
      ],
      "text/plain": [
       "                          name platform  year_of_release         genre  \\\n",
       "16          Grand Theft Auto V      PS3             2013        Action   \n",
       "23          Grand Theft Auto V     X360             2013        Action   \n",
       "31   Call of Duty: Black Ops 3      PS4             2015       Shooter   \n",
       "33         Pokemon X/Pokemon Y      3DS             2013  Role-Playing   \n",
       "34  Call of Duty: Black Ops II      PS3             2012       Shooter   \n",
       "\n",
       "    na_sales  eu_sales  jp_sales  other_sales  critic_score  user_score  \\\n",
       "16      7.02      9.09      0.98         3.96          97.0         8.2   \n",
       "23      9.66      5.14      0.06         1.41          97.0         8.1   \n",
       "31      6.03      5.86      0.36         2.38           NaN         NaN   \n",
       "33      5.28      4.19      4.35         0.78           NaN         NaN   \n",
       "34      4.99      5.73      0.65         2.42          83.0         5.3   \n",
       "\n",
       "   rating  overall_sales  \n",
       "16      M          21.05  \n",
       "23      M          16.27  \n",
       "31    NaN          14.63  \n",
       "33    NaN          14.60  \n",
       "34      M          13.79  "
      ]
     },
     "execution_count": 56,
     "metadata": {},
     "output_type": "execute_result"
    }
   ],
   "source": [
    "non_profitable_genres = ['adventure', 'puzzle', 'strategy']\n",
    "data = data[~data['genre'].isin(non_profitable_genres)]\n",
    "data.head()"
   ]
  },
  {
   "cell_type": "markdown",
   "metadata": {},
   "source": [
    "<div class=\"alert alert-danger\">\n",
    "<b>❌ Комментарий ревьюера v1:</b> \n",
    "<br>Для определение наиболее прибыльного жанра нужно посмотреть не только общие продажи, но ещё среднее и медиану. Таким способом мы сможем найти жанр, где игры стабильно приносят высокий доход отбросив игры с низкими продажами. Как вариант. можно ещё построить boxplot, чтобы посмотреть на распределение.  \n",
    "</div>"
   ]
  },
  {
   "cell_type": "markdown",
   "metadata": {},
   "source": [
    "<div class=\"alert alert-info\">\n",
    "<b>Комментарий студента:</b>\n",
    "<br>Добавила boxplot, рассмотрела среднее и медиану, отбросила жанры с низкими продажами\n",
    "</div>"
   ]
  },
  {
   "cell_type": "markdown",
   "metadata": {},
   "source": [
    "<div class=\"alert alert-success\">\n",
    "<b>✔️ Комментарий ревьюера v2:</b>\n",
    "<br>Правка выполнена 👍\n",
    "</div>"
   ]
  },
  {
   "cell_type": "markdown",
   "metadata": {},
   "source": [
    "# Шаг 4. Составляем портрет пользователя каждого региона #"
   ]
  },
  {
   "cell_type": "markdown",
   "metadata": {},
   "source": [
    "**Самые популярные платформы**"
   ]
  },
  {
   "cell_type": "code",
   "execution_count": 57,
   "metadata": {},
   "outputs": [
    {
     "data": {
      "text/plain": [
       "platform\n",
       "X360    140.05\n",
       "PS4     108.74\n",
       "PS3     103.38\n",
       "XOne     93.12\n",
       "3DS      55.31\n",
       "Name: na_sales, dtype: float64"
      ]
     },
     "execution_count": 57,
     "metadata": {},
     "output_type": "execute_result"
    }
   ],
   "source": [
    "top_platform_na = data.groupby('platform')['na_sales'].sum().nlargest(5)\n",
    "top_platform_na"
   ]
  },
  {
   "cell_type": "code",
   "execution_count": 58,
   "metadata": {},
   "outputs": [
    {
     "data": {
      "image/png": "[encoded data removed]",
      "text/plain": [
       "<Figure size 432x288 with 1 Axes>"
      ]
     },
     "metadata": {},
     "output_type": "display_data"
    }
   ],
   "source": [
    "top_platform_na.plot.pie(y='Значение', labels=top_platform_na.index, autopct='%1.1f%%', startangle=90)\n",
    "plt.title('Соотношение продаж по платформам в Северной Америке')\n",
    "plt.axis('equal')\n",
    "plt.xlabel('Соотношение')\n",
    "plt.ylabel('Платформа')\n",
    "plt.show()"
   ]
  },
  {
   "cell_type": "markdown",
   "metadata": {},
   "source": [
    "Вывели топ-5 самых популярных платформ в Северной Америке. По диаграмме видно, что самая популярная платформа -  X360. "
   ]
  },
  {
   "cell_type": "code",
   "execution_count": 59,
   "metadata": {},
   "outputs": [
    {
     "data": {
      "text/plain": [
       "platform\n",
       "PS4     141.09\n",
       "PS3     106.85\n",
       "X360     74.52\n",
       "XOne     51.59\n",
       "3DS      42.64\n",
       "Name: eu_sales, dtype: float64"
      ]
     },
     "execution_count": 59,
     "metadata": {},
     "output_type": "execute_result"
    }
   ],
   "source": [
    "top_platform_eu = data.groupby('platform')['eu_sales'].sum().nlargest(5)\n",
    "top_platform_eu"
   ]
  },
  {
   "cell_type": "code",
   "execution_count": 60,
   "metadata": {},
   "outputs": [
    {
     "data": {
      "image/png": "[encoded data removed]",
      "text/plain": [
       "<Figure size 432x288 with 1 Axes>"
      ]
     },
     "metadata": {},
     "output_type": "display_data"
    }
   ],
   "source": [
    "top_platform_eu.plot.pie(y='Значение', labels=top_platform_eu.index, autopct='%1.1f%%', startangle=90)\n",
    "plt.title('Соотношение продаж по платформам в Европе')\n",
    "plt.axis('equal')\n",
    "plt.xlabel('Соотношение')\n",
    "plt.ylabel('Платформа')\n",
    "plt.show()"
   ]
  },
  {
   "cell_type": "markdown",
   "metadata": {},
   "source": [
    "Вывели топ-5 самых популярных платформ в Европе. По диаграмме видно, что самая популярная платформа - PS4."
   ]
  },
  {
   "cell_type": "code",
   "execution_count": 61,
   "metadata": {},
   "outputs": [
    {
     "data": {
      "text/plain": [
       "platform\n",
       "3DS     87.79\n",
       "PS3     35.29\n",
       "PSV     21.04\n",
       "PS4     15.96\n",
       "WiiU    13.01\n",
       "Name: jp_sales, dtype: float64"
      ]
     },
     "execution_count": 61,
     "metadata": {},
     "output_type": "execute_result"
    }
   ],
   "source": [
    "top_platform_jp = data.groupby('platform')['jp_sales'].sum().nlargest(5)\n",
    "top_platform_jp"
   ]
  },
  {
   "cell_type": "code",
   "execution_count": 62,
   "metadata": {},
   "outputs": [
    {
     "data": {
      "image/png": "[encoded data removed]",
      "text/plain": [
       "<Figure size 432x288 with 1 Axes>"
      ]
     },
     "metadata": {},
     "output_type": "display_data"
    }
   ],
   "source": [
    "top_platform_jp.plot.pie(y='Значение', labels=top_platform_jp.index, autopct='%1.1f%%', startangle=90)\n",
    "plt.title('Соотношение продаж по платформам в Японии')\n",
    "plt.axis('equal')\n",
    "plt.xlabel('Соотношение')\n",
    "plt.ylabel('Платформа')\n",
    "plt.show()"
   ]
  },
  {
   "cell_type": "markdown",
   "metadata": {},
   "source": [
    "Вывели топ-5 самых популярных платформ в Европе. По диаграмме видно, что самая популярная платформа - 3DS, чья доля увернно выше других"
   ]
  },
  {
   "cell_type": "markdown",
   "metadata": {},
   "source": [
    "Проанализировав топ-5 популярных платформ в разных регионах, можно отметить, что во всех регионах лидирующая платформа отличается. Но можно заметить, что везде в пятерке можно наблюдать следующие платформы: PS4, PS3, 3DS другие же платформы варьируются. Самая большая сумма продажи наблюдается в Европе, у платформы PS4 и составляет 141.09. Самая маленькая сумма продажи в Японии, у платформы 3DS и составляет 42.64"
   ]
  },
  {
   "cell_type": "markdown",
   "metadata": {},
   "source": [
    "**Самые популярные жанры**"
   ]
  },
  {
   "cell_type": "code",
   "execution_count": 63,
   "metadata": {},
   "outputs": [
    {
     "data": {
      "text/plain": [
       "genre\n",
       "Action          177.84\n",
       "Shooter         144.77\n",
       "Sports           81.53\n",
       "Role-Playing     64.00\n",
       "Misc             38.19\n",
       "Name: na_sales, dtype: float64"
      ]
     },
     "execution_count": 63,
     "metadata": {},
     "output_type": "execute_result"
    }
   ],
   "source": [
    "top_genre_na = data.groupby('genre')['na_sales'].sum().nlargest(5)\n",
    "top_genre_na"
   ]
  },
  {
   "cell_type": "code",
   "execution_count": 64,
   "metadata": {},
   "outputs": [
    {
     "data": {
      "image/png": "[encoded data removed]",
      "text/plain": [
       "<Figure size 432x288 with 1 Axes>"
      ]
     },
     "metadata": {},
     "output_type": "display_data"
    }
   ],
   "source": [
    "top_genre_na.plot.pie(y='Значение', labels=top_genre_na.index, autopct='%1.1f%%', startangle=90)\n",
    "plt.title('Соотношение продаж по жанрам в Северной Америке')\n",
    "plt.axis('equal')\n",
    "plt.xlabel('Соотношение')\n",
    "plt.ylabel('Жанр')\n",
    "plt.show()"
   ]
  },
  {
   "cell_type": "markdown",
   "metadata": {},
   "source": [
    "Вывели топ-5 популярных жанров в Северной Америке. Самый прибыльный жанр - action, доля этого жанра уверенно выше других"
   ]
  },
  {
   "cell_type": "code",
   "execution_count": 65,
   "metadata": {},
   "outputs": [
    {
     "data": {
      "text/plain": [
       "genre\n",
       "Action          159.34\n",
       "Shooter         113.47\n",
       "Sports           69.08\n",
       "Role-Playing     48.53\n",
       "Racing           27.29\n",
       "Name: eu_sales, dtype: float64"
      ]
     },
     "execution_count": 65,
     "metadata": {},
     "output_type": "execute_result"
    }
   ],
   "source": [
    "top_genre_eu = data.groupby('genre')['eu_sales'].sum().nlargest(5)\n",
    "top_genre_eu"
   ]
  },
  {
   "cell_type": "code",
   "execution_count": 66,
   "metadata": {},
   "outputs": [
    {
     "data": {
      "image/png": "[encoded data removed]",
      "text/plain": [
       "<Figure size 432x288 with 1 Axes>"
      ]
     },
     "metadata": {},
     "output_type": "display_data"
    }
   ],
   "source": [
    "top_genre_eu.plot.pie(y='Значение', labels=top_genre_eu.index, autopct='%1.1f%%', startangle=90)\n",
    "plt.title('Соотношение продаж по жанрам в Европе')\n",
    "plt.axis('equal')\n",
    "plt.xlabel('Соотношение')\n",
    "plt.ylabel('Жанр')\n",
    "plt.show()"
   ]
  },
  {
   "cell_type": "markdown",
   "metadata": {},
   "source": [
    "Вывели топ-5 популярных жанров в Европе. Самый прибыльный жанр - action, доля этого жанра значительно опрежает другие жанры"
   ]
  },
  {
   "cell_type": "code",
   "execution_count": 67,
   "metadata": {},
   "outputs": [
    {
     "data": {
      "text/plain": [
       "genre\n",
       "Role-Playing    65.44\n",
       "Action          52.80\n",
       "Misc            12.86\n",
       "Simulation      10.41\n",
       "Fighting         9.44\n",
       "Name: jp_sales, dtype: float64"
      ]
     },
     "execution_count": 67,
     "metadata": {},
     "output_type": "execute_result"
    }
   ],
   "source": [
    "top_genre_jp = data.groupby('genre')['jp_sales'].sum().nlargest(5)\n",
    "top_genre_jp"
   ]
  },
  {
   "cell_type": "code",
   "execution_count": 68,
   "metadata": {},
   "outputs": [
    {
     "data": {
      "image/png": "[encoded data removed]",
      "text/plain": [
       "<Figure size 432x288 with 1 Axes>"
      ]
     },
     "metadata": {},
     "output_type": "display_data"
    }
   ],
   "source": [
    "top_genre_jp.plot.pie(y='Значение', labels=top_genre_jp.index, autopct='%1.1f%%', startangle=90)\n",
    "plt.title('Соотношение продаж по жанрам в Японии')\n",
    "plt.axis('equal')\n",
    "plt.xlabel('Соотношение')\n",
    "plt.ylabel('Жанр')\n",
    "plt.show()"
   ]
  },
  {
   "cell_type": "markdown",
   "metadata": {},
   "source": [
    "Вывели топ-5 популярных жанров в Японии. Самый прибыльный жанр - role-playing, доля этого жанра значительно опрежает другие жанры"
   ]
  },
  {
   "cell_type": "markdown",
   "metadata": {},
   "source": [
    "Проанализировав соотношение продаж по жанрам в разных регионах, можно отметить, что лидер в Северной Америке и Европе совпадает - action. В Японии - role-playing. Жанр, который попали в топ-5 всех регионов: role-playing"
   ]
  },
  {
   "cell_type": "markdown",
   "metadata": {},
   "source": [
    "**Влияние рейтинга ESRB на продажи**"
   ]
  },
  {
   "cell_type": "code",
   "execution_count": 69,
   "metadata": {},
   "outputs": [
    {
     "data": {
      "text/plain": [
       "rating\n",
       "M       231.57\n",
       "E       114.37\n",
       "E10+     75.70\n",
       "T        66.02\n",
       "Name: na_sales, dtype: float64"
      ]
     },
     "execution_count": 69,
     "metadata": {},
     "output_type": "execute_result"
    }
   ],
   "source": [
    "esrb_na = data.groupby('rating')['na_sales'].sum().nlargest(4)\n",
    "esrb_na.head()"
   ]
  },
  {
   "cell_type": "code",
   "execution_count": 70,
   "metadata": {},
   "outputs": [
    {
     "data": {
      "image/png": "[encoded data removed]",
      "text/plain": [
       "<Figure size 432x288 with 1 Axes>"
      ]
     },
     "metadata": {},
     "output_type": "display_data"
    }
   ],
   "source": [
    "esrb_na.plot(kind='pie', labels=esrb_na.index, autopct='%1.1f%%', startangle=90)\n",
    "plt.title('Влияние рейтинга на продажи в Северной Америке')\n",
    "plt.axis('equal')  \n",
    "plt.xlabel('Соотношение')\n",
    "plt.ylabel('Рейтинг')\n",
    "plt.show()"
   ]
  },
  {
   "cell_type": "code",
   "execution_count": 71,
   "metadata": {},
   "outputs": [
    {
     "data": {
      "text/plain": [
       "rating\n",
       "M       193.96\n",
       "E       113.02\n",
       "E10+     55.37\n",
       "T        52.96\n",
       "Name: eu_sales, dtype: float64"
      ]
     },
     "execution_count": 71,
     "metadata": {},
     "output_type": "execute_result"
    }
   ],
   "source": [
    "esrb_eu = data.groupby('rating')['eu_sales'].sum().nlargest(4)\n",
    "esrb_eu.head()"
   ]
  },
  {
   "cell_type": "code",
   "execution_count": 72,
   "metadata": {},
   "outputs": [
    {
     "data": {
      "image/png": "[encoded data removed]",
      "text/plain": [
       "<Figure size 432x288 with 1 Axes>"
      ]
     },
     "metadata": {},
     "output_type": "display_data"
    }
   ],
   "source": [
    "esrb_eu.plot(kind='pie', labels=esrb_eu.index, autopct='%1.1f%%', startangle=90)\n",
    "plt.title('Влияние рейтинга на продажи в Европе')\n",
    "plt.axis('equal')  \n",
    "plt.xlabel('Соотношение')\n",
    "plt.ylabel('Рейтинг')\n",
    "plt.show()"
   ]
  },
  {
   "cell_type": "code",
   "execution_count": 73,
   "metadata": {},
   "outputs": [
    {
     "data": {
      "text/plain": [
       "rating\n",
       "E       28.33\n",
       "T       26.02\n",
       "M       21.20\n",
       "E10+     8.19\n",
       "Name: jp_sales, dtype: float64"
      ]
     },
     "execution_count": 73,
     "metadata": {},
     "output_type": "execute_result"
    }
   ],
   "source": [
    "esrb_jp = data.groupby('rating')['jp_sales'].sum().nlargest(4)\n",
    "esrb_jp.head()"
   ]
  },
  {
   "cell_type": "code",
   "execution_count": 74,
   "metadata": {},
   "outputs": [
    {
     "data": {
      "image/png": "[encoded data removed]",
      "text/plain": [
       "<Figure size 432x288 with 1 Axes>"
      ]
     },
     "metadata": {},
     "output_type": "display_data"
    }
   ],
   "source": [
    "esrb_jp.plot(kind='pie', labels=esrb_jp.index, autopct='%1.1f%%', startangle=90)\n",
    "plt.title('Влияние рейтинга на продажи в Японии')\n",
    "plt.axis('equal')  \n",
    "plt.xlabel('Соотношение')\n",
    "plt.ylabel('Рейтинг')\n",
    "plt.show()"
   ]
  },
  {
   "cell_type": "markdown",
   "metadata": {},
   "source": [
    "Проанализировов графики влияния рейтинга на продажи в разных регинах, можно заметить, что больше всего продаж, если рейтинг соответсвует M, в Северной Америке и Европе и больше всего продаж если рейтинг Е в Японии. Во всех регионах одинаковые рейтинги, которые влияют на продажи, но только с разным респределением: E, T, M, E10+. Поэтому рейтинг определенно влияет на продажи"
   ]
  },
  {
   "cell_type": "markdown",
   "metadata": {},
   "source": [
    "<div class=\"alert alert-success\">\n",
    "<b>✔️ Комментарий ревьюера v1:</b> \n",
    "<br>Расчеты и выводы верные!\n",
    "</div>"
   ]
  },
  {
   "cell_type": "markdown",
   "metadata": {},
   "source": [
    "# Шаг 5. Проверка гипотез #"
   ]
  },
  {
   "cell_type": "markdown",
   "metadata": {},
   "source": [
    "**Гипотеза 1: Средние пользовательские рейтинги платформ Xbox One и PC одинаковые**"
   ]
  },
  {
   "cell_type": "code",
   "execution_count": 75,
   "metadata": {},
   "outputs": [
    {
     "name": "stdout",
     "output_type": "stream",
     "text": [
      "Средний пользовательский рейтинг платформы Xbox One: 6.521428571428572\n"
     ]
    }
   ],
   "source": [
    "xbox_rating = data[data['platform'] == 'XOne']['user_score']\n",
    "print(f'Средний пользовательский рейтинг платформы Xbox One: {np.mean(xbox_rating)}')"
   ]
  },
  {
   "cell_type": "code",
   "execution_count": 76,
   "metadata": {},
   "outputs": [
    {
     "name": "stdout",
     "output_type": "stream",
     "text": [
      "Средний пользовательский рейтинг платформы PC: 6.428640776699029\n"
     ]
    }
   ],
   "source": [
    "pc_rating = data[data['platform'] == 'PC']['user_score']\n",
    "print(f'Средний пользовательский рейтинг платформы PC: {np.mean(pc_rating)}')"
   ]
  },
  {
   "cell_type": "code",
   "execution_count": 77,
   "metadata": {},
   "outputs": [
    {
     "name": "stdout",
     "output_type": "stream",
     "text": [
      "p-значение:  nan\n",
      "Не отвергаем нулевую гипотезу\n"
     ]
    }
   ],
   "source": [
    "alpha = 0.05\n",
    "results = st.ttest_ind(xbox_rating, pc_rating)\n",
    "print('p-значение: ', results.pvalue)\n",
    "if results.pvalue < alpha:\n",
    "    print('Отвегаем нулевую гипотезу')\n",
    "else:\n",
    "    print('Не отвергаем нулевую гипотезу')"
   ]
  },
  {
   "cell_type": "markdown",
   "metadata": {},
   "source": [
    "**Нулевая гипотеза:**  Средние пользовательские рейтинги платформ Xbox One и PC одинаковые\n",
    "\n",
    "\n",
    "**Альтернативная гипотеза:** Средние пользовательские рейтинги платформ Xbox One и PC разные\n",
    "\n",
    "\n",
    "В этом случае мы применили двустороннюю альтернативную гипотезу, тк будем смотреть различия в обе стороны. Значение alpha возьмем 0.05. Для данного случая применим t-тест для независимых выборок, так как у нас есть две независимые группы (Xbox One и PC). Этот тест позволяет сравнить средние значения двух групп и определить, есть ли статистически значимая разница между ними.\n",
    "В данном случае t-тест не отверг нулевую гипотезу, следовательно средние пользовательские рейтинги платформ Xbox One и PC одинаковые."
   ]
  },
  {
   "cell_type": "markdown",
   "metadata": {},
   "source": [
    "**Гипотеза 2: Средние пользовательские рейтинги жанров Action и Sports разные**"
   ]
  },
  {
   "cell_type": "code",
   "execution_count": 78,
   "metadata": {},
   "outputs": [
    {
     "name": "stdout",
     "output_type": "stream",
     "text": [
      "Средний пользовательский рейтинг жанра Action: 6.825047801147227\n"
     ]
    }
   ],
   "source": [
    "action_rating = data[data['genre'] == 'Action']['user_score']\n",
    "print(f'Средний пользовательский рейтинг жанра Action: {np.mean(action_rating)}')"
   ]
  },
  {
   "cell_type": "code",
   "execution_count": 79,
   "metadata": {},
   "outputs": [
    {
     "name": "stdout",
     "output_type": "stream",
     "text": [
      "Средний пользовательский рейтинг жанра Sports: 5.455670103092784\n"
     ]
    }
   ],
   "source": [
    "sports_rating = data[data['genre'] == 'Sports']['user_score']\n",
    "print(f'Средний пользовательский рейтинг жанра Sports: {np.mean(sports_rating)}')"
   ]
  },
  {
   "cell_type": "code",
   "execution_count": 80,
   "metadata": {},
   "outputs": [
    {
     "name": "stdout",
     "output_type": "stream",
     "text": [
      "p-значение:  nan\n",
      "Не отвергаем нулевую гипотезу\n"
     ]
    }
   ],
   "source": [
    "alpha = 0.05\n",
    "results = st.ttest_ind(action_rating, sports_rating)\n",
    "print('p-значение: ', results.pvalue)\n",
    "if results.pvalue < alpha:\n",
    "    print('Отвегаем нулевую гипотезу')\n",
    "else:\n",
    "    print('Не отвергаем нулевую гипотезу')"
   ]
  },
  {
   "cell_type": "markdown",
   "metadata": {},
   "source": [
    "**Нулевая гипотеза:**  Средние пользовательские рейтинги жанров Action и Sports одинаковые\n",
    "\n",
    "\n",
    "**Альтернативная гипотеза:** Средние пользовательские рейтинги жанров Action и Sports разные\n",
    "\n",
    "\n",
    "В этом случае мы применили двустороннюю альтернативную гипотезу, тк будем смотреть различия в обе стороны. Значение alpha возьмем 0.05. Для данного случая применим t-тест для независимых выборок, так как у нас есть две независимые группы (жанры Action и Sports). Этот тест позволяет сравнить средние значения двух групп и определить, есть ли статистически значимая разница между ними.\n",
    "В данном случае t-тест не отверг нулевую гипотезу, следовательно Средние пользовательские рейтинги платформ Xbox One и PC одинаковые."
   ]
  },
  {
   "cell_type": "markdown",
   "metadata": {},
   "source": [
    "<div class=\"alert alert-danger\">\n",
    "<b>❌ Комментарий ревьюера v1:</b> \n",
    "<br>Расчеты и выводы верные, но нужно их обязательно перепроверить \n",
    "</div>"
   ]
  },
  {
   "cell_type": "markdown",
   "metadata": {},
   "source": [
    "<div class=\"alert alert-info\">\n",
    "<b>Комментарий студента:</b>\n",
    "<br>Перепроверила и подкорретировала\n",
    "</div>"
   ]
  },
  {
   "cell_type": "markdown",
   "metadata": {},
   "source": [
    "<div class=\"alert alert-success\">\n",
    "<b>✔️ Комментарий ревьюера v2:</b>\n",
    "<br>Правка выполнена 👍\n",
    "</div>"
   ]
  },
  {
   "cell_type": "markdown",
   "metadata": {},
   "source": [
    "**Общие выводы:**"
   ]
  },
  {
   "cell_type": "markdown",
   "metadata": {},
   "source": [
    "***1. Предобработка данных***"
   ]
  },
  {
   "cell_type": "markdown",
   "metadata": {},
   "source": [
    "На данном шаге мы привели названия столбцов к нижнему регистру, привели столбцы к корректным типам данных, создали новый столбец с суммарными продажами во всех регионах, проверили наличие пропущенных значений и дубликатов, обработали их"
   ]
  },
  {
   "cell_type": "markdown",
   "metadata": {},
   "source": [
    "***2. Исследовательский анализ данных***"
   ]
  },
  {
   "cell_type": "markdown",
   "metadata": {},
   "source": [
    "На этом шаге мы визуализировали и описывали данные по следующим критериям:\n",
    "\n",
    "- Сколько игр выпускалось в разные годы: выяснили, что больше всего игр было выпущено в период с 2007-2009 год, меньше всего в период с 1980 по 1994\n",
    "- Как менялись продажи по платформам: наибольшие суммарные продажи наблюдаются у следующих платформ: PS4, PS3, X360\n",
    "- Взяли данные за соответствующий актуальный период: актуальным периодом является период с 2012 по 2016\n",
    "- Выяснили какие платформы лидируют по продажам: лидеры по общим продажам: PS3, X360, PS4\n",
    "- Посмотрели, как влияют на продажи внутри одной популярной платформы отзывы пользователей и критиков: Проанализировав несколько платформ, можно прийти к выводу, что действительно наблюдается некая зависимость между оценками критиков/пользователей и продажами в регионах. Оценка пользователей не всегда влияет на продажи, в то время как оценки критиков влияют на продажи в значительной степени.\n",
    "- Посмотрели на общее распределение игр по жанрам: По графику можно увидеть, что от жанра может зависеть количество продаж. Так самые прибыльные жанры: action, sports, shooter. Также можно отметить жанры с наиболее низкими продажами: adventure, strategy, puzzle"
   ]
  },
  {
   "cell_type": "markdown",
   "metadata": {},
   "source": [
    "***3. Составили портрет пользователя каждого региона***"
   ]
  },
  {
   "cell_type": "markdown",
   "metadata": {},
   "source": [
    "Определите для пользователя каждого региона (NA, EU, JP):\n",
    "\n",
    "\n",
    "- Самые популярные платформы (топ-5): Проанализировав топ-5 популярных платформ в разных регионах, можно отметить, что во всех регионах лидирующая платформа отличается. Но можно заметить, что везде в пятерке можно наблюдать следующие платформы: PS4, PS3, 3DS другие же платформы варьируются. Самая большая сумма продажи наблюдается в Европе, у платформы PS4 и составляет 141.09. Самая маленькая сумма продажи в Японии, у платформы 3DS и составляет 42.64\n",
    "- Самые популярные жанры (топ-5): Проанализировав соотношение продаж по жанрам в разных регионах, можно отметить, что лидер в Северной Америке и Европе совпадает - action. В Японии - role-playing. Жанр, который попали в топ-5 всех регионов: role-playing\n",
    "- Влияет ли рейтинг ESRB на продажи в отдельном регионе? Проанализировов графики влияния рейтинга на продажи в разных регинах, можно заметить, что больше всего продаж, если рейтинг соответсвует M, в Северной Америке и Европе и больше всего продаж если рейтинг Е в Японии. Во всех регионах одинаковые рейтинги, которые влияют на продажи, но только с разным респределением: E, T, M, E10+. Поэтому рейтинг определенно влияет на продажи"
   ]
  },
  {
   "cell_type": "markdown",
   "metadata": {},
   "source": [
    "***4. Проверили гипотезы***"
   ]
  },
  {
   "cell_type": "markdown",
   "metadata": {},
   "source": [
    "Здесь мы проверяли следующие гипотезы:\n",
    "    \n",
    "- Средние пользовательские рейтинги платформ Xbox One и PC одинаковые: В данном случае t-тест не отверг нулевую гипотезу, следовательно средние пользовательские рейтинги платформ Xbox One и PC одинаковые.\n",
    "- Средние пользовательские рейтинги жанров Action (англ. «действие», экшен-игры) и Sports (англ. «спортивные соревнования») одинаковые: В данном случае t-тест не отверг нулевую гипотезу, следовательно средние пользовательские рейтинги платформ Xbox One и PC одинаковые."
   ]
  },
  {
   "cell_type": "markdown",
   "metadata": {},
   "source": [
    "***5. Возможные рекомендации***"
   ]
  },
  {
   "cell_type": "markdown",
   "metadata": {},
   "source": [
    "- Регулярный анализ данных: Проводить регулярный анализ пользовательских рейтингов и отзывов, чтобы быстро реагировать на изменения в предпочтениях пользователей.\n",
    "\n",
    "\n",
    "- Обратная связь от пользователей: Активно собирать и анализировать обратную связь от пользователей, чтобы лучше понимать их потребности и ожидания.\n",
    "\n",
    "\n",
    "- Адаптация к трендам: Быть в курсе текущих трендов в игровой индустрии и адаптировать стратегии разработки и маркетинга в соответствии с ними."
   ]
  },
  {
   "cell_type": "markdown",
   "metadata": {},
   "source": [
    "<div class=\"alert alert-danger\">\n",
    "<b>❌ Итоговый комментарий ревьюера v1:</b> \n",
    "<br>Необходимо поправить:\n",
    "<br>- не заполнять пропуски\n",
    "<br>- проверить данные на неявные дубликаты\n",
    "<br>- корректно выбрать актуальный период\n",
    "<br>- корректно определить наиболее прибыльный жанр\n",
    "\n",
    "<br>После всех внесённых правок не забудь поправить выводы там, где это необходимо\n",
    "</div>"
   ]
  },
  {
   "cell_type": "markdown",
   "metadata": {},
   "source": [
    "<div class=\"alert alert-success\">\n",
    "<b>✔️ Итоговый комментарий ревьюера v2:</b>\n",
    "<br>Все правки выполнены. Молодец!\n",
    "<br>Я рад был поработать над проверкой твоей работы) В качестве дополнительного материала для изучения могу порекомендовать следующие материалы, которые помогут прокачаться в визуализации данных:\n",
    "\n",
    "    https://habr.com/ru/company/otus/blog/540526/\n",
    "    https://pythonru.com/biblioteki/seaborn-plot\n",
    "\n",
    "<br>Поздравляю со сдачей проекта и желаю удачи в дальнейшем обучении! 😉    \n",
    "</div>"
   ]
  }
 ],
 "metadata": {
  "ExecuteTimeLog": [
   {
    "duration": 376,
    "start_time": "2025-03-14T07:43:26.151Z"
   },
   {
    "duration": 68,
    "start_time": "2025-03-14T07:44:09.596Z"
   },
   {
    "duration": 20,
    "start_time": "2025-03-14T07:48:16.779Z"
   },
   {
    "duration": 20,
    "start_time": "2025-03-14T07:49:29.779Z"
   },
   {
    "duration": 16,
    "start_time": "2025-03-14T07:49:54.780Z"
   },
   {
    "duration": 8,
    "start_time": "2025-03-14T07:52:26.529Z"
   },
   {
    "duration": 127,
    "start_time": "2025-03-14T07:53:54.130Z"
   },
   {
    "duration": 23,
    "start_time": "2025-03-14T07:54:03.624Z"
   },
   {
    "duration": 29,
    "start_time": "2025-03-14T07:57:25.408Z"
   },
   {
    "duration": 10,
    "start_time": "2025-03-14T07:58:14.397Z"
   },
   {
    "duration": 1640,
    "start_time": "2025-03-14T08:00:46.935Z"
   },
   {
    "duration": 28,
    "start_time": "2025-03-14T08:00:55.895Z"
   },
   {
    "duration": 10,
    "start_time": "2025-03-14T08:02:01.038Z"
   },
   {
    "duration": 13,
    "start_time": "2025-03-14T08:03:14.613Z"
   },
   {
    "duration": 10,
    "start_time": "2025-03-14T08:03:25.788Z"
   },
   {
    "duration": 11,
    "start_time": "2025-03-14T08:08:54.892Z"
   },
   {
    "duration": 10,
    "start_time": "2025-03-14T08:12:18.835Z"
   },
   {
    "duration": 1378,
    "start_time": "2025-03-14T08:14:50.140Z"
   },
   {
    "duration": 1320,
    "start_time": "2025-03-14T08:15:50.020Z"
   },
   {
    "duration": 10,
    "start_time": "2025-03-14T08:15:59.363Z"
   },
   {
    "duration": 12,
    "start_time": "2025-03-14T08:16:17.802Z"
   },
   {
    "duration": 10,
    "start_time": "2025-03-14T08:19:16.869Z"
   },
   {
    "duration": 10,
    "start_time": "2025-03-14T08:19:31.089Z"
   },
   {
    "duration": 8,
    "start_time": "2025-03-14T08:20:11.382Z"
   },
   {
    "duration": 8,
    "start_time": "2025-03-14T08:20:23.674Z"
   },
   {
    "duration": 13,
    "start_time": "2025-03-14T08:20:26.748Z"
   },
   {
    "duration": 8,
    "start_time": "2025-03-14T08:20:45.794Z"
   },
   {
    "duration": 13,
    "start_time": "2025-03-14T08:20:46.603Z"
   },
   {
    "duration": 18,
    "start_time": "2025-03-14T08:27:39.487Z"
   },
   {
    "duration": 17,
    "start_time": "2025-03-14T08:48:08.335Z"
   },
   {
    "duration": 4,
    "start_time": "2025-03-14T08:54:13.642Z"
   },
   {
    "duration": 43,
    "start_time": "2025-03-14T09:04:38.048Z"
   },
   {
    "duration": 3,
    "start_time": "2025-03-14T09:05:53.393Z"
   },
   {
    "duration": 298,
    "start_time": "2025-03-14T09:05:54.090Z"
   },
   {
    "duration": 17,
    "start_time": "2025-03-14T09:05:56.013Z"
   },
   {
    "duration": 15,
    "start_time": "2025-03-14T09:05:57.785Z"
   },
   {
    "duration": 23,
    "start_time": "2025-03-14T09:06:00.733Z"
   },
   {
    "duration": 10,
    "start_time": "2025-03-14T09:06:13.107Z"
   },
   {
    "duration": 37,
    "start_time": "2025-03-14T09:06:16.266Z"
   },
   {
    "duration": 9,
    "start_time": "2025-03-14T09:06:19.704Z"
   },
   {
    "duration": 9,
    "start_time": "2025-03-14T09:06:23.053Z"
   },
   {
    "duration": 8,
    "start_time": "2025-03-14T09:06:23.589Z"
   },
   {
    "duration": 6,
    "start_time": "2025-03-14T09:06:26.173Z"
   },
   {
    "duration": 14,
    "start_time": "2025-03-14T09:06:26.737Z"
   },
   {
    "duration": 25,
    "start_time": "2025-03-14T09:06:27.327Z"
   },
   {
    "duration": 4,
    "start_time": "2025-03-14T09:08:33.459Z"
   },
   {
    "duration": 61,
    "start_time": "2025-03-14T09:08:34.206Z"
   },
   {
    "duration": 17,
    "start_time": "2025-03-14T09:08:35.841Z"
   },
   {
    "duration": 15,
    "start_time": "2025-03-14T09:08:36.631Z"
   },
   {
    "duration": 13,
    "start_time": "2025-03-14T09:08:39.506Z"
   },
   {
    "duration": 23,
    "start_time": "2025-03-14T09:09:57.985Z"
   },
   {
    "duration": 14,
    "start_time": "2025-03-14T09:10:04.507Z"
   },
   {
    "duration": 38,
    "start_time": "2025-03-14T09:10:07.938Z"
   },
   {
    "duration": 8,
    "start_time": "2025-03-14T09:10:10.453Z"
   },
   {
    "duration": 9,
    "start_time": "2025-03-14T09:10:15.308Z"
   },
   {
    "duration": 8,
    "start_time": "2025-03-14T09:10:15.871Z"
   },
   {
    "duration": 8,
    "start_time": "2025-03-14T09:10:18.507Z"
   },
   {
    "duration": 13,
    "start_time": "2025-03-14T09:10:18.990Z"
   },
   {
    "duration": 26,
    "start_time": "2025-03-14T09:10:21.357Z"
   },
   {
    "duration": 58,
    "start_time": "2025-03-14T09:11:31.624Z"
   },
   {
    "duration": 19,
    "start_time": "2025-03-14T09:11:32.540Z"
   },
   {
    "duration": 15,
    "start_time": "2025-03-14T09:11:33.339Z"
   },
   {
    "duration": 23,
    "start_time": "2025-03-14T09:11:36.296Z"
   },
   {
    "duration": 22,
    "start_time": "2025-03-14T09:12:26.564Z"
   },
   {
    "duration": 16,
    "start_time": "2025-03-14T09:12:48.847Z"
   },
   {
    "duration": 19,
    "start_time": "2025-03-14T09:13:34.369Z"
   },
   {
    "duration": 19,
    "start_time": "2025-03-14T09:13:47.699Z"
   },
   {
    "duration": 12,
    "start_time": "2025-03-14T09:14:05.096Z"
   },
   {
    "duration": 39,
    "start_time": "2025-03-14T09:14:08.450Z"
   },
   {
    "duration": 12,
    "start_time": "2025-03-14T09:14:10.921Z"
   },
   {
    "duration": 12,
    "start_time": "2025-03-14T09:14:14.545Z"
   },
   {
    "duration": 9,
    "start_time": "2025-03-14T09:14:15.522Z"
   },
   {
    "duration": 6,
    "start_time": "2025-03-14T09:14:17.121Z"
   },
   {
    "duration": 10,
    "start_time": "2025-03-14T09:14:19.105Z"
   },
   {
    "duration": 23,
    "start_time": "2025-03-14T09:14:19.787Z"
   },
   {
    "duration": 24,
    "start_time": "2025-03-14T09:14:22.813Z"
   },
   {
    "duration": 28,
    "start_time": "2025-03-14T09:15:19.619Z"
   },
   {
    "duration": 7,
    "start_time": "2025-03-14T09:16:06.814Z"
   },
   {
    "duration": 13,
    "start_time": "2025-03-14T09:18:24.536Z"
   },
   {
    "duration": 12,
    "start_time": "2025-03-14T09:18:39.197Z"
   },
   {
    "duration": 942,
    "start_time": "2025-03-14T09:22:26.017Z"
   },
   {
    "duration": 48,
    "start_time": "2025-03-14T09:22:32.937Z"
   },
   {
    "duration": 4,
    "start_time": "2025-03-14T09:23:01.433Z"
   },
   {
    "duration": 35,
    "start_time": "2025-03-14T09:23:04.972Z"
   },
   {
    "duration": 425,
    "start_time": "2025-03-14T09:23:34.482Z"
   },
   {
    "duration": 568,
    "start_time": "2025-03-14T09:23:49.338Z"
   },
   {
    "duration": 432,
    "start_time": "2025-03-14T09:23:57.644Z"
   },
   {
    "duration": 473,
    "start_time": "2025-03-14T09:24:03.305Z"
   },
   {
    "duration": 506,
    "start_time": "2025-03-14T09:28:10.663Z"
   },
   {
    "duration": 1394,
    "start_time": "2025-03-14T09:33:18.632Z"
   },
   {
    "duration": 12,
    "start_time": "2025-03-14T09:33:40.368Z"
   },
   {
    "duration": 9,
    "start_time": "2025-03-14T09:34:06.999Z"
   },
   {
    "duration": 115,
    "start_time": "2025-03-14T09:34:44.057Z"
   },
   {
    "duration": 130,
    "start_time": "2025-03-14T09:35:33.086Z"
   },
   {
    "duration": 9,
    "start_time": "2025-03-14T09:37:44.718Z"
   },
   {
    "duration": 16,
    "start_time": "2025-03-14T09:48:05.048Z"
   },
   {
    "duration": 37,
    "start_time": "2025-03-14T09:48:17.597Z"
   },
   {
    "duration": 9,
    "start_time": "2025-03-14T09:48:49.669Z"
   },
   {
    "duration": 9,
    "start_time": "2025-03-14T09:49:00.709Z"
   },
   {
    "duration": 28,
    "start_time": "2025-03-14T09:49:52.857Z"
   },
   {
    "duration": 45,
    "start_time": "2025-03-14T09:51:31.190Z"
   },
   {
    "duration": 398,
    "start_time": "2025-03-14T09:51:54.619Z"
   },
   {
    "duration": 464,
    "start_time": "2025-03-14T09:52:12.150Z"
   },
   {
    "duration": 14,
    "start_time": "2025-03-14T09:53:17.981Z"
   },
   {
    "duration": 432,
    "start_time": "2025-03-14T09:53:24.618Z"
   },
   {
    "duration": 358,
    "start_time": "2025-03-14T09:53:32.221Z"
   },
   {
    "duration": 90,
    "start_time": "2025-03-14T10:06:17.894Z"
   },
   {
    "duration": 126,
    "start_time": "2025-03-14T10:06:37.879Z"
   },
   {
    "duration": 12,
    "start_time": "2025-03-14T10:06:46.866Z"
   },
   {
    "duration": 43,
    "start_time": "2025-03-14T10:07:00.160Z"
   },
   {
    "duration": 27,
    "start_time": "2025-03-14T10:07:45.130Z"
   },
   {
    "duration": 43,
    "start_time": "2025-03-14T10:08:02.996Z"
   },
   {
    "duration": 78,
    "start_time": "2025-03-14T10:11:46.474Z"
   },
   {
    "duration": 22,
    "start_time": "2025-03-14T10:11:53.516Z"
   },
   {
    "duration": 24,
    "start_time": "2025-03-14T10:12:57.427Z"
   },
   {
    "duration": 64,
    "start_time": "2025-03-14T10:13:05.871Z"
   },
   {
    "duration": 22,
    "start_time": "2025-03-14T10:13:26.612Z"
   },
   {
    "duration": 28,
    "start_time": "2025-03-14T10:17:26.923Z"
   },
   {
    "duration": 15,
    "start_time": "2025-03-14T10:18:16.412Z"
   },
   {
    "duration": 4343,
    "start_time": "2025-03-14T10:18:37.929Z"
   },
   {
    "duration": 141,
    "start_time": "2025-03-14T10:19:34.772Z"
   },
   {
    "duration": 17,
    "start_time": "2025-03-14T10:19:57.958Z"
   },
   {
    "duration": 21,
    "start_time": "2025-03-14T10:21:23.838Z"
   },
   {
    "duration": 32,
    "start_time": "2025-03-14T10:21:40.703Z"
   },
   {
    "duration": 155,
    "start_time": "2025-03-14T10:22:06.273Z"
   },
   {
    "duration": 28,
    "start_time": "2025-03-14T10:41:53.653Z"
   },
   {
    "duration": 1013,
    "start_time": "2025-03-14T10:43:49.860Z"
   },
   {
    "duration": 1043,
    "start_time": "2025-03-14T10:44:17.003Z"
   },
   {
    "duration": 1407,
    "start_time": "2025-03-14T10:44:57.882Z"
   },
   {
    "duration": 207,
    "start_time": "2025-03-14T10:49:37.321Z"
   },
   {
    "duration": 167,
    "start_time": "2025-03-14T10:50:18.485Z"
   },
   {
    "duration": 20,
    "start_time": "2025-03-14T10:51:04.768Z"
   },
   {
    "duration": 390,
    "start_time": "2025-03-14T10:51:09.020Z"
   },
   {
    "duration": 18,
    "start_time": "2025-03-14T10:55:00.129Z"
   },
   {
    "duration": 30,
    "start_time": "2025-03-14T10:55:16.901Z"
   },
   {
    "duration": 5,
    "start_time": "2025-03-14T10:56:13.613Z"
   },
   {
    "duration": 18,
    "start_time": "2025-03-14T11:00:01.820Z"
   },
   {
    "duration": 3,
    "start_time": "2025-03-14T11:00:08.649Z"
   },
   {
    "duration": 7206,
    "start_time": "2025-03-14T11:00:12.205Z"
   },
   {
    "duration": 1769,
    "start_time": "2025-03-14T11:01:39.202Z"
   },
   {
    "duration": 20,
    "start_time": "2025-03-14T11:02:32.218Z"
   },
   {
    "duration": 26,
    "start_time": "2025-03-14T11:03:22.790Z"
   },
   {
    "duration": 22,
    "start_time": "2025-03-14T11:06:09.535Z"
   },
   {
    "duration": 2145,
    "start_time": "2025-03-14T11:06:28.257Z"
   },
   {
    "duration": 831,
    "start_time": "2025-03-14T11:07:23.824Z"
   },
   {
    "duration": 898,
    "start_time": "2025-03-14T11:07:34.338Z"
   },
   {
    "duration": 888,
    "start_time": "2025-03-14T11:07:45.147Z"
   },
   {
    "duration": 907,
    "start_time": "2025-03-14T11:07:52.634Z"
   },
   {
    "duration": 982,
    "start_time": "2025-03-14T11:07:59.571Z"
   },
   {
    "duration": 1324,
    "start_time": "2025-03-14T11:08:08.603Z"
   },
   {
    "duration": 1028,
    "start_time": "2025-03-14T11:08:20.918Z"
   },
   {
    "duration": 1043,
    "start_time": "2025-03-14T11:08:27.170Z"
   },
   {
    "duration": 936,
    "start_time": "2025-03-14T11:08:33.039Z"
   },
   {
    "duration": 931,
    "start_time": "2025-03-14T11:09:10.603Z"
   },
   {
    "duration": 917,
    "start_time": "2025-03-14T11:09:22.402Z"
   },
   {
    "duration": 873,
    "start_time": "2025-03-14T11:09:51.623Z"
   },
   {
    "duration": 1934,
    "start_time": "2025-03-14T11:11:05.513Z"
   },
   {
    "duration": 20,
    "start_time": "2025-03-14T11:14:46.752Z"
   },
   {
    "duration": 19,
    "start_time": "2025-03-14T11:15:01.266Z"
   },
   {
    "duration": 1303,
    "start_time": "2025-03-15T07:07:54.127Z"
   },
   {
    "duration": 69,
    "start_time": "2025-03-15T07:07:56.210Z"
   },
   {
    "duration": 16,
    "start_time": "2025-03-15T07:07:58.474Z"
   },
   {
    "duration": 17,
    "start_time": "2025-03-15T07:07:59.608Z"
   },
   {
    "duration": 22,
    "start_time": "2025-03-15T07:08:02.922Z"
   },
   {
    "duration": 12,
    "start_time": "2025-03-15T07:08:05.575Z"
   },
   {
    "duration": 29,
    "start_time": "2025-03-15T07:08:08.558Z"
   },
   {
    "duration": 11,
    "start_time": "2025-03-15T07:08:11.452Z"
   },
   {
    "duration": 8,
    "start_time": "2025-03-15T07:08:12.816Z"
   },
   {
    "duration": 9,
    "start_time": "2025-03-15T07:08:15.084Z"
   },
   {
    "duration": 5,
    "start_time": "2025-03-15T07:08:16.337Z"
   },
   {
    "duration": 8,
    "start_time": "2025-03-15T07:08:17.018Z"
   },
   {
    "duration": 16,
    "start_time": "2025-03-15T07:08:17.742Z"
   },
   {
    "duration": 15,
    "start_time": "2025-03-15T07:08:20.250Z"
   },
   {
    "duration": 26,
    "start_time": "2025-03-15T07:08:23.083Z"
   },
   {
    "duration": 6,
    "start_time": "2025-03-15T07:08:26.101Z"
   },
   {
    "duration": 455,
    "start_time": "2025-03-15T07:08:28.152Z"
   },
   {
    "duration": 9,
    "start_time": "2025-03-15T07:08:32.285Z"
   },
   {
    "duration": 165,
    "start_time": "2025-03-15T07:08:34.176Z"
   },
   {
    "duration": 14,
    "start_time": "2025-03-15T07:08:37.104Z"
   },
   {
    "duration": 317,
    "start_time": "2025-03-15T07:08:37.600Z"
   },
   {
    "duration": 27,
    "start_time": "2025-03-15T07:08:40.736Z"
   },
   {
    "duration": 17,
    "start_time": "2025-03-15T07:08:43.005Z"
   },
   {
    "duration": 132,
    "start_time": "2025-03-15T07:08:46.522Z"
   },
   {
    "duration": 16,
    "start_time": "2025-03-15T07:08:49.962Z"
   },
   {
    "duration": 3,
    "start_time": "2025-03-15T07:08:51.958Z"
   },
   {
    "duration": 1784,
    "start_time": "2025-03-15T07:08:55.142Z"
   },
   {
    "duration": 21,
    "start_time": "2025-03-15T07:57:18.981Z"
   },
   {
    "duration": 15,
    "start_time": "2025-03-15T07:57:36.821Z"
   },
   {
    "duration": 8,
    "start_time": "2025-03-15T08:00:05.069Z"
   },
   {
    "duration": 320,
    "start_time": "2025-03-15T08:00:59.754Z"
   },
   {
    "duration": 9,
    "start_time": "2025-03-15T08:02:27.906Z"
   },
   {
    "duration": 308,
    "start_time": "2025-03-15T08:03:25.850Z"
   },
   {
    "duration": 11,
    "start_time": "2025-03-15T08:10:17.647Z"
   },
   {
    "duration": 270,
    "start_time": "2025-03-15T08:10:58.270Z"
   },
   {
    "duration": 160,
    "start_time": "2025-03-15T08:17:27.185Z"
   },
   {
    "duration": 196,
    "start_time": "2025-03-15T08:17:44.657Z"
   },
   {
    "duration": 103,
    "start_time": "2025-03-15T08:18:44.945Z"
   },
   {
    "duration": 1331,
    "start_time": "2025-03-15T10:28:24.426Z"
   },
   {
    "duration": 83,
    "start_time": "2025-03-15T10:28:25.759Z"
   },
   {
    "duration": 17,
    "start_time": "2025-03-15T10:28:27.877Z"
   },
   {
    "duration": 15,
    "start_time": "2025-03-15T10:28:28.801Z"
   },
   {
    "duration": 26,
    "start_time": "2025-03-15T10:28:31.521Z"
   },
   {
    "duration": 9,
    "start_time": "2025-03-15T10:28:34.261Z"
   },
   {
    "duration": 28,
    "start_time": "2025-03-15T10:28:38.158Z"
   },
   {
    "duration": 9,
    "start_time": "2025-03-15T10:28:41.645Z"
   },
   {
    "duration": 8,
    "start_time": "2025-03-15T10:28:44.492Z"
   },
   {
    "duration": 8,
    "start_time": "2025-03-15T10:28:45.279Z"
   },
   {
    "duration": 5,
    "start_time": "2025-03-15T10:28:46.842Z"
   },
   {
    "duration": 9,
    "start_time": "2025-03-15T10:28:49.438Z"
   },
   {
    "duration": 16,
    "start_time": "2025-03-15T10:28:50.326Z"
   },
   {
    "duration": 14,
    "start_time": "2025-03-15T10:28:54.517Z"
   },
   {
    "duration": 25,
    "start_time": "2025-03-15T10:28:58.687Z"
   },
   {
    "duration": 8,
    "start_time": "2025-03-15T10:29:01.875Z"
   },
   {
    "duration": 445,
    "start_time": "2025-03-15T10:29:04.439Z"
   },
   {
    "duration": 8,
    "start_time": "2025-03-15T10:29:09.225Z"
   },
   {
    "duration": 106,
    "start_time": "2025-03-15T10:29:11.508Z"
   },
   {
    "duration": 11,
    "start_time": "2025-03-15T10:29:16.478Z"
   },
   {
    "duration": 291,
    "start_time": "2025-03-15T10:29:17.530Z"
   },
   {
    "duration": 19,
    "start_time": "2025-03-15T10:29:21.003Z"
   },
   {
    "duration": 11,
    "start_time": "2025-03-15T10:29:24.209Z"
   },
   {
    "duration": 115,
    "start_time": "2025-03-15T10:29:26.161Z"
   },
   {
    "duration": 17,
    "start_time": "2025-03-15T10:29:29.896Z"
   },
   {
    "duration": 3,
    "start_time": "2025-03-15T10:29:32.527Z"
   },
   {
    "duration": 1769,
    "start_time": "2025-03-15T10:29:33.424Z"
   },
   {
    "duration": 16,
    "start_time": "2025-03-15T10:29:39.390Z"
   },
   {
    "duration": 9,
    "start_time": "2025-03-15T10:29:42.141Z"
   },
   {
    "duration": 347,
    "start_time": "2025-03-15T10:29:45.609Z"
   },
   {
    "duration": 19,
    "start_time": "2025-03-15T10:29:48.189Z"
   },
   {
    "duration": 14,
    "start_time": "2025-03-15T10:30:32.876Z"
   },
   {
    "duration": 93,
    "start_time": "2025-03-15T10:30:58.735Z"
   },
   {
    "duration": 635,
    "start_time": "2025-03-15T10:31:17.049Z"
   },
   {
    "duration": 160,
    "start_time": "2025-03-15T10:32:01.149Z"
   },
   {
    "duration": 745,
    "start_time": "2025-03-15T10:34:54.874Z"
   },
   {
    "duration": 681,
    "start_time": "2025-03-15T10:36:39.277Z"
   },
   {
    "duration": 589,
    "start_time": "2025-03-15T10:37:03.524Z"
   },
   {
    "duration": 559,
    "start_time": "2025-03-15T10:37:30.876Z"
   },
   {
    "duration": 14,
    "start_time": "2025-03-15T10:40:11.486Z"
   },
   {
    "duration": 589,
    "start_time": "2025-03-15T10:40:31.737Z"
   },
   {
    "duration": 398,
    "start_time": "2025-03-15T10:40:54.723Z"
   },
   {
    "duration": 389,
    "start_time": "2025-03-15T10:41:15.934Z"
   },
   {
    "duration": 10,
    "start_time": "2025-03-15T10:42:56.625Z"
   },
   {
    "duration": 3,
    "start_time": "2025-03-15T10:43:16.541Z"
   },
   {
    "duration": 442,
    "start_time": "2025-03-15T10:43:25.307Z"
   },
   {
    "duration": 452,
    "start_time": "2025-03-15T10:43:57.770Z"
   },
   {
    "duration": 555,
    "start_time": "2025-03-15T10:44:10.652Z"
   },
   {
    "duration": 453,
    "start_time": "2025-03-15T10:44:27.304Z"
   },
   {
    "duration": 433,
    "start_time": "2025-03-15T10:44:41.472Z"
   },
   {
    "duration": 14,
    "start_time": "2025-03-15T10:45:54.709Z"
   },
   {
    "duration": 466,
    "start_time": "2025-03-15T10:46:27.958Z"
   },
   {
    "duration": 426,
    "start_time": "2025-03-15T10:46:46.923Z"
   },
   {
    "duration": 564,
    "start_time": "2025-03-15T10:47:06.974Z"
   },
   {
    "duration": 10,
    "start_time": "2025-03-15T10:47:32.168Z"
   },
   {
    "duration": 449,
    "start_time": "2025-03-15T10:47:54.944Z"
   },
   {
    "duration": 474,
    "start_time": "2025-03-15T10:48:16.434Z"
   },
   {
    "duration": 386,
    "start_time": "2025-03-15T10:50:45.042Z"
   },
   {
    "duration": 386,
    "start_time": "2025-03-15T10:51:03.583Z"
   },
   {
    "duration": 16,
    "start_time": "2025-03-15T10:52:39.060Z"
   },
   {
    "duration": 13,
    "start_time": "2025-03-15T10:56:56.148Z"
   },
   {
    "duration": 570,
    "start_time": "2025-03-15T11:05:39.191Z"
   },
   {
    "duration": 474,
    "start_time": "2025-03-15T11:05:55.935Z"
   },
   {
    "duration": 14,
    "start_time": "2025-03-15T11:06:40.155Z"
   },
   {
    "duration": 22,
    "start_time": "2025-03-15T11:34:47.621Z"
   },
   {
    "duration": 43,
    "start_time": "2025-03-15T11:34:57.868Z"
   },
   {
    "duration": 22,
    "start_time": "2025-03-15T11:36:38.844Z"
   },
   {
    "duration": 262,
    "start_time": "2025-03-15T11:37:08.562Z"
   },
   {
    "duration": 275,
    "start_time": "2025-03-15T11:42:35.469Z"
   },
   {
    "duration": 293,
    "start_time": "2025-03-15T11:43:47.466Z"
   },
   {
    "duration": 539,
    "start_time": "2025-03-15T11:43:59.146Z"
   },
   {
    "duration": 6,
    "start_time": "2025-03-15T12:26:22.894Z"
   },
   {
    "duration": 6,
    "start_time": "2025-03-15T12:27:07.150Z"
   },
   {
    "duration": 29,
    "start_time": "2025-03-15T12:34:03.422Z"
   },
   {
    "duration": 493,
    "start_time": "2025-03-15T12:34:22.711Z"
   },
   {
    "duration": 5,
    "start_time": "2025-03-15T12:34:36.929Z"
   },
   {
    "duration": 5,
    "start_time": "2025-03-15T12:34:46.234Z"
   },
   {
    "duration": 39,
    "start_time": "2025-03-15T12:35:08.726Z"
   },
   {
    "duration": 481,
    "start_time": "2025-03-15T12:35:20.682Z"
   },
   {
    "duration": 5,
    "start_time": "2025-03-15T12:35:32.088Z"
   },
   {
    "duration": 11,
    "start_time": "2025-03-15T12:35:43.868Z"
   },
   {
    "duration": 54,
    "start_time": "2025-03-15T12:36:10.945Z"
   },
   {
    "duration": 649,
    "start_time": "2025-03-15T12:36:33.889Z"
   },
   {
    "duration": 5,
    "start_time": "2025-03-15T12:36:44.222Z"
   },
   {
    "duration": 6,
    "start_time": "2025-03-15T12:36:53.231Z"
   },
   {
    "duration": 14,
    "start_time": "2025-03-15T12:47:21.571Z"
   },
   {
    "duration": 11,
    "start_time": "2025-03-15T12:48:02.084Z"
   },
   {
    "duration": 7,
    "start_time": "2025-03-15T12:48:14.939Z"
   },
   {
    "duration": 270,
    "start_time": "2025-03-15T12:50:17.587Z"
   },
   {
    "duration": 17,
    "start_time": "2025-03-15T12:58:34.654Z"
   },
   {
    "duration": 11,
    "start_time": "2025-03-15T12:59:09.602Z"
   },
   {
    "duration": 10,
    "start_time": "2025-03-15T12:59:36.014Z"
   },
   {
    "duration": 11,
    "start_time": "2025-03-15T13:00:06.794Z"
   },
   {
    "duration": 14,
    "start_time": "2025-03-15T13:01:37.564Z"
   },
   {
    "duration": 16,
    "start_time": "2025-03-15T13:01:52.068Z"
   },
   {
    "duration": 285,
    "start_time": "2025-03-15T13:02:08.462Z"
   },
   {
    "duration": 9,
    "start_time": "2025-03-15T13:02:33.734Z"
   },
   {
    "duration": 111,
    "start_time": "2025-03-15T13:02:34.725Z"
   },
   {
    "duration": 100,
    "start_time": "2025-03-15T13:03:14.306Z"
   },
   {
    "duration": 8,
    "start_time": "2025-03-15T13:03:25.108Z"
   },
   {
    "duration": 114,
    "start_time": "2025-03-15T13:04:20.510Z"
   },
   {
    "duration": 10,
    "start_time": "2025-03-15T13:05:09.967Z"
   },
   {
    "duration": 112,
    "start_time": "2025-03-15T13:05:11.761Z"
   },
   {
    "duration": 8,
    "start_time": "2025-03-15T13:16:02.574Z"
   },
   {
    "duration": 8,
    "start_time": "2025-03-15T13:17:03.868Z"
   },
   {
    "duration": 103,
    "start_time": "2025-03-15T13:17:04.591Z"
   },
   {
    "duration": 9,
    "start_time": "2025-03-15T13:17:30.917Z"
   },
   {
    "duration": 9,
    "start_time": "2025-03-15T13:18:15.130Z"
   },
   {
    "duration": 96,
    "start_time": "2025-03-15T13:18:51.524Z"
   },
   {
    "duration": 103,
    "start_time": "2025-03-15T13:18:55.641Z"
   },
   {
    "duration": 8,
    "start_time": "2025-03-15T13:29:28.605Z"
   },
   {
    "duration": 8,
    "start_time": "2025-03-15T13:29:50.135Z"
   },
   {
    "duration": 8,
    "start_time": "2025-03-15T13:30:12.796Z"
   },
   {
    "duration": 8,
    "start_time": "2025-03-15T13:30:36.611Z"
   },
   {
    "duration": 13,
    "start_time": "2025-03-15T13:32:33.877Z"
   },
   {
    "duration": 127,
    "start_time": "2025-03-15T13:34:39.841Z"
   },
   {
    "duration": 9,
    "start_time": "2025-03-15T13:34:59.574Z"
   },
   {
    "duration": 112,
    "start_time": "2025-03-15T13:35:01.565Z"
   },
   {
    "duration": 213,
    "start_time": "2025-03-15T13:36:11.974Z"
   },
   {
    "duration": 8,
    "start_time": "2025-03-15T13:36:31.964Z"
   },
   {
    "duration": 113,
    "start_time": "2025-03-15T13:37:05.981Z"
   },
   {
    "duration": 10,
    "start_time": "2025-03-15T13:37:21.956Z"
   },
   {
    "duration": 105,
    "start_time": "2025-03-15T13:37:24.421Z"
   },
   {
    "duration": 11,
    "start_time": "2025-03-15T13:37:31.084Z"
   },
   {
    "duration": 118,
    "start_time": "2025-03-15T13:37:32.843Z"
   },
   {
    "duration": 8,
    "start_time": "2025-03-15T13:37:53.381Z"
   },
   {
    "duration": 105,
    "start_time": "2025-03-15T13:38:17.854Z"
   },
   {
    "duration": 6,
    "start_time": "2025-03-15T13:45:57.496Z"
   },
   {
    "duration": 6,
    "start_time": "2025-03-15T13:46:17.245Z"
   },
   {
    "duration": 6,
    "start_time": "2025-03-15T14:21:47.712Z"
   },
   {
    "duration": 6,
    "start_time": "2025-03-15T14:23:44.010Z"
   },
   {
    "duration": 5,
    "start_time": "2025-03-15T14:29:31.555Z"
   },
   {
    "duration": 6,
    "start_time": "2025-03-15T14:31:37.758Z"
   },
   {
    "duration": 6,
    "start_time": "2025-03-15T14:32:19.234Z"
   },
   {
    "duration": 6,
    "start_time": "2025-03-15T14:33:15.823Z"
   },
   {
    "duration": 2203,
    "start_time": "2025-03-15T16:01:03.881Z"
   },
   {
    "duration": 100,
    "start_time": "2025-03-15T16:01:06.085Z"
   },
   {
    "duration": 16,
    "start_time": "2025-03-15T16:01:06.187Z"
   },
   {
    "duration": 14,
    "start_time": "2025-03-15T16:01:06.205Z"
   },
   {
    "duration": 81,
    "start_time": "2025-03-15T16:01:06.221Z"
   },
   {
    "duration": 8,
    "start_time": "2025-03-15T16:01:06.304Z"
   },
   {
    "duration": 33,
    "start_time": "2025-03-15T16:01:06.314Z"
   },
   {
    "duration": 9,
    "start_time": "2025-03-15T16:01:06.349Z"
   },
   {
    "duration": 22,
    "start_time": "2025-03-15T16:01:06.360Z"
   },
   {
    "duration": 9,
    "start_time": "2025-03-15T16:01:06.384Z"
   },
   {
    "duration": 9,
    "start_time": "2025-03-15T16:01:06.394Z"
   },
   {
    "duration": 10,
    "start_time": "2025-03-15T16:01:06.405Z"
   },
   {
    "duration": 18,
    "start_time": "2025-03-15T16:01:06.417Z"
   },
   {
    "duration": 23,
    "start_time": "2025-03-15T16:01:06.441Z"
   },
   {
    "duration": 26,
    "start_time": "2025-03-15T16:01:06.466Z"
   },
   {
    "duration": 6,
    "start_time": "2025-03-15T16:01:06.494Z"
   },
   {
    "duration": 506,
    "start_time": "2025-03-15T16:01:06.502Z"
   },
   {
    "duration": 8,
    "start_time": "2025-03-15T16:01:07.010Z"
   },
   {
    "duration": 153,
    "start_time": "2025-03-15T16:01:07.020Z"
   },
   {
    "duration": 11,
    "start_time": "2025-03-15T16:01:07.175Z"
   },
   {
    "duration": 340,
    "start_time": "2025-03-15T16:01:07.188Z"
   },
   {
    "duration": 31,
    "start_time": "2025-03-15T16:01:07.529Z"
   },
   {
    "duration": 12,
    "start_time": "2025-03-15T16:01:07.562Z"
   },
   {
    "duration": 152,
    "start_time": "2025-03-15T16:01:07.576Z"
   },
   {
    "duration": 29,
    "start_time": "2025-03-15T16:01:07.730Z"
   },
   {
    "duration": 4,
    "start_time": "2025-03-15T16:01:07.760Z"
   },
   {
    "duration": 1873,
    "start_time": "2025-03-15T16:01:07.765Z"
   },
   {
    "duration": 19,
    "start_time": "2025-03-15T16:01:09.642Z"
   },
   {
    "duration": 8,
    "start_time": "2025-03-15T16:01:09.663Z"
   },
   {
    "duration": 387,
    "start_time": "2025-03-15T16:01:09.673Z"
   },
   {
    "duration": 15,
    "start_time": "2025-03-15T16:01:10.061Z"
   },
   {
    "duration": 468,
    "start_time": "2025-03-15T16:01:10.077Z"
   },
   {
    "duration": 20,
    "start_time": "2025-03-15T16:01:10.547Z"
   },
   {
    "duration": 563,
    "start_time": "2025-03-15T16:01:10.569Z"
   },
   {
    "duration": 51,
    "start_time": "2025-03-15T16:01:11.135Z"
   },
   {
    "duration": 537,
    "start_time": "2025-03-15T16:01:11.188Z"
   },
   {
    "duration": 6,
    "start_time": "2025-03-15T16:01:11.727Z"
   },
   {
    "duration": 23,
    "start_time": "2025-03-15T16:01:11.735Z"
   },
   {
    "duration": 32,
    "start_time": "2025-03-15T16:01:11.760Z"
   },
   {
    "duration": 472,
    "start_time": "2025-03-15T16:01:11.794Z"
   },
   {
    "duration": 5,
    "start_time": "2025-03-15T16:01:12.267Z"
   },
   {
    "duration": 13,
    "start_time": "2025-03-15T16:01:12.274Z"
   },
   {
    "duration": 33,
    "start_time": "2025-03-15T16:01:12.289Z"
   },
   {
    "duration": 549,
    "start_time": "2025-03-15T16:01:12.323Z"
   },
   {
    "duration": 4,
    "start_time": "2025-03-15T16:01:12.874Z"
   },
   {
    "duration": 5,
    "start_time": "2025-03-15T16:01:12.880Z"
   },
   {
    "duration": 33,
    "start_time": "2025-03-15T16:01:12.886Z"
   },
   {
    "duration": 484,
    "start_time": "2025-03-15T16:01:12.920Z"
   },
   {
    "duration": 5,
    "start_time": "2025-03-15T16:01:13.405Z"
   },
   {
    "duration": 62,
    "start_time": "2025-03-15T16:01:13.412Z"
   },
   {
    "duration": 8,
    "start_time": "2025-03-15T16:01:13.476Z"
   },
   {
    "duration": 259,
    "start_time": "2025-03-15T16:01:13.485Z"
   },
   {
    "duration": 16,
    "start_time": "2025-03-15T16:01:13.746Z"
   },
   {
    "duration": 127,
    "start_time": "2025-03-15T16:01:13.764Z"
   },
   {
    "duration": 8,
    "start_time": "2025-03-15T16:01:13.892Z"
   },
   {
    "duration": 124,
    "start_time": "2025-03-15T16:01:13.901Z"
   },
   {
    "duration": 7,
    "start_time": "2025-03-15T16:01:14.027Z"
   },
   {
    "duration": 125,
    "start_time": "2025-03-15T16:01:14.036Z"
   },
   {
    "duration": 10,
    "start_time": "2025-03-15T16:01:14.163Z"
   },
   {
    "duration": 129,
    "start_time": "2025-03-15T16:01:14.175Z"
   },
   {
    "duration": 8,
    "start_time": "2025-03-15T16:01:14.306Z"
   },
   {
    "duration": 121,
    "start_time": "2025-03-15T16:01:14.316Z"
   },
   {
    "duration": 20,
    "start_time": "2025-03-15T16:01:14.438Z"
   },
   {
    "duration": 118,
    "start_time": "2025-03-15T16:01:14.460Z"
   },
   {
    "duration": 8,
    "start_time": "2025-03-15T16:01:14.579Z"
   },
   {
    "duration": 116,
    "start_time": "2025-03-15T16:01:14.589Z"
   },
   {
    "duration": 8,
    "start_time": "2025-03-15T16:01:14.707Z"
   },
   {
    "duration": 189,
    "start_time": "2025-03-15T16:01:14.717Z"
   },
   {
    "duration": 7,
    "start_time": "2025-03-15T16:01:14.907Z"
   },
   {
    "duration": 119,
    "start_time": "2025-03-15T16:01:14.916Z"
   },
   {
    "duration": 25,
    "start_time": "2025-03-15T16:01:15.037Z"
   },
   {
    "duration": 19,
    "start_time": "2025-03-15T16:01:15.064Z"
   },
   {
    "duration": 80,
    "start_time": "2025-03-15T16:01:15.085Z"
   },
   {
    "duration": 16,
    "start_time": "2025-03-15T16:01:15.167Z"
   },
   {
    "duration": 10,
    "start_time": "2025-03-15T16:01:15.185Z"
   },
   {
    "duration": 7,
    "start_time": "2025-03-15T16:01:15.198Z"
   },
   {
    "duration": 1246,
    "start_time": "2025-03-16T10:24:01.617Z"
   },
   {
    "duration": 79,
    "start_time": "2025-03-16T10:24:05.785Z"
   },
   {
    "duration": 14,
    "start_time": "2025-03-16T10:24:08.167Z"
   },
   {
    "duration": 76,
    "start_time": "2025-03-16T10:25:14.512Z"
   },
   {
    "duration": 24,
    "start_time": "2025-03-16T10:30:08.218Z"
   },
   {
    "duration": 1390,
    "start_time": "2025-03-16T10:30:09.865Z"
   },
   {
    "duration": 22,
    "start_time": "2025-03-16T10:30:41.842Z"
   },
   {
    "duration": 9,
    "start_time": "2025-03-16T10:30:46.594Z"
   },
   {
    "duration": 31,
    "start_time": "2025-03-16T10:30:50.552Z"
   },
   {
    "duration": 1208,
    "start_time": "2025-03-16T10:30:55.214Z"
   },
   {
    "duration": 9,
    "start_time": "2025-03-16T10:31:11.965Z"
   },
   {
    "duration": 7,
    "start_time": "2025-03-16T10:31:16.566Z"
   },
   {
    "duration": 9,
    "start_time": "2025-03-16T10:31:34.212Z"
   },
   {
    "duration": 16,
    "start_time": "2025-03-16T10:31:35.017Z"
   },
   {
    "duration": 24,
    "start_time": "2025-03-16T10:34:39.549Z"
   },
   {
    "duration": 12,
    "start_time": "2025-03-16T10:34:40.674Z"
   },
   {
    "duration": 12,
    "start_time": "2025-03-16T10:35:03.941Z"
   },
   {
    "duration": 10,
    "start_time": "2025-03-16T10:35:12.191Z"
   },
   {
    "duration": 14,
    "start_time": "2025-03-16T10:36:13.835Z"
   },
   {
    "duration": 9,
    "start_time": "2025-03-16T10:42:22.857Z"
   },
   {
    "duration": 10,
    "start_time": "2025-03-16T10:42:42.730Z"
   },
   {
    "duration": 1188,
    "start_time": "2025-03-16T10:43:52.213Z"
   },
   {
    "duration": 40,
    "start_time": "2025-03-16T10:44:28.196Z"
   },
   {
    "duration": 8,
    "start_time": "2025-03-16T10:45:56.573Z"
   },
   {
    "duration": 460,
    "start_time": "2025-03-16T10:46:02.497Z"
   },
   {
    "duration": 1191,
    "start_time": "2025-03-16T10:46:32.230Z"
   },
   {
    "duration": 9,
    "start_time": "2025-03-16T10:46:54.044Z"
   },
   {
    "duration": 96,
    "start_time": "2025-03-16T10:47:08.507Z"
   },
   {
    "duration": 1230,
    "start_time": "2025-03-16T10:48:14.063Z"
   },
   {
    "duration": 11,
    "start_time": "2025-03-16T10:48:47.942Z"
   },
   {
    "duration": 292,
    "start_time": "2025-03-16T10:48:51.114Z"
   },
   {
    "duration": 391,
    "start_time": "2025-03-16T10:50:01.382Z"
   },
   {
    "duration": 4,
    "start_time": "2025-03-16T10:50:25.846Z"
   },
   {
    "duration": 49,
    "start_time": "2025-03-16T10:50:27.254Z"
   },
   {
    "duration": 13,
    "start_time": "2025-03-16T10:50:29.789Z"
   },
   {
    "duration": 14,
    "start_time": "2025-03-16T10:50:33.027Z"
   },
   {
    "duration": 20,
    "start_time": "2025-03-16T10:50:34.623Z"
   },
   {
    "duration": 9,
    "start_time": "2025-03-16T10:50:38.661Z"
   },
   {
    "duration": 25,
    "start_time": "2025-03-16T10:50:41.864Z"
   },
   {
    "duration": 8,
    "start_time": "2025-03-16T10:50:46.140Z"
   },
   {
    "duration": 8,
    "start_time": "2025-03-16T10:50:48.854Z"
   },
   {
    "duration": 10,
    "start_time": "2025-03-16T10:50:53.246Z"
   },
   {
    "duration": 16,
    "start_time": "2025-03-16T10:50:55.066Z"
   },
   {
    "duration": 14,
    "start_time": "2025-03-16T10:50:59.008Z"
   },
   {
    "duration": 11,
    "start_time": "2025-03-16T10:51:00.094Z"
   },
   {
    "duration": 15,
    "start_time": "2025-03-16T10:51:01.280Z"
   },
   {
    "duration": 9,
    "start_time": "2025-03-16T10:51:03.636Z"
   },
   {
    "duration": 11,
    "start_time": "2025-03-16T10:51:04.097Z"
   },
   {
    "duration": 93,
    "start_time": "2025-03-16T10:51:12.422Z"
   },
   {
    "duration": 8,
    "start_time": "2025-03-16T10:51:23.547Z"
   },
   {
    "duration": 482,
    "start_time": "2025-03-16T10:51:27.220Z"
   },
   {
    "duration": 8,
    "start_time": "2025-03-16T10:51:34.098Z"
   },
   {
    "duration": 91,
    "start_time": "2025-03-16T10:51:35.038Z"
   },
   {
    "duration": 19,
    "start_time": "2025-03-16T10:53:33.663Z"
   },
   {
    "duration": 20,
    "start_time": "2025-03-16T10:54:12.279Z"
   },
   {
    "duration": 9,
    "start_time": "2025-03-16T10:54:16.944Z"
   },
   {
    "duration": 446,
    "start_time": "2025-03-16T10:54:19.495Z"
   },
   {
    "duration": 16,
    "start_time": "2025-03-16T10:54:24.695Z"
   },
   {
    "duration": 493,
    "start_time": "2025-03-16T10:54:25.845Z"
   },
   {
    "duration": 27,
    "start_time": "2025-03-16T10:55:19.478Z"
   },
   {
    "duration": 285,
    "start_time": "2025-03-16T10:55:20.991Z"
   },
   {
    "duration": 14,
    "start_time": "2025-03-16T10:57:20.579Z"
   },
   {
    "duration": 20,
    "start_time": "2025-03-16T10:57:40.719Z"
   },
   {
    "duration": 11,
    "start_time": "2025-03-16T10:57:45.639Z"
   },
   {
    "duration": 119,
    "start_time": "2025-03-16T10:57:48.069Z"
   },
   {
    "duration": 18,
    "start_time": "2025-03-16T10:58:51.091Z"
   },
   {
    "duration": 4,
    "start_time": "2025-03-16T10:58:54.522Z"
   },
   {
    "duration": 1275,
    "start_time": "2025-03-16T10:58:55.243Z"
   },
   {
    "duration": 1753,
    "start_time": "2025-03-16T10:59:15.828Z"
   },
   {
    "duration": 18,
    "start_time": "2025-03-16T11:05:51.079Z"
   },
   {
    "duration": 7,
    "start_time": "2025-03-16T11:07:08.652Z"
   },
   {
    "duration": 194,
    "start_time": "2025-03-16T11:07:12.641Z"
   },
   {
    "duration": 12,
    "start_time": "2025-03-16T11:09:20.879Z"
   },
   {
    "duration": 1582,
    "start_time": "2025-03-16T11:09:26.444Z"
   },
   {
    "duration": 256,
    "start_time": "2025-03-16T11:09:40.289Z"
   },
   {
    "duration": 19,
    "start_time": "2025-03-16T11:12:21.786Z"
   },
   {
    "duration": 274,
    "start_time": "2025-03-16T11:12:22.852Z"
   },
   {
    "duration": 29,
    "start_time": "2025-03-16T11:56:41.210Z"
   },
   {
    "duration": 383,
    "start_time": "2025-03-16T11:56:50.434Z"
   },
   {
    "duration": 4,
    "start_time": "2025-03-16T11:56:57.877Z"
   },
   {
    "duration": 5,
    "start_time": "2025-03-16T11:56:58.845Z"
   },
   {
    "duration": 30,
    "start_time": "2025-03-16T12:00:58.310Z"
   },
   {
    "duration": 466,
    "start_time": "2025-03-16T12:01:02.003Z"
   },
   {
    "duration": 4,
    "start_time": "2025-03-16T12:01:06.573Z"
   },
   {
    "duration": 4,
    "start_time": "2025-03-16T12:01:07.146Z"
   },
   {
    "duration": 30,
    "start_time": "2025-03-16T12:01:45.437Z"
   },
   {
    "duration": 471,
    "start_time": "2025-03-16T12:01:48.859Z"
   },
   {
    "duration": 5,
    "start_time": "2025-03-16T12:01:53.401Z"
   },
   {
    "duration": 5,
    "start_time": "2025-03-16T12:01:54.170Z"
   },
   {
    "duration": 33,
    "start_time": "2025-03-16T12:04:11.977Z"
   },
   {
    "duration": 604,
    "start_time": "2025-03-16T12:04:15.269Z"
   },
   {
    "duration": 5,
    "start_time": "2025-03-16T12:04:19.037Z"
   },
   {
    "duration": 5,
    "start_time": "2025-03-16T12:04:19.624Z"
   },
   {
    "duration": 7,
    "start_time": "2025-03-16T12:06:44.036Z"
   },
   {
    "duration": 196,
    "start_time": "2025-03-16T12:06:46.106Z"
   },
   {
    "duration": 8,
    "start_time": "2025-03-16T12:07:08.479Z"
   },
   {
    "duration": 109,
    "start_time": "2025-03-16T12:08:11.289Z"
   },
   {
    "duration": 15,
    "start_time": "2025-03-16T12:09:34.676Z"
   },
   {
    "duration": 260,
    "start_time": "2025-03-16T12:10:35.019Z"
   },
   {
    "duration": 256,
    "start_time": "2025-03-16T12:12:57.023Z"
   },
   {
    "duration": 267,
    "start_time": "2025-03-16T12:13:08.543Z"
   },
   {
    "duration": 363,
    "start_time": "2025-03-16T12:13:14.491Z"
   },
   {
    "duration": 263,
    "start_time": "2025-03-16T12:13:19.923Z"
   },
   {
    "duration": 262,
    "start_time": "2025-03-16T12:13:30.186Z"
   },
   {
    "duration": 257,
    "start_time": "2025-03-16T12:13:35.044Z"
   },
   {
    "duration": 275,
    "start_time": "2025-03-16T12:14:27.942Z"
   },
   {
    "duration": 259,
    "start_time": "2025-03-16T12:14:42.018Z"
   },
   {
    "duration": 393,
    "start_time": "2025-03-16T12:15:00.336Z"
   },
   {
    "duration": 258,
    "start_time": "2025-03-16T12:15:08.234Z"
   },
   {
    "duration": 10,
    "start_time": "2025-03-16T12:21:15.653Z"
   },
   {
    "duration": 16,
    "start_time": "2025-03-16T12:21:28.808Z"
   },
   {
    "duration": 7,
    "start_time": "2025-03-16T12:22:07.480Z"
   },
   {
    "duration": 106,
    "start_time": "2025-03-16T12:22:09.053Z"
   },
   {
    "duration": 7,
    "start_time": "2025-03-16T12:22:38.983Z"
   },
   {
    "duration": 101,
    "start_time": "2025-03-16T12:22:39.780Z"
   },
   {
    "duration": 7,
    "start_time": "2025-03-16T12:22:58.094Z"
   },
   {
    "duration": 98,
    "start_time": "2025-03-16T12:22:59.223Z"
   },
   {
    "duration": 9,
    "start_time": "2025-03-16T12:25:15.768Z"
   },
   {
    "duration": 120,
    "start_time": "2025-03-16T12:25:16.658Z"
   },
   {
    "duration": 8,
    "start_time": "2025-03-16T12:25:19.523Z"
   },
   {
    "duration": 101,
    "start_time": "2025-03-16T12:25:20.273Z"
   },
   {
    "duration": 9,
    "start_time": "2025-03-16T12:25:22.867Z"
   },
   {
    "duration": 105,
    "start_time": "2025-03-16T12:25:25.146Z"
   },
   {
    "duration": 7,
    "start_time": "2025-03-16T12:27:49.433Z"
   },
   {
    "duration": 94,
    "start_time": "2025-03-16T12:27:50.475Z"
   },
   {
    "duration": 8,
    "start_time": "2025-03-16T12:27:52.875Z"
   },
   {
    "duration": 94,
    "start_time": "2025-03-16T12:27:55.106Z"
   },
   {
    "duration": 8,
    "start_time": "2025-03-16T12:27:57.420Z"
   },
   {
    "duration": 99,
    "start_time": "2025-03-16T12:27:59.590Z"
   },
   {
    "duration": 7,
    "start_time": "2025-03-16T12:31:05.037Z"
   },
   {
    "duration": 5,
    "start_time": "2025-03-16T12:31:06.157Z"
   },
   {
    "duration": 4,
    "start_time": "2025-03-16T12:31:08.523Z"
   },
   {
    "duration": 5,
    "start_time": "2025-03-16T12:31:11.833Z"
   },
   {
    "duration": 5,
    "start_time": "2025-03-16T12:31:12.417Z"
   },
   {
    "duration": 5,
    "start_time": "2025-03-16T12:31:12.962Z"
   },
   {
    "duration": 3,
    "start_time": "2025-03-16T12:32:08.771Z"
   },
   {
    "duration": 49,
    "start_time": "2025-03-16T12:32:10.390Z"
   },
   {
    "duration": 14,
    "start_time": "2025-03-16T12:32:13.083Z"
   },
   {
    "duration": 14,
    "start_time": "2025-03-16T12:32:16.656Z"
   },
   {
    "duration": 19,
    "start_time": "2025-03-16T12:32:18.153Z"
   },
   {
    "duration": 9,
    "start_time": "2025-03-16T12:32:21.854Z"
   },
   {
    "duration": 27,
    "start_time": "2025-03-16T12:32:26.144Z"
   },
   {
    "duration": 7,
    "start_time": "2025-03-16T12:32:29.483Z"
   },
   {
    "duration": 8,
    "start_time": "2025-03-16T12:32:30.697Z"
   },
   {
    "duration": 10,
    "start_time": "2025-03-16T12:32:38.050Z"
   },
   {
    "duration": 17,
    "start_time": "2025-03-16T12:32:41.202Z"
   },
   {
    "duration": 23,
    "start_time": "2025-03-16T12:32:45.818Z"
   },
   {
    "duration": 11,
    "start_time": "2025-03-16T12:32:47.533Z"
   },
   {
    "duration": 15,
    "start_time": "2025-03-16T12:32:48.848Z"
   },
   {
    "duration": 10,
    "start_time": "2025-03-16T12:32:51.646Z"
   },
   {
    "duration": 11,
    "start_time": "2025-03-16T12:32:52.067Z"
   },
   {
    "duration": 25,
    "start_time": "2025-03-16T12:32:58.054Z"
   },
   {
    "duration": 9,
    "start_time": "2025-03-16T12:33:04.797Z"
   },
   {
    "duration": 592,
    "start_time": "2025-03-16T12:33:05.767Z"
   },
   {
    "duration": 16,
    "start_time": "2025-03-16T12:33:12.357Z"
   },
   {
    "duration": 25,
    "start_time": "2025-03-16T12:33:15.623Z"
   },
   {
    "duration": 297,
    "start_time": "2025-03-16T12:33:16.373Z"
   },
   {
    "duration": 20,
    "start_time": "2025-03-16T12:33:20.947Z"
   },
   {
    "duration": 11,
    "start_time": "2025-03-16T12:33:23.299Z"
   },
   {
    "duration": 118,
    "start_time": "2025-03-16T12:33:24.047Z"
   },
   {
    "duration": 17,
    "start_time": "2025-03-16T12:33:32.740Z"
   },
   {
    "duration": 12,
    "start_time": "2025-03-16T12:33:35.153Z"
   },
   {
    "duration": 1616,
    "start_time": "2025-03-16T12:33:35.874Z"
   },
   {
    "duration": 17,
    "start_time": "2025-03-16T12:34:17.239Z"
   },
   {
    "duration": 7,
    "start_time": "2025-03-16T12:34:23.157Z"
   },
   {
    "duration": 192,
    "start_time": "2025-03-16T12:34:28.229Z"
   },
   {
    "duration": 12,
    "start_time": "2025-03-16T12:34:35.189Z"
   },
   {
    "duration": 256,
    "start_time": "2025-03-16T12:34:39.714Z"
   },
   {
    "duration": 14,
    "start_time": "2025-03-16T12:34:44.922Z"
   },
   {
    "duration": 418,
    "start_time": "2025-03-16T12:34:48.682Z"
   },
   {
    "duration": 31,
    "start_time": "2025-03-16T12:35:34.697Z"
   },
   {
    "duration": 502,
    "start_time": "2025-03-16T12:35:37.856Z"
   },
   {
    "duration": 4,
    "start_time": "2025-03-16T12:35:47.205Z"
   },
   {
    "duration": 5,
    "start_time": "2025-03-16T12:35:47.788Z"
   },
   {
    "duration": 30,
    "start_time": "2025-03-16T12:35:51.316Z"
   },
   {
    "duration": 430,
    "start_time": "2025-03-16T12:35:53.115Z"
   },
   {
    "duration": 5,
    "start_time": "2025-03-16T12:35:57.298Z"
   },
   {
    "duration": 7,
    "start_time": "2025-03-16T12:35:57.785Z"
   },
   {
    "duration": 28,
    "start_time": "2025-03-16T12:36:00.698Z"
   },
   {
    "duration": 432,
    "start_time": "2025-03-16T12:36:01.507Z"
   },
   {
    "duration": 5,
    "start_time": "2025-03-16T12:36:05.596Z"
   },
   {
    "duration": 5,
    "start_time": "2025-03-16T12:36:06.156Z"
   },
   {
    "duration": 29,
    "start_time": "2025-03-16T12:36:07.214Z"
   },
   {
    "duration": 415,
    "start_time": "2025-03-16T12:36:09.133Z"
   },
   {
    "duration": 5,
    "start_time": "2025-03-16T12:36:11.739Z"
   },
   {
    "duration": 4,
    "start_time": "2025-03-16T12:36:12.286Z"
   },
   {
    "duration": 7,
    "start_time": "2025-03-16T12:36:19.370Z"
   },
   {
    "duration": 203,
    "start_time": "2025-03-16T12:36:20.457Z"
   },
   {
    "duration": 8,
    "start_time": "2025-03-16T12:36:23.962Z"
   },
   {
    "duration": 259,
    "start_time": "2025-03-16T12:36:24.723Z"
   },
   {
    "duration": 25,
    "start_time": "2025-03-16T12:36:28.208Z"
   },
   {
    "duration": 8,
    "start_time": "2025-03-16T12:38:07.082Z"
   },
   {
    "duration": 104,
    "start_time": "2025-03-16T12:38:07.940Z"
   },
   {
    "duration": 7,
    "start_time": "2025-03-16T12:38:12.048Z"
   },
   {
    "duration": 104,
    "start_time": "2025-03-16T12:38:12.712Z"
   },
   {
    "duration": 7,
    "start_time": "2025-03-16T12:38:16.719Z"
   },
   {
    "duration": 99,
    "start_time": "2025-03-16T12:38:17.459Z"
   },
   {
    "duration": 6,
    "start_time": "2025-03-16T12:38:22.081Z"
   },
   {
    "duration": 100,
    "start_time": "2025-03-16T12:38:24.198Z"
   },
   {
    "duration": 9,
    "start_time": "2025-03-16T12:38:25.829Z"
   },
   {
    "duration": 102,
    "start_time": "2025-03-16T12:38:28.004Z"
   },
   {
    "duration": 6,
    "start_time": "2025-03-16T12:38:29.277Z"
   },
   {
    "duration": 99,
    "start_time": "2025-03-16T12:38:31.327Z"
   },
   {
    "duration": 7,
    "start_time": "2025-03-16T12:38:33.922Z"
   },
   {
    "duration": 233,
    "start_time": "2025-03-16T12:38:34.537Z"
   },
   {
    "duration": 10,
    "start_time": "2025-03-16T12:38:36.676Z"
   },
   {
    "duration": 89,
    "start_time": "2025-03-16T12:38:37.173Z"
   },
   {
    "duration": 7,
    "start_time": "2025-03-16T12:38:38.007Z"
   },
   {
    "duration": 91,
    "start_time": "2025-03-16T12:38:39.785Z"
   },
   {
    "duration": 5,
    "start_time": "2025-03-16T12:38:44.204Z"
   },
   {
    "duration": 5,
    "start_time": "2025-03-16T12:38:44.722Z"
   },
   {
    "duration": 5,
    "start_time": "2025-03-16T12:38:45.197Z"
   },
   {
    "duration": 5,
    "start_time": "2025-03-16T12:38:47.763Z"
   },
   {
    "duration": 5,
    "start_time": "2025-03-16T12:38:48.164Z"
   },
   {
    "duration": 4,
    "start_time": "2025-03-16T12:38:48.645Z"
   },
   {
    "duration": 1316,
    "start_time": "2025-03-16T19:37:39.176Z"
   },
   {
    "duration": 74,
    "start_time": "2025-03-16T19:37:40.498Z"
   },
   {
    "duration": 21,
    "start_time": "2025-03-16T19:37:40.576Z"
   },
   {
    "duration": 14,
    "start_time": "2025-03-16T19:37:40.600Z"
   },
   {
    "duration": 21,
    "start_time": "2025-03-16T19:37:40.616Z"
   },
   {
    "duration": 22,
    "start_time": "2025-03-16T19:37:40.639Z"
   },
   {
    "duration": 40,
    "start_time": "2025-03-16T19:37:40.663Z"
   },
   {
    "duration": 9,
    "start_time": "2025-03-16T19:37:40.705Z"
   },
   {
    "duration": 18,
    "start_time": "2025-03-16T19:37:40.715Z"
   },
   {
    "duration": 17,
    "start_time": "2025-03-16T19:37:40.735Z"
   },
   {
    "duration": 135,
    "start_time": "2025-03-16T19:37:40.754Z"
   },
   {
    "duration": 18,
    "start_time": "2025-03-16T19:37:40.891Z"
   },
   {
    "duration": 9,
    "start_time": "2025-03-16T19:37:40.911Z"
   },
   {
    "duration": 13,
    "start_time": "2025-03-16T19:37:40.922Z"
   },
   {
    "duration": 8,
    "start_time": "2025-03-16T19:37:40.937Z"
   },
   {
    "duration": 17,
    "start_time": "2025-03-16T19:37:40.960Z"
   },
   {
    "duration": 35,
    "start_time": "2025-03-16T19:37:40.979Z"
   },
   {
    "duration": 7,
    "start_time": "2025-03-16T19:37:41.016Z"
   },
   {
    "duration": 595,
    "start_time": "2025-03-16T19:37:41.024Z"
   },
   {
    "duration": 15,
    "start_time": "2025-03-16T19:37:41.621Z"
   },
   {
    "duration": 45,
    "start_time": "2025-03-16T19:37:41.638Z"
   },
   {
    "duration": 366,
    "start_time": "2025-03-16T19:37:41.685Z"
   },
   {
    "duration": 31,
    "start_time": "2025-03-16T19:37:42.052Z"
   },
   {
    "duration": 14,
    "start_time": "2025-03-16T19:37:42.085Z"
   },
   {
    "duration": 173,
    "start_time": "2025-03-16T19:37:42.101Z"
   },
   {
    "duration": 24,
    "start_time": "2025-03-16T19:37:42.276Z"
   },
   {
    "duration": 3,
    "start_time": "2025-03-16T19:37:42.302Z"
   },
   {
    "duration": 1991,
    "start_time": "2025-03-16T19:37:42.307Z"
   },
   {
    "duration": 17,
    "start_time": "2025-03-16T19:37:44.299Z"
   },
   {
    "duration": 7,
    "start_time": "2025-03-16T19:37:44.317Z"
   },
   {
    "duration": 259,
    "start_time": "2025-03-16T19:37:44.326Z"
   },
   {
    "duration": 16,
    "start_time": "2025-03-16T19:37:44.589Z"
   },
   {
    "duration": 308,
    "start_time": "2025-03-16T19:37:44.606Z"
   },
   {
    "duration": 14,
    "start_time": "2025-03-16T19:37:44.916Z"
   },
   {
    "duration": 334,
    "start_time": "2025-03-16T19:37:44.931Z"
   },
   {
    "duration": 38,
    "start_time": "2025-03-16T19:37:45.270Z"
   },
   {
    "duration": 468,
    "start_time": "2025-03-16T19:37:45.310Z"
   },
   {
    "duration": 12,
    "start_time": "2025-03-16T19:37:45.786Z"
   },
   {
    "duration": 20,
    "start_time": "2025-03-16T19:37:45.799Z"
   },
   {
    "duration": 34,
    "start_time": "2025-03-16T19:37:45.820Z"
   },
   {
    "duration": 517,
    "start_time": "2025-03-16T19:37:45.859Z"
   },
   {
    "duration": 5,
    "start_time": "2025-03-16T19:37:46.377Z"
   },
   {
    "duration": 67,
    "start_time": "2025-03-16T19:37:46.383Z"
   },
   {
    "duration": 50,
    "start_time": "2025-03-16T19:37:46.451Z"
   },
   {
    "duration": 510,
    "start_time": "2025-03-16T19:37:46.502Z"
   },
   {
    "duration": 5,
    "start_time": "2025-03-16T19:37:47.013Z"
   },
   {
    "duration": 7,
    "start_time": "2025-03-16T19:37:47.019Z"
   },
   {
    "duration": 51,
    "start_time": "2025-03-16T19:37:47.027Z"
   },
   {
    "duration": 508,
    "start_time": "2025-03-16T19:37:47.080Z"
   },
   {
    "duration": 6,
    "start_time": "2025-03-16T19:37:47.590Z"
   },
   {
    "duration": 5,
    "start_time": "2025-03-16T19:37:47.599Z"
   },
   {
    "duration": 7,
    "start_time": "2025-03-16T19:37:47.605Z"
   },
   {
    "duration": 259,
    "start_time": "2025-03-16T19:37:47.613Z"
   },
   {
    "duration": 16,
    "start_time": "2025-03-16T19:37:47.873Z"
   },
   {
    "duration": 434,
    "start_time": "2025-03-16T19:37:47.896Z"
   },
   {
    "duration": 17,
    "start_time": "2025-03-16T19:37:48.331Z"
   },
   {
    "duration": 33,
    "start_time": "2025-03-16T19:37:48.362Z"
   },
   {
    "duration": 212,
    "start_time": "2025-03-16T19:37:48.398Z"
   },
   {
    "duration": 8,
    "start_time": "2025-03-16T19:37:48.611Z"
   },
   {
    "duration": 129,
    "start_time": "2025-03-16T19:37:48.621Z"
   },
   {
    "duration": 22,
    "start_time": "2025-03-16T19:37:48.751Z"
   },
   {
    "duration": 173,
    "start_time": "2025-03-16T19:37:48.777Z"
   },
   {
    "duration": 11,
    "start_time": "2025-03-16T19:37:48.951Z"
   },
   {
    "duration": 146,
    "start_time": "2025-03-16T19:37:48.964Z"
   },
   {
    "duration": 8,
    "start_time": "2025-03-16T19:37:49.111Z"
   },
   {
    "duration": 119,
    "start_time": "2025-03-16T19:37:49.120Z"
   },
   {
    "duration": 6,
    "start_time": "2025-03-16T19:37:49.241Z"
   },
   {
    "duration": 136,
    "start_time": "2025-03-16T19:37:49.249Z"
   },
   {
    "duration": 11,
    "start_time": "2025-03-16T19:37:49.386Z"
   },
   {
    "duration": 120,
    "start_time": "2025-03-16T19:37:49.399Z"
   },
   {
    "duration": 8,
    "start_time": "2025-03-16T19:37:49.521Z"
   },
   {
    "duration": 139,
    "start_time": "2025-03-16T19:37:49.530Z"
   },
   {
    "duration": 9,
    "start_time": "2025-03-16T19:37:49.672Z"
   },
   {
    "duration": 133,
    "start_time": "2025-03-16T19:37:49.683Z"
   },
   {
    "duration": 5,
    "start_time": "2025-03-16T19:37:49.818Z"
   },
   {
    "duration": 20,
    "start_time": "2025-03-16T19:37:49.824Z"
   },
   {
    "duration": 5,
    "start_time": "2025-03-16T19:37:49.845Z"
   },
   {
    "duration": 18,
    "start_time": "2025-03-16T19:37:49.852Z"
   },
   {
    "duration": 12,
    "start_time": "2025-03-16T19:37:49.875Z"
   },
   {
    "duration": 7,
    "start_time": "2025-03-16T19:37:49.894Z"
   },
   {
    "duration": 6,
    "start_time": "2025-03-16T19:40:19.235Z"
   },
   {
    "duration": 5,
    "start_time": "2025-03-16T19:40:24.600Z"
   },
   {
    "duration": 1131,
    "start_time": "2025-03-18T17:50:06.062Z"
   },
   {
    "duration": 57,
    "start_time": "2025-03-18T17:50:07.195Z"
   },
   {
    "duration": 13,
    "start_time": "2025-03-18T17:50:07.254Z"
   },
   {
    "duration": 21,
    "start_time": "2025-03-18T17:50:07.269Z"
   },
   {
    "duration": 21,
    "start_time": "2025-03-18T17:50:07.292Z"
   },
   {
    "duration": 8,
    "start_time": "2025-03-18T17:50:07.314Z"
   },
   {
    "duration": 51,
    "start_time": "2025-03-18T17:50:07.323Z"
   },
   {
    "duration": 7,
    "start_time": "2025-03-18T17:50:07.376Z"
   },
   {
    "duration": 15,
    "start_time": "2025-03-18T17:50:07.385Z"
   },
   {
    "duration": 17,
    "start_time": "2025-03-18T17:50:07.401Z"
   },
   {
    "duration": 17,
    "start_time": "2025-03-18T17:50:07.419Z"
   },
   {
    "duration": 27,
    "start_time": "2025-03-18T17:50:07.437Z"
   },
   {
    "duration": 11,
    "start_time": "2025-03-18T17:50:07.466Z"
   },
   {
    "duration": 16,
    "start_time": "2025-03-18T17:50:07.479Z"
   },
   {
    "duration": 8,
    "start_time": "2025-03-18T17:50:07.497Z"
   },
   {
    "duration": 9,
    "start_time": "2025-03-18T17:50:07.506Z"
   },
   {
    "duration": 54,
    "start_time": "2025-03-18T17:50:07.517Z"
   },
   {
    "duration": 6,
    "start_time": "2025-03-18T17:50:07.573Z"
   },
   {
    "duration": 503,
    "start_time": "2025-03-18T17:50:07.580Z"
   },
   {
    "duration": 17,
    "start_time": "2025-03-18T17:50:08.084Z"
   },
   {
    "duration": 25,
    "start_time": "2025-03-18T17:50:08.102Z"
   },
   {
    "duration": 473,
    "start_time": "2025-03-18T17:50:08.129Z"
   },
   {
    "duration": 20,
    "start_time": "2025-03-18T17:50:08.603Z"
   },
   {
    "duration": 10,
    "start_time": "2025-03-18T17:50:08.624Z"
   },
   {
    "duration": 243,
    "start_time": "2025-03-18T17:50:08.635Z"
   },
   {
    "duration": 17,
    "start_time": "2025-03-18T17:50:08.880Z"
   },
   {
    "duration": 3,
    "start_time": "2025-03-18T17:50:08.959Z"
   },
   {
    "duration": 3536,
    "start_time": "2025-03-18T17:50:08.963Z"
   },
   {
    "duration": 71,
    "start_time": "2025-03-18T17:50:12.500Z"
   },
   {
    "duration": 6,
    "start_time": "2025-03-18T17:50:12.572Z"
   },
   {
    "duration": 406,
    "start_time": "2025-03-18T17:50:12.580Z"
   },
   {
    "duration": 71,
    "start_time": "2025-03-18T17:50:12.988Z"
   },
   {
    "duration": 523,
    "start_time": "2025-03-18T17:50:13.061Z"
   },
   {
    "duration": 72,
    "start_time": "2025-03-18T17:50:13.586Z"
   },
   {
    "duration": 612,
    "start_time": "2025-03-18T17:50:13.660Z"
   },
   {
    "duration": 89,
    "start_time": "2025-03-18T17:50:14.274Z"
   },
   {
    "duration": 728,
    "start_time": "2025-03-18T17:50:14.364Z"
   },
   {
    "duration": 5,
    "start_time": "2025-03-18T17:50:15.094Z"
   },
   {
    "duration": 60,
    "start_time": "2025-03-18T17:50:15.100Z"
   },
   {
    "duration": 97,
    "start_time": "2025-03-18T17:50:15.161Z"
   },
   {
    "duration": 899,
    "start_time": "2025-03-18T17:50:15.263Z"
   },
   {
    "duration": 5,
    "start_time": "2025-03-18T17:50:16.164Z"
   },
   {
    "duration": 113,
    "start_time": "2025-03-18T17:50:16.171Z"
   },
   {
    "duration": 86,
    "start_time": "2025-03-18T17:50:16.286Z"
   },
   {
    "duration": 829,
    "start_time": "2025-03-18T17:50:16.375Z"
   },
   {
    "duration": 5,
    "start_time": "2025-03-18T17:50:17.258Z"
   },
   {
    "duration": 5,
    "start_time": "2025-03-18T17:50:17.265Z"
   },
   {
    "duration": 88,
    "start_time": "2025-03-18T17:50:17.271Z"
   },
   {
    "duration": 805,
    "start_time": "2025-03-18T17:50:17.360Z"
   },
   {
    "duration": 5,
    "start_time": "2025-03-18T17:50:18.166Z"
   },
   {
    "duration": 7,
    "start_time": "2025-03-18T17:50:18.173Z"
   },
   {
    "duration": 6,
    "start_time": "2025-03-18T17:50:18.182Z"
   },
   {
    "duration": 475,
    "start_time": "2025-03-18T17:50:18.190Z"
   },
   {
    "duration": 9,
    "start_time": "2025-03-18T17:50:18.667Z"
   },
   {
    "duration": 980,
    "start_time": "2025-03-18T17:50:18.678Z"
   },
   {
    "duration": 16,
    "start_time": "2025-03-18T17:50:19.660Z"
   },
   {
    "duration": 8,
    "start_time": "2025-03-18T17:50:19.678Z"
   },
   {
    "duration": 276,
    "start_time": "2025-03-18T17:50:19.688Z"
   },
   {
    "duration": 7,
    "start_time": "2025-03-18T17:50:19.967Z"
   },
   {
    "duration": 295,
    "start_time": "2025-03-18T17:50:19.975Z"
   },
   {
    "duration": 7,
    "start_time": "2025-03-18T17:50:20.271Z"
   },
   {
    "duration": 380,
    "start_time": "2025-03-18T17:50:20.280Z"
   },
   {
    "duration": 7,
    "start_time": "2025-03-18T17:50:20.661Z"
   },
   {
    "duration": 229,
    "start_time": "2025-03-18T17:50:20.670Z"
   },
   {
    "duration": 6,
    "start_time": "2025-03-18T17:50:20.959Z"
   },
   {
    "duration": 208,
    "start_time": "2025-03-18T17:50:20.967Z"
   },
   {
    "duration": 104,
    "start_time": "2025-03-18T17:50:21.176Z"
   },
   {
    "duration": 150,
    "start_time": "2025-03-18T17:50:21.282Z"
   },
   {
    "duration": 6,
    "start_time": "2025-03-18T17:50:21.434Z"
   },
   {
    "duration": 109,
    "start_time": "2025-03-18T17:50:21.442Z"
   },
   {
    "duration": 7,
    "start_time": "2025-03-18T17:50:21.558Z"
   },
   {
    "duration": 111,
    "start_time": "2025-03-18T17:50:21.567Z"
   },
   {
    "duration": 7,
    "start_time": "2025-03-18T17:50:21.680Z"
   },
   {
    "duration": 112,
    "start_time": "2025-03-18T17:50:21.688Z"
   },
   {
    "duration": 5,
    "start_time": "2025-03-18T17:50:21.802Z"
   },
   {
    "duration": 6,
    "start_time": "2025-03-18T17:50:21.808Z"
   },
   {
    "duration": 9,
    "start_time": "2025-03-18T17:50:21.815Z"
   },
   {
    "duration": 12,
    "start_time": "2025-03-18T17:50:21.825Z"
   },
   {
    "duration": 5,
    "start_time": "2025-03-18T17:50:21.857Z"
   },
   {
    "duration": 27,
    "start_time": "2025-03-18T17:50:21.863Z"
   }
  ],
  "kernelspec": {
   "display_name": "Python 3 (ipykernel)",
   "language": "python",
   "name": "python3"
  },
  "language_info": {
   "codemirror_mode": {
    "name": "ipython",
    "version": 3
   },
   "file_extension": ".py",
   "mimetype": "text/x-python",
   "name": "python",
   "nbconvert_exporter": "python",
   "pygments_lexer": "ipython3",
   "version": "3.9.5"
  },
  "toc": {
   "base_numbering": 1,
   "nav_menu": {},
   "number_sections": true,
   "sideBar": true,
   "skip_h1_title": true,
   "title_cell": "Table of Contents",
   "title_sidebar": "Contents",
   "toc_cell": false,
   "toc_position": {},
   "toc_section_display": true,
   "toc_window_display": false
  }
 },
 "nbformat": 4,
 "nbformat_minor": 2
}

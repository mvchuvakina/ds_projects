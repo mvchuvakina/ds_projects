{
 "cells": [
  {
   "cell_type": "markdown",
   "metadata": {},
   "source": [
    "<div class=\"alert alert-info\">\n",
    "<font size=\"5\"><b>Комментарий ревьюера</b></font>\n",
    "\n",
    "Привет Мария! Меня зовут Марат, и я буду твоим ревьюером. Спешу сообщить что все ключевые этапы в работе выполнены,  с задачей тебе удалось справиться. По поводу обращения - в IT сфере принято общаться на «ты» :) Но, если привычней на «вы», дай знать. Как ревьюера моя задача помочь тебе в развитии, дав хорошие советы. Я внимательно посмотрю твой код, ознакомлюсь с твоими выводами и оставлю комментарии. Где то могу предложить небольшие исправление в коде, но ненавязчиво. Где потребуются уточнения, я оставлю много наводящих вопросов. Они помогут тебя с поиском верного решения.\n",
    "\n",
    "Все мои комментарии размечены по цветам, для лучшего восприятия. \n",
    "    \n",
    "<div class=\"alert alert-success\">Зеленым цветом и словом «Успех» отмечены особо удачные и элегантные решения, которыми ты можешь гордиться. </div>\n",
    "        \n",
    "<div class=\"alert alert-warning\">Желтым и значком словом «Совет», помечены решения у которых есть альтернативные решения, более оптимальные. Ты можешь найти их сразу и доработать проект, или отложить это на потом, для будущих проектах. Проект будет принят и без их доработки. </div>\n",
    "        \n",
    "<div class=\"alert alert-danger\"> Красным цветом и значком словом «Ошибка» помечу твои решения, на которые стоит обратить внимание прежде всего. После их доработки проект будет принят. </div>\n",
    "        \n",
    "Залог успеха - работа сообща, взаимное уважение и работа в диалоге. Поэтому, помечай свои ответные комментарии на мои реплики заметным цветом или курсивом, так мне будет легче их отслеживать. Пожалуйста, не изменяй и не удаляй мои комментарии. Все это поможет выполнить повторную проверку быстрей.\n",
    "\n",
    "</div>\n",
    "\n",
    "\n",
    "\n",
    "---\n",
    "    \n",
    "Для лучшей коммуникации будет лучше если ты будешь оставлять ответные комментарий (cвои комментарии к исправлениям, вопросы), так результат будет лучше.  А чтобы ревьюры их не теряли, лучше их подсвечивать цветом (можешь выбрать свой, а можешь использовать   тот который я предложил ниже). И чтобы не возникло путаницы лучше оставлять указание на номер версии комментария по итерация:  \n",
    "\n",
    "1 итерация\n",
    "\n",
    "<div class=\"alert alert-info\"> <b>Комментарии студентаV1:</b> Привет Марат!.</div>\n",
    "\n",
    "\n",
    "2 итерация\n",
    "\n",
    "<div class=\"alert alert-info\"> <b>Комментарии студентаV2:</b> Исправлено.... </div>\n",
    "    \n",
    "    \n",
    "И лучше подсвечивать свои комментарии цветом, для этого достаточно в ячейку markdown добавить: \n",
    "\n",
    "```html\n",
    "<div class=\"alert alert-info\"> <b>Комментарии студентаV2:</b> Исправлено.... </div>    \n",
    "\n",
    "```    \n",
    "    \n",
    "Хорошая коммуникация залог успеха! )\n",
    "    \n",
    "---"
   ]
  },
  {
   "cell_type": "markdown",
   "metadata": {
    "toc": true
   },
   "source": [
    "<h1>Содержание<span class=\"tocSkip\"></span></h1>\n",
    "<div class=\"toc\"><ul class=\"toc-item\"><li><span><a href=\"#Подготовка\" data-toc-modified-id=\"Подготовка-1\"><span class=\"toc-item-num\">1&nbsp;&nbsp;</span>Подготовка</a></span></li><li><span><a href=\"#Обучение\" data-toc-modified-id=\"Обучение-2\"><span class=\"toc-item-num\">2&nbsp;&nbsp;</span>Обучение</a></span></li><li><span><a href=\"#Выводы\" data-toc-modified-id=\"Выводы-3\"><span class=\"toc-item-num\">3&nbsp;&nbsp;</span>Выводы</a></span></li><li><span><a href=\"#Общий-вывод\" data-toc-modified-id=\"Общий-вывод-4\"><span class=\"toc-item-num\">4&nbsp;&nbsp;</span>Общий вывод</a></span><ul class=\"toc-item\"><li><span><a href=\"#Краткие-выводы\" data-toc-modified-id=\"Краткие-выводы-4.1\"><span class=\"toc-item-num\">4.1&nbsp;&nbsp;</span>Краткие выводы</a></span></li><li><span><a href=\"#1.-Результаты-кросс-валидации\" data-toc-modified-id=\"1.-Результаты-кросс-валидации-4.2\"><span class=\"toc-item-num\">4.2&nbsp;&nbsp;</span>1. Результаты кросс-валидации</a></span></li><li><span><a href=\"#2.-Результаты-на-тестовой-выборке-(LogisticRegression)\" data-toc-modified-id=\"2.-Результаты-на-тестовой-выборке-(LogisticRegression)-4.3\"><span class=\"toc-item-num\">4.3&nbsp;&nbsp;</span>2. Результаты на тестовой выборке (LogisticRegression)</a></span></li><li><span><a href=\"#3.-Анализ-моделей\" data-toc-modified-id=\"3.-Анализ-моделей-4.4\"><span class=\"toc-item-num\">4.4&nbsp;&nbsp;</span>3. Анализ моделей</a></span></li><li><span><a href=\"#4.-Рекомендации\" data-toc-modified-id=\"4.-Рекомендации-4.5\"><span class=\"toc-item-num\">4.5&nbsp;&nbsp;</span>4. Рекомендации</a></span></li></ul></li><li><span><a href=\"#Чек-лист-проверки\" data-toc-modified-id=\"Чек-лист-проверки-5\"><span class=\"toc-item-num\">5&nbsp;&nbsp;</span>Чек-лист проверки</a></span></li></ul></div>"
   ]
  },
  {
   "cell_type": "markdown",
   "metadata": {},
   "source": [
    "# Проект для «Викишоп»"
   ]
  },
  {
   "cell_type": "markdown",
   "metadata": {},
   "source": [
    "Интернет-магазин «Викишоп» запускает новый сервис. Теперь пользователи могут редактировать и дополнять описания товаров, как в вики-сообществах. То есть клиенты предлагают свои правки и комментируют изменения других. Магазину нужен инструмент, который будет искать токсичные комментарии и отправлять их на модерацию. \n",
    "\n",
    "Обучите модель классифицировать комментарии на позитивные и негативные. В вашем распоряжении набор данных с разметкой о токсичности правок.\n",
    "\n",
    "Постройте модель со значением метрики качества *F1* не меньше 0.75. \n",
    "\n",
    "**Инструкция по выполнению проекта**\n",
    "\n",
    "1. Загрузите и подготовьте данные.\n",
    "2. Обучите разные модели. \n",
    "3. Сделайте выводы.\n",
    "\n",
    "Для выполнения проекта применять *BERT* необязательно, но вы можете попробовать.\n",
    "\n",
    "**Описание данных**\n",
    "\n",
    "Данные находятся в файле `toxic_comments.csv`. Столбец *text* в нём содержит текст комментария, а *toxic* — целевой признак."
   ]
  },
  {
   "cell_type": "code",
   "execution_count": 1,
   "metadata": {},
   "outputs": [],
   "source": [
    "!pip install wordcloud==1.8.2.2 -q\n",
    "!pip install Pillow==9.5.0 -q\n",
    "\n",
    "import re\n",
    "import time\n",
    "import warnings\n",
    "import numpy as np\n",
    "import pandas as pd\n",
    "import matplotlib.pyplot as plt\n",
    "import seaborn as sns\n",
    "\n",
    "import nltk\n",
    "from nltk.corpus import stopwords\n",
    "from nltk.stem import WordNetLemmatizer\n",
    "import spacy\n",
    "from wordcloud import WordCloud\n",
    "\n",
    "from sklearn.pipeline import Pipeline\n",
    "from sklearn.model_selection import (\n",
    "    train_test_split, GridSearchCV, StratifiedKFold,\n",
    "    cross_validate, cross_val_score\n",
    ")\n",
    "from sklearn.feature_extraction.text import TfidfVectorizer\n",
    "from sklearn.linear_model import LogisticRegression, SGDClassifier\n",
    "from sklearn.ensemble import RandomForestClassifier\n",
    "from sklearn.metrics import f1_score, roc_curve, roc_auc_score\n",
    "\n",
    "from catboost import CatBoostClassifier, Pool\n",
    "from lightgbm import LGBMClassifier\n",
    "\n",
    "warnings.filterwarnings(\"ignore\")\n"
   ]
  },
  {
   "cell_type": "markdown",
   "metadata": {},
   "source": [
    "## Подготовка"
   ]
  },
  {
   "cell_type": "code",
   "execution_count": 2,
   "metadata": {},
   "outputs": [
    {
     "data": {
      "text/html": [
       "<div>\n",
       "<style scoped>\n",
       "    .dataframe tbody tr th:only-of-type {\n",
       "        vertical-align: middle;\n",
       "    }\n",
       "\n",
       "    .dataframe tbody tr th {\n",
       "        vertical-align: top;\n",
       "    }\n",
       "\n",
       "    .dataframe thead th {\n",
       "        text-align: right;\n",
       "    }\n",
       "</style>\n",
       "<table border=\"1\" class=\"dataframe\">\n",
       "  <thead>\n",
       "    <tr style=\"text-align: right;\">\n",
       "      <th></th>\n",
       "      <th>text</th>\n",
       "      <th>toxic</th>\n",
       "    </tr>\n",
       "  </thead>\n",
       "  <tbody>\n",
       "    <tr>\n",
       "      <th>0</th>\n",
       "      <td>Explanation\\nWhy the edits made under my usern...</td>\n",
       "      <td>0</td>\n",
       "    </tr>\n",
       "    <tr>\n",
       "      <th>1</th>\n",
       "      <td>D'aww! He matches this background colour I'm s...</td>\n",
       "      <td>0</td>\n",
       "    </tr>\n",
       "    <tr>\n",
       "      <th>2</th>\n",
       "      <td>Hey man, I'm really not trying to edit war. It...</td>\n",
       "      <td>0</td>\n",
       "    </tr>\n",
       "    <tr>\n",
       "      <th>3</th>\n",
       "      <td>\"\\nMore\\nI can't make any real suggestions on ...</td>\n",
       "      <td>0</td>\n",
       "    </tr>\n",
       "    <tr>\n",
       "      <th>4</th>\n",
       "      <td>You, sir, are my hero. Any chance you remember...</td>\n",
       "      <td>0</td>\n",
       "    </tr>\n",
       "  </tbody>\n",
       "</table>\n",
       "</div>"
      ],
      "text/plain": [
       "                                                text  toxic\n",
       "0  Explanation\\nWhy the edits made under my usern...      0\n",
       "1  D'aww! He matches this background colour I'm s...      0\n",
       "2  Hey man, I'm really not trying to edit war. It...      0\n",
       "3  \"\\nMore\\nI can't make any real suggestions on ...      0\n",
       "4  You, sir, are my hero. Any chance you remember...      0"
      ]
     },
     "execution_count": 2,
     "metadata": {},
     "output_type": "execute_result"
    }
   ],
   "source": [
    "toxic_comments = pd.read_csv('/datasets/toxic_comments.csv', index_col=0)\n",
    "toxic_comments.head()"
   ]
  },
  {
   "cell_type": "markdown",
   "metadata": {},
   "source": [
    "<div class=\"alert alert-warning\">\n",
    "<font size=\"5\"><b>Комментарий ревьюера</b></font>\n",
    "\n",
    "Совет: \n",
    "\n",
    "\n",
    "Если не знаешь - чтобы не было столбца  `Unnamed: 0` при чтении файла можно так:\n",
    "\n",
    "\n",
    "    pd.read_csv(..., index_col=0)\n",
    "\n",
    "    \n",
    "(`Unnamed: 0` появляется при не совсем корректном сохранении файла)    \n",
    "\n",
    "\n",
    "Unnamed: 0 это \"след\" старых индексов. Если ты уберёшь первые 10 примеров и своего датасета, сохранишь его, а потом откроешь,  то появится столбец Unnamed: 0 начиная с цифры 9, и появится новый индексы начиная с нуля \n",
    "\n",
    "\n",
    "Но это мелочь,  даже не нужно ничего исправлять. Просто знай, чтобы увидев такое в чужом коде не удивляться что бы это могло означать"
   ]
  },
  {
   "cell_type": "markdown",
   "metadata": {},
   "source": [
    "<div class=\"alert alert-info\"> <b>Комментарии студентаV1:</b> Добавила параметр index_col=0.</div>"
   ]
  },
  {
   "cell_type": "markdown",
   "metadata": {},
   "source": [
    "<div class=\"alert alert-success\">\n",
    "<font size=\"5\"><b>Комментарий ревьюераV2</b></font>\n",
    "\n",
    "\n",
    "\n",
    "Успех 👍:\n",
    "\n",
    "\n",
    "\n",
    "👍\n",
    "\n",
    "\n",
    "Привет Мария "
   ]
  },
  {
   "cell_type": "code",
   "execution_count": 3,
   "metadata": {},
   "outputs": [
    {
     "data": {
      "text/html": [
       "<div>\n",
       "<style scoped>\n",
       "    .dataframe tbody tr th:only-of-type {\n",
       "        vertical-align: middle;\n",
       "    }\n",
       "\n",
       "    .dataframe tbody tr th {\n",
       "        vertical-align: top;\n",
       "    }\n",
       "\n",
       "    .dataframe thead th {\n",
       "        text-align: right;\n",
       "    }\n",
       "</style>\n",
       "<table border=\"1\" class=\"dataframe\">\n",
       "  <thead>\n",
       "    <tr style=\"text-align: right;\">\n",
       "      <th></th>\n",
       "      <th>text</th>\n",
       "      <th>toxic</th>\n",
       "    </tr>\n",
       "  </thead>\n",
       "  <tbody>\n",
       "    <tr>\n",
       "      <th>159446</th>\n",
       "      <td>\":::::And for the second time of asking, when ...</td>\n",
       "      <td>0</td>\n",
       "    </tr>\n",
       "    <tr>\n",
       "      <th>159447</th>\n",
       "      <td>You should be ashamed of yourself \\n\\nThat is ...</td>\n",
       "      <td>0</td>\n",
       "    </tr>\n",
       "    <tr>\n",
       "      <th>159448</th>\n",
       "      <td>Spitzer \\n\\nUmm, theres no actual article for ...</td>\n",
       "      <td>0</td>\n",
       "    </tr>\n",
       "    <tr>\n",
       "      <th>159449</th>\n",
       "      <td>And it looks like it was actually you who put ...</td>\n",
       "      <td>0</td>\n",
       "    </tr>\n",
       "    <tr>\n",
       "      <th>159450</th>\n",
       "      <td>\"\\nAnd ... I really don't think you understand...</td>\n",
       "      <td>0</td>\n",
       "    </tr>\n",
       "  </tbody>\n",
       "</table>\n",
       "</div>"
      ],
      "text/plain": [
       "                                                     text  toxic\n",
       "159446  \":::::And for the second time of asking, when ...      0\n",
       "159447  You should be ashamed of yourself \\n\\nThat is ...      0\n",
       "159448  Spitzer \\n\\nUmm, theres no actual article for ...      0\n",
       "159449  And it looks like it was actually you who put ...      0\n",
       "159450  \"\\nAnd ... I really don't think you understand...      0"
      ]
     },
     "execution_count": 3,
     "metadata": {},
     "output_type": "execute_result"
    }
   ],
   "source": [
    "toxic_comments.tail()"
   ]
  },
  {
   "cell_type": "markdown",
   "metadata": {},
   "source": [
    "Видим, что столбец Unnamed: 0 дублирует индексы, поэтому удалим его"
   ]
  },
  {
   "cell_type": "code",
   "execution_count": 4,
   "metadata": {},
   "outputs": [
    {
     "data": {
      "text/plain": [
       "text     0\n",
       "toxic    0\n",
       "dtype: int64"
      ]
     },
     "execution_count": 4,
     "metadata": {},
     "output_type": "execute_result"
    }
   ],
   "source": [
    "toxic_comments.isna().sum()"
   ]
  },
  {
   "cell_type": "code",
   "execution_count": 5,
   "metadata": {},
   "outputs": [
    {
     "name": "stdout",
     "output_type": "stream",
     "text": [
      "<class 'pandas.core.frame.DataFrame'>\n",
      "Int64Index: 159292 entries, 0 to 159450\n",
      "Data columns (total 2 columns):\n",
      " #   Column  Non-Null Count   Dtype \n",
      "---  ------  --------------   ----- \n",
      " 0   text    159292 non-null  object\n",
      " 1   toxic   159292 non-null  int64 \n",
      "dtypes: int64(1), object(1)\n",
      "memory usage: 3.6+ MB\n"
     ]
    }
   ],
   "source": [
    "toxic_comments.info()"
   ]
  },
  {
   "cell_type": "markdown",
   "metadata": {},
   "source": [
    "Пропусков не наблюдается, тип столбцов корректный"
   ]
  },
  {
   "cell_type": "markdown",
   "metadata": {},
   "source": [
    "В текстах наблюдаются лишние символы, очистим их, используя регулярные выражения. Затем лемматизируем текст, учитывая стоп слова. Воспользуемся SpaCy лемматизатором"
   ]
  },
  {
   "cell_type": "code",
   "execution_count": 6,
   "metadata": {},
   "outputs": [],
   "source": [
    "nlp = spacy.load('en_core_web_sm')"
   ]
  },
  {
   "cell_type": "code",
   "execution_count": 7,
   "metadata": {},
   "outputs": [],
   "source": [
    "def lemmatizer(text):\n",
    "    text = text.lower()  \n",
    "    doc = nlp(text)       \n",
    "    lemma = [\n",
    "        token.lemma_\n",
    "        for token in doc \n",
    "        if not token.is_stop and not token.is_punct and not token.is_space\n",
    "    ]\n",
    "    return ' '.join(lemma)\n"
   ]
  },
  {
   "cell_type": "code",
   "execution_count": 8,
   "metadata": {},
   "outputs": [
    {
     "data": {
      "text/html": [
       "<div>\n",
       "<style scoped>\n",
       "    .dataframe tbody tr th:only-of-type {\n",
       "        vertical-align: middle;\n",
       "    }\n",
       "\n",
       "    .dataframe tbody tr th {\n",
       "        vertical-align: top;\n",
       "    }\n",
       "\n",
       "    .dataframe thead th {\n",
       "        text-align: right;\n",
       "    }\n",
       "</style>\n",
       "<table border=\"1\" class=\"dataframe\">\n",
       "  <thead>\n",
       "    <tr style=\"text-align: right;\">\n",
       "      <th></th>\n",
       "      <th>text</th>\n",
       "      <th>toxic</th>\n",
       "      <th>lemm_text</th>\n",
       "    </tr>\n",
       "  </thead>\n",
       "  <tbody>\n",
       "    <tr>\n",
       "      <th>0</th>\n",
       "      <td>Explanation\\nWhy the edits made under my usern...</td>\n",
       "      <td>0</td>\n",
       "      <td>explanation edit username hardcore metallica f...</td>\n",
       "    </tr>\n",
       "    <tr>\n",
       "      <th>1</th>\n",
       "      <td>D'aww! He matches this background colour I'm s...</td>\n",
       "      <td>0</td>\n",
       "      <td>d'aww match background colour seemingly stuck ...</td>\n",
       "    </tr>\n",
       "    <tr>\n",
       "      <th>2</th>\n",
       "      <td>Hey man, I'm really not trying to edit war. It...</td>\n",
       "      <td>0</td>\n",
       "      <td>hey man try edit war guy constantly remove rel...</td>\n",
       "    </tr>\n",
       "    <tr>\n",
       "      <th>3</th>\n",
       "      <td>\"\\nMore\\nI can't make any real suggestions on ...</td>\n",
       "      <td>0</td>\n",
       "      <td>real suggestion improvement wonder section sta...</td>\n",
       "    </tr>\n",
       "    <tr>\n",
       "      <th>4</th>\n",
       "      <td>You, sir, are my hero. Any chance you remember...</td>\n",
       "      <td>0</td>\n",
       "      <td>sir hero chance remember page</td>\n",
       "    </tr>\n",
       "  </tbody>\n",
       "</table>\n",
       "</div>"
      ],
      "text/plain": [
       "                                                text  toxic  \\\n",
       "0  Explanation\\nWhy the edits made under my usern...      0   \n",
       "1  D'aww! He matches this background colour I'm s...      0   \n",
       "2  Hey man, I'm really not trying to edit war. It...      0   \n",
       "3  \"\\nMore\\nI can't make any real suggestions on ...      0   \n",
       "4  You, sir, are my hero. Any chance you remember...      0   \n",
       "\n",
       "                                           lemm_text  \n",
       "0  explanation edit username hardcore metallica f...  \n",
       "1  d'aww match background colour seemingly stuck ...  \n",
       "2  hey man try edit war guy constantly remove rel...  \n",
       "3  real suggestion improvement wonder section sta...  \n",
       "4                      sir hero chance remember page  "
      ]
     },
     "execution_count": 8,
     "metadata": {},
     "output_type": "execute_result"
    }
   ],
   "source": [
    "toxic_comments['lemm_text'] = toxic_comments['text'].apply(lemmatizer)\n",
    "toxic_comments.head()"
   ]
  },
  {
   "cell_type": "markdown",
   "metadata": {},
   "source": [
    "<div class=\"alert alert-danger\">\n",
    "<font size=\"5\"><b>Комментарий ревьюера</b></font>\n",
    "\n",
    "Ошибка:\n",
    "\n",
    "\n",
    "\n",
    "- WordNetLemmatizer  рабочий вариант, но у него есть особенности, для корректной работы ему нужно передавать не просто слово, но и POS-тег (Part of Speech, части речи). Набираемся ума-разума [тут](https://webdevblog.ru/podhody-lemmatizacii-s-primerami-v-python/) если не откроется то [тут](https://translated.turbopages.org/proxy_u/en-ru.ru.5ece9195-67a114e7-50ce8fac-74722d776562/https/www.geeksforgeeks.org/python-lemmatization-approaches-with-examples/) или [тут](https://dnmtechs.com/wordnet-lemmatization-and-pos-tagging-in-python-3-programming/).  Обрати внимание на функцию `get_wordnet_pos`. Сразу хочу предупредить, что если делать Лемматизацию правильно, сучетом постегов, то время может занять минут 20-30 (Если больше значит есть проблемы с эффективностью кода). Так что не удивляйся (вообще советую сохранить результаты Лематизации в каком-то файлике, чтобы каждый раз не тратить на это много времени)\n",
    "\n",
    "\n",
    " \n",
    "\n",
    "\n",
    "\n",
    " \n",
    "\n",
    "\n",
    "\n",
    "\n",
    "<div class=\"alert alert-warning\">\n",
    "\n",
    "\n",
    "Совет: \n",
    "\n",
    "\n",
    "\n",
    "\n",
    "- лемматизацию можно было сделать с помощью SpaCy лемматизатором и прямо скажем как инструмент он более удобен и универсален, не нужно заморачиваться с токенизацией и учётом пос тегов\n",
    "\n",
    "\n",
    "\n",
    "\n",
    "- Чтобы сэкономить время, и убедиться что всё отработало нормально, берёшь парочку предложений, создаёшь dataframe\n",
    "    \n",
    "    \n",
    "    sentence1 = \"The striped bats are hanging on their feet for best\"\n",
    "    sentence2 = \"you should be ashamed of yourself went worked\"\n",
    "    df_my = pd.DataFrame([sentence1, sentence2], columns = ['text'])\n",
    "    print(df_my)\n",
    "\n",
    "\n",
    "    print(df_my['text'].apply(func))\n",
    "    \n",
    "    \n",
    "    \n",
    "И тестируешь не нем, должно получиться \n",
    "    \n",
    "    \n",
    "    \n",
    "    trying  ------> try, went -------> go  \n",
    "\n",
    "\n",
    "(striped в данном контексте - причастие, используемое в функции прилагательного (также в кембриджском словаре помечено как adjective), соответственно, это и есть начальная форма. Так что по идее должно остаться как прежде)\n",
    "\n",
    "Если всё получилось, то можно использовать на всём датасете"
   ]
  },
  {
   "cell_type": "markdown",
   "metadata": {},
   "source": [
    "<div class=\"alert alert-info\"> <b>Комментарии студентаV2:</b> Сделала лемматизацию с помощью SpaCy, тк он оказался наиболее удобным.</div>"
   ]
  },
  {
   "cell_type": "markdown",
   "metadata": {},
   "source": [
    "<div class=\"alert alert-success\">\n",
    "<font size=\"5\"><b>Комментарий ревьюераV2</b></font>\n",
    "\n",
    "\n",
    "\n",
    "Успех 👍:\n",
    "\n",
    "\n",
    "\n",
    "👍\n",
    "\n",
    "\n",
    " "
   ]
  },
  {
   "cell_type": "markdown",
   "metadata": {},
   "source": [
    "<div class=\"alert alert-success\">\n",
    "<font size=\"5\"><b>Комментарий ревьюера</b></font>\n",
    "\n",
    "Успех:\n",
    "\n",
    " \n",
    "- Плюс за использование apply, неэффективные циклы нам ни к чему.\n",
    "\n",
    "\n",
    "- Да, всегда лучше проверить что получилось  в итоге, так всегда будет возможность поправить ошибку\n",
    "\n",
    "<div class=\"alert alert-warning\">\n",
    "\n",
    "\n",
    "Совет: \n",
    "\n",
    "\n",
    "    \n",
    "- попробуй .progress_apply, делает что .apply, но еще и показывает на какой итерации находится процесс.  \n",
    "\n",
    "Для некоторых версий, чтобы заработал .progress_apply предварительно нужно сделать:\n",
    "    \n",
    "    \n",
    "    from tqdm.notebook import tqdm\n",
    "    tqdm.pandas()\n",
    "     "
   ]
  },
  {
   "cell_type": "markdown",
   "metadata": {},
   "source": [
    "Рассмотрим целевой признак подробнее"
   ]
  },
  {
   "cell_type": "code",
   "execution_count": 9,
   "metadata": {},
   "outputs": [
    {
     "data": {
      "text/plain": [
       "0    143106\n",
       "1     16186\n",
       "Name: toxic, dtype: int64"
      ]
     },
     "execution_count": 9,
     "metadata": {},
     "output_type": "execute_result"
    }
   ],
   "source": [
    "toxic_comments['toxic'].value_counts()"
   ]
  },
  {
   "cell_type": "markdown",
   "metadata": {},
   "source": [
    "Заметим, что большинство комментариев не являются токсичными"
   ]
  },
  {
   "cell_type": "code",
   "execution_count": 10,
   "metadata": {},
   "outputs": [
    {
     "data": {
      "image/png": "[encoded data removed]",
      "text/plain": [
       "<Figure size 432x432 with 1 Axes>"
      ]
     },
     "metadata": {},
     "output_type": "display_data"
    }
   ],
   "source": [
    "counts = toxic_comments['toxic'].value_counts()\n",
    "\n",
    "# Подписи\n",
    "labels = ['Not Toxic', 'Toxic']\n",
    "\n",
    "# Построение круговой диаграммы\n",
    "plt.figure(figsize=(6, 6))\n",
    "plt.pie(counts, labels=labels, autopct='%1.1f%%', startangle=90, colors=['#66b3ff', '#ff9999'])\n",
    "plt.title('Распределение токсичных и нетоксичных комментариев')\n",
    "plt.axis('equal')  \n",
    "plt.show()"
   ]
  },
  {
   "cell_type": "markdown",
   "metadata": {},
   "source": [
    "2 класса распределены неравномерно, это следуют учесть при обучении модели. Для того, чтобы сохранить пропорции классов в обучающей и тестовой выборке учтем стратификацию при разделении данных"
   ]
  },
  {
   "cell_type": "markdown",
   "metadata": {},
   "source": [
    "<div class=\"alert alert-success\">\n",
    "<font size=\"5\"><b>Комментарий ревьюера</b></font>\n",
    "\n",
    "Успех:\n",
    "\n",
    " \n",
    "\n",
    "Плюс за   проверку на сбалансированность \n",
    "  \n",
    "\n",
    "<div class=\"alert alert-warning\">\n",
    "\n",
    "Совет: \n",
    "\n",
    " \n",
    "    \n",
    "    2 класса распределены неравномерно, это следуют учесть при обучении модели и при разделении на тестовую и обучающую выборку учесть параметр стратифицирования\n",
    "\n",
    "- Не надо путать стратификацию и дисбаланс. Со stratify мы убираем риски получения очень сильно отличающихся датасетов по пропорциям единичек и нулей. Посмотри долю \"Прежний уровень\" в таргетах для train и test со стратификацией, они будут одинаковыми - 89+%, это и есть результат стратификации. Но 89+%  при бинарном таргете это дисбаланс. Куда то исчез дисбаланс? Нет. Для чего вообще нужна стратификация? Представь что модель учится на train, где доля нулей (ну так получилось, сплит без stratify это полный рандом) оказалась  90%, а в test 51% (условно), это может стать проблемой для некоторых моделей с точки зрения качества прогноза. Поэтому есть у нас дисбаланс в данных или нет, стратификацию стоит использовать если ты не хочешь рисковать   получить неудачный сплит (кстати стратифицировать можно не только по таргету, можно по какому-то признаку) \n",
    "    \n",
    "         \n",
    "    \n",
    "    \n",
    "\n",
    "- можно также посчитать количество слов в предложений,  длину слов в твите, опять же в разбивке по Таргету.  Если будут какие-то сильные отличия, возможно из-за этого стоит сгенерировать дополнительные признаки для наших моделей. Или например можно использовать библиотеку SentimentIntensityAnalyzer для оценки сантиментов, и посмотреть насколько хорошо ее оценки корелирует с нашими таргетами\n",
    "   \n",
    "   \n",
    "- когда мы работаем с текстами, describe итп описательные статистике не использовать, но можно провести частотный анализ текста.  Предлагаю для этого использовать [облако слов](https://habr.com/ru/post/517410/) - чтобы получить общее представление о тематике и о наиболее часто встречаемых словах в токсичных и нетоксичных твитах (в облаке уже автоматически будут убраны стоп слова). Кроме того графики, рисунки делают проект визуально интересней\n",
    "   \n",
    "   \n",
    "В тренажере облако импортируем так\n",
    "\n",
    "    !pip install wordcloud \n",
    "\n",
    "\n",
    "или\n",
    "\n",
    "    !pip install wordcloud==1.8.2.2  \n",
    "\n",
    "\n",
    "И возможно дополнительно надо будет сделать\n",
    "\n",
    "\n",
    "\n",
    "    !pip install --upgrade Pillow  (попробуй версию 9.5.0)\n",
    " \n"
   ]
  },
  {
   "cell_type": "markdown",
   "metadata": {},
   "source": [
    "<div class=\"alert alert-info\"> <b>Комментарии студентаV3:</b> Поняла, учту!.</div>"
   ]
  },
  {
   "cell_type": "markdown",
   "metadata": {},
   "source": [
    "<div class=\"alert alert-warning\">\n",
    "<font size=\"5\"><b>Комментарий ревьюераV2</b></font>\n",
    "\n",
    "\n",
    "\n",
    "Совет 🤔:\n",
    "\n",
    "\n",
    "Мария, версию комментарий оставишь по номеру это рации.  То есть тут везде надо было ставить Комментарии студентаV1. Это здорово облегчит работу ревьюров"
   ]
  },
  {
   "cell_type": "code",
   "execution_count": 11,
   "metadata": {},
   "outputs": [
    {
     "data": {
      "image/png": "[encoded data removed]",
      "text/plain": [
       "<Figure size 720x360 with 1 Axes>"
      ]
     },
     "metadata": {
      "needs_background": "light"
     },
     "output_type": "display_data"
    },
    {
     "data": {
      "image/png": "[encoded data removed]",
      "text/plain": [
       "<Figure size 720x360 with 1 Axes>"
      ]
     },
     "metadata": {
      "needs_background": "light"
     },
     "output_type": "display_data"
    }
   ],
   "source": [
    "toxic_text = \" \".join(toxic_comments[toxic_comments['toxic'] == 1]['lemm_text'])\n",
    "nontoxic_text = \" \".join(toxic_comments[toxic_comments['toxic'] == 0]['lemm_text'])\n",
    "\n",
    "# Токсичные\n",
    "wordcloud_toxic = WordCloud(width=800, height=400, background_color='white').generate(toxic_text)\n",
    "plt.figure(figsize=(10, 5))\n",
    "plt.imshow(wordcloud_toxic, interpolation='bilinear')\n",
    "plt.axis('off')\n",
    "plt.title('WordCloud — Токсичные комментарии')\n",
    "plt.show()\n",
    "\n",
    "# Нетоксичные\n",
    "wordcloud_nontoxic = WordCloud(width=800, height=400, background_color='white').generate(nontoxic_text)\n",
    "plt.figure(figsize=(10, 5))\n",
    "plt.imshow(wordcloud_nontoxic, interpolation='bilinear')\n",
    "plt.axis('off')\n",
    "plt.title('WordCloud — Нетоксичные комментарии')\n",
    "plt.show()\n"
   ]
  },
  {
   "cell_type": "markdown",
   "metadata": {},
   "source": [
    "На данном графике представлены наиболее часто встречающиеся слова в текстах. Размер шрифта слова пропорционален частоте его появления в текстах.\n",
    "То есть: чем чаще слово встречается, тем крупнее оно отображается.\n",
    "Так в нетоксичных комментариях крупнее всего: think, say, talk, know, page, time. Поэтому эти слова являются наиболее распространёнными в нетоксичных сообщениях."
   ]
  },
  {
   "cell_type": "markdown",
   "metadata": {},
   "source": [
    " \n",
    "\n",
    "<div class=\"alert alert-success\">\n",
    "<font size=\"5\"><b>Комментарий ревьюераV2</b></font>\n",
    "\n",
    "\n",
    "\n",
    "Успех 👍:\n",
    "\n",
    "\n",
    "Красиво, хотя слова некрасивые.  \n",
    "\n",
    "\n",
    "\n",
    "\n",
    "    \n",
    "<div class=\"alert alert-warning\">\n",
    "\n",
    "\n",
    "Совет 🤔:\n",
    "    \n",
    "    \n",
    "    \n",
    "как видишь есть дубликаты у негативного облака,  можно убрать их с помощью collocations=False:    \n",
    "    \n",
    "\n",
    "    \n",
    "https://stackoverflow.com/questions/43954114/python-wordcloud-repetitive-words\n",
    "\n"
   ]
  },
  {
   "cell_type": "code",
   "execution_count": 12,
   "metadata": {},
   "outputs": [],
   "source": [
    "data = toxic_comments.copy()"
   ]
  },
  {
   "cell_type": "markdown",
   "metadata": {},
   "source": [
    "Теперь нужно векторизовать текст перед обучением, для этого вычислим TF-IDF для корпуса текстов."
   ]
  },
  {
   "cell_type": "markdown",
   "metadata": {},
   "source": [
    "\n",
    "<div class=\"alert alert-danger\">\n",
    "<font size=\"5\"><b>Комментарий ревьюера</b></font>\n",
    "\n",
    "\n",
    "\n",
    "Ошибка ❌:\n",
    "\n",
    "\n",
    "\n",
    "\n",
    " \n",
    "\n",
    "- по поводу использования TFIDF (как и Scaler, OHE, OE итд): fit мы не делаем на полной выборки. fit всегда делаем на тренировочной выборке. И это легко объяснить, ведь по логике моделирования мы владеем информацией только из тренировочной выборки. Поэтому \"обучаемся\" (fit_transform/fit) на тренировочной, а  затем \"распространяем\" обученный scaler на test/реальные данные на которых делает прогноз. А так как ниже ты используешь GridSearchCV, ты ещё надо избежать утечки данных на валидации, поэтому стоит использовать pipeline (подробнее распишу ниже)\n",
    "\n",
    "  \n",
    " "
   ]
  },
  {
   "cell_type": "markdown",
   "metadata": {},
   "source": [
    "<div class=\"alert alert-info\"> <b>Комментарии студентаV4:</b> Применила TFIDF уже после разделения на обучающую и тестовую выборки.</div>"
   ]
  },
  {
   "cell_type": "code",
   "execution_count": 13,
   "metadata": {},
   "outputs": [],
   "source": [
    "X = data['lemm_text']\n",
    "y = data['toxic']"
   ]
  },
  {
   "cell_type": "code",
   "execution_count": 14,
   "metadata": {},
   "outputs": [],
   "source": [
    "X_train, X_test, y_train, y_test = train_test_split(\n",
    "    X, y, test_size=0.2, random_state = 42, stratify = y\n",
    ")"
   ]
  },
  {
   "cell_type": "code",
   "execution_count": 15,
   "metadata": {},
   "outputs": [
    {
     "name": "stdout",
     "output_type": "stream",
     "text": [
      "Размерность выборки X_train:  (127433,)\n",
      "Размерность выборки X_test:  (31859,)\n",
      "Размерность выборки y_train:  (127433,)\n",
      "Размерность выборки y_test:  (31859,)\n"
     ]
    }
   ],
   "source": [
    "print('Размерность выборки X_train: ', X_train.shape)\n",
    "print('Размерность выборки X_test: ', X_test.shape)\n",
    "print('Размерность выборки y_train: ', y_train.shape)\n",
    "print('Размерность выборки y_test: ', y_test.shape)"
   ]
  },
  {
   "cell_type": "markdown",
   "metadata": {},
   "source": [
    "<div class=\"alert alert-success\">\n",
    "<font size=\"5\"><b>Комментарий ревьюера</b></font>\n",
    "\n",
    "Успех:\n",
    "\n",
    "\n",
    "- random_state на месте\n",
    "\n",
    "\n",
    "- правильно разбито на 2 выборки (иногда студенты использующие GS разбивают на 3 датасета)\n",
    "\n",
    "\n",
    "- здорово что используешь stratify    \n",
    "\n",
    "\n",
    "\n",
    "    \n",
    "- плюс за  проверку\n",
    "    \n",
    "    \n",
    " \n"
   ]
  },
  {
   "cell_type": "markdown",
   "metadata": {},
   "source": [
    "## Обучение"
   ]
  },
  {
   "cell_type": "markdown",
   "metadata": {},
   "source": [
    "Перед нами задача бинарной классификации: мы должны обучить модель классифицировать комментарии на позитивные и негативные.\n",
    "\n",
    "Поэтому для обучения будем использовать следующие модели:\n",
    "\n",
    "- LogisticRegression\n",
    "- RandomForestClassifier\n",
    "- SGDClassifier\n",
    "- CatBoost\n",
    "- LightGBM"
   ]
  },
  {
   "cell_type": "markdown",
   "metadata": {},
   "source": [
    "**LogisticRegression**"
   ]
  },
  {
   "cell_type": "markdown",
   "metadata": {},
   "source": [
    "Сначала обучим модель логистической регрессии Будем использовать кросс-валидацию, чтобы оценить качество моделей"
   ]
  },
  {
   "cell_type": "code",
   "execution_count": 16,
   "metadata": {},
   "outputs": [],
   "source": [
    "lr_pipeline = Pipeline([\n",
    "    ('tfidf', TfidfVectorizer()),\n",
    "    ('regressor', LogisticRegression(random_state=42))\n",
    "])"
   ]
  },
  {
   "cell_type": "markdown",
   "metadata": {},
   "source": [
    "<div class=\"alert alert-danger\">\n",
    "<font size=\"5\"><b>Комментарий ревьюера</b></font>\n",
    "\n",
    "Ошибка:\n",
    "\n",
    "\n",
    "Не забываем при инициализации модели о random_state, иначе после каждого запуска кода у нас может быть разный результат\n",
    "\n",
    "\n",
    "</div>\n"
   ]
  },
  {
   "cell_type": "markdown",
   "metadata": {},
   "source": [
    "<div class=\"alert alert-info\"> <b>Комментарии студентаV5:</b> Добавила параметр random_state.</div>"
   ]
  },
  {
   "cell_type": "code",
   "execution_count": 17,
   "metadata": {},
   "outputs": [
    {
     "name": "stdout",
     "output_type": "stream",
     "text": [
      "Fitting 3 folds for each of 6 candidates, totalling 18 fits\n",
      "[CV] END ...............regressor__C=0.1, tfidf__max_df=0.75; total time=  20.1s\n",
      "[CV] END ...............regressor__C=0.1, tfidf__max_df=0.75; total time=  24.1s\n",
      "[CV] END ...............regressor__C=0.1, tfidf__max_df=0.75; total time=  22.8s\n",
      "[CV] END ................regressor__C=0.1, tfidf__max_df=1.0; total time=  19.9s\n",
      "[CV] END ................regressor__C=0.1, tfidf__max_df=1.0; total time=  22.8s\n",
      "[CV] END ................regressor__C=0.1, tfidf__max_df=1.0; total time=  22.5s\n",
      "[CV] END .................regressor__C=1, tfidf__max_df=0.75; total time=  41.5s\n",
      "[CV] END .................regressor__C=1, tfidf__max_df=0.75; total time=  38.7s\n",
      "[CV] END .................regressor__C=1, tfidf__max_df=0.75; total time=  33.0s\n",
      "[CV] END ..................regressor__C=1, tfidf__max_df=1.0; total time=  41.0s\n",
      "[CV] END ..................regressor__C=1, tfidf__max_df=1.0; total time=  40.4s\n",
      "[CV] END ..................regressor__C=1, tfidf__max_df=1.0; total time=  32.8s\n",
      "[CV] END ................regressor__C=10, tfidf__max_df=0.75; total time=  45.4s\n",
      "[CV] END ................regressor__C=10, tfidf__max_df=0.75; total time=  43.0s\n",
      "[CV] END ................regressor__C=10, tfidf__max_df=0.75; total time=  47.8s\n",
      "[CV] END .................regressor__C=10, tfidf__max_df=1.0; total time=  47.1s\n",
      "[CV] END .................regressor__C=10, tfidf__max_df=1.0; total time=  45.9s\n",
      "[CV] END .................regressor__C=10, tfidf__max_df=1.0; total time=  44.4s\n",
      "Лучшие гиперпараметры: {'regressor__C': 10, 'tfidf__max_df': 0.75}\n",
      "Лучшая F1 на кросс-валидации: 0.7735686260544886\n",
      "Время обучения лучшей модели (refit_time_): 54.23 секунд\n"
     ]
    }
   ],
   "source": [
    "param_grid = {        \n",
    "    'tfidf__max_df': [0.75, 1.0],\n",
    "    'regressor__C': [0.1, 1, 10]\n",
    "    \n",
    "}\n",
    "\n",
    "grid = GridSearchCV(\n",
    "    estimator=lr_pipeline,\n",
    "    param_grid=param_grid,\n",
    "    cv=3,                                  \n",
    "    scoring='f1',                          \n",
    "    n_jobs=-1,\n",
    "    verbose=2\n",
    ")\n",
    "\n",
    "# Обучение\n",
    "grid.fit(X_train, y_train)\n",
    "\n",
    "# Лучшие параметры\n",
    "print(\"Лучшие гиперпараметры:\", grid.best_params_)\n",
    "\n",
    "# Лучшая F1 на кросс-валидации\n",
    "lr_f1 = grid.best_score_\n",
    "print(\"Лучшая F1 на кросс-валидации:\", lr_f1)\n",
    "\n",
    "# время обучения финальной лучшей модели на всех данных\n",
    "lr_refit_time = grid.refit_time_\n",
    "print(f\"Время обучения лучшей модели (refit_time_): {lr_refit_time:.2f} секунд\")\n",
    "\n",
    "lr_best_model = grid.best_estimator_"
   ]
  },
  {
   "cell_type": "markdown",
   "metadata": {},
   "source": [
    "**Вывод по модели LogisticRegression**\n",
    "\n",
    "Для нашей задачи необходимо построить модель со значением метрики качества F1 не меньше 0.75. \n",
    "\n",
    "Лучшая F1-score на кросс-валидации: 0.774\n",
    "Это говорит о хорошем балансе между точностью и полнотой для задачи бинарной классификации токсичности.\n",
    "\n",
    "Лучшие гиперпараметры:\n",
    "C = 10 — более слабая регуляризация (больше внимания обучающим данным).\n",
    "tfidf__max_df = 0.75 — игнорируются слишком часто встречающиеся слова (т.н. \"шум\").\n",
    "tfidf__ngram_range = (1, 1) — используются только униграммы (отдельные слова)."
   ]
  },
  {
   "cell_type": "markdown",
   "metadata": {},
   "source": [
    "<div class=\"alert alert-success\">\n",
    "<font size=\"5\"><b>Комментарий ревьюера</b></font>\n",
    "\n",
    "Успех:\n",
    "\n",
    "\n",
    "\n",
    "\n",
    "\n",
    "\n",
    "Корректно использован GridSearch. Есть и другие варианты, тюнинга гиперпараметров, можешь [ознакомиться](https://www.freecodecamp.org/news/hyperparameter-optimization-techniques-machine-learning/)\n",
    "\n",
    " \n",
    " \n",
    "\n",
    " \n",
    "    \n",
    "\n",
    "<div class=\"alert alert-warning\">\n",
    "\n",
    "\n",
    " \n",
    "Совет: \n",
    "\n",
    "\n",
    "\n",
    "\n",
    "Молодец что используешь GridSearch, но еще лучше использовать связку GridSearchCV + pipeline. \n",
    "\n",
    "\n",
    "О pipeline:\n",
    "\n",
    "[Pipeline](https://scikit-learn.org/stable/modules/generated/sklearn.pipeline.Pipeline.html), это тема которая сразу затрагивает кроссвалидацию, тюнинг \"векторайз\", подбор гиперпараметров модели и о том что код стоит делать компактным.\n",
    "    \n",
    "    \n",
    "- в TfidfVectorizer(stop_words=stopwords) у тебя по умолчанию ngram_range=(1, 1), тут можно подбирать разное число n- грамм (и другие параметры), максимизируя метрику, но как объединить перебор по ngram_range с обучением моделей, чтобы не делать это по отдельности или с использованием цикла?! pipeline! Готовый [пример для работы с текстами](https://medium.com/@yoni.levine/how-to-grid-search-with-a-pipeline-93147835d916). Всё что нужно там есть, хотя очень лаконично. Можешь погуглить по:\n",
    "\n",
    "\n",
    "    \n",
    "    pipeline nlp gridsearchcv\n",
    "\n",
    "\n",
    "\n",
    "- как избежать ошибки подглядывания в будущее, когда мы предварительно работаем с данными (шкалирование, нормализация, TfidfVectorizer итп итд)? pipeline! особенно это важно, когда мы используем кроссвалидацию. Для TfidfVectorizer делаем .fit (обучаемся) на train, а transform на test, но точно также нужно сделать для валидационной выборки. Но GS делает валидационные внутри себя, спрашивается как добраться до нее и избежать подглядывания в будущее? Казалось бы никак, но нет! Pipeline! ) \n",
    "    \n",
    "    \n",
    "- pipeline позволяет делать наш код компактней и читабельней, это большой плюс, когда код будет раздуваться     \n",
    "    \n",
    "    \n",
    " \n",
    "\n",
    "В общем если сделать GS+pipeline будет вообще хорошо )  \n",
    "    \n",
    " "
   ]
  },
  {
   "cell_type": "markdown",
   "metadata": {},
   "source": [
    "<div class=\"alert alert-info\"> <b>Комментарии студентаV6:</b> Добавила пайплайн.</div>"
   ]
  },
  {
   "cell_type": "markdown",
   "metadata": {},
   "source": [
    "<div class=\"alert alert-success\">\n",
    "<font size=\"5\"><b>Комментарий ревьюераV2</b></font>\n",
    "\n",
    "\n",
    "\n",
    "Успех 👍:\n",
    "\n",
    "\n",
    "Прекрасно, теперь без утечки данных\n",
    "\n",
    " "
   ]
  },
  {
   "cell_type": "markdown",
   "metadata": {},
   "source": [
    "**RandomForestClassifier**"
   ]
  },
  {
   "cell_type": "markdown",
   "metadata": {},
   "source": [
    "Обучим модель RandomForestClassifier с использованим GridSearch для подбора гиперпараметров"
   ]
  },
  {
   "cell_type": "code",
   "execution_count": 18,
   "metadata": {},
   "outputs": [],
   "source": [
    "rf_pipeline = Pipeline([\n",
    "    ('tfidf', TfidfVectorizer()),\n",
    "    ('clf', RandomForestClassifier(random_state=42))\n",
    "])\n"
   ]
  },
  {
   "cell_type": "code",
   "execution_count": 19,
   "metadata": {},
   "outputs": [
    {
     "name": "stdout",
     "output_type": "stream",
     "text": [
      "Fitting 2 folds for each of 8 candidates, totalling 16 fits\n",
      "[CV] END clf__max_depth=10, clf__min_samples_leaf=2, clf__min_samples_split=2; total time=   6.0s\n",
      "[CV] END clf__max_depth=10, clf__min_samples_leaf=2, clf__min_samples_split=2; total time=   6.3s\n",
      "[CV] END clf__max_depth=10, clf__min_samples_leaf=2, clf__min_samples_split=4; total time=   6.2s\n",
      "[CV] END clf__max_depth=10, clf__min_samples_leaf=2, clf__min_samples_split=4; total time=   6.0s\n",
      "[CV] END clf__max_depth=10, clf__min_samples_leaf=4, clf__min_samples_split=2; total time=   6.0s\n",
      "[CV] END clf__max_depth=10, clf__min_samples_leaf=4, clf__min_samples_split=2; total time=   6.0s\n",
      "[CV] END clf__max_depth=10, clf__min_samples_leaf=4, clf__min_samples_split=4; total time=   6.0s\n",
      "[CV] END clf__max_depth=10, clf__min_samples_leaf=4, clf__min_samples_split=4; total time=   6.0s\n",
      "[CV] END clf__max_depth=None, clf__min_samples_leaf=2, clf__min_samples_split=2; total time=  53.7s\n",
      "[CV] END clf__max_depth=None, clf__min_samples_leaf=2, clf__min_samples_split=2; total time=  52.6s\n",
      "[CV] END clf__max_depth=None, clf__min_samples_leaf=2, clf__min_samples_split=4; total time=  51.5s\n",
      "[CV] END clf__max_depth=None, clf__min_samples_leaf=2, clf__min_samples_split=4; total time=  52.2s\n",
      "[CV] END clf__max_depth=None, clf__min_samples_leaf=4, clf__min_samples_split=2; total time=  29.7s\n",
      "[CV] END clf__max_depth=None, clf__min_samples_leaf=4, clf__min_samples_split=2; total time=  29.6s\n",
      "[CV] END clf__max_depth=None, clf__min_samples_leaf=4, clf__min_samples_split=4; total time=  30.0s\n",
      "[CV] END clf__max_depth=None, clf__min_samples_leaf=4, clf__min_samples_split=4; total time=  29.8s\n",
      "Лучшие гиперпараметры: {'clf__max_depth': None, 'clf__min_samples_leaf': 2, 'clf__min_samples_split': 2}\n",
      "Лучшая F1 на кросс-валидации: 0.6651916605329238\n",
      "Время обучения лучшей модели (refit_time_): 123.38 секунд\n"
     ]
    }
   ],
   "source": [
    "param_grid = {\n",
    "    \"clf__max_depth\": [10, None],\n",
    "    \"clf__min_samples_split\": [2, 4],\n",
    "    \"clf__min_samples_leaf\": [2, 4]\n",
    "}\n",
    "\n",
    "grid = GridSearchCV(\n",
    "    estimator=rf_pipeline,\n",
    "    param_grid=param_grid,\n",
    "    cv=2,                                  \n",
    "    scoring='f1',                          \n",
    "    n_jobs=-1,\n",
    "    verbose=2\n",
    ")\n",
    "\n",
    "# Обучение\n",
    "grid.fit(X_train, y_train)\n",
    "\n",
    "# Лучшие параметры\n",
    "print(\"Лучшие гиперпараметры:\", grid.best_params_)\n",
    "\n",
    "# Лучшая F1 на кросс-валидации\n",
    "rf_f1 = grid.best_score_\n",
    "print(\"Лучшая F1 на кросс-валидации:\", rf_f1)\n",
    "\n",
    "# время обучения финальной лучшей модели на всех данных\n",
    "rf_refit_time = grid.refit_time_\n",
    "print(f\"Время обучения лучшей модели (refit_time_): {rf_refit_time:.2f} секунд\")\n",
    "\n"
   ]
  },
  {
   "cell_type": "markdown",
   "metadata": {},
   "source": [
    "**Вывод по модели RandomForestClassifier**\n",
    "\n",
    "Лучшие гиперпараметры:\n",
    "max_depth=None: деревья без ограничения глубины — это дало модели больше свободы для разделения данных;\n",
    "min_samples_split=2, min_samples_leaf=2: довольно \"чувствительные\" параметры, что позволяет деревьям глубже подстраиваться под данные.\n",
    "\n",
    "F1-мера на кросс-валидации:\n",
    "0.67 — это существенно ниже, чем у LogisticRegression (0.78). Значит:\n",
    "RandomForest в данном случае переобучается (возможно, из-за глубины и числа признаков);\n",
    "модель хуже справляется с балансом Precision и Recall на токсичных комментариях.\n",
    "\n",
    "Время обучения финальной модели:\n",
    "123.38 секунд  — довольно долго, что объясняется:\n",
    "Большим числом признаков;\n",
    "Глубиной деревьев (None);\n",
    "Размером обучающей выборки (127 000+ примеров)."
   ]
  },
  {
   "cell_type": "markdown",
   "metadata": {},
   "source": [
    "**SGDClassifier**"
   ]
  },
  {
   "cell_type": "code",
   "execution_count": 20,
   "metadata": {},
   "outputs": [],
   "source": [
    "sgd_pipeline = Pipeline([\n",
    "    ('tfidf', TfidfVectorizer()),\n",
    "    ('clf', SGDClassifier(random_state=42))\n",
    "])\n"
   ]
  },
  {
   "cell_type": "code",
   "execution_count": 21,
   "metadata": {},
   "outputs": [
    {
     "name": "stdout",
     "output_type": "stream",
     "text": [
      "Fitting 3 folds for each of 16 candidates, totalling 48 fits\n",
      "[CV] END clf__alpha=0.0001, clf__loss=log, clf__penalty=l2, tfidf__max_df=0.75, tfidf__ngram_range=(1, 1); total time=   4.1s\n",
      "[CV] END clf__alpha=0.0001, clf__loss=log, clf__penalty=l2, tfidf__max_df=0.75, tfidf__ngram_range=(1, 1); total time=   4.3s\n",
      "[CV] END clf__alpha=0.0001, clf__loss=log, clf__penalty=l2, tfidf__max_df=0.75, tfidf__ngram_range=(1, 1); total time=   4.2s\n",
      "[CV] END clf__alpha=0.0001, clf__loss=log, clf__penalty=l2, tfidf__max_df=0.75, tfidf__ngram_range=(1, 2); total time=  18.1s\n",
      "[CV] END clf__alpha=0.0001, clf__loss=log, clf__penalty=l2, tfidf__max_df=0.75, tfidf__ngram_range=(1, 2); total time=  18.2s\n",
      "[CV] END clf__alpha=0.0001, clf__loss=log, clf__penalty=l2, tfidf__max_df=0.75, tfidf__ngram_range=(1, 2); total time=  18.2s\n",
      "[CV] END clf__alpha=0.0001, clf__loss=log, clf__penalty=l2, tfidf__max_df=1.0, tfidf__ngram_range=(1, 1); total time=   4.1s\n",
      "[CV] END clf__alpha=0.0001, clf__loss=log, clf__penalty=l2, tfidf__max_df=1.0, tfidf__ngram_range=(1, 1); total time=   4.2s\n",
      "[CV] END clf__alpha=0.0001, clf__loss=log, clf__penalty=l2, tfidf__max_df=1.0, tfidf__ngram_range=(1, 1); total time=   4.1s\n",
      "[CV] END clf__alpha=0.0001, clf__loss=log, clf__penalty=l2, tfidf__max_df=1.0, tfidf__ngram_range=(1, 2); total time=  17.9s\n",
      "[CV] END clf__alpha=0.0001, clf__loss=log, clf__penalty=l2, tfidf__max_df=1.0, tfidf__ngram_range=(1, 2); total time=  18.2s\n",
      "[CV] END clf__alpha=0.0001, clf__loss=log, clf__penalty=l2, tfidf__max_df=1.0, tfidf__ngram_range=(1, 2); total time=  18.5s\n",
      "[CV] END clf__alpha=0.0001, clf__loss=hinge, clf__penalty=l2, tfidf__max_df=0.75, tfidf__ngram_range=(1, 1); total time=   4.2s\n",
      "[CV] END clf__alpha=0.0001, clf__loss=hinge, clf__penalty=l2, tfidf__max_df=0.75, tfidf__ngram_range=(1, 1); total time=   4.2s\n",
      "[CV] END clf__alpha=0.0001, clf__loss=hinge, clf__penalty=l2, tfidf__max_df=0.75, tfidf__ngram_range=(1, 1); total time=   4.2s\n",
      "[CV] END clf__alpha=0.0001, clf__loss=hinge, clf__penalty=l2, tfidf__max_df=0.75, tfidf__ngram_range=(1, 2); total time=  18.4s\n",
      "[CV] END clf__alpha=0.0001, clf__loss=hinge, clf__penalty=l2, tfidf__max_df=0.75, tfidf__ngram_range=(1, 2); total time=  18.6s\n",
      "[CV] END clf__alpha=0.0001, clf__loss=hinge, clf__penalty=l2, tfidf__max_df=0.75, tfidf__ngram_range=(1, 2); total time=  19.0s\n",
      "[CV] END clf__alpha=0.0001, clf__loss=hinge, clf__penalty=l2, tfidf__max_df=1.0, tfidf__ngram_range=(1, 1); total time=   4.2s\n",
      "[CV] END clf__alpha=0.0001, clf__loss=hinge, clf__penalty=l2, tfidf__max_df=1.0, tfidf__ngram_range=(1, 1); total time=   4.0s\n",
      "[CV] END clf__alpha=0.0001, clf__loss=hinge, clf__penalty=l2, tfidf__max_df=1.0, tfidf__ngram_range=(1, 1); total time=   4.3s\n",
      "[CV] END clf__alpha=0.0001, clf__loss=hinge, clf__penalty=l2, tfidf__max_df=1.0, tfidf__ngram_range=(1, 2); total time=  18.3s\n",
      "[CV] END clf__alpha=0.0001, clf__loss=hinge, clf__penalty=l2, tfidf__max_df=1.0, tfidf__ngram_range=(1, 2); total time=  18.2s\n",
      "[CV] END clf__alpha=0.0001, clf__loss=hinge, clf__penalty=l2, tfidf__max_df=1.0, tfidf__ngram_range=(1, 2); total time=  18.1s\n",
      "[CV] END clf__alpha=0.001, clf__loss=log, clf__penalty=l2, tfidf__max_df=0.75, tfidf__ngram_range=(1, 1); total time=   4.0s\n",
      "[CV] END clf__alpha=0.001, clf__loss=log, clf__penalty=l2, tfidf__max_df=0.75, tfidf__ngram_range=(1, 1); total time=   4.2s\n",
      "[CV] END clf__alpha=0.001, clf__loss=log, clf__penalty=l2, tfidf__max_df=0.75, tfidf__ngram_range=(1, 1); total time=   4.2s\n",
      "[CV] END clf__alpha=0.001, clf__loss=log, clf__penalty=l2, tfidf__max_df=0.75, tfidf__ngram_range=(1, 2); total time=  18.3s\n",
      "[CV] END clf__alpha=0.001, clf__loss=log, clf__penalty=l2, tfidf__max_df=0.75, tfidf__ngram_range=(1, 2); total time=  18.1s\n",
      "[CV] END clf__alpha=0.001, clf__loss=log, clf__penalty=l2, tfidf__max_df=0.75, tfidf__ngram_range=(1, 2); total time=  18.5s\n",
      "[CV] END clf__alpha=0.001, clf__loss=log, clf__penalty=l2, tfidf__max_df=1.0, tfidf__ngram_range=(1, 1); total time=   4.3s\n",
      "[CV] END clf__alpha=0.001, clf__loss=log, clf__penalty=l2, tfidf__max_df=1.0, tfidf__ngram_range=(1, 1); total time=   4.2s\n",
      "[CV] END clf__alpha=0.001, clf__loss=log, clf__penalty=l2, tfidf__max_df=1.0, tfidf__ngram_range=(1, 1); total time=   4.1s\n",
      "[CV] END clf__alpha=0.001, clf__loss=log, clf__penalty=l2, tfidf__max_df=1.0, tfidf__ngram_range=(1, 2); total time=  18.1s\n",
      "[CV] END clf__alpha=0.001, clf__loss=log, clf__penalty=l2, tfidf__max_df=1.0, tfidf__ngram_range=(1, 2); total time=  18.0s\n",
      "[CV] END clf__alpha=0.001, clf__loss=log, clf__penalty=l2, tfidf__max_df=1.0, tfidf__ngram_range=(1, 2); total time=  18.6s\n",
      "[CV] END clf__alpha=0.001, clf__loss=hinge, clf__penalty=l2, tfidf__max_df=0.75, tfidf__ngram_range=(1, 1); total time=   4.4s\n",
      "[CV] END clf__alpha=0.001, clf__loss=hinge, clf__penalty=l2, tfidf__max_df=0.75, tfidf__ngram_range=(1, 1); total time=   4.4s\n",
      "[CV] END clf__alpha=0.001, clf__loss=hinge, clf__penalty=l2, tfidf__max_df=0.75, tfidf__ngram_range=(1, 1); total time=   4.3s\n",
      "[CV] END clf__alpha=0.001, clf__loss=hinge, clf__penalty=l2, tfidf__max_df=0.75, tfidf__ngram_range=(1, 2); total time=  18.3s\n",
      "[CV] END clf__alpha=0.001, clf__loss=hinge, clf__penalty=l2, tfidf__max_df=0.75, tfidf__ngram_range=(1, 2); total time=  18.2s\n",
      "[CV] END clf__alpha=0.001, clf__loss=hinge, clf__penalty=l2, tfidf__max_df=0.75, tfidf__ngram_range=(1, 2); total time=  18.5s\n",
      "[CV] END clf__alpha=0.001, clf__loss=hinge, clf__penalty=l2, tfidf__max_df=1.0, tfidf__ngram_range=(1, 1); total time=   4.1s\n",
      "[CV] END clf__alpha=0.001, clf__loss=hinge, clf__penalty=l2, tfidf__max_df=1.0, tfidf__ngram_range=(1, 1); total time=   4.1s\n",
      "[CV] END clf__alpha=0.001, clf__loss=hinge, clf__penalty=l2, tfidf__max_df=1.0, tfidf__ngram_range=(1, 1); total time=   4.2s\n",
      "[CV] END clf__alpha=0.001, clf__loss=hinge, clf__penalty=l2, tfidf__max_df=1.0, tfidf__ngram_range=(1, 2); total time=  18.1s\n",
      "[CV] END clf__alpha=0.001, clf__loss=hinge, clf__penalty=l2, tfidf__max_df=1.0, tfidf__ngram_range=(1, 2); total time=  18.4s\n",
      "[CV] END clf__alpha=0.001, clf__loss=hinge, clf__penalty=l2, tfidf__max_df=1.0, tfidf__ngram_range=(1, 2); total time=  18.0s\n",
      "Лучшие гиперпараметры: {'clf__alpha': 0.0001, 'clf__loss': 'hinge', 'clf__penalty': 'l2', 'tfidf__max_df': 0.75, 'tfidf__ngram_range': (1, 1)}\n",
      "Лучшая F1 на кросс-валидации: 0.6430024519073904\n",
      "Время обучения лучшей модели (refit_time_): 4.38 секунд\n"
     ]
    }
   ],
   "source": [
    "param_grid = {\n",
    "    'tfidf__ngram_range': [(1, 1), (1, 2)],        \n",
    "    'tfidf__max_df': [0.75, 1.0],\n",
    "    'clf__loss': ['log', 'hinge'],          \n",
    "    'clf__alpha': [1e-4, 1e-3],             \n",
    "    'clf__penalty': ['l2']                  \n",
    "}\n",
    "\n",
    "grid = GridSearchCV(\n",
    "    estimator=sgd_pipeline,\n",
    "    param_grid=param_grid,\n",
    "    scoring='f1',\n",
    "    cv=3,              \n",
    "    n_jobs=-1,\n",
    "    verbose=2\n",
    ")\n",
    "\n",
    "# Обучение\n",
    "grid.fit(X_train, y_train)\n",
    "\n",
    "# Лучшие параметры\n",
    "print(\"Лучшие гиперпараметры:\", grid.best_params_)\n",
    "\n",
    "# Лучшая F1 на кросс-валидации\n",
    "sgd_f1 = grid.best_score_\n",
    "print(\"Лучшая F1 на кросс-валидации:\", sgd_f1)\n",
    "\n",
    "# время обучения финальной лучшей модели на всех данных\n",
    "sgd_refit_time = grid.refit_time_\n",
    "print(f\"Время обучения лучшей модели (refit_time_): {sgd_refit_time:.2f} секунд\")\n",
    "\n"
   ]
  },
  {
   "cell_type": "markdown",
   "metadata": {},
   "source": [
    "**Вывод по модели SGDClassifier**\n",
    "\n",
    "Лучшие гиперпараметры:\n",
    "alpha=0.0001 — коэффициент регуляризации \n",
    "loss='hinge' — это функция потерь, соответствующая линейному SVM (подходит для задач бинарной классификации);\n",
    "penalty='l2' — L2-регуляризация, хорошо работает при большом количестве признаков.\n",
    "\n",
    "F1-мера на кросс-валидации:\n",
    "0.64\n",
    "\n",
    "Время обучения:\n",
    "4.38 секунд — достаточно быстро. Отлично подходит для большого количества признаков и быстрой итерации."
   ]
  },
  {
   "cell_type": "markdown",
   "metadata": {},
   "source": [
    "**CatBoostClassifier**"
   ]
  },
  {
   "cell_type": "markdown",
   "metadata": {},
   "source": [
    "Для обучения CatBoostClassifier  мы не будем использовать подбор гиперпараметров, так как у нас большая выборка. Обучение с параметрами по умолчанию позволит значительно сократить время обучения, при этом сохранив приемлемое качество модели. "
   ]
  },
  {
   "cell_type": "markdown",
   "metadata": {},
   "source": [
    "<div class=\"alert alert-warning\">\n",
    "<font size=\"5\"><b>Комментарий ревьюера</b></font>\n",
    "\n",
    "Совет: \n",
    "\n",
    "Catboost еще вот так может работать с текстом:\n",
    "\n",
    "\n",
    " \n",
    "https://github.com/catboost/tutorials/blob/master/text_features/text_features_in_catboost.ipynb\n",
    "\n",
    "https://habr.com/ru/post/555064/  \n",
    "\n",
    "\n",
    "Это для информации "
   ]
  },
  {
   "cell_type": "markdown",
   "metadata": {},
   "source": [
    "<div class=\"alert alert-info\"> <b>Комментарии студентаV7:</b> Хорошо, спасибо! Возьму на заметку.</div>"
   ]
  },
  {
   "cell_type": "code",
   "execution_count": 25,
   "metadata": {},
   "outputs": [
    {
     "name": "stdout",
     "output_type": "stream",
     "text": [
      "Train: [76322  8633] Val: [38162  4316]\n",
      "Train: [76323  8632] Val: [38161  4317]\n",
      "Train: [76323  8633] Val: [38161  4316]\n",
      "F1-score: 0.763\n",
      "Время кросс-валидации: 1290.62 секунд\n"
     ]
    }
   ],
   "source": [
    "# Создаем Pool\n",
    "X_df = pd.DataFrame({'lemm_text': X_train})\n",
    "cat_model = CatBoostClassifier(random_state=42, verbose=0)\n",
    "\n",
    "skf = StratifiedKFold(n_splits=3, shuffle=True, random_state=42)\n",
    "\n",
    "f1_scores = []\n",
    "start_time = time.time()\n",
    "\n",
    "for train_idx, val_idx in skf.split(X_df, y_train):\n",
    "    X_tr, X_val = X_df.iloc[train_idx], X_df.iloc[val_idx]\n",
    "    y_tr, y_val = y_train.iloc[train_idx], y_train.iloc[val_idx]\n",
    "    \n",
    "    print(\"Train:\", np.bincount(y_tr), \"Val:\", np.bincount(y_val))\n",
    "\n",
    "    train_pool = Pool(X_tr, label=y_tr, text_features=['lemm_text'])\n",
    "    val_pool = Pool(X_val, label=y_val, text_features=['lemm_text'])\n",
    "\n",
    "    cat_model.fit(train_pool)\n",
    "    preds = cat_model.predict(val_pool)\n",
    "    f1 = f1_score(y_val, preds, zero_division=0)\n",
    "    f1_scores.append(f1)\n",
    "\n",
    "cat_f1 = np.mean(f1_scores)\n",
    "end_time = time.time()\n",
    "fit_time_cat = end_time - start_time\n",
    "\n",
    "print(f\"F1-score: {cat_f1:.3f}\")\n",
    "print(f\"Время кросс-валидации: {fit_time_cat:.2f} секунд\")"
   ]
  },
  {
   "cell_type": "markdown",
   "metadata": {},
   "source": [
    "**Вывод по результатам обучения CatBoost**\n",
    "\n",
    "Используемая модель: CatBoostClassifier с использованием Pool \n",
    "\n",
    "Метрика оценки: F1-score (важна при несбалансированных классах).\n",
    "Средний F1-score на кросс-валидации: 0.763\n",
    "Общее время кросс-валидации: 1290 секунд\n",
    "\n",
    "Качество модели хорошее: F1 = 0.763 — это достойный результат при работе только с текстом и без ручной обработки признаков.\n",
    "CatBoost умеет работать с текстом напрямую — без TF-IDF, что удобно и даёт достойные результаты.\n"
   ]
  },
  {
   "cell_type": "markdown",
   "metadata": {},
   "source": [
    "**LightGBM**"
   ]
  },
  {
   "cell_type": "markdown",
   "metadata": {},
   "source": [
    "Для обучения LightGBM мы не будем использовать подбор гиперпараметров, так как у нас большая выборка. Обучение с параметрами по умолчанию позволит значительно сократить время обучения, при этом сохранив приемлемое качество модели. "
   ]
  },
  {
   "cell_type": "code",
   "execution_count": 23,
   "metadata": {},
   "outputs": [
    {
     "name": "stdout",
     "output_type": "stream",
     "text": [
      "Средний F1-score на валидации: 0.749\n",
      "Среднее время обучения: 76.223 сек\n",
      "Среднее время предсказания: 4.140 сек\n"
     ]
    }
   ],
   "source": [
    "# Модель\n",
    "lgb_pipeline = Pipeline([\n",
    "    ('tfidf', TfidfVectorizer()),                      \n",
    "    ('lgb', LGBMClassifier(random_state=42))  \n",
    "])\n",
    "\n",
    "# Функция кросс-валидации\n",
    "def lgb_cv_classification():\n",
    "    scores = cross_validate(\n",
    "        lgb_pipeline,\n",
    "        X_train,\n",
    "        y_train,\n",
    "        cv=3,\n",
    "        scoring='f1',\n",
    "        return_train_score=True,\n",
    "        n_jobs=-1\n",
    "    )\n",
    "    return scores\n",
    "\n",
    "# Запуск\n",
    "lgb_results = lgb_cv_classification()\n",
    "\n",
    "# Средние значения\n",
    "lgb_f1 = np.mean(lgb_results['test_score'])\n",
    "fit_time_lgb = np.mean(lgb_results['fit_time'])\n",
    "score_time_lgb = np.mean(lgb_results['score_time'])\n",
    "\n",
    "# Вывод результатов\n",
    "print(f\"Средний F1-score на валидации: {lgb_f1:.3f}\")\n",
    "print(f\"Среднее время обучения: {fit_time_lgb:.3f} сек\")\n",
    "print(f\"Среднее время предсказания: {score_time_lgb:.3f} сек\")"
   ]
  },
  {
   "cell_type": "markdown",
   "metadata": {},
   "source": [
    "Результаты модели LightGBM:\n",
    "\n",
    "Средний F1-score на валидации: 0.749\n",
    "\n",
    "Среднее время обучения: 76.223 сек \n",
    "\n",
    "Среднее время предсказания: 4.140 сек\n",
    "\n",
    "\n",
    "Вывод:\n",
    "Достаточно хороший показатель метрики, в среднем обучение достатчно долгое"
   ]
  },
  {
   "cell_type": "markdown",
   "metadata": {},
   "source": [
    "Соберем все результаты в одну таблицу, чтобы было легче проанализировать какая модель является наиболее подходящей"
   ]
  },
  {
   "cell_type": "code",
   "execution_count": 26,
   "metadata": {},
   "outputs": [
    {
     "data": {
      "text/html": [
       "<div>\n",
       "<style scoped>\n",
       "    .dataframe tbody tr th:only-of-type {\n",
       "        vertical-align: middle;\n",
       "    }\n",
       "\n",
       "    .dataframe tbody tr th {\n",
       "        vertical-align: top;\n",
       "    }\n",
       "\n",
       "    .dataframe thead th {\n",
       "        text-align: right;\n",
       "    }\n",
       "</style>\n",
       "<table border=\"1\" class=\"dataframe\">\n",
       "  <thead>\n",
       "    <tr style=\"text-align: right;\">\n",
       "      <th></th>\n",
       "      <th>Model</th>\n",
       "      <th>Mean F1-score</th>\n",
       "      <th>Training Time (sec)</th>\n",
       "    </tr>\n",
       "  </thead>\n",
       "  <tbody>\n",
       "    <tr>\n",
       "      <th>0</th>\n",
       "      <td>SGDClassifier</td>\n",
       "      <td>0.643002</td>\n",
       "      <td>4.375571</td>\n",
       "    </tr>\n",
       "    <tr>\n",
       "      <th>1</th>\n",
       "      <td>RandomForestClassifier</td>\n",
       "      <td>0.665192</td>\n",
       "      <td>123.382316</td>\n",
       "    </tr>\n",
       "    <tr>\n",
       "      <th>2</th>\n",
       "      <td>LogisticRegression</td>\n",
       "      <td>0.773569</td>\n",
       "      <td>54.232848</td>\n",
       "    </tr>\n",
       "    <tr>\n",
       "      <th>3</th>\n",
       "      <td>CatBoost</td>\n",
       "      <td>0.763325</td>\n",
       "      <td>1290.617843</td>\n",
       "    </tr>\n",
       "    <tr>\n",
       "      <th>4</th>\n",
       "      <td>LightGBM</td>\n",
       "      <td>0.749000</td>\n",
       "      <td>76.222542</td>\n",
       "    </tr>\n",
       "  </tbody>\n",
       "</table>\n",
       "</div>"
      ],
      "text/plain": [
       "                    Model  Mean F1-score  Training Time (sec)\n",
       "0           SGDClassifier       0.643002             4.375571\n",
       "1  RandomForestClassifier       0.665192           123.382316\n",
       "2      LogisticRegression       0.773569            54.232848\n",
       "3                CatBoost       0.763325          1290.617843\n",
       "4                LightGBM       0.749000            76.222542"
      ]
     },
     "execution_count": 26,
     "metadata": {},
     "output_type": "execute_result"
    }
   ],
   "source": [
    "results = {\n",
    "    'Model': [\n",
    "        'SGDClassifier',\n",
    "        'RandomForestClassifier',\n",
    "        'LogisticRegression',\n",
    "        'CatBoost',\n",
    "        'LightGBM'\n",
    "    ],\n",
    "    'Mean F1-score': [\n",
    "        sgd_f1,\n",
    "        rf_f1,\n",
    "        lr_f1,\n",
    "        cat_f1,\n",
    "        lgb_f1\n",
    "    ],\n",
    "    'Training Time (sec)': [\n",
    "        sgd_refit_time,\n",
    "        rf_refit_time,\n",
    "        lr_refit_time,\n",
    "        fit_time_cat,\n",
    "        fit_time_lgb\n",
    "    ]\n",
    "}\n",
    "\n",
    "results = pd.DataFrame(results)\n",
    "results\n"
   ]
  },
  {
   "cell_type": "markdown",
   "metadata": {},
   "source": [
    "**Вывод по всем моделям:**\n",
    "\n",
    "- LogisticRegression показывает лучшую F1-метрику (0.774), при этом время обучения — относительно небольшое (около 54 секунд). Это говорит о том, что модель хорошо балансирует качество и скорость.\n",
    "\n",
    "- LightGBM и CatBoost дают почти сравнимое качество (около 0.75), но обучаются значительно дольше (76+ секунд). Они могут быть полезны, если есть ресурсы и хочется добиться чуть более устойчивой или более гибкой модели, но выигрыш в метрике небольшой.\n",
    "\n",
    "- SGDClassifier — самая быстрая, но качество явно ниже (0.64). Подойдет, если нужен максимально быстрый вариант для очень больших данных или быстрых прототипов.\n",
    "\n",
    "- RandomForest показал низкое качество и долго обучался, скорее всего переобучение и неэффективная настройка.\n",
    "\n",
    "\n",
    "**Рекомендация**\n",
    "\n",
    "Для практического применения лучше всего выбрать LogisticRegression — она сочетает хорошее качество и приемлемое время обучения. \n",
    "\n"
   ]
  },
  {
   "cell_type": "markdown",
   "metadata": {},
   "source": [
    "<div class=\"alert alert-success\">\n",
    "<font size=\"5\"><b>Комментарий ревьюера</b></font>\n",
    "\n",
    "\n",
    "\n",
    "Успех 👍:\n",
    "\n",
    "\n",
    "\n",
    "👍Согласен\n",
    "\n",
    "\n",
    " "
   ]
  },
  {
   "cell_type": "markdown",
   "metadata": {},
   "source": [
    "## Выводы"
   ]
  },
  {
   "cell_type": "markdown",
   "metadata": {},
   "source": [
    "Нужно учитывать следующий критерий:\n",
    "\n",
    "Построить модель со значением метрики качества F1 не меньше 0.75. \n",
    "\n",
    "Для обучения мы использовали следующие модели:\n",
    "\n",
    "- LogisticRegression\n",
    "- RandomForestClassifier\n",
    "- SGDClassifier\n",
    "- CatBoost\n",
    "- LightGBM\n",
    "\n",
    "Краткие выводы:\n",
    "\n",
    "Для практического применения лучше всего выбрать LogisticRegression — она сочетает хорошее качество и приемлемое время обучения. "
   ]
  },
  {
   "cell_type": "code",
   "execution_count": 27,
   "metadata": {},
   "outputs": [
    {
     "name": "stdout",
     "output_type": "stream",
     "text": [
      "F1-score на тестовой выборке: 0.781\n",
      "Время предсказания: 0.9858 секунд\n"
     ]
    }
   ],
   "source": [
    "start_time = time.time()\n",
    "\n",
    "lr_preds = lr_best_model.predict(X_test)\n",
    "\n",
    "end_time = time.time()\n",
    "lr_prediction_time = end_time - start_time\n",
    "\n",
    "lr_f1 = f1_score(y_test, lr_preds)\n",
    "\n",
    "print(f\"F1-score на тестовой выборке: {lr_f1:.3f}\")\n",
    "print(f\"Время предсказания: {lr_prediction_time:.4f} секунд\")"
   ]
  },
  {
   "cell_type": "markdown",
   "metadata": {},
   "source": [
    "<div class=\"alert alert-success\">\n",
    "<font size=\"5\"><b>Комментарий ревьюера</b></font>\n",
    "\n",
    "Успех: \n",
    "\n",
    "- Все верно, логика моделирования не нарушена, тут тестируем только лучшую модель отобранную на валидации, или парочку лучших, если на валидации результаты близки\n",
    "\n",
    "\n",
    " \n",
    "\n",
    "- Если студент получил на тесте f1 выше 0,75, это считается приемлемым результатом.\n",
    "\n",
    "\n",
    "<div class=\"alert alert-warning\">\n",
    "\n",
    "\n",
    "\n",
    "Совет: \n",
    "\n",
    "\n",
    "Что может помочь добиться лучшего результата (от простого)? \n",
    "\n",
    " \n",
    "\n",
    "\n",
    "- можно поиграться [порогом](https://machinelearningmastery.com/threshold-moving-for-imbalanced-classification/). Ещё можешь посмотреть в [туториале](https://scikit-learn.org/stable/modules/classification_threshold.html). Есть несколько вариантов, главное не использовать для подбора порога тестовую выборку, ведь это будет подгонка. Таким образом можно поднять метрику на процент - полтора\n",
    "    \n",
    "\n",
    "    \n",
    "- попробовать другие модели. проект своеобразный выбор между вычислительными ограничениями (много примеров, расчеты могут затянуться) и задачей получить хорошую метрику. С этой точки зрения  интересная [моделька](https://medium.com/geekculture/passive-aggressive-algorithm-for-big-data-models-8cd535ceb2e6) (открывается с помощью VPN) [или](https://datafinder.ru/products/passivno-agressivnyy-klassifikator-v-mashinnom-obuchenii). Она считается очень шустрой     \n",
    "    \n",
    "\n",
    "\n",
    "- использование предбученной модели Берта, выбрав соответствующую модель и используя полученные эмбединги, даже на небольшом тренировочном датасете можно обучить модель, которая на test покажет хорошую метрику. В этом случаи можно сразу получить метрику > 0.95 (при правильно выбранной модели)\n",
    "\n",
    "\n"
   ]
  },
  {
   "cell_type": "markdown",
   "metadata": {},
   "source": [
    "**Вывод по результатам тестирования модели Logistic Regression**\n",
    "\n",
    "Модель Logistic Regression показала высокое качество на тестовой выборке с F1-мерой 0.781, что свидетельствует о хорошем балансе между полнотой и точностью классификации. Это значение даже немного превышает F1, достигнутый на кросс-валидации, что говорит о хорошей обобщающей способности модели и отсутствии переобучения.\n",
    "\n",
    "Время предсказания составило 0.9858 секунды, что говорит о высокой скорости работы модели и делает её пригодной для использования в реальном времени или в системах с ограниченными ресурсами.\n",
    "\n",
    "Таким образом, Logistic Regression является эффективным и сбалансированным решением для задачи классификации на текущем наборе данных."
   ]
  },
  {
   "cell_type": "code",
   "execution_count": 28,
   "metadata": {},
   "outputs": [
    {
     "data": {
      "image/png": "[encoded data removed]",
      "text/plain": [
       "<Figure size 576x432 with 1 Axes>"
      ]
     },
     "metadata": {
      "needs_background": "light"
     },
     "output_type": "display_data"
    }
   ],
   "source": [
    "# Получаем вероятности положительного класса\n",
    "y_probs = lr_best_model.predict_proba(X_test)[:, 1]\n",
    "\n",
    "# Считаем ROC-кривую\n",
    "fpr, tpr, thresholds = roc_curve(y_test, y_probs)\n",
    "\n",
    "# Считаем AUC (площадь под ROC-кривой)\n",
    "auc_score = roc_auc_score(y_test, y_probs)\n",
    "\n",
    "plt.figure(figsize=(8, 6))\n",
    "plt.plot(fpr, tpr, label=f'ROC curve (AUC = {auc_score:.3f})')\n",
    "plt.plot([0, 1], [0, 1], 'k--', label='Случайный классификатор')\n",
    "plt.xlabel('False Positive Rate (1 - specificity)')\n",
    "plt.ylabel('True Positive Rate (sensitivity)')\n",
    "plt.title('ROC-кривая')\n",
    "plt.legend(loc='lower right')\n",
    "plt.grid(True)\n",
    "plt.show()\n"
   ]
  },
  {
   "cell_type": "markdown",
   "metadata": {},
   "source": [
    "Что показывает график:\n",
    "Ось X (False Positive Rate): доля ложноположительных (1 - специфичность).\n",
    "Ось Y (True Positive Rate): доля истинноположительных (чувствительность).\n",
    "Синяя линия — ROC-кривая нашего классификатора.\n",
    "Черная пунктирная линия — случайный классификатор (базовый уровень, AUC = 0.5).\n",
    "AUC = 0.968 — площадь под ROC-кривой (Area Under Curve).\n",
    "\n",
    "AUC = 0.968 — это очень высокая метрика, близкая к 1. Это говорит о хорошей способности классификатора различать классы.\n",
    "Кривая резко поднимается вверх и проходит близко к левому верхнему углу — это значит:\n",
    "Высокая чувствительность (много правильных положительных предсказаний).\n",
    "Низкий уровень ложных срабатываний (мало ложноположительных).\n",
    "\n",
    "Вывод:\n",
    "Классификатор демонстрирует отличное качество, згачит модель хорошо различает токсичные и нетоксичные комментарии.\n",
    "\n"
   ]
  },
  {
   "cell_type": "markdown",
   "metadata": {},
   "source": [
    " \n",
    "<div class=\"alert alert-success\">\n",
    "<font size=\"5\"><b>Комментарий ревьюера</b></font>\n",
    "\n",
    "\n",
    "\n",
    "Успех 👍:\n",
    "\n",
    "\n",
    "\n",
    "👍За дополнительные метрики\n",
    "\n",
    "\n",
    " \n",
    "\n",
    "\n",
    "<div class=\"alert alert-warning\">\n",
    " \n",
    "\n",
    "Совет: \n",
    "\n",
    "\n",
    "А ещё можешь посмотреть какие слова  является наиболее важным для классификации с точки зрения модели. Получаем список слов    \n",
    "    \n",
    "    \n",
    "    \n",
    "    .get_feature_names_out().tolist()\n",
    "    \n",
    "    \n",
    "    \n",
    "Получаем коэффициенты важности (для логистической регрессии)    \n",
    "    \n",
    "    .coef_.tolist()[0]\n",
    "\n",
    "\n",
    "\n",
    "\n",
    "А потом можно построить такой-то красивый график с помощью     seaborn\n",
    " \n",
    " "
   ]
  },
  {
   "cell_type": "markdown",
   "metadata": {},
   "source": [
    "## Общий вывод"
   ]
  },
  {
   "cell_type": "markdown",
   "metadata": {},
   "source": [
    "В ходе проекта была поставлена задача — построить и сравнить классификационные модели для задачи бинарной классификации, с целью максимизировать метрику F1-score на тестовой выборке. Особое внимание уделялось выбору модели, сочетающей хорошее качество и приемлемое время обучения и предсказания.\n",
    "\n",
    "Краткие выводы:\n",
    "Среди рассмотренных моделей были SGDClassifier, RandomForestClassifier, LogisticRegression, CatBoostClassifier и LightGBMClassifier.\n",
    "Для всех моделей проведена кросс-валидация, подобраны оптимальные гиперпараметры.\n",
    "Метрика качества — F1-score, наиболее релевантная для задачи с несбалансированными классами.\n",
    "Время обучения и предсказания фиксировалось для оценки производительности."
   ]
  },
  {
   "cell_type": "markdown",
   "metadata": {},
   "source": [
    "### Краткие выводы  \n",
    "- Рассмотрены модели: SGDClassifier, RandomForestClassifier, LogisticRegression, CatBoostClassifier, LightGBMClassifier.  \n",
    "- Проведена кросс-валидация и подбор гиперпараметров.  \n",
    "- Основная метрика — F1-score, важна при несбалансированных классах.  \n",
    "- Оценено время обучения и предсказания для выбора оптимальной модели.\n",
    "\n",
    "---\n",
    "\n",
    "### 1. Результаты кросс-валидации\n",
    "\n",
    "| Модель                | Средний F1-score | Время обучения (сек) | Время предсказания (сек) |\n",
    "|-----------------------|------------------|---------------------|--------------------------|\n",
    "| SGDClassifier         | 0.64            | 4.38                 | <1                    |\n",
    "| RandomForestClassifier | 0.67            | 123.38                 | ~0.5                     |\n",
    "| LogisticRegression     | 0.774            | 54.23                | <0.01                    |\n",
    "| CatBoostClassifier     | 0.763            | 1290.62              | 0.7                      |\n",
    "| LightGBMClassifier     | 0.749            | 76.22                 | 3.8                      |\n",
    "\n",
    "---\n",
    "\n",
    "### 2. Результаты на тестовой выборке (LogisticRegression)\n",
    "\n",
    "- **F1-score:** 0.781 — подтверждает хорошую обобщающую способность модели.  \n",
    "- **Время предсказания:** 0.9858 сек — подходит для работы в реальном времени.\n",
    "\n",
    "---\n",
    "\n",
    "### 3. Анализ моделей\n",
    "\n",
    "- LogisticRegression — лучший баланс качества и скорости.  \n",
    "- CatBoost и LightGBM дают чуть лучше качество, но дольше обучаются.  \n",
    "- RandomForest требует доработки, склонен к переобучению и медленный.  \n",
    "- SGDClassifier — быстрый, но с худшим качеством.\n",
    "\n",
    "---\n",
    "\n",
    "### 4. Рекомендации\n",
    "\n",
    "- Использовать LogisticRegression для производственной задачи.  \n",
    "- Рассмотреть CatBoost или LightGBM при наличии ресурсов и необходимости повысить точность.  \n",
    "- Продолжить работу над улучшением признаков и балансировкой классов.  \n",
    "- Следить за временем обучения и предсказания в зависимости от целей.\n",
    "\n",
    "---"
   ]
  },
  {
   "cell_type": "markdown",
   "metadata": {},
   "source": [
    "\n",
    "<div class=\"alert alert-info\">\n",
    "<font size=\"5\"><b>Комментарий ревьюера</b></font>\n",
    "\n",
    "\n",
    "\n",
    "Мария, у тебя старательно выполненная работа, все четко, осмысленно. \n",
    "\n",
    "\n",
    " \n",
    "\n",
    "Очистка проведена корректно (но есть вопросы к лемматизации)\n",
    "\n",
    "\n",
    "Выводы присутствуют, они четкие и подробные.\n",
    "\n",
    "\n",
    "Логика моделирования не нарушена, GS использован корректно \n",
    "\n",
    "\n",
    "Так как число ошибок небольшое, можешь усложнить проект:\n",
    "\n",
    "\n",
    " \n",
    "\n",
    "- попробуй использовать связку GS+pipeline\n",
    "\n",
    "\n",
    "\n",
    "\n",
    "- попробуй очень современный и модный сейчас подход с использованием  Берта. Есть несколько вариантов, самый эффективный - это использовать эмбединги (как замена TFIDF) для этого есть уже готовый код в тренажёре (в этом случае разрешается сильно порезать датасет, а если еще и использовать GPU в Colab код можно прогнать за полчаса).\n",
    "\n",
    "\n",
    "\n",
    "- для красивой  визуализации можешь построить облако для токсичных и нетоксичных комментариев\n",
    "\n",
    "\n",
    "\n",
    "- чтобы заглянуть внутрь модели, можешь посмотреть какой из признаков является наиболее важный для логистической регресси (должно получиться слово fuck)   \n",
    "\n",
    " \n",
    "\n",
    "Обязательное к исправлению:\n",
    " \n",
    "\n",
    "- WordNetLemmatizer используем с POS - тег \n",
    "\n",
    "    \n",
    "    \n",
    "    \n",
    "- на train делаем .fit векторайз, на test .transform\n",
    "\n",
    " \n",
    "\n",
    "- при инициализации модели не забываем random_state  \n",
    "\n",
    "\n",
    "Жду исправлений, для принятия проекта. Если какие то вопросы, то сразу спрашивай ) \n",
    "\n",
    "\n",
    "<font color='green'><b>Полезные (и просто интересные) материалы:</b> \\\n",
    "Для работы с текстами используют и другие подходы. Например, сейчас активно используются RNN (LSTM) и трансформеры (BERT и другие с улицы Сезам, например, ELMO). НО! Они не являются панацеей, не всегда они нужны, так как и TF-IDF или Word2Vec + модели из классического ML тоже могут справляться. \\\n",
    "BERT тяжелый, существует много его вариаций для разных задач, есть готовые модели, есть надстройки над библиотекой transformers. Если, обучать BERT на GPU (можно в Google Colab или Kaggle), то должно быть побыстрее.\\\n",
    "https://huggingface.co/transformers/model_doc/bert.html \\\n",
    "https://t.me/renat_alimbekov \\\n",
    "https://colah.github.io/posts/2015-08-Understanding-LSTMs/ - Про LSTM \\\n",
    "https://web.stanford.edu/~jurafsky/slp3/10.pdf - про энкодер-декодер модели, этеншены\\\n",
    "https://pytorch.org/tutorials/beginner/transformer_tutorial.html - официальный гайд\n",
    "по трансформеру от создателей pytorch\\\n",
    "https://transformer.huggingface.co/ - поболтать с трансформером \\\n",
    "Библиотеки: allennlp, fairseq, transformers, tensorflow-text — множествореализованных\n",
    "методов для трансформеров методов NLP \\\n",
    "Word2Vec https://radimrehurek.com/gensim/models/word2vec.html \n",
    "\n",
    "\n",
    "Если понравилась работа с текстами, то можешь посмотреть очень интересный (но очень-очень сложный) курс лекций: https://github.com/yandexdataschool/nlp_course .\n",
    "\n",
    "Если нравится смотреть и слушать то есть целый курс на Ютубе https://www.youtube.com/watch?v=qDMwIQRQt-M&list=PLEwK9wdS5g0qksxWxtE5c2KuFkIfUXe3i&index=1\n"
   ]
  },
  {
   "cell_type": "markdown",
   "metadata": {},
   "source": [
    "\n",
    "<div class=\"alert alert-info\">\n",
    "<font size=\"5\"><b>Комментарий ревьюераV2</b></font>\n",
    "\n",
    "Спасибо за работу!    \n",
    "\n",
    "    \n",
    "Красное исправлено, некоторые желтые советы использованы   (это все было по желанию), значит стремишься развиваться, а желание и интерес это главное. Надеюсь мои советы и вопросики были полезны и в копилочку знаний упало что то новое, а проект стал лучше, и симпатичней.\n",
    "\n",
    " \n",
    "Отличная работа Мария. Желаю успехов в дальнейшей учебе!\n",
    "\n",
    " \n",
    "</div>"
   ]
  },
  {
   "cell_type": "markdown",
   "metadata": {},
   "source": [
    "## Чек-лист проверки"
   ]
  },
  {
   "cell_type": "markdown",
   "metadata": {},
   "source": [
    "- [x]  Jupyter Notebook открыт\n",
    "- [ ]  Весь код выполняется без ошибок\n",
    "- [ ]  Ячейки с кодом расположены в порядке исполнения\n",
    "- [ ]  Данные загружены и подготовлены\n",
    "- [ ]  Модели обучены\n",
    "- [ ]  Значение метрики *F1* не меньше 0.75\n",
    "- [ ]  Выводы написаны"
   ]
  }
 ],
 "metadata": {
  "ExecuteTimeLog": [
   {
    "duration": 1456,
    "start_time": "2025-07-16T07:53:20.251Z"
   },
   {
    "duration": 977,
    "start_time": "2025-07-16T07:54:24.751Z"
   },
   {
    "duration": 111,
    "start_time": "2025-07-16T08:00:00.981Z"
   },
   {
    "duration": 888,
    "start_time": "2025-07-16T08:00:28.996Z"
   },
   {
    "duration": 15,
    "start_time": "2025-07-16T08:00:30.769Z"
   },
   {
    "duration": 3,
    "start_time": "2025-07-16T08:07:20.970Z"
   },
   {
    "duration": 628,
    "start_time": "2025-07-16T08:11:00.812Z"
   },
   {
    "duration": 5,
    "start_time": "2025-07-16T08:11:45.508Z"
   },
   {
    "duration": 2,
    "start_time": "2025-07-16T08:11:57.621Z"
   },
   {
    "duration": 6,
    "start_time": "2025-07-16T08:22:28.194Z"
   },
   {
    "duration": 162172,
    "start_time": "2025-07-16T08:30:25.702Z"
   },
   {
    "duration": 22266,
    "start_time": "2025-07-16T08:35:32.999Z"
   },
   {
    "duration": 8,
    "start_time": "2025-07-16T08:36:19.998Z"
   },
   {
    "duration": 877,
    "start_time": "2025-07-16T08:39:39.283Z"
   },
   {
    "duration": 7,
    "start_time": "2025-07-16T08:39:41.111Z"
   },
   {
    "duration": 30,
    "start_time": "2025-07-16T08:40:10.844Z"
   },
   {
    "duration": 15,
    "start_time": "2025-07-16T08:40:30.679Z"
   },
   {
    "duration": 30,
    "start_time": "2025-07-16T08:40:32.828Z"
   },
   {
    "duration": 34,
    "start_time": "2025-07-16T08:41:04.096Z"
   },
   {
    "duration": 364,
    "start_time": "2025-07-16T08:42:36.027Z"
   },
   {
    "duration": 2,
    "start_time": "2025-07-16T08:42:39.677Z"
   },
   {
    "duration": 22592,
    "start_time": "2025-07-16T08:42:40.537Z"
   },
   {
    "duration": 6,
    "start_time": "2025-07-16T08:44:05.312Z"
   },
   {
    "duration": 101,
    "start_time": "2025-07-16T08:46:28.751Z"
   },
   {
    "duration": 41,
    "start_time": "2025-07-16T08:49:03.089Z"
   },
   {
    "duration": 75,
    "start_time": "2025-07-16T08:56:09.336Z"
   },
   {
    "duration": 5,
    "start_time": "2025-07-16T08:56:25.944Z"
   },
   {
    "duration": 18,
    "start_time": "2025-07-16T09:06:13.174Z"
   },
   {
    "duration": 4809,
    "start_time": "2025-07-16T09:06:16.814Z"
   },
   {
    "duration": 102,
    "start_time": "2025-07-16T09:06:36.326Z"
   },
   {
    "duration": 5,
    "start_time": "2025-07-16T09:06:37.162Z"
   },
   {
    "duration": 1917,
    "start_time": "2025-07-17T07:39:15.139Z"
   },
   {
    "duration": 869,
    "start_time": "2025-07-17T07:39:17.058Z"
   },
   {
    "duration": 8,
    "start_time": "2025-07-17T07:39:17.928Z"
   },
   {
    "duration": 17,
    "start_time": "2025-07-17T07:39:17.937Z"
   },
   {
    "duration": 43,
    "start_time": "2025-07-17T07:39:17.956Z"
   },
   {
    "duration": 33,
    "start_time": "2025-07-17T07:39:18.000Z"
   },
   {
    "duration": 362,
    "start_time": "2025-07-17T07:39:18.034Z"
   },
   {
    "duration": 2,
    "start_time": "2025-07-17T07:39:18.397Z"
   },
   {
    "duration": 23493,
    "start_time": "2025-07-17T07:39:18.401Z"
   },
   {
    "duration": 5,
    "start_time": "2025-07-17T07:39:41.896Z"
   },
   {
    "duration": 159,
    "start_time": "2025-07-17T07:39:41.903Z"
   },
   {
    "duration": 14,
    "start_time": "2025-07-17T07:39:42.064Z"
   },
   {
    "duration": 4628,
    "start_time": "2025-07-17T07:39:42.080Z"
   },
   {
    "duration": 97,
    "start_time": "2025-07-17T07:39:46.710Z"
   },
   {
    "duration": 5,
    "start_time": "2025-07-17T07:39:46.808Z"
   },
   {
    "duration": 3,
    "start_time": "2025-07-17T07:48:41.572Z"
   },
   {
    "duration": 142,
    "start_time": "2025-07-17T07:59:15.076Z"
   },
   {
    "duration": 41,
    "start_time": "2025-07-17T07:59:26.741Z"
   },
   {
    "duration": 38,
    "start_time": "2025-07-17T07:59:48.708Z"
   },
   {
    "duration": 40,
    "start_time": "2025-07-17T08:00:20.525Z"
   },
   {
    "duration": 47,
    "start_time": "2025-07-17T08:00:38.159Z"
   },
   {
    "duration": 168715,
    "start_time": "2025-07-17T08:02:10.577Z"
   },
   {
    "duration": 72404,
    "start_time": "2025-07-17T08:05:06.109Z"
   },
   {
    "duration": 463617,
    "start_time": "2025-07-17T08:06:21.858Z"
   },
   {
    "duration": 10,
    "start_time": "2025-07-17T08:24:16.139Z"
   },
   {
    "duration": 18,
    "start_time": "2025-07-17T08:25:27.686Z"
   },
   {
    "duration": 3,
    "start_time": "2025-07-17T08:25:34.438Z"
   },
   {
    "duration": 1857,
    "start_time": "2025-07-17T11:22:46.935Z"
   },
   {
    "duration": 1280,
    "start_time": "2025-07-17T11:22:48.794Z"
   },
   {
    "duration": 6,
    "start_time": "2025-07-17T11:22:50.076Z"
   },
   {
    "duration": 25,
    "start_time": "2025-07-17T11:22:50.084Z"
   },
   {
    "duration": 27,
    "start_time": "2025-07-17T11:22:50.111Z"
   },
   {
    "duration": 33,
    "start_time": "2025-07-17T11:22:50.140Z"
   },
   {
    "duration": 307,
    "start_time": "2025-07-17T11:22:50.175Z"
   },
   {
    "duration": 3,
    "start_time": "2025-07-17T11:22:50.484Z"
   },
   {
    "duration": 25265,
    "start_time": "2025-07-17T11:22:50.488Z"
   },
   {
    "duration": 7,
    "start_time": "2025-07-17T11:23:15.756Z"
   },
   {
    "duration": 170,
    "start_time": "2025-07-17T11:23:15.765Z"
   },
   {
    "duration": 12,
    "start_time": "2025-07-17T11:23:15.937Z"
   },
   {
    "duration": 4822,
    "start_time": "2025-07-17T11:23:15.951Z"
   },
   {
    "duration": 95,
    "start_time": "2025-07-17T11:23:20.776Z"
   },
   {
    "duration": 4,
    "start_time": "2025-07-17T11:23:20.873Z"
   },
   {
    "duration": 164,
    "start_time": "2025-07-17T11:23:20.878Z"
   },
   {
    "duration": 405646,
    "start_time": "2025-07-17T11:23:21.044Z"
   },
   {
    "duration": 4,
    "start_time": "2025-07-17T11:30:06.692Z"
   },
   {
    "duration": 2559260,
    "start_time": "2025-07-17T11:30:06.697Z"
   },
   {
    "duration": 129,
    "start_time": "2025-07-17T12:14:18.815Z"
   },
   {
    "duration": 5,
    "start_time": "2025-07-17T12:14:40.071Z"
   },
   {
    "duration": 3,
    "start_time": "2025-07-17T12:14:48.130Z"
   },
   {
    "duration": 5320,
    "start_time": "2025-07-17T12:14:51.453Z"
   },
   {
    "duration": 6,
    "start_time": "2025-07-17T12:19:06.043Z"
   },
   {
    "duration": 2146,
    "start_time": "2025-07-18T06:31:06.190Z"
   },
   {
    "duration": 1135,
    "start_time": "2025-07-18T06:31:08.338Z"
   },
   {
    "duration": 8,
    "start_time": "2025-07-18T06:31:09.475Z"
   },
   {
    "duration": 38,
    "start_time": "2025-07-18T06:31:09.484Z"
   },
   {
    "duration": 33,
    "start_time": "2025-07-18T06:31:09.524Z"
   },
   {
    "duration": 39,
    "start_time": "2025-07-18T06:31:09.560Z"
   },
   {
    "duration": 277,
    "start_time": "2025-07-18T06:31:09.601Z"
   },
   {
    "duration": 2,
    "start_time": "2025-07-18T06:31:09.880Z"
   },
   {
    "duration": 26455,
    "start_time": "2025-07-18T06:31:09.884Z"
   },
   {
    "duration": 11,
    "start_time": "2025-07-18T06:31:36.340Z"
   },
   {
    "duration": 133,
    "start_time": "2025-07-18T06:31:36.353Z"
   },
   {
    "duration": 11,
    "start_time": "2025-07-18T06:31:36.488Z"
   },
   {
    "duration": 5439,
    "start_time": "2025-07-18T06:31:36.502Z"
   },
   {
    "duration": 116,
    "start_time": "2025-07-18T06:31:41.944Z"
   },
   {
    "duration": 8,
    "start_time": "2025-07-18T06:31:42.063Z"
   },
   {
    "duration": 9,
    "start_time": "2025-07-18T06:31:42.074Z"
   },
   {
    "duration": 447379,
    "start_time": "2025-07-18T06:31:42.085Z"
   },
   {
    "duration": 5,
    "start_time": "2025-07-18T06:39:09.550Z"
   },
   {
    "duration": 2723472,
    "start_time": "2025-07-18T06:39:09.558Z"
   },
   {
    "duration": 3,
    "start_time": "2025-07-18T07:24:33.031Z"
   },
   {
    "duration": 5539,
    "start_time": "2025-07-18T07:24:33.035Z"
   },
   {
    "duration": 1773048,
    "start_time": "2025-07-18T07:24:38.577Z"
   },
   {
    "duration": 0,
    "start_time": "2025-07-18T07:54:11.627Z"
   },
   {
    "duration": 12,
    "start_time": "2025-07-18T07:54:20.102Z"
   },
   {
    "duration": 42,
    "start_time": "2025-07-18T07:54:44.081Z"
   },
   {
    "duration": 226572,
    "start_time": "2025-07-18T07:54:49.381Z"
   },
   {
    "duration": 10,
    "start_time": "2025-07-18T07:59:27.733Z"
   },
   {
    "duration": 5,
    "start_time": "2025-07-18T07:59:46.198Z"
   },
   {
    "duration": 583606,
    "start_time": "2025-07-18T07:59:55.280Z"
   },
   {
    "duration": 583058,
    "start_time": "2025-07-18T08:13:28.398Z"
   },
   {
    "duration": 142788,
    "start_time": "2025-07-18T08:23:20.081Z"
   },
   {
    "duration": 2454077,
    "start_time": "2025-07-18T08:25:47.209Z"
   },
   {
    "duration": 16,
    "start_time": "2025-07-18T09:18:59.916Z"
   },
   {
    "duration": 5,
    "start_time": "2025-07-18T09:19:25.097Z"
   },
   {
    "duration": 5428264,
    "start_time": "2025-07-18T09:19:32.811Z"
   },
   {
    "duration": 605109,
    "start_time": "2025-07-18T10:50:01.077Z"
   },
   {
    "duration": 2184946,
    "start_time": "2025-07-18T11:00:09.353Z"
   },
   {
    "duration": 12,
    "start_time": "2025-07-18T11:43:37.039Z"
   },
   {
    "duration": 439572,
    "start_time": "2025-07-18T11:53:05.292Z"
   },
   {
    "duration": 19,
    "start_time": "2025-07-18T12:03:18.368Z"
   },
   {
    "duration": 24,
    "start_time": "2025-07-18T12:07:18.258Z"
   },
   {
    "duration": 53,
    "start_time": "2025-07-18T12:07:37.808Z"
   },
   {
    "duration": 565,
    "start_time": "2025-07-18T12:07:47.162Z"
   },
   {
    "duration": 5,
    "start_time": "2025-07-18T12:08:39.908Z"
   },
   {
    "duration": 198,
    "start_time": "2025-07-18T12:08:52.254Z"
   },
   {
    "duration": 568,
    "start_time": "2025-07-18T12:15:21.424Z"
   },
   {
    "duration": 7,
    "start_time": "2025-07-18T12:24:57.091Z"
   },
   {
    "duration": 1895,
    "start_time": "2025-07-21T08:08:09.708Z"
   },
   {
    "duration": 869,
    "start_time": "2025-07-21T08:08:17.096Z"
   },
   {
    "duration": 7,
    "start_time": "2025-07-21T08:08:32.107Z"
   },
   {
    "duration": 3494,
    "start_time": "2025-07-21T08:19:10.059Z"
   },
   {
    "duration": 384,
    "start_time": "2025-07-21T08:20:56.257Z"
   },
   {
    "duration": 585,
    "start_time": "2025-07-21T08:21:25.231Z"
   },
   {
    "duration": 26,
    "start_time": "2025-07-21T08:21:27.507Z"
   },
   {
    "duration": 3,
    "start_time": "2025-07-21T08:22:45.506Z"
   },
   {
    "duration": 22,
    "start_time": "2025-07-21T08:22:46.399Z"
   },
   {
    "duration": 348,
    "start_time": "2025-07-21T08:23:04.211Z"
   },
   {
    "duration": 3,
    "start_time": "2025-07-21T08:27:21.182Z"
   },
   {
    "duration": 23,
    "start_time": "2025-07-21T08:27:22.340Z"
   },
   {
    "duration": 29,
    "start_time": "2025-07-21T08:41:52.339Z"
   },
   {
    "duration": 34,
    "start_time": "2025-07-21T08:41:53.368Z"
   },
   {
    "duration": 497,
    "start_time": "2025-07-21T08:41:58.589Z"
   },
   {
    "duration": 4,
    "start_time": "2025-07-21T08:42:00.239Z"
   },
   {
    "duration": 2584398,
    "start_time": "2025-07-21T08:42:01.209Z"
   },
   {
    "duration": 30,
    "start_time": "2025-07-21T09:33:31.621Z"
   },
   {
    "duration": 7,
    "start_time": "2025-07-21T09:37:39.587Z"
   },
   {
    "duration": 99,
    "start_time": "2025-07-21T09:37:41.496Z"
   },
   {
    "duration": 6,
    "start_time": "2025-07-21T09:46:08.185Z"
   },
   {
    "duration": 975,
    "start_time": "2025-07-21T09:46:08.193Z"
   },
   {
    "duration": 9,
    "start_time": "2025-07-21T09:46:09.179Z"
   },
   {
    "duration": 53,
    "start_time": "2025-07-21T09:46:09.190Z"
   },
   {
    "duration": 37,
    "start_time": "2025-07-21T09:46:09.246Z"
   },
   {
    "duration": 560,
    "start_time": "2025-07-21T09:46:09.285Z"
   },
   {
    "duration": 4,
    "start_time": "2025-07-21T09:46:09.847Z"
   },
   {
    "duration": 2718479,
    "start_time": "2025-07-21T09:46:09.853Z"
   },
   {
    "duration": 9126,
    "start_time": "2025-07-21T11:23:02.194Z"
   },
   {
    "duration": 8608,
    "start_time": "2025-07-21T11:23:58.591Z"
   },
   {
    "duration": 7818,
    "start_time": "2025-07-21T11:25:20.546Z"
   },
   {
    "duration": 35,
    "start_time": "2025-07-21T11:26:05.976Z"
   },
   {
    "duration": 66,
    "start_time": "2025-07-21T11:37:06.851Z"
   },
   {
    "duration": 3,
    "start_time": "2025-07-21T11:54:10.724Z"
   },
   {
    "duration": 74,
    "start_time": "2025-07-21T11:54:11.596Z"
   },
   {
    "duration": 5,
    "start_time": "2025-07-21T11:54:12.555Z"
   },
   {
    "duration": 12,
    "start_time": "2025-07-21T11:54:31.877Z"
   },
   {
    "duration": 38,
    "start_time": "2025-07-21T11:54:35.671Z"
   },
   {
    "duration": 2931721,
    "start_time": "2025-07-21T11:54:48.369Z"
   },
   {
    "duration": 1,
    "start_time": "2025-07-21T12:43:40.110Z"
   },
   {
    "duration": 7381,
    "start_time": "2025-07-21T12:46:01.928Z"
   },
   {
    "duration": 5,
    "start_time": "2025-07-21T12:46:27.850Z"
   },
   {
    "duration": 6040,
    "start_time": "2025-07-21T12:48:11.658Z"
   },
   {
    "duration": 383,
    "start_time": "2025-07-21T12:48:32.638Z"
   },
   {
    "duration": 4780,
    "start_time": "2025-07-21T12:49:20.417Z"
   },
   {
    "duration": 25980,
    "start_time": "2025-07-21T12:50:06.243Z"
   },
   {
    "duration": 14160,
    "start_time": "2025-07-21T12:51:25.467Z"
   },
   {
    "duration": 5571,
    "start_time": "2025-07-21T12:52:52.273Z"
   },
   {
    "duration": 6877,
    "start_time": "2025-07-21T12:53:31.044Z"
   },
   {
    "duration": 4833,
    "start_time": "2025-07-21T12:53:37.925Z"
   },
   {
    "duration": 1074,
    "start_time": "2025-07-21T12:53:42.760Z"
   },
   {
    "duration": 7,
    "start_time": "2025-07-21T12:53:43.835Z"
   },
   {
    "duration": 59,
    "start_time": "2025-07-21T12:53:43.844Z"
   },
   {
    "duration": 34,
    "start_time": "2025-07-21T12:53:43.911Z"
   },
   {
    "duration": 912,
    "start_time": "2025-07-21T12:53:43.946Z"
   },
   {
    "duration": 17,
    "start_time": "2025-07-21T12:53:44.860Z"
   },
   {
    "duration": 2903176,
    "start_time": "2025-07-21T12:53:44.879Z"
   },
   {
    "duration": 30,
    "start_time": "2025-07-21T13:42:08.057Z"
   },
   {
    "duration": 100,
    "start_time": "2025-07-21T13:42:08.090Z"
   },
   {
    "duration": 2849,
    "start_time": "2025-07-21T13:42:08.192Z"
   },
   {
    "duration": 0,
    "start_time": "2025-07-21T13:42:11.042Z"
   },
   {
    "duration": 0,
    "start_time": "2025-07-21T13:42:11.043Z"
   },
   {
    "duration": 4907,
    "start_time": "2025-07-21T13:43:31.572Z"
   },
   {
    "duration": 2980,
    "start_time": "2025-07-21T13:43:40.412Z"
   },
   {
    "duration": 6252,
    "start_time": "2025-07-21T13:47:08.821Z"
   },
   {
    "duration": 14535,
    "start_time": "2025-07-21T13:47:58.097Z"
   },
   {
    "duration": 329,
    "start_time": "2025-07-21T13:48:15.782Z"
   },
   {
    "duration": 6166,
    "start_time": "2025-07-21T13:49:27.087Z"
   },
   {
    "duration": 7716,
    "start_time": "2025-07-21T13:49:33.256Z"
   },
   {
    "duration": 981,
    "start_time": "2025-07-21T13:49:40.974Z"
   },
   {
    "duration": 25,
    "start_time": "2025-07-21T13:49:41.956Z"
   },
   {
    "duration": 30,
    "start_time": "2025-07-21T13:49:41.989Z"
   },
   {
    "duration": 33,
    "start_time": "2025-07-21T13:49:42.021Z"
   },
   {
    "duration": 574,
    "start_time": "2025-07-21T13:49:42.064Z"
   },
   {
    "duration": 3,
    "start_time": "2025-07-21T13:49:42.640Z"
   },
   {
    "duration": 2927074,
    "start_time": "2025-07-21T13:49:42.644Z"
   },
   {
    "duration": 5,
    "start_time": "2025-07-21T14:38:29.720Z"
   },
   {
    "duration": 102,
    "start_time": "2025-07-21T14:38:29.726Z"
   },
   {
    "duration": 3107,
    "start_time": "2025-07-21T14:38:29.829Z"
   },
   {
    "duration": 36946,
    "start_time": "2025-07-21T14:38:32.938Z"
   },
   {
    "duration": 15,
    "start_time": "2025-07-21T14:39:09.900Z"
   },
   {
    "duration": 3,
    "start_time": "2025-07-21T14:39:09.917Z"
   },
   {
    "duration": 80,
    "start_time": "2025-07-21T14:39:09.921Z"
   },
   {
    "duration": 5,
    "start_time": "2025-07-21T14:39:10.005Z"
   },
   {
    "duration": 13,
    "start_time": "2025-07-21T14:39:10.012Z"
   },
   {
    "duration": 2922353,
    "start_time": "2025-07-21T14:39:10.027Z"
   },
   {
    "duration": 6,
    "start_time": "2025-07-21T15:27:52.463Z"
   },
   {
    "duration": 509294,
    "start_time": "2025-07-21T15:27:52.471Z"
   },
   {
    "duration": 0,
    "start_time": "2025-07-21T15:36:21.768Z"
   },
   {
    "duration": 0,
    "start_time": "2025-07-21T15:36:21.770Z"
   },
   {
    "duration": 0,
    "start_time": "2025-07-21T15:36:21.771Z"
   },
   {
    "duration": 0,
    "start_time": "2025-07-21T15:36:21.773Z"
   },
   {
    "duration": 3,
    "start_time": "2025-07-21T16:19:42.158Z"
   },
   {
    "duration": 537206,
    "start_time": "2025-07-21T16:19:51.910Z"
   },
   {
    "duration": 4605340,
    "start_time": "2025-07-21T16:28:49.118Z"
   },
   {
    "duration": 399104,
    "start_time": "2025-07-21T17:45:34.475Z"
   },
   {
    "duration": 5,
    "start_time": "2025-07-21T17:58:31.958Z"
   },
   {
    "duration": 4,
    "start_time": "2025-07-21T17:58:33.008Z"
   },
   {
    "duration": 47,
    "start_time": "2025-07-21T18:09:54.504Z"
   },
   {
    "duration": 15641,
    "start_time": "2025-07-22T06:04:20.749Z"
   },
   {
    "duration": 936,
    "start_time": "2025-07-22T06:04:36.392Z"
   },
   {
    "duration": 7,
    "start_time": "2025-07-22T06:04:37.330Z"
   },
   {
    "duration": 35,
    "start_time": "2025-07-22T06:04:37.339Z"
   },
   {
    "duration": 45,
    "start_time": "2025-07-22T06:04:37.389Z"
   },
   {
    "duration": 569,
    "start_time": "2025-07-22T06:04:37.436Z"
   },
   {
    "duration": 3,
    "start_time": "2025-07-22T06:04:38.007Z"
   },
   {
    "duration": 2629849,
    "start_time": "2025-07-22T06:04:38.011Z"
   },
   {
    "duration": 6,
    "start_time": "2025-07-22T06:48:27.861Z"
   },
   {
    "duration": 106,
    "start_time": "2025-07-22T06:48:27.868Z"
   },
   {
    "duration": 31602,
    "start_time": "2025-07-22T06:48:27.975Z"
   },
   {
    "duration": 14,
    "start_time": "2025-07-22T06:48:59.578Z"
   },
   {
    "duration": 3,
    "start_time": "2025-07-22T06:48:59.594Z"
   },
   {
    "duration": 61,
    "start_time": "2025-07-22T06:48:59.599Z"
   },
   {
    "duration": 5,
    "start_time": "2025-07-22T06:48:59.661Z"
   },
   {
    "duration": 9,
    "start_time": "2025-07-22T06:48:59.690Z"
   },
   {
    "duration": 2662194,
    "start_time": "2025-07-22T06:48:59.700Z"
   },
   {
    "duration": 6,
    "start_time": "2025-07-22T07:33:21.903Z"
   },
   {
    "duration": 559427,
    "start_time": "2025-07-22T07:33:21.916Z"
   },
   {
    "duration": 3,
    "start_time": "2025-07-22T07:42:41.345Z"
   },
   {
    "duration": 587315,
    "start_time": "2025-07-22T07:42:41.350Z"
   },
   {
    "duration": 5142944,
    "start_time": "2025-07-22T07:52:28.666Z"
   },
   {
    "duration": 330083,
    "start_time": "2025-07-22T09:18:11.611Z"
   },
   {
    "duration": 10,
    "start_time": "2025-07-22T09:24:04.281Z"
   },
   {
    "duration": 4,
    "start_time": "2025-07-22T09:24:34.999Z"
   },
   {
    "duration": 3,
    "start_time": "2025-07-22T09:24:40.409Z"
   },
   {
    "duration": 17051,
    "start_time": "2025-07-22T11:45:34.557Z"
   },
   {
    "duration": 1080,
    "start_time": "2025-07-22T11:45:51.611Z"
   },
   {
    "duration": 7,
    "start_time": "2025-07-22T11:45:52.693Z"
   },
   {
    "duration": 155,
    "start_time": "2025-07-22T11:45:52.701Z"
   },
   {
    "duration": 37,
    "start_time": "2025-07-22T11:45:52.859Z"
   },
   {
    "duration": 566,
    "start_time": "2025-07-22T11:45:52.897Z"
   },
   {
    "duration": 4,
    "start_time": "2025-07-22T11:45:53.464Z"
   },
   {
    "duration": 2610056,
    "start_time": "2025-07-22T11:45:53.475Z"
   },
   {
    "duration": 6,
    "start_time": "2025-07-22T12:29:23.533Z"
   },
   {
    "duration": 114,
    "start_time": "2025-07-22T12:29:23.541Z"
   },
   {
    "duration": 34262,
    "start_time": "2025-07-22T12:29:23.656Z"
   },
   {
    "duration": 10,
    "start_time": "2025-07-22T12:29:57.920Z"
   },
   {
    "duration": 59,
    "start_time": "2025-07-22T12:29:57.931Z"
   },
   {
    "duration": 98,
    "start_time": "2025-07-22T12:29:57.993Z"
   },
   {
    "duration": 5,
    "start_time": "2025-07-22T12:29:58.092Z"
   },
   {
    "duration": 34,
    "start_time": "2025-07-22T12:29:58.098Z"
   },
   {
    "duration": 687757,
    "start_time": "2025-07-22T12:29:58.134Z"
   },
   {
    "duration": 3,
    "start_time": "2025-07-22T12:41:25.977Z"
   },
   {
    "duration": 501282,
    "start_time": "2025-07-22T12:41:25.982Z"
   },
   {
    "duration": 12,
    "start_time": "2025-07-22T12:49:47.266Z"
   },
   {
    "duration": 548722,
    "start_time": "2025-07-22T12:49:47.281Z"
   },
   {
    "duration": 1316,
    "start_time": "2025-07-22T12:58:56.005Z"
   },
   {
    "duration": 266233,
    "start_time": "2025-07-22T12:58:57.323Z"
   },
   {
    "duration": 384,
    "start_time": "2025-07-22T13:03:23.558Z"
   },
   {
    "duration": 1290637,
    "start_time": "2025-07-22T13:04:48.872Z"
   },
   {
    "duration": 14,
    "start_time": "2025-07-22T13:29:42.335Z"
   },
   {
    "duration": 1000,
    "start_time": "2025-07-22T13:35:51.413Z"
   },
   {
    "duration": 1054,
    "start_time": "2025-07-22T13:36:34.349Z"
   }
  ],
  "kernelspec": {
   "display_name": "Python 3 (ipykernel)",
   "language": "python",
   "name": "python3"
  },
  "language_info": {
   "codemirror_mode": {
    "name": "ipython",
    "version": 3
   },
   "file_extension": ".py",
   "mimetype": "text/x-python",
   "name": "python",
   "nbconvert_exporter": "python",
   "pygments_lexer": "ipython3",
   "version": "3.9.5"
  },
  "toc": {
   "base_numbering": 1,
   "nav_menu": {},
   "number_sections": true,
   "sideBar": true,
   "skip_h1_title": true,
   "title_cell": "Содержание",
   "title_sidebar": "Contents",
   "toc_cell": true,
   "toc_position": {
    "height": "calc(100% - 180px)",
    "left": "10px",
    "top": "150px",
    "width": "302.391px"
   },
   "toc_section_display": true,
   "toc_window_display": false
  }
 },
 "nbformat": 4,
 "nbformat_minor": 2
}

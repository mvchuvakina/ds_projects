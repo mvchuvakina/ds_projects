{
 "cells": [
  {
   "cell_type": "markdown",
   "metadata": {},
   "source": [
    "<div class=\"alert alert-success\">\n",
    "<font size=\"4\"><b>✔️ Комментарий ревьюера v2</b></font>\n",
    "    <br /> \n",
    "    <font size=\"3\", color = \"black\">\n",
    "        <b></b>\n",
    "\n",
    "Приветствую ещё раз!\n",
    "\n",
    "Основные моменты исправлены, и далеко не только лишь они, так что причин ещё раз отправить на доработку у меня нет. Принимаю твой проект.\n",
    "\n",
    "Успехов с последующими заданиями курса!"
   ]
  },
  {
   "cell_type": "markdown",
   "metadata": {},
   "source": [
    "<div class=\"alert alert-info\">\n",
    "<font size=\"4\"><b>Комментарий ревьюера</b></font>\n",
    "    <br /> \n",
    "    <font size=\"3\", color = \"black\">\n",
    "<br />\n",
    "    Привет, Мария! Спасибо, что прислала задание :) <br>Меня зовут Никита Сон и я буду проверять твой проект. Предлагаю обращаться друг к другу на ты, как это принято в Практикуме, если ты не против. Но если хочешь на Вы - не буду возражать 🙂\n",
    "        \n",
    "Поехали 🚀\n",
    "    <br />\n",
    "\n",
    "Мои комментарии обозначены пометкой <b>Комментарий ревьюера</b>. При внесении правок в проект, пожалуйста, не меняй и не удаляй их т.к. дальнейшая проверка будет происходить в том числе на основе того, исправлены замечания в комментариях или нет. Зато ты всегда можешь оставить свои комментарии для меня :)\n",
    "    </font>\n",
    "</div>\n",
    "\n",
    "<div class=\"alert alert-success\">\n",
    "<font size=\"4\"><b>✔️ Комментарий ревьюера</b></font>\n",
    "    <br /> \n",
    "    <font size=\"3\", color = \"black\">\n",
    "<br />\n",
    "В зелёных блоках будут позитивные комментарии\n",
    "<br />\n",
    "    </font>\n",
    "</div>\n",
    "\n",
    "<div class=\"alert alert-warning\">\n",
    "<font size=\"4\"><b>⚠️ Комментарий ревьюера</b></font>\n",
    "    <br /> \n",
    "    <font size=\"3\", color = \"black\">\n",
    "<br />\n",
    "В жёлтых - некритичные замечания\n",
    "    </font>\n",
    "</div>\n",
    "\n",
    "<div class=\"alert alert-danger\">\n",
    "<font size=\"4\"><b>❌ Комментарий ревьюера</b></font>\n",
    "    <br /> \n",
    "    <font size=\"3\", color = \"black\">\n",
    "<br /> \n",
    "В красных - важные замечания, которые надо обязательно устранить\n",
    "    </font>\n",
    "</div>\n",
    "\n",
    "<div class=\"alert alert-info\">\n",
    "<font size=\"4\">🍕<b> Комментарий ревьюера</b></font>\n",
    "    <br /> \n",
    "    <font size=\"3\", color = \"black\">\n",
    "<br /> \n",
    "В синих с пиццей - различные нейтральные сообщения, советы на будущее и прочее.\n",
    "    </font>\n",
    "</div>"
   ]
  },
  {
   "cell_type": "markdown",
   "metadata": {},
   "source": [
    "# Выбор локации для скважины"
   ]
  },
  {
   "cell_type": "markdown",
   "metadata": {},
   "source": [
    "Допустим, вы работаете в добывающей компании «ГлавРосГосНефть». Нужно решить, где бурить новую скважину.\n",
    "\n",
    "Вам предоставлены пробы нефти в трёх регионах: в каждом 100 000 месторождений, где измерили качество нефти и объём её запасов. Постройте модель машинного обучения, которая поможет определить регион, где добыча принесёт наибольшую прибыль. Проанализируйте возможную прибыль и риски техникой *Bootstrap.*\n",
    "\n",
    "Шаги для выбора локации:\n",
    "\n",
    "- В избранном регионе ищут месторождения, для каждого определяют значения признаков;\n",
    "- Строят модель и оценивают объём запасов;\n",
    "- Выбирают месторождения с самым высокими оценками значений. Количество месторождений зависит от бюджета компании и стоимости разработки одной скважины;\n",
    "- Прибыль равна суммарной прибыли отобранных месторождений."
   ]
  },
  {
   "cell_type": "markdown",
   "metadata": {},
   "source": [
    "**Ход исследования:**\n",
    "\n",
    "- Загрузка и подготовка данных\n",
    "- Обучение и проверка модели, которая предсказывает объем сырья\n",
    "- Подготовка и расчет прибыли по выбранным скважинам и предсказаниям модели\n",
    "- Расчет рисков и прибыли для каждого региона"
   ]
  },
  {
   "cell_type": "code",
   "execution_count": 1,
   "metadata": {},
   "outputs": [],
   "source": [
    "import pandas as pd\n",
    "import matplotlib.pyplot as plt\n",
    "import seaborn as sns\n",
    "import numpy as np\n",
    "\n",
    "from sklearn.model_selection import train_test_split\n",
    "from sklearn.linear_model import LinearRegression\n",
    "from sklearn.metrics import mean_squared_error"
   ]
  },
  {
   "cell_type": "markdown",
   "metadata": {},
   "source": [
    "## Загрузка и подготовка данных"
   ]
  },
  {
   "cell_type": "code",
   "execution_count": 2,
   "metadata": {},
   "outputs": [
    {
     "data": {
      "text/html": [
       "<div>\n",
       "<style scoped>\n",
       "    .dataframe tbody tr th:only-of-type {\n",
       "        vertical-align: middle;\n",
       "    }\n",
       "\n",
       "    .dataframe tbody tr th {\n",
       "        vertical-align: top;\n",
       "    }\n",
       "\n",
       "    .dataframe thead th {\n",
       "        text-align: right;\n",
       "    }\n",
       "</style>\n",
       "<table border=\"1\" class=\"dataframe\">\n",
       "  <thead>\n",
       "    <tr style=\"text-align: right;\">\n",
       "      <th></th>\n",
       "      <th>id</th>\n",
       "      <th>f0</th>\n",
       "      <th>f1</th>\n",
       "      <th>f2</th>\n",
       "      <th>product</th>\n",
       "    </tr>\n",
       "  </thead>\n",
       "  <tbody>\n",
       "    <tr>\n",
       "      <th>0</th>\n",
       "      <td>txEyH</td>\n",
       "      <td>0.705745</td>\n",
       "      <td>-0.497823</td>\n",
       "      <td>1.221170</td>\n",
       "      <td>105.280062</td>\n",
       "    </tr>\n",
       "    <tr>\n",
       "      <th>1</th>\n",
       "      <td>2acmU</td>\n",
       "      <td>1.334711</td>\n",
       "      <td>-0.340164</td>\n",
       "      <td>4.365080</td>\n",
       "      <td>73.037750</td>\n",
       "    </tr>\n",
       "    <tr>\n",
       "      <th>2</th>\n",
       "      <td>409Wp</td>\n",
       "      <td>1.022732</td>\n",
       "      <td>0.151990</td>\n",
       "      <td>1.419926</td>\n",
       "      <td>85.265647</td>\n",
       "    </tr>\n",
       "    <tr>\n",
       "      <th>3</th>\n",
       "      <td>iJLyR</td>\n",
       "      <td>-0.032172</td>\n",
       "      <td>0.139033</td>\n",
       "      <td>2.978566</td>\n",
       "      <td>168.620776</td>\n",
       "    </tr>\n",
       "    <tr>\n",
       "      <th>4</th>\n",
       "      <td>Xdl7t</td>\n",
       "      <td>1.988431</td>\n",
       "      <td>0.155413</td>\n",
       "      <td>4.751769</td>\n",
       "      <td>154.036647</td>\n",
       "    </tr>\n",
       "    <tr>\n",
       "      <th>...</th>\n",
       "      <td>...</td>\n",
       "      <td>...</td>\n",
       "      <td>...</td>\n",
       "      <td>...</td>\n",
       "      <td>...</td>\n",
       "    </tr>\n",
       "    <tr>\n",
       "      <th>99995</th>\n",
       "      <td>DLsed</td>\n",
       "      <td>0.971957</td>\n",
       "      <td>0.370953</td>\n",
       "      <td>6.075346</td>\n",
       "      <td>110.744026</td>\n",
       "    </tr>\n",
       "    <tr>\n",
       "      <th>99996</th>\n",
       "      <td>QKivN</td>\n",
       "      <td>1.392429</td>\n",
       "      <td>-0.382606</td>\n",
       "      <td>1.273912</td>\n",
       "      <td>122.346843</td>\n",
       "    </tr>\n",
       "    <tr>\n",
       "      <th>99997</th>\n",
       "      <td>3rnvd</td>\n",
       "      <td>1.029585</td>\n",
       "      <td>0.018787</td>\n",
       "      <td>-1.348308</td>\n",
       "      <td>64.375443</td>\n",
       "    </tr>\n",
       "    <tr>\n",
       "      <th>99998</th>\n",
       "      <td>7kl59</td>\n",
       "      <td>0.998163</td>\n",
       "      <td>-0.528582</td>\n",
       "      <td>1.583869</td>\n",
       "      <td>74.040764</td>\n",
       "    </tr>\n",
       "    <tr>\n",
       "      <th>99999</th>\n",
       "      <td>1CWhH</td>\n",
       "      <td>1.764754</td>\n",
       "      <td>-0.266417</td>\n",
       "      <td>5.722849</td>\n",
       "      <td>149.633246</td>\n",
       "    </tr>\n",
       "  </tbody>\n",
       "</table>\n",
       "<p>100000 rows × 5 columns</p>\n",
       "</div>"
      ],
      "text/plain": [
       "          id        f0        f1        f2     product\n",
       "0      txEyH  0.705745 -0.497823  1.221170  105.280062\n",
       "1      2acmU  1.334711 -0.340164  4.365080   73.037750\n",
       "2      409Wp  1.022732  0.151990  1.419926   85.265647\n",
       "3      iJLyR -0.032172  0.139033  2.978566  168.620776\n",
       "4      Xdl7t  1.988431  0.155413  4.751769  154.036647\n",
       "...      ...       ...       ...       ...         ...\n",
       "99995  DLsed  0.971957  0.370953  6.075346  110.744026\n",
       "99996  QKivN  1.392429 -0.382606  1.273912  122.346843\n",
       "99997  3rnvd  1.029585  0.018787 -1.348308   64.375443\n",
       "99998  7kl59  0.998163 -0.528582  1.583869   74.040764\n",
       "99999  1CWhH  1.764754 -0.266417  5.722849  149.633246\n",
       "\n",
       "[100000 rows x 5 columns]"
      ]
     },
     "metadata": {},
     "output_type": "display_data"
    },
    {
     "data": {
      "text/html": [
       "<div>\n",
       "<style scoped>\n",
       "    .dataframe tbody tr th:only-of-type {\n",
       "        vertical-align: middle;\n",
       "    }\n",
       "\n",
       "    .dataframe tbody tr th {\n",
       "        vertical-align: top;\n",
       "    }\n",
       "\n",
       "    .dataframe thead th {\n",
       "        text-align: right;\n",
       "    }\n",
       "</style>\n",
       "<table border=\"1\" class=\"dataframe\">\n",
       "  <thead>\n",
       "    <tr style=\"text-align: right;\">\n",
       "      <th></th>\n",
       "      <th>id</th>\n",
       "      <th>f0</th>\n",
       "      <th>f1</th>\n",
       "      <th>f2</th>\n",
       "      <th>product</th>\n",
       "    </tr>\n",
       "  </thead>\n",
       "  <tbody>\n",
       "    <tr>\n",
       "      <th>0</th>\n",
       "      <td>kBEdx</td>\n",
       "      <td>-15.001348</td>\n",
       "      <td>-8.276000</td>\n",
       "      <td>-0.005876</td>\n",
       "      <td>3.179103</td>\n",
       "    </tr>\n",
       "    <tr>\n",
       "      <th>1</th>\n",
       "      <td>62mP7</td>\n",
       "      <td>14.272088</td>\n",
       "      <td>-3.475083</td>\n",
       "      <td>0.999183</td>\n",
       "      <td>26.953261</td>\n",
       "    </tr>\n",
       "    <tr>\n",
       "      <th>2</th>\n",
       "      <td>vyE1P</td>\n",
       "      <td>6.263187</td>\n",
       "      <td>-5.948386</td>\n",
       "      <td>5.001160</td>\n",
       "      <td>134.766305</td>\n",
       "    </tr>\n",
       "    <tr>\n",
       "      <th>3</th>\n",
       "      <td>KcrkZ</td>\n",
       "      <td>-13.081196</td>\n",
       "      <td>-11.506057</td>\n",
       "      <td>4.999415</td>\n",
       "      <td>137.945408</td>\n",
       "    </tr>\n",
       "    <tr>\n",
       "      <th>4</th>\n",
       "      <td>AHL4O</td>\n",
       "      <td>12.702195</td>\n",
       "      <td>-8.147433</td>\n",
       "      <td>5.004363</td>\n",
       "      <td>134.766305</td>\n",
       "    </tr>\n",
       "    <tr>\n",
       "      <th>...</th>\n",
       "      <td>...</td>\n",
       "      <td>...</td>\n",
       "      <td>...</td>\n",
       "      <td>...</td>\n",
       "      <td>...</td>\n",
       "    </tr>\n",
       "    <tr>\n",
       "      <th>99995</th>\n",
       "      <td>QywKC</td>\n",
       "      <td>9.535637</td>\n",
       "      <td>-6.878139</td>\n",
       "      <td>1.998296</td>\n",
       "      <td>53.906522</td>\n",
       "    </tr>\n",
       "    <tr>\n",
       "      <th>99996</th>\n",
       "      <td>ptvty</td>\n",
       "      <td>-10.160631</td>\n",
       "      <td>-12.558096</td>\n",
       "      <td>5.005581</td>\n",
       "      <td>137.945408</td>\n",
       "    </tr>\n",
       "    <tr>\n",
       "      <th>99997</th>\n",
       "      <td>09gWa</td>\n",
       "      <td>-7.378891</td>\n",
       "      <td>-3.084104</td>\n",
       "      <td>4.998651</td>\n",
       "      <td>137.945408</td>\n",
       "    </tr>\n",
       "    <tr>\n",
       "      <th>99998</th>\n",
       "      <td>rqwUm</td>\n",
       "      <td>0.665714</td>\n",
       "      <td>-6.152593</td>\n",
       "      <td>1.000146</td>\n",
       "      <td>30.132364</td>\n",
       "    </tr>\n",
       "    <tr>\n",
       "      <th>99999</th>\n",
       "      <td>relB0</td>\n",
       "      <td>-3.426139</td>\n",
       "      <td>-7.794274</td>\n",
       "      <td>-0.003299</td>\n",
       "      <td>3.179103</td>\n",
       "    </tr>\n",
       "  </tbody>\n",
       "</table>\n",
       "<p>100000 rows × 5 columns</p>\n",
       "</div>"
      ],
      "text/plain": [
       "          id         f0         f1        f2     product\n",
       "0      kBEdx -15.001348  -8.276000 -0.005876    3.179103\n",
       "1      62mP7  14.272088  -3.475083  0.999183   26.953261\n",
       "2      vyE1P   6.263187  -5.948386  5.001160  134.766305\n",
       "3      KcrkZ -13.081196 -11.506057  4.999415  137.945408\n",
       "4      AHL4O  12.702195  -8.147433  5.004363  134.766305\n",
       "...      ...        ...        ...       ...         ...\n",
       "99995  QywKC   9.535637  -6.878139  1.998296   53.906522\n",
       "99996  ptvty -10.160631 -12.558096  5.005581  137.945408\n",
       "99997  09gWa  -7.378891  -3.084104  4.998651  137.945408\n",
       "99998  rqwUm   0.665714  -6.152593  1.000146   30.132364\n",
       "99999  relB0  -3.426139  -7.794274 -0.003299    3.179103\n",
       "\n",
       "[100000 rows x 5 columns]"
      ]
     },
     "metadata": {},
     "output_type": "display_data"
    },
    {
     "data": {
      "text/html": [
       "<div>\n",
       "<style scoped>\n",
       "    .dataframe tbody tr th:only-of-type {\n",
       "        vertical-align: middle;\n",
       "    }\n",
       "\n",
       "    .dataframe tbody tr th {\n",
       "        vertical-align: top;\n",
       "    }\n",
       "\n",
       "    .dataframe thead th {\n",
       "        text-align: right;\n",
       "    }\n",
       "</style>\n",
       "<table border=\"1\" class=\"dataframe\">\n",
       "  <thead>\n",
       "    <tr style=\"text-align: right;\">\n",
       "      <th></th>\n",
       "      <th>id</th>\n",
       "      <th>f0</th>\n",
       "      <th>f1</th>\n",
       "      <th>f2</th>\n",
       "      <th>product</th>\n",
       "    </tr>\n",
       "  </thead>\n",
       "  <tbody>\n",
       "    <tr>\n",
       "      <th>0</th>\n",
       "      <td>fwXo0</td>\n",
       "      <td>-1.146987</td>\n",
       "      <td>0.963328</td>\n",
       "      <td>-0.828965</td>\n",
       "      <td>27.758673</td>\n",
       "    </tr>\n",
       "    <tr>\n",
       "      <th>1</th>\n",
       "      <td>WJtFt</td>\n",
       "      <td>0.262778</td>\n",
       "      <td>0.269839</td>\n",
       "      <td>-2.530187</td>\n",
       "      <td>56.069697</td>\n",
       "    </tr>\n",
       "    <tr>\n",
       "      <th>2</th>\n",
       "      <td>ovLUW</td>\n",
       "      <td>0.194587</td>\n",
       "      <td>0.289035</td>\n",
       "      <td>-5.586433</td>\n",
       "      <td>62.871910</td>\n",
       "    </tr>\n",
       "    <tr>\n",
       "      <th>3</th>\n",
       "      <td>q6cA6</td>\n",
       "      <td>2.236060</td>\n",
       "      <td>-0.553760</td>\n",
       "      <td>0.930038</td>\n",
       "      <td>114.572842</td>\n",
       "    </tr>\n",
       "    <tr>\n",
       "      <th>4</th>\n",
       "      <td>WPMUX</td>\n",
       "      <td>-0.515993</td>\n",
       "      <td>1.716266</td>\n",
       "      <td>5.899011</td>\n",
       "      <td>149.600746</td>\n",
       "    </tr>\n",
       "    <tr>\n",
       "      <th>...</th>\n",
       "      <td>...</td>\n",
       "      <td>...</td>\n",
       "      <td>...</td>\n",
       "      <td>...</td>\n",
       "      <td>...</td>\n",
       "    </tr>\n",
       "    <tr>\n",
       "      <th>99995</th>\n",
       "      <td>4GxBu</td>\n",
       "      <td>-1.777037</td>\n",
       "      <td>1.125220</td>\n",
       "      <td>6.263374</td>\n",
       "      <td>172.327046</td>\n",
       "    </tr>\n",
       "    <tr>\n",
       "      <th>99996</th>\n",
       "      <td>YKFjq</td>\n",
       "      <td>-1.261523</td>\n",
       "      <td>-0.894828</td>\n",
       "      <td>2.524545</td>\n",
       "      <td>138.748846</td>\n",
       "    </tr>\n",
       "    <tr>\n",
       "      <th>99997</th>\n",
       "      <td>tKPY3</td>\n",
       "      <td>-1.199934</td>\n",
       "      <td>-2.957637</td>\n",
       "      <td>5.219411</td>\n",
       "      <td>157.080080</td>\n",
       "    </tr>\n",
       "    <tr>\n",
       "      <th>99998</th>\n",
       "      <td>nmxp2</td>\n",
       "      <td>-2.419896</td>\n",
       "      <td>2.417221</td>\n",
       "      <td>-5.548444</td>\n",
       "      <td>51.795253</td>\n",
       "    </tr>\n",
       "    <tr>\n",
       "      <th>99999</th>\n",
       "      <td>V9kWn</td>\n",
       "      <td>-2.551421</td>\n",
       "      <td>-2.025625</td>\n",
       "      <td>6.090891</td>\n",
       "      <td>102.775767</td>\n",
       "    </tr>\n",
       "  </tbody>\n",
       "</table>\n",
       "<p>100000 rows × 5 columns</p>\n",
       "</div>"
      ],
      "text/plain": [
       "          id        f0        f1        f2     product\n",
       "0      fwXo0 -1.146987  0.963328 -0.828965   27.758673\n",
       "1      WJtFt  0.262778  0.269839 -2.530187   56.069697\n",
       "2      ovLUW  0.194587  0.289035 -5.586433   62.871910\n",
       "3      q6cA6  2.236060 -0.553760  0.930038  114.572842\n",
       "4      WPMUX -0.515993  1.716266  5.899011  149.600746\n",
       "...      ...       ...       ...       ...         ...\n",
       "99995  4GxBu -1.777037  1.125220  6.263374  172.327046\n",
       "99996  YKFjq -1.261523 -0.894828  2.524545  138.748846\n",
       "99997  tKPY3 -1.199934 -2.957637  5.219411  157.080080\n",
       "99998  nmxp2 -2.419896  2.417221 -5.548444   51.795253\n",
       "99999  V9kWn -2.551421 -2.025625  6.090891  102.775767\n",
       "\n",
       "[100000 rows x 5 columns]"
      ]
     },
     "metadata": {},
     "output_type": "display_data"
    }
   ],
   "source": [
    "geo_data_0 = pd.read_csv('/datasets/geo_data_0.csv')\n",
    "geo_data_1 = pd.read_csv('/datasets/geo_data_1.csv')\n",
    "geo_data_2 = pd.read_csv('/datasets/geo_data_2.csv')\n",
    "display(geo_data_0)\n",
    "display(geo_data_1)\n",
    "display(geo_data_2)"
   ]
  },
  {
   "cell_type": "markdown",
   "metadata": {},
   "source": [
    "**Изучим данные датасета geo_data_0**"
   ]
  },
  {
   "cell_type": "code",
   "execution_count": 3,
   "metadata": {},
   "outputs": [
    {
     "data": {
      "text/html": [
       "<div>\n",
       "<style scoped>\n",
       "    .dataframe tbody tr th:only-of-type {\n",
       "        vertical-align: middle;\n",
       "    }\n",
       "\n",
       "    .dataframe tbody tr th {\n",
       "        vertical-align: top;\n",
       "    }\n",
       "\n",
       "    .dataframe thead th {\n",
       "        text-align: right;\n",
       "    }\n",
       "</style>\n",
       "<table border=\"1\" class=\"dataframe\">\n",
       "  <thead>\n",
       "    <tr style=\"text-align: right;\">\n",
       "      <th></th>\n",
       "      <th>id</th>\n",
       "      <th>f0</th>\n",
       "      <th>f1</th>\n",
       "      <th>f2</th>\n",
       "      <th>product</th>\n",
       "    </tr>\n",
       "  </thead>\n",
       "  <tbody>\n",
       "    <tr>\n",
       "      <th>0</th>\n",
       "      <td>txEyH</td>\n",
       "      <td>0.705745</td>\n",
       "      <td>-0.497823</td>\n",
       "      <td>1.221170</td>\n",
       "      <td>105.280062</td>\n",
       "    </tr>\n",
       "    <tr>\n",
       "      <th>1</th>\n",
       "      <td>2acmU</td>\n",
       "      <td>1.334711</td>\n",
       "      <td>-0.340164</td>\n",
       "      <td>4.365080</td>\n",
       "      <td>73.037750</td>\n",
       "    </tr>\n",
       "    <tr>\n",
       "      <th>2</th>\n",
       "      <td>409Wp</td>\n",
       "      <td>1.022732</td>\n",
       "      <td>0.151990</td>\n",
       "      <td>1.419926</td>\n",
       "      <td>85.265647</td>\n",
       "    </tr>\n",
       "    <tr>\n",
       "      <th>3</th>\n",
       "      <td>iJLyR</td>\n",
       "      <td>-0.032172</td>\n",
       "      <td>0.139033</td>\n",
       "      <td>2.978566</td>\n",
       "      <td>168.620776</td>\n",
       "    </tr>\n",
       "    <tr>\n",
       "      <th>4</th>\n",
       "      <td>Xdl7t</td>\n",
       "      <td>1.988431</td>\n",
       "      <td>0.155413</td>\n",
       "      <td>4.751769</td>\n",
       "      <td>154.036647</td>\n",
       "    </tr>\n",
       "  </tbody>\n",
       "</table>\n",
       "</div>"
      ],
      "text/plain": [
       "      id        f0        f1        f2     product\n",
       "0  txEyH  0.705745 -0.497823  1.221170  105.280062\n",
       "1  2acmU  1.334711 -0.340164  4.365080   73.037750\n",
       "2  409Wp  1.022732  0.151990  1.419926   85.265647\n",
       "3  iJLyR -0.032172  0.139033  2.978566  168.620776\n",
       "4  Xdl7t  1.988431  0.155413  4.751769  154.036647"
      ]
     },
     "execution_count": 3,
     "metadata": {},
     "output_type": "execute_result"
    }
   ],
   "source": [
    "geo_data_0.head()"
   ]
  },
  {
   "cell_type": "markdown",
   "metadata": {},
   "source": [
    "Видим, что у всех колонок корректный вид, переименовывать не нужно"
   ]
  },
  {
   "cell_type": "code",
   "execution_count": 4,
   "metadata": {},
   "outputs": [
    {
     "name": "stdout",
     "output_type": "stream",
     "text": [
      "<class 'pandas.core.frame.DataFrame'>\n",
      "RangeIndex: 100000 entries, 0 to 99999\n",
      "Data columns (total 5 columns):\n",
      " #   Column   Non-Null Count   Dtype  \n",
      "---  ------   --------------   -----  \n",
      " 0   id       100000 non-null  object \n",
      " 1   f0       100000 non-null  float64\n",
      " 2   f1       100000 non-null  float64\n",
      " 3   f2       100000 non-null  float64\n",
      " 4   product  100000 non-null  float64\n",
      "dtypes: float64(4), object(1)\n",
      "memory usage: 3.8+ MB\n"
     ]
    }
   ],
   "source": [
    "geo_data_0.info()"
   ]
  },
  {
   "cell_type": "markdown",
   "metadata": {},
   "source": [
    "У всех колонок корректный тип данных, пропусков не наблюдается"
   ]
  },
  {
   "cell_type": "code",
   "execution_count": 5,
   "metadata": {},
   "outputs": [
    {
     "name": "stdout",
     "output_type": "stream",
     "text": [
      "0\n"
     ]
    },
    {
     "data": {
      "text/html": [
       "<div>\n",
       "<style scoped>\n",
       "    .dataframe tbody tr th:only-of-type {\n",
       "        vertical-align: middle;\n",
       "    }\n",
       "\n",
       "    .dataframe tbody tr th {\n",
       "        vertical-align: top;\n",
       "    }\n",
       "\n",
       "    .dataframe thead th {\n",
       "        text-align: right;\n",
       "    }\n",
       "</style>\n",
       "<table border=\"1\" class=\"dataframe\">\n",
       "  <thead>\n",
       "    <tr style=\"text-align: right;\">\n",
       "      <th></th>\n",
       "      <th>id</th>\n",
       "      <th>f0</th>\n",
       "      <th>f1</th>\n",
       "      <th>f2</th>\n",
       "      <th>product</th>\n",
       "    </tr>\n",
       "  </thead>\n",
       "  <tbody>\n",
       "  </tbody>\n",
       "</table>\n",
       "</div>"
      ],
      "text/plain": [
       "Empty DataFrame\n",
       "Columns: [id, f0, f1, f2, product]\n",
       "Index: []"
      ]
     },
     "execution_count": 5,
     "metadata": {},
     "output_type": "execute_result"
    }
   ],
   "source": [
    "print(geo_data_0.duplicated().sum())\n",
    "geo_data_0[geo_data_0.duplicated()]"
   ]
  },
  {
   "cell_type": "code",
   "execution_count": 6,
   "metadata": {},
   "outputs": [
    {
     "data": {
      "text/plain": [
       "0"
      ]
     },
     "execution_count": 6,
     "metadata": {},
     "output_type": "execute_result"
    }
   ],
   "source": [
    "geo_data_0.duplicated(subset=['f0', 'f1', 'f2', 'product']).sum()"
   ]
  },
  {
   "cell_type": "markdown",
   "metadata": {},
   "source": [
    "Видим, что дубликатов нет"
   ]
  },
  {
   "cell_type": "code",
   "execution_count": 7,
   "metadata": {},
   "outputs": [
    {
     "data": {
      "text/html": [
       "<div>\n",
       "<style scoped>\n",
       "    .dataframe tbody tr th:only-of-type {\n",
       "        vertical-align: middle;\n",
       "    }\n",
       "\n",
       "    .dataframe tbody tr th {\n",
       "        vertical-align: top;\n",
       "    }\n",
       "\n",
       "    .dataframe thead th {\n",
       "        text-align: right;\n",
       "    }\n",
       "</style>\n",
       "<table border=\"1\" class=\"dataframe\">\n",
       "  <thead>\n",
       "    <tr style=\"text-align: right;\">\n",
       "      <th></th>\n",
       "      <th>f0</th>\n",
       "      <th>f1</th>\n",
       "      <th>f2</th>\n",
       "      <th>product</th>\n",
       "    </tr>\n",
       "  </thead>\n",
       "  <tbody>\n",
       "    <tr>\n",
       "      <th>count</th>\n",
       "      <td>100000.000000</td>\n",
       "      <td>100000.000000</td>\n",
       "      <td>100000.000000</td>\n",
       "      <td>100000.000000</td>\n",
       "    </tr>\n",
       "    <tr>\n",
       "      <th>mean</th>\n",
       "      <td>0.500419</td>\n",
       "      <td>0.250143</td>\n",
       "      <td>2.502647</td>\n",
       "      <td>92.500000</td>\n",
       "    </tr>\n",
       "    <tr>\n",
       "      <th>std</th>\n",
       "      <td>0.871832</td>\n",
       "      <td>0.504433</td>\n",
       "      <td>3.248248</td>\n",
       "      <td>44.288691</td>\n",
       "    </tr>\n",
       "    <tr>\n",
       "      <th>min</th>\n",
       "      <td>-1.408605</td>\n",
       "      <td>-0.848218</td>\n",
       "      <td>-12.088328</td>\n",
       "      <td>0.000000</td>\n",
       "    </tr>\n",
       "    <tr>\n",
       "      <th>25%</th>\n",
       "      <td>-0.072580</td>\n",
       "      <td>-0.200881</td>\n",
       "      <td>0.287748</td>\n",
       "      <td>56.497507</td>\n",
       "    </tr>\n",
       "    <tr>\n",
       "      <th>50%</th>\n",
       "      <td>0.502360</td>\n",
       "      <td>0.250252</td>\n",
       "      <td>2.515969</td>\n",
       "      <td>91.849972</td>\n",
       "    </tr>\n",
       "    <tr>\n",
       "      <th>75%</th>\n",
       "      <td>1.073581</td>\n",
       "      <td>0.700646</td>\n",
       "      <td>4.715088</td>\n",
       "      <td>128.564089</td>\n",
       "    </tr>\n",
       "    <tr>\n",
       "      <th>max</th>\n",
       "      <td>2.362331</td>\n",
       "      <td>1.343769</td>\n",
       "      <td>16.003790</td>\n",
       "      <td>185.364347</td>\n",
       "    </tr>\n",
       "  </tbody>\n",
       "</table>\n",
       "</div>"
      ],
      "text/plain": [
       "                  f0             f1             f2        product\n",
       "count  100000.000000  100000.000000  100000.000000  100000.000000\n",
       "mean        0.500419       0.250143       2.502647      92.500000\n",
       "std         0.871832       0.504433       3.248248      44.288691\n",
       "min        -1.408605      -0.848218     -12.088328       0.000000\n",
       "25%        -0.072580      -0.200881       0.287748      56.497507\n",
       "50%         0.502360       0.250252       2.515969      91.849972\n",
       "75%         1.073581       0.700646       4.715088     128.564089\n",
       "max         2.362331       1.343769      16.003790     185.364347"
      ]
     },
     "execution_count": 7,
     "metadata": {},
     "output_type": "execute_result"
    }
   ],
   "source": [
    "geo_data_0.describe()"
   ]
  },
  {
   "cell_type": "markdown",
   "metadata": {},
   "source": [
    "По данной таблице можно сделать следующий вывод:\n",
    "\n",
    "- Объем запасов (product): Средний объем запасов составляет 92.5 тыс. баррелей, с максимальным значением 185.36 тыс. баррелей и минимальным значением 0. Это указывает на наличие как скважин с значительными запасами, так и скважин с отсутствием запасов.\n",
    "- f0:\n",
    "Среднее значение: 0.5004, что близко к нулю, указывает на сбалансированное распределение значений.\n",
    "Разброс: Стандартное отклонение 0.8718 говорит о том, что значения f0 варьируются достаточно широко.\n",
    "Квартильные значения: Медиана (0.5024) и 75-й процентиль (1.0736) показывают, что большая часть значений сосредоточена в положительной области.\n",
    "- f1: \n",
    "Среднее значение: 0.2501, что также близко к нулю, но ниже, чем у f0.\n",
    "Разброс: Стандартное отклонение 0.5044 указывает на меньший разброс по сравнению с f0.\n",
    "Квартильные значения: Медиана (0.2503) и 75-й процентиль (0.7006) показывают, что большинство значений находятся в пределах от -0.2009 до 0.7006.\n",
    "- f2:\n",
    "Среднее значение: 2.5026, что значительно выше, чем у f0 и f1.\n",
    "Разброс: Стандартное отклонение 3.2482 указывает на высокий уровень вариативности, что может быть связано с наличием выбросов (например, минимальное значение -12.0883).\n",
    "Квартильные значения: Медиана (2.5160) и 75-й процентиль (4.7151) показывают, что значения f2 в основном положительные, но с возможными значительными отклонениями.\n",
    "\n",
    "Таким образом, признаки f0 и f1 имеют сбалансированное распределение, в то время как f2 демонстрирует значительную вариативность.\n",
    "Объем запасов в скважинах варьируется от 0 до 185.36 тыс. баррелей, что указывает на наличие как богатых, так и бедных скважин.\n"
   ]
  },
  {
   "cell_type": "markdown",
   "metadata": {},
   "source": [
    "**Изучим данные датасета geo_data_1**"
   ]
  },
  {
   "cell_type": "code",
   "execution_count": 8,
   "metadata": {},
   "outputs": [
    {
     "data": {
      "text/html": [
       "<div>\n",
       "<style scoped>\n",
       "    .dataframe tbody tr th:only-of-type {\n",
       "        vertical-align: middle;\n",
       "    }\n",
       "\n",
       "    .dataframe tbody tr th {\n",
       "        vertical-align: top;\n",
       "    }\n",
       "\n",
       "    .dataframe thead th {\n",
       "        text-align: right;\n",
       "    }\n",
       "</style>\n",
       "<table border=\"1\" class=\"dataframe\">\n",
       "  <thead>\n",
       "    <tr style=\"text-align: right;\">\n",
       "      <th></th>\n",
       "      <th>id</th>\n",
       "      <th>f0</th>\n",
       "      <th>f1</th>\n",
       "      <th>f2</th>\n",
       "      <th>product</th>\n",
       "    </tr>\n",
       "  </thead>\n",
       "  <tbody>\n",
       "    <tr>\n",
       "      <th>0</th>\n",
       "      <td>kBEdx</td>\n",
       "      <td>-15.001348</td>\n",
       "      <td>-8.276000</td>\n",
       "      <td>-0.005876</td>\n",
       "      <td>3.179103</td>\n",
       "    </tr>\n",
       "    <tr>\n",
       "      <th>1</th>\n",
       "      <td>62mP7</td>\n",
       "      <td>14.272088</td>\n",
       "      <td>-3.475083</td>\n",
       "      <td>0.999183</td>\n",
       "      <td>26.953261</td>\n",
       "    </tr>\n",
       "    <tr>\n",
       "      <th>2</th>\n",
       "      <td>vyE1P</td>\n",
       "      <td>6.263187</td>\n",
       "      <td>-5.948386</td>\n",
       "      <td>5.001160</td>\n",
       "      <td>134.766305</td>\n",
       "    </tr>\n",
       "    <tr>\n",
       "      <th>3</th>\n",
       "      <td>KcrkZ</td>\n",
       "      <td>-13.081196</td>\n",
       "      <td>-11.506057</td>\n",
       "      <td>4.999415</td>\n",
       "      <td>137.945408</td>\n",
       "    </tr>\n",
       "    <tr>\n",
       "      <th>4</th>\n",
       "      <td>AHL4O</td>\n",
       "      <td>12.702195</td>\n",
       "      <td>-8.147433</td>\n",
       "      <td>5.004363</td>\n",
       "      <td>134.766305</td>\n",
       "    </tr>\n",
       "  </tbody>\n",
       "</table>\n",
       "</div>"
      ],
      "text/plain": [
       "      id         f0         f1        f2     product\n",
       "0  kBEdx -15.001348  -8.276000 -0.005876    3.179103\n",
       "1  62mP7  14.272088  -3.475083  0.999183   26.953261\n",
       "2  vyE1P   6.263187  -5.948386  5.001160  134.766305\n",
       "3  KcrkZ -13.081196 -11.506057  4.999415  137.945408\n",
       "4  AHL4O  12.702195  -8.147433  5.004363  134.766305"
      ]
     },
     "execution_count": 8,
     "metadata": {},
     "output_type": "execute_result"
    }
   ],
   "source": [
    "geo_data_1.head()"
   ]
  },
  {
   "cell_type": "markdown",
   "metadata": {},
   "source": [
    "Видим, что у всех колонок корректный вид, переименовывать не нужно"
   ]
  },
  {
   "cell_type": "code",
   "execution_count": 9,
   "metadata": {},
   "outputs": [
    {
     "name": "stdout",
     "output_type": "stream",
     "text": [
      "<class 'pandas.core.frame.DataFrame'>\n",
      "RangeIndex: 100000 entries, 0 to 99999\n",
      "Data columns (total 5 columns):\n",
      " #   Column   Non-Null Count   Dtype  \n",
      "---  ------   --------------   -----  \n",
      " 0   id       100000 non-null  object \n",
      " 1   f0       100000 non-null  float64\n",
      " 2   f1       100000 non-null  float64\n",
      " 3   f2       100000 non-null  float64\n",
      " 4   product  100000 non-null  float64\n",
      "dtypes: float64(4), object(1)\n",
      "memory usage: 3.8+ MB\n"
     ]
    }
   ],
   "source": [
    "geo_data_1.info()"
   ]
  },
  {
   "cell_type": "markdown",
   "metadata": {},
   "source": [
    "У всех колонок корректный тип данных, пропусков не наблюдается"
   ]
  },
  {
   "cell_type": "code",
   "execution_count": 10,
   "metadata": {},
   "outputs": [
    {
     "name": "stdout",
     "output_type": "stream",
     "text": [
      "0\n"
     ]
    },
    {
     "data": {
      "text/html": [
       "<div>\n",
       "<style scoped>\n",
       "    .dataframe tbody tr th:only-of-type {\n",
       "        vertical-align: middle;\n",
       "    }\n",
       "\n",
       "    .dataframe tbody tr th {\n",
       "        vertical-align: top;\n",
       "    }\n",
       "\n",
       "    .dataframe thead th {\n",
       "        text-align: right;\n",
       "    }\n",
       "</style>\n",
       "<table border=\"1\" class=\"dataframe\">\n",
       "  <thead>\n",
       "    <tr style=\"text-align: right;\">\n",
       "      <th></th>\n",
       "      <th>id</th>\n",
       "      <th>f0</th>\n",
       "      <th>f1</th>\n",
       "      <th>f2</th>\n",
       "      <th>product</th>\n",
       "    </tr>\n",
       "  </thead>\n",
       "  <tbody>\n",
       "  </tbody>\n",
       "</table>\n",
       "</div>"
      ],
      "text/plain": [
       "Empty DataFrame\n",
       "Columns: [id, f0, f1, f2, product]\n",
       "Index: []"
      ]
     },
     "execution_count": 10,
     "metadata": {},
     "output_type": "execute_result"
    }
   ],
   "source": [
    "print(geo_data_1.duplicated().sum())\n",
    "geo_data_1[geo_data_1.duplicated()]"
   ]
  },
  {
   "cell_type": "code",
   "execution_count": 11,
   "metadata": {},
   "outputs": [
    {
     "data": {
      "text/plain": [
       "0"
      ]
     },
     "execution_count": 11,
     "metadata": {},
     "output_type": "execute_result"
    }
   ],
   "source": [
    "geo_data_1.duplicated(subset=['f0', 'f1', 'f2', 'product']).sum()"
   ]
  },
  {
   "cell_type": "markdown",
   "metadata": {},
   "source": [
    "Дубликатов не наблюдается"
   ]
  },
  {
   "cell_type": "code",
   "execution_count": 12,
   "metadata": {},
   "outputs": [
    {
     "data": {
      "text/html": [
       "<div>\n",
       "<style scoped>\n",
       "    .dataframe tbody tr th:only-of-type {\n",
       "        vertical-align: middle;\n",
       "    }\n",
       "\n",
       "    .dataframe tbody tr th {\n",
       "        vertical-align: top;\n",
       "    }\n",
       "\n",
       "    .dataframe thead th {\n",
       "        text-align: right;\n",
       "    }\n",
       "</style>\n",
       "<table border=\"1\" class=\"dataframe\">\n",
       "  <thead>\n",
       "    <tr style=\"text-align: right;\">\n",
       "      <th></th>\n",
       "      <th>f0</th>\n",
       "      <th>f1</th>\n",
       "      <th>f2</th>\n",
       "      <th>product</th>\n",
       "    </tr>\n",
       "  </thead>\n",
       "  <tbody>\n",
       "    <tr>\n",
       "      <th>count</th>\n",
       "      <td>100000.000000</td>\n",
       "      <td>100000.000000</td>\n",
       "      <td>100000.000000</td>\n",
       "      <td>100000.000000</td>\n",
       "    </tr>\n",
       "    <tr>\n",
       "      <th>mean</th>\n",
       "      <td>1.141296</td>\n",
       "      <td>-4.796579</td>\n",
       "      <td>2.494541</td>\n",
       "      <td>68.825000</td>\n",
       "    </tr>\n",
       "    <tr>\n",
       "      <th>std</th>\n",
       "      <td>8.965932</td>\n",
       "      <td>5.119872</td>\n",
       "      <td>1.703572</td>\n",
       "      <td>45.944423</td>\n",
       "    </tr>\n",
       "    <tr>\n",
       "      <th>min</th>\n",
       "      <td>-31.609576</td>\n",
       "      <td>-26.358598</td>\n",
       "      <td>-0.018144</td>\n",
       "      <td>0.000000</td>\n",
       "    </tr>\n",
       "    <tr>\n",
       "      <th>25%</th>\n",
       "      <td>-6.298551</td>\n",
       "      <td>-8.267985</td>\n",
       "      <td>1.000021</td>\n",
       "      <td>26.953261</td>\n",
       "    </tr>\n",
       "    <tr>\n",
       "      <th>50%</th>\n",
       "      <td>1.153055</td>\n",
       "      <td>-4.813172</td>\n",
       "      <td>2.011479</td>\n",
       "      <td>57.085625</td>\n",
       "    </tr>\n",
       "    <tr>\n",
       "      <th>75%</th>\n",
       "      <td>8.621015</td>\n",
       "      <td>-1.332816</td>\n",
       "      <td>3.999904</td>\n",
       "      <td>107.813044</td>\n",
       "    </tr>\n",
       "    <tr>\n",
       "      <th>max</th>\n",
       "      <td>29.421755</td>\n",
       "      <td>18.734063</td>\n",
       "      <td>5.019721</td>\n",
       "      <td>137.945408</td>\n",
       "    </tr>\n",
       "  </tbody>\n",
       "</table>\n",
       "</div>"
      ],
      "text/plain": [
       "                  f0             f1             f2        product\n",
       "count  100000.000000  100000.000000  100000.000000  100000.000000\n",
       "mean        1.141296      -4.796579       2.494541      68.825000\n",
       "std         8.965932       5.119872       1.703572      45.944423\n",
       "min       -31.609576     -26.358598      -0.018144       0.000000\n",
       "25%        -6.298551      -8.267985       1.000021      26.953261\n",
       "50%         1.153055      -4.813172       2.011479      57.085625\n",
       "75%         8.621015      -1.332816       3.999904     107.813044\n",
       "max        29.421755      18.734063       5.019721     137.945408"
      ]
     },
     "execution_count": 12,
     "metadata": {},
     "output_type": "execute_result"
    }
   ],
   "source": [
    "geo_data_1.describe()"
   ]
  },
  {
   "cell_type": "markdown",
   "metadata": {},
   "source": [
    "По данной таблице, наблюдаем:\n",
    "\n",
    "- Объем запасов (product): Средний объем запасов составляет 68.83 тыс. баррелей, с максимальным значением 137.95 тыс. баррелей и минимальным значением 0. Это указывает на наличие как скважин с значительными запасами, так и скважин с отсутствием запасов.\n",
    "\n",
    "- f0:\n",
    "Среднее значение: 1.1413, что указывает на положительное смещение значений.\n",
    "Разброс: Стандартное отклонение 8.9659 говорит о большом разбросе значений, что может указывать на наличие выбросов.\n",
    "Квартильные значения:\n",
    "25%: -6.2986\n",
    "50% (медиана): 1.1531\n",
    "75%: 8.6210 Это говорит о том, что значения f0 варьируются от сильно отрицательных до положительных, с преобладанием положительных значений в верхней части распределения.\n",
    "- f1:\n",
    "Среднее значение: -4.7966, что указывает на преобладание отрицательных значений.\n",
    "Разброс: Стандартное отклонение 5.1199 также указывает на значительный разброс.\n",
    "Квартильные значения:\n",
    "25%: -8.2680\n",
    "50% (медиана): -4.8132\n",
    "75%: -1.3328 Это говорит о том, что большинство значений f1 находятся в отрицательной области, с небольшим количеством положительных значений.\n",
    "- f2:\n",
    "Среднее значение: 2.4945, что указывает на положительное смещение значений.\n",
    "Разброс: Стандартное отклонение 1.7036 говорит о меньшем разбросе по сравнению с f0.\n",
    "Квартильные значения:\n",
    "25%: 1.0000\n",
    "50% (медиана): 2.0115\n",
    "75%: 4.0000 Это говорит о том, что значения f2 в основном положительные и сосредоточены в диапазоне от 1 до 4.\n",
    "\n",
    "\n",
    "Так, f0 имеет положительное среднее значение, но также значительный разброс, что может указывать на наличие выбросов.\n",
    "Признак f1 имеет отрицательное среднее значение и сосредоточен в отрицательной области, что может указывать на его ограниченное влияние на объем запасов.\n",
    "Признак f2 имеет положительное среднее значение и меньший разброс, что может указывать на его более стабильное влияние на объем запасов.\n",
    "Объем запасов в скважинах варьируется от 0 до 137.95 тыс. баррелей, что указывает на наличие как богатых, так и бедных скважин."
   ]
  },
  {
   "cell_type": "markdown",
   "metadata": {},
   "source": [
    "**Изучим данные датасета geo_data_2**"
   ]
  },
  {
   "cell_type": "code",
   "execution_count": 13,
   "metadata": {},
   "outputs": [
    {
     "data": {
      "text/html": [
       "<div>\n",
       "<style scoped>\n",
       "    .dataframe tbody tr th:only-of-type {\n",
       "        vertical-align: middle;\n",
       "    }\n",
       "\n",
       "    .dataframe tbody tr th {\n",
       "        vertical-align: top;\n",
       "    }\n",
       "\n",
       "    .dataframe thead th {\n",
       "        text-align: right;\n",
       "    }\n",
       "</style>\n",
       "<table border=\"1\" class=\"dataframe\">\n",
       "  <thead>\n",
       "    <tr style=\"text-align: right;\">\n",
       "      <th></th>\n",
       "      <th>id</th>\n",
       "      <th>f0</th>\n",
       "      <th>f1</th>\n",
       "      <th>f2</th>\n",
       "      <th>product</th>\n",
       "    </tr>\n",
       "  </thead>\n",
       "  <tbody>\n",
       "    <tr>\n",
       "      <th>0</th>\n",
       "      <td>fwXo0</td>\n",
       "      <td>-1.146987</td>\n",
       "      <td>0.963328</td>\n",
       "      <td>-0.828965</td>\n",
       "      <td>27.758673</td>\n",
       "    </tr>\n",
       "    <tr>\n",
       "      <th>1</th>\n",
       "      <td>WJtFt</td>\n",
       "      <td>0.262778</td>\n",
       "      <td>0.269839</td>\n",
       "      <td>-2.530187</td>\n",
       "      <td>56.069697</td>\n",
       "    </tr>\n",
       "    <tr>\n",
       "      <th>2</th>\n",
       "      <td>ovLUW</td>\n",
       "      <td>0.194587</td>\n",
       "      <td>0.289035</td>\n",
       "      <td>-5.586433</td>\n",
       "      <td>62.871910</td>\n",
       "    </tr>\n",
       "    <tr>\n",
       "      <th>3</th>\n",
       "      <td>q6cA6</td>\n",
       "      <td>2.236060</td>\n",
       "      <td>-0.553760</td>\n",
       "      <td>0.930038</td>\n",
       "      <td>114.572842</td>\n",
       "    </tr>\n",
       "    <tr>\n",
       "      <th>4</th>\n",
       "      <td>WPMUX</td>\n",
       "      <td>-0.515993</td>\n",
       "      <td>1.716266</td>\n",
       "      <td>5.899011</td>\n",
       "      <td>149.600746</td>\n",
       "    </tr>\n",
       "  </tbody>\n",
       "</table>\n",
       "</div>"
      ],
      "text/plain": [
       "      id        f0        f1        f2     product\n",
       "0  fwXo0 -1.146987  0.963328 -0.828965   27.758673\n",
       "1  WJtFt  0.262778  0.269839 -2.530187   56.069697\n",
       "2  ovLUW  0.194587  0.289035 -5.586433   62.871910\n",
       "3  q6cA6  2.236060 -0.553760  0.930038  114.572842\n",
       "4  WPMUX -0.515993  1.716266  5.899011  149.600746"
      ]
     },
     "execution_count": 13,
     "metadata": {},
     "output_type": "execute_result"
    }
   ],
   "source": [
    "geo_data_2.head()"
   ]
  },
  {
   "cell_type": "markdown",
   "metadata": {},
   "source": [
    "Названия колонок корректные, переименовывать не нужно"
   ]
  },
  {
   "cell_type": "code",
   "execution_count": 14,
   "metadata": {},
   "outputs": [
    {
     "name": "stdout",
     "output_type": "stream",
     "text": [
      "<class 'pandas.core.frame.DataFrame'>\n",
      "RangeIndex: 100000 entries, 0 to 99999\n",
      "Data columns (total 5 columns):\n",
      " #   Column   Non-Null Count   Dtype  \n",
      "---  ------   --------------   -----  \n",
      " 0   id       100000 non-null  object \n",
      " 1   f0       100000 non-null  float64\n",
      " 2   f1       100000 non-null  float64\n",
      " 3   f2       100000 non-null  float64\n",
      " 4   product  100000 non-null  float64\n",
      "dtypes: float64(4), object(1)\n",
      "memory usage: 3.8+ MB\n"
     ]
    }
   ],
   "source": [
    "geo_data_2.info()"
   ]
  },
  {
   "cell_type": "markdown",
   "metadata": {},
   "source": [
    "У всех признаков корректный тип данных, пропусков нет"
   ]
  },
  {
   "cell_type": "code",
   "execution_count": 15,
   "metadata": {},
   "outputs": [
    {
     "name": "stdout",
     "output_type": "stream",
     "text": [
      "0\n"
     ]
    },
    {
     "data": {
      "text/html": [
       "<div>\n",
       "<style scoped>\n",
       "    .dataframe tbody tr th:only-of-type {\n",
       "        vertical-align: middle;\n",
       "    }\n",
       "\n",
       "    .dataframe tbody tr th {\n",
       "        vertical-align: top;\n",
       "    }\n",
       "\n",
       "    .dataframe thead th {\n",
       "        text-align: right;\n",
       "    }\n",
       "</style>\n",
       "<table border=\"1\" class=\"dataframe\">\n",
       "  <thead>\n",
       "    <tr style=\"text-align: right;\">\n",
       "      <th></th>\n",
       "      <th>id</th>\n",
       "      <th>f0</th>\n",
       "      <th>f1</th>\n",
       "      <th>f2</th>\n",
       "      <th>product</th>\n",
       "    </tr>\n",
       "  </thead>\n",
       "  <tbody>\n",
       "  </tbody>\n",
       "</table>\n",
       "</div>"
      ],
      "text/plain": [
       "Empty DataFrame\n",
       "Columns: [id, f0, f1, f2, product]\n",
       "Index: []"
      ]
     },
     "execution_count": 15,
     "metadata": {},
     "output_type": "execute_result"
    }
   ],
   "source": [
    "print(geo_data_2.duplicated().sum())\n",
    "geo_data_2[geo_data_2.duplicated()]"
   ]
  },
  {
   "cell_type": "code",
   "execution_count": 16,
   "metadata": {},
   "outputs": [
    {
     "data": {
      "text/plain": [
       "0"
      ]
     },
     "execution_count": 16,
     "metadata": {},
     "output_type": "execute_result"
    }
   ],
   "source": [
    "geo_data_2.duplicated(subset=['f0', 'f1', 'f2', 'product']).sum()"
   ]
  },
  {
   "cell_type": "markdown",
   "metadata": {},
   "source": [
    "Дубликатов не наблюдается"
   ]
  },
  {
   "cell_type": "markdown",
   "metadata": {},
   "source": [
    "<div class=\"alert alert-info\">\n",
    "<font size=\"4\">🍕<b> Комментарий ревьюера</b></font>\n",
    "    <br /> \n",
    "    <font size=\"3\", color = \"black\">\n",
    "<br />\n",
    "Несмотря на то, что нет явных дубликатов, в данных текущего проекта есть неявные - скважины с одинаковым id. Такое тоже желательно обнаруживать."
   ]
  },
  {
   "cell_type": "code",
   "execution_count": 17,
   "metadata": {},
   "outputs": [
    {
     "data": {
      "text/html": [
       "<div>\n",
       "<style scoped>\n",
       "    .dataframe tbody tr th:only-of-type {\n",
       "        vertical-align: middle;\n",
       "    }\n",
       "\n",
       "    .dataframe tbody tr th {\n",
       "        vertical-align: top;\n",
       "    }\n",
       "\n",
       "    .dataframe thead th {\n",
       "        text-align: right;\n",
       "    }\n",
       "</style>\n",
       "<table border=\"1\" class=\"dataframe\">\n",
       "  <thead>\n",
       "    <tr style=\"text-align: right;\">\n",
       "      <th></th>\n",
       "      <th>f0</th>\n",
       "      <th>f1</th>\n",
       "      <th>f2</th>\n",
       "      <th>product</th>\n",
       "    </tr>\n",
       "  </thead>\n",
       "  <tbody>\n",
       "    <tr>\n",
       "      <th>count</th>\n",
       "      <td>100000.000000</td>\n",
       "      <td>100000.000000</td>\n",
       "      <td>100000.000000</td>\n",
       "      <td>100000.000000</td>\n",
       "    </tr>\n",
       "    <tr>\n",
       "      <th>mean</th>\n",
       "      <td>0.002023</td>\n",
       "      <td>-0.002081</td>\n",
       "      <td>2.495128</td>\n",
       "      <td>95.000000</td>\n",
       "    </tr>\n",
       "    <tr>\n",
       "      <th>std</th>\n",
       "      <td>1.732045</td>\n",
       "      <td>1.730417</td>\n",
       "      <td>3.473445</td>\n",
       "      <td>44.749921</td>\n",
       "    </tr>\n",
       "    <tr>\n",
       "      <th>min</th>\n",
       "      <td>-8.760004</td>\n",
       "      <td>-7.084020</td>\n",
       "      <td>-11.970335</td>\n",
       "      <td>0.000000</td>\n",
       "    </tr>\n",
       "    <tr>\n",
       "      <th>25%</th>\n",
       "      <td>-1.162288</td>\n",
       "      <td>-1.174820</td>\n",
       "      <td>0.130359</td>\n",
       "      <td>59.450441</td>\n",
       "    </tr>\n",
       "    <tr>\n",
       "      <th>50%</th>\n",
       "      <td>0.009424</td>\n",
       "      <td>-0.009482</td>\n",
       "      <td>2.484236</td>\n",
       "      <td>94.925613</td>\n",
       "    </tr>\n",
       "    <tr>\n",
       "      <th>75%</th>\n",
       "      <td>1.158535</td>\n",
       "      <td>1.163678</td>\n",
       "      <td>4.858794</td>\n",
       "      <td>130.595027</td>\n",
       "    </tr>\n",
       "    <tr>\n",
       "      <th>max</th>\n",
       "      <td>7.238262</td>\n",
       "      <td>7.844801</td>\n",
       "      <td>16.739402</td>\n",
       "      <td>190.029838</td>\n",
       "    </tr>\n",
       "  </tbody>\n",
       "</table>\n",
       "</div>"
      ],
      "text/plain": [
       "                  f0             f1             f2        product\n",
       "count  100000.000000  100000.000000  100000.000000  100000.000000\n",
       "mean        0.002023      -0.002081       2.495128      95.000000\n",
       "std         1.732045       1.730417       3.473445      44.749921\n",
       "min        -8.760004      -7.084020     -11.970335       0.000000\n",
       "25%        -1.162288      -1.174820       0.130359      59.450441\n",
       "50%         0.009424      -0.009482       2.484236      94.925613\n",
       "75%         1.158535       1.163678       4.858794     130.595027\n",
       "max         7.238262       7.844801      16.739402     190.029838"
      ]
     },
     "execution_count": 17,
     "metadata": {},
     "output_type": "execute_result"
    }
   ],
   "source": [
    "geo_data_2.describe()"
   ]
  },
  {
   "cell_type": "markdown",
   "metadata": {},
   "source": [
    "По данному графику можно сделать вывод:\n",
    "\n",
    "- Объем запасов (product): Средний объем запасов составляет 95.0 тыс. баррелей, с максимальным значением 190.03 тыс. баррелей и минимальным значением 0. Это указывает на наличие как скважин с значительными запасами, так и скважин с отсутствием запасов.\n",
    "\n",
    "- f0:\n",
    "Среднее значение: 0.0020, что близко к нулю, указывая на сбалансированное распределение значений вокруг нуля.\n",
    "Разброс: Стандартное отклонение 1.7320 говорит о значительном разбросе значений, что может указывать на наличие выбросов.\n",
    "Квартильные значения:\n",
    "25%: -1.1623\n",
    "50% (медиана): 0.0094\n",
    "75%: 1.1585 Это говорит о том, что значения f0 варьируются от отрицательных до положительных, с преобладанием значений, близких к нулю.\n",
    "\n",
    "- f1:\n",
    "Среднее значение: -0.0021, что также близко к нулю, но с преобладанием отрицательных значений.\n",
    "Разброс: Стандартное отклонение 1.7304 указывает на значительный разброс.\n",
    "Квартильные значения:\n",
    "25%: -1.1748\n",
    "50% (медиана): -0.0095\n",
    "75%: 1.1637 Это говорит о том, что большинство значений f1 находятся в диапазоне от отрицательных до положительных, с некоторыми значениями, значительно превышающими ноль.\n",
    "- f2:\n",
    "Среднее значение: 2.4951, что указывает на положительное смещение значений.\n",
    "Разброс: Стандартное отклонение 3.4734 говорит о высоком уровне вариативности, что может быть связано с наличием выбросов (например, минимальное значение -11.9703).\n",
    "Квартильные значения:\n",
    "25%: 0.1304\n",
    "50% (медиана): 2.4842\n",
    "75%: 4.8588 Это говорит о том, что значения f2 в основном положительные, но с возможными значительными отклонениями.\n",
    "\n",
    "\n",
    "Признаки f0 и f1 имеют средние значения, близкие к нулю, что указывает на сбалансированное распределение, но с высоким уровнем разброса.\n",
    "Признак f2 имеет положительное среднее значение и значительный разброс, что может указывать на его влияние на объем запасов.\n",
    "Объем запасов в скважинах варьируется от 0 до 190.03 тыс. баррелей, что указывает на наличие как богатых, так и бедных скважин."
   ]
  },
  {
   "cell_type": "markdown",
   "metadata": {},
   "source": [
    "**Проведем анализ данных в датасете geo_data_0**"
   ]
  },
  {
   "cell_type": "code",
   "execution_count": 18,
   "metadata": {},
   "outputs": [
    {
     "data": {
      "image/png": "[encoded data removed]",
      "text/plain": [
       "<Figure size 720x360 with 1 Axes>"
      ]
     },
     "metadata": {
      "needs_background": "light"
     },
     "output_type": "display_data"
    }
   ],
   "source": [
    "plt.figure(figsize=(10, 5))\n",
    "sns.histplot(geo_data_0['f0'], bins=100, kde=True, color='skyblue')\n",
    "plt.title(f'признак точки f0')\n",
    "plt.xlabel('признак точки f0')\n",
    "plt.ylabel('частота')\n",
    "plt.show()"
   ]
  },
  {
   "cell_type": "markdown",
   "metadata": {},
   "source": [
    "<div class=\"alert alert-success\">\n",
    "<font size=\"4\"><b>✔️ Комментарий ревьюера</b></font>\n",
    "    <br /> \n",
    "    <font size=\"3\", color = \"black\">\n",
    "<br />\n",
    "Я ревьюер простой: вижу графики признаков - пишу зелёный комментарий"
   ]
  },
  {
   "cell_type": "markdown",
   "metadata": {},
   "source": [
    "По данному графику можно сказать, что распределение модальное, есть несколько пиков.\n",
    "Это указывает на наличие подгрупп в данных по признаку f0.\n",
    "Распределение асимметрично, больше плотности сосредоточено в интервале от 0 до 1.2."
   ]
  },
  {
   "cell_type": "code",
   "execution_count": 19,
   "metadata": {},
   "outputs": [
    {
     "data": {
      "image/png": "[encoded data removed]",
      "text/plain": [
       "<Figure size 720x360 with 1 Axes>"
      ]
     },
     "metadata": {
      "needs_background": "light"
     },
     "output_type": "display_data"
    }
   ],
   "source": [
    "plt.figure(figsize=(10, 5))\n",
    "sns.histplot(geo_data_0['f1'], bins=100, kde=True, color='skyblue')\n",
    "plt.title(f'признак точки f1')\n",
    "plt.xlabel('признак точки f1')\n",
    "plt.ylabel('частота')\n",
    "plt.show()"
   ]
  },
  {
   "cell_type": "markdown",
   "metadata": {},
   "source": [
    "Видно, что распределение модальное (многогорбое) — есть несколько пиков, особенно вблизи -0.5, 0.0, и 0.8.\n",
    "Это указывает на наличие кластеров или подгрупп в данных по признаку f1.\n",
    "Распределение асимметрично, больше плотности сосредоточено в интервале от -0.8 до 1.2."
   ]
  },
  {
   "cell_type": "code",
   "execution_count": 20,
   "metadata": {},
   "outputs": [
    {
     "data": {
      "image/png": "[encoded data removed]",
      "text/plain": [
       "<Figure size 720x360 with 1 Axes>"
      ]
     },
     "metadata": {
      "needs_background": "light"
     },
     "output_type": "display_data"
    }
   ],
   "source": [
    "plt.figure(figsize=(10, 5))\n",
    "sns.histplot(geo_data_0['f2'], bins=100, kde=True, color='skyblue')\n",
    "plt.title(f'признак точки f2')\n",
    "plt.xlabel('признак точки f2')\n",
    "plt.ylabel('частота')\n",
    "plt.show()"
   ]
  },
  {
   "cell_type": "markdown",
   "metadata": {},
   "source": [
    "Распределение близко к нормальному, но с длинным \"хвостом\" вправо.\n",
    "Есть лёгкая асимметрия: данные смещены в сторону положительных значений.\n",
    "Признак варьируется от примерно -10 до 16.\n"
   ]
  },
  {
   "cell_type": "code",
   "execution_count": 21,
   "metadata": {},
   "outputs": [
    {
     "data": {
      "image/png": "[encoded data removed]",
      "text/plain": [
       "<Figure size 720x360 with 1 Axes>"
      ]
     },
     "metadata": {
      "needs_background": "light"
     },
     "output_type": "display_data"
    }
   ],
   "source": [
    "plt.figure(figsize=(10, 5))\n",
    "sns.histplot(geo_data_0['product'], bins=80, kde=True, color='skyblue')\n",
    "plt.title(f'Объем запасов в скважине')\n",
    "plt.xlabel('тыс. баррелей')\n",
    "plt.ylabel('частота')\n",
    "plt.show()"
   ]
  },
  {
   "cell_type": "markdown",
   "metadata": {},
   "source": [
    "Распределение с несколькими пиками, что может говорить о сегментированности скважин по объёму запасов.\n",
    "Явно видны пики в районе 25, 50, 75, 100, 125 и 150 тыс. баррелей — возможно, эти значения связаны с ограничениями или округлениями при оценке.\n",
    "Распределение не является нормальным и имеет ступенчатую структуру.\n"
   ]
  },
  {
   "cell_type": "code",
   "execution_count": 22,
   "metadata": {},
   "outputs": [
    {
     "data": {
      "image/png": "[encoded data removed]",
      "text/plain": [
       "<Figure size 720x360 with 1 Axes>"
      ]
     },
     "metadata": {
      "needs_background": "light"
     },
     "output_type": "display_data"
    },
    {
     "data": {
      "image/png": "[encoded data removed]",
      "text/plain": [
       "<Figure size 720x360 with 1 Axes>"
      ]
     },
     "metadata": {
      "needs_background": "light"
     },
     "output_type": "display_data"
    },
    {
     "data": {
      "image/png": "[encoded data removed]",
      "text/plain": [
       "<Figure size 720x360 with 1 Axes>"
      ]
     },
     "metadata": {
      "needs_background": "light"
     },
     "output_type": "display_data"
    },
    {
     "data": {
      "image/png": "[encoded data removed]",
      "text/plain": [
       "<Figure size 720x360 with 1 Axes>"
      ]
     },
     "metadata": {
      "needs_background": "light"
     },
     "output_type": "display_data"
    }
   ],
   "source": [
    "numerical_features = ['f0', 'f1',\n",
    "                     'f2', 'product']\n",
    "for feature in numerical_features:\n",
    "    plt.figure(figsize=(10, 5))\n",
    "    sns.boxplot(x=geo_data_0[feature], color='lightblue')\n",
    "    plt.title(f'Ящик с усами для {feature}')\n",
    "    plt.xlabel(feature)\n",
    "    plt.show()"
   ]
  },
  {
   "cell_type": "markdown",
   "metadata": {},
   "source": [
    "- В столбце f0 медиана - 0.5, среднее значение - 0.5. Усы имеют примерно одинаковую длину, достаточно длинные с обеих сторон, что указывает на вариативность данных. По данному графику можно сказать, что распределение нормальное\n",
    "- В столбце f1 медиана - 0.25, среденее значение - 0.25. Усы имеют примерно одинаковую длину, они уже короче, чем у предыдущего признака. По графику видно, что данные размещены симметрично\n",
    "- В столбце f2 медиана - 2.5, среденее значение - 2.5. Усы примерно одинаковой длины, намного короче, чем у предыдущих признаков. Наблюдаются выбросы за пределами первого и третьего квартиля\n",
    "- В столбце product медиана - 91.8, среденее значение - 92.5. Левый ус длиннее, чем правый, что указывает на незначительную ассиметрию и высокую вариативность данных."
   ]
  },
  {
   "cell_type": "markdown",
   "metadata": {},
   "source": [
    "Изучим столбец с выбросами подробнее"
   ]
  },
  {
   "cell_type": "code",
   "execution_count": 23,
   "metadata": {},
   "outputs": [
    {
     "name": "stdout",
     "output_type": "stream",
     "text": [
      "(506, 5)\n"
     ]
    }
   ],
   "source": [
    "# Вычисляем Q1 и Q3\n",
    "Q1 = geo_data_0['f2'].quantile(0.25)\n",
    "Q3 = geo_data_0['f2'].quantile(0.75)\n",
    "IQR = Q3 - Q1\n",
    "\n",
    "# Определяем границы для выбросов\n",
    "lower_bound = Q1 - 1.5 * IQR\n",
    "upper_bound = Q3 + 1.5 * IQR\n",
    "\n",
    "# Идентификация выбросов\n",
    "outliers = geo_data_0[(geo_data_0['f2'] < lower_bound) | (geo_data_0['f2'] > upper_bound)]\n",
    "\n",
    "# Выводим выбросы\n",
    "print(outliers.shape)"
   ]
  },
  {
   "cell_type": "markdown",
   "metadata": {},
   "source": [
    "Так как в столбце f2 достаточно много выбросов, удалять их не стоит, ведь они могут содержать важную информацию, поэтому оставим эти значения без изменений"
   ]
  },
  {
   "cell_type": "markdown",
   "metadata": {},
   "source": [
    "Так в наших данных признаки числовые, а не смешанные лучше использовать матрицу корреляции Пирсона"
   ]
  },
  {
   "cell_type": "code",
   "execution_count": 24,
   "metadata": {},
   "outputs": [
    {
     "data": {
      "image/png": "[encoded data removed]",
      "text/plain": [
       "<Figure size 576x432 with 2 Axes>"
      ]
     },
     "metadata": {
      "needs_background": "light"
     },
     "output_type": "display_data"
    }
   ],
   "source": [
    "plt.figure(figsize=(8, 6))\n",
    "sns.heatmap(geo_data_0[['f0', 'f1', 'f2', 'product']].corr(), annot=True, fmt='.2f', cmap='coolwarm', square=True)\n",
    "plt.title(f'Матрица корреляции - Регион 1')\n",
    "plt.show()"
   ]
  },
  {
   "cell_type": "markdown",
   "metadata": {},
   "source": [
    "По данной матрице можем сказать, что мультиколинеарности не наблюдается (будем считать признаки мультиколлинеарными если значение > 0.9). Наблюдается умеренная положительная корреляция у признаков f2-product и умеренная отрицательная у признаков f1-f0"
   ]
  },
  {
   "cell_type": "markdown",
   "metadata": {},
   "source": [
    "**Проведем анализ данных в датасете geo_data_1**"
   ]
  },
  {
   "cell_type": "code",
   "execution_count": 25,
   "metadata": {},
   "outputs": [
    {
     "data": {
      "image/png": "[encoded data removed]",
      "text/plain": [
       "<Figure size 720x360 with 1 Axes>"
      ]
     },
     "metadata": {
      "needs_background": "light"
     },
     "output_type": "display_data"
    }
   ],
   "source": [
    "plt.figure(figsize=(10, 5))\n",
    "sns.histplot(geo_data_1['f0'], bins=100, kde=True, color='lightgreen')\n",
    "plt.title(f'признак точки f0')\n",
    "plt.xlabel('признак точки f0')\n",
    "plt.ylabel('частота')\n",
    "plt.show()"
   ]
  },
  {
   "cell_type": "markdown",
   "metadata": {},
   "source": [
    "По данному графику можно сказать, что значения признака f0 в диапазоне примерно от -30 до 30.\n",
    "Распределение бимодальная, с двумя выраженными пиками около -10 и 10.\n"
   ]
  },
  {
   "cell_type": "code",
   "execution_count": 26,
   "metadata": {},
   "outputs": [
    {
     "data": {
      "text/plain": [
       "100000"
      ]
     },
     "execution_count": 26,
     "metadata": {},
     "output_type": "execute_result"
    }
   ],
   "source": [
    "geo_data_1['f2'].nunique()\n"
   ]
  },
  {
   "cell_type": "code",
   "execution_count": 27,
   "metadata": {},
   "outputs": [
    {
     "data": {
      "image/png": "[encoded data removed]",
      "text/plain": [
       "<Figure size 720x360 with 1 Axes>"
      ]
     },
     "metadata": {
      "needs_background": "light"
     },
     "output_type": "display_data"
    }
   ],
   "source": [
    "plt.figure(figsize=(10, 5))\n",
    "sns.histplot(geo_data_1['f1'], bins=100, kde=True, color='lightgreen')\n",
    "plt.title(f'признак точки f1')\n",
    "plt.xlabel('признак точки f1')\n",
    "plt.ylabel('частота')\n",
    "plt.show()"
   ]
  },
  {
   "cell_type": "markdown",
   "metadata": {},
   "source": [
    "Распределение близко к нормальному, но с длинным \"хвостом\" влево. Есть лёгкая асимметрия: данные смещены в сторону отрицательных значений. Признак варьируется от примерно -20 до 10."
   ]
  },
  {
   "cell_type": "code",
   "execution_count": 28,
   "metadata": {},
   "outputs": [
    {
     "data": {
      "image/png": "[encoded data removed]",
      "text/plain": [
       "<Figure size 720x360 with 1 Axes>"
      ]
     },
     "metadata": {
      "needs_background": "light"
     },
     "output_type": "display_data"
    }
   ],
   "source": [
    "plt.figure(figsize=(10, 5))\n",
    "sns.histplot(geo_data_1['f2'], bins=30, kde=True, color='lightgreen')\n",
    "plt.title(f'признак точки f2')\n",
    "plt.xlabel('признак точки f2')\n",
    "plt.ylabel('частота')\n",
    "plt.show()"
   ]
  },
  {
   "cell_type": "markdown",
   "metadata": {},
   "source": [
    "По данному графику можно сказать, что признак f2 имеет дискретное распределение, значения сосредоточены вокруг фиксированных точек (0, 1, 2, 3, 4, 5). Между этими пиками значения почти не встречаются. Это говорит о том, что признак имеет ограниченное количество категорий или уровней."
   ]
  },
  {
   "cell_type": "code",
   "execution_count": 29,
   "metadata": {},
   "outputs": [
    {
     "data": {
      "text/plain": [
       "100000"
      ]
     },
     "execution_count": 29,
     "metadata": {},
     "output_type": "execute_result"
    }
   ],
   "source": [
    "geo_data_1['f2'].nunique()"
   ]
  },
  {
   "cell_type": "markdown",
   "metadata": {},
   "source": [
    "Так как данный признак является дискретным, но уникальных значений много лучше сгуппировать округленные значения"
   ]
  },
  {
   "cell_type": "code",
   "execution_count": 30,
   "metadata": {},
   "outputs": [],
   "source": [
    "geo_data_1['f2_grouped'] = geo_data_1['f2'].round(1)"
   ]
  },
  {
   "cell_type": "code",
   "execution_count": 31,
   "metadata": {},
   "outputs": [
    {
     "data": {
      "image/png": "[encoded data removed]",
      "text/plain": [
       "<Figure size 720x360 with 1 Axes>"
      ]
     },
     "metadata": {
      "needs_background": "light"
     },
     "output_type": "display_data"
    }
   ],
   "source": [
    "plt.figure(figsize=(10, 5))\n",
    "sns.countplot(data=geo_data_1, x='f2_grouped', color='lightgreen')\n",
    "plt.title(f'признак точки f2')\n",
    "plt.xlabel('признак точки f2')\n",
    "plt.ylabel('частота')\n",
    "plt.show()"
   ]
  },
  {
   "cell_type": "markdown",
   "metadata": {},
   "source": [
    "По данному графику можно сказать, что значения признака f2 принимают ограниченное количество уникальных значений —  6 значений: 0, 1, 2, 3, 4, 5.\n",
    "Между этими пиками нет промежуточных значений — график показывает чёткие пики без плавного перехода.\n",
    "Частоты у разных значений примерно одинаковые, что говорит о приближённо равномерном распределении по категориям.\n",
    "Нет явных выбросов или перекосов в сторону одного значения."
   ]
  },
  {
   "cell_type": "code",
   "execution_count": 32,
   "metadata": {},
   "outputs": [
    {
     "data": {
      "image/png": "[encoded data removed]",
      "text/plain": [
       "<Figure size 720x360 with 1 Axes>"
      ]
     },
     "metadata": {
      "needs_background": "light"
     },
     "output_type": "display_data"
    }
   ],
   "source": [
    "plt.figure(figsize=(10, 5))\n",
    "sns.histplot(geo_data_1['product'], bins=30, kde=True, color='lightgreen')\n",
    "plt.title(f'Объем запасов в скважине')\n",
    "plt.xlabel('тыс. баррелей')\n",
    "plt.ylabel('частота')\n",
    "plt.show()"
   ]
  },
  {
   "cell_type": "markdown",
   "metadata": {},
   "source": [
    "По данному графику можно сказать, что распределение также носит дискретный характер.\n",
    "Есть пиковые значения на определённых уровнях объема (0, 40, 80, 120, 140 тыс. баррелей)."
   ]
  },
  {
   "cell_type": "code",
   "execution_count": 33,
   "metadata": {},
   "outputs": [
    {
     "data": {
      "text/plain": [
       "12"
      ]
     },
     "execution_count": 33,
     "metadata": {},
     "output_type": "execute_result"
    }
   ],
   "source": [
    "geo_data_1['product'].nunique()"
   ]
  },
  {
   "cell_type": "code",
   "execution_count": 34,
   "metadata": {},
   "outputs": [
    {
     "data": {
      "image/png": "[encoded data removed]",
      "text/plain": [
       "<Figure size 1800x360 with 1 Axes>"
      ]
     },
     "metadata": {
      "needs_background": "light"
     },
     "output_type": "display_data"
    }
   ],
   "source": [
    "plt.figure(figsize=(25, 5))\n",
    "sns.countplot(data=geo_data_1, x='product', color='lightgreen')\n",
    "plt.title(f'Объем запасов в скважине')\n",
    "plt.xlabel('тыс. баррелей')\n",
    "plt.ylabel('частота')\n",
    "plt.show()"
   ]
  },
  {
   "cell_type": "markdown",
   "metadata": {},
   "source": [
    "Так как признак дискретный вывели столбчатую диаграмму, по данному графику также можно сказать, значения принимают ограниченное количество уникальных значений — 12 значений. Между этими пиками нет промежуточных значений — график показывает чёткие пики без плавного перехода. Частоты у разных значений примерно одинаковые, что говорит о приближённо равномерном распределении по категориям. Нет явных выбросов или перекосов в сторону одного значения."
   ]
  },
  {
   "cell_type": "code",
   "execution_count": 35,
   "metadata": {},
   "outputs": [
    {
     "data": {
      "image/png": "[encoded data removed]",
      "text/plain": [
       "<Figure size 720x360 with 1 Axes>"
      ]
     },
     "metadata": {
      "needs_background": "light"
     },
     "output_type": "display_data"
    },
    {
     "data": {
      "image/png": "[encoded data removed]",
      "text/plain": [
       "<Figure size 720x360 with 1 Axes>"
      ]
     },
     "metadata": {
      "needs_background": "light"
     },
     "output_type": "display_data"
    },
    {
     "data": {
      "image/png": "[encoded data removed]",
      "text/plain": [
       "<Figure size 720x360 with 1 Axes>"
      ]
     },
     "metadata": {
      "needs_background": "light"
     },
     "output_type": "display_data"
    },
    {
     "data": {
      "image/png": "[encoded data removed]",
      "text/plain": [
       "<Figure size 720x360 with 1 Axes>"
      ]
     },
     "metadata": {
      "needs_background": "light"
     },
     "output_type": "display_data"
    }
   ],
   "source": [
    "numerical_features = ['f0', 'f1',\n",
    "                     'f2', 'product']\n",
    "for feature in numerical_features:\n",
    "    plt.figure(figsize=(10, 5))\n",
    "    sns.boxplot(x=geo_data_1[feature], color='lightgreen')\n",
    "    plt.title(f'Ящик с усами для {feature}')\n",
    "    plt.xlabel(feature)\n",
    "    plt.show()"
   ]
  },
  {
   "cell_type": "markdown",
   "metadata": {},
   "source": [
    "- В столбце f0 медиана - 1.15, среднее значение - 1.14. Усы достаточно длинные, причем ус слева длиннее, медиана скошена вправо. Наблюдается выброс за пределом первого кваритиля\n",
    "- В столбце f1 медиана: -4.8, среденее значение: -4.79 . Усы имеют примерно одинаковую длину, они уже короче, чем у предыдущего признака. По графику видно, что данные размещены симметрично, но наблюдается значительное количество выбросов за пределами первого и третьего квартиля\n",
    "- В столбце f2 медиана - 2.0, среденее значение - 2.49. Усы примерно одинаковой длины, намного короче, чем у предыдущих признаков, медиана скошена влево. \n",
    "- В столбце product медиана - 57.08, среденее значение - 68.82. Усы примерно одинаковой длины, намного короче, чем у предыдущих признаков, медиана скошена влево. "
   ]
  },
  {
   "cell_type": "markdown",
   "metadata": {},
   "source": [
    "Изучим столбец с выбросами подробнее"
   ]
  },
  {
   "cell_type": "code",
   "execution_count": 36,
   "metadata": {},
   "outputs": [
    {
     "name": "stdout",
     "output_type": "stream",
     "text": [
      "(1, 6)\n"
     ]
    }
   ],
   "source": [
    "# Вычисляем Q1 и Q3\n",
    "Q1 = geo_data_1['f0'].quantile(0.25)\n",
    "Q3 = geo_data_1['f0'].quantile(0.75)\n",
    "IQR = Q3 - Q1\n",
    "\n",
    "# Определяем границы для выбросов\n",
    "lower_bound = Q1 - 1.5 * IQR\n",
    "upper_bound = Q3 + 1.5 * IQR\n",
    "\n",
    "# Идентификация выбросов\n",
    "outliers = geo_data_1[(geo_data_1['f0'] < lower_bound) | (geo_data_1['f0'] > upper_bound)]\n",
    "\n",
    "# Выводим выбросы\n",
    "print(outliers.shape)"
   ]
  },
  {
   "cell_type": "markdown",
   "metadata": {},
   "source": [
    "Наблюдается 1 выброс, не будем его обрабатывать, тк он может содержать важную информацию"
   ]
  },
  {
   "cell_type": "code",
   "execution_count": 37,
   "metadata": {},
   "outputs": [
    {
     "name": "stdout",
     "output_type": "stream",
     "text": [
      "(636, 6)\n"
     ]
    }
   ],
   "source": [
    "# Вычисляем Q1 и Q3\n",
    "Q1 = geo_data_1['f1'].quantile(0.25)\n",
    "Q3 = geo_data_1['f1'].quantile(0.75)\n",
    "IQR = Q3 - Q1\n",
    "\n",
    "# Определяем границы для выбросов\n",
    "lower_bound = Q1 - 1.5 * IQR\n",
    "upper_bound = Q3 + 1.5 * IQR\n",
    "\n",
    "# Идентификация выбросов\n",
    "outliers = geo_data_1[(geo_data_1['f1'] < lower_bound) | (geo_data_1['f1'] > upper_bound)]\n",
    "\n",
    "# Выводим выбросы\n",
    "print(outliers.shape)"
   ]
  },
  {
   "cell_type": "markdown",
   "metadata": {},
   "source": [
    "Наблюдается достаточно много выбросов, не будем их обрабатывать, тк они могут содержать важную информацию"
   ]
  },
  {
   "cell_type": "code",
   "execution_count": 38,
   "metadata": {},
   "outputs": [
    {
     "data": {
      "image/png": "[encoded data removed]",
      "text/plain": [
       "<Figure size 576x432 with 2 Axes>"
      ]
     },
     "metadata": {
      "needs_background": "light"
     },
     "output_type": "display_data"
    }
   ],
   "source": [
    "plt.figure(figsize=(8, 6))\n",
    "sns.heatmap(geo_data_1[['f0', 'f1', 'f2', 'product']].corr(), annot=True, fmt='.2f', cmap='coolwarm', square=True)\n",
    "plt.title(f'Матрица корреляции - Регион 2')\n",
    "plt.show()"
   ]
  },
  {
   "cell_type": "markdown",
   "metadata": {},
   "source": [
    "По данной матрице можно заметить, что признаки f2-product мультиколлинеарны, но это не является проблемой тк в данном случае признак product - целевой"
   ]
  },
  {
   "cell_type": "markdown",
   "metadata": {},
   "source": [
    "**Проведем анализ данных в датасете geo_data_2**"
   ]
  },
  {
   "cell_type": "code",
   "execution_count": 39,
   "metadata": {},
   "outputs": [
    {
     "data": {
      "image/png": "[encoded data removed]",
      "text/plain": [
       "<Figure size 720x360 with 1 Axes>"
      ]
     },
     "metadata": {
      "needs_background": "light"
     },
     "output_type": "display_data"
    }
   ],
   "source": [
    "plt.figure(figsize=(10, 5))\n",
    "sns.histplot(geo_data_2['f0'], bins=100, kde=True, color='purple')\n",
    "plt.title(f'признак точки f0')\n",
    "plt.xlabel('признак точки f0')\n",
    "plt.ylabel('частота')\n",
    "plt.show()"
   ]
  },
  {
   "cell_type": "markdown",
   "metadata": {},
   "source": [
    "Распределение похоже на нормальное. Признак варьируется от примерно -8 до 8."
   ]
  },
  {
   "cell_type": "code",
   "execution_count": 40,
   "metadata": {},
   "outputs": [
    {
     "data": {
      "image/png": "[encoded data removed]",
      "text/plain": [
       "<Figure size 720x360 with 1 Axes>"
      ]
     },
     "metadata": {
      "needs_background": "light"
     },
     "output_type": "display_data"
    }
   ],
   "source": [
    "plt.figure(figsize=(10, 5))\n",
    "sns.histplot(geo_data_2['f1'], bins=100, kde=True, color='purple')\n",
    "plt.title(f'признак точки f1')\n",
    "plt.xlabel('признак точки f1')\n",
    "plt.ylabel('частота')\n",
    "plt.show()"
   ]
  },
  {
   "cell_type": "markdown",
   "metadata": {},
   "source": [
    "Распределение близко к нормальному, но с \"хвостом\" вправо. Есть лёгкая асимметрия: данные смещены в сторону положительных значений. Признак варьируется от примерно -6 до 8."
   ]
  },
  {
   "cell_type": "code",
   "execution_count": 41,
   "metadata": {},
   "outputs": [
    {
     "data": {
      "image/png": "[encoded data removed]",
      "text/plain": [
       "<Figure size 720x360 with 1 Axes>"
      ]
     },
     "metadata": {
      "needs_background": "light"
     },
     "output_type": "display_data"
    }
   ],
   "source": [
    "plt.figure(figsize=(10, 5))\n",
    "sns.histplot(geo_data_2['f2'], bins=100, kde=True, color='purple')\n",
    "plt.title(f'признак точки f2')\n",
    "plt.xlabel('признак точки f2')\n",
    "plt.ylabel('частота')\n",
    "plt.show()"
   ]
  },
  {
   "cell_type": "markdown",
   "metadata": {},
   "source": [
    "Распределение близко к нормальному, но с \"хвостом\" вправо. Есть лёгкая асимметрия: данные смещены в сторону положительных значений. Признак варьируется от примерно -10 до 15."
   ]
  },
  {
   "cell_type": "code",
   "execution_count": 42,
   "metadata": {},
   "outputs": [
    {
     "data": {
      "image/png": "[encoded data removed]",
      "text/plain": [
       "<Figure size 720x360 with 1 Axes>"
      ]
     },
     "metadata": {
      "needs_background": "light"
     },
     "output_type": "display_data"
    }
   ],
   "source": [
    "plt.figure(figsize=(10, 5))\n",
    "sns.histplot(geo_data_2['product'], bins=100, kde=True, color='purple')\n",
    "plt.title(f'Объем запасов в скважине')\n",
    "plt.xlabel('тыс. баррелей')\n",
    "plt.ylabel('частота')\n",
    "plt.show()"
   ]
  },
  {
   "cell_type": "markdown",
   "metadata": {},
   "source": [
    "Распределение с несколькими пиками, что может говорить о сегментированности скважин по объёму запасов. Явно видны пики в районе около 25, 50, 75, 100, 125 и 150 тыс. баррелей — возможно, эти значения связаны с ограничениями или округлениями при оценке. Распределение не является нормальным и имеет ступенчатую структуру."
   ]
  },
  {
   "cell_type": "code",
   "execution_count": 43,
   "metadata": {},
   "outputs": [
    {
     "data": {
      "image/png": "[encoded data removed]",
      "text/plain": [
       "<Figure size 720x360 with 1 Axes>"
      ]
     },
     "metadata": {
      "needs_background": "light"
     },
     "output_type": "display_data"
    },
    {
     "data": {
      "image/png": "[encoded data removed]",
      "text/plain": [
       "<Figure size 720x360 with 1 Axes>"
      ]
     },
     "metadata": {
      "needs_background": "light"
     },
     "output_type": "display_data"
    },
    {
     "data": {
      "image/png": "[encoded data removed]",
      "text/plain": [
       "<Figure size 720x360 with 1 Axes>"
      ]
     },
     "metadata": {
      "needs_background": "light"
     },
     "output_type": "display_data"
    },
    {
     "data": {
      "image/png": "[encoded data removed]",
      "text/plain": [
       "<Figure size 720x360 with 1 Axes>"
      ]
     },
     "metadata": {
      "needs_background": "light"
     },
     "output_type": "display_data"
    }
   ],
   "source": [
    "numerical_features = ['f0', 'f1',\n",
    "                     'f2', 'product']\n",
    "for feature in numerical_features:\n",
    "    plt.figure(figsize=(10, 5))\n",
    "    sns.boxplot(x=geo_data_2[feature], color='purple')\n",
    "    plt.title(f'Ящик с усами для {feature}')\n",
    "    plt.xlabel(feature)\n",
    "    plt.show()"
   ]
  },
  {
   "cell_type": "markdown",
   "metadata": {},
   "source": [
    "- В столбце f0 медиана - 0.009, среднее значение - 0.002, среднее отклонение достаточно сильное. Усы не такие длинные, но за их пределами наблюдается достаточное количество выбросов\n",
    "- В столбце f1 медиана: -0.009, среденее значение: -0.002, опять же сильное среденее отклонение. Усы имеют примерно одинаковую длинуПо графику видно, что данные размещены симметрично, но наблюдается значительное количество выбросов за пределами первого и третьего квартиля\n",
    "- В столбце f2 медиана - 2.484, среденее значение - 2.495. Усы примерно одинаковой длины. За их пределами наблюдается достаточное количество выбросов\n",
    "- В столбце product медиана - 94.92, среденее значение - 95.. Усы примерно одинаковой длины, выбросов не наблюдается"
   ]
  },
  {
   "cell_type": "code",
   "execution_count": 44,
   "metadata": {},
   "outputs": [
    {
     "data": {
      "text/html": [
       "<div>\n",
       "<style scoped>\n",
       "    .dataframe tbody tr th:only-of-type {\n",
       "        vertical-align: middle;\n",
       "    }\n",
       "\n",
       "    .dataframe tbody tr th {\n",
       "        vertical-align: top;\n",
       "    }\n",
       "\n",
       "    .dataframe thead th {\n",
       "        text-align: right;\n",
       "    }\n",
       "</style>\n",
       "<table border=\"1\" class=\"dataframe\">\n",
       "  <thead>\n",
       "    <tr style=\"text-align: right;\">\n",
       "      <th></th>\n",
       "      <th>f0</th>\n",
       "      <th>f1</th>\n",
       "      <th>f2</th>\n",
       "      <th>product</th>\n",
       "    </tr>\n",
       "  </thead>\n",
       "  <tbody>\n",
       "    <tr>\n",
       "      <th>count</th>\n",
       "      <td>100000.000000</td>\n",
       "      <td>100000.000000</td>\n",
       "      <td>100000.000000</td>\n",
       "      <td>100000.000000</td>\n",
       "    </tr>\n",
       "    <tr>\n",
       "      <th>mean</th>\n",
       "      <td>0.002023</td>\n",
       "      <td>-0.002081</td>\n",
       "      <td>2.495128</td>\n",
       "      <td>95.000000</td>\n",
       "    </tr>\n",
       "    <tr>\n",
       "      <th>std</th>\n",
       "      <td>1.732045</td>\n",
       "      <td>1.730417</td>\n",
       "      <td>3.473445</td>\n",
       "      <td>44.749921</td>\n",
       "    </tr>\n",
       "    <tr>\n",
       "      <th>min</th>\n",
       "      <td>-8.760004</td>\n",
       "      <td>-7.084020</td>\n",
       "      <td>-11.970335</td>\n",
       "      <td>0.000000</td>\n",
       "    </tr>\n",
       "    <tr>\n",
       "      <th>25%</th>\n",
       "      <td>-1.162288</td>\n",
       "      <td>-1.174820</td>\n",
       "      <td>0.130359</td>\n",
       "      <td>59.450441</td>\n",
       "    </tr>\n",
       "    <tr>\n",
       "      <th>50%</th>\n",
       "      <td>0.009424</td>\n",
       "      <td>-0.009482</td>\n",
       "      <td>2.484236</td>\n",
       "      <td>94.925613</td>\n",
       "    </tr>\n",
       "    <tr>\n",
       "      <th>75%</th>\n",
       "      <td>1.158535</td>\n",
       "      <td>1.163678</td>\n",
       "      <td>4.858794</td>\n",
       "      <td>130.595027</td>\n",
       "    </tr>\n",
       "    <tr>\n",
       "      <th>max</th>\n",
       "      <td>7.238262</td>\n",
       "      <td>7.844801</td>\n",
       "      <td>16.739402</td>\n",
       "      <td>190.029838</td>\n",
       "    </tr>\n",
       "  </tbody>\n",
       "</table>\n",
       "</div>"
      ],
      "text/plain": [
       "                  f0             f1             f2        product\n",
       "count  100000.000000  100000.000000  100000.000000  100000.000000\n",
       "mean        0.002023      -0.002081       2.495128      95.000000\n",
       "std         1.732045       1.730417       3.473445      44.749921\n",
       "min        -8.760004      -7.084020     -11.970335       0.000000\n",
       "25%        -1.162288      -1.174820       0.130359      59.450441\n",
       "50%         0.009424      -0.009482       2.484236      94.925613\n",
       "75%         1.158535       1.163678       4.858794     130.595027\n",
       "max         7.238262       7.844801      16.739402     190.029838"
      ]
     },
     "execution_count": 44,
     "metadata": {},
     "output_type": "execute_result"
    }
   ],
   "source": [
    "geo_data_2.describe()"
   ]
  },
  {
   "cell_type": "markdown",
   "metadata": {},
   "source": [
    "Изучим столбцы с выбросами подробнее"
   ]
  },
  {
   "cell_type": "code",
   "execution_count": 45,
   "metadata": {},
   "outputs": [
    {
     "name": "stdout",
     "output_type": "stream",
     "text": [
      "(733, 5)\n"
     ]
    }
   ],
   "source": [
    "# Вычисляем Q1 и Q3\n",
    "Q1 = geo_data_2['f0'].quantile(0.25)\n",
    "Q3 = geo_data_2['f0'].quantile(0.75)\n",
    "IQR = Q3 - Q1\n",
    "\n",
    "# Определяем границы для выбросов\n",
    "lower_bound = Q1 - 1.5 * IQR\n",
    "upper_bound = Q3 + 1.5 * IQR\n",
    "\n",
    "# Идентификация выбросов\n",
    "outliers = geo_data_2[(geo_data_2['f0'] < lower_bound) | (geo_data_2['f0'] > upper_bound)]\n",
    "\n",
    "# Выводим выбросы\n",
    "print(outliers.shape)"
   ]
  },
  {
   "cell_type": "code",
   "execution_count": 46,
   "metadata": {},
   "outputs": [
    {
     "name": "stdout",
     "output_type": "stream",
     "text": [
      "(684, 5)\n"
     ]
    }
   ],
   "source": [
    "# Вычисляем Q1 и Q3\n",
    "Q1 = geo_data_2['f1'].quantile(0.25)\n",
    "Q3 = geo_data_2['f1'].quantile(0.75)\n",
    "IQR = Q3 - Q1\n",
    "\n",
    "# Определяем границы для выбросов\n",
    "lower_bound = Q1 - 1.5 * IQR\n",
    "upper_bound = Q3 + 1.5 * IQR\n",
    "\n",
    "# Идентификация выбросов\n",
    "outliers = geo_data_2[(geo_data_2['f1'] < lower_bound) | (geo_data_2['f1'] > upper_bound)]\n",
    "\n",
    "# Выводим выбросы\n",
    "print(outliers.shape)"
   ]
  },
  {
   "cell_type": "code",
   "execution_count": 47,
   "metadata": {},
   "outputs": [
    {
     "name": "stdout",
     "output_type": "stream",
     "text": [
      "(584, 5)\n"
     ]
    }
   ],
   "source": [
    "# Вычисляем Q1 и Q3\n",
    "Q1 = geo_data_2['f2'].quantile(0.25)\n",
    "Q3 = geo_data_2['f2'].quantile(0.75)\n",
    "IQR = Q3 - Q1\n",
    "\n",
    "# Определяем границы для выбросов\n",
    "lower_bound = Q1 - 1.5 * IQR\n",
    "upper_bound = Q3 + 1.5 * IQR\n",
    "\n",
    "# Идентификация выбросов\n",
    "outliers = geo_data_2[(geo_data_2['f2'] < lower_bound) | (geo_data_2['f2'] > upper_bound)]\n",
    "\n",
    "# Выводим выбросы\n",
    "print(outliers.shape)"
   ]
  },
  {
   "cell_type": "markdown",
   "metadata": {},
   "source": [
    "Во всех признаках много выбросов, удалять их не будем, тк в них могут содержаться важные данные "
   ]
  },
  {
   "cell_type": "code",
   "execution_count": 48,
   "metadata": {},
   "outputs": [
    {
     "data": {
      "image/png": "[encoded data removed]",
      "text/plain": [
       "<Figure size 576x432 with 2 Axes>"
      ]
     },
     "metadata": {
      "needs_background": "light"
     },
     "output_type": "display_data"
    }
   ],
   "source": [
    "plt.figure(figsize=(8, 6))\n",
    "sns.heatmap(geo_data_2[['f0', 'f1', 'f2', 'product']].corr(), annot=True, fmt='.2f', cmap='coolwarm', square=True)\n",
    "plt.title(f'Матрица корреляции - Регион 3')\n",
    "plt.show()"
   ]
  },
  {
   "cell_type": "markdown",
   "metadata": {},
   "source": [
    "По данной матрице видим, что мультиколлинерных признаков нет, наблюдается умеренная положительная корреляция у признаков f2-product(0.45)"
   ]
  },
  {
   "cell_type": "markdown",
   "metadata": {},
   "source": [
    "<div class=\"alert alert-info\">\n",
    "<font size=\"4\">🍕<b> Комментарий ревьюера</b></font>\n",
    "    <br /> \n",
    "    <font size=\"3\", color = \"black\">\n",
    "<br />\n",
    "Их действительно не стоит удалять. Объявлять все данные, выходящие за \"усы\" выбросами, мешиющими обучению - затея не очень классная. Представь, что ты решаешь задачу предсказания стоимости квартиры. Будет ли выбросом квартира с огромной площадью в центре Москвы с очень большой стоимостью мешать обучению модели? Нет, тут всё очень даже логично. Да, таких будет, вероятно, немного, но такие же существуют, и с ними тоже надо уметь работать, а если их выкинуть из обучения, то существует вероятность того, что твоя модель будет занижать стоимость таких квартир, и владельцы элитного жилья с тобой сотрудничать не будут.\n",
    "\n",
    "В нашем случае эти значения - это просто хвосты распределения, о чём можно судить потому что 1) они лежат достаточно близко к \"усам\", и весьма большими количествами, такими скажем \"косяками\", а не отдельными точками, сильно от \"усов\" удалёнными 2) по гистограммам признаков, тебя ничего не смущает, ты и сама можешь скажать, что мол \"ну это просто хвост распределения\""
   ]
  },
  {
   "cell_type": "markdown",
   "metadata": {},
   "source": [
    "<div class=\"alert alert-warning\">\n",
    "<font size=\"4\"><b>⚠️ Комментарий ревьюера</b></font>\n",
    "    <br /> \n",
    "    <font size=\"3\", color = \"black\">\n",
    "<br />\n",
    "Учитывая, что по условию задания мы обучаем именно линейные модели, стоит убедиться в том, что в данных нет мультиколлинеарности, для чего стоит провести корреляционный анализ."
   ]
  },
  {
   "cell_type": "markdown",
   "metadata": {},
   "source": [
    "#Добавила матрицы корреляций#"
   ]
  },
  {
   "cell_type": "markdown",
   "metadata": {},
   "source": [
    "<div class=\"alert alert-success\">\n",
    "<font size=\"4\"><b>✔️ Комментарий ревьюера v2</b></font>\n",
    "    <br /> \n",
    "    <font size=\"3\", color = \"black\">\n",
    "<br />\n",
    "👍"
   ]
  },
  {
   "cell_type": "markdown",
   "metadata": {},
   "source": [
    "<div class=\"alert alert-info\">\n",
    "<font size=\"4\">🍕<b> Комментарий ревьюера v2</b></font>\n",
    "    <br /> \n",
    "    <font size=\"3\", color = \"black\">\n",
    "        <b></b>\n",
    "\n",
    "Метод `.corr()` по умолчанию вычисляет коэффициенты корреляции Пирсона, а она по идее создана для нормальнораспределённых величин, у нас далеко не все признаки такие. Лучше было вычислять корреляцию Спирмена (`.corr(method='spearman')`, либо коэффициенты Phi_K."
   ]
  },
  {
   "cell_type": "markdown",
   "metadata": {},
   "source": [
    "## Обучение и проверка модели"
   ]
  },
  {
   "cell_type": "code",
   "execution_count": 51,
   "metadata": {},
   "outputs": [],
   "source": [
    "def fit_model(data):\n",
    "    features = data[['f0', 'f1', 'f2']]  \n",
    "    target = data['product'] \n",
    "    \n",
    "    features_train, features_valid, target_train, target_valid = train_test_split(\n",
    "    features, target, test_size=0.25, random_state=42)\n",
    "    \n",
    "    model = LinearRegression()\n",
    "    model.fit(features_train, target_train)\n",
    "    \n",
    "    predictions = model.predict(features_valid)\n",
    "    \n",
    "    mean_predicted = predictions.mean()\n",
    "    #rmse = mean_squared_error(target_valid, predictions, squared=False)\n",
    "    rmse = mean_squared_error(target_valid, predictions)**0.5\n",
    "\n",
    "\n",
    "    print(\"Средний запас предсказанного сырья:\", mean_predicted)\n",
    "    print(\"RMSE модели:\", rmse)\n",
    "    \n",
    "    return(predictions, target_valid.reset_index(drop=True), rmse)"
   ]
  },
  {
   "cell_type": "markdown",
   "metadata": {},
   "source": [
    "<div class=\"alert alert-success\">\n",
    "<font size=\"4\"><b>✔️ Комментарий ревьюера</b></font>\n",
    "    <br /> \n",
    "    <font size=\"3\", color = \"black\">\n",
    "<br />\n",
    "Здорово, что оформляешь код в функции. Куда лучше, чем плодить множество практически идентичных блоков кода."
   ]
  },
  {
   "cell_type": "markdown",
   "metadata": {},
   "source": [
    "<div class=\"alert alert-info\">\n",
    "<font size=\"4\">🍕<b> Комментарий ревьюера</b></font>\n",
    "    <br /> \n",
    "    <font size=\"3\", color = \"black\">\n",
    "<br />\n",
    "Поскольку линейная модель - не самый мощный ML инструмент, с ней рекомендуется попробовать создание новых признаков. Например, полиномиальных - они могут и в текущем проекте сильно повлиять на итоговые результаты."
   ]
  },
  {
   "cell_type": "code",
   "execution_count": 52,
   "metadata": {},
   "outputs": [
    {
     "name": "stdout",
     "output_type": "stream",
     "text": [
      "\n",
      "РЕГИОН 1\n",
      "Средний запас предсказанного сырья: 92.39879990657768\n",
      "RMSE модели: 37.75660035026169\n",
      "\n",
      "РЕГИОН 2\n",
      "Средний запас предсказанного сырья: 68.71287803913762\n",
      "RMSE модели: 0.890280100102884\n",
      "\n",
      "РЕГИОН 3\n",
      "Средний запас предсказанного сырья: 94.77102387765939\n",
      "RMSE модели: 40.145872311342174\n"
     ]
    }
   ],
   "source": [
    "results = []\n",
    "\n",
    "for idx, region_data in enumerate([geo_data_0, geo_data_1, geo_data_2]):\n",
    "    print(f\"\\nРЕГИОН {idx+1}\")\n",
    "    preds, targets, error = fit_model(region_data)\n",
    "    results.append((preds, targets, error))"
   ]
  },
  {
   "cell_type": "markdown",
   "metadata": {},
   "source": [
    "<div class=\"alert alert-success\">\n",
    "<font size=\"4\"><b>✔️ Комментарий ревьюера</b></font>\n",
    "    <br /> \n",
    "    <font size=\"3\", color = \"black\">\n",
    "<br />\n",
    "Метрики во всех регионах выглядят правдоподобно"
   ]
  },
  {
   "cell_type": "markdown",
   "metadata": {},
   "source": [
    "Чтобы проанализировать данные результаты, нужно знать, что RMSE (Root Mean Squared Error) — это метрика, которая показывает среднюю величину ошибки модели между предсказанными значениями и фактическими. Измеряется в тех же единицах, что и предсказываемая величина. И лучший результат тот, где это значение меньше(самая высокая точность если показатель меньше 10%).\n",
    "\n",
    "\n",
    "\n",
    "- Регион 3:Самый высокий средний предсказанный запас — почти 95 тыс. баррелей.\n",
    "Но ошибка довольно велика — 40.15, что указывает на низкую точность модели.\n",
    "Может принести много прибыли, но риск переоценки высок.\n",
    "- Регион 1:Средний запас чуть меньше — ~92 тыс. баррелей.\n",
    "Чуть лучше по точности, чем регион 3 (RMSE ~37.76).\n",
    "\n",
    "- Регион 2:Наименьший предсказанный средний запас — ~69 тыс. баррелей.\n",
    "Минимальная ошибка (RMSE = 0.89) — модель почти идеально предсказывает, но объёмы слишком маленькие.\n",
    "Очень точная модель, но, вероятно, невыгодный регион.\n",
    "\n",
    "\n",
    "**Вывод:**\n",
    "Регион 2 — самый надёжный с точки зрения предсказаний, но запасов мало.\n",
    "У регионa 1 и высокие запасы, и умеренная ошибка.\n",
    "Регион 3 может быть чуть выгоднее по объёму, но риск выше из-за большой ошибки.\n"
   ]
  },
  {
   "cell_type": "code",
   "execution_count": 53,
   "metadata": {},
   "outputs": [],
   "source": [
    "predictions_1, validation_1, rmse_1 = results[0]\n",
    "predictions_2, validation_2, rmse_2 = results[1]\n",
    "predictions_3, validation_3, rmse_3 = results[2]\n"
   ]
  },
  {
   "cell_type": "markdown",
   "metadata": {},
   "source": [
    "<div class=\"alert alert-warning\">\n",
    "<font size=\"4\"><b>⚠️ Комментарий ревьюера</b></font>\n",
    "    <br /> \n",
    "    <font size=\"3\", color = \"black\">\n",
    "        <b></b>\n",
    "\n",
    "По 2 раза вызывать обучение модели - ну очень такое себе. Ладно у нас лёгонькая линейка, а если какая-то тяжеловесная модель, обучаемая долго? Потратишь кучу времени впустую. У тебя же всё сохранено в переменной `results`, зачем создавать по сути дубликаты уже имеющихся сущностей?"
   ]
  },
  {
   "cell_type": "markdown",
   "metadata": {},
   "source": [
    "Исправила "
   ]
  },
  {
   "cell_type": "markdown",
   "metadata": {},
   "source": [
    "## Подготовка к расчёту прибыли"
   ]
  },
  {
   "cell_type": "markdown",
   "metadata": {},
   "source": [
    "У нас следующие условия задачи:\n",
    "- Доход с 1 тыс. баррелей: 450_000 руб.\n",
    "- Бюджет на разработку региона: 10_000_000_000 руб.\n",
    "- Количество скважин для разработки: 200\n"
   ]
  },
  {
   "cell_type": "code",
   "execution_count": 54,
   "metadata": {},
   "outputs": [],
   "source": [
    "budget = 10**10 \n",
    "income_per_unit = 450000\n",
    "number_of_wells = 200"
   ]
  },
  {
   "cell_type": "markdown",
   "metadata": {},
   "source": [
    "Рассчитаем безубыточный объём сырья на одну скважину\n",
    "\n",
    "Чтобы не уйти в убыток, каждая из выбранных 200 скважин должна в среднем принести доход, покрывающий вложения.\n",
    "\n",
    "Доход=Объём сырья×450000\n",
    "\n",
    "\n",
    "Чтобы покрыть бюджет: 200×Объём×450000≥10000000000"
   ]
  },
  {
   "cell_type": "code",
   "execution_count": 55,
   "metadata": {},
   "outputs": [
    {
     "name": "stdout",
     "output_type": "stream",
     "text": [
      "Минимальный объём нефти на скважину для безубыточности: 111.11 тыс. баррелей\n"
     ]
    }
   ],
   "source": [
    "min_volume_per_well = budget / (number_of_wells * income_per_unit)\n",
    "print(f'Минимальный объём нефти на скважину для безубыточности: {min_volume_per_well:.2f} тыс. баррелей')\n"
   ]
  },
  {
   "cell_type": "markdown",
   "metadata": {},
   "source": [
    "<div class=\"alert alert-success\">\n",
    "<font size=\"4\"><b>✔️ Комментарий ревьюера</b></font>\n",
    "    <br /> \n",
    "    <font size=\"3\", color = \"black\">\n",
    "<br />\n",
    "Расчёт корректен"
   ]
  },
  {
   "cell_type": "markdown",
   "metadata": {},
   "source": [
    "Мы получили, что порог безубыточности: ≈ 111.11 тыс. баррелей на скважину.\n",
    "Ни один из регионов не достигает этого порога по среднему значению предсказанного объёма — риски высоки."
   ]
  },
  {
   "cell_type": "markdown",
   "metadata": {},
   "source": [
    "## Расчёт прибыли и рисков "
   ]
  },
  {
   "cell_type": "code",
   "execution_count": 63,
   "metadata": {},
   "outputs": [],
   "source": [
    "#функция для расчёта прибыли по выбранным скважинам \n",
    "def calculate_profit(predictions, target):\n",
    "    max_pred = predictions.sort_values(ascending=False).head(200)\n",
    "    max_target = target.loc[max_pred.index]\n",
    "    total_volume = max_target.sum()\n",
    "    \n",
    "    revenue = total_volume * income_per_unit\n",
    "    profit = revenue - budget\n",
    "    return profit"
   ]
  },
  {
   "cell_type": "code",
   "execution_count": 64,
   "metadata": {},
   "outputs": [],
   "source": [
    "regions = {\n",
    "    'Регион 1': (results[0][0], results[0][1]),\n",
    "    'Регион 2': (results[1][0], results[1][1]),\n",
    "    'Регион 3': (results[2][0], results[2][1]),\n",
    "}"
   ]
  },
  {
   "cell_type": "markdown",
   "metadata": {},
   "source": [
    "<div class=\"alert alert-danger\">\n",
    "<font size=\"4\"><b>❌ Комментарий ревьюера</b></font>\n",
    "    <br /> \n",
    "    <font size=\"3\", color = \"black\">\n",
    "<br /> \n",
    "Нет, ну 3 раза обучать одни и те же модели, когда достаточно одного - это уже перебор 😱"
   ]
  },
  {
   "cell_type": "markdown",
   "metadata": {},
   "source": [
    "<div class=\"alert alert-success\">\n",
    "<font size=\"4\"><b>✔️ Комментарий ревьюера v2</b></font>\n",
    "    <br /> \n",
    "    <font size=\"3\", color = \"black\">\n",
    "<br />    \n",
    "Теперь\n",
    "<img src=\"https://kartinkof.club/uploads/posts/2022-03/1648241141_25-kartinkof-club-p-mem-priemlemo-s-kotom-25.jpg\" width=300>"
   ]
  },
  {
   "cell_type": "code",
   "execution_count": 65,
   "metadata": {},
   "outputs": [
    {
     "name": "stdout",
     "output_type": "stream",
     "text": [
      "Регион 1: прибыль — 3,359,141,114.46 руб.\n",
      "Регион 2: прибыль — 2,415,086,696.68 руб.\n",
      "Регион 3: прибыль — 2,598,571,759.37 руб.\n"
     ]
    }
   ],
   "source": [
    "for name, (preds, target) in regions.items():\n",
    "    profit = calculate_profit(pd.Series(preds), pd.Series(target))\n",
    "    print(f\"{name}: прибыль — {profit:,.2f} руб.\")"
   ]
  },
  {
   "cell_type": "code",
   "execution_count": 66,
   "metadata": {},
   "outputs": [],
   "source": [
    "def bootstrap_profit(predictions, target, n_bootstrap=1000, sample_size=500):\n",
    "    state = np.random.RandomState(12345)\n",
    "    values = []\n",
    "\n",
    "    data = pd.DataFrame({\n",
    "        'pred': predictions,\n",
    "        'target': target\n",
    "    })\n",
    "\n",
    "    for _ in range(n_bootstrap):\n",
    "        sample = data.sample(n=sample_size, replace=True, random_state=state).reset_index(drop=True)\n",
    "        \n",
    "        \n",
    "        profit = calculate_profit(sample['pred'], sample['target'])\n",
    "        \n",
    "        values.append(profit)\n",
    "\n",
    "    return pd.Series(values)\n"
   ]
  },
  {
   "cell_type": "markdown",
   "metadata": {},
   "source": [
    "<div class=\"alert alert-success\">\n",
    "<font size=\"4\"><b>✔️ Комментарий ревьюера v2</b></font>\n",
    "    <br /> \n",
    "    <font size=\"3\", color = \"black\">\n",
    "        <b></b>\n",
    "\n",
    "И снова приемлемо! Логичнее было бы не разделять при вызове функции `calculate_profit` датафрейм на отдельные столбцы, передавать весь сэмпл и внутри функции делать `sample.sort_values(by='pred', ascending=False)['target'][:200]`, но как у тебя тоже ок, ошибки больше нет."
   ]
  },
  {
   "cell_type": "markdown",
   "metadata": {},
   "source": [
    "<div class=\"alert alert-danger\">\n",
    "<font size=\"4\"><b>❌ Комментарий ревьюера</b></font>\n",
    "    <br /> \n",
    "    <font size=\"3\", color = \"black\">\n",
    "<br /> \n",
    "2 момента по расчёту прибыли:\n",
    "\n",
    "1. У тебя для расчёта прибыли чуть выше описана функция, зачем логику функции дублировать в коде функции с бутстрапом? Просто когда готовы сэмплы вызывай `calculate_profit`.\n",
    "2. Прибыль - это разница дохода и расхода. Доход у тебя посчитан верно, а расход никак не учитывается. Добавь в конец функции прибыли вычитание бюджета на разработку."
   ]
  },
  {
   "cell_type": "markdown",
   "metadata": {},
   "source": [
    "<div class=\"alert alert-danger\">\n",
    "<font size=\"4\"><b>❌ Комментарий ревьюера</b></font>\n",
    "    <br /> \n",
    "    <font size=\"3\", color = \"black\">\n",
    "<br />\n",
    "Но есть пролема серьёзнее. У тебя в функции есть один ну очень неочевидный баг. Настолько неочевидный, что без бутстрапа функция бы была абсолютно корректной, а вот с ним есть нюансы. Я добавил тебе отладочную печать, которая срабатывает, когда у тебя для 200 предсказаний почему-то берётся в расчёт больше, чем 200 таргетов. Явно нежелательное поведение, но печать срабатывает регулярно (смотри ниже). Сейчас покажу из-за чего на небольшом синтетическом примере:"
   ]
  },
  {
   "cell_type": "code",
   "execution_count": 67,
   "metadata": {},
   "outputs": [
    {
     "data": {
      "text/plain": [
       "3    3\n",
       "3    3\n",
       "3    3\n",
       "3    3\n",
       "3    3\n",
       "3    3\n",
       "3    3\n",
       "3    3\n",
       "3    3\n",
       "2    2\n",
       "2    2\n",
       "2    2\n",
       "2    2\n",
       "dtype: int64"
      ]
     },
     "metadata": {},
     "output_type": "display_data"
    }
   ],
   "source": [
    "# КОД РЕВЬЮЕРА\n",
    "# предположим, у нас есть небольшой сэмпл из 5 предсказаний и 5 соответствующих таргетов\n",
    "_target = pd.Series([2, 2, 3, 3, 3], index=[2, 2, 3, 3, 3])\n",
    "_preds = pd.Series([2, 2, 3, 3, 3], index=[2, 2, 3, 3, 3]).sort_values(ascending=False)\n",
    "\n",
    "\n",
    "# берём таргеты по индексам предсказаний:\n",
    "\n",
    "display(_target.loc[_preds.index])"
   ]
  },
  {
   "cell_type": "markdown",
   "metadata": {},
   "source": [
    "<div class=\"alert alert-danger\">\n",
    "<font size=\"4\"></font>\n",
    "    <font size=\"3\", color = \"black\">\n",
    "Как так? Почему предсказаний 5, а таргетов аж 13? На самом деле, всё очень просто. На примере элементов с индексом и значением 2. Когда мы попросили у пандаса взять таргеты по индексам предсказаний, и у нас и там и там 2 одинаковых элемента, он отнюдь должен вернуть не 2. Он для каждого запрошенного индекса предсказаний выдаёт все таргеты с таким индексом. Таким образом, мы запросили 2 раза элемента с индексом 2 - оба раза пандас отдал нам 2 таких элемента из таргетов - всего 4 элемента. А если бы у нас было и там, и там по 3 одинаковых элемента, то в итоге было бы 9. Логика, надеюсь, ясна. И вот поэтому почти всегда получается, что когда ты берёшь таргеты по индексам 500 предсказаний, получаешь в итоге более чем 500 таргетов. Благодаря бутстрапу в выборках есть идентичные элементы, с одинаковыми индексами, и они каждый раз вот таким образом \"множатся\" при вычислении прибыли.\n",
    "<br>\n",
    "\n",
    "Да, с помощью `[:200]` непосредственно в расчёт прибыли можно передать ровно 200 скважин, но может получиться ситуация (и регулярно случается), что в исходном сэмпле некая скважина встретилась 2 раза, а в расчёт попадает 4. То есть, расчёт хоть близкий к корректному, но таковым всё же не является.\n",
    "\n",
    "Теперь поговорим о том, как же с этим быть. Вариантов устранения проблемы несколько. Можно предсказания и таргеты хранить в едином датафрейме. Метод `.sample()` у датафрейма есть, сэмплируем датафрейм, а не отдельно таргет/предсказание, сортируем сэмпл по одному столбцу (предсказание), значения для прибыли берём из другого (таргет). Всё, операция взятия по индексу тебе становится вообще не нужна и ошибка не возникает. Если лень делать датафрейм из двух столбцов, то можно <u>когда сэмплы готовы, но вычисление ещё не начато</u>, предсказания не сортированы, сделать для сэмплов сброс индексов `.reset_index(drop=True)`, тогда индексы станут уникальными и ошибки тоже не будет.\n",
    "\n",
    "Сброс индексов у тебя есть, но почему он никак не повлиял на ошибку я пподчеркнул: его надо сделать когда проведено сэмплирование и появились эти дубликаты."
   ]
  },
  {
   "cell_type": "markdown",
   "metadata": {},
   "source": [
    "Подкорректировала"
   ]
  },
  {
   "cell_type": "code",
   "execution_count": 68,
   "metadata": {},
   "outputs": [
    {
     "name": "stdout",
     "output_type": "stream",
     "text": [
      "\n",
      "РЕГИОН 1\n",
      "Средняя прибыль: 406,278,783.42 руб.\n",
      "95%-й доверительный интервал: [-117,742,136.49, 911,737,050.75] руб.\n",
      "Риск убытков: 6.70%\n",
      "\n",
      "РЕГИОН 2\n",
      "Средняя прибыль: 432,624,131.81 руб.\n",
      "95%-й доверительный интервал: [16,846,174.93, 815,972,526.29] руб.\n",
      "Риск убытков: 1.90%\n",
      "\n",
      "РЕГИОН 3\n",
      "Средняя прибыль: 377,362,192.42 руб.\n",
      "95%-й доверительный интервал: [-170,780,417.71, 901,772,131.39] руб.\n",
      "Риск убытков: 7.40%\n"
     ]
    }
   ],
   "source": [
    "profits = []\n",
    "\n",
    "for i, (preds, targets, _) in enumerate(results):\n",
    "    print(f\"\\nРЕГИОН {i+1}\")\n",
    "    profit_dist = bootstrap_profit(preds, targets)\n",
    "    profits.append(profit_dist)\n",
    "\n",
    "    mean_profit = profit_dist.mean()\n",
    "    lower = profit_dist.quantile(0.025)\n",
    "    upper = profit_dist.quantile(0.975)\n",
    "    risk = (profit_dist < 0).mean()\n",
    "\n",
    "    print(f\"Средняя прибыль: {mean_profit:,.2f} руб.\")\n",
    "    print(f\"95%-й доверительный интервал: [{lower:,.2f}, {upper:,.2f}] руб.\")\n",
    "    print(f\"Риск убытков: {risk:.2%}\")\n"
   ]
  },
  {
   "cell_type": "code",
   "execution_count": 69,
   "metadata": {},
   "outputs": [
    {
     "data": {
      "image/png": "[encoded data removed]",
      "text/plain": [
       "<Figure size 720x432 with 1 Axes>"
      ]
     },
     "metadata": {
      "needs_background": "light"
     },
     "output_type": "display_data"
    }
   ],
   "source": [
    "plt.figure(figsize=(10, 6))\n",
    "sns.boxplot(data=profits)\n",
    "plt.axhline(0, color='red', linestyle='--', label='Нулевая прибыль')\n",
    "plt.title('Распределение прибыли по регионам (бутстрап)')\n",
    "plt.xlabel('Регионы')\n",
    "plt.ylabel('Прибыль, руб.')\n",
    "plt.xticks(ticks=[0, 1, 2], labels=['Регион 1', 'Регион 2', 'Регион 3'])\n",
    "plt.legend()\n",
    "plt.grid(True)\n",
    "plt.show()"
   ]
  },
  {
   "cell_type": "markdown",
   "metadata": {},
   "source": [
    "<div class=\"alert alert-success\">\n",
    "<font size=\"4\"><b>✔️ Комментарий ревьюера v2</b></font>\n",
    "    <br /> \n",
    "    <font size=\"3\", color = \"black\">\n",
    "<br />\n",
    "Красивое 🙂"
   ]
  },
  {
   "cell_type": "markdown",
   "metadata": {},
   "source": [
    "Исследуя данные графики можно сделать вывод:\n",
    "\n",
    "- 1 регион:\n",
    "Медиана примерно 480 млн, наблюдается много значений меньше 0. Средняя прибыль: 406,278,783.42 руб.\n",
    "95%-й доверительный интервал: [-117,742,136.49, 911,737,050.75] руб.\n",
    "Риск убытков: 6.70%\n",
    "\n",
    "\n",
    "- 2 регион:\n",
    "Медиана примерно 500 млн руб, небольшое количество значений меньше 0. Средняя прибыль: 432,624,131.81 руб.\n",
    "95%-й доверительный интервал: [16,846,174.93, 815,972,526.29] руб.\n",
    "Риск убытков: 1.90%\n",
    "\n",
    "\n",
    "\n",
    "- 3 регион:\n",
    "Медиана примерно 400 млн руб, наблюдаются значения меньше 0. Средняя прибыль: 377,362,192.42 руб.\n",
    "95%-й доверительный интервал: [-170,780,417.71, 901,772,131.39] руб.\n",
    "Риск убытков: 7.40%.\n",
    "\n",
    "Таким образом, все регионы потенциально прибыльные, но регион 2 показывает: наибольшую среднюю прибыль, уверенный доверительный интервал, стабильную работу модели (низкое RMSE на предыдущих этапах). По этой причине разрабатывать скважины лучше всего в регионе 2 — он обеспечивает наибольшую потенциальную прибыль при нулевом риске убытков."
   ]
  },
  {
   "cell_type": "markdown",
   "metadata": {},
   "source": [
    "<div class=\"alert alert-info\">\n",
    "<font size=\"4\">🍕<b> Комментарий ревьюера</b></font>\n",
    "    <br /> \n",
    "    <font size=\"3\", color = \"black\">\n",
    "<br />\n",
    "Финальные результаты было бы неплохо визуализировать, ведь они - то, ради чего вся работа делалась. Для этого подойдут ящики с усами или гистограммы распределений выборочных прибылей с нанесёнными на них границами найденных дов. интервалов."
   ]
  },
  {
   "cell_type": "markdown",
   "metadata": {},
   "source": [
    "Добавила визуализацию"
   ]
  },
  {
   "cell_type": "markdown",
   "metadata": {},
   "source": [
    "## Общий вывод"
   ]
  },
  {
   "cell_type": "markdown",
   "metadata": {},
   "source": [
    "**Цель проекта**\n",
    "\n",
    "Определить, в каком из трёх регионов целесообразно бурить новые скважины, чтобы:\n",
    "- максимизировать прибыль;\n",
    "- снизить риск убытков до минимума (менее 2.5%);\n",
    "- опираться на прогнозы модели линейной регрессии по трём признакам (`f0`, `f1`, `f2`).\n",
    "\n",
    "---\n",
    "\n",
    "**Обучение модели**\n",
    "\n",
    "- **Модель**: линейная регрессия  \n",
    "- **Данные**: по 100 000 скважин в каждом регионе  \n",
    "- **Деление**: 75% — обучение, 25% — валидация  \n",
    "\n",
    "| Регион    | Средний предсказанный объём (тыс. баррелей) | RMSE           |\n",
    "|-----------|----------------------------------------------|----------------|\n",
    "| Регион 1  | 92.4                                          | 37.8           |\n",
    "| Регион 2  | 68.7                                          | **0.89**      |\n",
    "| Регион 3  | 94.8                                          | 40.1           |\n",
    "\n",
    " *Наименьшая ошибка модели — в регионе 2*\n",
    "\n",
    "---\n",
    "\n",
    "**Подготовка к расчёту прибыли**\n",
    "\n",
    "- **Бюджет**: 10 млрд рублей  \n",
    "- **Цена за 1 тыс. баррелей**: 450 тыс. руб.  \n",
    "- **Выбираются 200 лучших скважин из 500**  \n",
    "\n",
    "**Безубыточный объём одной скважины:**\n",
    "\n",
    "min_volume = 10_000_000 / 200 / 450 = 111.1 тыс. баррелей\n",
    "\n",
    "\n",
    "| Регион    | Средний предсказанный объём | Достаточный? |\n",
    "|-----------|-----------------------------|---------------|\n",
    "| Регион 1  | 92.4                         | Нет         |\n",
    "| Регион 2  | 68.7                         | Нет         |\n",
    "| Регион 3  | 94.8                         | Нет         |\n",
    "\n",
    " *Предсказанные объёмы меньше порогового, но реальная прибыль может быть выше — проверим далее.*\n",
    "\n",
    "---\n",
    "\n",
    "**Расчёт прибыли и рисков (Bootstrap, 1000 выборок)**\n",
    "\n",
    "| Регион    | Средняя прибыль (₽)     | 95% доверительный интервал (₽)              | Риск убытков |\n",
    "|-----------|--------------------------|----------------------------------------------|---------------|\n",
    "| Регион 1  | 406,278,783 руб.               | от -117.7 до 911.7 млн                        | 6.70%         |\n",
    "| **Регион 2**  | **432,624,132 руб.**           | от 16.8 до 816.0  млн                       | **1.90%**     |\n",
    "| Регион 3  | 377,362,192 руб.               | от -170.8 до 901.8 млн                        | 7.40%         |\n",
    "\n",
    "---\n",
    "\n",
    "**Вывод и возможные рекомендации**\n",
    "\n",
    "У нас есть условие, что риск убытков должен быть меньше 2.5%\n",
    "- Регион 1 и регион 3 не соответствуют критерию (риск 6.7% и 7.4%).\n",
    "\n",
    "\n",
    "- Регион 2 — единственный, где риск ниже 2.5%, а именно 1.9%.\n",
    "Регион 2 также имеет:\n",
    "Самую высокую среднюю прибыль. Положительную нижнюю границу доверительного интервала (единственный регион, у которого уверенность в положительной прибыли ≥ 95%).\n",
    "\n",
    "---\n"
   ]
  },
  {
   "cell_type": "markdown",
   "metadata": {},
   "source": [
    "<div class=\"alert alert-info\">\n",
    "<font size=\"4\">🍕<b> Комментарий ревьюера</b></font>\n",
    "    <br /> \n",
    "    <font size=\"3\", color = \"black\">\n",
    "<br />\n",
    "Подведём итоги. В целом, хорошая работа, но несколько ошибок вынуждают меня отправить на доработку. Что жду к следующему разу:\n",
    "\n",
    "+ Обучение одних и тех же моделей не 3 раза :)\n",
    "+ Вычитание бюджета из дохода\n",
    "+ Использование функции прибыли внутри бутстрапа вместо дублирования логики кода\n",
    "+ Устранение бага с индексами\n",
    "\n",
    "На этом пока всё. Жду новую отправку!"
   ]
  },
  {
   "cell_type": "markdown",
   "metadata": {},
   "source": [
    "Хорошо, спасибо! Учту свои ошибки"
   ]
  },
  {
   "cell_type": "markdown",
   "metadata": {},
   "source": [
    "## Чек-лист готовности проекта"
   ]
  },
  {
   "cell_type": "markdown",
   "metadata": {},
   "source": [
    "Поставьте 'x' в выполненных пунктах. Далее нажмите Shift+Enter."
   ]
  },
  {
   "cell_type": "markdown",
   "metadata": {},
   "source": [
    "- [x]  Jupyter Notebook открыт\n",
    "- [ ]  Весь код выполняется без ошибок\n",
    "- [ ]  Ячейки с кодом расположены в порядке исполнения\n",
    "- [ ]  Выполнен шаг 1: данные подготовлены\n",
    "- [ ]  Выполнен шаг 2: модели обучены и проверены\n",
    "    - [ ]  Данные корректно разбиты на обучающую и валидационную выборки\n",
    "    - [ ]  Модели обучены, предсказания сделаны\n",
    "    - [ ]  Предсказания и правильные ответы на валидационной выборке сохранены\n",
    "    - [ ]  На экране напечатаны результаты\n",
    "    - [ ]  Сделаны выводы\n",
    "- [ ]  Выполнен шаг 3: проведена подготовка к расчёту прибыли\n",
    "    - [ ]  Для всех ключевых значений созданы константы Python\n",
    "    - [ ]  Посчитано минимальное среднее количество продукта в месторождениях региона, достаточное для разработки\n",
    "    - [ ]  По предыдущему пункту сделаны выводы\n",
    "    - [ ]  Написана функция расчёта прибыли\n",
    "- [ ]  Выполнен шаг 4: посчитаны риски и прибыль\n",
    "    - [ ]  Проведена процедура *Bootstrap*\n",
    "    - [ ]  Все параметры бутстрепа соответствуют условию\n",
    "    - [ ]  Найдены все нужные величины\n",
    "    - [ ]  Предложен регион для разработки месторождения\n",
    "    - [ ]  Выбор региона обоснован"
   ]
  },
  {
   "cell_type": "code",
   "execution_count": null,
   "metadata": {},
   "outputs": [],
   "source": []
  }
 ],
 "metadata": {
  "ExecuteTimeLog": [
   {
    "duration": 12,
    "start_time": "2025-03-28T16:34:30.916Z"
   },
   {
    "duration": 1346,
    "start_time": "2025-06-01T10:33:10.348Z"
   },
   {
    "duration": 398,
    "start_time": "2025-06-01T10:34:15.095Z"
   },
   {
    "duration": 444,
    "start_time": "2025-06-01T10:35:18.415Z"
   },
   {
    "duration": 9,
    "start_time": "2025-06-01T10:36:30.910Z"
   },
   {
    "duration": 16,
    "start_time": "2025-06-01T10:37:34.947Z"
   },
   {
    "duration": 88,
    "start_time": "2025-06-01T10:46:32.565Z"
   },
   {
    "duration": 97,
    "start_time": "2025-06-01T10:47:18.146Z"
   },
   {
    "duration": 30,
    "start_time": "2025-06-01T10:47:35.585Z"
   },
   {
    "duration": 35,
    "start_time": "2025-06-01T10:48:38.294Z"
   },
   {
    "duration": 9,
    "start_time": "2025-06-01T10:56:25.638Z"
   },
   {
    "duration": 15,
    "start_time": "2025-06-01T10:57:05.137Z"
   },
   {
    "duration": 79,
    "start_time": "2025-06-01T10:57:56.137Z"
   },
   {
    "duration": 24,
    "start_time": "2025-06-01T10:58:15.962Z"
   },
   {
    "duration": 36,
    "start_time": "2025-06-01T10:58:50.451Z"
   },
   {
    "duration": 10,
    "start_time": "2025-06-01T11:02:29.642Z"
   },
   {
    "duration": 15,
    "start_time": "2025-06-01T11:02:50.170Z"
   },
   {
    "duration": 80,
    "start_time": "2025-06-01T11:03:16.691Z"
   },
   {
    "duration": 31,
    "start_time": "2025-06-01T11:03:36.936Z"
   },
   {
    "duration": 34,
    "start_time": "2025-06-01T11:03:51.372Z"
   },
   {
    "duration": 786,
    "start_time": "2025-06-01T11:09:48.534Z"
   },
   {
    "duration": 728,
    "start_time": "2025-06-01T11:10:01.703Z"
   },
   {
    "duration": 772,
    "start_time": "2025-06-01T11:10:07.415Z"
   },
   {
    "duration": 834,
    "start_time": "2025-06-01T11:10:13.452Z"
   },
   {
    "duration": 1768238,
    "start_time": "2025-06-01T11:10:46.342Z"
   },
   {
    "duration": 698,
    "start_time": "2025-06-01T13:30:39.369Z"
   },
   {
    "duration": 752,
    "start_time": "2025-06-01T13:31:01.692Z"
   },
   {
    "duration": 639,
    "start_time": "2025-06-01T13:32:42.951Z"
   },
   {
    "duration": 642,
    "start_time": "2025-06-01T13:32:51.059Z"
   },
   {
    "duration": 363,
    "start_time": "2025-06-01T13:33:46.161Z"
   },
   {
    "duration": 33,
    "start_time": "2025-06-01T13:43:14.968Z"
   },
   {
    "duration": 10,
    "start_time": "2025-06-01T13:53:23.279Z"
   },
   {
    "duration": 801,
    "start_time": "2025-06-01T13:59:33.811Z"
   },
   {
    "duration": 612,
    "start_time": "2025-06-01T13:59:49.970Z"
   },
   {
    "duration": 808,
    "start_time": "2025-06-01T13:59:55.839Z"
   },
   {
    "duration": 847,
    "start_time": "2025-06-01T14:00:07.228Z"
   },
   {
    "duration": 807,
    "start_time": "2025-06-01T14:00:27.945Z"
   },
   {
    "duration": 688,
    "start_time": "2025-06-01T14:00:49.719Z"
   },
   {
    "duration": 589,
    "start_time": "2025-06-01T14:01:03.398Z"
   },
   {
    "duration": 61,
    "start_time": "2025-06-01T14:09:01.466Z"
   },
   {
    "duration": 1274,
    "start_time": "2025-06-01T14:09:12.567Z"
   },
   {
    "duration": 506,
    "start_time": "2025-06-01T14:09:13.844Z"
   },
   {
    "duration": 11,
    "start_time": "2025-06-01T14:09:14.354Z"
   },
   {
    "duration": 21,
    "start_time": "2025-06-01T14:09:14.367Z"
   },
   {
    "duration": 129,
    "start_time": "2025-06-01T14:09:14.391Z"
   },
   {
    "duration": 38,
    "start_time": "2025-06-01T14:09:14.522Z"
   },
   {
    "duration": 49,
    "start_time": "2025-06-01T14:09:14.562Z"
   },
   {
    "duration": 27,
    "start_time": "2025-06-01T14:09:14.613Z"
   },
   {
    "duration": 20,
    "start_time": "2025-06-01T14:09:14.643Z"
   },
   {
    "duration": 135,
    "start_time": "2025-06-01T14:09:14.665Z"
   },
   {
    "duration": 26,
    "start_time": "2025-06-01T14:09:14.801Z"
   },
   {
    "duration": 55,
    "start_time": "2025-06-01T14:09:14.828Z"
   },
   {
    "duration": 8,
    "start_time": "2025-06-01T14:09:14.887Z"
   },
   {
    "duration": 15,
    "start_time": "2025-06-01T14:09:14.899Z"
   },
   {
    "duration": 127,
    "start_time": "2025-06-01T14:09:14.940Z"
   },
   {
    "duration": 43,
    "start_time": "2025-06-01T14:09:15.068Z"
   },
   {
    "duration": 62,
    "start_time": "2025-06-01T14:09:15.113Z"
   },
   {
    "duration": 1007,
    "start_time": "2025-06-01T14:09:15.177Z"
   },
   {
    "duration": 786,
    "start_time": "2025-06-01T14:09:16.186Z"
   },
   {
    "duration": 931,
    "start_time": "2025-06-01T14:09:16.973Z"
   },
   {
    "duration": 743,
    "start_time": "2025-06-01T14:09:17.906Z"
   },
   {
    "duration": 554,
    "start_time": "2025-06-01T14:09:18.650Z"
   },
   {
    "duration": 11,
    "start_time": "2025-06-01T14:09:19.206Z"
   },
   {
    "duration": 886,
    "start_time": "2025-06-01T14:09:19.218Z"
   },
   {
    "duration": 855,
    "start_time": "2025-06-01T14:09:20.106Z"
   },
   {
    "duration": 663,
    "start_time": "2025-06-01T14:09:20.963Z"
   },
   {
    "duration": 754,
    "start_time": "2025-06-01T14:10:47.637Z"
   },
   {
    "duration": 805,
    "start_time": "2025-06-01T14:10:58.682Z"
   },
   {
    "duration": 652,
    "start_time": "2025-06-01T14:11:07.006Z"
   },
   {
    "duration": 1700020,
    "start_time": "2025-06-01T14:12:12.434Z"
   },
   {
    "duration": 1415,
    "start_time": "2025-06-04T06:58:36.724Z"
   },
   {
    "duration": 488,
    "start_time": "2025-06-04T06:58:38.142Z"
   },
   {
    "duration": 10,
    "start_time": "2025-06-04T06:58:38.632Z"
   },
   {
    "duration": 40,
    "start_time": "2025-06-04T06:58:38.644Z"
   },
   {
    "duration": 116,
    "start_time": "2025-06-04T06:58:38.686Z"
   },
   {
    "duration": 36,
    "start_time": "2025-06-04T06:58:38.804Z"
   },
   {
    "duration": 58,
    "start_time": "2025-06-04T06:58:38.842Z"
   },
   {
    "duration": 10,
    "start_time": "2025-06-04T06:58:38.901Z"
   },
   {
    "duration": 17,
    "start_time": "2025-06-04T06:58:38.912Z"
   },
   {
    "duration": 118,
    "start_time": "2025-06-04T06:58:38.932Z"
   },
   {
    "duration": 41,
    "start_time": "2025-06-04T06:58:39.052Z"
   },
   {
    "duration": 38,
    "start_time": "2025-06-04T06:58:39.095Z"
   },
   {
    "duration": 9,
    "start_time": "2025-06-04T06:58:39.135Z"
   },
   {
    "duration": 36,
    "start_time": "2025-06-04T06:58:39.146Z"
   },
   {
    "duration": 114,
    "start_time": "2025-06-04T06:58:39.184Z"
   },
   {
    "duration": 38,
    "start_time": "2025-06-04T06:58:39.300Z"
   },
   {
    "duration": 61,
    "start_time": "2025-06-04T06:58:39.340Z"
   },
   {
    "duration": 822,
    "start_time": "2025-06-04T06:58:39.403Z"
   },
   {
    "duration": 764,
    "start_time": "2025-06-04T06:58:40.226Z"
   },
   {
    "duration": 875,
    "start_time": "2025-06-04T06:58:40.992Z"
   },
   {
    "duration": 824,
    "start_time": "2025-06-04T06:58:41.872Z"
   },
   {
    "duration": 537,
    "start_time": "2025-06-04T06:58:42.698Z"
   },
   {
    "duration": 12,
    "start_time": "2025-06-04T06:58:43.237Z"
   },
   {
    "duration": 782,
    "start_time": "2025-06-04T06:58:43.251Z"
   },
   {
    "duration": 827,
    "start_time": "2025-06-04T06:58:44.035Z"
   },
   {
    "duration": 669,
    "start_time": "2025-06-04T06:59:51.036Z"
   },
   {
    "duration": 700,
    "start_time": "2025-06-04T06:59:57.378Z"
   },
   {
    "duration": 796,
    "start_time": "2025-06-04T07:00:05.186Z"
   },
   {
    "duration": 475,
    "start_time": "2025-06-04T07:13:41.893Z"
   },
   {
    "duration": 1251,
    "start_time": "2025-06-04T07:16:06.150Z"
   },
   {
    "duration": 458,
    "start_time": "2025-06-04T07:16:07.403Z"
   },
   {
    "duration": 16,
    "start_time": "2025-06-04T07:16:07.863Z"
   },
   {
    "duration": 26,
    "start_time": "2025-06-04T07:16:07.881Z"
   },
   {
    "duration": 117,
    "start_time": "2025-06-04T07:16:07.909Z"
   },
   {
    "duration": 44,
    "start_time": "2025-06-04T07:16:08.028Z"
   },
   {
    "duration": 42,
    "start_time": "2025-06-04T07:16:08.074Z"
   },
   {
    "duration": 11,
    "start_time": "2025-06-04T07:16:08.118Z"
   },
   {
    "duration": 42,
    "start_time": "2025-06-04T07:16:08.131Z"
   },
   {
    "duration": 120,
    "start_time": "2025-06-04T07:16:08.176Z"
   },
   {
    "duration": 28,
    "start_time": "2025-06-04T07:16:08.298Z"
   },
   {
    "duration": 58,
    "start_time": "2025-06-04T07:16:08.327Z"
   },
   {
    "duration": 11,
    "start_time": "2025-06-04T07:16:08.386Z"
   },
   {
    "duration": 17,
    "start_time": "2025-06-04T07:16:08.399Z"
   },
   {
    "duration": 132,
    "start_time": "2025-06-04T07:16:08.417Z"
   },
   {
    "duration": 48,
    "start_time": "2025-06-04T07:16:08.550Z"
   },
   {
    "duration": 40,
    "start_time": "2025-06-04T07:16:08.599Z"
   },
   {
    "duration": 865,
    "start_time": "2025-06-04T07:16:08.641Z"
   },
   {
    "duration": 763,
    "start_time": "2025-06-04T07:16:09.508Z"
   },
   {
    "duration": 901,
    "start_time": "2025-06-04T07:16:10.273Z"
   },
   {
    "duration": 788,
    "start_time": "2025-06-04T07:16:11.176Z"
   },
   {
    "duration": 559,
    "start_time": "2025-06-04T07:16:11.966Z"
   },
   {
    "duration": 12,
    "start_time": "2025-06-04T07:16:12.526Z"
   },
   {
    "duration": 797,
    "start_time": "2025-06-04T07:16:12.540Z"
   },
   {
    "duration": 821,
    "start_time": "2025-06-04T07:16:13.338Z"
   },
   {
    "duration": 10,
    "start_time": "2025-06-04T07:16:22.521Z"
   },
   {
    "duration": 10,
    "start_time": "2025-06-04T07:16:59.118Z"
   },
   {
    "duration": 5,
    "start_time": "2025-06-04T07:18:33.079Z"
   },
   {
    "duration": 162,
    "start_time": "2025-06-04T07:18:59.607Z"
   },
   {
    "duration": 767,
    "start_time": "2025-06-04T07:20:02.767Z"
   },
   {
    "duration": 7,
    "start_time": "2025-06-04T07:29:24.606Z"
   },
   {
    "duration": 225,
    "start_time": "2025-06-04T07:30:11.803Z"
   },
   {
    "duration": 376,
    "start_time": "2025-06-04T07:30:20.704Z"
   },
   {
    "duration": 245,
    "start_time": "2025-06-04T07:30:30.461Z"
   },
   {
    "duration": 261,
    "start_time": "2025-06-04T07:30:36.938Z"
   },
   {
    "duration": 49,
    "start_time": "2025-06-04T07:33:12.603Z"
   },
   {
    "duration": 12,
    "start_time": "2025-06-04T07:40:51.508Z"
   },
   {
    "duration": 12,
    "start_time": "2025-06-04T07:41:28.746Z"
   },
   {
    "duration": 814,
    "start_time": "2025-06-04T07:44:48.161Z"
   },
   {
    "duration": 899,
    "start_time": "2025-06-04T07:45:20.275Z"
   },
   {
    "duration": 825,
    "start_time": "2025-06-04T07:45:40.813Z"
   },
   {
    "duration": 762,
    "start_time": "2025-06-04T07:46:21.969Z"
   },
   {
    "duration": 880,
    "start_time": "2025-06-04T07:46:32.322Z"
   },
   {
    "duration": 452,
    "start_time": "2025-06-04T07:47:07.576Z"
   },
   {
    "duration": 53,
    "start_time": "2025-06-04T10:09:56.734Z"
   },
   {
    "duration": 1443,
    "start_time": "2025-06-04T10:10:05.109Z"
   },
   {
    "duration": 502,
    "start_time": "2025-06-04T10:10:06.554Z"
   },
   {
    "duration": 12,
    "start_time": "2025-06-04T10:10:07.058Z"
   },
   {
    "duration": 89,
    "start_time": "2025-06-04T10:10:07.071Z"
   },
   {
    "duration": 115,
    "start_time": "2025-06-04T10:10:07.162Z"
   },
   {
    "duration": 36,
    "start_time": "2025-06-04T10:10:07.279Z"
   },
   {
    "duration": 60,
    "start_time": "2025-06-04T10:10:07.317Z"
   },
   {
    "duration": 10,
    "start_time": "2025-06-04T10:10:07.379Z"
   },
   {
    "duration": 52,
    "start_time": "2025-06-04T10:10:07.391Z"
   },
   {
    "duration": 106,
    "start_time": "2025-06-04T10:10:07.445Z"
   },
   {
    "duration": 34,
    "start_time": "2025-06-04T10:10:07.553Z"
   },
   {
    "duration": 42,
    "start_time": "2025-06-04T10:10:07.589Z"
   },
   {
    "duration": 31,
    "start_time": "2025-06-04T10:10:07.633Z"
   },
   {
    "duration": 19,
    "start_time": "2025-06-04T10:10:07.668Z"
   },
   {
    "duration": 137,
    "start_time": "2025-06-04T10:10:07.689Z"
   },
   {
    "duration": 50,
    "start_time": "2025-06-04T10:10:07.827Z"
   },
   {
    "duration": 45,
    "start_time": "2025-06-04T10:10:07.879Z"
   },
   {
    "duration": 904,
    "start_time": "2025-06-04T10:10:07.926Z"
   },
   {
    "duration": 758,
    "start_time": "2025-06-04T10:10:08.833Z"
   },
   {
    "duration": 917,
    "start_time": "2025-06-04T10:10:09.594Z"
   },
   {
    "duration": 771,
    "start_time": "2025-06-04T10:10:10.513Z"
   },
   {
    "duration": 556,
    "start_time": "2025-06-04T10:10:11.286Z"
   },
   {
    "duration": 22,
    "start_time": "2025-06-04T10:10:11.844Z"
   },
   {
    "duration": 871,
    "start_time": "2025-06-04T10:10:11.868Z"
   },
   {
    "duration": 21,
    "start_time": "2025-06-04T10:10:12.741Z"
   },
   {
    "duration": 905,
    "start_time": "2025-06-04T10:10:12.765Z"
   },
   {
    "duration": 739,
    "start_time": "2025-06-04T10:10:13.672Z"
   },
   {
    "duration": 10,
    "start_time": "2025-06-04T10:10:14.413Z"
   },
   {
    "duration": 23,
    "start_time": "2025-06-04T10:10:14.425Z"
   },
   {
    "duration": 170,
    "start_time": "2025-06-04T10:10:14.450Z"
   },
   {
    "duration": 683,
    "start_time": "2025-06-04T10:10:14.622Z"
   },
   {
    "duration": 7,
    "start_time": "2025-06-04T10:10:15.307Z"
   },
   {
    "duration": 373,
    "start_time": "2025-06-04T10:10:15.316Z"
   },
   {
    "duration": 477,
    "start_time": "2025-06-04T10:10:15.691Z"
   },
   {
    "duration": 15,
    "start_time": "2025-06-04T10:10:16.169Z"
   },
   {
    "duration": 18,
    "start_time": "2025-06-04T10:10:16.186Z"
   },
   {
    "duration": 894,
    "start_time": "2025-06-04T10:10:16.206Z"
   },
   {
    "duration": 889,
    "start_time": "2025-06-04T10:10:17.102Z"
   },
   {
    "duration": 872,
    "start_time": "2025-06-04T10:10:17.993Z"
   },
   {
    "duration": 936,
    "start_time": "2025-06-04T10:10:18.867Z"
   },
   {
    "duration": 515,
    "start_time": "2025-06-04T10:10:19.807Z"
   },
   {
    "duration": 44,
    "start_time": "2025-06-04T10:10:40.267Z"
   },
   {
    "duration": 13,
    "start_time": "2025-06-04T10:16:51.840Z"
   },
   {
    "duration": 12,
    "start_time": "2025-06-04T10:17:15.061Z"
   },
   {
    "duration": 12,
    "start_time": "2025-06-04T10:17:26.051Z"
   },
   {
    "duration": 13,
    "start_time": "2025-06-04T10:17:45.809Z"
   },
   {
    "duration": 338,
    "start_time": "2025-06-04T10:31:27.973Z"
   },
   {
    "duration": 321,
    "start_time": "2025-06-04T10:31:59.985Z"
   },
   {
    "duration": 322,
    "start_time": "2025-06-04T10:32:26.675Z"
   },
   {
    "duration": 1897,
    "start_time": "2025-06-04T11:21:25.362Z"
   },
   {
    "duration": 459,
    "start_time": "2025-06-04T11:21:27.261Z"
   },
   {
    "duration": 10,
    "start_time": "2025-06-04T11:21:27.722Z"
   },
   {
    "duration": 30,
    "start_time": "2025-06-04T11:21:27.734Z"
   },
   {
    "duration": 111,
    "start_time": "2025-06-04T11:21:27.767Z"
   },
   {
    "duration": 34,
    "start_time": "2025-06-04T11:21:27.879Z"
   },
   {
    "duration": 73,
    "start_time": "2025-06-04T11:21:27.915Z"
   },
   {
    "duration": 13,
    "start_time": "2025-06-04T11:21:27.991Z"
   },
   {
    "duration": 18,
    "start_time": "2025-06-04T11:21:28.006Z"
   },
   {
    "duration": 123,
    "start_time": "2025-06-04T11:21:28.026Z"
   },
   {
    "duration": 29,
    "start_time": "2025-06-04T11:21:28.151Z"
   },
   {
    "duration": 36,
    "start_time": "2025-06-04T11:21:28.182Z"
   },
   {
    "duration": 9,
    "start_time": "2025-06-04T11:21:28.219Z"
   },
   {
    "duration": 68,
    "start_time": "2025-06-04T11:21:28.231Z"
   },
   {
    "duration": 113,
    "start_time": "2025-06-04T11:21:28.301Z"
   },
   {
    "duration": 35,
    "start_time": "2025-06-04T11:21:28.416Z"
   },
   {
    "duration": 47,
    "start_time": "2025-06-04T11:21:28.452Z"
   },
   {
    "duration": 795,
    "start_time": "2025-06-04T11:21:28.501Z"
   },
   {
    "duration": 760,
    "start_time": "2025-06-04T11:21:29.298Z"
   },
   {
    "duration": 933,
    "start_time": "2025-06-04T11:21:30.062Z"
   },
   {
    "duration": 771,
    "start_time": "2025-06-04T11:21:30.997Z"
   },
   {
    "duration": 442,
    "start_time": "2025-06-04T11:21:31.770Z"
   },
   {
    "duration": 10,
    "start_time": "2025-06-04T11:21:32.214Z"
   },
   {
    "duration": 477,
    "start_time": "2025-06-04T11:21:32.226Z"
   },
   {
    "duration": 786,
    "start_time": "2025-06-04T11:21:32.704Z"
   },
   {
    "duration": 9,
    "start_time": "2025-06-04T11:21:33.492Z"
   },
   {
    "duration": 940,
    "start_time": "2025-06-04T11:21:33.503Z"
   },
   {
    "duration": 613,
    "start_time": "2025-06-04T11:21:34.445Z"
   },
   {
    "duration": 9,
    "start_time": "2025-06-04T11:21:35.060Z"
   },
   {
    "duration": 86,
    "start_time": "2025-06-04T11:21:35.070Z"
   },
   {
    "duration": 187,
    "start_time": "2025-06-04T11:21:35.157Z"
   },
   {
    "duration": 621,
    "start_time": "2025-06-04T11:21:35.345Z"
   },
   {
    "duration": 6,
    "start_time": "2025-06-04T11:21:35.968Z"
   },
   {
    "duration": 255,
    "start_time": "2025-06-04T11:21:35.976Z"
   },
   {
    "duration": 434,
    "start_time": "2025-06-04T11:21:36.232Z"
   },
   {
    "duration": 20,
    "start_time": "2025-06-04T11:21:36.668Z"
   },
   {
    "duration": 44,
    "start_time": "2025-06-04T11:21:36.690Z"
   },
   {
    "duration": 351,
    "start_time": "2025-06-04T11:21:36.737Z"
   },
   {
    "duration": 1007,
    "start_time": "2025-06-04T11:21:37.090Z"
   },
   {
    "duration": 863,
    "start_time": "2025-06-04T11:21:38.099Z"
   },
   {
    "duration": 867,
    "start_time": "2025-06-04T11:21:38.966Z"
   },
   {
    "duration": 763,
    "start_time": "2025-06-04T11:21:39.835Z"
   },
   {
    "duration": 579,
    "start_time": "2025-06-04T11:21:40.600Z"
   },
   {
    "duration": 40,
    "start_time": "2025-06-04T11:21:41.181Z"
   },
   {
    "duration": 12,
    "start_time": "2025-06-04T11:21:41.222Z"
   },
   {
    "duration": 37,
    "start_time": "2025-06-04T11:21:41.236Z"
   },
   {
    "duration": 46,
    "start_time": "2025-06-04T11:21:41.274Z"
   },
   {
    "duration": 364,
    "start_time": "2025-06-04T11:21:41.322Z"
   },
   {
    "duration": 123,
    "start_time": "2025-06-04T11:21:41.688Z"
   },
   {
    "duration": 5,
    "start_time": "2025-06-04T11:25:06.267Z"
   },
   {
    "duration": 26,
    "start_time": "2025-06-04T11:25:07.100Z"
   },
   {
    "duration": 369,
    "start_time": "2025-06-04T11:28:41.297Z"
   },
   {
    "duration": 417,
    "start_time": "2025-06-04T11:28:53.861Z"
   },
   {
    "duration": 13,
    "start_time": "2025-06-04T11:37:56.018Z"
   },
   {
    "duration": 323,
    "start_time": "2025-06-04T11:39:08.950Z"
   },
   {
    "duration": 2,
    "start_time": "2025-06-04T11:43:22.693Z"
   },
   {
    "duration": 3,
    "start_time": "2025-06-04T11:52:11.369Z"
   },
   {
    "duration": 2,
    "start_time": "2025-06-04T11:52:35.639Z"
   },
   {
    "duration": 3,
    "start_time": "2025-06-04T11:52:38.174Z"
   },
   {
    "duration": 15,
    "start_time": "2025-06-04T11:53:57.607Z"
   },
   {
    "duration": 3,
    "start_time": "2025-06-04T11:58:45.853Z"
   },
   {
    "duration": 10,
    "start_time": "2025-06-04T11:58:46.939Z"
   },
   {
    "duration": 4,
    "start_time": "2025-06-04T12:01:07.630Z"
   },
   {
    "duration": 1696,
    "start_time": "2025-06-05T08:11:14.039Z"
   },
   {
    "duration": 447,
    "start_time": "2025-06-05T08:11:15.737Z"
   },
   {
    "duration": 9,
    "start_time": "2025-06-05T08:11:16.186Z"
   },
   {
    "duration": 19,
    "start_time": "2025-06-05T08:11:16.196Z"
   },
   {
    "duration": 110,
    "start_time": "2025-06-05T08:11:16.217Z"
   },
   {
    "duration": 41,
    "start_time": "2025-06-05T08:11:16.329Z"
   },
   {
    "duration": 38,
    "start_time": "2025-06-05T08:11:16.371Z"
   },
   {
    "duration": 9,
    "start_time": "2025-06-05T08:11:16.411Z"
   },
   {
    "duration": 23,
    "start_time": "2025-06-05T08:11:16.421Z"
   },
   {
    "duration": 104,
    "start_time": "2025-06-05T08:11:16.462Z"
   },
   {
    "duration": 26,
    "start_time": "2025-06-05T08:11:16.568Z"
   },
   {
    "duration": 35,
    "start_time": "2025-06-05T08:11:16.596Z"
   },
   {
    "duration": 30,
    "start_time": "2025-06-05T08:11:16.633Z"
   },
   {
    "duration": 14,
    "start_time": "2025-06-05T08:11:16.666Z"
   },
   {
    "duration": 112,
    "start_time": "2025-06-05T08:11:16.682Z"
   },
   {
    "duration": 33,
    "start_time": "2025-06-05T08:11:16.796Z"
   },
   {
    "duration": 53,
    "start_time": "2025-06-05T08:11:16.830Z"
   },
   {
    "duration": 766,
    "start_time": "2025-06-05T08:11:16.885Z"
   },
   {
    "duration": 699,
    "start_time": "2025-06-05T08:11:17.653Z"
   },
   {
    "duration": 843,
    "start_time": "2025-06-05T08:11:18.354Z"
   },
   {
    "duration": 713,
    "start_time": "2025-06-05T08:11:19.199Z"
   },
   {
    "duration": 416,
    "start_time": "2025-06-05T08:11:19.914Z"
   },
   {
    "duration": 11,
    "start_time": "2025-06-05T08:11:20.332Z"
   },
   {
    "duration": 337,
    "start_time": "2025-06-05T08:11:20.345Z"
   },
   {
    "duration": 778,
    "start_time": "2025-06-05T08:11:20.684Z"
   },
   {
    "duration": 10,
    "start_time": "2025-06-05T08:11:21.464Z"
   },
   {
    "duration": 925,
    "start_time": "2025-06-05T08:11:21.475Z"
   },
   {
    "duration": 629,
    "start_time": "2025-06-05T08:11:22.402Z"
   },
   {
    "duration": 10,
    "start_time": "2025-06-05T08:11:23.032Z"
   },
   {
    "duration": 4,
    "start_time": "2025-06-05T08:11:23.043Z"
   },
   {
    "duration": 145,
    "start_time": "2025-06-05T08:11:23.061Z"
   },
   {
    "duration": 631,
    "start_time": "2025-06-05T08:11:23.208Z"
   },
   {
    "duration": 6,
    "start_time": "2025-06-05T08:11:23.841Z"
   },
   {
    "duration": 232,
    "start_time": "2025-06-05T08:11:23.848Z"
   },
   {
    "duration": 404,
    "start_time": "2025-06-05T08:11:24.082Z"
   },
   {
    "duration": 18,
    "start_time": "2025-06-05T08:11:24.488Z"
   },
   {
    "duration": 11,
    "start_time": "2025-06-05T08:11:24.508Z"
   },
   {
    "duration": 343,
    "start_time": "2025-06-05T08:11:24.520Z"
   },
   {
    "duration": 941,
    "start_time": "2025-06-05T08:11:24.865Z"
   },
   {
    "duration": 797,
    "start_time": "2025-06-05T08:11:25.808Z"
   },
   {
    "duration": 768,
    "start_time": "2025-06-05T08:11:26.608Z"
   },
   {
    "duration": 784,
    "start_time": "2025-06-05T08:11:27.378Z"
   },
   {
    "duration": 545,
    "start_time": "2025-06-05T08:11:28.163Z"
   },
   {
    "duration": 35,
    "start_time": "2025-06-05T08:11:28.710Z"
   },
   {
    "duration": 23,
    "start_time": "2025-06-05T08:11:28.747Z"
   },
   {
    "duration": 10,
    "start_time": "2025-06-05T08:11:28.772Z"
   },
   {
    "duration": 11,
    "start_time": "2025-06-05T08:11:28.783Z"
   },
   {
    "duration": 352,
    "start_time": "2025-06-05T08:11:28.795Z"
   },
   {
    "duration": 4,
    "start_time": "2025-06-05T08:11:29.149Z"
   },
   {
    "duration": 410,
    "start_time": "2025-06-05T08:11:29.161Z"
   },
   {
    "duration": 497,
    "start_time": "2025-06-05T08:11:29.573Z"
   },
   {
    "duration": 90,
    "start_time": "2025-06-05T08:11:30.073Z"
   },
   {
    "duration": 97,
    "start_time": "2025-06-05T08:11:30.166Z"
   },
   {
    "duration": 4,
    "start_time": "2025-06-05T08:46:33.682Z"
   },
   {
    "duration": 404,
    "start_time": "2025-06-05T08:46:37.559Z"
   },
   {
    "duration": 119,
    "start_time": "2025-06-05T08:46:40.156Z"
   },
   {
    "duration": 3,
    "start_time": "2025-06-05T08:47:02.758Z"
   },
   {
    "duration": 388,
    "start_time": "2025-06-05T08:47:03.478Z"
   },
   {
    "duration": 14,
    "start_time": "2025-06-05T08:47:04.135Z"
   },
   {
    "duration": 1468,
    "start_time": "2025-06-05T09:33:05.793Z"
   },
   {
    "duration": 475,
    "start_time": "2025-06-05T09:33:07.263Z"
   },
   {
    "duration": 10,
    "start_time": "2025-06-05T09:33:07.740Z"
   },
   {
    "duration": 59,
    "start_time": "2025-06-05T09:33:07.763Z"
   },
   {
    "duration": 103,
    "start_time": "2025-06-05T09:33:07.824Z"
   },
   {
    "duration": 58,
    "start_time": "2025-06-05T09:33:07.930Z"
   },
   {
    "duration": 40,
    "start_time": "2025-06-05T09:33:07.990Z"
   },
   {
    "duration": 9,
    "start_time": "2025-06-05T09:33:08.032Z"
   },
   {
    "duration": 16,
    "start_time": "2025-06-05T09:33:08.063Z"
   },
   {
    "duration": 109,
    "start_time": "2025-06-05T09:33:08.082Z"
   },
   {
    "duration": 27,
    "start_time": "2025-06-05T09:33:08.193Z"
   },
   {
    "duration": 53,
    "start_time": "2025-06-05T09:33:08.222Z"
   },
   {
    "duration": 9,
    "start_time": "2025-06-05T09:33:08.277Z"
   },
   {
    "duration": 31,
    "start_time": "2025-06-05T09:33:08.288Z"
   },
   {
    "duration": 101,
    "start_time": "2025-06-05T09:33:08.321Z"
   },
   {
    "duration": 45,
    "start_time": "2025-06-05T09:33:08.424Z"
   },
   {
    "duration": 38,
    "start_time": "2025-06-05T09:33:08.471Z"
   },
   {
    "duration": 764,
    "start_time": "2025-06-05T09:33:08.510Z"
   },
   {
    "duration": 798,
    "start_time": "2025-06-05T09:33:09.276Z"
   },
   {
    "duration": 1005,
    "start_time": "2025-06-05T09:33:10.076Z"
   },
   {
    "duration": 737,
    "start_time": "2025-06-05T09:33:11.083Z"
   },
   {
    "duration": 427,
    "start_time": "2025-06-05T09:33:11.822Z"
   },
   {
    "duration": 16,
    "start_time": "2025-06-05T09:33:12.251Z"
   },
   {
    "duration": 331,
    "start_time": "2025-06-05T09:33:12.268Z"
   },
   {
    "duration": 794,
    "start_time": "2025-06-05T09:33:12.600Z"
   },
   {
    "duration": 10,
    "start_time": "2025-06-05T09:33:13.396Z"
   },
   {
    "duration": 906,
    "start_time": "2025-06-05T09:33:13.407Z"
   },
   {
    "duration": 633,
    "start_time": "2025-06-05T09:33:14.317Z"
   },
   {
    "duration": 14,
    "start_time": "2025-06-05T09:33:14.952Z"
   },
   {
    "duration": 4,
    "start_time": "2025-06-05T09:33:14.967Z"
   },
   {
    "duration": 162,
    "start_time": "2025-06-05T09:33:14.973Z"
   },
   {
    "duration": 617,
    "start_time": "2025-06-05T09:33:15.136Z"
   },
   {
    "duration": 12,
    "start_time": "2025-06-05T09:33:15.754Z"
   },
   {
    "duration": 272,
    "start_time": "2025-06-05T09:33:15.767Z"
   },
   {
    "duration": 414,
    "start_time": "2025-06-05T09:33:16.041Z"
   },
   {
    "duration": 23,
    "start_time": "2025-06-05T09:33:16.456Z"
   },
   {
    "duration": 11,
    "start_time": "2025-06-05T09:33:16.480Z"
   },
   {
    "duration": 330,
    "start_time": "2025-06-05T09:33:16.493Z"
   },
   {
    "duration": 918,
    "start_time": "2025-06-05T09:33:16.825Z"
   },
   {
    "duration": 812,
    "start_time": "2025-06-05T09:33:17.745Z"
   },
   {
    "duration": 854,
    "start_time": "2025-06-05T09:33:18.559Z"
   },
   {
    "duration": 768,
    "start_time": "2025-06-05T09:33:19.415Z"
   },
   {
    "duration": 557,
    "start_time": "2025-06-05T09:33:20.185Z"
   },
   {
    "duration": 48,
    "start_time": "2025-06-05T09:33:20.743Z"
   },
   {
    "duration": 23,
    "start_time": "2025-06-05T09:33:20.793Z"
   },
   {
    "duration": 50,
    "start_time": "2025-06-05T09:33:20.818Z"
   },
   {
    "duration": 12,
    "start_time": "2025-06-05T09:33:20.870Z"
   },
   {
    "duration": 386,
    "start_time": "2025-06-05T09:33:20.883Z"
   },
   {
    "duration": 5,
    "start_time": "2025-06-05T09:33:21.271Z"
   },
   {
    "duration": 396,
    "start_time": "2025-06-05T09:33:21.278Z"
   },
   {
    "duration": 497,
    "start_time": "2025-06-05T09:33:21.677Z"
   },
   {
    "duration": 88,
    "start_time": "2025-06-05T09:33:22.177Z"
   },
   {
    "duration": 96,
    "start_time": "2025-06-05T09:33:22.267Z"
   },
   {
    "duration": 5,
    "start_time": "2025-06-05T09:33:22.365Z"
   },
   {
    "duration": 397,
    "start_time": "2025-06-05T09:33:22.372Z"
   },
   {
    "duration": 192,
    "start_time": "2025-06-05T09:33:22.771Z"
   },
   {
    "duration": 9,
    "start_time": "2025-06-05T09:33:22.965Z"
   },
   {
    "duration": 3911,
    "start_time": "2025-06-05T09:33:22.977Z"
   },
   {
    "duration": 116,
    "start_time": "2025-06-05T09:40:33.103Z"
   },
   {
    "duration": 1753,
    "start_time": "2025-06-05T10:24:55.907Z"
   },
   {
    "duration": 457,
    "start_time": "2025-06-05T10:24:57.662Z"
   },
   {
    "duration": 10,
    "start_time": "2025-06-05T10:24:58.120Z"
   },
   {
    "duration": 26,
    "start_time": "2025-06-05T10:24:58.133Z"
   },
   {
    "duration": 119,
    "start_time": "2025-06-05T10:24:58.177Z"
   },
   {
    "duration": 41,
    "start_time": "2025-06-05T10:24:58.298Z"
   },
   {
    "duration": 75,
    "start_time": "2025-06-05T10:24:58.342Z"
   },
   {
    "duration": 12,
    "start_time": "2025-06-05T10:24:58.419Z"
   },
   {
    "duration": 38,
    "start_time": "2025-06-05T10:24:58.433Z"
   },
   {
    "duration": 104,
    "start_time": "2025-06-05T10:24:58.473Z"
   },
   {
    "duration": 27,
    "start_time": "2025-06-05T10:24:58.579Z"
   },
   {
    "duration": 37,
    "start_time": "2025-06-05T10:24:58.608Z"
   },
   {
    "duration": 68,
    "start_time": "2025-06-05T10:24:58.647Z"
   },
   {
    "duration": 18,
    "start_time": "2025-06-05T10:24:58.717Z"
   },
   {
    "duration": 101,
    "start_time": "2025-06-05T10:24:58.736Z"
   },
   {
    "duration": 43,
    "start_time": "2025-06-05T10:24:58.838Z"
   },
   {
    "duration": 38,
    "start_time": "2025-06-05T10:24:58.882Z"
   },
   {
    "duration": 770,
    "start_time": "2025-06-05T10:24:58.922Z"
   },
   {
    "duration": 782,
    "start_time": "2025-06-05T10:24:59.694Z"
   },
   {
    "duration": 859,
    "start_time": "2025-06-05T10:25:00.478Z"
   },
   {
    "duration": 764,
    "start_time": "2025-06-05T10:25:01.339Z"
   },
   {
    "duration": 436,
    "start_time": "2025-06-05T10:25:02.105Z"
   },
   {
    "duration": 12,
    "start_time": "2025-06-05T10:25:02.543Z"
   },
   {
    "duration": 961,
    "start_time": "2025-06-05T10:25:02.557Z"
   },
   {
    "duration": 11,
    "start_time": "2025-06-05T10:25:03.520Z"
   },
   {
    "duration": 1024,
    "start_time": "2025-06-05T10:25:03.533Z"
   },
   {
    "duration": 626,
    "start_time": "2025-06-05T10:25:04.558Z"
   },
   {
    "duration": 11,
    "start_time": "2025-06-05T10:25:05.189Z"
   },
   {
    "duration": 10,
    "start_time": "2025-06-05T10:25:05.201Z"
   },
   {
    "duration": 168,
    "start_time": "2025-06-05T10:25:05.213Z"
   },
   {
    "duration": 713,
    "start_time": "2025-06-05T10:25:05.382Z"
   },
   {
    "duration": 6,
    "start_time": "2025-06-05T10:25:06.097Z"
   },
   {
    "duration": 296,
    "start_time": "2025-06-05T10:25:06.104Z"
   },
   {
    "duration": 409,
    "start_time": "2025-06-05T10:25:06.401Z"
   },
   {
    "duration": 16,
    "start_time": "2025-06-05T10:25:06.811Z"
   },
   {
    "duration": 18,
    "start_time": "2025-06-05T10:25:06.829Z"
   },
   {
    "duration": 801,
    "start_time": "2025-06-05T10:25:06.849Z"
   },
   {
    "duration": 903,
    "start_time": "2025-06-05T10:25:07.652Z"
   },
   {
    "duration": 792,
    "start_time": "2025-06-05T10:25:08.557Z"
   },
   {
    "duration": 738,
    "start_time": "2025-06-05T10:25:09.351Z"
   },
   {
    "duration": 459,
    "start_time": "2025-06-05T10:25:10.091Z"
   },
   {
    "duration": 46,
    "start_time": "2025-06-05T10:25:10.552Z"
   },
   {
    "duration": 11,
    "start_time": "2025-06-05T10:25:10.600Z"
   },
   {
    "duration": 131,
    "start_time": "2025-06-05T10:25:10.612Z"
   },
   {
    "duration": 56,
    "start_time": "2025-06-05T10:25:10.745Z"
   },
   {
    "duration": 99,
    "start_time": "2025-06-05T10:25:10.803Z"
   },
   {
    "duration": 388,
    "start_time": "2025-06-05T10:25:10.904Z"
   },
   {
    "duration": 590,
    "start_time": "2025-06-05T10:25:11.295Z"
   },
   {
    "duration": 3,
    "start_time": "2025-06-05T10:25:11.887Z"
   },
   {
    "duration": 104,
    "start_time": "2025-06-05T10:25:11.978Z"
   },
   {
    "duration": 5,
    "start_time": "2025-06-05T10:25:12.084Z"
   },
   {
    "duration": 390,
    "start_time": "2025-06-05T10:25:12.091Z"
   },
   {
    "duration": 108,
    "start_time": "2025-06-05T10:25:12.483Z"
   },
   {
    "duration": 6,
    "start_time": "2025-06-05T10:25:12.676Z"
   },
   {
    "duration": 3859,
    "start_time": "2025-06-05T10:25:12.683Z"
   },
   {
    "duration": 5,
    "start_time": "2025-06-05T10:30:07.294Z"
   },
   {
    "duration": 6570,
    "start_time": "2025-06-05T10:30:08.526Z"
   },
   {
    "duration": 3,
    "start_time": "2025-06-05T10:30:27.278Z"
   },
   {
    "duration": 390,
    "start_time": "2025-06-05T10:30:27.800Z"
   },
   {
    "duration": 16,
    "start_time": "2025-06-05T10:31:44.535Z"
   },
   {
    "duration": 6,
    "start_time": "2025-06-05T10:32:31.784Z"
   },
   {
    "duration": 7392,
    "start_time": "2025-06-05T10:32:32.132Z"
   },
   {
    "duration": 6,
    "start_time": "2025-06-05T10:32:40.179Z"
   },
   {
    "duration": 7489,
    "start_time": "2025-06-05T10:32:40.671Z"
   },
   {
    "duration": 9,
    "start_time": "2025-06-05T10:38:54.141Z"
   },
   {
    "duration": 1537,
    "start_time": "2025-06-06T07:44:09.269Z"
   },
   {
    "duration": 448,
    "start_time": "2025-06-06T07:44:10.807Z"
   },
   {
    "duration": 8,
    "start_time": "2025-06-06T07:44:11.257Z"
   },
   {
    "duration": 26,
    "start_time": "2025-06-06T07:44:11.267Z"
   },
   {
    "duration": 102,
    "start_time": "2025-06-06T07:44:11.295Z"
   },
   {
    "duration": 39,
    "start_time": "2025-06-06T07:44:11.399Z"
   },
   {
    "duration": 37,
    "start_time": "2025-06-06T07:44:11.440Z"
   },
   {
    "duration": 43,
    "start_time": "2025-06-06T07:44:11.479Z"
   },
   {
    "duration": 15,
    "start_time": "2025-06-06T07:44:11.524Z"
   },
   {
    "duration": 81,
    "start_time": "2025-06-06T07:44:11.541Z"
   },
   {
    "duration": 36,
    "start_time": "2025-06-06T07:44:11.624Z"
   },
   {
    "duration": 34,
    "start_time": "2025-06-06T07:44:11.662Z"
   },
   {
    "duration": 8,
    "start_time": "2025-06-06T07:44:11.697Z"
   },
   {
    "duration": 41,
    "start_time": "2025-06-06T07:44:11.707Z"
   },
   {
    "duration": 99,
    "start_time": "2025-06-06T07:44:11.750Z"
   },
   {
    "duration": 33,
    "start_time": "2025-06-06T07:44:11.850Z"
   },
   {
    "duration": 54,
    "start_time": "2025-06-06T07:44:11.885Z"
   },
   {
    "duration": 791,
    "start_time": "2025-06-06T07:44:11.940Z"
   },
   {
    "duration": 753,
    "start_time": "2025-06-06T07:44:12.733Z"
   },
   {
    "duration": 907,
    "start_time": "2025-06-06T07:44:13.488Z"
   },
   {
    "duration": 709,
    "start_time": "2025-06-06T07:44:14.396Z"
   },
   {
    "duration": 400,
    "start_time": "2025-06-06T07:44:15.107Z"
   },
   {
    "duration": 11,
    "start_time": "2025-06-06T07:44:15.509Z"
   },
   {
    "duration": 820,
    "start_time": "2025-06-06T07:44:15.521Z"
   },
   {
    "duration": 9,
    "start_time": "2025-06-06T07:44:16.343Z"
   },
   {
    "duration": 908,
    "start_time": "2025-06-06T07:44:16.354Z"
   },
   {
    "duration": 635,
    "start_time": "2025-06-06T07:44:17.264Z"
   },
   {
    "duration": 9,
    "start_time": "2025-06-06T07:44:17.902Z"
   },
   {
    "duration": 13,
    "start_time": "2025-06-06T07:44:17.913Z"
   },
   {
    "duration": 147,
    "start_time": "2025-06-06T07:44:17.927Z"
   },
   {
    "duration": 633,
    "start_time": "2025-06-06T07:44:18.076Z"
   },
   {
    "duration": 6,
    "start_time": "2025-06-06T07:44:18.710Z"
   },
   {
    "duration": 270,
    "start_time": "2025-06-06T07:44:18.717Z"
   },
   {
    "duration": 384,
    "start_time": "2025-06-06T07:44:18.989Z"
   },
   {
    "duration": 14,
    "start_time": "2025-06-06T07:44:19.374Z"
   },
   {
    "duration": 18,
    "start_time": "2025-06-06T07:44:19.390Z"
   },
   {
    "duration": 775,
    "start_time": "2025-06-06T07:44:19.410Z"
   },
   {
    "duration": 875,
    "start_time": "2025-06-06T07:44:20.186Z"
   },
   {
    "duration": 788,
    "start_time": "2025-06-06T07:44:21.062Z"
   },
   {
    "duration": 752,
    "start_time": "2025-06-06T07:44:21.851Z"
   },
   {
    "duration": 406,
    "start_time": "2025-06-06T07:44:22.604Z"
   },
   {
    "duration": 43,
    "start_time": "2025-06-06T07:44:23.011Z"
   },
   {
    "duration": 10,
    "start_time": "2025-06-06T07:44:23.055Z"
   },
   {
    "duration": 96,
    "start_time": "2025-06-06T07:44:23.066Z"
   },
   {
    "duration": 10,
    "start_time": "2025-06-06T07:44:23.164Z"
   },
   {
    "duration": 8,
    "start_time": "2025-06-06T07:44:23.176Z"
   },
   {
    "duration": 358,
    "start_time": "2025-06-06T07:44:23.185Z"
   },
   {
    "duration": 4,
    "start_time": "2025-06-06T07:44:23.545Z"
   },
   {
    "duration": 3,
    "start_time": "2025-06-06T07:48:28.625Z"
   },
   {
    "duration": 3,
    "start_time": "2025-06-06T07:48:29.724Z"
   },
   {
    "duration": 4,
    "start_time": "2025-06-06T07:48:33.652Z"
   },
   {
    "duration": 3,
    "start_time": "2025-06-06T07:48:34.281Z"
   },
   {
    "duration": 16,
    "start_time": "2025-06-06T07:48:40.034Z"
   },
   {
    "duration": 1552,
    "start_time": "2025-06-06T11:07:37.069Z"
   },
   {
    "duration": 408,
    "start_time": "2025-06-06T11:07:38.623Z"
   },
   {
    "duration": 9,
    "start_time": "2025-06-06T11:07:39.035Z"
   },
   {
    "duration": 16,
    "start_time": "2025-06-06T11:07:39.046Z"
   },
   {
    "duration": 109,
    "start_time": "2025-06-06T11:07:39.064Z"
   },
   {
    "duration": 32,
    "start_time": "2025-06-06T11:07:39.175Z"
   },
   {
    "duration": 52,
    "start_time": "2025-06-06T11:07:39.209Z"
   },
   {
    "duration": 8,
    "start_time": "2025-06-06T11:07:39.263Z"
   },
   {
    "duration": 14,
    "start_time": "2025-06-06T11:07:39.273Z"
   },
   {
    "duration": 100,
    "start_time": "2025-06-06T11:07:39.291Z"
   },
   {
    "duration": 30,
    "start_time": "2025-06-06T11:07:39.393Z"
   },
   {
    "duration": 34,
    "start_time": "2025-06-06T11:07:39.436Z"
   },
   {
    "duration": 8,
    "start_time": "2025-06-06T11:07:39.472Z"
   },
   {
    "duration": 15,
    "start_time": "2025-06-06T11:07:39.482Z"
   },
   {
    "duration": 110,
    "start_time": "2025-06-06T11:07:39.498Z"
   },
   {
    "duration": 43,
    "start_time": "2025-06-06T11:07:39.609Z"
   },
   {
    "duration": 33,
    "start_time": "2025-06-06T11:07:39.653Z"
   },
   {
    "duration": 724,
    "start_time": "2025-06-06T11:07:39.687Z"
   },
   {
    "duration": 686,
    "start_time": "2025-06-06T11:07:40.413Z"
   },
   {
    "duration": 863,
    "start_time": "2025-06-06T11:07:41.101Z"
   },
   {
    "duration": 706,
    "start_time": "2025-06-06T11:07:41.966Z"
   },
   {
    "duration": 393,
    "start_time": "2025-06-06T11:07:42.674Z"
   },
   {
    "duration": 11,
    "start_time": "2025-06-06T11:07:43.069Z"
   },
   {
    "duration": 761,
    "start_time": "2025-06-06T11:07:43.081Z"
   },
   {
    "duration": 9,
    "start_time": "2025-06-06T11:07:43.844Z"
   },
   {
    "duration": 900,
    "start_time": "2025-06-06T11:07:43.854Z"
   },
   {
    "duration": 645,
    "start_time": "2025-06-06T11:07:44.756Z"
   },
   {
    "duration": 9,
    "start_time": "2025-06-06T11:07:45.404Z"
   },
   {
    "duration": 4,
    "start_time": "2025-06-06T11:07:45.415Z"
   },
   {
    "duration": 149,
    "start_time": "2025-06-06T11:07:45.420Z"
   },
   {
    "duration": 631,
    "start_time": "2025-06-06T11:07:45.571Z"
   },
   {
    "duration": 6,
    "start_time": "2025-06-06T11:07:46.204Z"
   },
   {
    "duration": 292,
    "start_time": "2025-06-06T11:07:46.211Z"
   },
   {
    "duration": 402,
    "start_time": "2025-06-06T11:07:46.506Z"
   },
   {
    "duration": 17,
    "start_time": "2025-06-06T11:07:46.909Z"
   },
   {
    "duration": 95,
    "start_time": "2025-06-06T11:07:46.936Z"
   },
   {
    "duration": 842,
    "start_time": "2025-06-06T11:07:47.033Z"
   },
   {
    "duration": 878,
    "start_time": "2025-06-06T11:07:47.877Z"
   },
   {
    "duration": 783,
    "start_time": "2025-06-06T11:07:48.757Z"
   },
   {
    "duration": 743,
    "start_time": "2025-06-06T11:07:49.542Z"
   },
   {
    "duration": 398,
    "start_time": "2025-06-06T11:07:50.287Z"
   },
   {
    "duration": 35,
    "start_time": "2025-06-06T11:07:50.687Z"
   },
   {
    "duration": 20,
    "start_time": "2025-06-06T11:07:50.723Z"
   },
   {
    "duration": 10,
    "start_time": "2025-06-06T11:07:50.745Z"
   },
   {
    "duration": 9,
    "start_time": "2025-06-06T11:07:50.756Z"
   },
   {
    "duration": 4,
    "start_time": "2025-06-06T11:07:50.767Z"
   },
   {
    "duration": 367,
    "start_time": "2025-06-06T11:07:50.772Z"
   },
   {
    "duration": 4,
    "start_time": "2025-06-06T11:07:51.141Z"
   },
   {
    "duration": 39,
    "start_time": "2025-06-06T11:07:51.235Z"
   },
   {
    "duration": 5,
    "start_time": "2025-06-06T11:07:51.276Z"
   },
   {
    "duration": 4,
    "start_time": "2025-06-06T11:08:10.607Z"
   },
   {
    "duration": 4,
    "start_time": "2025-06-06T11:08:12.817Z"
   },
   {
    "duration": 15,
    "start_time": "2025-06-06T11:08:16.658Z"
   },
   {
    "duration": 4,
    "start_time": "2025-06-06T11:08:18.668Z"
   },
   {
    "duration": 1641,
    "start_time": "2025-06-06T11:10:09.335Z"
   },
   {
    "duration": 4,
    "start_time": "2025-06-06T11:10:58.294Z"
   },
   {
    "duration": 2571,
    "start_time": "2025-06-06T11:11:04.900Z"
   },
   {
    "duration": 4,
    "start_time": "2025-06-06T11:12:59.701Z"
   },
   {
    "duration": 3,
    "start_time": "2025-06-06T11:13:00.407Z"
   },
   {
    "duration": 13,
    "start_time": "2025-06-06T11:13:02.903Z"
   },
   {
    "duration": 4,
    "start_time": "2025-06-06T11:17:47.667Z"
   },
   {
    "duration": 3,
    "start_time": "2025-06-06T11:17:48.767Z"
   },
   {
    "duration": 13,
    "start_time": "2025-06-06T11:17:51.324Z"
   },
   {
    "duration": 4,
    "start_time": "2025-06-06T11:17:55.293Z"
   },
   {
    "duration": 8,
    "start_time": "2025-06-06T11:17:59.104Z"
   },
   {
    "duration": 2528,
    "start_time": "2025-06-06T11:18:04.229Z"
   },
   {
    "duration": 272,
    "start_time": "2025-06-06T11:19:20.552Z"
   },
   {
    "duration": 1215,
    "start_time": "2025-06-06T11:19:54.962Z"
   },
   {
    "duration": 13,
    "start_time": "2025-06-06T11:34:57.050Z"
   },
   {
    "duration": 313,
    "start_time": "2025-06-06T11:35:11.977Z"
   },
   {
    "duration": 281,
    "start_time": "2025-06-06T11:35:27.948Z"
   },
   {
    "duration": 357,
    "start_time": "2025-06-06T11:35:52.491Z"
   },
   {
    "duration": 1026,
    "start_time": "2025-06-06T11:36:45.477Z"
   },
   {
    "duration": 293,
    "start_time": "2025-06-06T11:36:52.666Z"
   },
   {
    "duration": 303,
    "start_time": "2025-06-06T11:37:17.483Z"
   },
   {
    "duration": 291,
    "start_time": "2025-06-06T11:37:40.447Z"
   },
   {
    "duration": 3,
    "start_time": "2025-06-06T11:57:36.586Z"
   },
   {
    "duration": 489,
    "start_time": "2025-06-06T11:57:36.591Z"
   },
   {
    "duration": 11,
    "start_time": "2025-06-06T11:57:37.082Z"
   },
   {
    "duration": 82,
    "start_time": "2025-06-06T11:57:37.094Z"
   },
   {
    "duration": 102,
    "start_time": "2025-06-06T11:57:37.178Z"
   },
   {
    "duration": 27,
    "start_time": "2025-06-06T11:57:37.281Z"
   },
   {
    "duration": 136,
    "start_time": "2025-06-06T11:57:37.309Z"
   },
   {
    "duration": 8,
    "start_time": "2025-06-06T11:57:37.446Z"
   },
   {
    "duration": 15,
    "start_time": "2025-06-06T11:57:37.455Z"
   },
   {
    "duration": 91,
    "start_time": "2025-06-06T11:57:37.472Z"
   },
   {
    "duration": 20,
    "start_time": "2025-06-06T11:57:37.565Z"
   },
   {
    "duration": 59,
    "start_time": "2025-06-06T11:57:37.587Z"
   },
   {
    "duration": 8,
    "start_time": "2025-06-06T11:57:37.648Z"
   },
   {
    "duration": 15,
    "start_time": "2025-06-06T11:57:37.658Z"
   },
   {
    "duration": 87,
    "start_time": "2025-06-06T11:57:37.674Z"
   },
   {
    "duration": 26,
    "start_time": "2025-06-06T11:57:37.763Z"
   },
   {
    "duration": 48,
    "start_time": "2025-06-06T11:57:37.791Z"
   },
   {
    "duration": 745,
    "start_time": "2025-06-06T11:57:37.841Z"
   },
   {
    "duration": 690,
    "start_time": "2025-06-06T11:57:38.588Z"
   },
   {
    "duration": 764,
    "start_time": "2025-06-06T11:57:39.279Z"
   },
   {
    "duration": 713,
    "start_time": "2025-06-06T11:57:40.045Z"
   },
   {
    "duration": 467,
    "start_time": "2025-06-06T11:57:40.759Z"
   },
   {
    "duration": 15,
    "start_time": "2025-06-06T11:57:41.228Z"
   },
   {
    "duration": 303,
    "start_time": "2025-06-06T11:57:41.245Z"
   },
   {
    "duration": 768,
    "start_time": "2025-06-06T11:57:41.550Z"
   },
   {
    "duration": 9,
    "start_time": "2025-06-06T11:57:42.319Z"
   },
   {
    "duration": 806,
    "start_time": "2025-06-06T11:57:42.336Z"
   },
   {
    "duration": 658,
    "start_time": "2025-06-06T11:57:43.144Z"
   },
   {
    "duration": 9,
    "start_time": "2025-06-06T11:57:43.804Z"
   },
   {
    "duration": 5,
    "start_time": "2025-06-06T11:57:43.814Z"
   },
   {
    "duration": 153,
    "start_time": "2025-06-06T11:57:43.820Z"
   },
   {
    "duration": 623,
    "start_time": "2025-06-06T11:57:43.974Z"
   },
   {
    "duration": 6,
    "start_time": "2025-06-06T11:57:44.598Z"
   },
   {
    "duration": 256,
    "start_time": "2025-06-06T11:57:44.605Z"
   },
   {
    "duration": 464,
    "start_time": "2025-06-06T11:57:44.863Z"
   },
   {
    "duration": 17,
    "start_time": "2025-06-06T11:57:45.329Z"
   },
   {
    "duration": 15,
    "start_time": "2025-06-06T11:57:45.347Z"
   },
   {
    "duration": 294,
    "start_time": "2025-06-06T11:57:45.364Z"
   },
   {
    "duration": 809,
    "start_time": "2025-06-06T11:57:45.659Z"
   },
   {
    "duration": 804,
    "start_time": "2025-06-06T11:57:46.469Z"
   },
   {
    "duration": 751,
    "start_time": "2025-06-06T11:57:47.277Z"
   },
   {
    "duration": 756,
    "start_time": "2025-06-06T11:57:48.029Z"
   },
   {
    "duration": 411,
    "start_time": "2025-06-06T11:57:48.787Z"
   },
   {
    "duration": 50,
    "start_time": "2025-06-06T11:57:49.199Z"
   },
   {
    "duration": 10,
    "start_time": "2025-06-06T11:57:49.251Z"
   },
   {
    "duration": 10,
    "start_time": "2025-06-06T11:57:49.262Z"
   },
   {
    "duration": 10,
    "start_time": "2025-06-06T11:57:49.273Z"
   },
   {
    "duration": 367,
    "start_time": "2025-06-06T11:57:49.285Z"
   },
   {
    "duration": 4,
    "start_time": "2025-06-06T11:57:49.654Z"
   },
   {
    "duration": 377,
    "start_time": "2025-06-06T11:57:49.660Z"
   },
   {
    "duration": 4,
    "start_time": "2025-06-06T11:57:50.039Z"
   },
   {
    "duration": 103,
    "start_time": "2025-06-06T11:57:50.045Z"
   },
   {
    "duration": 13,
    "start_time": "2025-06-06T11:57:50.149Z"
   },
   {
    "duration": 6,
    "start_time": "2025-06-06T11:57:50.164Z"
   },
   {
    "duration": 5,
    "start_time": "2025-06-06T11:57:50.172Z"
   },
   {
    "duration": 22,
    "start_time": "2025-06-06T11:57:50.178Z"
   },
   {
    "duration": 4,
    "start_time": "2025-06-06T11:57:50.202Z"
   },
   {
    "duration": 14,
    "start_time": "2025-06-06T11:57:50.207Z"
   },
   {
    "duration": 2559,
    "start_time": "2025-06-06T11:57:50.222Z"
   },
   {
    "duration": 281,
    "start_time": "2025-06-06T11:57:52.783Z"
   },
   {
    "duration": 1340,
    "start_time": "2025-06-06T12:40:00.715Z"
   },
   {
    "duration": 460,
    "start_time": "2025-06-06T12:40:02.060Z"
   },
   {
    "duration": 10,
    "start_time": "2025-06-06T12:40:02.522Z"
   },
   {
    "duration": 66,
    "start_time": "2025-06-06T12:40:02.533Z"
   },
   {
    "duration": 132,
    "start_time": "2025-06-06T12:40:02.600Z"
   },
   {
    "duration": 45,
    "start_time": "2025-06-06T12:40:02.734Z"
   },
   {
    "duration": 50,
    "start_time": "2025-06-06T12:40:02.781Z"
   },
   {
    "duration": 10,
    "start_time": "2025-06-06T12:40:02.833Z"
   },
   {
    "duration": 37,
    "start_time": "2025-06-06T12:40:02.860Z"
   },
   {
    "duration": 100,
    "start_time": "2025-06-06T12:40:02.899Z"
   },
   {
    "duration": 29,
    "start_time": "2025-06-06T12:40:03.000Z"
   },
   {
    "duration": 59,
    "start_time": "2025-06-06T12:40:03.031Z"
   },
   {
    "duration": 10,
    "start_time": "2025-06-06T12:40:03.092Z"
   },
   {
    "duration": 36,
    "start_time": "2025-06-06T12:40:03.104Z"
   },
   {
    "duration": 169,
    "start_time": "2025-06-06T12:40:03.142Z"
   },
   {
    "duration": 47,
    "start_time": "2025-06-06T12:40:03.313Z"
   },
   {
    "duration": 42,
    "start_time": "2025-06-06T12:40:03.362Z"
   },
   {
    "duration": 812,
    "start_time": "2025-06-06T12:40:03.406Z"
   },
   {
    "duration": 759,
    "start_time": "2025-06-06T12:40:04.220Z"
   },
   {
    "duration": 1008,
    "start_time": "2025-06-06T12:40:04.981Z"
   },
   {
    "duration": 796,
    "start_time": "2025-06-06T12:40:05.991Z"
   },
   {
    "duration": 475,
    "start_time": "2025-06-06T12:40:06.790Z"
   },
   {
    "duration": 11,
    "start_time": "2025-06-06T12:40:07.267Z"
   },
   {
    "duration": 335,
    "start_time": "2025-06-06T12:40:07.280Z"
   },
   {
    "duration": 811,
    "start_time": "2025-06-06T12:40:07.617Z"
   },
   {
    "duration": 11,
    "start_time": "2025-06-06T12:40:08.430Z"
   },
   {
    "duration": 1043,
    "start_time": "2025-06-06T12:40:08.443Z"
   },
   {
    "duration": 701,
    "start_time": "2025-06-06T12:40:09.492Z"
   },
   {
    "duration": 10,
    "start_time": "2025-06-06T12:40:10.196Z"
   },
   {
    "duration": 5,
    "start_time": "2025-06-06T12:40:10.208Z"
   },
   {
    "duration": 201,
    "start_time": "2025-06-06T12:40:10.215Z"
   },
   {
    "duration": 754,
    "start_time": "2025-06-06T12:40:10.417Z"
   },
   {
    "duration": 6,
    "start_time": "2025-06-06T12:40:11.173Z"
   },
   {
    "duration": 307,
    "start_time": "2025-06-06T12:40:11.181Z"
   },
   {
    "duration": 445,
    "start_time": "2025-06-06T12:40:11.489Z"
   },
   {
    "duration": 24,
    "start_time": "2025-06-06T12:40:11.936Z"
   },
   {
    "duration": 13,
    "start_time": "2025-06-06T12:40:11.962Z"
   },
   {
    "duration": 326,
    "start_time": "2025-06-06T12:40:11.976Z"
   },
   {
    "duration": 985,
    "start_time": "2025-06-06T12:40:12.304Z"
   },
   {
    "duration": 874,
    "start_time": "2025-06-06T12:40:13.291Z"
   },
   {
    "duration": 885,
    "start_time": "2025-06-06T12:40:14.166Z"
   },
   {
    "duration": 889,
    "start_time": "2025-06-06T12:40:15.053Z"
   },
   {
    "duration": 466,
    "start_time": "2025-06-06T12:40:15.944Z"
   },
   {
    "duration": 49,
    "start_time": "2025-06-06T12:40:16.412Z"
   },
   {
    "duration": 22,
    "start_time": "2025-06-06T12:40:16.463Z"
   },
   {
    "duration": 11,
    "start_time": "2025-06-06T12:40:16.487Z"
   },
   {
    "duration": 13,
    "start_time": "2025-06-06T12:40:16.500Z"
   },
   {
    "duration": 491,
    "start_time": "2025-06-06T12:40:16.515Z"
   },
   {
    "duration": 5,
    "start_time": "2025-06-06T12:40:17.008Z"
   },
   {
    "duration": 317,
    "start_time": "2025-06-06T12:40:17.015Z"
   },
   {
    "duration": 0,
    "start_time": "2025-06-06T12:40:17.333Z"
   },
   {
    "duration": 0,
    "start_time": "2025-06-06T12:40:17.335Z"
   },
   {
    "duration": 0,
    "start_time": "2025-06-06T12:40:17.336Z"
   },
   {
    "duration": 0,
    "start_time": "2025-06-06T12:40:17.338Z"
   },
   {
    "duration": 0,
    "start_time": "2025-06-06T12:40:17.339Z"
   },
   {
    "duration": 0,
    "start_time": "2025-06-06T12:40:17.340Z"
   },
   {
    "duration": 0,
    "start_time": "2025-06-06T12:40:17.361Z"
   },
   {
    "duration": 0,
    "start_time": "2025-06-06T12:40:17.362Z"
   },
   {
    "duration": 0,
    "start_time": "2025-06-06T12:40:17.363Z"
   },
   {
    "duration": 0,
    "start_time": "2025-06-06T12:40:17.364Z"
   },
   {
    "duration": 5,
    "start_time": "2025-06-06T12:40:46.736Z"
   },
   {
    "duration": 362,
    "start_time": "2025-06-06T12:40:47.208Z"
   },
   {
    "duration": 3,
    "start_time": "2025-06-06T12:40:47.762Z"
   },
   {
    "duration": 3,
    "start_time": "2025-06-06T12:40:48.510Z"
   },
   {
    "duration": 4,
    "start_time": "2025-06-06T12:40:48.849Z"
   },
   {
    "duration": 4,
    "start_time": "2025-06-06T12:40:49.521Z"
   },
   {
    "duration": 4,
    "start_time": "2025-06-06T12:40:49.688Z"
   },
   {
    "duration": 18,
    "start_time": "2025-06-06T12:40:50.218Z"
   },
   {
    "duration": 5,
    "start_time": "2025-06-06T12:40:50.376Z"
   },
   {
    "duration": 8,
    "start_time": "2025-06-06T12:40:50.873Z"
   },
   {
    "duration": 4195,
    "start_time": "2025-06-06T12:40:51.483Z"
   },
   {
    "duration": 329,
    "start_time": "2025-06-06T12:40:55.680Z"
   },
   {
    "duration": 3,
    "start_time": "2025-06-06T12:41:13.844Z"
   },
   {
    "duration": 3,
    "start_time": "2025-06-06T12:41:14.056Z"
   },
   {
    "duration": 16,
    "start_time": "2025-06-06T12:41:14.582Z"
   },
   {
    "duration": 5,
    "start_time": "2025-06-06T12:41:14.744Z"
   },
   {
    "duration": 8,
    "start_time": "2025-06-06T12:41:15.716Z"
   },
   {
    "duration": 3004,
    "start_time": "2025-06-06T12:41:16.463Z"
   },
   {
    "duration": 325,
    "start_time": "2025-06-06T12:41:19.469Z"
   }
  ],
  "kernelspec": {
   "display_name": "Python 3 (ipykernel)",
   "language": "python",
   "name": "python3"
  },
  "language_info": {
   "codemirror_mode": {
    "name": "ipython",
    "version": 3
   },
   "file_extension": ".py",
   "mimetype": "text/x-python",
   "name": "python",
   "nbconvert_exporter": "python",
   "pygments_lexer": "ipython3",
   "version": "3.9.5"
  },
  "toc": {
   "base_numbering": 1,
   "nav_menu": {},
   "number_sections": true,
   "sideBar": true,
   "skip_h1_title": true,
   "title_cell": "Table of Contents",
   "title_sidebar": "Contents",
   "toc_cell": false,
   "toc_position": {},
   "toc_section_display": true,
   "toc_window_display": false
  }
 },
 "nbformat": 4,
 "nbformat_minor": 2
}

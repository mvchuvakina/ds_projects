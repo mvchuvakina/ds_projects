{
 "cells": [
  {
   "cell_type": "markdown",
   "metadata": {},
   "source": [
    "<div style=\"border:solid Chocolate 2px; padding: 40px\">\n",
    "<b>Привет, Мария!👋</b>\n",
    "    \n",
    "Меня зовут Зуева Юлия, можно просто Юля 😏 Я буду ревьюером твоего проекта. Предлагаю обращаться на \"ты\", но если это неудобно, пожалуйста, скажи об этом!\n",
    "    \n",
    "Моя основная цель - помочь тебе стать компетентным Data Scientist'ом: вместе преодолеть трудности и еще больше развить твои сильные навыки 💪 Очень постараюсь сделать это как можно быстрее :) В твоей работе я оставила комментарии, которые должны в этом помочь. Для твоего удобства комментарии расскрашены разными цветами: \n",
    "<br/>\n",
    "<div class=\"alert alert-success\">\n",
    "<b>Все отлично!👍:</b> В случае, если решение на отдельном шаге является полностью правильным, или если я посчитаю нужным тебя за что-то похвалить. На такие решения можно опираться в будущих проектах.\n",
    "</div>\n",
    "<div class=\"alert alert-warning\">\n",
    "<b>Некоторые замечания и рекомендации💡:</b> В случае, когда решение на отдельном шаге станет еще лучше, если внести небольшие коррективы. Ты можешь учесть эти комментарии при выполнении будущих заданий или доработать проект сейчас (однако это не обязательно).\n",
    "</div>\n",
    "<div class=\"alert alert-block alert-danger\">\n",
    "<b>На доработку🤔:</b>\n",
    " В случае, когда решение на отдельном шаге требует существенной переработки и внесения правок. Напоминаю, что проект не может быть принят с первого раза, если ревью содержит комментарии, рекомендующие доработать шаги.\n",
    "</div>\n",
    "    \n",
    "Чтобы наша с тобой работа была еще эффективнее, ты точно так же можешь оставлять комментарии и задавать мне вопросы. Для таких случаев, пожалуйста, выбери собственное оформление комментариев, которое будет отличаться от моего, чтобы не создавалась путаница. По этой же причине попрошу тебя не удалять и не изменять мои комментарии. Все это позволит лучше ориентироваться в нашем с тобой диалоге, а повторную проверку (в случае ее необходимости) выполнять оперативнее 🚀\n",
    "    \n",
    "Не спеши расстраиваться, если что-то не удалось с первого раза. Вместе мы обязательно разберемся со всеми трудностями! 🤓"
   ]
  },
  {
   "cell_type": "markdown",
   "metadata": {},
   "source": [
    "# Определение стоимости автомобилей"
   ]
  },
  {
   "cell_type": "markdown",
   "metadata": {},
   "source": [
    "Сервис по продаже автомобилей с пробегом «Не бит, не крашен» разрабатывает приложение для привлечения новых клиентов. В нём можно быстро узнать рыночную стоимость своего автомобиля. В вашем распоряжении исторические данные: технические характеристики, комплектации и цены автомобилей. Вам нужно построить модель для определения стоимости. \n",
    "\n",
    "Заказчику важны:\n",
    "\n",
    "- качество предсказания;\n",
    "- скорость предсказания;\n",
    "- время обучения."
   ]
  },
  {
   "cell_type": "markdown",
   "metadata": {},
   "source": [
    "**Ход исследования:**\n",
    "\n",
    "- Загрузка и подготовка данных\n",
    "- Подготовка выборки для обучения моделей.\n",
    "- Обучение моделей, одна из которых — LightGBM.\n",
    "- Анализ время обучения, время предсказания и качество моделей.\n",
    "- Выбор лучшей модели, проверка качества на тестовой выборке."
   ]
  },
  {
   "cell_type": "code",
   "execution_count": 1,
   "metadata": {},
   "outputs": [],
   "source": [
    "!pip install phik -q\n",
    "!pip install --upgrade scikit-learn -q\n",
    "!pip install category_encoders -q\n",
    "!pip install --upgrade category_encoders -q\n",
    "\n",
    "import pandas as pd\n",
    "import numpy as np\n",
    "import re\n",
    "\n",
    "import matplotlib.pyplot as plt\n",
    "import seaborn as sns\n",
    "\n",
    "import warnings\n",
    "warnings.filterwarnings('ignore')\n",
    "\n",
    "from sklearn.preprocessing import StandardScaler, OneHotEncoder, OrdinalEncoder\n",
    "from sklearn.model_selection import (\n",
    "    train_test_split,\n",
    "    cross_val_score,\n",
    "    cross_validate,\n",
    "    GridSearchCV\n",
    ")\n",
    "from sklearn.compose import ColumnTransformer\n",
    "from sklearn.pipeline import Pipeline\n",
    "from category_encoders import TargetEncoder\n",
    "\n",
    "from sklearn.linear_model import LinearRegression\n",
    "from sklearn.tree import DecisionTreeRegressor\n",
    "from sklearn.ensemble import RandomForestRegressor\n",
    "from lightgbm import LGBMRegressor\n",
    "\n",
    "from sklearn.metrics import mean_squared_error\n",
    "\n",
    "from phik import phik_matrix\n",
    "\n",
    "import time"
   ]
  },
  {
   "cell_type": "markdown",
   "metadata": {},
   "source": [
    "<div class=\"alert alert-warning\">\n",
    "<h3> Комментарий ревьюера <a class=\"tocSkip\"> </h3>\n",
    "    \n",
    "<b>Некоторые замечания и рекомендации💡:</b>\n",
    "\n",
    "* Если перед строкой с установкой новой библиотеки поставить восклицательный знак, ее можно поместить в ячейку с другим кодом.\n",
    "\n",
    "\n",
    "* Чтобы при установке новой библиотеки не выводилась информация о процессе и зависимостях, можно добывлять опцию `--quiet` или простооки `-q`."
   ]
  },
  {
   "cell_type": "markdown",
   "metadata": {},
   "source": [
    "<div class=\"alert alert-warning\">\n",
    "<h3> Комментарий ревьюера <a class=\"tocSkip\"> </h3>\n",
    "    \n",
    "<b>Некоторые замечания и рекомендации💡:</b>\n",
    "\n",
    "\n",
    "* Чтобы работа выглядела аккуратнее, импорты можно структурировать по тематике: для работы с данными, графики, для подготовки к моделированию, моделирование и т.д. Обртати внимание, что некоторые методы у тебя импортируются несколько раз, стоит навести порядок.\n",
    "    \n",
    "    \n",
    "* Если расположить методы на отдельных строках, читать будет удобнее: \n",
    "    \n",
    "    ```python\n",
    "from sklearn.preprocessing import (\n",
    "      OneHotEncoder,\n",
    "      OrdinalEncoder\n",
    ")\n",
    "```"
   ]
  },
  {
   "cell_type": "markdown",
   "metadata": {},
   "source": [
    "Исправила и разбила на группы"
   ]
  },
  {
   "cell_type": "markdown",
   "metadata": {},
   "source": [
    "<div class=\"alert alert-success\">\n",
    "<h3> Комментарий ревьюера 2<a class=\"tocSkip\"> </h3> \n",
    "    \n",
    "<b>Все отлично! 👍:</b> 😉"
   ]
  },
  {
   "cell_type": "markdown",
   "metadata": {},
   "source": [
    "## Подготовка данных"
   ]
  },
  {
   "cell_type": "code",
   "execution_count": 2,
   "metadata": {},
   "outputs": [
    {
     "data": {
      "text/html": [
       "<div>\n",
       "<style scoped>\n",
       "    .dataframe tbody tr th:only-of-type {\n",
       "        vertical-align: middle;\n",
       "    }\n",
       "\n",
       "    .dataframe tbody tr th {\n",
       "        vertical-align: top;\n",
       "    }\n",
       "\n",
       "    .dataframe thead th {\n",
       "        text-align: right;\n",
       "    }\n",
       "</style>\n",
       "<table border=\"1\" class=\"dataframe\">\n",
       "  <thead>\n",
       "    <tr style=\"text-align: right;\">\n",
       "      <th></th>\n",
       "      <th>DateCrawled</th>\n",
       "      <th>Price</th>\n",
       "      <th>VehicleType</th>\n",
       "      <th>RegistrationYear</th>\n",
       "      <th>Gearbox</th>\n",
       "      <th>Power</th>\n",
       "      <th>Model</th>\n",
       "      <th>Kilometer</th>\n",
       "      <th>RegistrationMonth</th>\n",
       "      <th>FuelType</th>\n",
       "      <th>Brand</th>\n",
       "      <th>Repaired</th>\n",
       "      <th>DateCreated</th>\n",
       "      <th>NumberOfPictures</th>\n",
       "      <th>PostalCode</th>\n",
       "      <th>LastSeen</th>\n",
       "    </tr>\n",
       "  </thead>\n",
       "  <tbody>\n",
       "    <tr>\n",
       "      <th>0</th>\n",
       "      <td>2016-03-24 11:52:17</td>\n",
       "      <td>480</td>\n",
       "      <td>NaN</td>\n",
       "      <td>1993</td>\n",
       "      <td>manual</td>\n",
       "      <td>0</td>\n",
       "      <td>golf</td>\n",
       "      <td>150000</td>\n",
       "      <td>0</td>\n",
       "      <td>petrol</td>\n",
       "      <td>volkswagen</td>\n",
       "      <td>NaN</td>\n",
       "      <td>2016-03-24 00:00:00</td>\n",
       "      <td>0</td>\n",
       "      <td>70435</td>\n",
       "      <td>2016-04-07 03:16:57</td>\n",
       "    </tr>\n",
       "    <tr>\n",
       "      <th>1</th>\n",
       "      <td>2016-03-24 10:58:45</td>\n",
       "      <td>18300</td>\n",
       "      <td>coupe</td>\n",
       "      <td>2011</td>\n",
       "      <td>manual</td>\n",
       "      <td>190</td>\n",
       "      <td>NaN</td>\n",
       "      <td>125000</td>\n",
       "      <td>5</td>\n",
       "      <td>gasoline</td>\n",
       "      <td>audi</td>\n",
       "      <td>yes</td>\n",
       "      <td>2016-03-24 00:00:00</td>\n",
       "      <td>0</td>\n",
       "      <td>66954</td>\n",
       "      <td>2016-04-07 01:46:50</td>\n",
       "    </tr>\n",
       "    <tr>\n",
       "      <th>2</th>\n",
       "      <td>2016-03-14 12:52:21</td>\n",
       "      <td>9800</td>\n",
       "      <td>suv</td>\n",
       "      <td>2004</td>\n",
       "      <td>auto</td>\n",
       "      <td>163</td>\n",
       "      <td>grand</td>\n",
       "      <td>125000</td>\n",
       "      <td>8</td>\n",
       "      <td>gasoline</td>\n",
       "      <td>jeep</td>\n",
       "      <td>NaN</td>\n",
       "      <td>2016-03-14 00:00:00</td>\n",
       "      <td>0</td>\n",
       "      <td>90480</td>\n",
       "      <td>2016-04-05 12:47:46</td>\n",
       "    </tr>\n",
       "    <tr>\n",
       "      <th>3</th>\n",
       "      <td>2016-03-17 16:54:04</td>\n",
       "      <td>1500</td>\n",
       "      <td>small</td>\n",
       "      <td>2001</td>\n",
       "      <td>manual</td>\n",
       "      <td>75</td>\n",
       "      <td>golf</td>\n",
       "      <td>150000</td>\n",
       "      <td>6</td>\n",
       "      <td>petrol</td>\n",
       "      <td>volkswagen</td>\n",
       "      <td>no</td>\n",
       "      <td>2016-03-17 00:00:00</td>\n",
       "      <td>0</td>\n",
       "      <td>91074</td>\n",
       "      <td>2016-03-17 17:40:17</td>\n",
       "    </tr>\n",
       "    <tr>\n",
       "      <th>4</th>\n",
       "      <td>2016-03-31 17:25:20</td>\n",
       "      <td>3600</td>\n",
       "      <td>small</td>\n",
       "      <td>2008</td>\n",
       "      <td>manual</td>\n",
       "      <td>69</td>\n",
       "      <td>fabia</td>\n",
       "      <td>90000</td>\n",
       "      <td>7</td>\n",
       "      <td>gasoline</td>\n",
       "      <td>skoda</td>\n",
       "      <td>no</td>\n",
       "      <td>2016-03-31 00:00:00</td>\n",
       "      <td>0</td>\n",
       "      <td>60437</td>\n",
       "      <td>2016-04-06 10:17:21</td>\n",
       "    </tr>\n",
       "  </tbody>\n",
       "</table>\n",
       "</div>"
      ],
      "text/plain": [
       "           DateCrawled  Price VehicleType  RegistrationYear Gearbox  Power  \\\n",
       "0  2016-03-24 11:52:17    480         NaN              1993  manual      0   \n",
       "1  2016-03-24 10:58:45  18300       coupe              2011  manual    190   \n",
       "2  2016-03-14 12:52:21   9800         suv              2004    auto    163   \n",
       "3  2016-03-17 16:54:04   1500       small              2001  manual     75   \n",
       "4  2016-03-31 17:25:20   3600       small              2008  manual     69   \n",
       "\n",
       "   Model  Kilometer  RegistrationMonth  FuelType       Brand Repaired  \\\n",
       "0   golf     150000                  0    petrol  volkswagen      NaN   \n",
       "1    NaN     125000                  5  gasoline        audi      yes   \n",
       "2  grand     125000                  8  gasoline        jeep      NaN   \n",
       "3   golf     150000                  6    petrol  volkswagen       no   \n",
       "4  fabia      90000                  7  gasoline       skoda       no   \n",
       "\n",
       "           DateCreated  NumberOfPictures  PostalCode             LastSeen  \n",
       "0  2016-03-24 00:00:00                 0       70435  2016-04-07 03:16:57  \n",
       "1  2016-03-24 00:00:00                 0       66954  2016-04-07 01:46:50  \n",
       "2  2016-03-14 00:00:00                 0       90480  2016-04-05 12:47:46  \n",
       "3  2016-03-17 00:00:00                 0       91074  2016-03-17 17:40:17  \n",
       "4  2016-03-31 00:00:00                 0       60437  2016-04-06 10:17:21  "
      ]
     },
     "execution_count": 2,
     "metadata": {},
     "output_type": "execute_result"
    }
   ],
   "source": [
    "autos = pd.read_csv('/datasets/autos.csv')\n",
    "autos.head()"
   ]
  },
  {
   "cell_type": "markdown",
   "metadata": {},
   "source": [
    "<div class=\"alert alert-warning\">\n",
    "<h3> Комментарий ревьюера <a class=\"tocSkip\"> </h3>\n",
    "    \n",
    "<b>Некоторые замечания и рекомендации💡:</b> Если не ограничивать количество выводимой информации, то вывод ограничится только при отображении, но в json (в виде которых хранятся jupyter ноутбуки) на диске будут все данные, что будет тормозить открытие и работу тетрадки. Чтобы такого не происходило, следует ограничивать вывод несколькими строками: `head`, `tail`, `sample`."
   ]
  },
  {
   "cell_type": "markdown",
   "metadata": {},
   "source": [
    "<div class=\"alert alert-success\">\n",
    "<h3> Комментарий ревьюера 2<a class=\"tocSkip\"> </h3> \n",
    "    \n",
    "<b>Все отлично! 👍:</b> 😉"
   ]
  },
  {
   "cell_type": "code",
   "execution_count": 3,
   "metadata": {},
   "outputs": [
    {
     "data": {
      "text/html": [
       "<div>\n",
       "<style scoped>\n",
       "    .dataframe tbody tr th:only-of-type {\n",
       "        vertical-align: middle;\n",
       "    }\n",
       "\n",
       "    .dataframe tbody tr th {\n",
       "        vertical-align: top;\n",
       "    }\n",
       "\n",
       "    .dataframe thead th {\n",
       "        text-align: right;\n",
       "    }\n",
       "</style>\n",
       "<table border=\"1\" class=\"dataframe\">\n",
       "  <thead>\n",
       "    <tr style=\"text-align: right;\">\n",
       "      <th></th>\n",
       "      <th>date_crawled</th>\n",
       "      <th>price</th>\n",
       "      <th>vehicle_type</th>\n",
       "      <th>registration_year</th>\n",
       "      <th>gearbox</th>\n",
       "      <th>power</th>\n",
       "      <th>model</th>\n",
       "      <th>kilometer</th>\n",
       "      <th>registration_month</th>\n",
       "      <th>fuel_type</th>\n",
       "      <th>brand</th>\n",
       "      <th>repaired</th>\n",
       "      <th>date_created</th>\n",
       "      <th>number_of_pictures</th>\n",
       "      <th>postal_code</th>\n",
       "      <th>last_seen</th>\n",
       "    </tr>\n",
       "  </thead>\n",
       "  <tbody>\n",
       "    <tr>\n",
       "      <th>0</th>\n",
       "      <td>2016-03-24 11:52:17</td>\n",
       "      <td>480</td>\n",
       "      <td>NaN</td>\n",
       "      <td>1993</td>\n",
       "      <td>manual</td>\n",
       "      <td>0</td>\n",
       "      <td>golf</td>\n",
       "      <td>150000</td>\n",
       "      <td>0</td>\n",
       "      <td>petrol</td>\n",
       "      <td>volkswagen</td>\n",
       "      <td>NaN</td>\n",
       "      <td>2016-03-24 00:00:00</td>\n",
       "      <td>0</td>\n",
       "      <td>70435</td>\n",
       "      <td>2016-04-07 03:16:57</td>\n",
       "    </tr>\n",
       "    <tr>\n",
       "      <th>1</th>\n",
       "      <td>2016-03-24 10:58:45</td>\n",
       "      <td>18300</td>\n",
       "      <td>coupe</td>\n",
       "      <td>2011</td>\n",
       "      <td>manual</td>\n",
       "      <td>190</td>\n",
       "      <td>NaN</td>\n",
       "      <td>125000</td>\n",
       "      <td>5</td>\n",
       "      <td>gasoline</td>\n",
       "      <td>audi</td>\n",
       "      <td>yes</td>\n",
       "      <td>2016-03-24 00:00:00</td>\n",
       "      <td>0</td>\n",
       "      <td>66954</td>\n",
       "      <td>2016-04-07 01:46:50</td>\n",
       "    </tr>\n",
       "    <tr>\n",
       "      <th>2</th>\n",
       "      <td>2016-03-14 12:52:21</td>\n",
       "      <td>9800</td>\n",
       "      <td>suv</td>\n",
       "      <td>2004</td>\n",
       "      <td>auto</td>\n",
       "      <td>163</td>\n",
       "      <td>grand</td>\n",
       "      <td>125000</td>\n",
       "      <td>8</td>\n",
       "      <td>gasoline</td>\n",
       "      <td>jeep</td>\n",
       "      <td>NaN</td>\n",
       "      <td>2016-03-14 00:00:00</td>\n",
       "      <td>0</td>\n",
       "      <td>90480</td>\n",
       "      <td>2016-04-05 12:47:46</td>\n",
       "    </tr>\n",
       "    <tr>\n",
       "      <th>3</th>\n",
       "      <td>2016-03-17 16:54:04</td>\n",
       "      <td>1500</td>\n",
       "      <td>small</td>\n",
       "      <td>2001</td>\n",
       "      <td>manual</td>\n",
       "      <td>75</td>\n",
       "      <td>golf</td>\n",
       "      <td>150000</td>\n",
       "      <td>6</td>\n",
       "      <td>petrol</td>\n",
       "      <td>volkswagen</td>\n",
       "      <td>no</td>\n",
       "      <td>2016-03-17 00:00:00</td>\n",
       "      <td>0</td>\n",
       "      <td>91074</td>\n",
       "      <td>2016-03-17 17:40:17</td>\n",
       "    </tr>\n",
       "    <tr>\n",
       "      <th>4</th>\n",
       "      <td>2016-03-31 17:25:20</td>\n",
       "      <td>3600</td>\n",
       "      <td>small</td>\n",
       "      <td>2008</td>\n",
       "      <td>manual</td>\n",
       "      <td>69</td>\n",
       "      <td>fabia</td>\n",
       "      <td>90000</td>\n",
       "      <td>7</td>\n",
       "      <td>gasoline</td>\n",
       "      <td>skoda</td>\n",
       "      <td>no</td>\n",
       "      <td>2016-03-31 00:00:00</td>\n",
       "      <td>0</td>\n",
       "      <td>60437</td>\n",
       "      <td>2016-04-06 10:17:21</td>\n",
       "    </tr>\n",
       "  </tbody>\n",
       "</table>\n",
       "</div>"
      ],
      "text/plain": [
       "          date_crawled  price vehicle_type  registration_year gearbox  power  \\\n",
       "0  2016-03-24 11:52:17    480          NaN               1993  manual      0   \n",
       "1  2016-03-24 10:58:45  18300        coupe               2011  manual    190   \n",
       "2  2016-03-14 12:52:21   9800          suv               2004    auto    163   \n",
       "3  2016-03-17 16:54:04   1500        small               2001  manual     75   \n",
       "4  2016-03-31 17:25:20   3600        small               2008  manual     69   \n",
       "\n",
       "   model  kilometer  registration_month fuel_type       brand repaired  \\\n",
       "0   golf     150000                   0    petrol  volkswagen      NaN   \n",
       "1    NaN     125000                   5  gasoline        audi      yes   \n",
       "2  grand     125000                   8  gasoline        jeep      NaN   \n",
       "3   golf     150000                   6    petrol  volkswagen       no   \n",
       "4  fabia      90000                   7  gasoline       skoda       no   \n",
       "\n",
       "          date_created  number_of_pictures  postal_code            last_seen  \n",
       "0  2016-03-24 00:00:00                   0        70435  2016-04-07 03:16:57  \n",
       "1  2016-03-24 00:00:00                   0        66954  2016-04-07 01:46:50  \n",
       "2  2016-03-14 00:00:00                   0        90480  2016-04-05 12:47:46  \n",
       "3  2016-03-17 00:00:00                   0        91074  2016-03-17 17:40:17  \n",
       "4  2016-03-31 00:00:00                   0        60437  2016-04-06 10:17:21  "
      ]
     },
     "execution_count": 3,
     "metadata": {},
     "output_type": "execute_result"
    }
   ],
   "source": [
    "#приведение название колонок в датафрейме к snake_case\n",
    "autos.columns = [re.sub(r'(?<!^)(?=[A-Z])', '_', i).replace(' ', '_').lower() for i in autos.columns]\n",
    "autos.head()"
   ]
  },
  {
   "cell_type": "code",
   "execution_count": 4,
   "metadata": {},
   "outputs": [
    {
     "data": {
      "text/plain": [
       "date_crawled              0\n",
       "price                     0\n",
       "vehicle_type          37490\n",
       "registration_year         0\n",
       "gearbox               19833\n",
       "power                     0\n",
       "model                 19705\n",
       "kilometer                 0\n",
       "registration_month        0\n",
       "fuel_type             32895\n",
       "brand                     0\n",
       "repaired              71154\n",
       "date_created              0\n",
       "number_of_pictures        0\n",
       "postal_code               0\n",
       "last_seen                 0\n",
       "dtype: int64"
      ]
     },
     "execution_count": 4,
     "metadata": {},
     "output_type": "execute_result"
    }
   ],
   "source": [
    "autos.isna().sum()"
   ]
  },
  {
   "cell_type": "code",
   "execution_count": 5,
   "metadata": {},
   "outputs": [
    {
     "name": "stdout",
     "output_type": "stream",
     "text": [
      "<class 'pandas.core.frame.DataFrame'>\n",
      "RangeIndex: 354369 entries, 0 to 354368\n",
      "Data columns (total 16 columns):\n",
      " #   Column              Non-Null Count   Dtype \n",
      "---  ------              --------------   ----- \n",
      " 0   date_crawled        354369 non-null  object\n",
      " 1   price               354369 non-null  int64 \n",
      " 2   vehicle_type        316879 non-null  object\n",
      " 3   registration_year   354369 non-null  int64 \n",
      " 4   gearbox             334536 non-null  object\n",
      " 5   power               354369 non-null  int64 \n",
      " 6   model               334664 non-null  object\n",
      " 7   kilometer           354369 non-null  int64 \n",
      " 8   registration_month  354369 non-null  int64 \n",
      " 9   fuel_type           321474 non-null  object\n",
      " 10  brand               354369 non-null  object\n",
      " 11  repaired            283215 non-null  object\n",
      " 12  date_created        354369 non-null  object\n",
      " 13  number_of_pictures  354369 non-null  int64 \n",
      " 14  postal_code         354369 non-null  int64 \n",
      " 15  last_seen           354369 non-null  object\n",
      "dtypes: int64(7), object(9)\n",
      "memory usage: 43.3+ MB\n"
     ]
    }
   ],
   "source": [
    "autos.info()"
   ]
  },
  {
   "cell_type": "markdown",
   "metadata": {},
   "source": [
    "Видим, что наблюдаются пропуски в столбцах vehicle_type, gearbox, model, fuel_type, repaired. Кроме того, не все столбцы имеют корректный тип данных: date_crawled, date_created и last_seen должны иметь тип datetime. "
   ]
  },
  {
   "cell_type": "code",
   "execution_count": 6,
   "metadata": {},
   "outputs": [
    {
     "name": "stdout",
     "output_type": "stream",
     "text": [
      "<class 'pandas.core.frame.DataFrame'>\n",
      "RangeIndex: 354369 entries, 0 to 354368\n",
      "Data columns (total 16 columns):\n",
      " #   Column              Non-Null Count   Dtype         \n",
      "---  ------              --------------   -----         \n",
      " 0   date_crawled        354369 non-null  datetime64[ns]\n",
      " 1   price               354369 non-null  int64         \n",
      " 2   vehicle_type        316879 non-null  object        \n",
      " 3   registration_year   354369 non-null  int64         \n",
      " 4   gearbox             334536 non-null  object        \n",
      " 5   power               354369 non-null  int64         \n",
      " 6   model               334664 non-null  object        \n",
      " 7   kilometer           354369 non-null  int64         \n",
      " 8   registration_month  354369 non-null  int64         \n",
      " 9   fuel_type           321474 non-null  object        \n",
      " 10  brand               354369 non-null  object        \n",
      " 11  repaired            283215 non-null  object        \n",
      " 12  date_created        354369 non-null  datetime64[ns]\n",
      " 13  number_of_pictures  354369 non-null  int64         \n",
      " 14  postal_code         354369 non-null  int64         \n",
      " 15  last_seen           354369 non-null  datetime64[ns]\n",
      "dtypes: datetime64[ns](3), int64(7), object(6)\n",
      "memory usage: 43.3+ MB\n"
     ]
    }
   ],
   "source": [
    "autos[['date_crawled', 'date_created', 'last_seen']] = autos[['date_crawled', 'date_created', 'last_seen']].apply(\n",
    "    pd.to_datetime)\n",
    "autos.info()"
   ]
  },
  {
   "cell_type": "markdown",
   "metadata": {},
   "source": [
    "Изменили тип данных на datetime64[ns]"
   ]
  },
  {
   "cell_type": "markdown",
   "metadata": {},
   "source": [
    "Посмотрим на уникальные значения в столбцах с категориальными значениями"
   ]
  },
  {
   "cell_type": "code",
   "execution_count": 7,
   "metadata": {},
   "outputs": [
    {
     "name": "stdout",
     "output_type": "stream",
     "text": [
      "Уникальные значения в столбце 'vehicle_type': [nan 'coupe' 'suv' 'small' 'sedan' 'convertible' 'bus' 'wagon' 'other']\n",
      "Уникальные значения в столбце 'gearbox': ['manual' 'auto' nan]\n",
      "Уникальные значения в столбце 'model': ['golf' nan 'grand' 'fabia' '3er' '2_reihe' 'other' 'c_max' '3_reihe'\n",
      " 'passat' 'navara' 'ka' 'polo' 'twingo' 'a_klasse' 'scirocco' '5er'\n",
      " 'meriva' 'arosa' 'c4' 'civic' 'transporter' 'punto' 'e_klasse' 'clio'\n",
      " 'kadett' 'kangoo' 'corsa' 'one' 'fortwo' '1er' 'b_klasse' 'signum'\n",
      " 'astra' 'a8' 'jetta' 'fiesta' 'c_klasse' 'micra' 'vito' 'sprinter' '156'\n",
      " 'escort' 'forester' 'xc_reihe' 'scenic' 'a4' 'a1' 'insignia' 'combo'\n",
      " 'focus' 'tt' 'a6' 'jazz' 'omega' 'slk' '7er' '80' '147' '100' 'z_reihe'\n",
      " 'sportage' 'sorento' 'v40' 'ibiza' 'mustang' 'eos' 'touran' 'getz' 'a3'\n",
      " 'almera' 'megane' 'lupo' 'r19' 'zafira' 'caddy' 'mondeo' 'cordoba' 'colt'\n",
      " 'impreza' 'vectra' 'berlingo' 'tiguan' 'i_reihe' 'espace' 'sharan'\n",
      " '6_reihe' 'panda' 'up' 'seicento' 'ceed' '5_reihe' 'yeti' 'octavia' 'mii'\n",
      " 'rx_reihe' '6er' 'modus' 'fox' 'matiz' 'beetle' 'c1' 'rio' 'touareg'\n",
      " 'logan' 'spider' 'cuore' 's_max' 'a2' 'galaxy' 'c3' 'viano' 's_klasse'\n",
      " '1_reihe' 'avensis' 'roomster' 'sl' 'kaefer' 'santa' 'cooper' 'leon'\n",
      " '4_reihe' 'a5' '500' 'laguna' 'ptcruiser' 'clk' 'primera' 'x_reihe'\n",
      " 'exeo' '159' 'transit' 'juke' 'qashqai' 'carisma' 'accord' 'corolla'\n",
      " 'lanos' 'phaeton' 'verso' 'swift' 'rav' 'picanto' 'boxster' 'kalos'\n",
      " 'superb' 'stilo' 'alhambra' 'mx_reihe' 'roadster' 'ypsilon' 'cayenne'\n",
      " 'galant' 'justy' '90' 'sirion' 'crossfire' 'agila' 'duster' 'cr_reihe'\n",
      " 'v50' 'c_reihe' 'v_klasse' 'm_klasse' 'yaris' 'c5' 'aygo' 'cc' 'carnival'\n",
      " 'fusion' '911' 'bora' 'forfour' 'm_reihe' 'cl' 'tigra' '300c' 'spark'\n",
      " 'v70' 'kuga' 'x_type' 'ducato' 's_type' 'x_trail' 'toledo' 'altea'\n",
      " 'voyager' 'calibra' 'bravo' 'antara' 'tucson' 'citigo' 'jimny' 'wrangler'\n",
      " 'lybra' 'q7' 'lancer' 'captiva' 'c2' 'discovery' 'freelander' 'sandero'\n",
      " 'note' '900' 'cherokee' 'clubman' 'samara' 'defender' '601' 'cx_reihe'\n",
      " 'legacy' 'pajero' 'auris' 'niva' 's60' 'nubira' 'vivaro' 'g_klasse'\n",
      " 'lodgy' '850' 'range_rover' 'q3' 'serie_2' 'glk' 'charade' 'croma'\n",
      " 'outlander' 'doblo' 'musa' 'move' '9000' 'v60' '145' 'aveo' '200' 'b_max'\n",
      " 'range_rover_sport' 'terios' 'rangerover' 'q5' 'range_rover_evoque'\n",
      " 'materia' 'delta' 'gl' 'kalina' 'amarok' 'elefantino' 'i3' 'kappa'\n",
      " 'serie_3' 'serie_1']\n",
      "Уникальные значения в столбце 'fuel_type': ['petrol' 'gasoline' nan 'lpg' 'other' 'hybrid' 'cng' 'electric']\n",
      "Уникальные значения в столбце 'brand': ['volkswagen' 'audi' 'jeep' 'skoda' 'bmw' 'peugeot' 'ford' 'mazda'\n",
      " 'nissan' 'renault' 'mercedes_benz' 'opel' 'seat' 'citroen' 'honda' 'fiat'\n",
      " 'mini' 'smart' 'hyundai' 'sonstige_autos' 'alfa_romeo' 'subaru' 'volvo'\n",
      " 'mitsubishi' 'kia' 'suzuki' 'lancia' 'toyota' 'chevrolet' 'dacia'\n",
      " 'daihatsu' 'trabant' 'saab' 'chrysler' 'jaguar' 'daewoo' 'porsche'\n",
      " 'rover' 'land_rover' 'lada']\n",
      "Уникальные значения в столбце 'repaired': [nan 'yes' 'no']\n"
     ]
    }
   ],
   "source": [
    "categorical_columns = ['vehicle_type', 'gearbox', 'model', 'fuel_type', 'brand', 'repaired']\n",
    "for column in categorical_columns:\n",
    "    unique_values = autos[column].unique()\n",
    "    print(f\"Уникальные значения в столбце '{column}': {unique_values}\")"
   ]
  },
  {
   "cell_type": "markdown",
   "metadata": {},
   "source": [
    "Выберем информативные признаки, которые особенно влияют на рыночную стоимость автомобиля\n",
    "\n",
    "Признаки:\n",
    "\n",
    "- VehicleType — тип автомобильного кузова\n",
    "- RegistrationYear — год регистрации автомобиля\n",
    "- Gearbox — тип коробки передач\n",
    "- Power — мощность (л. с.)\n",
    "- Model — модель автомобиля\n",
    "- Kilometer — пробег (км)\n",
    "- FuelType — тип топлива\n",
    "- Brand — марка автомобиля\n",
    "- Repaired — была машина в ремонте или нет\n",
    "\n"
   ]
  },
  {
   "cell_type": "markdown",
   "metadata": {},
   "source": [
    "Выделим только необходимые столбцы в датафрейме"
   ]
  },
  {
   "cell_type": "code",
   "execution_count": 8,
   "metadata": {},
   "outputs": [
    {
     "data": {
      "text/plain": [
       "Index(['date_crawled', 'price', 'vehicle_type', 'registration_year', 'gearbox',\n",
       "       'power', 'model', 'kilometer', 'registration_month', 'fuel_type',\n",
       "       'brand', 'repaired', 'date_created', 'number_of_pictures',\n",
       "       'postal_code', 'last_seen'],\n",
       "      dtype='object')"
      ]
     },
     "execution_count": 8,
     "metadata": {},
     "output_type": "execute_result"
    }
   ],
   "source": [
    "autos.columns"
   ]
  },
  {
   "cell_type": "code",
   "execution_count": 9,
   "metadata": {},
   "outputs": [],
   "source": [
    "selected_autos = autos[['price', 'vehicle_type', 'registration_year', 'gearbox',\n",
    "       'power', 'model', 'kilometer', 'registration_month', 'fuel_type',\n",
    "       'brand', 'repaired']]"
   ]
  },
  {
   "cell_type": "markdown",
   "metadata": {},
   "source": [
    "<div class=\"alert alert-warning\">\n",
    "<h3> Комментарий ревьюера <a class=\"tocSkip\"> </h3>\n",
    "    \n",
    "<b>Некоторые замечания и рекомендации💡:</b> В целом согласна, в текущем виде отбрасываемые признаки не принесут особой пользы. Но в то же время они могут помочь сделать анализ более глубоким и точным.\n",
    "\n",
    "<details> <summary> <span style='color:blue' > Развернуть подробнее. </span> </summary>\n",
    "\n",
    "1. Даты могут быть использованы для проверки записей на актуальность (за несколько лет уровень цен мог измениться, поэтому единичные наблюдения за более ранние года будут создавать скорее шум, чем помогать) и на корректность порядка событий (что регистрация авто предшествует дате создания анкеты, а та, в свою очередь, предшествует дате выгрузки).\n",
    "\n",
    "2. В разных географических регионах может быть разный уровень жизни, что также будет влиять на стоимость. Единственное - у нас довольно много уникальных значений, что будет тяжеловато обработать, но мы можем связать индексы с более крупными регионами (есть основания полагать, что данные собраны в Германии), либо взять первые несколько цифр индекса, чтобы очеретить только какие-то более менее крупные территории (обращаю внимание, что по причине хранения индекса в числовом формате у некоторых наблюдений могли пропасть первые нули в индексе).\n",
    "\n",
    "</details>"
   ]
  },
  {
   "cell_type": "markdown",
   "metadata": {},
   "source": [
    "Заполним пропуски в столбцах: vehicle_type, gearbox, model, fuel_type, repaired."
   ]
  },
  {
   "cell_type": "markdown",
   "metadata": {},
   "source": [
    "В столбце model пропуски заменим на 'unknown', тк не у всех автомобилей есть конкретная модель\n",
    "\n",
    "В столбце gearbox пропуски заполним глобальным модальным значением\n",
    "\n",
    "В столбце repaired заполним пропуски заглушкой 'unknown'\n",
    "\n",
    "Также создадим функцию fillna_mode_per_group, которая заполняет пропуски в столбцах VehicleType и FuelType модой по группам, а если мода пустая - подставляет fill_value."
   ]
  },
  {
   "cell_type": "code",
   "execution_count": 10,
   "metadata": {},
   "outputs": [],
   "source": [
    "def fillna_mode_per_group(df, group_cols, current_col, fill_value=\"unknown\"):\n",
    "    mode_series = (\n",
    "        df.groupby(group_cols)[current_col]\n",
    "        .transform(lambda x: x.mode()[0] if not x.mode().empty else fill_value)\n",
    "    )\n",
    "    df[current_col] = df[current_col].fillna(mode_series)\n",
    "    return df\n"
   ]
  },
  {
   "cell_type": "code",
   "execution_count": 11,
   "metadata": {},
   "outputs": [],
   "source": [
    "# Заполняем model\n",
    "selected_autos[\"model\"] = selected_autos[\"model\"].fillna(\"unknown\")\n",
    "\n",
    "# VehicleType по brand+model\n",
    "selected_autos = fillna_mode_per_group(\n",
    "    selected_autos,\n",
    "    group_cols=[\"brand\", \"model\"],\n",
    "    current_col=\"vehicle_type\",\n",
    "    fill_value=\"unknown\"\n",
    ")\n",
    "\n",
    "# FuelType по brand+model\n",
    "selected_autos = fillna_mode_per_group(\n",
    "    selected_autos,\n",
    "    group_cols=[\"brand\", \"model\"],\n",
    "    current_col=\"fuel_type\",\n",
    "    fill_value=\"unknown\"\n",
    ")\n",
    "\n",
    "# Gearbox глобальной модой\n",
    "gearbox_mode = selected_autos[\"gearbox\"].mode()[0]\n",
    "selected_autos[\"gearbox\"] = selected_autos[\"gearbox\"].fillna(gearbox_mode)\n",
    "\n",
    "# Repaired заглушкой\n",
    "selected_autos[\"repaired\"] = selected_autos[\"repaired\"].fillna(\"unknown\")\n"
   ]
  },
  {
   "cell_type": "code",
   "execution_count": 12,
   "metadata": {},
   "outputs": [
    {
     "data": {
      "text/plain": [
       "golf                  29232\n",
       "other                 24421\n",
       "3er                   19761\n",
       "unknown               19705\n",
       "polo                  13066\n",
       "                      ...  \n",
       "i3                        8\n",
       "serie_3                   4\n",
       "rangerover                4\n",
       "range_rover_evoque        2\n",
       "serie_1                   2\n",
       "Name: model, Length: 251, dtype: int64"
      ]
     },
     "execution_count": 12,
     "metadata": {},
     "output_type": "execute_result"
    }
   ],
   "source": [
    "selected_autos['model'].value_counts()"
   ]
  },
  {
   "cell_type": "code",
   "execution_count": 13,
   "metadata": {},
   "outputs": [
    {
     "data": {
      "text/plain": [
       "sedan          107178\n",
       "small           92569\n",
       "wagon           68808\n",
       "bus             32534\n",
       "convertible     20475\n",
       "coupe           16812\n",
       "suv             12680\n",
       "other            3313\n",
       "Name: vehicle_type, dtype: int64"
      ]
     },
     "execution_count": 13,
     "metadata": {},
     "output_type": "execute_result"
    }
   ],
   "source": [
    "selected_autos['vehicle_type'].value_counts()"
   ]
  },
  {
   "cell_type": "code",
   "execution_count": 14,
   "metadata": {},
   "outputs": [
    {
     "data": {
      "text/plain": [
       "manual    288084\n",
       "auto       66285\n",
       "Name: gearbox, dtype: int64"
      ]
     },
     "execution_count": 14,
     "metadata": {},
     "output_type": "execute_result"
    }
   ],
   "source": [
    "selected_autos['gearbox'].value_counts()"
   ]
  },
  {
   "cell_type": "code",
   "execution_count": 15,
   "metadata": {},
   "outputs": [
    {
     "data": {
      "text/plain": [
       "petrol      244344\n",
       "gasoline    103623\n",
       "lpg           5310\n",
       "cng            565\n",
       "hybrid         233\n",
       "other          204\n",
       "electric        90\n",
       "Name: fuel_type, dtype: int64"
      ]
     },
     "execution_count": 15,
     "metadata": {},
     "output_type": "execute_result"
    }
   ],
   "source": [
    "selected_autos['fuel_type'].value_counts()"
   ]
  },
  {
   "cell_type": "code",
   "execution_count": 16,
   "metadata": {},
   "outputs": [
    {
     "data": {
      "text/plain": [
       "no         247161\n",
       "unknown     71154\n",
       "yes         36054\n",
       "Name: repaired, dtype: int64"
      ]
     },
     "execution_count": 16,
     "metadata": {},
     "output_type": "execute_result"
    }
   ],
   "source": [
    "selected_autos['repaired'].value_counts()"
   ]
  },
  {
   "cell_type": "markdown",
   "metadata": {},
   "source": [
    "<div class=\"alert alert-warning\">\n",
    "<h3> Комментарий ревьюера<a class=\"tocSkip\"> </h3>\n",
    "    \n",
    "<b>Некоторые замечания и рекомендации💡:</b> \n",
    "    \n",
    "* Некоторые характеристики авто (кроме Repaired, но включая мощность авто), скорее всего, взаимосвязаны, поэтому можно хотя бы частично с некоторой степенью точности попробовать восстановить их друг на основе друга, например, VehicleType по модели.  Истину мы таким образом не восстановим, но у такого способа заполнения тем не менее есть преимущества. Просто удалить все пропуски мы не можем, поскольку у нас их очень много, потеряем существенную часть данных. Заглушка для признаков с большим количеством категорий будет представлять скорее мусорную корзину, в которую будет сложено все вперемешку. Это сохранит наблюдения для обучения по другим признакам, в которых пропуска не было, но по самой заглушке мы едва ли найдем какую-то закономерность. Глобальная мода, очевидно, может создать, к примеру, для каких-то моделей типы кузова, которых у нее даже потенциально не могло быть. Заполнение же модой по группе сохраняет наблюдения, но при этом более менее встраивается в ценовые различия. То есть мы можем предполагать, что основым ценоопределяющим фактором будет модель авто (по ней можно удалить пропуски), а различия, к примеру, кузова, эту цену будет уже не так сильно менять, поэтому мы в целом можем \"заглушить\" пропуск самым частым кузовом у данной модели.\n",
    "  \n",
    "    А вот для Repaired при этом корректнее поставить заглушку. С моделью данный признак едва ли взаимосвязан (наличие ремонта скорее зависит от аккуратности предыдущих владельцев и условий эксплуатации). Если же просто заполняем модой - отсутствие ремонта, то по сути приравниваем тех, кто, возможно, умышленно умолчал о наличии ремонта, к тем, у кого его действительно не было, что тоже не совсем корректно.\n",
    "    \n",
    "    \n",
    "* Код должен быть не только функциональным, доводить до результата, но и быть эффективным и читабельным. Обрати внимание, что функции, которые ты сейчас по отдельности создаешь для каждого признака, можно было бы сделать универсальными.\n",
    "    \n",
    "    \n",
    "* Для заполнения по группе удобно использовать <a href='https://pandas.pydata.org/docs/reference/api/pandas.DataFrame.transform.html'>transform</a>. Применив его к сгруппированным данным, мы можем сказать ему, какой показатель нам необходимо определить (мода, медиана), и он определит его для каждой строки датасета в соответсвии с его группой. Затем мы можем использовать данный вектор для заполнения пропусков ччерез `fillna`. Единстевенное, важно учесть, что какая-то группа может содержать только пропуски, в таком случае мода не определеня, будет вылезать ошибка. Поэтому нам необходимо прописать условие на такой сслучай `lambda x: x.mode()[0] if not x.mode().empty else None`.\n",
    "    \n",
    "    \n",
    "* Такого рода специфическую обработку по-хорошему нужно производить в пайпалайне в процессе обучения (поскольку она задействует другие данные), но для этого потребуется создавать кастомный трансформер, поэтому к этой обработке вне пайалайна относимся более снисходительно."
   ]
  },
  {
   "cell_type": "markdown",
   "metadata": {},
   "source": [
    "*Изменила способ заполнения пропусков*"
   ]
  },
  {
   "cell_type": "markdown",
   "metadata": {},
   "source": [
    "<div class=\"alert alert-success\">\n",
    "<h3> Комментарий ревьюера 2<a class=\"tocSkip\"> </h3> \n",
    "    \n",
    "<b>Все отлично! 👍:</b> 😉"
   ]
  },
  {
   "cell_type": "code",
   "execution_count": 17,
   "metadata": {},
   "outputs": [
    {
     "data": {
      "text/html": [
       "<div>\n",
       "<style scoped>\n",
       "    .dataframe tbody tr th:only-of-type {\n",
       "        vertical-align: middle;\n",
       "    }\n",
       "\n",
       "    .dataframe tbody tr th {\n",
       "        vertical-align: top;\n",
       "    }\n",
       "\n",
       "    .dataframe thead th {\n",
       "        text-align: right;\n",
       "    }\n",
       "</style>\n",
       "<table border=\"1\" class=\"dataframe\">\n",
       "  <thead>\n",
       "    <tr style=\"text-align: right;\">\n",
       "      <th></th>\n",
       "      <th>price</th>\n",
       "      <th>registration_year</th>\n",
       "      <th>power</th>\n",
       "      <th>kilometer</th>\n",
       "      <th>registration_month</th>\n",
       "    </tr>\n",
       "  </thead>\n",
       "  <tbody>\n",
       "    <tr>\n",
       "      <th>count</th>\n",
       "      <td>354369.000000</td>\n",
       "      <td>354369.000000</td>\n",
       "      <td>354369.000000</td>\n",
       "      <td>354369.000000</td>\n",
       "      <td>354369.000000</td>\n",
       "    </tr>\n",
       "    <tr>\n",
       "      <th>mean</th>\n",
       "      <td>4416.656776</td>\n",
       "      <td>2004.234448</td>\n",
       "      <td>110.094337</td>\n",
       "      <td>128211.172535</td>\n",
       "      <td>5.714645</td>\n",
       "    </tr>\n",
       "    <tr>\n",
       "      <th>std</th>\n",
       "      <td>4514.158514</td>\n",
       "      <td>90.227958</td>\n",
       "      <td>189.850405</td>\n",
       "      <td>37905.341530</td>\n",
       "      <td>3.726421</td>\n",
       "    </tr>\n",
       "    <tr>\n",
       "      <th>min</th>\n",
       "      <td>0.000000</td>\n",
       "      <td>1000.000000</td>\n",
       "      <td>0.000000</td>\n",
       "      <td>5000.000000</td>\n",
       "      <td>0.000000</td>\n",
       "    </tr>\n",
       "    <tr>\n",
       "      <th>25%</th>\n",
       "      <td>1050.000000</td>\n",
       "      <td>1999.000000</td>\n",
       "      <td>69.000000</td>\n",
       "      <td>125000.000000</td>\n",
       "      <td>3.000000</td>\n",
       "    </tr>\n",
       "    <tr>\n",
       "      <th>50%</th>\n",
       "      <td>2700.000000</td>\n",
       "      <td>2003.000000</td>\n",
       "      <td>105.000000</td>\n",
       "      <td>150000.000000</td>\n",
       "      <td>6.000000</td>\n",
       "    </tr>\n",
       "    <tr>\n",
       "      <th>75%</th>\n",
       "      <td>6400.000000</td>\n",
       "      <td>2008.000000</td>\n",
       "      <td>143.000000</td>\n",
       "      <td>150000.000000</td>\n",
       "      <td>9.000000</td>\n",
       "    </tr>\n",
       "    <tr>\n",
       "      <th>max</th>\n",
       "      <td>20000.000000</td>\n",
       "      <td>9999.000000</td>\n",
       "      <td>20000.000000</td>\n",
       "      <td>150000.000000</td>\n",
       "      <td>12.000000</td>\n",
       "    </tr>\n",
       "  </tbody>\n",
       "</table>\n",
       "</div>"
      ],
      "text/plain": [
       "               price  registration_year          power      kilometer  \\\n",
       "count  354369.000000      354369.000000  354369.000000  354369.000000   \n",
       "mean     4416.656776        2004.234448     110.094337  128211.172535   \n",
       "std      4514.158514          90.227958     189.850405   37905.341530   \n",
       "min         0.000000        1000.000000       0.000000    5000.000000   \n",
       "25%      1050.000000        1999.000000      69.000000  125000.000000   \n",
       "50%      2700.000000        2003.000000     105.000000  150000.000000   \n",
       "75%      6400.000000        2008.000000     143.000000  150000.000000   \n",
       "max     20000.000000        9999.000000   20000.000000  150000.000000   \n",
       "\n",
       "       registration_month  \n",
       "count       354369.000000  \n",
       "mean             5.714645  \n",
       "std              3.726421  \n",
       "min              0.000000  \n",
       "25%              3.000000  \n",
       "50%              6.000000  \n",
       "75%              9.000000  \n",
       "max             12.000000  "
      ]
     },
     "execution_count": 17,
     "metadata": {},
     "output_type": "execute_result"
    }
   ],
   "source": [
    "selected_autos.describe()"
   ]
  },
  {
   "cell_type": "markdown",
   "metadata": {},
   "source": [
    "По данной таблице можно сделать следующие выводы:\n",
    "\n",
    "- В столбце price наблюдается 354369 значений. Средняя цена составляет 4416.66 евро. Стандартное отклонение, равное 4514.16, указывает на значительное разнообразие цен. Это говорит о том, что цены варьируются от очень низких до очень высоких. Минимальная цена равна 0 евро, что может указывать на наличие записей с отсутствующей или некорректной ценой.\n",
    "25%: 25% автомобилей стоят менее 1050 евро.\n",
    "50% (медиана) — половина автомобилей стоит менее 2700 евро.\n",
    "75%: — 75% автомобилей стоят менее 6400 евро.\n",
    "Максимальная цена составляет 20000 евро, что указывает на наличие дорогих автомобилей в наборе данных.\n",
    "\n",
    "- В столбце registration_year наблюдается 354369 значений. mean: средний год регистрации автомобиля составляет 2004 год.\n",
    "std: стандартное отклонение, равное 90.23, указывает на то, что годы регистрации варьируются.\n",
    "min: минимальный год регистрации равен 1000, что явно является ошибкой или некорректным значением.\n",
    "25%: 25% автомобилей зарегистрированы до 1999 года.\n",
    "50% (медиана): половина автомобилей зарегистрирована до 2003 года.\n",
    "75%: 75% автомобилей зарегистрированы до 2008 года.\n",
    "max: максимальный год регистрации равен 9999, что также указывает на наличие некорректных значений.\n",
    "\n",
    "- В столбце power наблюдается 354369 значений. mean: средняя мощность автомобиля составляет примерно 110.09 л.с.\n",
    "std: стандартное отклонение, равное 189.85, указывает на значительное разнообразие мощностей.\n",
    "min: минимальная мощность равна 0 л.с., что может указывать на наличие некорректных данных.\n",
    "25%: 25% автомобилей имеют мощность менее 69 л.с.\n",
    "50% (медиана): половина автомобилей имеет мощность менее 105 л.с.\n",
    "75%: 75% автомобилей имеют мощность менее 143 л.с.\n",
    "max: максимальная мощность составляет 20000 л.с., что является аномально высоким значением и указывает на наличие некорректных данных.\n",
    "\n",
    "- В столбце kilometer наблюдается 354369 значений. mean: средний пробег автомобиля составляет примерно 128211.17 км.\n",
    "std: стандартное отклонение, равное 37905.34, указывает на значительное разнообразие пробегов.\n",
    "min: минимальный пробег составляет 5000 км.\n",
    "25%: 25% автомобилей имеют пробег менее 125000 км.\n",
    "50% (медиана): половина автомобилей имеет пробег менее 150000 км.\n",
    "75%: 75% автомобилей имеют пробег менее 150000 км.\n",
    "max: максимальный пробег составляет 150000 км, что указывает на наличие автомобилей с одинаковым максимальным пробегом.\n"
   ]
  },
  {
   "cell_type": "markdown",
   "metadata": {},
   "source": [
    "Проанализируем целевой признак Price и его распределение"
   ]
  },
  {
   "cell_type": "code",
   "execution_count": 18,
   "metadata": {},
   "outputs": [
    {
     "data": {
      "text/plain": [
       "0        10772\n",
       "500       5670\n",
       "1500      5394\n",
       "1000      4649\n",
       "1200      4594\n",
       "         ...  \n",
       "13180        1\n",
       "10879        1\n",
       "2683         1\n",
       "634          1\n",
       "8188         1\n",
       "Name: price, Length: 3731, dtype: int64"
      ]
     },
     "execution_count": 18,
     "metadata": {},
     "output_type": "execute_result"
    }
   ],
   "source": [
    "selected_autos['price'].value_counts()"
   ]
  },
  {
   "cell_type": "markdown",
   "metadata": {},
   "source": [
    "Видим, что в данных встречаются значения равные 0 - это могут быть некорректно введенные данные (всего их 10772). Оставим в таблице данные, которые больше 0"
   ]
  },
  {
   "cell_type": "code",
   "execution_count": 19,
   "metadata": {},
   "outputs": [
    {
     "data": {
      "text/plain": [
       "500      5670\n",
       "1500     5394\n",
       "1000     4649\n",
       "1200     4594\n",
       "2500     4438\n",
       "         ... \n",
       "5240        1\n",
       "13180       1\n",
       "10879       1\n",
       "2683        1\n",
       "8188        1\n",
       "Name: price, Length: 3730, dtype: int64"
      ]
     },
     "execution_count": 19,
     "metadata": {},
     "output_type": "execute_result"
    }
   ],
   "source": [
    "selected_autos = selected_autos.query('price > 0')\n",
    "selected_autos['price'].value_counts()"
   ]
  },
  {
   "cell_type": "code",
   "execution_count": 20,
   "metadata": {},
   "outputs": [
    {
     "data": {
      "image/png": "[encoded data removed]",
      "text/plain": [
       "<Figure size 720x360 with 1 Axes>"
      ]
     },
     "metadata": {
      "needs_background": "light"
     },
     "output_type": "display_data"
    }
   ],
   "source": [
    "plt.figure(figsize=(10, 5))\n",
    "sns.histplot(selected_autos['price'], bins=50, kde=True, color='skyblue')\n",
    "plt.title(f'Цена автомобиля(евро)')\n",
    "plt.xlabel('Цена')\n",
    "plt.ylabel('Частота')\n",
    "plt.show()"
   ]
  },
  {
   "cell_type": "markdown",
   "metadata": {},
   "source": [
    "В столбце price данные разбросаны достаточно широко, наиболее часто встречающиеся значения находятся в диапозоне от 500-2500"
   ]
  },
  {
   "cell_type": "markdown",
   "metadata": {},
   "source": [
    "Теперь построим диаграмму распределения, чтобы оценить выбросы"
   ]
  },
  {
   "cell_type": "code",
   "execution_count": 21,
   "metadata": {},
   "outputs": [
    {
     "data": {
      "text/html": [
       "<div>\n",
       "<style scoped>\n",
       "    .dataframe tbody tr th:only-of-type {\n",
       "        vertical-align: middle;\n",
       "    }\n",
       "\n",
       "    .dataframe tbody tr th {\n",
       "        vertical-align: top;\n",
       "    }\n",
       "\n",
       "    .dataframe thead th {\n",
       "        text-align: right;\n",
       "    }\n",
       "</style>\n",
       "<table border=\"1\" class=\"dataframe\">\n",
       "  <thead>\n",
       "    <tr style=\"text-align: right;\">\n",
       "      <th></th>\n",
       "      <th>price</th>\n",
       "      <th>registration_year</th>\n",
       "      <th>power</th>\n",
       "      <th>kilometer</th>\n",
       "      <th>registration_month</th>\n",
       "    </tr>\n",
       "  </thead>\n",
       "  <tbody>\n",
       "    <tr>\n",
       "      <th>count</th>\n",
       "      <td>343597.000000</td>\n",
       "      <td>343597.000000</td>\n",
       "      <td>343597.000000</td>\n",
       "      <td>343597.000000</td>\n",
       "      <td>343597.000000</td>\n",
       "    </tr>\n",
       "    <tr>\n",
       "      <th>mean</th>\n",
       "      <td>4555.121974</td>\n",
       "      <td>2004.089797</td>\n",
       "      <td>111.000192</td>\n",
       "      <td>128337.616452</td>\n",
       "      <td>5.777891</td>\n",
       "    </tr>\n",
       "    <tr>\n",
       "      <th>std</th>\n",
       "      <td>4515.058553</td>\n",
       "      <td>78.413225</td>\n",
       "      <td>188.177974</td>\n",
       "      <td>37521.047429</td>\n",
       "      <td>3.698186</td>\n",
       "    </tr>\n",
       "    <tr>\n",
       "      <th>min</th>\n",
       "      <td>1.000000</td>\n",
       "      <td>1000.000000</td>\n",
       "      <td>0.000000</td>\n",
       "      <td>5000.000000</td>\n",
       "      <td>0.000000</td>\n",
       "    </tr>\n",
       "    <tr>\n",
       "      <th>25%</th>\n",
       "      <td>1200.000000</td>\n",
       "      <td>1999.000000</td>\n",
       "      <td>69.000000</td>\n",
       "      <td>125000.000000</td>\n",
       "      <td>3.000000</td>\n",
       "    </tr>\n",
       "    <tr>\n",
       "      <th>50%</th>\n",
       "      <td>2890.000000</td>\n",
       "      <td>2003.000000</td>\n",
       "      <td>105.000000</td>\n",
       "      <td>150000.000000</td>\n",
       "      <td>6.000000</td>\n",
       "    </tr>\n",
       "    <tr>\n",
       "      <th>75%</th>\n",
       "      <td>6500.000000</td>\n",
       "      <td>2008.000000</td>\n",
       "      <td>143.000000</td>\n",
       "      <td>150000.000000</td>\n",
       "      <td>9.000000</td>\n",
       "    </tr>\n",
       "    <tr>\n",
       "      <th>max</th>\n",
       "      <td>20000.000000</td>\n",
       "      <td>9999.000000</td>\n",
       "      <td>20000.000000</td>\n",
       "      <td>150000.000000</td>\n",
       "      <td>12.000000</td>\n",
       "    </tr>\n",
       "  </tbody>\n",
       "</table>\n",
       "</div>"
      ],
      "text/plain": [
       "               price  registration_year          power      kilometer  \\\n",
       "count  343597.000000      343597.000000  343597.000000  343597.000000   \n",
       "mean     4555.121974        2004.089797     111.000192  128337.616452   \n",
       "std      4515.058553          78.413225     188.177974   37521.047429   \n",
       "min         1.000000        1000.000000       0.000000    5000.000000   \n",
       "25%      1200.000000        1999.000000      69.000000  125000.000000   \n",
       "50%      2890.000000        2003.000000     105.000000  150000.000000   \n",
       "75%      6500.000000        2008.000000     143.000000  150000.000000   \n",
       "max     20000.000000        9999.000000   20000.000000  150000.000000   \n",
       "\n",
       "       registration_month  \n",
       "count       343597.000000  \n",
       "mean             5.777891  \n",
       "std              3.698186  \n",
       "min              0.000000  \n",
       "25%              3.000000  \n",
       "50%              6.000000  \n",
       "75%              9.000000  \n",
       "max             12.000000  "
      ]
     },
     "execution_count": 21,
     "metadata": {},
     "output_type": "execute_result"
    }
   ],
   "source": [
    "selected_autos.describe()"
   ]
  },
  {
   "cell_type": "code",
   "execution_count": 22,
   "metadata": {},
   "outputs": [
    {
     "data": {
      "image/png": "[encoded data removed]",
      "text/plain": [
       "<Figure size 720x360 with 1 Axes>"
      ]
     },
     "metadata": {
      "needs_background": "light"
     },
     "output_type": "display_data"
    }
   ],
   "source": [
    "plt.figure(figsize=(10, 5))\n",
    "sns.boxplot(x=selected_autos['price'], color='lightblue')\n",
    "plt.title(f'Цена автомобиля(евро)')\n",
    "plt.xlabel(f'Цена')\n",
    "plt.show()"
   ]
  },
  {
   "cell_type": "markdown",
   "metadata": {},
   "source": [
    "Среднее значение: 4,555.12. Это средняя цена автомобилей в данном наборе данных.\n",
    "25-й процентиль: 1,200, что означает, что 25% автомобилей стоят меньше этой суммы.\n",
    "50-й процентиль (медиана): 2,890, что указывает на то, что половина автомобилей стоит меньше этой цены.\n",
    "75-й процентиль: 6,500, что означает, что 75% автомобилей стоят меньше этой суммы.\n"
   ]
  },
  {
   "cell_type": "markdown",
   "metadata": {},
   "source": [
    "Рассмотрим выбросы поподробнее"
   ]
  },
  {
   "cell_type": "code",
   "execution_count": 23,
   "metadata": {},
   "outputs": [
    {
     "name": "stdout",
     "output_type": "stream",
     "text": [
      "(18907, 11)\n",
      "Q1 = 1200.0\n",
      "Q3 = 6500.0\n"
     ]
    }
   ],
   "source": [
    "# Вычисляем Q1 и Q3\n",
    "Q1 = selected_autos['price'].quantile(0.25)\n",
    "Q3 = selected_autos['price'].quantile(0.75)\n",
    "IQR = Q3 - Q1\n",
    "\n",
    "# Определяем границы для выбросов\n",
    "lower_bound = Q1 - 1.5 * IQR\n",
    "upper_bound = Q3 + 1.5 * IQR\n",
    "\n",
    "# Идентификация выбросов\n",
    "outliers = selected_autos[(selected_autos['price'] < lower_bound) | (selected_autos['price'] > upper_bound)]\n",
    "\n",
    "# Выводим выбросы\n",
    "print(outliers.shape)\n",
    "print(f'Q1 = {Q1}')\n",
    "print(f'Q3 = {Q3}')"
   ]
  },
  {
   "cell_type": "markdown",
   "metadata": {},
   "source": [
    "Так как в этом столбце достаточно много выбросов, удалять их не стоит, ведь они могут содержать важную информацию, поэтому оставим эти значения без изменений"
   ]
  },
  {
   "cell_type": "markdown",
   "metadata": {},
   "source": [
    "<div class=\"alert alert-success\">\n",
    "<h3> Комментарий ревьюера <a class=\"tocSkip\"> </h3> \n",
    "    \n",
    "<b>Все отлично! 👍:</b> С избавлением от низких цен согласна! Однако не стала бы их считать ошибочными, они вполне могут быть реальными, например, могут быть случаи, когда что-то в совсем плачевном состоянии готовы отдать даром на разборку. Или же это неявные пропуски - продавец решил не указывать цену в анкете, а озвучивать ее по запросу. В данном случае наша мотивация избавиться от такой цены, действительно, в том, чтобы не обучать модель ее предсказывать. Это сомнительно - клиент, не готовый отдавать что-то совсем даром, вряд ли будет рад увидеть такую оценку для своего автомобиля."
   ]
  },
  {
   "cell_type": "markdown",
   "metadata": {},
   "source": [
    "**Проанализируем признак registration_year**"
   ]
  },
  {
   "cell_type": "code",
   "execution_count": 24,
   "metadata": {},
   "outputs": [
    {
     "data": {
      "text/plain": [
       "count    343597.000000\n",
       "mean       2004.089797\n",
       "std          78.413225\n",
       "min        1000.000000\n",
       "25%        1999.000000\n",
       "50%        2003.000000\n",
       "75%        2008.000000\n",
       "max        9999.000000\n",
       "Name: registration_year, dtype: float64"
      ]
     },
     "execution_count": 24,
     "metadata": {},
     "output_type": "execute_result"
    }
   ],
   "source": [
    "selected_autos['registration_year'].describe()"
   ]
  },
  {
   "cell_type": "markdown",
   "metadata": {},
   "source": [
    "По данной таблице можно заметить, что у нас некорректные данные (минимальное значение - 1000, максимальное значение - 9999)"
   ]
  },
  {
   "cell_type": "markdown",
   "metadata": {},
   "source": [
    "Чтобы узнать дату выведем максимальное значение из столбца DateCrawled"
   ]
  },
  {
   "cell_type": "code",
   "execution_count": 25,
   "metadata": {},
   "outputs": [
    {
     "data": {
      "text/plain": [
       "Timestamp('2016-04-07 14:36:58')"
      ]
     },
     "execution_count": 25,
     "metadata": {},
     "output_type": "execute_result"
    }
   ],
   "source": [
    "autos['date_crawled'].max()"
   ]
  },
  {
   "cell_type": "markdown",
   "metadata": {},
   "source": [
    "В столбце registration_year также укажем 2016 год максимальным, а автомобили появились и были запущены в серийное производство в 1886 году, поэтому сократим наши данные, удалив некорректные"
   ]
  },
  {
   "cell_type": "code",
   "execution_count": 26,
   "metadata": {},
   "outputs": [
    {
     "data": {
      "text/plain": [
       "count    322832.000000\n",
       "mean       2002.305673\n",
       "std           6.714409\n",
       "min        1910.000000\n",
       "25%        1999.000000\n",
       "50%        2003.000000\n",
       "75%        2007.000000\n",
       "max        2016.000000\n",
       "Name: registration_year, dtype: float64"
      ]
     },
     "execution_count": 26,
     "metadata": {},
     "output_type": "execute_result"
    }
   ],
   "source": [
    "selected_autos = selected_autos[\n",
    "    (\n",
    "        (selected_autos['registration_year'] >= 1886) &\n",
    "        (selected_autos['registration_year'] < 2016)\n",
    "    ) |\n",
    "    (\n",
    "        (selected_autos['registration_year'] == 2016) &\n",
    "        (selected_autos['registration_month'] <= 4) &\n",
    "        (selected_autos['registration_month'] > 0)  # исключим неизвестные месяцы\n",
    "    )\n",
    "]\n",
    "\n",
    "\n",
    "\n",
    "selected_autos['registration_year'].describe()"
   ]
  },
  {
   "cell_type": "code",
   "execution_count": 27,
   "metadata": {},
   "outputs": [
    {
     "data": {
      "image/png": "[encoded data removed]",
      "text/plain": [
       "<Figure size 720x360 with 1 Axes>"
      ]
     },
     "metadata": {
      "needs_background": "light"
     },
     "output_type": "display_data"
    }
   ],
   "source": [
    "plt.figure(figsize=(10, 5))\n",
    "sns.histplot(selected_autos['registration_year'], bins=50, kde=True, color='skyblue')\n",
    "plt.title(f'Год регистрации автомобиля')\n",
    "plt.xlabel('Год регистрации')\n",
    "plt.ylabel('Частота')\n",
    "plt.show()"
   ]
  },
  {
   "cell_type": "markdown",
   "metadata": {},
   "source": [
    "По данному графику видим, что данные распредлены достаточно широко, наиболее распространенные значения встречаются в диапозоне от 1999 до 2016, рост диаграммы начинается у значения ~1980, поэтому мы можем удалить данные за период до 1960 года, тк эти значения встречаются крайне редко"
   ]
  },
  {
   "cell_type": "code",
   "execution_count": 28,
   "metadata": {},
   "outputs": [
    {
     "data": {
      "text/plain": [
       "count    322545.000000\n",
       "mean       2002.359395\n",
       "std           6.449159\n",
       "min        1960.000000\n",
       "25%        1999.000000\n",
       "50%        2003.000000\n",
       "75%        2007.000000\n",
       "max        2016.000000\n",
       "Name: registration_year, dtype: float64"
      ]
     },
     "execution_count": 28,
     "metadata": {},
     "output_type": "execute_result"
    }
   ],
   "source": [
    "selected_autos = selected_autos.query('1959 < registration_year < 2017')\n",
    "selected_autos['registration_year'].describe()"
   ]
  },
  {
   "cell_type": "code",
   "execution_count": 29,
   "metadata": {},
   "outputs": [
    {
     "data": {
      "image/png": "[encoded data removed]",
      "text/plain": [
       "<Figure size 720x360 with 1 Axes>"
      ]
     },
     "metadata": {
      "needs_background": "light"
     },
     "output_type": "display_data"
    }
   ],
   "source": [
    "plt.figure(figsize=(10, 5))\n",
    "sns.histplot(selected_autos['registration_year'], bins=50, kde=True, color='skyblue')\n",
    "plt.title(f'Год регистрации автомобиля')\n",
    "plt.xlabel('Год регистрации')\n",
    "plt.ylabel('Частота')\n",
    "plt.show()"
   ]
  },
  {
   "cell_type": "markdown",
   "metadata": {},
   "source": [
    "Теперь также посмотрим на диаграмму рассеяния"
   ]
  },
  {
   "cell_type": "code",
   "execution_count": 30,
   "metadata": {},
   "outputs": [
    {
     "data": {
      "image/png": "[encoded data removed]",
      "text/plain": [
       "<Figure size 720x360 with 1 Axes>"
      ]
     },
     "metadata": {
      "needs_background": "light"
     },
     "output_type": "display_data"
    }
   ],
   "source": [
    "plt.figure(figsize=(10, 5))\n",
    "sns.boxplot(x=selected_autos['registration_year'], color='lightblue')\n",
    "plt.title(f'Год регистрации автомобиля')\n",
    "plt.xlabel(f'Год регистрации')\n",
    "plt.show()"
   ]
  },
  {
   "cell_type": "markdown",
   "metadata": {},
   "source": [
    "Среднее значение - 2002, медиана - 2003. Видим, что наблюдается достаточно много выбросов за пределами 1 квантиля(тк эти значения являются редкими)"
   ]
  },
  {
   "cell_type": "markdown",
   "metadata": {},
   "source": [
    "<div class=\"alert alert-warning\">\n",
    "<h3> Комментарий ревьюера<a class=\"tocSkip\"> </h3>\n",
    "    \n",
    "<b>Некоторые замечания и рекомендации💡:</b> Можно также учитывать месяц регистрации и тот факт, что последняя выгрузка была произведена в апреле 2016, чтобы не терять корректные наблюдения с регистрацией в 2016 году, но не брать все, что позже апреля."
   ]
  },
  {
   "cell_type": "markdown",
   "metadata": {},
   "source": [
    "Учла также месяц"
   ]
  },
  {
   "cell_type": "markdown",
   "metadata": {},
   "source": [
    "<div class=\"alert alert-success\">\n",
    "<h3> Комментарий ревьюера 2<a class=\"tocSkip\"> </h3> \n",
    "    \n",
    "<b>Все отлично! 👍:</b> 😉"
   ]
  },
  {
   "cell_type": "markdown",
   "metadata": {},
   "source": [
    "**Рассмотрим признак power**"
   ]
  },
  {
   "cell_type": "code",
   "execution_count": 31,
   "metadata": {},
   "outputs": [
    {
     "data": {
      "text/plain": [
       "count    322545.000000\n",
       "mean        112.656166\n",
       "std         181.610430\n",
       "min           0.000000\n",
       "25%          72.000000\n",
       "50%         105.000000\n",
       "75%         143.000000\n",
       "max       20000.000000\n",
       "Name: power, dtype: float64"
      ]
     },
     "execution_count": 31,
     "metadata": {},
     "output_type": "execute_result"
    }
   ],
   "source": [
    "selected_autos['power'].describe()"
   ]
  },
  {
   "cell_type": "markdown",
   "metadata": {},
   "source": [
    "В столбце power наблюдается 354369 значений. mean: средняя мощность автомобиля составляет примерно 112 л.с. std: стандартное отклонение, равное 185, указывает на значительное разнообразие мощностей. min: минимальная мощность равна 0 л.с., что может указывать на наличие некорректных данных. max: максимальная мощность составляет 20000 л.с., что является аномально высоким значением и указывает на наличие некорректных данных.\n",
    "\n",
    "Построим диаграмму"
   ]
  },
  {
   "cell_type": "code",
   "execution_count": 32,
   "metadata": {
    "scrolled": true
   },
   "outputs": [
    {
     "data": {
      "image/png": "[encoded data removed]",
      "text/plain": [
       "<Figure size 720x360 with 1 Axes>"
      ]
     },
     "metadata": {
      "needs_background": "light"
     },
     "output_type": "display_data"
    }
   ],
   "source": [
    "plt.figure(figsize=(10, 5))\n",
    "sns.histplot(selected_autos['power'], bins=100, kde=True, color='skyblue')\n",
    "plt.title(f'Мощность (л. с.)')\n",
    "plt.xlabel('Мощность')\n",
    "plt.ylabel('Частота')\n",
    "plt.show()"
   ]
  },
  {
   "cell_type": "markdown",
   "metadata": {},
   "source": [
    "Видим, что разброс данных широкий, поэтому значение 20000 является аномальным, кроме того, мощность не может быть = 0, поэтому попробуем восстановить данные, опираясь на столбцы model, fuel_type. Для этого создадим функцию, которая Заполняет пропуски медианой по группам, если медиана отсутствует, оставляет 0. Затем оставим данные, которые больше 0 и меньше 1000"
   ]
  },
  {
   "cell_type": "code",
   "execution_count": 33,
   "metadata": {},
   "outputs": [],
   "source": [
    "def fillna_median_per_group(df, group_cols, current_col):\n",
    "    median_series = (\n",
    "        df.groupby(group_cols)[current_col]\n",
    "        .transform(lambda x: x.median() if not x.dropna().empty else 0)\n",
    "    )\n",
    "    df[current_col] = df[current_col].fillna(median_series)\n",
    "    return df\n",
    "\n",
    "selected_autos = fillna_median_per_group(\n",
    "    selected_autos,\n",
    "    group_cols=['model', 'fuel_type'],\n",
    "    current_col='power'\n",
    ")"
   ]
  },
  {
   "cell_type": "code",
   "execution_count": 34,
   "metadata": {},
   "outputs": [
    {
     "data": {
      "text/plain": [
       "count    291650.000000\n",
       "mean        121.071970\n",
       "std          54.827551\n",
       "min           2.000000\n",
       "25%          77.000000\n",
       "50%         113.000000\n",
       "75%         150.000000\n",
       "max        1000.000000\n",
       "Name: power, dtype: float64"
      ]
     },
     "execution_count": 34,
     "metadata": {},
     "output_type": "execute_result"
    }
   ],
   "source": [
    "selected_autos = selected_autos.query('1 < power < 1001')\n",
    "selected_autos['power'].describe()"
   ]
  },
  {
   "cell_type": "code",
   "execution_count": 35,
   "metadata": {},
   "outputs": [
    {
     "data": {
      "image/png": "[encoded data removed]",
      "text/plain": [
       "<Figure size 720x360 with 1 Axes>"
      ]
     },
     "metadata": {
      "needs_background": "light"
     },
     "output_type": "display_data"
    }
   ],
   "source": [
    "plt.figure(figsize=(10, 5))\n",
    "sns.histplot(selected_autos['power'], bins=100, kde=True, color='skyblue')\n",
    "plt.title(f'Мощность (л. с.)')\n",
    "plt.xlabel('Мощность')\n",
    "plt.ylabel('Частота')\n",
    "plt.show()"
   ]
  },
  {
   "cell_type": "markdown",
   "metadata": {},
   "source": [
    "По данному графику видно, что значения большие 400 крайне редкие, поэтому пусть 400 будет максимальным"
   ]
  },
  {
   "cell_type": "code",
   "execution_count": 36,
   "metadata": {},
   "outputs": [
    {
     "data": {
      "text/plain": [
       "count    291260.000000\n",
       "mean        120.542776\n",
       "std          52.702640\n",
       "min           2.000000\n",
       "25%          77.000000\n",
       "50%         113.000000\n",
       "75%         150.000000\n",
       "max         400.000000\n",
       "Name: power, dtype: float64"
      ]
     },
     "execution_count": 36,
     "metadata": {},
     "output_type": "execute_result"
    }
   ],
   "source": [
    "selected_autos = selected_autos.query('power < 401')\n",
    "selected_autos['power'].describe()"
   ]
  },
  {
   "cell_type": "code",
   "execution_count": 37,
   "metadata": {},
   "outputs": [
    {
     "data": {
      "image/png": "[encoded data removed]",
      "text/plain": [
       "<Figure size 720x360 with 1 Axes>"
      ]
     },
     "metadata": {
      "needs_background": "light"
     },
     "output_type": "display_data"
    }
   ],
   "source": [
    "plt.figure(figsize=(10, 5))\n",
    "sns.histplot(selected_autos['power'], bins=100, kde=True, color='skyblue')\n",
    "plt.title(f'Мощность (л. с.)')\n",
    "plt.xlabel('Мощность')\n",
    "plt.ylabel('Частота')\n",
    "plt.show()"
   ]
  },
  {
   "cell_type": "markdown",
   "metadata": {},
   "source": [
    "Теперь посмотрим на ящик с усами"
   ]
  },
  {
   "cell_type": "code",
   "execution_count": 38,
   "metadata": {},
   "outputs": [
    {
     "data": {
      "image/png": "[encoded data removed]",
      "text/plain": [
       "<Figure size 720x360 with 1 Axes>"
      ]
     },
     "metadata": {
      "needs_background": "light"
     },
     "output_type": "display_data"
    }
   ],
   "source": [
    "plt.figure(figsize=(10, 5))\n",
    "sns.boxplot(x=selected_autos['power'], color='lightblue')\n",
    "plt.title(f'Мощность (л. с.)')\n",
    "plt.xlabel(f'Мощность (л. с.)')\n",
    "plt.show()"
   ]
  },
  {
   "cell_type": "markdown",
   "metadata": {},
   "source": [
    "Среднее значение - 120, медиана - 110. Наблюдаются выбросы за пределами 3 квантиля(тк эти значения редкие)"
   ]
  },
  {
   "cell_type": "markdown",
   "metadata": {},
   "source": [
    "<div class=\"alert alert-warning\">\n",
    "<h3> Комментарий ревьюера <a class=\"tocSkip\"> </h3>\n",
    "    \n",
    "<b>Некоторые замечания и рекомендации💡:</b> У мощности очень много нулевых значений, которые в данном случае очень похожи на неявные пропуски, их можно попробовать восстановить на основе других характеристик авто, поскольку они могут быть взаимосвязаны."
   ]
  },
  {
   "cell_type": "markdown",
   "metadata": {},
   "source": [
    "<div class=\"alert alert-warning\">\n",
    "<h3> Комментарий ревьюера 2<a class=\"tocSkip\"> </h3>\n",
    "    \n",
    "<b>Некоторые замечания и рекомендации💡:</b> Исходно в мощности у нас не было пропусков, только неявные, замаскированные нулями. Поэтому их сначала нужно было заменить на пропуски и только потом использовать `fillna`."
   ]
  },
  {
   "cell_type": "markdown",
   "metadata": {},
   "source": [
    "**Рассмотрим признак Kilometer**"
   ]
  },
  {
   "cell_type": "code",
   "execution_count": 39,
   "metadata": {},
   "outputs": [
    {
     "data": {
      "text/plain": [
       "count    291260.000000\n",
       "mean     128163.891369\n",
       "std       36823.758320\n",
       "min        5000.000000\n",
       "25%      125000.000000\n",
       "50%      150000.000000\n",
       "75%      150000.000000\n",
       "max      150000.000000\n",
       "Name: kilometer, dtype: float64"
      ]
     },
     "execution_count": 39,
     "metadata": {},
     "output_type": "execute_result"
    }
   ],
   "source": [
    "selected_autos['kilometer'].describe()"
   ]
  },
  {
   "cell_type": "markdown",
   "metadata": {},
   "source": [
    "В столбце kilometer наблюдается 296066 значений. mean: средний пробег автомобиля составляет примерно 128297 км. std: стандартное отклонение, равное 36760, указывает на значительное разнообразие пробегов. min: минимальный пробег составляет 5000 км. max: максимальный пробег составляет 150000 км, что указывает на наличие автомобилей с одинаковым максимальным пробегом."
   ]
  },
  {
   "cell_type": "code",
   "execution_count": 40,
   "metadata": {},
   "outputs": [
    {
     "data": {
      "image/png": "[encoded data removed]",
      "text/plain": [
       "<Figure size 720x360 with 1 Axes>"
      ]
     },
     "metadata": {
      "needs_background": "light"
     },
     "output_type": "display_data"
    }
   ],
   "source": [
    "plt.figure(figsize=(10, 5))\n",
    "sns.countplot(data=selected_autos, x='kilometer', color='skyblue')\n",
    "plt.title('Пробег (км)')\n",
    "plt.xlabel('Пробег')\n",
    "plt.ylabel('Частота')\n",
    "plt.show()"
   ]
  },
  {
   "cell_type": "markdown",
   "metadata": {},
   "source": [
    "По данной таблице видим, что самое частое значение 150000, кроме того, заметно, что чем больше пробег, тем чаще встречается это значение\n",
    "\n",
    "Также рассмотрим диаграмму рассеяния, чтобы оценить выбросы"
   ]
  },
  {
   "cell_type": "code",
   "execution_count": 41,
   "metadata": {},
   "outputs": [
    {
     "data": {
      "image/png": "[encoded data removed]",
      "text/plain": [
       "<Figure size 720x360 with 1 Axes>"
      ]
     },
     "metadata": {
      "needs_background": "light"
     },
     "output_type": "display_data"
    }
   ],
   "source": [
    "plt.figure(figsize=(10, 5))\n",
    "sns.boxplot(x=selected_autos['kilometer'], color='lightblue')\n",
    "plt.title(f'Пробег (км)')\n",
    "plt.xlabel(f'Пробег')\n",
    "plt.show()"
   ]
  },
  {
   "cell_type": "markdown",
   "metadata": {},
   "source": [
    "Из-за того, что значения меньшие 90000 встречаются реже они являются выбросами"
   ]
  },
  {
   "cell_type": "code",
   "execution_count": 42,
   "metadata": {},
   "outputs": [
    {
     "data": {
      "text/plain": [
       "Index(['price', 'vehicle_type', 'registration_year', 'gearbox', 'power',\n",
       "       'model', 'kilometer', 'registration_month', 'fuel_type', 'brand',\n",
       "       'repaired'],\n",
       "      dtype='object')"
      ]
     },
     "execution_count": 42,
     "metadata": {},
     "output_type": "execute_result"
    }
   ],
   "source": [
    "selected_autos.columns"
   ]
  },
  {
   "cell_type": "markdown",
   "metadata": {},
   "source": [
    "Рассмотрим теперь категориальные признаки 'vehicle_type', 'gearbox', 'fuel_type', 'repaired'"
   ]
  },
  {
   "cell_type": "code",
   "execution_count": 43,
   "metadata": {},
   "outputs": [
    {
     "data": {
      "image/png": "[encoded data removed]",
      "text/plain": [
       "<Figure size 720x360 with 1 Axes>"
      ]
     },
     "metadata": {
      "needs_background": "light"
     },
     "output_type": "display_data"
    },
    {
     "data": {
      "image/png": "[encoded data removed]",
      "text/plain": [
       "<Figure size 720x360 with 1 Axes>"
      ]
     },
     "metadata": {
      "needs_background": "light"
     },
     "output_type": "display_data"
    },
    {
     "data": {
      "image/png": "[encoded data removed]",
      "text/plain": [
       "<Figure size 720x360 with 1 Axes>"
      ]
     },
     "metadata": {
      "needs_background": "light"
     },
     "output_type": "display_data"
    },
    {
     "data": {
      "image/png": "[encoded data removed]",
      "text/plain": [
       "<Figure size 720x360 with 1 Axes>"
      ]
     },
     "metadata": {
      "needs_background": "light"
     },
     "output_type": "display_data"
    }
   ],
   "source": [
    "categorical_features = ['vehicle_type', 'gearbox', 'fuel_type', 'repaired']\n",
    "for feature in categorical_features:\n",
    "    plt.figure(figsize=(10, 5))\n",
    "    sns.countplot(data=selected_autos, x=feature, palette='muted')\n",
    "    plt.title(f'Распределение по {feature}')\n",
    "    plt.xlabel(feature)\n",
    "    plt.ylabel('Количество')\n",
    "    plt.xticks(rotation=45)\n",
    "    plt.show()"
   ]
  },
  {
   "cell_type": "code",
   "execution_count": 44,
   "metadata": {},
   "outputs": [
    {
     "data": {
      "text/plain": [
       "petrol      196337\n",
       "gasoline     89454\n",
       "lpg           4633\n",
       "cng            476\n",
       "hybrid         199\n",
       "other           88\n",
       "electric        73\n",
       "Name: fuel_type, dtype: int64"
      ]
     },
     "execution_count": 44,
     "metadata": {},
     "output_type": "execute_result"
    }
   ],
   "source": [
    "selected_autos['fuel_type'].value_counts()"
   ]
  },
  {
   "cell_type": "markdown",
   "metadata": {},
   "source": [
    "- В столбце vehicle_type наиболее частыми значениями являются: sedan, small, wagon. Наименее распространенные: other, suv, coupe.\n",
    "- В столбце gearbox чаще всего встречается значение manual\n",
    "- В столбце fuel_type наиболее распространенные значения: petrol, gasoline, lpg. Наименее распространенные: hybrid, other, electric\n",
    "- По столбцу repaired видим, что как правило машину не отдавали в ремонт"
   ]
  },
  {
   "cell_type": "markdown",
   "metadata": {},
   "source": [
    "Отдельно рассмотрим столбцы model, brand, тк в них достаточно много значений."
   ]
  },
  {
   "cell_type": "code",
   "execution_count": 45,
   "metadata": {},
   "outputs": [
    {
     "data": {
      "text/plain": [
       "250"
      ]
     },
     "execution_count": 45,
     "metadata": {},
     "output_type": "execute_result"
    }
   ],
   "source": [
    "selected_autos['model'].nunique()"
   ]
  },
  {
   "cell_type": "markdown",
   "metadata": {},
   "source": [
    "Всего 250 уникальных моделей"
   ]
  },
  {
   "cell_type": "code",
   "execution_count": 46,
   "metadata": {},
   "outputs": [
    {
     "data": {
      "text/plain": [
       "40"
      ]
     },
     "execution_count": 46,
     "metadata": {},
     "output_type": "execute_result"
    }
   ],
   "source": [
    "selected_autos['brand'].nunique()"
   ]
  },
  {
   "cell_type": "code",
   "execution_count": 47,
   "metadata": {},
   "outputs": [
    {
     "data": {
      "text/plain": [
       "volkswagen        62711\n",
       "bmw               31925\n",
       "opel              31778\n",
       "mercedes_benz     26974\n",
       "audi              25203\n",
       "ford              20324\n",
       "renault           13652\n",
       "peugeot            9277\n",
       "fiat               7525\n",
       "seat               5746\n",
       "skoda              4898\n",
       "mazda              4646\n",
       "smart              4430\n",
       "citroen            4187\n",
       "nissan             3989\n",
       "toyota             3974\n",
       "hyundai            3085\n",
       "mini               2943\n",
       "volvo              2799\n",
       "mitsubishi         2451\n",
       "honda              2323\n",
       "kia                2063\n",
       "alfa_romeo         1943\n",
       "suzuki             1929\n",
       "sonstige_autos     1775\n",
       "chevrolet          1433\n",
       "chrysler           1150\n",
       "dacia               791\n",
       "subaru              637\n",
       "daihatsu            604\n",
       "porsche             579\n",
       "jeep                565\n",
       "saab                473\n",
       "land_rover          463\n",
       "jaguar              437\n",
       "daewoo              402\n",
       "lancia              376\n",
       "rover               356\n",
       "trabant             288\n",
       "lada                156\n",
       "Name: brand, dtype: int64"
      ]
     },
     "execution_count": 47,
     "metadata": {},
     "output_type": "execute_result"
    }
   ],
   "source": [
    "selected_autos['brand'].value_counts()"
   ]
  },
  {
   "cell_type": "markdown",
   "metadata": {},
   "source": [
    "Всего 40 уникальных брендов. Наиболее распространенные: volkswagen, opel, bmw. Наименее распространенные: rover,  trabant, lada. "
   ]
  },
  {
   "cell_type": "markdown",
   "metadata": {},
   "source": [
    "Выполним также корреляционный анализ, будем использовать матрицу корреляции phik, тк в наших данных присутствуют и количественные и категориальные признаки"
   ]
  },
  {
   "cell_type": "code",
   "execution_count": 48,
   "metadata": {},
   "outputs": [
    {
     "data": {
      "text/plain": [
       "Index(['price', 'vehicle_type', 'registration_year', 'gearbox', 'power',\n",
       "       'model', 'kilometer', 'registration_month', 'fuel_type', 'brand',\n",
       "       'repaired'],\n",
       "      dtype='object')"
      ]
     },
     "execution_count": 48,
     "metadata": {},
     "output_type": "execute_result"
    }
   ],
   "source": [
    "selected_autos.columns"
   ]
  },
  {
   "cell_type": "code",
   "execution_count": 49,
   "metadata": {},
   "outputs": [],
   "source": [
    "#Отберем только непрерывные признаки\n",
    "quantitative_features = ['price', 'registration_year', 'power']"
   ]
  },
  {
   "cell_type": "code",
   "execution_count": 50,
   "metadata": {},
   "outputs": [
    {
     "data": {
      "image/png": "[encoded data removed]",
      "text/plain": [
       "<Figure size 1080x720 with 2 Axes>"
      ]
     },
     "metadata": {
      "needs_background": "light"
     },
     "output_type": "display_data"
    }
   ],
   "source": [
    "# Рассчет корреляционной матрицы\n",
    "correlation_matrix = selected_autos.phik_matrix(interval_cols=quantitative_features)\n",
    "\n",
    "# Визуализация корреляционной матрицы\n",
    "plt.figure(figsize=(15, 10))\n",
    "sns.heatmap(correlation_matrix, annot=True, cmap='coolwarm', fmt='.2f')\n",
    "plt.title('Корреляционная матрица')\n",
    "plt.show()"
   ]
  },
  {
   "cell_type": "markdown",
   "metadata": {},
   "source": [
    "По данной матрице корреляции можно заметить, что высокая корреляция наблюдается у признаков model-power(0.81); заметная корреляция наблюдается у признаков: registration_year-price(0.67), model-price(0.58), brand-vehicle_type(0.63), power-vehicle_type(0.5), model-registration_year(0.63), brand-gearbox(0.51), model-gearbox(0.62), power-gearbox(0.6), power-brand(0.64), fuel_type-model(0.55). Мультиколлинеарность принято учитывать при корреляции признаков выше 0.9, поэтому мультиколлинеарность наблюдается у признаков vehicle_type-model(0.92). Поэтому при обучении модели важно учитывать этот факт\n",
    "\n",
    "Признак brand сильно коррелирует с признаком model.\n",
    "Так как model полностью определяет brand (каждая модель уникально относится к бренду), наличие обоих признаков в данных создает мультиколлинеарность.\n",
    "Это усложняет интерпретацию модели, увеличивает время обучения,\n",
    "может ухудшать качество предсказаний.\n",
    "Поэтому признак brand следует удалить из датасета."
   ]
  },
  {
   "cell_type": "code",
   "execution_count": 51,
   "metadata": {},
   "outputs": [],
   "source": [
    "selected_autos = selected_autos.drop(columns=['brand'])"
   ]
  },
  {
   "cell_type": "markdown",
   "metadata": {},
   "source": [
    "На данном шаге были выполнены следующие шаги:\n",
    "\n",
    "- Загрузка и подготовка данных\n",
    "- Подготовка выборки для обучения моделей\n",
    "- Провели корреляционный анализ"
   ]
  },
  {
   "cell_type": "markdown",
   "metadata": {},
   "source": [
    "<div class=\"alert alert-warning\">\n",
    "<h3> Комментарий ревьюера<a class=\"tocSkip\"> </h3>\n",
    "    \n",
    "<b>Некоторые замечания и рекомендации💡:</b> \n",
    "        \n",
    "* Относительно явления мультиколоинеарности (скоррелированности признаков между собой). Она является проблемой в случаях интерпретации важности или степени влияния признака на таргет (скоррелированные признаки оказывают на таргет схожий между собой эффект - то есть объяснятся примерно одна и та же вариация таргета - из-за чего и оценка этого влияния размазывается между этими признаками, то есть сам по себе эффект может быть значительным, но из-за того, что распределен между несколькими признаками, они могут начать проигрывать в рейтинге самых влияетельных факторов). Кроме того, наличие мультиколлинеарности приводит к увеличению вычислительной сложности модели - в совокупности с малой дополнительно приносимой пользой (редко признаки скорредированы на все 100%, что-то индивидуально они все же тоже привносят) это может быть существенным минусом, когда время работы модели играет не последнюю роль - наш случай. Поэтому можно задуматься о том, чтобы побороться с мультиколлинеарностью.\n",
    "    \n",
    "    \n",
    "* Обрати внимание на пару модель-бренд. Бренд нам сообщает только бренд авто, а вот по модели мы можем понять и бренд, и какие-то прочие характеристики, специфичные для конкретной модели. Поэтому бренд просто дублирует информацию, которую мы можем понять и по модели."
   ]
  },
  {
   "cell_type": "markdown",
   "metadata": {},
   "source": [
    "Удалила столбец brand"
   ]
  },
  {
   "cell_type": "markdown",
   "metadata": {},
   "source": [
    "<div class=\"alert alert-success\">\n",
    "<h3> Комментарий ревьюера 2<a class=\"tocSkip\"> </h3> \n",
    "    \n",
    "<b>Все отлично! 👍:</b> 😉"
   ]
  },
  {
   "cell_type": "markdown",
   "metadata": {},
   "source": [
    "## Обучение моделей"
   ]
  },
  {
   "cell_type": "markdown",
   "metadata": {},
   "source": [
    "Сначала подготовим данные для обучения, для этого выполним One-Hot Encoding и масштабирование данных"
   ]
  },
  {
   "cell_type": "code",
   "execution_count": 52,
   "metadata": {},
   "outputs": [],
   "source": [
    "X = selected_autos.drop(columns='price', axis=1)\n",
    "y = selected_autos['price']"
   ]
  },
  {
   "cell_type": "code",
   "execution_count": 53,
   "metadata": {},
   "outputs": [
    {
     "data": {
      "image/png": "[encoded data removed]",
      "text/plain": [
       "<Figure size 720x360 with 1 Axes>"
      ]
     },
     "metadata": {
      "needs_background": "light"
     },
     "output_type": "display_data"
    }
   ],
   "source": [
    "plt.figure(figsize=(10, 5))\n",
    "sns.histplot(selected_autos['price'], bins=50, kde=True, color='skyblue')\n",
    "plt.title('Цена автомобиля')\n",
    "plt.xlabel('Цена')\n",
    "plt.ylabel('частота')\n",
    "plt.show()"
   ]
  },
  {
   "cell_type": "markdown",
   "metadata": {},
   "source": [
    "В нашем случае целевой признак - непрерывная величина, стратифицирование не потребуется"
   ]
  },
  {
   "cell_type": "code",
   "execution_count": 54,
   "metadata": {},
   "outputs": [],
   "source": [
    "X_train, X_test, y_train, y_test = train_test_split(\n",
    "    X, y, test_size=0.25, random_state=42)"
   ]
  },
  {
   "cell_type": "code",
   "execution_count": 55,
   "metadata": {},
   "outputs": [
    {
     "name": "stdout",
     "output_type": "stream",
     "text": [
      "Размерность выборки X_train:  (218445, 9)\n",
      "Размерность выборки X_test:  (72815, 9)\n",
      "Размерность выборки y_train:  (218445,)\n",
      "Размерность выборки y_test:  (72815,)\n"
     ]
    }
   ],
   "source": [
    "print('Размерность выборки X_train: ', X_train.shape)\n",
    "print('Размерность выборки X_test: ', X_test.shape)\n",
    "print('Размерность выборки y_train: ', y_train.shape)\n",
    "print('Размерность выборки y_test: ', y_test.shape)"
   ]
  },
  {
   "cell_type": "markdown",
   "metadata": {},
   "source": [
    "В наших данных отсутствуют ранговые и порядковые признаки, поэтому OrdinalEncoder не потребуется. Для One-Hot Encoding выберем столбцы 'vehicle_type', 'gearbox', 'model', 'fuel_type', 'repaired'. Остальные признаки - числовые. Также стоит учесть, что в столбце 'model' всего 250 значений, поэтому при обучении Random Forest Regressor и LightGBM это стоит учитывать"
   ]
  },
  {
   "cell_type": "code",
   "execution_count": 56,
   "metadata": {},
   "outputs": [],
   "source": [
    "cat_columns = ['vehicle_type', 'model', 'gearbox', 'fuel_type', 'repaired']\n",
    "num_columns = ['power', 'registration_year', 'registration_month', 'kilometer']"
   ]
  },
  {
   "cell_type": "code",
   "execution_count": 57,
   "metadata": {},
   "outputs": [],
   "source": [
    "#пайплайн для OneHotEncoder\n",
    "ohe_pipe = Pipeline([\n",
    "    (\n",
    "        'ohe',\n",
    "        OneHotEncoder(\n",
    "            drop='first',\n",
    "            sparse_output=False,\n",
    "            handle_unknown='ignore'\n",
    "        )\n",
    "    )\n",
    "])"
   ]
  },
  {
   "cell_type": "code",
   "execution_count": 58,
   "metadata": {},
   "outputs": [],
   "source": [
    "# Пайплайн TargetEncoder для высококардинального\n",
    "target_encoder_pipe = Pipeline([\n",
    "    ('target_encoder', TargetEncoder())\n",
    "])"
   ]
  },
  {
   "cell_type": "markdown",
   "metadata": {},
   "source": [
    "Для обучения будем использовать следующие модели:\n",
    "\n",
    "1) Linear Regression\n",
    "\n",
    "Плюсы:\n",
    "\n",
    "- Простота и интерпретируемость\n",
    "- Быстрое обучение\n",
    "Работает очень быстро даже на больших датасетах.\n",
    "Минимальные требования к вычислительным ресурсам.\n",
    "\n",
    "Минусы:\n",
    "\n",
    "- Линейность\n",
    "Линейная регрессия предполагает, что зависимость между признаками и целевой переменной линейная.\n",
    "Если в данных есть нелинейные зависимости, качество может быть низким.\n",
    "\n",
    "- Чувствительность к мультиколлинеарности\n",
    "Сильно страдает, если признаки сильно коррелированы между собой.\n",
    "Коэффициенты становятся нестабильными.\n",
    "\n",
    "- Чувствительность к выбросам\n",
    "Несколько экстремальных значений могут сильно исказить модель.\n",
    "\n",
    "\n",
    "2) Random Forest Regressor\n",
    "\n",
    "Плюсы Decision Tree:\n",
    "* Модель быстро обучается.\n",
    "* Модель легко интерпретируется (можно визуализировать дерево).\n",
    "* Хорошо справляется с нелинейными зависимостями.\n",
    "\n",
    "Возможные риски:\n",
    "* DecisionTreeRegressor склонен переобучаться, особенно без ограничения глубины (max_depth).\n",
    "* Может показывать высокую ошибку на новых данных, если не использовать настройку гиперпараметров.\n",
    "\n",
    "3) LightGBM"
   ]
  },
  {
   "cell_type": "markdown",
   "metadata": {},
   "source": [
    "<div class=\"alert alert-success\">\n",
    "<h3> Комментарий ревьюера <a class=\"tocSkip\"> </h3> \n",
    "\n",
    "<b>Все отлично! 👍:</b> \n",
    "    \n",
    "* Относительно масштабирования. На качество деревянных моделей (дерево, лес, XGBoost, LGBM, CatBoost), на самом деле, оно не окажет никакого влияния, поскольку принцип принятия решения завязан на относительности значений признаков (больше/меньше), а она при масштабировании воздействию не подвергается. Однако масштабирование может немного повлиять на производительность. Но при этом масштабирование важно для методов, основанных на дистанции (KNN, SVM, кластеризация) или вариации (PCA).\n",
    "    \n",
    "    С линейными регрессиями чуть интереснее. На **простой** линейной регрессии масштабирование, в теории, не окажет никакого влияния на предсказания (однако есть оговорки). Но в некоторых случаях оно все же необходимо.\n",
    "\n",
    "    <details> <summary> <span style='color:blue' > Развернуть подробнее. </span> </summary>\n",
    "    \n",
    "    Если мы посмотрим на линейное уравнение модели, парметры которого мы оцениваем в процессе обучения, то заметим, что масштабирование никак себя не проявит, поскольку все изменения переменной  просто уйдут в новые коэффициенты:    \n",
    "    \n",
    "    $y = \\alpha + \\beta x$ - без масштабирования\n",
    "    _____________________________________________________________________________________________________________________\n",
    "    \n",
    "    $y = \\alpha_{st} + \\beta_{st} \\frac{x-mean}{std} = (\\alpha_{st} - \\frac{\\beta_{st}mean}{std}) + (\\frac{\\beta_{st}}{std}) x$ - со стандартизацией\n",
    "    \n",
    "    При этом $\\alpha = (\\alpha_{st} - \\frac{\\beta_{st}mean}{std})$ и $\\beta = (\\frac{\\beta_{st}}{std})$\n",
    "    _____________________________________________________________________________________________________________________\n",
    "    \n",
    "    $y = \\alpha_{mm} + \\beta_{mm} \\frac{x-min}{max-min} = (\\alpha_{mm} - \\frac{\\beta_{mm}min}{max-min}) + (\\frac{\\beta_{mm}}{max-min}) x$ - с нормализацией\n",
    "    \n",
    "    При этом $\\alpha = (\\alpha_{mm} - \\frac{\\beta_{mm}min}{max-min})$ и $\\beta = (\\frac{\\beta_{mm}}{max-min})$\n",
    "    _____________________________________________________________________________________________________________________\n",
    "    \n",
    "    Когда же тогда масштабирование необходимо для линейной модели? Ссылки для ознакомления: <a href = 'https://www.listendata.com/2017/04/how-to-standardize-variable-in-regression.html'>тык</a>, <a href = 'https://www.dmitrymakarov.ru/learning/reg/#8-regulyarizatsiya-lineynoy-regressii'>тык</a>. Если кратко резюмировать, то пункты следующие:\n",
    "        \n",
    "    * **Линейные модели с регуляризацией (Ridge, Lasso, Elastic Net)**. Данные модели регулируют те самые коэффициенты, поэтому важно, чтобы масштаб не приводил к тому, что признаки с маленькими значениями будут штафоваться больше (их коэффициенты больше), чем признаки с большими значениями (их коэффициенты меньше). Для Lasso иногда стандартизируют даже бинарные признаки (получаем после OHE), чтобы абсолютно все признаки были в равных условиях. Или же при стандартизации числовых признаков вместно одного стандартного отклонения делят на два, тогда мы получаем примерно равный масштаб с бинарными признаками. Однако острой необходимости в этом нет. \n",
    "        \n",
    "    * **Интерпретация важности признаков.** Сравнивать коэффициенты регрессии по степени влияния на таргет мы можем, только если коэффициенты избавлены от масштаба и приведены к абсолютным значениям.\n",
    "    \n",
    "    * **Разница в масштабах признаков слишком большая.** Мы не можем хранить полностью бесконечные дробные части, поэтому при вычислениях используется некоторое округление. Но из-за того, что признаки имеют слишком разный масштаб, будут сильно различаться и коэффициенты, а значит много чего будет уходить в дробную часть, которую мы частично теряем, начинает страдать точность. Как правило, проблема становится ощутимой, когда разница в масштабах достигает $10^6$.\n",
    "        \n",
    "    * **Используем алгоритм обучения через градиентный спуск (SGD, нейронные сети).** При равномасштабных признаках линии уровня функции потерь имеют округлую форму (вместо элипса при разном масштабе), поэтому алгоритм быстрее и точнее сходится к минимуму (спуск более прямой, а не зигзагообразный).\n",
    "        \n",
    "    * **Используем степени признака (полином) или произведение пары признаков.** Иначе может появляться мультиколлинеарность, что приводит к нестабильности коэффициентов. \n",
    "    \n",
    "  </details>\n",
    "    \n",
    "    \n",
    "* Верно, что при проведении <a href = 'https://scikit-learn.org/stable/modules/generated/sklearn.preprocessing.OneHotEncoder.html'>OHE</a> кодирования не забываем про настройку `drop='first'`. Про мультиколлинеарность выше уже говорила, здесь чуть дополню. Создание дамми-признаков для низкокардинальных категориальных признаков также приводит к мультиколлинеарности, чем меньше категорий - тем сильнее (при 2 категориях корреляция между двумя дамми-признаками будет равна 1). Исходя из этих соображений, принято отбрасывать один из дамми признаков, который по сути довольно просто выражается через все остальные."
   ]
  },
  {
   "cell_type": "markdown",
   "metadata": {},
   "source": [
    "<div class=\"alert alert-warning\">\n",
    "<h3> Комментарий ревьюера <a class=\"tocSkip\"> </h3>\n",
    "\n",
    "<b>Некоторые замечания и рекомендации💡:</b> \n",
    "    \n",
    "    \n",
    "* Сейчас выбор кодирования не совсем рационален для моделей на основе деревьев. Для эффективной работы моделей и получения качественных результатов подход необходимо выбирать с учетом модели. Какое кодирование когда выбирать?\n",
    "<details> <summary> <span style='color:blue' > Развернуть подробнее. </span> </summary>\n",
    "\n",
    "    1. Для линейных моделей (простых, с регуляризацией, с различной реализацией алгоритма обучения - bayesian или sgdr) допустимо только кодировние <a href = 'https://scikit-learn.org/stable/modules/generated/sklearn.preprocessing.OneHotEncoder.html'>OHE</a> (если категории не имеют порядка). Если применить порядковое кодирование к тем категориям, которые этого порядка по сути не имеют, то модель едва ли сможет нормально оценить влияние данного признака, поскольку будет искать линейную взаимосвязь там, где ее не подразумевается. По итогу признак становится бесполезным.\n",
    "\n",
    "    2. Для простых деревьев, лесов и XGBoost в случае, когда уникальных категорий немного (низкокардинальный признак), можно тоже применять OHE. Однако если признак высококардинальный (много уникальных категорий) от него лучше воздержаться. В отличие от линейной регрессии для достижения хорошей точности в этом случае необходимо растить очень глубокое дерево, что достаточно ресурсозатратно. По этой причине такие деревья часто остаются недообученными и несбалансированными. Для высококардинальных признаков вместо OHE лучшим вариантом будет считаться <a href='https://scikit-learn.org/stable/modules/generated/sklearn.preprocessing.TargetEncoder.html'>TargetEncoder</a> (о нем ниже). Но также допускается и использование порядкового кодирования, хотя качество модели будет ниже.\n",
    "\n",
    "    3. Самым оптимальным решением в случае LGBM и CatBoost будет использование встроенных кодировщиков (TargetEncoder у LGBM и собственный кодировщик на базе TargetEncoding у CatBoost). Чтобы ими воспользоваться, мы можем указать список категориальных признаков в спициальном параметре (`categorical_feature` для LGBM, указывается в методе `fit` после обучающих данных, и `cat_features` для CatBoost, указывается в самой модели). Однако LGBM требует, чтобы категориальные признаки были переведены в тип `category`. Если среди признаков, которые мы хотим закодировать, нет тех, что представлены числами, то в целом можно даже не задавать параметр со списком явно, модели могут сами определить, что требуется кодирование.\n",
    "\n",
    "    4. Модель ближайщих соседей может стерпеть OHE, если категорий немного, однако лучше использовать Target encoding. Порядковое кодирование без существавания явной упорядоченности не подойдет.\n",
    "\n",
    "  Теперь про <a href='https://scikit-learn.org/stable/modules/generated/sklearn.preprocessing.TargetEncoder.html'>TargetEncoder</a> (доступен, начиная с версии 1.3). Данный подход требует регуляризации, чтобы избежать утечки данных - нарочного подстраивания зависимости таргета от признака - и переобучения. В алгоритме sklearn реализованы следующие методы регуляризации: (1) smoothing - взвешивание среднего значения по группе с глобальным средним (регулирется через параметр), (2) cross fitting - разбивает группу на фолды, для подсчета среднего использует все фолды кроме текущего. Однако второй подход реализуется только при использовании метода `fit_transform` (для трейна, на тесте просто `transform`), при отдельном вызове `fit` и `transform` средние будут считаться для всей группы сразу (подробнее <a href='https://scikit-learn.org/stable/auto_examples/preprocessing/plot_target_encoder_cross_val.html#target-encoder-s-internal-cross-fitting'>тут</a>). Поэтому, во избежание ошибок и утечек, в особенности при проведении кросс-валидации, данное кодирование необходимо реализовывать через пайплайн.\n",
    "\n",
    "  Иногда бывает, что при выполнении регуляризации в рамках TE мы попадаемся на не очень удачный сплит, когда категорий меньше, чем сплитов, что приводит к ошибке. Можно тогда попробовать TE не из scklearn, а из библиотеки <a href='https://contrib.scikit-learn.org/category_encoders/targetencoder.html'>category_encoders</a>, там алгоритм чуть доработанный. Или же аналог кодирования <a href='https://contrib.scikit-learn.org/category_encoders/catboost.html'>CatBoost</a> из этой же библиотеки.\n",
    "\n",
    "\n",
    "* В использовании пайплайнов теряется смысл, если трансформацию данных производить вне кросс-валидационного процесса, разве что код структурнее выглядит, но все так же продолжают создаваться утечки из будущих валидационных фолдов в обучающие."
   ]
  },
  {
   "cell_type": "markdown",
   "metadata": {},
   "source": [
    "<div class=\"alert alert-warning\">\n",
    "<h3> Комментарий ревьюера 2<a class=\"tocSkip\"> </h3>\n",
    "\n",
    "<b>Некоторые замечания и рекомендации💡:</b> На будущее, месяц регистрации по сути тоже является категориальным признаком, поэтому для линейной регрессии его стоило бы кодировать. В данном проекте это можно не делать, поскольку мы предполагаем, что чем моложе авто, тем оно дороже, а значит авто с регистрацией в начале года будет стоить дешевле, чем с регистрацией в конце года, то есть взаимосвязь линейная. Для сравнение, кодирование бы требовалось обязательно, если бы мы предполагали наличие какого-то сезонного влияния, в таком случае взаимосвязь уже нелинейная, и ее необходимо моделировать иначе."
   ]
  },
  {
   "cell_type": "markdown",
   "metadata": {},
   "source": [
    "**Linear Regression**"
   ]
  },
  {
   "cell_type": "markdown",
   "metadata": {},
   "source": [
    "Сначала обучим модель линейной регрессии\n",
    "Будем использовать кросс-валидацию, чтобы оценить качество моделей"
   ]
  },
  {
   "cell_type": "code",
   "execution_count": 59,
   "metadata": {},
   "outputs": [],
   "source": [
    "lr_preprocessor = ColumnTransformer(transformers=[\n",
    "    ('onehot', OneHotEncoder(handle_unknown='ignore'), cat_columns),\n",
    "    ('num', StandardScaler(), num_columns)\n",
    "])"
   ]
  },
  {
   "cell_type": "code",
   "execution_count": 60,
   "metadata": {},
   "outputs": [],
   "source": [
    "# Линейная регрессия\n",
    "lr_pipeline = Pipeline([\n",
    "    ('preprocessing', lr_preprocessor),\n",
    "    ('regressor', LinearRegression())\n",
    "])"
   ]
  },
  {
   "cell_type": "code",
   "execution_count": 61,
   "metadata": {},
   "outputs": [
    {
     "name": "stdout",
     "output_type": "stream",
     "text": [
      "LinearRegression RMSE: 2588.378\n",
      "Среднее время обучения: 17.661 сек\n",
      "Среднее время предсказания: 0.200 сек\n"
     ]
    }
   ],
   "source": [
    "lr_results = cross_validate(\n",
    "    lr_pipeline,\n",
    "    X_train,\n",
    "    y_train,\n",
    "    cv=5,\n",
    "    scoring='neg_mean_squared_error',\n",
    "    return_train_score=True,\n",
    "    n_jobs=-1\n",
    ")\n",
    "\n",
    "rmse_lr = np.mean(np.sqrt(-lr_results['test_score']))\n",
    "fit_time_lr = np.mean(lr_results['fit_time'])\n",
    "score_time_lr = np.mean(lr_results['score_time'])\n",
    "\n",
    "print(f\"LinearRegression RMSE: {rmse_lr:.3f}\")\n",
    "print(f\"Среднее время обучения: {fit_time_lr:.3f} сек\")\n",
    "print(f\"Среднее время предсказания: {score_time_lr:.3f} сек\")"
   ]
  },
  {
   "cell_type": "markdown",
   "metadata": {},
   "source": [
    "Чем меньше RMSE — тем лучше. В нашем случае RMSE ≈ 2588 говорит, что в среднем модель ошибается на ~2588 евро при предсказании цены автомобиля. Это может говорить о наличии нелинейных зависимостей и\n",
    "важности взаимодействий признаков. Необходимо чтобы RMSE было меньше 2500.\n"
   ]
  },
  {
   "cell_type": "markdown",
   "metadata": {},
   "source": [
    "Среднее время обучения: 25.327 сек\n",
    "Линейная регрессия считается быстрой, но так как у нас достаточно много признаков, то обучение занимает больше времени.\n",
    "\n",
    "Среднее время предсказания: 0.235 сек\n",
    "Предсказание по линейной модели обычно очень быстрое.\n"
   ]
  },
  {
   "cell_type": "markdown",
   "metadata": {},
   "source": [
    "**Random Forest Regressor**"
   ]
  },
  {
   "cell_type": "markdown",
   "metadata": {},
   "source": [
    "Тк в наших данных присутсвуют высококардинальные признаки необходимо это учесть, поэтому в этом случае добавим порядковое кодирование для признака 'model'"
   ]
  },
  {
   "cell_type": "code",
   "execution_count": 62,
   "metadata": {},
   "outputs": [],
   "source": [
    "low_card_columns = ['vehicle_type', 'gearbox', 'fuel_type', 'repaired']\n",
    "high_card_cols = ['model']"
   ]
  },
  {
   "cell_type": "code",
   "execution_count": 63,
   "metadata": {},
   "outputs": [],
   "source": [
    "# Модель дерева решений\n",
    "high_card_pipeline = Pipeline([\n",
    "    ('ordinal', OrdinalEncoder(handle_unknown='use_encoded_value', unknown_value=-1))\n",
    "])\n",
    "\n",
    "\n",
    "low_card_pipeline = Pipeline([\n",
    "    ('onehot', OneHotEncoder(handle_unknown='ignore'))\n",
    "])\n",
    "\n",
    "num_pipeline = Pipeline([\n",
    "    ('scaler', StandardScaler())\n",
    "])\n",
    "\n",
    "rf_preprocessor = ColumnTransformer(\n",
    "    transformers=[\n",
    "        ('high_card', high_card_pipeline, high_card_cols),\n",
    "        ('low_card', low_card_pipeline, low_card_columns),\n",
    "        ('num', num_pipeline, num_columns)\n",
    "    ],\n",
    "    remainder='drop'\n",
    ")"
   ]
  },
  {
   "cell_type": "code",
   "execution_count": 64,
   "metadata": {},
   "outputs": [
    {
     "name": "stdout",
     "output_type": "stream",
     "text": [
      "RandomForestRegressor RMSE: 1626.804\n",
      "Среднее время обучения: 87.473 сек\n",
      "Среднее время предсказания: 2.532 сек\n"
     ]
    }
   ],
   "source": [
    "# Пайплайн с моделью\n",
    "rf_pipeline = Pipeline([\n",
    "    ('preprocessor', rf_preprocessor),\n",
    "    ('model', RandomForestRegressor(random_state=42))\n",
    "])\n",
    "\n",
    "# Кросс-валидация\n",
    "rf_results = cross_validate(\n",
    "    rf_pipeline,\n",
    "    X_train,\n",
    "    y_train,\n",
    "    cv=5,\n",
    "    scoring='neg_mean_squared_error',\n",
    "    return_train_score=True,\n",
    "    n_jobs=-1\n",
    ")\n",
    "\n",
    "rmse_rf = np.mean(np.sqrt(-rf_results['test_score']))\n",
    "fit_time_rf = np.mean(rf_results['fit_time'])\n",
    "score_time_rf = np.mean(rf_results['score_time'])\n",
    "\n",
    "print(f\"RandomForestRegressor RMSE: {rmse_rf:.3f}\")\n",
    "print(f\"Среднее время обучения: {fit_time_rf:.3f} сек\")\n",
    "print(f\"Среднее время предсказания: {score_time_rf:.3f} сек\")\n"
   ]
  },
  {
   "cell_type": "markdown",
   "metadata": {},
   "source": [
    "Среднее RMSE на кросс-валидации: ~1626.804\n",
    "\n",
    "Требования: RMSE < 2500\n",
    "\n",
    "Значение 1626.804 существенно ниже порогового. Это значит, что качество модели соответствует норме. RMSE указывает на то, что средняя ошибка прогноза составляет примерно 1626.804 евро.\n",
    "\n"
   ]
  },
  {
   "cell_type": "markdown",
   "metadata": {},
   "source": [
    "Среднее время обучения: 84.820 сек\n",
    "Обучение RandomForest обычно более затратное по времени, чем линейной модели.\n",
    "Вывод по времени обучения:\n",
    "\n",
    "~1.5 минуты \n",
    "\n",
    "Среднее время предсказания: 2.495 сек\n",
    "Здесь видим, что предсказания занимают почти 10 раз больше времени, чем у линейной регрессии.\n"
   ]
  },
  {
   "cell_type": "markdown",
   "metadata": {},
   "source": [
    "Проверим как улучшит качество подбор гиперпараметров"
   ]
  },
  {
   "cell_type": "code",
   "execution_count": 65,
   "metadata": {},
   "outputs": [
    {
     "name": "stdout",
     "output_type": "stream",
     "text": [
      "Fitting 3 folds for each of 8 candidates, totalling 24 fits\n",
      "[CV] END model__max_depth=10, model__min_samples_leaf=2, model__min_samples_split=2; total time=  40.6s\n",
      "[CV] END model__max_depth=10, model__min_samples_leaf=2, model__min_samples_split=2; total time=  40.8s\n",
      "[CV] END model__max_depth=10, model__min_samples_leaf=2, model__min_samples_split=2; total time=  42.6s\n",
      "[CV] END model__max_depth=10, model__min_samples_leaf=2, model__min_samples_split=10; total time=  46.2s\n",
      "[CV] END model__max_depth=10, model__min_samples_leaf=2, model__min_samples_split=10; total time=  44.4s\n",
      "[CV] END model__max_depth=10, model__min_samples_leaf=2, model__min_samples_split=10; total time=  43.2s\n",
      "[CV] END model__max_depth=10, model__min_samples_leaf=4, model__min_samples_split=2; total time=  46.1s\n",
      "[CV] END model__max_depth=10, model__min_samples_leaf=4, model__min_samples_split=2; total time=  43.6s\n",
      "[CV] END model__max_depth=10, model__min_samples_leaf=4, model__min_samples_split=2; total time=  36.2s\n",
      "[CV] END model__max_depth=10, model__min_samples_leaf=4, model__min_samples_split=10; total time=  35.1s\n",
      "[CV] END model__max_depth=10, model__min_samples_leaf=4, model__min_samples_split=10; total time=  35.4s\n",
      "[CV] END model__max_depth=10, model__min_samples_leaf=4, model__min_samples_split=10; total time=  35.3s\n",
      "[CV] END model__max_depth=None, model__min_samples_leaf=2, model__min_samples_split=2; total time= 1.0min\n",
      "[CV] END model__max_depth=None, model__min_samples_leaf=2, model__min_samples_split=2; total time= 1.1min\n",
      "[CV] END model__max_depth=None, model__min_samples_leaf=2, model__min_samples_split=2; total time= 1.1min\n",
      "[CV] END model__max_depth=None, model__min_samples_leaf=2, model__min_samples_split=10; total time= 1.1min\n",
      "[CV] END model__max_depth=None, model__min_samples_leaf=2, model__min_samples_split=10; total time= 1.0min\n",
      "[CV] END model__max_depth=None, model__min_samples_leaf=2, model__min_samples_split=10; total time= 1.1min\n",
      "[CV] END model__max_depth=None, model__min_samples_leaf=4, model__min_samples_split=2; total time= 1.1min\n",
      "[CV] END model__max_depth=None, model__min_samples_leaf=4, model__min_samples_split=2; total time= 1.0min\n",
      "[CV] END model__max_depth=None, model__min_samples_leaf=4, model__min_samples_split=2; total time= 1.0min\n",
      "[CV] END model__max_depth=None, model__min_samples_leaf=4, model__min_samples_split=10; total time=  58.7s\n",
      "[CV] END model__max_depth=None, model__min_samples_leaf=4, model__min_samples_split=10; total time=  59.4s\n",
      "[CV] END model__max_depth=None, model__min_samples_leaf=4, model__min_samples_split=10; total time=  58.0s\n",
      "Лучшие гиперпараметры: {'model__max_depth': None, 'model__min_samples_leaf': 2, 'model__min_samples_split': 2}\n",
      "Лучший RMSE (CV): 1629.498\n",
      "Время обучения лучшей модели (refit_time_): 108.43 секунд\n"
     ]
    }
   ],
   "source": [
    "# Параметры для RandomForestRegressor\n",
    "param_grid = {\n",
    "    \"model__max_depth\": [10, None],\n",
    "    \"model__min_samples_split\": [2, 10],\n",
    "    \"model__min_samples_leaf\": [2, 4]\n",
    "}\n",
    "\n",
    "# GridSearchCV\n",
    "grid_search = GridSearchCV(\n",
    "    estimator=rf_pipeline,        \n",
    "    param_grid=param_grid,\n",
    "    cv=3,\n",
    "    scoring=\"neg_mean_squared_error\",\n",
    "    n_jobs=-1,\n",
    "    verbose=2\n",
    ")\n",
    "\n",
    "grid_search.fit(X_train, y_train)\n",
    "\n",
    "# Лучшие параметры\n",
    "print(\"Лучшие гиперпараметры:\", grid_search.best_params_)\n",
    "\n",
    "# RMSE по кросс-валидации\n",
    "best_rmse = (-grid_search.best_score_) ** 0.5\n",
    "print(f\"Лучший RMSE (CV): {best_rmse:.3f}\")\n",
    "\n",
    "# время обучения финальной лучшей модели на всех данных\n",
    "refit_time = grid_search.refit_time_\n",
    "print(f\"Время обучения лучшей модели (refit_time_): {refit_time:.2f} секунд\")\n",
    "\n"
   ]
  },
  {
   "cell_type": "code",
   "execution_count": 66,
   "metadata": {},
   "outputs": [
    {
     "name": "stdout",
     "output_type": "stream",
     "text": [
      "Время обучения финальной модели (refit_time_): 108.43 секунд\n"
     ]
    }
   ],
   "source": [
    "refit_time = grid_search.refit_time_\n",
    "print(f\"Время обучения финальной модели (refit_time_): {refit_time:.2f} секунд\")\n"
   ]
  },
  {
   "cell_type": "markdown",
   "metadata": {},
   "source": [
    "Как видим подбор гиперпараметров незначительно ухудшило качество модели"
   ]
  },
  {
   "cell_type": "markdown",
   "metadata": {},
   "source": [
    "**Выводы по DecisionTreeRegressor:**\n",
    "\n",
    "Модель с наилучшим качеством (по RMSE на кросс-валидации):\n",
    "- DecisionTreeRegressor с параметрами:\n",
    "- max_depth = None — дерево не ограничено по глубине.\n",
    "- min_samples_split = 2 — разбиение узла происходит, если в нём как минимум 10 объектов.\n",
    "- min_samples_leaf = 2 — в листе должно быть минимум 4 объекта.\n",
    "\n",
    "- Среднее RMSE на кросс-валидации: ~1629.498\n",
    "- Требования: RMSE < 2500\n",
    "\n",
    "Значение 1629.498 существенно ниже порогового.\n",
    "Это значит, что качество модели соответствует норме.\n",
    "RMSE указывает на то, что средняя ошибка прогноза составляет примерно 1629.498 евро.\n",
    "\n",
    "Таким образом, DecisionTreeRegressor уже даёт приемлемое качество, и его можно использовать для обучения нашей модели."
   ]
  },
  {
   "cell_type": "markdown",
   "metadata": {},
   "source": [
    "Время обучения:\n",
    "\n",
    "Без подбора гиперпараметров: ~73.046 сек\n",
    "\n",
    "С подбором гиперпараметров: ~92.15 секунд\n",
    "\n",
    "\n",
    "Поэтому в этом случае подбор гиперпараметров ухудшает работу модели"
   ]
  },
  {
   "cell_type": "markdown",
   "metadata": {},
   "source": [
    "**LightGBM**"
   ]
  },
  {
   "cell_type": "markdown",
   "metadata": {},
   "source": [
    "Тк в наших данных присутсвуют высококардинальные признаки необходимо это учесть, поэтому самым оптимальным решением в случае LGBM будет использование встроенных кодировщиков"
   ]
  },
  {
   "cell_type": "code",
   "execution_count": 67,
   "metadata": {},
   "outputs": [],
   "source": [
    "X_train_lgb = X_train.copy()\n",
    "for col in cat_columns:\n",
    "    X_train_lgb[col] = X_train_lgb[col].astype('category')\n"
   ]
  },
  {
   "cell_type": "code",
   "execution_count": 68,
   "metadata": {},
   "outputs": [],
   "source": [
    "lgb_model = LGBMRegressor(random_state=42)\n",
    "\n",
    "def lgb_cv():\n",
    "    scores = cross_validate(\n",
    "        lgb_model,\n",
    "        X_train_lgb,\n",
    "        y_train,\n",
    "        cv=5,\n",
    "        scoring='neg_mean_squared_error',\n",
    "        return_train_score=True,\n",
    "        n_jobs=-1\n",
    "    )\n",
    "    return scores\n",
    "\n",
    "lgb_results = lgb_cv()"
   ]
  },
  {
   "cell_type": "code",
   "execution_count": 69,
   "metadata": {},
   "outputs": [
    {
     "name": "stdout",
     "output_type": "stream",
     "text": [
      "LightGBM RMSE: 1615.471\n",
      "Среднее время обучения: 10.189 сек\n",
      "Среднее время предсказания: 0.502 сек\n"
     ]
    }
   ],
   "source": [
    "rmse_lgb = np.mean(np.sqrt(-lgb_results['test_score']))\n",
    "fit_time_lgb = np.mean(lgb_results['fit_time'])\n",
    "score_time_lgb = np.mean(lgb_results['score_time'])\n",
    "\n",
    "print(f\"LightGBM RMSE: {rmse_lgb:.3f}\")\n",
    "print(f\"Среднее время обучения: {fit_time_lgb:.3f} сек\")\n",
    "print(f\"Среднее время предсказания: {score_time_lgb:.3f} сек\")"
   ]
  },
  {
   "cell_type": "markdown",
   "metadata": {},
   "source": [
    "Эти показатели лучше, чем у DecisionTreeRegressor"
   ]
  },
  {
   "cell_type": "markdown",
   "metadata": {},
   "source": [
    "Посмотрим улучшатся ли показатели если использовать подбор гиперпараметров"
   ]
  },
  {
   "cell_type": "code",
   "execution_count": 70,
   "metadata": {},
   "outputs": [
    {
     "name": "stdout",
     "output_type": "stream",
     "text": [
      "Fitting 5 folds for each of 6 candidates, totalling 30 fits\n",
      "[CV] END ...................learning_rate=0.1, num_leaves=31; total time=   6.7s\n",
      "[CV] END ...................learning_rate=0.1, num_leaves=31; total time=   4.8s\n",
      "[CV] END ...................learning_rate=0.1, num_leaves=31; total time=   4.8s\n",
      "[CV] END ...................learning_rate=0.1, num_leaves=31; total time=   4.9s\n",
      "[CV] END ...................learning_rate=0.1, num_leaves=31; total time=   4.4s\n",
      "[CV] END ...................learning_rate=0.1, num_leaves=50; total time=   6.3s\n",
      "[CV] END ...................learning_rate=0.1, num_leaves=50; total time=   5.8s\n",
      "[CV] END ...................learning_rate=0.1, num_leaves=50; total time=   8.0s\n",
      "[CV] END ...................learning_rate=0.1, num_leaves=50; total time=   5.6s\n",
      "[CV] END ...................learning_rate=0.1, num_leaves=50; total time=   5.8s\n",
      "[CV] END ..................learning_rate=0.1, num_leaves=100; total time=  10.3s\n",
      "[CV] END ..................learning_rate=0.1, num_leaves=100; total time=   8.3s\n",
      "[CV] END ..................learning_rate=0.1, num_leaves=100; total time=   8.5s\n",
      "[CV] END ..................learning_rate=0.1, num_leaves=100; total time=   9.4s\n",
      "[CV] END ..................learning_rate=0.1, num_leaves=100; total time=   8.6s\n",
      "[CV] END ..................learning_rate=0.05, num_leaves=31; total time=   5.3s\n",
      "[CV] END ..................learning_rate=0.05, num_leaves=31; total time=   9.2s\n",
      "[CV] END ..................learning_rate=0.05, num_leaves=31; total time=   5.5s\n",
      "[CV] END ..................learning_rate=0.05, num_leaves=31; total time=   7.6s\n",
      "[CV] END ..................learning_rate=0.05, num_leaves=31; total time=   5.2s\n",
      "[CV] END ..................learning_rate=0.05, num_leaves=50; total time=   7.3s\n",
      "[CV] END ..................learning_rate=0.05, num_leaves=50; total time=   6.6s\n",
      "[CV] END ..................learning_rate=0.05, num_leaves=50; total time=   6.3s\n",
      "[CV] END ..................learning_rate=0.05, num_leaves=50; total time=   7.0s\n",
      "[CV] END ..................learning_rate=0.05, num_leaves=50; total time=   6.7s\n",
      "[CV] END .................learning_rate=0.05, num_leaves=100; total time=   9.4s\n",
      "[CV] END .................learning_rate=0.05, num_leaves=100; total time=   9.4s\n",
      "[CV] END .................learning_rate=0.05, num_leaves=100; total time=   9.0s\n",
      "[CV] END .................learning_rate=0.05, num_leaves=100; total time=   9.2s\n",
      "[CV] END .................learning_rate=0.05, num_leaves=100; total time=   9.2s\n",
      "Лучшие параметры: {'learning_rate': 0.1, 'num_leaves': 100}\n",
      "Лучший RMSE (CV): 1560.732\n"
     ]
    }
   ],
   "source": [
    "param_grid = {\n",
    "    \"num_leaves\": [31, 50, 100],\n",
    "    \"learning_rate\": [0.1, 0.05]\n",
    "}\n",
    "\n",
    "grid_search = GridSearchCV(\n",
    "    estimator=lgb_model,\n",
    "    param_grid=param_grid,\n",
    "    cv=5,\n",
    "    scoring='neg_mean_squared_error',\n",
    "    n_jobs=-1,\n",
    "    verbose=2\n",
    ")\n",
    "\n",
    "grid_search.fit(X_train_lgb, y_train, categorical_feature=cat_columns)\n",
    "\n",
    "print(\"Лучшие параметры:\", grid_search.best_params_)\n",
    "best_rmse = (-grid_search.best_score_) ** 0.5\n",
    "print(f\"Лучший RMSE (CV): {best_rmse:.3f}\")"
   ]
  },
  {
   "cell_type": "code",
   "execution_count": 71,
   "metadata": {},
   "outputs": [
    {
     "name": "stdout",
     "output_type": "stream",
     "text": [
      "Время обучения финальной модели (refit_time_): 8.70 секунд\n"
     ]
    }
   ],
   "source": [
    "refit_time = grid_search.refit_time_\n",
    "print(f\"Время обучения финальной модели (refit_time_): {refit_time:.2f} секунд\")\n"
   ]
  },
  {
   "cell_type": "markdown",
   "metadata": {},
   "source": [
    "Подбор гиперпараметров значительно улучшил качество модели"
   ]
  },
  {
   "cell_type": "markdown",
   "metadata": {},
   "source": [
    "Выводы по LightGBM:\n",
    "\n",
    "Подобранные гиперпараметры:\n",
    "- learning_rate: 0.1\n",
    "- num_leaves: 100\n",
    "Много листьев, поэтому более гибкая, что помогает выявлять сложные зависимости.\n",
    "\n",
    "Качество модели: ~1560.732\n",
    "В среднем, предсказания LightGBM ошибаются на ~1560.732 единиц цены автомобиля.\n",
    "\n",
    "Время обучения: \n",
    "7.48 секунд\n",
    "LightGBM перебирал сетку параметров (всего 30 обучений)\n",
    "Для каждой комбинации делалась 5-кратная кросс-валидация."
   ]
  },
  {
   "cell_type": "markdown",
   "metadata": {},
   "source": [
    "## Анализ моделей"
   ]
  },
  {
   "cell_type": "markdown",
   "metadata": {},
   "source": [
    "Нужно учитывать следующие критерии заказчика:\n",
    "\n",
    "- качество предсказания;\n",
    "- время обучения модели;\n",
    "- время предсказания модели\n",
    "\n",
    "А также значение метрики RMSE должно быть меньше 2500."
   ]
  },
  {
   "cell_type": "markdown",
   "metadata": {},
   "source": [
    "Для обучения мы использовали следующие модели:\n",
    "\n",
    "- Linear Regression\n",
    "- Decision Tree \n",
    "- LightGBM\n",
    "\n",
    "Краткие выводы по моделям:\n",
    "\n",
    "- Качество предсказания (RMSE)\n",
    "LightGBM имеет наилучший результат (RMSE ~1597).\n",
    "Decision Tree чуть хуже (RMSE ~1747).\n",
    "Linear Regression гораздо хуже (RMSE ~2617).\n",
    "- Время обучения модели\n",
    "Linear Regression быстрее всех (3 мин).\n",
    "Decision Tree и LightGBM сопоставимы (~29–30 мин).\n",
    "Разница между деревом и LightGBM в обучении незначительная.\n",
    "\n",
    "\n",
    "Так как качество предсказания — ключевой критерий, а разница по времени обучения между Decision Tree и LightGBM небольшая, оптимальным вариантом будет LightGBM."
   ]
  },
  {
   "cell_type": "markdown",
   "metadata": {},
   "source": [
    "<div class=\"alert alert-block alert-danger\">\n",
    "<h3> Комментарий ревьюера <a class=\"tocSkip\"></h3>\n",
    "    \n",
    "<b>На доработку🤔:</b>\n",
    "\n",
    "\n",
    "* Вместо времени обучения ты сейчас замеряешь время подбора гиперпараметров (или время проведения кросс-валидации), которое включает в себя и время обучения, и время предсказания, еще и на нескольких фолдах кросс-валидации, для нескольких наборов параметров (в случае их перебора). Такое время мы не можем использовать для сравнения моделей между собой, поскольку в большей степени оно зависит от количества фолдов и наборов параметров.\n",
    "    \n",
    "    \n",
    "* Модель может быть быстрой в обучении, но очень медленной при предсказании, и наоборот. Время предсказания при этом часто может быть даже приоритетнее, поскольку актуализировать модель необходимо только периодически, а применять ее нужно регулярно. Поэтому необходимо рассмотреть оба данных показателя по отедльности, чтобы принять взвешенное решение."
   ]
  },
  {
   "cell_type": "markdown",
   "metadata": {},
   "source": [
    "<div class=\"alert alert-success\">\n",
    "<h3> Комментарий ревьюера 2<a class=\"tocSkip\"> </h3> \n",
    "    \n",
    "<b>Все отлично! 👍:</b> 😉"
   ]
  },
  {
   "cell_type": "markdown",
   "metadata": {},
   "source": [
    "<div class=\"alert alert-warning\">\n",
    "<h3> Комментарий ревьюера <a class=\"tocSkip\"> </h3>\n",
    "    \n",
    "<b>Некоторые замечания и рекомендации💡:</b> \n",
    "        \n",
    "* Если используешь для модели Grid или RandomizedSearchCV, то из него сразу можно достать метрику лучшей модели (`.best_score_`), среднее время обучения (`mean_fit_time`) и оценки (`mean_score_time`) лучшей модели. Пример кода: `grid_cv.cv_results_['mean_fit_time'][grid_cv.best_index_]`. Однако следует уточнить, что mean_score_time включает не только время получения предсказаний, но и расчет метрики, но в нашем случае это допустимо. Как вариант, можно еще получить время обучения лучшей модели на всем тренировочном наборе через `.refit_time_`. \n",
    "\n",
    "    Если подбор параметров не производится, то можно провести кросс-валидацию с помощью <a href='https://scikit-learn.org/stable/modules/generated/sklearn.model_selection.cross_validate.html'>cross_validate</a>, который по аналогии с гридсерчем помимо скоров на каждом сплите также логирует время обучения и время получения скора. Из получаемого словаря берем `'fit_time'`, `'score_time'` и `'test_score'` и усредняем их значения.\n",
    " \n",
    "    Однако в таком случае следим, чтобы параметр `cv` был одинаковым, чтобы показатели были сопоставимы.\n",
    " \n",
    "        \n",
    "* Для более удобного сравнения результаты лучше сложить в таблицу.\n",
    "\n",
    "\n",
    "* Вместо ручного копи-паста результатов в таблицу, лучше сохранять показатели в переменные, а затем использовать их для заполнения таблицы, иначе придется не забывать каждый раз вносить корректировки, плюс не исключен человеческий фактор."
   ]
  },
  {
   "cell_type": "markdown",
   "metadata": {},
   "source": [
    "<div class=\"alert alert-warning\">\n",
    "<h3> Комментарий ревьюера 2<a class=\"tocSkip\"> </h3>\n",
    "    \n",
    "<b>Некоторые замечания и рекомендации💡:</b> Обрати внимание, что `.refit_time_` не совсем корректно сравнивать со средним времнем обучения в процессе кросс-валидации, поскольку отличается размер выборки, при этом формат оценки отличается, кросс-валидационная - это сбалансированное среднее между несколькими замерами, а `.refit_time_` - одноразовый замер."
   ]
  },
  {
   "cell_type": "code",
   "execution_count": 72,
   "metadata": {},
   "outputs": [
    {
     "name": "stdout",
     "output_type": "stream",
     "text": [
      "RMSE на тестовой выборке: 1549.05\n",
      "Время предсказания: 0.9772 секунд\n"
     ]
    }
   ],
   "source": [
    "X_test_lgb = X_test.copy()\n",
    "for col in cat_columns:\n",
    "    X_test_lgb[col] = pd.Categorical(X_test_lgb[col], categories=X_train_lgb[col].cat.categories)\n",
    "\n",
    "best_lightgbm = grid_search.best_estimator_\n",
    "\n",
    "# Засекаем время предсказания\n",
    "start_time = time.time()\n",
    "\n",
    "# Делаем предсказание на тестовых данных\n",
    "y_pred = best_lightgbm.predict(X_test_lgb)\n",
    "\n",
    "end_time = time.time()\n",
    "prediction_time = end_time - start_time\n",
    "\n",
    "mse = mean_squared_error(y_test, y_pred)\n",
    "rmse = mse ** 0.5\n",
    "\n",
    "print(f\"RMSE на тестовой выборке: {rmse:.2f}\")\n",
    "print(f\"Время предсказания: {prediction_time:.4f} секунд\")"
   ]
  },
  {
   "cell_type": "markdown",
   "metadata": {},
   "source": [
    "Качество предсказания: RMSE = 1549.05\n",
    "Это лучше, чем кросс-валидационный RMSE (1560.732), что абсолютно нормально: после переобучения на всех данных модель предсказывает чуть лучше.\n",
    "Вывод: Модель демонстрирует стабильное и высокое качество.\n",
    "\n",
    "Время предсказания: Всего ~0.9616 секунд \n",
    "Это быстро и вполне подходит под требуемые критерии.\n"
   ]
  },
  {
   "cell_type": "markdown",
   "metadata": {},
   "source": [
    "<div class=\"alert alert-warning\">\n",
    "<h3> Комментарий ревьюера <a class=\"tocSkip\"> </h3>\n",
    "    \n",
    "<b>Некоторые замечания и рекомендации💡:</b> Дополнительно на этапе тестирования также имеет смысл визуально сравнить предсказания с истиной (график рассеяния таргета и предсказаний, график ошибок), чтобы лучше предстваить, чего же мы в итоге достигли. Можно изучить важность признаков (помним про мультиколлинеарность)."
   ]
  },
  {
   "cell_type": "markdown",
   "metadata": {},
   "source": [
    "<div class=\"alert alert-success\">\n",
    "<h3> Комментарий ревьюера 2<a class=\"tocSkip\"> </h3> \n",
    "    \n",
    "<b>Все отлично! 👍:</b> 😉"
   ]
  },
  {
   "cell_type": "markdown",
   "metadata": {},
   "source": [
    "Чтобы оценить предсказания построим график рассеяния целевого признака и предсказаний, по оси X будут истинные значения (y_test), а по оси Y — предсказания модели (y_pred)."
   ]
  },
  {
   "cell_type": "code",
   "execution_count": 73,
   "metadata": {},
   "outputs": [
    {
     "data": {
      "image/png": "[encoded data removed]",
      "text/plain": [
       "<Figure size 576x432 with 1 Axes>"
      ]
     },
     "metadata": {
      "needs_background": "light"
     },
     "output_type": "display_data"
    }
   ],
   "source": [
    "plt.figure(figsize=(8, 6))\n",
    "sns.scatterplot(x=y_test, y=y_pred, alpha=0.5)\n",
    "plt.plot([y_test.min(), y_test.max()], [y_test.min(), y_test.max()], 'r--')  # линия идеального совпадения\n",
    "plt.xlabel(\"Истинные значения\")\n",
    "plt.ylabel(\"Предсказания модели\")\n",
    "plt.title(\"Сравнение предсказаний и истинных значений\")\n",
    "plt.show()"
   ]
  },
  {
   "cell_type": "markdown",
   "metadata": {},
   "source": [
    "Ось X — истинные значения.\n",
    "Ось Y — предсказания модели.\n",
    "Красная пунктирная линия — идеальные предсказания (y = x).\n",
    "Таким образом, распределение точек довольно плотное вдоль диагонали, что говорит о хорошем качестве модели.\n",
    "Однако есть значительное рассеивание, особенно при высоких значениях (выше 10 000). Это говорит о более высокой погрешности на больших значениях. Модель имеет тенденцию к недооценке (точки часто ниже диагонали) — особенно в правой части графика.\n"
   ]
  },
  {
   "cell_type": "markdown",
   "metadata": {},
   "source": [
    "Также построим график распределения ошибок. В идеале симметрия должна быть относительно нуля\n",
    "— пик должен быть в точке 0, а левый и правый хвосты — примерно одинаковыми.\n",
    "Форма, близкая к нормальному распределению (колоколообразная)\n",
    "— большинство ошибок малы, а большие ошибки редки.\n",
    "Отсутствие смещённости\n",
    "— нет «перекоса» распределения влево или вправо.\n",
    "Узкий диапазон ошибок (низкая дисперсия)\n",
    "— означает высокую точность предсказаний.\n"
   ]
  },
  {
   "cell_type": "code",
   "execution_count": 74,
   "metadata": {},
   "outputs": [
    {
     "data": {
      "image/png": "[encoded data removed]",
      "text/plain": [
       "<Figure size 576x432 with 1 Axes>"
      ]
     },
     "metadata": {
      "needs_background": "light"
     },
     "output_type": "display_data"
    }
   ],
   "source": [
    "errors = y_test - y_pred\n",
    "\n",
    "plt.figure(figsize=(8, 6))\n",
    "sns.histplot(errors, bins=30, kde=True)\n",
    "plt.xlabel(\"Ошибка (Истинное - Предсказанное)\")\n",
    "plt.title(\"Распределение ошибок модели\")\n",
    "plt.show()"
   ]
  },
  {
   "cell_type": "markdown",
   "metadata": {},
   "source": [
    "Центр распределения — в районе нуля, это говорит о том, что в среднем модель не сильно смещена.\n",
    "Форма — близка к нормальной, но есть левый и правый хвосты, указывающие на значительные ошибки в обе стороны.\n",
    "Плотная концентрация в районе нуля подтверждает, что большинство предсказаний точны."
   ]
  },
  {
   "cell_type": "markdown",
   "metadata": {},
   "source": [
    "## Общий вывод"
   ]
  },
  {
   "cell_type": "markdown",
   "metadata": {},
   "source": [
    "### Общий вывод по проекту\n",
    "\n",
    "В рамках проекта была решена задача построения модели для прогнозирования стоимости автомобилей по их характеристикам.\n",
    "\n",
    "### Ход исследования:\n",
    "- Проведена предварительная обработка данных:\n",
    "  - обработаны пропуски и выбросы,\n",
    "  - закодированы категориальные признаки с помощью One-Hot Encoding.\n",
    "- Выполнен анализ корреляции признаков, выявлены сильно коррелирующие пары (например, `vehicle_type` и `model`).\n",
    "- Данные разделены на обучающую и тестовую выборки.\n",
    "- Обучены и протестированы несколько моделей регрессии:\n",
    "  - **Linear Regression**\n",
    "  - **Decision Tree Regressor** с подбором гиперпараметров\n",
    "  - **LightGBM Regressor** с GridSearchCV\n",
    "\n",
    "### Сравнение моделей по ключевым критериям\n",
    "\n",
    "| Модель                   | RMSE | Время обучения      | Время предсказания  |\n",
    "|--------------------------|-------------|----------------------|---------------------|\n",
    "| Linear Regression        | 2588.378      | ~23 секунды          |  0.225 секунды          |\n",
    "| Decision Tree Regressor  | 1626.804      | ~73 секунды  |0.443 секунды          |\n",
    "| LightGBM Regressor       | 1560.732       | ~8 секунд  | 0.9616 секунды        |\n",
    "\n",
    "### Основные выводы\n",
    "- **Linear Regression** продемонстрировала худшее качество предсказаний (RMSE ~2588.378 ), но быстрое обучение.\n",
    "- **Decision Tree Regressor** показал значительно более высокое качество, однако время обучения с подбором гиперпараметров значительно увеличилось.\n",
    "- **LightGBM Regressor** достиг наилучшего качества (минимальное RMSE) и короткого времени предсказания, что делает его наиболее подходящим вариантом.\n",
    "- Все модели показали быстрое время инференса (<1 секунды), что важно для использования в реальном сервисе.\n",
    "\n",
    "### Рекомендация\n",
    "- Для финального развёртывания рекомендуется использовать **LightGBM** с найденными гиперпараметрами.\n",
    "\n",
    "\n"
   ]
  },
  {
   "cell_type": "markdown",
   "metadata": {},
   "source": [
    "<div class=\"alert alert-success\">\n",
    "<h3> Комментарий ревьюера <a class=\"tocSkip\"> </h3> \n",
    "    \n",
    "<b>Все отлично! 👍:</b> Отлично, с задачей в целом справились!"
   ]
  },
  {
   "cell_type": "markdown",
   "metadata": {},
   "source": [
    "## Чек-лист проверки"
   ]
  },
  {
   "cell_type": "markdown",
   "metadata": {},
   "source": [
    "Поставьте 'x' в выполненных пунктах. Далее нажмите Shift+Enter."
   ]
  },
  {
   "cell_type": "markdown",
   "metadata": {},
   "source": [
    "- [x]  Jupyter Notebook открыт\n",
    "- [ ]  Весь код выполняется без ошибок\n",
    "- [ ]  Ячейки с кодом расположены в порядке исполнения\n",
    "- [ ]  Выполнена загрузка и подготовка данных\n",
    "- [ ]  Выполнено обучение моделей\n",
    "- [ ]  Есть анализ скорости работы и качества моделей"
   ]
  },
  {
   "cell_type": "markdown",
   "metadata": {},
   "source": [
    "<div style=\"border:solid Chocolate 2px; padding: 40px\">\n",
    "\n",
    "**Общий вывод по проекту**\n",
    "\n",
    "Мария, спасибо за твой проект! У тебя хорошая работа! В тебе виден будущий профессионал своего дела :) Однако есть еще моменты, которые требуют твоего внимания.\n",
    "    \n",
    "Кратко пройдусь по впечатлениям. \n",
    "\n",
    "**Отмечу отдельные положительные моменты проекта🙂**:\n",
    " \n",
    "* Прекрасное владение инструментами обработки данных!\n",
    "* Дополнение своими идеями - очень круто!\n",
    "* Все этапы работы проделаны очень осмысленно! Каждый шаг снабжен пояснениями и выводами!\n",
    "* Работа имеет четкую структуру и выполнена аккуратно, проверять - одно удовольствие!\n",
    "\n",
    "    \n",
    "**На что стоит обратить внимание🤓**:\n",
    "\n",
    "* Скорректировать замер времени.\n",
    "    \n",
    "\n",
    "**Желаю удачи и жду твой проект на повторное ревью!**😉\n",
    "    \n",
    "<img src=\"https://99px.ru/sstorage/86/2015/12/image_86271215043043632690.gif\" />"
   ]
  },
  {
   "cell_type": "markdown",
   "metadata": {},
   "source": [
    "Спасибо большое! Учту свои ошибки"
   ]
  },
  {
   "cell_type": "markdown",
   "metadata": {},
   "source": [
    "<div class=\"alert alert-success\">\n",
    "<b>Комментарий ревьюера 2:</b> Критических замечаний не осталось, проект засчитывается. Ты хорошо постаралась, было очень приятно с тобой поработать :) Желаю огромных успехов в дальнейшем обучении и карьерных достижений! 🍀"
   ]
  },
  {
   "cell_type": "code",
   "execution_count": null,
   "metadata": {},
   "outputs": [],
   "source": []
  }
 ],
 "metadata": {
  "ExecuteTimeLog": [
   {
    "duration": 1427,
    "start_time": "2025-06-27T10:36:50.484Z"
   },
   {
    "duration": 1009,
    "start_time": "2025-06-27T10:37:32.652Z"
   },
   {
    "duration": 109,
    "start_time": "2025-06-27T10:48:32.222Z"
   },
   {
    "duration": 102,
    "start_time": "2025-06-27T10:49:11.667Z"
   },
   {
    "duration": 8,
    "start_time": "2025-06-27T10:49:31.933Z"
   },
   {
    "duration": 22,
    "start_time": "2025-06-27T10:49:36.408Z"
   },
   {
    "duration": 180,
    "start_time": "2025-06-27T10:50:52.932Z"
   },
   {
    "duration": 160,
    "start_time": "2025-06-27T10:51:57.032Z"
   },
   {
    "duration": 140,
    "start_time": "2025-06-27T10:52:03.394Z"
   },
   {
    "duration": 1060,
    "start_time": "2025-06-27T10:58:47.043Z"
   },
   {
    "duration": 26,
    "start_time": "2025-06-27T10:59:01.758Z"
   },
   {
    "duration": 339,
    "start_time": "2025-06-27T11:01:00.617Z"
   },
   {
    "duration": 149,
    "start_time": "2025-06-27T11:01:12.297Z"
   },
   {
    "duration": 111,
    "start_time": "2025-06-27T11:04:43.298Z"
   },
   {
    "duration": 1343,
    "start_time": "2025-06-28T09:28:01.573Z"
   },
   {
    "duration": 869,
    "start_time": "2025-06-28T09:28:02.918Z"
   },
   {
    "duration": 22,
    "start_time": "2025-06-28T09:28:03.788Z"
   },
   {
    "duration": 144,
    "start_time": "2025-06-28T09:28:03.811Z"
   },
   {
    "duration": 151,
    "start_time": "2025-06-28T09:28:03.957Z"
   },
   {
    "duration": 441,
    "start_time": "2025-06-28T09:28:04.109Z"
   },
   {
    "duration": 117,
    "start_time": "2025-06-28T09:28:04.551Z"
   },
   {
    "duration": 4,
    "start_time": "2025-06-28T09:28:08.920Z"
   },
   {
    "duration": 32,
    "start_time": "2025-06-28T09:29:58.454Z"
   },
   {
    "duration": 56,
    "start_time": "2025-06-28T09:33:00.402Z"
   },
   {
    "duration": 8,
    "start_time": "2025-06-28T10:11:10.501Z"
   },
   {
    "duration": 1045,
    "start_time": "2025-06-28T10:11:11.214Z"
   },
   {
    "duration": 47,
    "start_time": "2025-06-28T10:11:53.446Z"
   },
   {
    "duration": 45,
    "start_time": "2025-06-28T10:14:16.562Z"
   },
   {
    "duration": 80,
    "start_time": "2025-06-28T10:15:06.685Z"
   },
   {
    "duration": 71,
    "start_time": "2025-06-28T10:18:13.676Z"
   },
   {
    "duration": 1200,
    "start_time": "2025-06-28T12:03:42.657Z"
   },
   {
    "duration": 2818,
    "start_time": "2025-06-28T12:03:43.859Z"
   },
   {
    "duration": 20,
    "start_time": "2025-06-28T12:03:46.678Z"
   },
   {
    "duration": 149,
    "start_time": "2025-06-28T12:03:46.699Z"
   },
   {
    "duration": 140,
    "start_time": "2025-06-28T12:03:46.850Z"
   },
   {
    "duration": 559,
    "start_time": "2025-06-28T12:03:46.991Z"
   },
   {
    "duration": 109,
    "start_time": "2025-06-28T12:03:47.552Z"
   },
   {
    "duration": 107,
    "start_time": "2025-06-28T12:03:47.663Z"
   },
   {
    "duration": 45,
    "start_time": "2025-06-28T12:03:47.772Z"
   },
   {
    "duration": 57,
    "start_time": "2025-06-28T12:04:17.560Z"
   },
   {
    "duration": 3,
    "start_time": "2025-06-28T12:04:42.109Z"
   },
   {
    "duration": 785,
    "start_time": "2025-06-28T12:04:42.827Z"
   },
   {
    "duration": 36,
    "start_time": "2025-06-28T12:04:44.552Z"
   },
   {
    "duration": 20,
    "start_time": "2025-06-28T12:04:50.568Z"
   },
   {
    "duration": 51,
    "start_time": "2025-06-28T12:04:51.729Z"
   },
   {
    "duration": 2,
    "start_time": "2025-06-28T12:07:58.876Z"
   },
   {
    "duration": 768,
    "start_time": "2025-06-28T12:07:59.601Z"
   },
   {
    "duration": 18,
    "start_time": "2025-06-28T12:11:06.741Z"
   },
   {
    "duration": 32,
    "start_time": "2025-06-28T12:11:34.146Z"
   },
   {
    "duration": 19,
    "start_time": "2025-06-28T12:14:23.173Z"
   },
   {
    "duration": 89,
    "start_time": "2025-06-28T12:15:42.193Z"
   },
   {
    "duration": 17,
    "start_time": "2025-06-28T12:15:45.657Z"
   },
   {
    "duration": 51,
    "start_time": "2025-06-28T12:15:46.441Z"
   },
   {
    "duration": 47,
    "start_time": "2025-06-28T12:16:55.876Z"
   },
   {
    "duration": 151,
    "start_time": "2025-06-28T12:20:02.505Z"
   },
   {
    "duration": 8,
    "start_time": "2025-06-28T12:21:12.574Z"
   },
   {
    "duration": 35,
    "start_time": "2025-06-28T12:24:16.513Z"
   },
   {
    "duration": 1681,
    "start_time": "2025-06-28T12:25:43.158Z"
   },
   {
    "duration": 1779,
    "start_time": "2025-06-28T12:25:53.259Z"
   },
   {
    "duration": 1683,
    "start_time": "2025-06-28T12:26:01.439Z"
   },
   {
    "duration": 1581,
    "start_time": "2025-06-28T12:26:09.708Z"
   },
   {
    "duration": 171,
    "start_time": "2025-06-28T12:30:19.216Z"
   },
   {
    "duration": 21,
    "start_time": "2025-06-28T12:33:19.702Z"
   },
   {
    "duration": 58,
    "start_time": "2025-06-28T12:34:22.709Z"
   },
   {
    "duration": 29,
    "start_time": "2025-06-28T12:37:06.257Z"
   },
   {
    "duration": 27,
    "start_time": "2025-06-28T12:37:17.007Z"
   },
   {
    "duration": 9,
    "start_time": "2025-06-28T12:42:57.791Z"
   },
   {
    "duration": 15,
    "start_time": "2025-06-28T12:43:12.373Z"
   },
   {
    "duration": 102,
    "start_time": "2025-06-28T12:46:31.739Z"
   },
   {
    "duration": 1437,
    "start_time": "2025-06-28T12:47:49.033Z"
   },
   {
    "duration": 17,
    "start_time": "2025-06-28T12:49:15.216Z"
   },
   {
    "duration": 93,
    "start_time": "2025-06-28T12:51:45.072Z"
   },
   {
    "duration": 5,
    "start_time": "2025-06-28T12:52:25.439Z"
   },
   {
    "duration": 29,
    "start_time": "2025-06-28T12:58:17.705Z"
   },
   {
    "duration": 30,
    "start_time": "2025-06-28T12:58:26.523Z"
   },
   {
    "duration": 1374,
    "start_time": "2025-06-28T12:59:36.168Z"
   },
   {
    "duration": 1452,
    "start_time": "2025-06-30T07:37:48.558Z"
   },
   {
    "duration": 979,
    "start_time": "2025-06-30T07:37:50.012Z"
   },
   {
    "duration": 24,
    "start_time": "2025-06-30T07:37:50.993Z"
   },
   {
    "duration": 156,
    "start_time": "2025-06-30T07:37:51.018Z"
   },
   {
    "duration": 156,
    "start_time": "2025-06-30T07:37:51.176Z"
   },
   {
    "duration": 446,
    "start_time": "2025-06-30T07:37:51.334Z"
   },
   {
    "duration": 122,
    "start_time": "2025-06-30T07:37:51.781Z"
   },
   {
    "duration": 4,
    "start_time": "2025-06-30T07:37:51.905Z"
   },
   {
    "duration": 34,
    "start_time": "2025-06-30T07:37:51.911Z"
   },
   {
    "duration": 61,
    "start_time": "2025-06-30T07:37:51.961Z"
   },
   {
    "duration": 3,
    "start_time": "2025-06-30T07:37:52.024Z"
   },
   {
    "duration": 957,
    "start_time": "2025-06-30T07:37:52.029Z"
   },
   {
    "duration": 40,
    "start_time": "2025-06-30T07:37:52.988Z"
   },
   {
    "duration": 35,
    "start_time": "2025-06-30T07:37:53.031Z"
   },
   {
    "duration": 75,
    "start_time": "2025-06-30T07:37:53.067Z"
   },
   {
    "duration": 3,
    "start_time": "2025-06-30T07:37:53.144Z"
   },
   {
    "duration": 899,
    "start_time": "2025-06-30T07:37:53.149Z"
   },
   {
    "duration": 24,
    "start_time": "2025-06-30T07:37:54.050Z"
   },
   {
    "duration": 59,
    "start_time": "2025-06-30T07:37:54.076Z"
   },
   {
    "duration": 73,
    "start_time": "2025-06-30T07:37:54.137Z"
   },
   {
    "duration": 9,
    "start_time": "2025-06-30T07:37:54.212Z"
   },
   {
    "duration": 64,
    "start_time": "2025-06-30T07:37:54.222Z"
   },
   {
    "duration": 1707,
    "start_time": "2025-06-30T07:37:54.288Z"
   },
   {
    "duration": 67,
    "start_time": "2025-06-30T07:37:55.997Z"
   },
   {
    "duration": 232,
    "start_time": "2025-06-30T07:37:56.066Z"
   },
   {
    "duration": 24,
    "start_time": "2025-06-30T07:37:56.300Z"
   },
   {
    "duration": 39,
    "start_time": "2025-06-30T07:37:56.326Z"
   },
   {
    "duration": 5,
    "start_time": "2025-06-30T07:37:56.367Z"
   },
   {
    "duration": 44,
    "start_time": "2025-06-30T07:37:56.374Z"
   },
   {
    "duration": 1625,
    "start_time": "2025-06-30T07:37:56.420Z"
   },
   {
    "duration": 139,
    "start_time": "2025-06-30T07:40:34.660Z"
   },
   {
    "duration": 137,
    "start_time": "2025-06-30T07:41:58.242Z"
   },
   {
    "duration": 19,
    "start_time": "2025-06-30T08:03:00.448Z"
   },
   {
    "duration": 39,
    "start_time": "2025-06-30T08:05:16.712Z"
   },
   {
    "duration": 1622,
    "start_time": "2025-06-30T08:05:30.212Z"
   },
   {
    "duration": 146,
    "start_time": "2025-06-30T08:06:00.362Z"
   },
   {
    "duration": 18,
    "start_time": "2025-06-30T08:07:45.974Z"
   },
   {
    "duration": 1716,
    "start_time": "2025-06-30T08:11:54.620Z"
   },
   {
    "duration": 1824,
    "start_time": "2025-06-30T08:12:04.555Z"
   },
   {
    "duration": 43,
    "start_time": "2025-06-30T08:17:33.211Z"
   },
   {
    "duration": 1601,
    "start_time": "2025-06-30T08:18:18.445Z"
   },
   {
    "duration": 38,
    "start_time": "2025-06-30T08:20:15.656Z"
   },
   {
    "duration": 1653,
    "start_time": "2025-06-30T08:20:27.222Z"
   },
   {
    "duration": 156,
    "start_time": "2025-06-30T08:21:50.428Z"
   },
   {
    "duration": 15,
    "start_time": "2025-06-30T08:25:50.743Z"
   },
   {
    "duration": 1848,
    "start_time": "2025-06-30T08:28:52.037Z"
   },
   {
    "duration": 1640,
    "start_time": "2025-06-30T08:29:04.535Z"
   },
   {
    "duration": 219,
    "start_time": "2025-06-30T08:31:59.180Z"
   },
   {
    "duration": 306,
    "start_time": "2025-06-30T08:36:17.852Z"
   },
   {
    "duration": 5,
    "start_time": "2025-06-30T08:38:37.625Z"
   },
   {
    "duration": 5595,
    "start_time": "2025-06-30T08:42:30.453Z"
   },
   {
    "duration": 1202,
    "start_time": "2025-06-30T08:43:01.488Z"
   },
   {
    "duration": 37,
    "start_time": "2025-06-30T08:46:26.803Z"
   },
   {
    "duration": 35,
    "start_time": "2025-06-30T08:50:58.322Z"
   },
   {
    "duration": 44,
    "start_time": "2025-06-30T08:51:19.989Z"
   },
   {
    "duration": 40,
    "start_time": "2025-06-30T08:51:41.484Z"
   },
   {
    "duration": 37,
    "start_time": "2025-06-30T08:53:19.230Z"
   },
   {
    "duration": 46,
    "start_time": "2025-06-30T08:55:29.025Z"
   },
   {
    "duration": 4,
    "start_time": "2025-06-30T08:57:34.372Z"
   },
   {
    "duration": 4,
    "start_time": "2025-06-30T11:29:17.546Z"
   },
   {
    "duration": 3,
    "start_time": "2025-06-30T11:30:14.345Z"
   },
   {
    "duration": 104,
    "start_time": "2025-06-30T11:30:51.428Z"
   },
   {
    "duration": 3708,
    "start_time": "2025-06-30T11:31:26.624Z"
   },
   {
    "duration": 19,
    "start_time": "2025-06-30T11:31:39.162Z"
   },
   {
    "duration": 3,
    "start_time": "2025-06-30T11:31:54.628Z"
   },
   {
    "duration": 11,
    "start_time": "2025-06-30T11:31:55.293Z"
   },
   {
    "duration": 3,
    "start_time": "2025-06-30T11:32:10.129Z"
   },
   {
    "duration": 273,
    "start_time": "2025-06-30T11:32:10.861Z"
   },
   {
    "duration": 3,
    "start_time": "2025-06-30T11:34:56.857Z"
   },
   {
    "duration": 5639,
    "start_time": "2025-06-30T11:34:57.694Z"
   },
   {
    "duration": 2984,
    "start_time": "2025-06-30T11:59:06.569Z"
   },
   {
    "duration": 23,
    "start_time": "2025-06-30T12:00:41.675Z"
   },
   {
    "duration": 10,
    "start_time": "2025-06-30T12:00:55.988Z"
   },
   {
    "duration": 6,
    "start_time": "2025-06-30T12:04:16.058Z"
   },
   {
    "duration": 1575,
    "start_time": "2025-06-30T12:14:56.373Z"
   },
   {
    "duration": 1546,
    "start_time": "2025-06-30T12:15:06.557Z"
   },
   {
    "duration": 26,
    "start_time": "2025-06-30T12:18:43.679Z"
   },
   {
    "duration": 2588,
    "start_time": "2025-06-30T12:20:10.538Z"
   },
   {
    "duration": 2776,
    "start_time": "2025-06-30T12:21:23.680Z"
   },
   {
    "duration": 2683,
    "start_time": "2025-06-30T12:21:36.338Z"
   },
   {
    "duration": 81,
    "start_time": "2025-06-30T12:21:48.894Z"
   },
   {
    "duration": 5,
    "start_time": "2025-06-30T12:22:04.488Z"
   },
   {
    "duration": 4,
    "start_time": "2025-06-30T12:22:20.969Z"
   },
   {
    "duration": 17,
    "start_time": "2025-06-30T12:22:40.504Z"
   },
   {
    "duration": 77,
    "start_time": "2025-06-30T12:24:17.980Z"
   },
   {
    "duration": 2714,
    "start_time": "2025-06-30T12:24:33.288Z"
   },
   {
    "duration": 22,
    "start_time": "2025-06-30T12:24:45.870Z"
   },
   {
    "duration": 99,
    "start_time": "2025-06-30T12:25:19.940Z"
   },
   {
    "duration": 147,
    "start_time": "2025-06-30T12:25:38.755Z"
   },
   {
    "duration": 7456,
    "start_time": "2025-06-30T12:25:50.288Z"
   },
   {
    "duration": 79,
    "start_time": "2025-06-30T12:26:00.021Z"
   },
   {
    "duration": 2717,
    "start_time": "2025-06-30T12:26:10.340Z"
   },
   {
    "duration": 28,
    "start_time": "2025-06-30T12:26:21.955Z"
   },
   {
    "duration": 3268,
    "start_time": "2025-06-30T12:26:47.880Z"
   },
   {
    "duration": 4137,
    "start_time": "2025-06-30T12:26:51.150Z"
   },
   {
    "duration": 1013,
    "start_time": "2025-06-30T12:26:55.289Z"
   },
   {
    "duration": 30,
    "start_time": "2025-06-30T12:26:56.304Z"
   },
   {
    "duration": 173,
    "start_time": "2025-06-30T12:26:56.337Z"
   },
   {
    "duration": 172,
    "start_time": "2025-06-30T12:26:56.511Z"
   },
   {
    "duration": 472,
    "start_time": "2025-06-30T12:26:56.684Z"
   },
   {
    "duration": 130,
    "start_time": "2025-06-30T12:26:57.160Z"
   },
   {
    "duration": 5,
    "start_time": "2025-06-30T12:26:57.291Z"
   },
   {
    "duration": 32,
    "start_time": "2025-06-30T12:26:57.298Z"
   },
   {
    "duration": 91,
    "start_time": "2025-06-30T12:26:57.332Z"
   },
   {
    "duration": 2,
    "start_time": "2025-06-30T12:26:57.425Z"
   },
   {
    "duration": 1098,
    "start_time": "2025-06-30T12:26:57.429Z"
   },
   {
    "duration": 44,
    "start_time": "2025-06-30T12:26:58.530Z"
   },
   {
    "duration": 24,
    "start_time": "2025-06-30T12:26:58.576Z"
   },
   {
    "duration": 87,
    "start_time": "2025-06-30T12:26:58.602Z"
   },
   {
    "duration": 3,
    "start_time": "2025-06-30T12:26:58.692Z"
   },
   {
    "duration": 978,
    "start_time": "2025-06-30T12:26:58.697Z"
   },
   {
    "duration": 21,
    "start_time": "2025-06-30T12:26:59.677Z"
   },
   {
    "duration": 84,
    "start_time": "2025-06-30T12:26:59.700Z"
   },
   {
    "duration": 58,
    "start_time": "2025-06-30T12:26:59.786Z"
   },
   {
    "duration": 27,
    "start_time": "2025-06-30T12:26:59.845Z"
   },
   {
    "duration": 35,
    "start_time": "2025-06-30T12:26:59.875Z"
   },
   {
    "duration": 1859,
    "start_time": "2025-06-30T12:26:59.912Z"
   },
   {
    "duration": 63,
    "start_time": "2025-06-30T12:27:01.772Z"
   },
   {
    "duration": 191,
    "start_time": "2025-06-30T12:27:01.837Z"
   },
   {
    "duration": 37,
    "start_time": "2025-06-30T12:27:02.030Z"
   },
   {
    "duration": 26,
    "start_time": "2025-06-30T12:27:02.069Z"
   },
   {
    "duration": 5,
    "start_time": "2025-06-30T12:27:02.096Z"
   },
   {
    "duration": 97,
    "start_time": "2025-06-30T12:27:02.103Z"
   },
   {
    "duration": 1654,
    "start_time": "2025-06-30T12:27:02.202Z"
   },
   {
    "duration": 50,
    "start_time": "2025-06-30T12:27:03.857Z"
   },
   {
    "duration": 1789,
    "start_time": "2025-06-30T12:27:03.909Z"
   },
   {
    "duration": 181,
    "start_time": "2025-06-30T12:27:05.700Z"
   },
   {
    "duration": 18,
    "start_time": "2025-06-30T12:27:05.882Z"
   },
   {
    "duration": 1917,
    "start_time": "2025-06-30T12:27:05.902Z"
   },
   {
    "duration": 55,
    "start_time": "2025-06-30T12:27:07.821Z"
   },
   {
    "duration": 1652,
    "start_time": "2025-06-30T12:27:07.878Z"
   },
   {
    "duration": 55,
    "start_time": "2025-06-30T12:27:09.532Z"
   },
   {
    "duration": 1660,
    "start_time": "2025-06-30T12:27:09.588Z"
   },
   {
    "duration": 152,
    "start_time": "2025-06-30T12:27:11.260Z"
   },
   {
    "duration": 16,
    "start_time": "2025-06-30T12:27:11.414Z"
   },
   {
    "duration": 246,
    "start_time": "2025-06-30T12:27:11.432Z"
   },
   {
    "duration": 214,
    "start_time": "2025-06-30T12:27:11.679Z"
   },
   {
    "duration": 5,
    "start_time": "2025-06-30T12:27:11.895Z"
   },
   {
    "duration": 1370,
    "start_time": "2025-06-30T12:27:11.901Z"
   },
   {
    "duration": 35,
    "start_time": "2025-06-30T12:27:13.274Z"
   },
   {
    "duration": 68,
    "start_time": "2025-06-30T12:27:13.311Z"
   },
   {
    "duration": 37,
    "start_time": "2025-06-30T12:27:13.381Z"
   },
   {
    "duration": 58,
    "start_time": "2025-06-30T12:27:13.420Z"
   },
   {
    "duration": 27,
    "start_time": "2025-06-30T12:27:13.480Z"
   },
   {
    "duration": 4,
    "start_time": "2025-06-30T12:27:13.509Z"
   },
   {
    "duration": 5873,
    "start_time": "2025-06-30T12:27:13.515Z"
   },
   {
    "duration": 22,
    "start_time": "2025-06-30T12:27:19.390Z"
   },
   {
    "duration": 1547,
    "start_time": "2025-06-30T12:27:19.414Z"
   },
   {
    "duration": 67,
    "start_time": "2025-06-30T12:27:20.963Z"
   },
   {
    "duration": 5,
    "start_time": "2025-06-30T12:27:21.032Z"
   },
   {
    "duration": 85,
    "start_time": "2025-06-30T12:27:21.038Z"
   },
   {
    "duration": 6,
    "start_time": "2025-06-30T12:27:21.125Z"
   },
   {
    "duration": 124,
    "start_time": "2025-06-30T12:28:17.682Z"
   },
   {
    "duration": 2574,
    "start_time": "2025-06-30T12:29:07.840Z"
   },
   {
    "duration": 19,
    "start_time": "2025-06-30T12:29:20.323Z"
   },
   {
    "duration": 10,
    "start_time": "2025-06-30T12:29:30.573Z"
   },
   {
    "duration": 3,
    "start_time": "2025-06-30T12:30:30.482Z"
   },
   {
    "duration": 3,
    "start_time": "2025-06-30T12:30:34.088Z"
   },
   {
    "duration": 2068,
    "start_time": "2025-06-30T12:33:43.386Z"
   },
   {
    "duration": 22780,
    "start_time": "2025-06-30T12:43:53.186Z"
   },
   {
    "duration": 12,
    "start_time": "2025-06-30T12:45:48.951Z"
   },
   {
    "duration": 22016,
    "start_time": "2025-06-30T12:47:21.946Z"
   },
   {
    "duration": 3,
    "start_time": "2025-06-30T12:49:53.760Z"
   },
   {
    "duration": 92773,
    "start_time": "2025-06-30T12:50:04.688Z"
   },
   {
    "duration": 92109,
    "start_time": "2025-06-30T12:59:54.752Z"
   },
   {
    "duration": 18,
    "start_time": "2025-06-30T13:11:36.167Z"
   },
   {
    "duration": 105874,
    "start_time": "2025-06-30T13:11:50.908Z"
   },
   {
    "duration": 7302,
    "start_time": "2025-07-01T07:37:13.751Z"
   },
   {
    "duration": 4668,
    "start_time": "2025-07-01T07:37:21.056Z"
   },
   {
    "duration": 966,
    "start_time": "2025-07-01T07:37:25.726Z"
   },
   {
    "duration": 21,
    "start_time": "2025-07-01T07:37:26.694Z"
   },
   {
    "duration": 170,
    "start_time": "2025-07-01T07:37:26.717Z"
   },
   {
    "duration": 168,
    "start_time": "2025-07-01T07:37:26.888Z"
   },
   {
    "duration": 456,
    "start_time": "2025-07-01T07:37:27.058Z"
   },
   {
    "duration": 132,
    "start_time": "2025-07-01T07:37:27.515Z"
   },
   {
    "duration": 6,
    "start_time": "2025-07-01T07:37:27.651Z"
   },
   {
    "duration": 30,
    "start_time": "2025-07-01T07:37:27.658Z"
   },
   {
    "duration": 77,
    "start_time": "2025-07-01T07:37:27.689Z"
   },
   {
    "duration": 2,
    "start_time": "2025-07-01T07:37:27.768Z"
   },
   {
    "duration": 1135,
    "start_time": "2025-07-01T07:37:27.772Z"
   },
   {
    "duration": 44,
    "start_time": "2025-07-01T07:37:28.910Z"
   },
   {
    "duration": 121,
    "start_time": "2025-07-01T07:37:28.956Z"
   },
   {
    "duration": 53,
    "start_time": "2025-07-01T07:37:29.079Z"
   },
   {
    "duration": 12,
    "start_time": "2025-07-01T07:37:29.134Z"
   },
   {
    "duration": 880,
    "start_time": "2025-07-01T07:37:29.148Z"
   },
   {
    "duration": 31,
    "start_time": "2025-07-01T07:37:30.029Z"
   },
   {
    "duration": 113,
    "start_time": "2025-07-01T07:37:30.061Z"
   },
   {
    "duration": 50,
    "start_time": "2025-07-01T07:37:30.176Z"
   },
   {
    "duration": 19,
    "start_time": "2025-07-01T07:37:30.227Z"
   },
   {
    "duration": 33,
    "start_time": "2025-07-01T07:37:30.249Z"
   },
   {
    "duration": 1631,
    "start_time": "2025-07-01T07:37:30.284Z"
   },
   {
    "duration": 67,
    "start_time": "2025-07-01T07:37:31.916Z"
   },
   {
    "duration": 155,
    "start_time": "2025-07-01T07:37:31.984Z"
   },
   {
    "duration": 23,
    "start_time": "2025-07-01T07:37:32.142Z"
   },
   {
    "duration": 16,
    "start_time": "2025-07-01T07:37:32.166Z"
   },
   {
    "duration": 5,
    "start_time": "2025-07-01T07:37:32.184Z"
   },
   {
    "duration": 77,
    "start_time": "2025-07-01T07:37:32.190Z"
   },
   {
    "duration": 1549,
    "start_time": "2025-07-01T07:37:32.269Z"
   },
   {
    "duration": 60,
    "start_time": "2025-07-01T07:37:33.819Z"
   },
   {
    "duration": 1529,
    "start_time": "2025-07-01T07:37:33.880Z"
   },
   {
    "duration": 117,
    "start_time": "2025-07-01T07:37:35.411Z"
   },
   {
    "duration": 19,
    "start_time": "2025-07-01T07:37:35.542Z"
   },
   {
    "duration": 1698,
    "start_time": "2025-07-01T07:37:35.563Z"
   },
   {
    "duration": 36,
    "start_time": "2025-07-01T07:37:37.262Z"
   },
   {
    "duration": 1479,
    "start_time": "2025-07-01T07:37:37.300Z"
   },
   {
    "duration": 34,
    "start_time": "2025-07-01T07:37:38.781Z"
   },
   {
    "duration": 1571,
    "start_time": "2025-07-01T07:37:38.816Z"
   },
   {
    "duration": 140,
    "start_time": "2025-07-01T07:37:40.391Z"
   },
   {
    "duration": 20,
    "start_time": "2025-07-01T07:37:40.534Z"
   },
   {
    "duration": 222,
    "start_time": "2025-07-01T07:37:40.555Z"
   },
   {
    "duration": 198,
    "start_time": "2025-07-01T07:37:40.778Z"
   },
   {
    "duration": 4,
    "start_time": "2025-07-01T07:37:40.978Z"
   },
   {
    "duration": 1298,
    "start_time": "2025-07-01T07:37:40.983Z"
   },
   {
    "duration": 31,
    "start_time": "2025-07-01T07:37:42.282Z"
   },
   {
    "duration": 53,
    "start_time": "2025-07-01T07:37:42.315Z"
   },
   {
    "duration": 33,
    "start_time": "2025-07-01T07:37:42.370Z"
   },
   {
    "duration": 55,
    "start_time": "2025-07-01T07:37:42.405Z"
   },
   {
    "duration": 3,
    "start_time": "2025-07-01T07:37:42.462Z"
   },
   {
    "duration": 3,
    "start_time": "2025-07-01T07:37:42.467Z"
   },
   {
    "duration": 5428,
    "start_time": "2025-07-01T07:37:42.472Z"
   },
   {
    "duration": 19,
    "start_time": "2025-07-01T07:37:47.903Z"
   },
   {
    "duration": 1521,
    "start_time": "2025-07-01T07:37:47.924Z"
   },
   {
    "duration": 58,
    "start_time": "2025-07-01T07:37:49.448Z"
   },
   {
    "duration": 5,
    "start_time": "2025-07-01T07:37:49.508Z"
   },
   {
    "duration": 26,
    "start_time": "2025-07-01T07:37:49.514Z"
   },
   {
    "duration": 34,
    "start_time": "2025-07-01T07:37:49.543Z"
   },
   {
    "duration": 11,
    "start_time": "2025-07-01T07:37:49.579Z"
   },
   {
    "duration": 1833,
    "start_time": "2025-07-01T07:37:49.592Z"
   },
   {
    "duration": 41227,
    "start_time": "2025-07-01T07:37:51.426Z"
   },
   {
    "duration": 5,
    "start_time": "2025-07-01T07:38:32.656Z"
   },
   {
    "duration": 179487,
    "start_time": "2025-07-01T07:38:32.663Z"
   },
   {
    "duration": 3070,
    "start_time": "2025-07-01T07:56:42.125Z"
   },
   {
    "duration": 4030,
    "start_time": "2025-07-01T07:56:45.198Z"
   },
   {
    "duration": 961,
    "start_time": "2025-07-01T07:56:49.230Z"
   },
   {
    "duration": 21,
    "start_time": "2025-07-01T07:56:50.192Z"
   },
   {
    "duration": 166,
    "start_time": "2025-07-01T07:56:50.215Z"
   },
   {
    "duration": 168,
    "start_time": "2025-07-01T07:56:50.383Z"
   },
   {
    "duration": 461,
    "start_time": "2025-07-01T07:56:50.553Z"
   },
   {
    "duration": 142,
    "start_time": "2025-07-01T07:56:51.016Z"
   },
   {
    "duration": 6,
    "start_time": "2025-07-01T07:56:51.160Z"
   },
   {
    "duration": 46,
    "start_time": "2025-07-01T07:56:51.168Z"
   },
   {
    "duration": 73,
    "start_time": "2025-07-01T07:56:51.216Z"
   },
   {
    "duration": 4,
    "start_time": "2025-07-01T07:56:51.291Z"
   },
   {
    "duration": 1049,
    "start_time": "2025-07-01T07:56:51.297Z"
   },
   {
    "duration": 36,
    "start_time": "2025-07-01T07:56:52.352Z"
   },
   {
    "duration": 30,
    "start_time": "2025-07-01T07:56:52.389Z"
   },
   {
    "duration": 71,
    "start_time": "2025-07-01T07:56:52.420Z"
   },
   {
    "duration": 3,
    "start_time": "2025-07-01T07:56:52.492Z"
   },
   {
    "duration": 917,
    "start_time": "2025-07-01T07:56:52.497Z"
   },
   {
    "duration": 36,
    "start_time": "2025-07-01T07:56:53.416Z"
   },
   {
    "duration": 74,
    "start_time": "2025-07-01T07:56:53.454Z"
   },
   {
    "duration": 58,
    "start_time": "2025-07-01T07:56:53.530Z"
   },
   {
    "duration": 9,
    "start_time": "2025-07-01T07:56:53.590Z"
   },
   {
    "duration": 55,
    "start_time": "2025-07-01T07:56:53.600Z"
   },
   {
    "duration": 1713,
    "start_time": "2025-07-01T07:56:53.657Z"
   },
   {
    "duration": 65,
    "start_time": "2025-07-01T07:56:55.371Z"
   },
   {
    "duration": 154,
    "start_time": "2025-07-01T07:56:55.448Z"
   },
   {
    "duration": 21,
    "start_time": "2025-07-01T07:56:55.604Z"
   },
   {
    "duration": 33,
    "start_time": "2025-07-01T07:56:55.626Z"
   },
   {
    "duration": 5,
    "start_time": "2025-07-01T07:56:55.661Z"
   },
   {
    "duration": 39,
    "start_time": "2025-07-01T07:56:55.668Z"
   },
   {
    "duration": 1670,
    "start_time": "2025-07-01T07:56:55.709Z"
   },
   {
    "duration": 36,
    "start_time": "2025-07-01T07:56:57.381Z"
   },
   {
    "duration": 1638,
    "start_time": "2025-07-01T07:56:57.418Z"
   },
   {
    "duration": 139,
    "start_time": "2025-07-01T07:56:59.058Z"
   },
   {
    "duration": 18,
    "start_time": "2025-07-01T07:56:59.198Z"
   },
   {
    "duration": 1771,
    "start_time": "2025-07-01T07:56:59.217Z"
   },
   {
    "duration": 53,
    "start_time": "2025-07-01T07:57:00.989Z"
   },
   {
    "duration": 1725,
    "start_time": "2025-07-01T07:57:01.045Z"
   },
   {
    "duration": 35,
    "start_time": "2025-07-01T07:57:02.771Z"
   },
   {
    "duration": 1665,
    "start_time": "2025-07-01T07:57:02.808Z"
   },
   {
    "duration": 141,
    "start_time": "2025-07-01T07:57:04.478Z"
   },
   {
    "duration": 29,
    "start_time": "2025-07-01T07:57:04.621Z"
   },
   {
    "duration": 224,
    "start_time": "2025-07-01T07:57:04.652Z"
   },
   {
    "duration": 218,
    "start_time": "2025-07-01T07:57:04.877Z"
   },
   {
    "duration": 5,
    "start_time": "2025-07-01T07:57:05.097Z"
   },
   {
    "duration": 1366,
    "start_time": "2025-07-01T07:57:05.105Z"
   },
   {
    "duration": 46,
    "start_time": "2025-07-01T07:57:06.472Z"
   },
   {
    "duration": 69,
    "start_time": "2025-07-01T07:57:06.520Z"
   },
   {
    "duration": 60,
    "start_time": "2025-07-01T07:57:06.591Z"
   },
   {
    "duration": 32,
    "start_time": "2025-07-01T07:57:06.653Z"
   },
   {
    "duration": 102,
    "start_time": "2025-07-01T07:57:06.686Z"
   },
   {
    "duration": 19,
    "start_time": "2025-07-01T07:57:06.789Z"
   },
   {
    "duration": 5402,
    "start_time": "2025-07-01T07:57:06.810Z"
   },
   {
    "duration": 14,
    "start_time": "2025-07-01T07:57:12.214Z"
   },
   {
    "duration": 1420,
    "start_time": "2025-07-01T07:57:12.238Z"
   },
   {
    "duration": 55,
    "start_time": "2025-07-01T07:57:13.660Z"
   },
   {
    "duration": 4,
    "start_time": "2025-07-01T07:57:13.717Z"
   },
   {
    "duration": 27,
    "start_time": "2025-07-01T07:57:13.722Z"
   },
   {
    "duration": 5,
    "start_time": "2025-07-01T07:57:13.751Z"
   },
   {
    "duration": 4,
    "start_time": "2025-07-01T07:57:13.757Z"
   },
   {
    "duration": 1811,
    "start_time": "2025-07-01T07:57:13.762Z"
   },
   {
    "duration": 40162,
    "start_time": "2025-07-01T07:57:15.575Z"
   },
   {
    "duration": 5,
    "start_time": "2025-07-01T07:57:55.742Z"
   },
   {
    "duration": 175888,
    "start_time": "2025-07-01T07:57:55.750Z"
   },
   {
    "duration": 123,
    "start_time": "2025-07-01T08:06:12.138Z"
   },
   {
    "duration": 2454,
    "start_time": "2025-07-01T08:06:49.628Z"
   },
   {
    "duration": 3,
    "start_time": "2025-07-01T08:06:59.947Z"
   },
   {
    "duration": 46004,
    "start_time": "2025-07-01T08:07:01.469Z"
   },
   {
    "duration": 1725045,
    "start_time": "2025-07-01T08:25:16.148Z"
   },
   {
    "duration": 2,
    "start_time": "2025-07-01T09:41:42.528Z"
   },
   {
    "duration": 3,
    "start_time": "2025-07-01T09:41:56.359Z"
   },
   {
    "duration": 3073,
    "start_time": "2025-07-01T13:28:09.103Z"
   },
   {
    "duration": 3929,
    "start_time": "2025-07-01T13:28:12.178Z"
   },
   {
    "duration": 977,
    "start_time": "2025-07-01T13:28:16.109Z"
   },
   {
    "duration": 21,
    "start_time": "2025-07-01T13:28:17.088Z"
   },
   {
    "duration": 166,
    "start_time": "2025-07-01T13:28:17.111Z"
   },
   {
    "duration": 177,
    "start_time": "2025-07-01T13:28:17.279Z"
   },
   {
    "duration": 480,
    "start_time": "2025-07-01T13:28:17.458Z"
   },
   {
    "duration": 133,
    "start_time": "2025-07-01T13:28:17.948Z"
   },
   {
    "duration": 26,
    "start_time": "2025-07-01T13:28:18.083Z"
   },
   {
    "duration": 35,
    "start_time": "2025-07-01T13:28:18.111Z"
   },
   {
    "duration": 55,
    "start_time": "2025-07-01T13:28:18.148Z"
   },
   {
    "duration": 4,
    "start_time": "2025-07-01T13:28:18.205Z"
   },
   {
    "duration": 1055,
    "start_time": "2025-07-01T13:28:18.210Z"
   },
   {
    "duration": 36,
    "start_time": "2025-07-01T13:28:19.269Z"
   },
   {
    "duration": 82,
    "start_time": "2025-07-01T13:28:19.306Z"
   },
   {
    "duration": 83,
    "start_time": "2025-07-01T13:28:19.390Z"
   },
   {
    "duration": 3,
    "start_time": "2025-07-01T13:28:19.475Z"
   },
   {
    "duration": 894,
    "start_time": "2025-07-01T13:28:19.480Z"
   },
   {
    "duration": 19,
    "start_time": "2025-07-01T13:28:20.376Z"
   },
   {
    "duration": 95,
    "start_time": "2025-07-01T13:28:20.397Z"
   },
   {
    "duration": 72,
    "start_time": "2025-07-01T13:28:20.495Z"
   },
   {
    "duration": 9,
    "start_time": "2025-07-01T13:28:20.569Z"
   },
   {
    "duration": 34,
    "start_time": "2025-07-01T13:28:20.580Z"
   },
   {
    "duration": 1677,
    "start_time": "2025-07-01T13:28:20.616Z"
   },
   {
    "duration": 69,
    "start_time": "2025-07-01T13:28:22.294Z"
   },
   {
    "duration": 147,
    "start_time": "2025-07-01T13:28:22.364Z"
   },
   {
    "duration": 36,
    "start_time": "2025-07-01T13:28:22.513Z"
   },
   {
    "duration": 17,
    "start_time": "2025-07-01T13:28:22.550Z"
   },
   {
    "duration": 5,
    "start_time": "2025-07-01T13:28:22.568Z"
   },
   {
    "duration": 67,
    "start_time": "2025-07-01T13:28:22.574Z"
   },
   {
    "duration": 1528,
    "start_time": "2025-07-01T13:28:22.648Z"
   },
   {
    "duration": 61,
    "start_time": "2025-07-01T13:28:24.178Z"
   },
   {
    "duration": 1548,
    "start_time": "2025-07-01T13:28:24.241Z"
   },
   {
    "duration": 123,
    "start_time": "2025-07-01T13:28:25.790Z"
   },
   {
    "duration": 33,
    "start_time": "2025-07-01T13:28:25.914Z"
   },
   {
    "duration": 1700,
    "start_time": "2025-07-01T13:28:25.948Z"
   },
   {
    "duration": 41,
    "start_time": "2025-07-01T13:28:27.650Z"
   },
   {
    "duration": 1429,
    "start_time": "2025-07-01T13:28:27.692Z"
   },
   {
    "duration": 46,
    "start_time": "2025-07-01T13:28:29.122Z"
   },
   {
    "duration": 1596,
    "start_time": "2025-07-01T13:28:29.170Z"
   },
   {
    "duration": 175,
    "start_time": "2025-07-01T13:28:30.771Z"
   },
   {
    "duration": 25,
    "start_time": "2025-07-01T13:28:30.950Z"
   },
   {
    "duration": 208,
    "start_time": "2025-07-01T13:28:30.977Z"
   },
   {
    "duration": 193,
    "start_time": "2025-07-01T13:28:31.187Z"
   },
   {
    "duration": 4,
    "start_time": "2025-07-01T13:28:31.381Z"
   },
   {
    "duration": 1300,
    "start_time": "2025-07-01T13:28:31.387Z"
   },
   {
    "duration": 34,
    "start_time": "2025-07-01T13:28:32.690Z"
   },
   {
    "duration": 43,
    "start_time": "2025-07-01T13:28:32.737Z"
   },
   {
    "duration": 103,
    "start_time": "2025-07-01T13:28:32.781Z"
   },
   {
    "duration": 120,
    "start_time": "2025-07-01T13:28:32.886Z"
   },
   {
    "duration": 40,
    "start_time": "2025-07-01T13:28:33.008Z"
   },
   {
    "duration": 27,
    "start_time": "2025-07-01T13:28:33.050Z"
   },
   {
    "duration": 5313,
    "start_time": "2025-07-01T13:28:33.079Z"
   },
   {
    "duration": 22,
    "start_time": "2025-07-01T13:28:38.393Z"
   },
   {
    "duration": 1378,
    "start_time": "2025-07-01T13:28:38.417Z"
   },
   {
    "duration": 75,
    "start_time": "2025-07-01T13:28:39.797Z"
   },
   {
    "duration": 5,
    "start_time": "2025-07-01T13:28:39.873Z"
   },
   {
    "duration": 5,
    "start_time": "2025-07-01T13:28:39.879Z"
   },
   {
    "duration": 8,
    "start_time": "2025-07-01T13:28:39.885Z"
   },
   {
    "duration": 19,
    "start_time": "2025-07-01T13:28:39.894Z"
   },
   {
    "duration": 1869,
    "start_time": "2025-07-01T13:28:39.914Z"
   },
   {
    "duration": 42168,
    "start_time": "2025-07-01T13:28:41.785Z"
   },
   {
    "duration": 3,
    "start_time": "2025-07-01T13:29:23.955Z"
   },
   {
    "duration": 171184,
    "start_time": "2025-07-01T13:29:23.960Z"
   },
   {
    "duration": 3,
    "start_time": "2025-07-01T13:32:15.149Z"
   },
   {
    "duration": 47870,
    "start_time": "2025-07-01T13:32:15.154Z"
   },
   {
    "duration": 1783272,
    "start_time": "2025-07-01T13:33:03.026Z"
   },
   {
    "duration": 3,
    "start_time": "2025-07-01T14:02:46.299Z"
   },
   {
    "duration": 7,
    "start_time": "2025-07-01T14:02:46.303Z"
   },
   {
    "duration": 1741943,
    "start_time": "2025-07-01T14:02:46.311Z"
   },
   {
    "duration": 537,
    "start_time": "2025-07-01T14:42:28.012Z"
   },
   {
    "duration": 11967,
    "start_time": "2025-07-02T07:41:58.993Z"
   },
   {
    "duration": 906,
    "start_time": "2025-07-02T07:44:05.291Z"
   },
   {
    "duration": 14,
    "start_time": "2025-07-02T07:47:21.250Z"
   },
   {
    "duration": 145,
    "start_time": "2025-07-02T07:47:26.208Z"
   },
   {
    "duration": 159,
    "start_time": "2025-07-02T07:47:29.823Z"
   },
   {
    "duration": 416,
    "start_time": "2025-07-02T07:47:34.248Z"
   },
   {
    "duration": 113,
    "start_time": "2025-07-02T07:47:39.412Z"
   },
   {
    "duration": 5,
    "start_time": "2025-07-02T07:47:44.311Z"
   },
   {
    "duration": 40,
    "start_time": "2025-07-02T07:47:45.307Z"
   },
   {
    "duration": 5,
    "start_time": "2025-07-02T08:02:00.862Z"
   },
   {
    "duration": 719,
    "start_time": "2025-07-02T08:02:01.905Z"
   },
   {
    "duration": 34,
    "start_time": "2025-07-02T08:07:26.276Z"
   },
   {
    "duration": 36,
    "start_time": "2025-07-02T08:07:37.768Z"
   },
   {
    "duration": 40,
    "start_time": "2025-07-02T08:07:57.638Z"
   },
   {
    "duration": 35,
    "start_time": "2025-07-02T08:08:18.799Z"
   },
   {
    "duration": 36,
    "start_time": "2025-07-02T08:08:35.647Z"
   },
   {
    "duration": 56,
    "start_time": "2025-07-02T08:09:35.302Z"
   },
   {
    "duration": 8,
    "start_time": "2025-07-02T08:10:28.614Z"
   },
   {
    "duration": 39,
    "start_time": "2025-07-02T08:10:34.315Z"
   },
   {
    "duration": 1648,
    "start_time": "2025-07-02T08:10:38.016Z"
   },
   {
    "duration": 58,
    "start_time": "2025-07-02T08:10:46.201Z"
   },
   {
    "duration": 222,
    "start_time": "2025-07-02T08:10:49.748Z"
   },
   {
    "duration": 21,
    "start_time": "2025-07-02T08:10:51.662Z"
   },
   {
    "duration": 16,
    "start_time": "2025-07-02T08:12:52.248Z"
   },
   {
    "duration": 15,
    "start_time": "2025-07-02T08:13:00.633Z"
   },
   {
    "duration": 43,
    "start_time": "2025-07-02T08:13:02.701Z"
   },
   {
    "duration": 1554,
    "start_time": "2025-07-02T08:13:06.243Z"
   },
   {
    "duration": 42,
    "start_time": "2025-07-02T08:13:19.825Z"
   },
   {
    "duration": 1521,
    "start_time": "2025-07-02T08:13:20.892Z"
   },
   {
    "duration": 120,
    "start_time": "2025-07-02T08:13:25.429Z"
   },
   {
    "duration": 120,
    "start_time": "2025-07-02T08:23:03.761Z"
   },
   {
    "duration": 364,
    "start_time": "2025-07-02T08:23:20.092Z"
   },
   {
    "duration": 1578,
    "start_time": "2025-07-02T08:23:40.259Z"
   },
   {
    "duration": 16,
    "start_time": "2025-07-02T08:24:08.463Z"
   },
   {
    "duration": 43,
    "start_time": "2025-07-02T08:25:49.708Z"
   },
   {
    "duration": 1483,
    "start_time": "2025-07-02T08:25:51.268Z"
   },
   {
    "duration": 40,
    "start_time": "2025-07-02T08:26:04.910Z"
   },
   {
    "duration": 1570,
    "start_time": "2025-07-02T08:26:05.941Z"
   },
   {
    "duration": 123,
    "start_time": "2025-07-02T08:26:10.652Z"
   },
   {
    "duration": 13,
    "start_time": "2025-07-02T08:26:28.203Z"
   },
   {
    "duration": 193,
    "start_time": "2025-07-02T08:26:30.802Z"
   },
   {
    "duration": 183,
    "start_time": "2025-07-02T08:26:32.553Z"
   },
   {
    "duration": 4,
    "start_time": "2025-07-02T08:26:35.676Z"
   },
   {
    "duration": 1160,
    "start_time": "2025-07-02T08:26:37.265Z"
   },
   {
    "duration": 41,
    "start_time": "2025-07-02T08:26:41.708Z"
   },
   {
    "duration": 41,
    "start_time": "2025-07-02T08:26:43.920Z"
   },
   {
    "duration": 32,
    "start_time": "2025-07-02T08:26:45.257Z"
   },
   {
    "duration": 32,
    "start_time": "2025-07-02T08:26:47.547Z"
   },
   {
    "duration": 4,
    "start_time": "2025-07-02T08:26:51.990Z"
   },
   {
    "duration": 14,
    "start_time": "2025-07-02T08:31:30.627Z"
   },
   {
    "duration": 5,
    "start_time": "2025-07-02T08:31:52.708Z"
   },
   {
    "duration": 2,
    "start_time": "2025-07-02T08:31:53.748Z"
   },
   {
    "duration": 5350,
    "start_time": "2025-07-02T08:31:54.722Z"
   },
   {
    "duration": 14,
    "start_time": "2025-07-02T08:32:05.571Z"
   },
   {
    "duration": 2996,
    "start_time": "2025-07-02T08:40:16.280Z"
   },
   {
    "duration": 7004,
    "start_time": "2025-07-02T08:40:19.278Z"
   },
   {
    "duration": 1008,
    "start_time": "2025-07-02T08:40:26.283Z"
   },
   {
    "duration": 21,
    "start_time": "2025-07-02T08:40:27.293Z"
   },
   {
    "duration": 176,
    "start_time": "2025-07-02T08:40:27.316Z"
   },
   {
    "duration": 184,
    "start_time": "2025-07-02T08:40:27.494Z"
   },
   {
    "duration": 470,
    "start_time": "2025-07-02T08:40:27.680Z"
   },
   {
    "duration": 118,
    "start_time": "2025-07-02T08:40:28.153Z"
   },
   {
    "duration": 4,
    "start_time": "2025-07-02T08:40:28.273Z"
   },
   {
    "duration": 49,
    "start_time": "2025-07-02T08:40:28.279Z"
   },
   {
    "duration": 56,
    "start_time": "2025-07-02T08:40:28.329Z"
   },
   {
    "duration": 744,
    "start_time": "2025-07-02T08:40:28.387Z"
   },
   {
    "duration": 46,
    "start_time": "2025-07-02T08:40:29.133Z"
   },
   {
    "duration": 38,
    "start_time": "2025-07-02T08:40:29.182Z"
   },
   {
    "duration": 37,
    "start_time": "2025-07-02T08:40:29.246Z"
   },
   {
    "duration": 53,
    "start_time": "2025-07-02T08:40:29.285Z"
   },
   {
    "duration": 35,
    "start_time": "2025-07-02T08:40:29.348Z"
   },
   {
    "duration": 81,
    "start_time": "2025-07-02T08:40:29.385Z"
   },
   {
    "duration": 8,
    "start_time": "2025-07-02T08:40:29.468Z"
   },
   {
    "duration": 87,
    "start_time": "2025-07-02T08:40:29.477Z"
   },
   {
    "duration": 1686,
    "start_time": "2025-07-02T08:40:29.566Z"
   },
   {
    "duration": 65,
    "start_time": "2025-07-02T08:40:31.254Z"
   },
   {
    "duration": 251,
    "start_time": "2025-07-02T08:40:31.321Z"
   },
   {
    "duration": 28,
    "start_time": "2025-07-02T08:40:31.574Z"
   },
   {
    "duration": 48,
    "start_time": "2025-07-02T08:40:31.604Z"
   },
   {
    "duration": 5,
    "start_time": "2025-07-02T08:40:31.654Z"
   },
   {
    "duration": 47,
    "start_time": "2025-07-02T08:40:36.120Z"
   },
   {
    "duration": 1489,
    "start_time": "2025-07-02T08:40:44.398Z"
   },
   {
    "duration": 42,
    "start_time": "2025-07-02T08:40:56.040Z"
   },
   {
    "duration": 1551,
    "start_time": "2025-07-02T08:41:00.357Z"
   },
   {
    "duration": 152,
    "start_time": "2025-07-02T08:41:07.220Z"
   },
   {
    "duration": 17,
    "start_time": "2025-07-02T08:41:07.374Z"
   },
   {
    "duration": 1532,
    "start_time": "2025-07-02T08:41:07.393Z"
   },
   {
    "duration": 408,
    "start_time": "2025-07-02T08:41:08.928Z"
   },
   {
    "duration": 41,
    "start_time": "2025-07-02T08:41:09.338Z"
   },
   {
    "duration": 1471,
    "start_time": "2025-07-02T08:41:09.380Z"
   },
   {
    "duration": 36,
    "start_time": "2025-07-02T08:41:10.853Z"
   },
   {
    "duration": 1687,
    "start_time": "2025-07-02T08:41:10.891Z"
   },
   {
    "duration": 152,
    "start_time": "2025-07-02T08:41:12.580Z"
   },
   {
    "duration": 18,
    "start_time": "2025-07-02T08:41:12.736Z"
   },
   {
    "duration": 315,
    "start_time": "2025-07-02T08:41:12.755Z"
   },
   {
    "duration": 191,
    "start_time": "2025-07-02T08:41:13.072Z"
   },
   {
    "duration": 4,
    "start_time": "2025-07-02T08:41:13.264Z"
   },
   {
    "duration": 1153,
    "start_time": "2025-07-02T08:41:13.270Z"
   },
   {
    "duration": 45,
    "start_time": "2025-07-02T08:41:14.425Z"
   },
   {
    "duration": 40,
    "start_time": "2025-07-02T08:41:14.472Z"
   },
   {
    "duration": 53,
    "start_time": "2025-07-02T08:41:14.514Z"
   },
   {
    "duration": 31,
    "start_time": "2025-07-02T08:41:14.569Z"
   },
   {
    "duration": 17,
    "start_time": "2025-07-02T08:41:14.602Z"
   },
   {
    "duration": 5,
    "start_time": "2025-07-02T08:41:14.621Z"
   },
   {
    "duration": 6004,
    "start_time": "2025-07-02T08:41:14.628Z"
   },
   {
    "duration": 24,
    "start_time": "2025-07-02T08:41:20.634Z"
   },
   {
    "duration": 102,
    "start_time": "2025-07-02T08:41:20.660Z"
   },
   {
    "duration": 1427,
    "start_time": "2025-07-02T08:41:20.763Z"
   },
   {
    "duration": 67,
    "start_time": "2025-07-02T08:41:22.191Z"
   },
   {
    "duration": 4,
    "start_time": "2025-07-02T08:41:22.260Z"
   },
   {
    "duration": 22,
    "start_time": "2025-07-02T08:41:22.265Z"
   },
   {
    "duration": 4,
    "start_time": "2025-07-02T08:41:22.290Z"
   },
   {
    "duration": 62,
    "start_time": "2025-07-02T08:41:22.295Z"
   },
   {
    "duration": 1250,
    "start_time": "2025-07-02T08:41:22.359Z"
   },
   {
    "duration": 0,
    "start_time": "2025-07-02T08:41:23.610Z"
   },
   {
    "duration": 0,
    "start_time": "2025-07-02T08:41:23.611Z"
   },
   {
    "duration": 0,
    "start_time": "2025-07-02T08:41:23.613Z"
   },
   {
    "duration": 0,
    "start_time": "2025-07-02T08:41:23.614Z"
   },
   {
    "duration": 0,
    "start_time": "2025-07-02T08:41:23.616Z"
   },
   {
    "duration": 0,
    "start_time": "2025-07-02T08:41:23.617Z"
   },
   {
    "duration": 0,
    "start_time": "2025-07-02T08:41:23.618Z"
   },
   {
    "duration": 0,
    "start_time": "2025-07-02T08:41:23.619Z"
   },
   {
    "duration": 0,
    "start_time": "2025-07-02T08:41:23.620Z"
   },
   {
    "duration": 0,
    "start_time": "2025-07-02T08:41:23.621Z"
   },
   {
    "duration": 7973,
    "start_time": "2025-07-02T12:17:09.770Z"
   },
   {
    "duration": 11098,
    "start_time": "2025-07-02T12:17:17.745Z"
   },
   {
    "duration": 894,
    "start_time": "2025-07-02T12:17:28.845Z"
   },
   {
    "duration": 14,
    "start_time": "2025-07-02T12:17:29.740Z"
   },
   {
    "duration": 156,
    "start_time": "2025-07-02T12:17:29.757Z"
   },
   {
    "duration": 162,
    "start_time": "2025-07-02T12:17:29.915Z"
   },
   {
    "duration": 415,
    "start_time": "2025-07-02T12:17:30.078Z"
   },
   {
    "duration": 129,
    "start_time": "2025-07-02T12:17:30.495Z"
   },
   {
    "duration": 5,
    "start_time": "2025-07-02T12:17:30.625Z"
   },
   {
    "duration": 51,
    "start_time": "2025-07-02T12:17:30.632Z"
   },
   {
    "duration": 3,
    "start_time": "2025-07-02T12:17:30.685Z"
   },
   {
    "duration": 719,
    "start_time": "2025-07-02T12:17:30.690Z"
   },
   {
    "duration": 44,
    "start_time": "2025-07-02T12:17:31.411Z"
   },
   {
    "duration": 60,
    "start_time": "2025-07-02T12:17:31.472Z"
   },
   {
    "duration": 47,
    "start_time": "2025-07-02T12:17:31.535Z"
   },
   {
    "duration": 38,
    "start_time": "2025-07-02T12:17:31.584Z"
   },
   {
    "duration": 112,
    "start_time": "2025-07-02T12:17:31.624Z"
   },
   {
    "duration": 86,
    "start_time": "2025-07-02T12:17:31.738Z"
   },
   {
    "duration": 10,
    "start_time": "2025-07-02T12:17:31.827Z"
   },
   {
    "duration": 76,
    "start_time": "2025-07-02T12:17:31.839Z"
   },
   {
    "duration": 1707,
    "start_time": "2025-07-02T12:17:31.917Z"
   },
   {
    "duration": 82,
    "start_time": "2025-07-02T12:17:33.626Z"
   },
   {
    "duration": 163,
    "start_time": "2025-07-02T12:17:33.710Z"
   },
   {
    "duration": 24,
    "start_time": "2025-07-02T12:17:33.875Z"
   },
   {
    "duration": 18,
    "start_time": "2025-07-02T12:17:33.902Z"
   },
   {
    "duration": 8,
    "start_time": "2025-07-02T12:17:33.922Z"
   },
   {
    "duration": 76,
    "start_time": "2025-07-02T12:17:33.932Z"
   },
   {
    "duration": 1441,
    "start_time": "2025-07-02T12:17:34.010Z"
   },
   {
    "duration": 47,
    "start_time": "2025-07-02T12:17:35.453Z"
   },
   {
    "duration": 1491,
    "start_time": "2025-07-02T12:17:35.502Z"
   },
   {
    "duration": 131,
    "start_time": "2025-07-02T12:17:36.996Z"
   },
   {
    "duration": 17,
    "start_time": "2025-07-02T12:17:37.130Z"
   },
   {
    "duration": 1555,
    "start_time": "2025-07-02T12:17:37.148Z"
   },
   {
    "duration": 499,
    "start_time": "2025-07-02T12:17:38.704Z"
   },
   {
    "duration": 36,
    "start_time": "2025-07-02T12:17:39.204Z"
   },
   {
    "duration": 1397,
    "start_time": "2025-07-02T12:17:39.242Z"
   },
   {
    "duration": 43,
    "start_time": "2025-07-02T12:17:40.641Z"
   },
   {
    "duration": 1481,
    "start_time": "2025-07-02T12:17:40.686Z"
   },
   {
    "duration": 163,
    "start_time": "2025-07-02T12:17:42.169Z"
   },
   {
    "duration": 13,
    "start_time": "2025-07-02T12:17:42.334Z"
   },
   {
    "duration": 265,
    "start_time": "2025-07-02T12:17:42.351Z"
   },
   {
    "duration": 182,
    "start_time": "2025-07-02T12:17:42.618Z"
   },
   {
    "duration": 4,
    "start_time": "2025-07-02T12:17:42.802Z"
   },
   {
    "duration": 1217,
    "start_time": "2025-07-02T12:17:42.808Z"
   },
   {
    "duration": 32,
    "start_time": "2025-07-02T12:17:44.027Z"
   },
   {
    "duration": 37,
    "start_time": "2025-07-02T12:17:44.072Z"
   },
   {
    "duration": 35,
    "start_time": "2025-07-02T12:17:44.111Z"
   },
   {
    "duration": 54,
    "start_time": "2025-07-02T12:17:44.147Z"
   },
   {
    "duration": 9,
    "start_time": "2025-07-02T12:17:44.202Z"
   },
   {
    "duration": 12,
    "start_time": "2025-07-02T12:17:44.212Z"
   },
   {
    "duration": 5773,
    "start_time": "2025-07-02T12:17:44.227Z"
   },
   {
    "duration": 24,
    "start_time": "2025-07-02T12:17:50.002Z"
   },
   {
    "duration": 30,
    "start_time": "2025-07-02T12:17:50.028Z"
   },
   {
    "duration": 1333,
    "start_time": "2025-07-02T12:17:50.060Z"
   },
   {
    "duration": 57,
    "start_time": "2025-07-02T12:17:51.394Z"
   },
   {
    "duration": 4,
    "start_time": "2025-07-02T12:17:51.453Z"
   },
   {
    "duration": 63,
    "start_time": "2025-07-02T12:17:51.472Z"
   },
   {
    "duration": 5,
    "start_time": "2025-07-02T12:17:51.537Z"
   },
   {
    "duration": 6,
    "start_time": "2025-07-02T12:17:51.544Z"
   },
   {
    "duration": 4,
    "start_time": "2025-07-02T12:17:51.552Z"
   },
   {
    "duration": 450,
    "start_time": "2025-07-02T12:17:51.557Z"
   },
   {
    "duration": 336,
    "start_time": "2025-07-02T12:18:59.307Z"
   },
   {
    "duration": 3,
    "start_time": "2025-07-02T12:36:13.398Z"
   },
   {
    "duration": 10,
    "start_time": "2025-07-02T12:36:14.528Z"
   },
   {
    "duration": 20,
    "start_time": "2025-07-02T12:36:46.924Z"
   },
   {
    "duration": 8408,
    "start_time": "2025-07-02T12:38:55.877Z"
   },
   {
    "duration": 1476,
    "start_time": "2025-07-02T12:39:13.972Z"
   },
   {
    "duration": 10636,
    "start_time": "2025-07-02T12:40:49.110Z"
   },
   {
    "duration": 1467,
    "start_time": "2025-07-02T12:41:16.309Z"
   },
   {
    "duration": 3056,
    "start_time": "2025-07-02T12:41:49.223Z"
   },
   {
    "duration": 12192,
    "start_time": "2025-07-02T12:41:52.282Z"
   },
   {
    "duration": 925,
    "start_time": "2025-07-02T12:42:04.476Z"
   },
   {
    "duration": 14,
    "start_time": "2025-07-02T12:42:05.403Z"
   },
   {
    "duration": 158,
    "start_time": "2025-07-02T12:42:05.419Z"
   },
   {
    "duration": 145,
    "start_time": "2025-07-02T12:42:05.579Z"
   },
   {
    "duration": 432,
    "start_time": "2025-07-02T12:42:05.726Z"
   },
   {
    "duration": 132,
    "start_time": "2025-07-02T12:42:06.160Z"
   },
   {
    "duration": 4,
    "start_time": "2025-07-02T12:42:06.293Z"
   },
   {
    "duration": 31,
    "start_time": "2025-07-02T12:42:06.298Z"
   },
   {
    "duration": 3,
    "start_time": "2025-07-02T12:42:06.331Z"
   },
   {
    "duration": 731,
    "start_time": "2025-07-02T12:42:06.335Z"
   },
   {
    "duration": 40,
    "start_time": "2025-07-02T12:42:07.070Z"
   },
   {
    "duration": 94,
    "start_time": "2025-07-02T12:42:07.113Z"
   },
   {
    "duration": 43,
    "start_time": "2025-07-02T12:42:07.209Z"
   },
   {
    "duration": 64,
    "start_time": "2025-07-02T12:42:07.254Z"
   },
   {
    "duration": 88,
    "start_time": "2025-07-02T12:42:07.320Z"
   },
   {
    "duration": 77,
    "start_time": "2025-07-02T12:42:07.410Z"
   },
   {
    "duration": 9,
    "start_time": "2025-07-02T12:42:07.488Z"
   },
   {
    "duration": 36,
    "start_time": "2025-07-02T12:42:07.498Z"
   },
   {
    "duration": 1740,
    "start_time": "2025-07-02T12:42:07.536Z"
   },
   {
    "duration": 70,
    "start_time": "2025-07-02T12:42:09.278Z"
   },
   {
    "duration": 165,
    "start_time": "2025-07-02T12:42:09.350Z"
   },
   {
    "duration": 22,
    "start_time": "2025-07-02T12:42:09.517Z"
   },
   {
    "duration": 69,
    "start_time": "2025-07-02T12:42:09.541Z"
   },
   {
    "duration": 5,
    "start_time": "2025-07-02T12:42:09.612Z"
   },
   {
    "duration": 45,
    "start_time": "2025-07-02T12:42:09.618Z"
   },
   {
    "duration": 1515,
    "start_time": "2025-07-02T12:42:09.665Z"
   },
   {
    "duration": 38,
    "start_time": "2025-07-02T12:42:11.182Z"
   },
   {
    "duration": 1482,
    "start_time": "2025-07-02T12:42:11.222Z"
   },
   {
    "duration": 128,
    "start_time": "2025-07-02T12:42:12.707Z"
   },
   {
    "duration": 17,
    "start_time": "2025-07-02T12:42:12.837Z"
   },
   {
    "duration": 1530,
    "start_time": "2025-07-02T12:42:12.871Z"
   },
   {
    "duration": 492,
    "start_time": "2025-07-02T12:42:14.403Z"
   },
   {
    "duration": 38,
    "start_time": "2025-07-02T12:42:14.897Z"
   },
   {
    "duration": 1449,
    "start_time": "2025-07-02T12:42:14.937Z"
   },
   {
    "duration": 35,
    "start_time": "2025-07-02T12:42:16.387Z"
   },
   {
    "duration": 1449,
    "start_time": "2025-07-02T12:42:16.424Z"
   },
   {
    "duration": 132,
    "start_time": "2025-07-02T12:42:17.874Z"
   },
   {
    "duration": 14,
    "start_time": "2025-07-02T12:42:18.008Z"
   },
   {
    "duration": 225,
    "start_time": "2025-07-02T12:42:18.026Z"
   },
   {
    "duration": 192,
    "start_time": "2025-07-02T12:42:18.253Z"
   },
   {
    "duration": 4,
    "start_time": "2025-07-02T12:42:18.447Z"
   },
   {
    "duration": 1213,
    "start_time": "2025-07-02T12:42:18.452Z"
   },
   {
    "duration": 34,
    "start_time": "2025-07-02T12:42:19.670Z"
   },
   {
    "duration": 35,
    "start_time": "2025-07-02T12:42:19.705Z"
   },
   {
    "duration": 50,
    "start_time": "2025-07-02T12:42:19.741Z"
   },
   {
    "duration": 32,
    "start_time": "2025-07-02T12:42:19.793Z"
   },
   {
    "duration": 7,
    "start_time": "2025-07-02T12:42:19.827Z"
   },
   {
    "duration": 10,
    "start_time": "2025-07-02T12:42:19.836Z"
   },
   {
    "duration": 5856,
    "start_time": "2025-07-02T12:42:19.848Z"
   },
   {
    "duration": 25,
    "start_time": "2025-07-02T12:42:25.705Z"
   },
   {
    "duration": 23,
    "start_time": "2025-07-02T12:42:25.731Z"
   },
   {
    "duration": 1375,
    "start_time": "2025-07-02T12:42:25.756Z"
   },
   {
    "duration": 66,
    "start_time": "2025-07-02T12:42:27.133Z"
   },
   {
    "duration": 6,
    "start_time": "2025-07-02T12:42:27.201Z"
   },
   {
    "duration": 12,
    "start_time": "2025-07-02T12:42:27.208Z"
   },
   {
    "duration": 11,
    "start_time": "2025-07-02T12:42:27.222Z"
   },
   {
    "duration": 15,
    "start_time": "2025-07-02T12:42:27.234Z"
   },
   {
    "duration": 5,
    "start_time": "2025-07-02T12:42:27.251Z"
   },
   {
    "duration": 17,
    "start_time": "2025-07-02T12:42:27.257Z"
   },
   {
    "duration": 1504,
    "start_time": "2025-07-02T12:42:27.276Z"
   },
   {
    "duration": 3,
    "start_time": "2025-07-02T12:50:14.716Z"
   },
   {
    "duration": 3,
    "start_time": "2025-07-02T12:50:15.613Z"
   },
   {
    "duration": 4,
    "start_time": "2025-07-02T12:50:19.943Z"
   },
   {
    "duration": 4,
    "start_time": "2025-07-02T12:50:45.208Z"
   },
   {
    "duration": 3,
    "start_time": "2025-07-02T12:50:46.656Z"
   },
   {
    "duration": 114285,
    "start_time": "2025-07-02T12:50:49.624Z"
   },
   {
    "duration": 3,
    "start_time": "2025-07-02T13:06:35.478Z"
   },
   {
    "duration": 11,
    "start_time": "2025-07-02T13:06:36.572Z"
   },
   {
    "duration": 11,
    "start_time": "2025-07-02T13:07:10.860Z"
   },
   {
    "duration": 3,
    "start_time": "2025-07-02T13:07:33.931Z"
   },
   {
    "duration": 153,
    "start_time": "2025-07-02T13:07:40.020Z"
   },
   {
    "duration": 4,
    "start_time": "2025-07-02T13:11:15.343Z"
   },
   {
    "duration": 4,
    "start_time": "2025-07-02T13:11:33.939Z"
   },
   {
    "duration": 155,
    "start_time": "2025-07-02T13:11:38.329Z"
   },
   {
    "duration": 3,
    "start_time": "2025-07-02T13:20:23.725Z"
   },
   {
    "duration": 4,
    "start_time": "2025-07-02T13:20:25.416Z"
   },
   {
    "duration": 161,
    "start_time": "2025-07-02T13:20:31.717Z"
   },
   {
    "duration": 15,
    "start_time": "2025-07-02T13:28:03.055Z"
   },
   {
    "duration": 3,
    "start_time": "2025-07-02T13:28:43.834Z"
   },
   {
    "duration": 3,
    "start_time": "2025-07-02T13:28:54.225Z"
   },
   {
    "duration": 90,
    "start_time": "2025-07-02T13:29:20.387Z"
   },
   {
    "duration": 11,
    "start_time": "2025-07-02T13:29:26.785Z"
   },
   {
    "duration": 15,
    "start_time": "2025-07-02T13:30:09.727Z"
   },
   {
    "duration": 17,
    "start_time": "2025-07-02T13:30:24.860Z"
   },
   {
    "duration": 34977,
    "start_time": "2025-07-02T13:33:21.712Z"
   },
   {
    "duration": 6,
    "start_time": "2025-07-02T13:34:02.478Z"
   },
   {
    "duration": 3137,
    "start_time": "2025-07-02T13:43:37.932Z"
   },
   {
    "duration": 12302,
    "start_time": "2025-07-02T13:43:41.072Z"
   },
   {
    "duration": 911,
    "start_time": "2025-07-02T13:43:53.376Z"
   },
   {
    "duration": 14,
    "start_time": "2025-07-02T13:43:54.288Z"
   },
   {
    "duration": 143,
    "start_time": "2025-07-02T13:43:54.304Z"
   },
   {
    "duration": 150,
    "start_time": "2025-07-02T13:43:54.449Z"
   },
   {
    "duration": 421,
    "start_time": "2025-07-02T13:43:54.601Z"
   },
   {
    "duration": 122,
    "start_time": "2025-07-02T13:43:55.023Z"
   },
   {
    "duration": 4,
    "start_time": "2025-07-02T13:43:55.147Z"
   },
   {
    "duration": 51,
    "start_time": "2025-07-02T13:43:55.153Z"
   },
   {
    "duration": 4,
    "start_time": "2025-07-02T13:43:55.206Z"
   },
   {
    "duration": 698,
    "start_time": "2025-07-02T13:43:55.211Z"
   },
   {
    "duration": 40,
    "start_time": "2025-07-02T13:43:55.911Z"
   },
   {
    "duration": 50,
    "start_time": "2025-07-02T13:43:55.954Z"
   },
   {
    "duration": 42,
    "start_time": "2025-07-02T13:43:56.006Z"
   },
   {
    "duration": 47,
    "start_time": "2025-07-02T13:43:56.050Z"
   },
   {
    "duration": 41,
    "start_time": "2025-07-02T13:43:56.099Z"
   },
   {
    "duration": 165,
    "start_time": "2025-07-02T13:43:56.142Z"
   },
   {
    "duration": 9,
    "start_time": "2025-07-02T13:43:56.308Z"
   },
   {
    "duration": 40,
    "start_time": "2025-07-02T13:43:56.318Z"
   },
   {
    "duration": 1625,
    "start_time": "2025-07-02T13:43:56.360Z"
   },
   {
    "duration": 68,
    "start_time": "2025-07-02T13:43:57.987Z"
   },
   {
    "duration": 168,
    "start_time": "2025-07-02T13:43:58.056Z"
   },
   {
    "duration": 22,
    "start_time": "2025-07-02T13:43:58.225Z"
   },
   {
    "duration": 29,
    "start_time": "2025-07-02T13:43:58.249Z"
   },
   {
    "duration": 5,
    "start_time": "2025-07-02T13:43:58.279Z"
   },
   {
    "duration": 44,
    "start_time": "2025-07-02T13:43:58.286Z"
   },
   {
    "duration": 1456,
    "start_time": "2025-07-02T13:43:58.331Z"
   },
   {
    "duration": 37,
    "start_time": "2025-07-02T13:43:59.788Z"
   },
   {
    "duration": 1481,
    "start_time": "2025-07-02T13:43:59.826Z"
   },
   {
    "duration": 137,
    "start_time": "2025-07-02T13:44:01.310Z"
   },
   {
    "duration": 30,
    "start_time": "2025-07-02T13:44:01.449Z"
   },
   {
    "duration": 1558,
    "start_time": "2025-07-02T13:44:01.481Z"
   },
   {
    "duration": 487,
    "start_time": "2025-07-02T13:44:03.040Z"
   },
   {
    "duration": 45,
    "start_time": "2025-07-02T13:44:03.529Z"
   },
   {
    "duration": 1455,
    "start_time": "2025-07-02T13:44:03.575Z"
   },
   {
    "duration": 42,
    "start_time": "2025-07-02T13:44:05.032Z"
   },
   {
    "duration": 1472,
    "start_time": "2025-07-02T13:44:05.076Z"
   },
   {
    "duration": 140,
    "start_time": "2025-07-02T13:44:06.551Z"
   },
   {
    "duration": 13,
    "start_time": "2025-07-02T13:44:06.692Z"
   },
   {
    "duration": 289,
    "start_time": "2025-07-02T13:44:06.710Z"
   },
   {
    "duration": 191,
    "start_time": "2025-07-02T13:44:07.000Z"
   },
   {
    "duration": 4,
    "start_time": "2025-07-02T13:44:07.192Z"
   },
   {
    "duration": 1192,
    "start_time": "2025-07-02T13:44:07.197Z"
   },
   {
    "duration": 31,
    "start_time": "2025-07-02T13:44:08.391Z"
   },
   {
    "duration": 50,
    "start_time": "2025-07-02T13:44:08.424Z"
   },
   {
    "duration": 34,
    "start_time": "2025-07-02T13:44:08.475Z"
   },
   {
    "duration": 31,
    "start_time": "2025-07-02T13:44:08.511Z"
   },
   {
    "duration": 13,
    "start_time": "2025-07-02T13:44:08.544Z"
   },
   {
    "duration": 14,
    "start_time": "2025-07-02T13:44:08.558Z"
   },
   {
    "duration": 5790,
    "start_time": "2025-07-02T13:44:08.574Z"
   },
   {
    "duration": 21,
    "start_time": "2025-07-02T13:44:14.365Z"
   },
   {
    "duration": 14,
    "start_time": "2025-07-02T13:44:14.388Z"
   },
   {
    "duration": 1400,
    "start_time": "2025-07-02T13:44:14.404Z"
   },
   {
    "duration": 66,
    "start_time": "2025-07-02T13:44:15.806Z"
   },
   {
    "duration": 4,
    "start_time": "2025-07-02T13:44:15.874Z"
   },
   {
    "duration": 3,
    "start_time": "2025-07-02T13:44:15.880Z"
   },
   {
    "duration": 4,
    "start_time": "2025-07-02T13:44:15.884Z"
   },
   {
    "duration": 5,
    "start_time": "2025-07-02T13:44:15.890Z"
   },
   {
    "duration": 6,
    "start_time": "2025-07-02T13:44:15.896Z"
   },
   {
    "duration": 5,
    "start_time": "2025-07-02T13:44:15.904Z"
   },
   {
    "duration": 120873,
    "start_time": "2025-07-02T13:44:15.910Z"
   },
   {
    "duration": 2,
    "start_time": "2025-07-02T13:46:16.785Z"
   },
   {
    "duration": 40,
    "start_time": "2025-07-02T13:46:16.789Z"
   },
   {
    "duration": 288,
    "start_time": "2025-07-02T13:46:16.830Z"
   },
   {
    "duration": 0,
    "start_time": "2025-07-02T13:46:17.120Z"
   },
   {
    "duration": 0,
    "start_time": "2025-07-02T13:46:17.121Z"
   },
   {
    "duration": 0,
    "start_time": "2025-07-02T13:46:17.122Z"
   },
   {
    "duration": 0,
    "start_time": "2025-07-02T13:46:17.123Z"
   },
   {
    "duration": 0,
    "start_time": "2025-07-02T13:46:17.124Z"
   },
   {
    "duration": 0,
    "start_time": "2025-07-02T13:46:17.125Z"
   },
   {
    "duration": 0,
    "start_time": "2025-07-02T13:46:17.126Z"
   },
   {
    "duration": 0,
    "start_time": "2025-07-02T13:46:17.128Z"
   },
   {
    "duration": 85,
    "start_time": "2025-07-02T13:54:28.506Z"
   },
   {
    "duration": 34599,
    "start_time": "2025-07-02T13:54:30.901Z"
   },
   {
    "duration": 5,
    "start_time": "2025-07-02T13:55:12.342Z"
   },
   {
    "duration": 154153,
    "start_time": "2025-07-02T13:55:19.128Z"
   },
   {
    "duration": 3,
    "start_time": "2025-07-02T13:58:17.112Z"
   },
   {
    "duration": 4,
    "start_time": "2025-07-02T13:58:18.137Z"
   },
   {
    "duration": 174,
    "start_time": "2025-07-02T13:58:24.281Z"
   },
   {
    "duration": 11,
    "start_time": "2025-07-02T14:00:25.796Z"
   },
   {
    "duration": 4,
    "start_time": "2025-07-02T14:01:01.152Z"
   },
   {
    "duration": 36,
    "start_time": "2025-07-02T14:02:21.920Z"
   },
   {
    "duration": 3,
    "start_time": "2025-07-02T14:02:41.650Z"
   },
   {
    "duration": 1484,
    "start_time": "2025-07-02T14:06:29.933Z"
   },
   {
    "duration": 7168,
    "start_time": "2025-07-02T17:04:32.021Z"
   },
   {
    "duration": 13666,
    "start_time": "2025-07-02T17:04:39.191Z"
   },
   {
    "duration": 943,
    "start_time": "2025-07-02T17:04:52.858Z"
   },
   {
    "duration": 15,
    "start_time": "2025-07-02T17:04:53.802Z"
   },
   {
    "duration": 186,
    "start_time": "2025-07-02T17:04:53.819Z"
   },
   {
    "duration": 169,
    "start_time": "2025-07-02T17:04:54.006Z"
   },
   {
    "duration": 442,
    "start_time": "2025-07-02T17:04:54.177Z"
   },
   {
    "duration": 134,
    "start_time": "2025-07-02T17:04:54.620Z"
   },
   {
    "duration": 6,
    "start_time": "2025-07-02T17:04:54.755Z"
   },
   {
    "duration": 44,
    "start_time": "2025-07-02T17:04:54.763Z"
   },
   {
    "duration": 4,
    "start_time": "2025-07-02T17:04:54.808Z"
   },
   {
    "duration": 816,
    "start_time": "2025-07-02T17:04:54.814Z"
   },
   {
    "duration": 43,
    "start_time": "2025-07-02T17:04:55.632Z"
   },
   {
    "duration": 40,
    "start_time": "2025-07-02T17:04:55.678Z"
   },
   {
    "duration": 76,
    "start_time": "2025-07-02T17:04:55.719Z"
   },
   {
    "duration": 49,
    "start_time": "2025-07-02T17:04:55.797Z"
   },
   {
    "duration": 51,
    "start_time": "2025-07-02T17:04:55.847Z"
   },
   {
    "duration": 142,
    "start_time": "2025-07-02T17:04:55.900Z"
   },
   {
    "duration": 9,
    "start_time": "2025-07-02T17:04:56.044Z"
   },
   {
    "duration": 37,
    "start_time": "2025-07-02T17:04:56.054Z"
   },
   {
    "duration": 1767,
    "start_time": "2025-07-02T17:04:56.093Z"
   },
   {
    "duration": 69,
    "start_time": "2025-07-02T17:04:57.862Z"
   },
   {
    "duration": 210,
    "start_time": "2025-07-02T17:04:57.932Z"
   },
   {
    "duration": 33,
    "start_time": "2025-07-02T17:04:58.143Z"
   },
   {
    "duration": 18,
    "start_time": "2025-07-02T17:04:58.177Z"
   },
   {
    "duration": 6,
    "start_time": "2025-07-02T17:04:58.196Z"
   },
   {
    "duration": 71,
    "start_time": "2025-07-02T17:04:58.203Z"
   },
   {
    "duration": 1547,
    "start_time": "2025-07-02T17:04:58.276Z"
   },
   {
    "duration": 48,
    "start_time": "2025-07-02T17:04:59.825Z"
   },
   {
    "duration": 1666,
    "start_time": "2025-07-02T17:04:59.874Z"
   },
   {
    "duration": 154,
    "start_time": "2025-07-02T17:05:01.542Z"
   },
   {
    "duration": 16,
    "start_time": "2025-07-02T17:05:01.698Z"
   },
   {
    "duration": 1567,
    "start_time": "2025-07-02T17:05:01.716Z"
   },
   {
    "duration": 511,
    "start_time": "2025-07-02T17:05:03.284Z"
   },
   {
    "duration": 38,
    "start_time": "2025-07-02T17:05:03.797Z"
   },
   {
    "duration": 1571,
    "start_time": "2025-07-02T17:05:03.836Z"
   },
   {
    "duration": 38,
    "start_time": "2025-07-02T17:05:05.409Z"
   },
   {
    "duration": 1611,
    "start_time": "2025-07-02T17:05:05.461Z"
   },
   {
    "duration": 146,
    "start_time": "2025-07-02T17:05:07.074Z"
   },
   {
    "duration": 15,
    "start_time": "2025-07-02T17:05:07.221Z"
   },
   {
    "duration": 226,
    "start_time": "2025-07-02T17:05:07.240Z"
   },
   {
    "duration": 200,
    "start_time": "2025-07-02T17:05:07.467Z"
   },
   {
    "duration": 4,
    "start_time": "2025-07-02T17:05:07.668Z"
   },
   {
    "duration": 1294,
    "start_time": "2025-07-02T17:05:07.674Z"
   },
   {
    "duration": 40,
    "start_time": "2025-07-02T17:05:08.970Z"
   },
   {
    "duration": 62,
    "start_time": "2025-07-02T17:05:09.012Z"
   },
   {
    "duration": 36,
    "start_time": "2025-07-02T17:05:09.076Z"
   },
   {
    "duration": 49,
    "start_time": "2025-07-02T17:05:09.113Z"
   },
   {
    "duration": 38,
    "start_time": "2025-07-02T17:05:09.164Z"
   },
   {
    "duration": 16,
    "start_time": "2025-07-02T17:05:09.204Z"
   },
   {
    "duration": 6007,
    "start_time": "2025-07-02T17:05:09.222Z"
   },
   {
    "duration": 22,
    "start_time": "2025-07-02T17:05:15.231Z"
   },
   {
    "duration": 33,
    "start_time": "2025-07-02T17:05:15.255Z"
   },
   {
    "duration": 1512,
    "start_time": "2025-07-02T17:05:15.289Z"
   },
   {
    "duration": 63,
    "start_time": "2025-07-02T17:05:16.802Z"
   },
   {
    "duration": 5,
    "start_time": "2025-07-02T17:05:16.867Z"
   },
   {
    "duration": 5,
    "start_time": "2025-07-02T17:05:16.875Z"
   },
   {
    "duration": 3,
    "start_time": "2025-07-02T17:05:16.882Z"
   },
   {
    "duration": 6,
    "start_time": "2025-07-02T17:05:16.887Z"
   },
   {
    "duration": 4,
    "start_time": "2025-07-02T17:05:16.894Z"
   },
   {
    "duration": 4,
    "start_time": "2025-07-02T17:05:16.900Z"
   },
   {
    "duration": 3174,
    "start_time": "2025-07-02T17:30:09.273Z"
   },
   {
    "duration": 12630,
    "start_time": "2025-07-02T17:30:12.449Z"
   },
   {
    "duration": 985,
    "start_time": "2025-07-02T17:30:25.081Z"
   },
   {
    "duration": 15,
    "start_time": "2025-07-02T17:30:26.067Z"
   },
   {
    "duration": 157,
    "start_time": "2025-07-02T17:30:26.085Z"
   },
   {
    "duration": 164,
    "start_time": "2025-07-02T17:30:26.244Z"
   },
   {
    "duration": 456,
    "start_time": "2025-07-02T17:30:26.409Z"
   },
   {
    "duration": 148,
    "start_time": "2025-07-02T17:30:26.867Z"
   },
   {
    "duration": 4,
    "start_time": "2025-07-02T17:30:27.017Z"
   },
   {
    "duration": 55,
    "start_time": "2025-07-02T17:30:27.023Z"
   },
   {
    "duration": 5,
    "start_time": "2025-07-02T17:30:27.079Z"
   },
   {
    "duration": 769,
    "start_time": "2025-07-02T17:30:27.086Z"
   },
   {
    "duration": 42,
    "start_time": "2025-07-02T17:30:27.859Z"
   },
   {
    "duration": 89,
    "start_time": "2025-07-02T17:30:27.905Z"
   },
   {
    "duration": 64,
    "start_time": "2025-07-02T17:30:27.996Z"
   },
   {
    "duration": 102,
    "start_time": "2025-07-02T17:30:28.062Z"
   },
   {
    "duration": 39,
    "start_time": "2025-07-02T17:30:28.165Z"
   },
   {
    "duration": 88,
    "start_time": "2025-07-02T17:30:28.205Z"
   },
   {
    "duration": 10,
    "start_time": "2025-07-02T17:30:28.295Z"
   },
   {
    "duration": 37,
    "start_time": "2025-07-02T17:30:28.306Z"
   },
   {
    "duration": 1833,
    "start_time": "2025-07-02T17:30:28.344Z"
   },
   {
    "duration": 69,
    "start_time": "2025-07-02T17:30:30.179Z"
   },
   {
    "duration": 163,
    "start_time": "2025-07-02T17:30:30.261Z"
   },
   {
    "duration": 36,
    "start_time": "2025-07-02T17:30:30.426Z"
   },
   {
    "duration": 24,
    "start_time": "2025-07-02T17:30:30.463Z"
   },
   {
    "duration": 84,
    "start_time": "2025-07-02T17:30:30.488Z"
   },
   {
    "duration": 58,
    "start_time": "2025-07-02T17:30:30.573Z"
   },
   {
    "duration": 1555,
    "start_time": "2025-07-02T17:30:30.633Z"
   },
   {
    "duration": 38,
    "start_time": "2025-07-02T17:30:32.189Z"
   },
   {
    "duration": 1613,
    "start_time": "2025-07-02T17:30:32.229Z"
   },
   {
    "duration": 126,
    "start_time": "2025-07-02T17:30:33.844Z"
   },
   {
    "duration": 16,
    "start_time": "2025-07-02T17:30:33.972Z"
   },
   {
    "duration": 1606,
    "start_time": "2025-07-02T17:30:33.990Z"
   },
   {
    "duration": 562,
    "start_time": "2025-07-02T17:30:35.598Z"
   },
   {
    "duration": 39,
    "start_time": "2025-07-02T17:30:36.162Z"
   },
   {
    "duration": 1523,
    "start_time": "2025-07-02T17:30:36.203Z"
   },
   {
    "duration": 45,
    "start_time": "2025-07-02T17:30:37.728Z"
   },
   {
    "duration": 1590,
    "start_time": "2025-07-02T17:30:37.775Z"
   },
   {
    "duration": 143,
    "start_time": "2025-07-02T17:30:39.367Z"
   },
   {
    "duration": 14,
    "start_time": "2025-07-02T17:30:39.512Z"
   },
   {
    "duration": 233,
    "start_time": "2025-07-02T17:30:39.530Z"
   },
   {
    "duration": 204,
    "start_time": "2025-07-02T17:30:39.765Z"
   },
   {
    "duration": 4,
    "start_time": "2025-07-02T17:30:39.971Z"
   },
   {
    "duration": 1301,
    "start_time": "2025-07-02T17:30:39.977Z"
   },
   {
    "duration": 34,
    "start_time": "2025-07-02T17:30:41.280Z"
   },
   {
    "duration": 47,
    "start_time": "2025-07-02T17:30:41.316Z"
   },
   {
    "duration": 37,
    "start_time": "2025-07-02T17:30:41.365Z"
   },
   {
    "duration": 35,
    "start_time": "2025-07-02T17:30:41.404Z"
   },
   {
    "duration": 4,
    "start_time": "2025-07-02T17:30:41.461Z"
   },
   {
    "duration": 4,
    "start_time": "2025-07-02T17:30:41.467Z"
   },
   {
    "duration": 6169,
    "start_time": "2025-07-02T17:30:41.472Z"
   },
   {
    "duration": 26,
    "start_time": "2025-07-02T17:30:47.643Z"
   },
   {
    "duration": 13,
    "start_time": "2025-07-02T17:30:47.671Z"
   },
   {
    "duration": 1509,
    "start_time": "2025-07-02T17:30:47.685Z"
   },
   {
    "duration": 64,
    "start_time": "2025-07-02T17:30:49.196Z"
   },
   {
    "duration": 30,
    "start_time": "2025-07-02T17:30:49.262Z"
   },
   {
    "duration": 22,
    "start_time": "2025-07-02T17:30:49.293Z"
   },
   {
    "duration": 9,
    "start_time": "2025-07-02T17:30:49.317Z"
   },
   {
    "duration": 11,
    "start_time": "2025-07-02T17:30:49.328Z"
   },
   {
    "duration": 11,
    "start_time": "2025-07-02T17:30:49.341Z"
   },
   {
    "duration": 14,
    "start_time": "2025-07-02T17:30:49.353Z"
   },
   {
    "duration": 129307,
    "start_time": "2025-07-02T17:30:49.369Z"
   },
   {
    "duration": 4,
    "start_time": "2025-07-02T17:38:33.627Z"
   },
   {
    "duration": 4,
    "start_time": "2025-07-02T17:38:34.700Z"
   },
   {
    "duration": 283,
    "start_time": "2025-07-02T17:38:38.598Z"
   },
   {
    "duration": 11567,
    "start_time": "2025-07-02T17:43:55.200Z"
   },
   {
    "duration": 4,
    "start_time": "2025-07-02T17:44:23.928Z"
   },
   {
    "duration": 6,
    "start_time": "2025-07-02T17:44:24.821Z"
   },
   {
    "duration": 483560,
    "start_time": "2025-07-02T17:44:30.162Z"
   },
   {
    "duration": 20109,
    "start_time": "2025-07-03T07:32:51.003Z"
   },
   {
    "duration": 949,
    "start_time": "2025-07-03T07:33:11.114Z"
   },
   {
    "duration": 15,
    "start_time": "2025-07-03T07:33:12.065Z"
   },
   {
    "duration": 160,
    "start_time": "2025-07-03T07:33:12.082Z"
   },
   {
    "duration": 155,
    "start_time": "2025-07-03T07:33:12.244Z"
   },
   {
    "duration": 431,
    "start_time": "2025-07-03T07:33:12.401Z"
   },
   {
    "duration": 134,
    "start_time": "2025-07-03T07:33:12.834Z"
   },
   {
    "duration": 4,
    "start_time": "2025-07-03T07:33:12.970Z"
   },
   {
    "duration": 59,
    "start_time": "2025-07-03T07:33:12.976Z"
   },
   {
    "duration": 4,
    "start_time": "2025-07-03T07:33:13.038Z"
   },
   {
    "duration": 729,
    "start_time": "2025-07-03T07:33:13.043Z"
   },
   {
    "duration": 41,
    "start_time": "2025-07-03T07:33:13.774Z"
   },
   {
    "duration": 57,
    "start_time": "2025-07-03T07:33:13.817Z"
   },
   {
    "duration": 48,
    "start_time": "2025-07-03T07:33:13.876Z"
   },
   {
    "duration": 50,
    "start_time": "2025-07-03T07:33:13.926Z"
   },
   {
    "duration": 56,
    "start_time": "2025-07-03T07:33:13.978Z"
   },
   {
    "duration": 86,
    "start_time": "2025-07-03T07:33:14.036Z"
   },
   {
    "duration": 9,
    "start_time": "2025-07-03T07:33:14.123Z"
   },
   {
    "duration": 62,
    "start_time": "2025-07-03T07:33:14.134Z"
   },
   {
    "duration": 1740,
    "start_time": "2025-07-03T07:33:14.198Z"
   },
   {
    "duration": 77,
    "start_time": "2025-07-03T07:33:15.940Z"
   },
   {
    "duration": 172,
    "start_time": "2025-07-03T07:33:16.019Z"
   },
   {
    "duration": 24,
    "start_time": "2025-07-03T07:33:16.193Z"
   },
   {
    "duration": 17,
    "start_time": "2025-07-03T07:33:16.219Z"
   },
   {
    "duration": 25,
    "start_time": "2025-07-03T07:33:16.238Z"
   },
   {
    "duration": 55,
    "start_time": "2025-07-03T07:33:16.265Z"
   },
   {
    "duration": 1494,
    "start_time": "2025-07-03T07:33:16.322Z"
   },
   {
    "duration": 48,
    "start_time": "2025-07-03T07:33:17.820Z"
   },
   {
    "duration": 1631,
    "start_time": "2025-07-03T07:33:17.869Z"
   },
   {
    "duration": 131,
    "start_time": "2025-07-03T07:33:19.502Z"
   },
   {
    "duration": 16,
    "start_time": "2025-07-03T07:33:19.635Z"
   },
   {
    "duration": 1570,
    "start_time": "2025-07-03T07:33:19.653Z"
   },
   {
    "duration": 501,
    "start_time": "2025-07-03T07:33:21.225Z"
   },
   {
    "duration": 46,
    "start_time": "2025-07-03T07:33:21.728Z"
   },
   {
    "duration": 1475,
    "start_time": "2025-07-03T07:33:21.776Z"
   },
   {
    "duration": 40,
    "start_time": "2025-07-03T07:33:23.253Z"
   },
   {
    "duration": 1555,
    "start_time": "2025-07-03T07:33:23.294Z"
   },
   {
    "duration": 143,
    "start_time": "2025-07-03T07:33:24.851Z"
   },
   {
    "duration": 14,
    "start_time": "2025-07-03T07:33:24.995Z"
   },
   {
    "duration": 230,
    "start_time": "2025-07-03T07:33:25.011Z"
   },
   {
    "duration": 192,
    "start_time": "2025-07-03T07:33:25.243Z"
   },
   {
    "duration": 4,
    "start_time": "2025-07-03T07:33:25.437Z"
   },
   {
    "duration": 1335,
    "start_time": "2025-07-03T07:33:25.443Z"
   },
   {
    "duration": 34,
    "start_time": "2025-07-03T07:33:26.780Z"
   },
   {
    "duration": 71,
    "start_time": "2025-07-03T07:33:26.815Z"
   },
   {
    "duration": 34,
    "start_time": "2025-07-03T07:33:26.888Z"
   },
   {
    "duration": 46,
    "start_time": "2025-07-03T07:33:26.924Z"
   },
   {
    "duration": 48,
    "start_time": "2025-07-03T07:33:26.972Z"
   },
   {
    "duration": 15,
    "start_time": "2025-07-03T07:33:27.022Z"
   },
   {
    "duration": 5972,
    "start_time": "2025-07-03T07:33:27.039Z"
   },
   {
    "duration": 22,
    "start_time": "2025-07-03T07:33:33.013Z"
   },
   {
    "duration": 58,
    "start_time": "2025-07-03T07:33:33.037Z"
   },
   {
    "duration": 1453,
    "start_time": "2025-07-03T07:33:33.096Z"
   },
   {
    "duration": 65,
    "start_time": "2025-07-03T07:33:34.550Z"
   },
   {
    "duration": 5,
    "start_time": "2025-07-03T07:33:34.617Z"
   },
   {
    "duration": 3,
    "start_time": "2025-07-03T07:33:34.624Z"
   },
   {
    "duration": 6,
    "start_time": "2025-07-03T07:33:34.629Z"
   },
   {
    "duration": 17,
    "start_time": "2025-07-03T07:33:34.637Z"
   },
   {
    "duration": 9,
    "start_time": "2025-07-03T07:33:34.663Z"
   },
   {
    "duration": 19,
    "start_time": "2025-07-03T07:33:34.674Z"
   },
   {
    "duration": 115583,
    "start_time": "2025-07-03T07:33:34.695Z"
   },
   {
    "duration": 3,
    "start_time": "2025-07-03T07:35:30.280Z"
   },
   {
    "duration": 32,
    "start_time": "2025-07-03T07:35:30.284Z"
   },
   {
    "duration": 419009,
    "start_time": "2025-07-03T07:35:30.318Z"
   },
   {
    "duration": 2096844,
    "start_time": "2025-07-03T07:43:24.325Z"
   },
   {
    "duration": 95742,
    "start_time": "2025-07-03T08:18:26.469Z"
   },
   {
    "duration": 1118188,
    "start_time": "2025-07-03T08:20:10.676Z"
   },
   {
    "duration": 4,
    "start_time": "2025-07-03T08:40:40.639Z"
   },
   {
    "duration": 75,
    "start_time": "2025-07-03T08:45:10.374Z"
   },
   {
    "duration": 30157,
    "start_time": "2025-07-03T08:45:11.506Z"
   },
   {
    "duration": 5,
    "start_time": "2025-07-03T08:45:45.402Z"
   },
   {
    "duration": 130801,
    "start_time": "2025-07-03T08:45:49.683Z"
   },
   {
    "duration": 187995,
    "start_time": "2025-07-03T08:48:15.669Z"
   },
   {
    "duration": 3,
    "start_time": "2025-07-03T08:53:21.650Z"
   },
   {
    "duration": 15,
    "start_time": "2025-07-03T08:57:20.367Z"
   },
   {
    "duration": 10,
    "start_time": "2025-07-03T08:58:56.515Z"
   },
   {
    "duration": 998,
    "start_time": "2025-07-03T09:01:04.390Z"
   },
   {
    "duration": 339,
    "start_time": "2025-07-03T09:04:33.982Z"
   },
   {
    "duration": 615,
    "start_time": "2025-07-03T09:05:00.817Z"
   },
   {
    "duration": 19321,
    "start_time": "2025-07-03T15:47:57.051Z"
   },
   {
    "duration": 992,
    "start_time": "2025-07-03T15:48:16.374Z"
   },
   {
    "duration": 16,
    "start_time": "2025-07-03T15:48:17.367Z"
   },
   {
    "duration": 187,
    "start_time": "2025-07-03T15:48:17.385Z"
   },
   {
    "duration": 182,
    "start_time": "2025-07-03T15:48:17.574Z"
   },
   {
    "duration": 475,
    "start_time": "2025-07-03T15:48:17.758Z"
   },
   {
    "duration": 141,
    "start_time": "2025-07-03T15:48:18.239Z"
   },
   {
    "duration": 5,
    "start_time": "2025-07-03T15:48:18.382Z"
   },
   {
    "duration": 53,
    "start_time": "2025-07-03T15:48:18.389Z"
   },
   {
    "duration": 4,
    "start_time": "2025-07-03T15:48:18.453Z"
   },
   {
    "duration": 738,
    "start_time": "2025-07-03T15:48:18.458Z"
   },
   {
    "duration": 55,
    "start_time": "2025-07-03T15:48:19.197Z"
   },
   {
    "duration": 37,
    "start_time": "2025-07-03T15:48:19.254Z"
   },
   {
    "duration": 40,
    "start_time": "2025-07-03T15:48:19.292Z"
   },
   {
    "duration": 42,
    "start_time": "2025-07-03T15:48:19.347Z"
   },
   {
    "duration": 67,
    "start_time": "2025-07-03T15:48:19.391Z"
   },
   {
    "duration": 68,
    "start_time": "2025-07-03T15:48:19.459Z"
   },
   {
    "duration": 9,
    "start_time": "2025-07-03T15:48:19.529Z"
   },
   {
    "duration": 38,
    "start_time": "2025-07-03T15:48:19.539Z"
   },
   {
    "duration": 1754,
    "start_time": "2025-07-03T15:48:19.579Z"
   },
   {
    "duration": 74,
    "start_time": "2025-07-03T15:48:21.339Z"
   },
   {
    "duration": 165,
    "start_time": "2025-07-03T15:48:21.414Z"
   },
   {
    "duration": 23,
    "start_time": "2025-07-03T15:48:21.581Z"
   },
   {
    "duration": 36,
    "start_time": "2025-07-03T15:48:21.606Z"
   },
   {
    "duration": 11,
    "start_time": "2025-07-03T15:48:21.643Z"
   },
   {
    "duration": 67,
    "start_time": "2025-07-03T15:48:21.656Z"
   },
   {
    "duration": 1595,
    "start_time": "2025-07-03T15:48:21.725Z"
   },
   {
    "duration": 48,
    "start_time": "2025-07-03T15:48:23.325Z"
   },
   {
    "duration": 1588,
    "start_time": "2025-07-03T15:48:23.375Z"
   },
   {
    "duration": 137,
    "start_time": "2025-07-03T15:48:24.965Z"
   },
   {
    "duration": 17,
    "start_time": "2025-07-03T15:48:25.104Z"
   },
   {
    "duration": 1636,
    "start_time": "2025-07-03T15:48:25.122Z"
   },
   {
    "duration": 505,
    "start_time": "2025-07-03T15:48:26.760Z"
   },
   {
    "duration": 37,
    "start_time": "2025-07-03T15:48:27.267Z"
   },
   {
    "duration": 1488,
    "start_time": "2025-07-03T15:48:27.306Z"
   },
   {
    "duration": 60,
    "start_time": "2025-07-03T15:48:28.796Z"
   },
   {
    "duration": 1543,
    "start_time": "2025-07-03T15:48:28.858Z"
   },
   {
    "duration": 151,
    "start_time": "2025-07-03T15:48:30.402Z"
   },
   {
    "duration": 15,
    "start_time": "2025-07-03T15:48:30.555Z"
   },
   {
    "duration": 242,
    "start_time": "2025-07-03T15:48:30.572Z"
   },
   {
    "duration": 213,
    "start_time": "2025-07-03T15:48:30.816Z"
   },
   {
    "duration": 5,
    "start_time": "2025-07-03T15:48:31.032Z"
   },
   {
    "duration": 1346,
    "start_time": "2025-07-03T15:48:31.039Z"
   },
   {
    "duration": 32,
    "start_time": "2025-07-03T15:48:32.386Z"
   },
   {
    "duration": 73,
    "start_time": "2025-07-03T15:48:32.420Z"
   },
   {
    "duration": 35,
    "start_time": "2025-07-03T15:48:32.494Z"
   },
   {
    "duration": 43,
    "start_time": "2025-07-03T15:48:32.530Z"
   },
   {
    "duration": 30,
    "start_time": "2025-07-03T15:48:32.575Z"
   },
   {
    "duration": 19,
    "start_time": "2025-07-03T15:48:32.607Z"
   },
   {
    "duration": 6188,
    "start_time": "2025-07-03T15:48:32.628Z"
   },
   {
    "duration": 21,
    "start_time": "2025-07-03T15:48:38.818Z"
   },
   {
    "duration": 17,
    "start_time": "2025-07-03T15:48:38.841Z"
   },
   {
    "duration": 1455,
    "start_time": "2025-07-03T15:48:38.860Z"
   },
   {
    "duration": 77,
    "start_time": "2025-07-03T15:48:40.317Z"
   },
   {
    "duration": 5,
    "start_time": "2025-07-03T15:48:40.396Z"
   },
   {
    "duration": 4,
    "start_time": "2025-07-03T15:48:40.402Z"
   },
   {
    "duration": 7,
    "start_time": "2025-07-03T15:48:40.407Z"
   },
   {
    "duration": 7,
    "start_time": "2025-07-03T15:48:40.416Z"
   },
   {
    "duration": 26,
    "start_time": "2025-07-03T15:48:40.425Z"
   },
   {
    "duration": 3,
    "start_time": "2025-07-03T15:48:40.453Z"
   },
   {
    "duration": 90760,
    "start_time": "2025-07-03T15:48:40.457Z"
   },
   {
    "duration": 2,
    "start_time": "2025-07-03T15:50:11.219Z"
   },
   {
    "duration": 21,
    "start_time": "2025-07-03T15:50:11.223Z"
   },
   {
    "duration": 498055,
    "start_time": "2025-07-03T15:50:11.246Z"
   },
   {
    "duration": 1353059,
    "start_time": "2025-07-03T15:58:29.302Z"
   },
   {
    "duration": 3,
    "start_time": "2025-07-03T16:21:02.363Z"
   },
   {
    "duration": 201,
    "start_time": "2025-07-03T16:21:02.367Z"
   },
   {
    "duration": 62685,
    "start_time": "2025-07-03T16:21:02.570Z"
   },
   {
    "duration": 6,
    "start_time": "2025-07-03T16:22:05.257Z"
   },
   {
    "duration": 224184,
    "start_time": "2025-07-03T16:22:05.265Z"
   },
   {
    "duration": 4,
    "start_time": "2025-07-03T16:25:49.451Z"
   },
   {
    "duration": 1184,
    "start_time": "2025-07-03T16:25:49.456Z"
   },
   {
    "duration": 370,
    "start_time": "2025-07-03T16:25:50.642Z"
   },
   {
    "duration": 627,
    "start_time": "2025-07-03T16:25:51.015Z"
   }
  ],
  "kernelspec": {
   "display_name": "Python 3 (ipykernel)",
   "language": "python",
   "name": "python3"
  },
  "language_info": {
   "codemirror_mode": {
    "name": "ipython",
    "version": 3
   },
   "file_extension": ".py",
   "mimetype": "text/x-python",
   "name": "python",
   "nbconvert_exporter": "python",
   "pygments_lexer": "ipython3",
   "version": "3.9.5"
  },
  "toc": {
   "base_numbering": 1,
   "nav_menu": {},
   "number_sections": true,
   "sideBar": true,
   "skip_h1_title": true,
   "title_cell": "Table of Contents",
   "title_sidebar": "Contents",
   "toc_cell": false,
   "toc_position": {},
   "toc_section_display": true,
   "toc_window_display": false
  }
 },
 "nbformat": 4,
 "nbformat_minor": 2
}

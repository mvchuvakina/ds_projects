{
 "cells": [
  {
   "cell_type": "markdown",
   "metadata": {},
   "source": [
    "Привет, меня зовут Люман Аблаев. Сегодня я проверю твой проект.\n",
    "<br> Дальнейшее общение будет происходить на \"ты\" если это не вызывает никаких проблем.\n",
    "<br> Желательно реагировать на каждый мой комментарий ('исправил', 'не понятно как исправить ошибку', ...)\n",
    "<br> Пожалуйста, не удаляй комментарии ревьюера, так как они повышают качество повторного ревью.\n",
    "\n",
    "Комментарии будут в <font color='green'>зеленой</font>, <font color='blue'>синей</font> или <font color='red'>красной</font> рамках:\n",
    "\n",
    "<div class=\"alert alert-block alert-success\">\n",
    "<b>Успех:</b> Если все сделано отлично\n",
    "</div>\n",
    "\n",
    "<div class=\"alert alert-block alert-info\">\n",
    "<b>Совет: </b> Если можно немного улучшить\n",
    "</div>\n",
    "\n",
    "<div class=\"alert alert-block alert-danger\">\n",
    "<b>Ошибка:</b> Если требуются исправления. Работа не может быть принята с красными комментариями.\n",
    "</div>\n",
    "\n",
    "-------------------\n",
    "\n",
    "Будет очень хорошо, если ты будешь помечать свои действия следующим образом:\n",
    "<div class=\"alert alert-block alert-warning\">\n",
    "<b>Комментарий студента:</b> ..\n",
    "</div>\n",
    "<div class=\"alert alert-block alert-warning\">\n",
    "<b>Изменения:</b> Были внесены следующие изменения ...\n",
    "</div>\n",
    "\n",
    "<font color='orange' style='font-size:24px; font-weight:bold'>Полезные ссылки:</font>\n",
    "* Полезная лекция про временные ряды: https://www.youtube.com/watch?v=u433nrxdf5k .\n",
    "\n",
    "<font color='orange' style='font-size:24px; font-weight:bold'>Общее впечатление</font>\n",
    "* Большое спасибо за проделанную работу. Видно, что приложено много усилий.\n",
    "- Приятное оформление выводов и структурированность кода в целом!  Приятно проверять такие работы.\n",
    "* Над этим проектом нужно будет еще немного поработать. Однако, изменения не должны занять много времени.\n",
    "* В работе я оставил несколько советов. Буду рад, если ты учтешь их.\n",
    "- Жду твой обновленный проект =)\n",
    "\n",
    "\n"
   ]
  },
  {
   "cell_type": "markdown",
   "metadata": {},
   "source": [
    "<div class=\"alert alert-block alert-warning\">\n",
    "<b>Комментарий студента:</b> Спасибо за комментарии, учту свои ошибки)\n",
    "</div>"
   ]
  },
  {
   "cell_type": "markdown",
   "metadata": {},
   "source": [
    "<font color='orange' style='font-size:24px; font-weight:bold'>Общее впечатление[2]</font>\n",
    "* Спасибо за оперативность\n",
    "- Приятно видеть фидбек \n",
    "- Недочеты исправлены - работа полностью корректна\n",
    "- Рад был быть полезен. Удачи в дальнейшем обучении!\n"
   ]
  },
  {
   "cell_type": "markdown",
   "metadata": {
    "toc": true
   },
   "source": [
    "<h1>Содержание<span class=\"tocSkip\"></span></h1>\n",
    "<div class=\"toc\"><ul class=\"toc-item\"><li><span><a href=\"#Подготовка\" data-toc-modified-id=\"Подготовка-1\"><span class=\"toc-item-num\">1&nbsp;&nbsp;</span>Подготовка</a></span></li><li><span><a href=\"#Анализ\" data-toc-modified-id=\"Анализ-2\"><span class=\"toc-item-num\">2&nbsp;&nbsp;</span>Анализ</a></span></li><li><span><a href=\"#Обучение\" data-toc-modified-id=\"Обучение-3\"><span class=\"toc-item-num\">3&nbsp;&nbsp;</span>Обучение</a></span></li><li><span><a href=\"#Тестирование\" data-toc-modified-id=\"Тестирование-4\"><span class=\"toc-item-num\">4&nbsp;&nbsp;</span>Тестирование</a></span></li><li><span><a href=\"#Общий-вывод\" data-toc-modified-id=\"Общий-вывод-5\"><span class=\"toc-item-num\">5&nbsp;&nbsp;</span>Общий вывод</a></span><ul class=\"toc-item\"><li><span><a href=\"#Ход-работы\" data-toc-modified-id=\"Ход-работы-5.1\"><span class=\"toc-item-num\">5.1&nbsp;&nbsp;</span>Ход работы</a></span></li><li><span><a href=\"#Модели-и-результаты-кросс-валидации:\" data-toc-modified-id=\"Модели-и-результаты-кросс-валидации:-5.2\"><span class=\"toc-item-num\">5.2&nbsp;&nbsp;</span>Модели и результаты кросс-валидации:</a></span></li><li><span><a href=\"#Результаты-на-тестовой-выборке:\" data-toc-modified-id=\"Результаты-на-тестовой-выборке:-5.3\"><span class=\"toc-item-num\">5.3&nbsp;&nbsp;</span>Результаты на тестовой выборке:</a></span></li><li><span><a href=\"#Анализ-предсказаний:\" data-toc-modified-id=\"Анализ-предсказаний:-5.4\"><span class=\"toc-item-num\">5.4&nbsp;&nbsp;</span>Анализ предсказаний:</a></span></li><li><span><a href=\"#Выводы-и-рекомендации:\" data-toc-modified-id=\"Выводы-и-рекомендации:-5.5\"><span class=\"toc-item-num\">5.5&nbsp;&nbsp;</span>Выводы и рекомендации:</a></span></li></ul></li><li><span><a href=\"#Чек-лист-проверки\" data-toc-modified-id=\"Чек-лист-проверки-6\"><span class=\"toc-item-num\">6&nbsp;&nbsp;</span>Чек-лист проверки</a></span></li></ul></div>"
   ]
  },
  {
   "cell_type": "markdown",
   "metadata": {},
   "source": [
    "#  Прогнозирование заказов такси"
   ]
  },
  {
   "cell_type": "markdown",
   "metadata": {},
   "source": [
    "Компания «Чётенькое такси» собрала исторические данные о заказах такси в аэропортах. Чтобы привлекать больше водителей в период пиковой нагрузки, нужно спрогнозировать количество заказов такси на следующий час. Постройте модель для такого предсказания.\n",
    "\n",
    "Значение метрики *RMSE* на тестовой выборке должно быть не больше 48.\n",
    "\n",
    "Вам нужно:\n",
    "\n",
    "1. Загрузить данные и выполнить их ресемплирование по одному часу.\n",
    "2. Проанализировать данные.\n",
    "3. Обучить разные модели с различными гиперпараметрами. Сделать тестовую выборку размером 10% от исходных данных.\n",
    "4. Проверить данные на тестовой выборке и сделать выводы.\n",
    "\n",
    "\n",
    "Данные лежат в файле `taxi.csv`. Количество заказов находится в столбце `num_orders` (от англ. *number of orders*, «число заказов»)."
   ]
  },
  {
   "cell_type": "code",
   "execution_count": 1,
   "metadata": {},
   "outputs": [],
   "source": [
    "!pip install --upgrade scikit-learn -q\n",
    "!pip install -U scikit-learn -q\n",
    "\n",
    "import pandas as pd\n",
    "import numpy as np\n",
    "\n",
    "import matplotlib.pyplot as plt\n",
    "import seaborn as sns\n",
    "\n",
    "from statsmodels.tsa.seasonal import seasonal_decompose\n",
    "from statsmodels.tsa.stattools import adfuller\n",
    "\n",
    "from sklearn.linear_model import LinearRegression\n",
    "from sklearn.tree import DecisionTreeRegressor\n",
    "from sklearn.ensemble import RandomForestRegressor\n",
    "from catboost import CatBoostRegressor\n",
    "from lightgbm import LGBMRegressor\n",
    "from sklearn.model_selection import TimeSeriesSplit\n",
    "\n",
    "from sklearn.preprocessing import StandardScaler, OneHotEncoder, OrdinalEncoder\n",
    "from sklearn.compose import ColumnTransformer\n",
    "from sklearn.pipeline import Pipeline\n",
    "\n",
    "from sklearn.model_selection import (\n",
    "    train_test_split,\n",
    "    cross_val_score,\n",
    "    cross_validate,\n",
    "    GridSearchCV\n",
    ")\n",
    "\n",
    "from sklearn.metrics import mean_squared_error\n",
    "from math import sqrt\n",
    "\n",
    "import time\n"
   ]
  },
  {
   "cell_type": "markdown",
   "metadata": {},
   "source": [
    "\n",
    "<div class=\"alert alert-block alert-success\">\n",
    "<b>Успех:</b> Импорты  на месте\n",
    "</div>"
   ]
  },
  {
   "cell_type": "markdown",
   "metadata": {},
   "source": [
    "## Подготовка"
   ]
  },
  {
   "cell_type": "code",
   "execution_count": 2,
   "metadata": {
    "scrolled": false
   },
   "outputs": [
    {
     "data": {
      "text/html": [
       "<div>\n",
       "<style scoped>\n",
       "    .dataframe tbody tr th:only-of-type {\n",
       "        vertical-align: middle;\n",
       "    }\n",
       "\n",
       "    .dataframe tbody tr th {\n",
       "        vertical-align: top;\n",
       "    }\n",
       "\n",
       "    .dataframe thead th {\n",
       "        text-align: right;\n",
       "    }\n",
       "</style>\n",
       "<table border=\"1\" class=\"dataframe\">\n",
       "  <thead>\n",
       "    <tr style=\"text-align: right;\">\n",
       "      <th></th>\n",
       "      <th>num_orders</th>\n",
       "    </tr>\n",
       "    <tr>\n",
       "      <th>datetime</th>\n",
       "      <th></th>\n",
       "    </tr>\n",
       "  </thead>\n",
       "  <tbody>\n",
       "    <tr>\n",
       "      <th>2018-03-01 00:00:00</th>\n",
       "      <td>9</td>\n",
       "    </tr>\n",
       "    <tr>\n",
       "      <th>2018-03-01 00:10:00</th>\n",
       "      <td>14</td>\n",
       "    </tr>\n",
       "    <tr>\n",
       "      <th>2018-03-01 00:20:00</th>\n",
       "      <td>28</td>\n",
       "    </tr>\n",
       "    <tr>\n",
       "      <th>2018-03-01 00:30:00</th>\n",
       "      <td>20</td>\n",
       "    </tr>\n",
       "    <tr>\n",
       "      <th>2018-03-01 00:40:00</th>\n",
       "      <td>32</td>\n",
       "    </tr>\n",
       "  </tbody>\n",
       "</table>\n",
       "</div>"
      ],
      "text/plain": [
       "                     num_orders\n",
       "datetime                       \n",
       "2018-03-01 00:00:00           9\n",
       "2018-03-01 00:10:00          14\n",
       "2018-03-01 00:20:00          28\n",
       "2018-03-01 00:30:00          20\n",
       "2018-03-01 00:40:00          32"
      ]
     },
     "execution_count": 2,
     "metadata": {},
     "output_type": "execute_result"
    }
   ],
   "source": [
    "taxi = pd.read_csv('/datasets/taxi.csv', \n",
    "                   parse_dates=['datetime'],     \n",
    "                   index_col='datetime')\n",
    "taxi.head()"
   ]
  },
  {
   "cell_type": "markdown",
   "metadata": {},
   "source": [
    "\n",
    "<div class=\"alert alert-block alert-info\">\n",
    "<b>Совет: </b> Ещё на этапе считывания данных можно спарсить дату: за это действие отвечает параметр parse_dates метода read_csv(), в него нужно передать список с названием полей-дат, и в большинстве случаев дата будет корректно преобразована в нужный формат сразу:) Также на этапе считывания данных задать индекс-столбец- за это действие отвечает параметр index_col.\n",
    "</div>\n",
    "\n",
    "\n"
   ]
  },
  {
   "cell_type": "markdown",
   "metadata": {},
   "source": [
    "<div class=\"alert alert-block alert-warning\">\n",
    "<b>Изменения:</b> Добавила парметр parse_dates, ndex_col метода read_csv()\n",
    "</div>\n"
   ]
  },
  {
   "cell_type": "markdown",
   "metadata": {},
   "source": [
    "\n",
    "\n",
    "<div class=\"alert alert-block alert-success\">\n",
    "    \n",
    "<b>Успех[2]:</b> 👍\n",
    "</div>\n"
   ]
  },
  {
   "cell_type": "markdown",
   "metadata": {},
   "source": [
    "Видим, что у всех названий колонок корректный вид. Проверим тип данных"
   ]
  },
  {
   "cell_type": "code",
   "execution_count": 3,
   "metadata": {},
   "outputs": [
    {
     "name": "stdout",
     "output_type": "stream",
     "text": [
      "<class 'pandas.core.frame.DataFrame'>\n",
      "DatetimeIndex: 26496 entries, 2018-03-01 00:00:00 to 2018-08-31 23:50:00\n",
      "Data columns (total 1 columns):\n",
      " #   Column      Non-Null Count  Dtype\n",
      "---  ------      --------------  -----\n",
      " 0   num_orders  26496 non-null  int64\n",
      "dtypes: int64(1)\n",
      "memory usage: 414.0 KB\n"
     ]
    }
   ],
   "source": [
    "taxi.info()"
   ]
  },
  {
   "cell_type": "markdown",
   "metadata": {},
   "source": [
    "Пропущенных данных нет. Посмотрим расположены ли даты последовательно"
   ]
  },
  {
   "cell_type": "code",
   "execution_count": 4,
   "metadata": {},
   "outputs": [
    {
     "data": {
      "text/plain": [
       "True"
      ]
     },
     "execution_count": 4,
     "metadata": {},
     "output_type": "execute_result"
    }
   ],
   "source": [
    "taxi.index.is_monotonic_increasing"
   ]
  },
  {
   "cell_type": "markdown",
   "metadata": {},
   "source": [
    "Выполним ресемплирование по одному часу (сейчас данные за каждые 10 минут)"
   ]
  },
  {
   "cell_type": "code",
   "execution_count": 5,
   "metadata": {},
   "outputs": [
    {
     "data": {
      "text/html": [
       "<div>\n",
       "<style scoped>\n",
       "    .dataframe tbody tr th:only-of-type {\n",
       "        vertical-align: middle;\n",
       "    }\n",
       "\n",
       "    .dataframe tbody tr th {\n",
       "        vertical-align: top;\n",
       "    }\n",
       "\n",
       "    .dataframe thead th {\n",
       "        text-align: right;\n",
       "    }\n",
       "</style>\n",
       "<table border=\"1\" class=\"dataframe\">\n",
       "  <thead>\n",
       "    <tr style=\"text-align: right;\">\n",
       "      <th></th>\n",
       "      <th>num_orders</th>\n",
       "    </tr>\n",
       "    <tr>\n",
       "      <th>datetime</th>\n",
       "      <th></th>\n",
       "    </tr>\n",
       "  </thead>\n",
       "  <tbody>\n",
       "    <tr>\n",
       "      <th>2018-03-01 00:00:00</th>\n",
       "      <td>124</td>\n",
       "    </tr>\n",
       "    <tr>\n",
       "      <th>2018-03-01 01:00:00</th>\n",
       "      <td>85</td>\n",
       "    </tr>\n",
       "    <tr>\n",
       "      <th>2018-03-01 02:00:00</th>\n",
       "      <td>71</td>\n",
       "    </tr>\n",
       "    <tr>\n",
       "      <th>2018-03-01 03:00:00</th>\n",
       "      <td>66</td>\n",
       "    </tr>\n",
       "    <tr>\n",
       "      <th>2018-03-01 04:00:00</th>\n",
       "      <td>43</td>\n",
       "    </tr>\n",
       "  </tbody>\n",
       "</table>\n",
       "</div>"
      ],
      "text/plain": [
       "                     num_orders\n",
       "datetime                       \n",
       "2018-03-01 00:00:00         124\n",
       "2018-03-01 01:00:00          85\n",
       "2018-03-01 02:00:00          71\n",
       "2018-03-01 03:00:00          66\n",
       "2018-03-01 04:00:00          43"
      ]
     },
     "execution_count": 5,
     "metadata": {},
     "output_type": "execute_result"
    }
   ],
   "source": [
    "taxi_hourly = taxi.resample('1H').sum()\n",
    "taxi_hourly.head()"
   ]
  },
  {
   "cell_type": "code",
   "execution_count": 6,
   "metadata": {},
   "outputs": [
    {
     "data": {
      "text/html": [
       "<div>\n",
       "<style scoped>\n",
       "    .dataframe tbody tr th:only-of-type {\n",
       "        vertical-align: middle;\n",
       "    }\n",
       "\n",
       "    .dataframe tbody tr th {\n",
       "        vertical-align: top;\n",
       "    }\n",
       "\n",
       "    .dataframe thead th {\n",
       "        text-align: right;\n",
       "    }\n",
       "</style>\n",
       "<table border=\"1\" class=\"dataframe\">\n",
       "  <thead>\n",
       "    <tr style=\"text-align: right;\">\n",
       "      <th></th>\n",
       "      <th>num_orders</th>\n",
       "    </tr>\n",
       "    <tr>\n",
       "      <th>datetime</th>\n",
       "      <th></th>\n",
       "    </tr>\n",
       "  </thead>\n",
       "  <tbody>\n",
       "    <tr>\n",
       "      <th>2018-08-31 19:00:00</th>\n",
       "      <td>136</td>\n",
       "    </tr>\n",
       "    <tr>\n",
       "      <th>2018-08-31 20:00:00</th>\n",
       "      <td>154</td>\n",
       "    </tr>\n",
       "    <tr>\n",
       "      <th>2018-08-31 21:00:00</th>\n",
       "      <td>159</td>\n",
       "    </tr>\n",
       "    <tr>\n",
       "      <th>2018-08-31 22:00:00</th>\n",
       "      <td>223</td>\n",
       "    </tr>\n",
       "    <tr>\n",
       "      <th>2018-08-31 23:00:00</th>\n",
       "      <td>205</td>\n",
       "    </tr>\n",
       "  </tbody>\n",
       "</table>\n",
       "</div>"
      ],
      "text/plain": [
       "                     num_orders\n",
       "datetime                       \n",
       "2018-08-31 19:00:00         136\n",
       "2018-08-31 20:00:00         154\n",
       "2018-08-31 21:00:00         159\n",
       "2018-08-31 22:00:00         223\n",
       "2018-08-31 23:00:00         205"
      ]
     },
     "execution_count": 6,
     "metadata": {},
     "output_type": "execute_result"
    }
   ],
   "source": [
    "taxi_hourly.tail()"
   ]
  },
  {
   "cell_type": "code",
   "execution_count": 7,
   "metadata": {},
   "outputs": [
    {
     "data": {
      "text/html": [
       "<div>\n",
       "<style scoped>\n",
       "    .dataframe tbody tr th:only-of-type {\n",
       "        vertical-align: middle;\n",
       "    }\n",
       "\n",
       "    .dataframe tbody tr th {\n",
       "        vertical-align: top;\n",
       "    }\n",
       "\n",
       "    .dataframe thead th {\n",
       "        text-align: right;\n",
       "    }\n",
       "</style>\n",
       "<table border=\"1\" class=\"dataframe\">\n",
       "  <thead>\n",
       "    <tr style=\"text-align: right;\">\n",
       "      <th></th>\n",
       "      <th>num_orders</th>\n",
       "    </tr>\n",
       "  </thead>\n",
       "  <tbody>\n",
       "    <tr>\n",
       "      <th>count</th>\n",
       "      <td>4416.000000</td>\n",
       "    </tr>\n",
       "    <tr>\n",
       "      <th>mean</th>\n",
       "      <td>84.422781</td>\n",
       "    </tr>\n",
       "    <tr>\n",
       "      <th>std</th>\n",
       "      <td>45.023853</td>\n",
       "    </tr>\n",
       "    <tr>\n",
       "      <th>min</th>\n",
       "      <td>0.000000</td>\n",
       "    </tr>\n",
       "    <tr>\n",
       "      <th>25%</th>\n",
       "      <td>54.000000</td>\n",
       "    </tr>\n",
       "    <tr>\n",
       "      <th>50%</th>\n",
       "      <td>78.000000</td>\n",
       "    </tr>\n",
       "    <tr>\n",
       "      <th>75%</th>\n",
       "      <td>107.000000</td>\n",
       "    </tr>\n",
       "    <tr>\n",
       "      <th>max</th>\n",
       "      <td>462.000000</td>\n",
       "    </tr>\n",
       "  </tbody>\n",
       "</table>\n",
       "</div>"
      ],
      "text/plain": [
       "        num_orders\n",
       "count  4416.000000\n",
       "mean     84.422781\n",
       "std      45.023853\n",
       "min       0.000000\n",
       "25%      54.000000\n",
       "50%      78.000000\n",
       "75%     107.000000\n",
       "max     462.000000"
      ]
     },
     "execution_count": 7,
     "metadata": {},
     "output_type": "execute_result"
    }
   ],
   "source": [
    "taxi_hourly.describe()"
   ]
  },
  {
   "cell_type": "markdown",
   "metadata": {},
   "source": [
    "По данной таблице можно сказать, что это распределение с положительной асимметрией (смещение вправо):\n",
    "Среднее (84.4) больше медианы (78), а максимум сильно выбивается — 462 заказа.\n",
    "Это указывает на наличие выбросов или пиковых периодов спроса.\n",
    "Стандартное отклонение (45) велико, что говорит о большом разбросе значений.\n",
    "Есть часы, когда вообще не было заказов. Это может быть ночью или в праздничные дни. Такие часы стоит учитывать при обучении.\n",
    "Медианное значение (78) ближе к нижнему квартилю (54), чем к верхнему (107), что также говорит о смещённости распределения."
   ]
  },
  {
   "cell_type": "markdown",
   "metadata": {},
   "source": [
    "<div class=\"alert alert-block alert-success\">\n",
    "<b>Успех:</b> Первичный осмотр проведен, ресемпилнг был сделан верно.\n",
    "</div>\n"
   ]
  },
  {
   "cell_type": "markdown",
   "metadata": {},
   "source": [
    "## Анализ"
   ]
  },
  {
   "cell_type": "code",
   "execution_count": 8,
   "metadata": {},
   "outputs": [
    {
     "data": {
      "image/png": "[encoded data removed]",
      "text/plain": [
       "<Figure size 864x576 with 3 Axes>"
      ]
     },
     "metadata": {
      "needs_background": "light"
     },
     "output_type": "display_data"
    }
   ],
   "source": [
    "# Применим декомпозицию к одномерному ряду\n",
    "decomposed = seasonal_decompose(taxi_hourly['num_orders'], model='additive')\n",
    "\n",
    "# Визуализация в подграфиках\n",
    "plt.figure(figsize=(12, 8))\n",
    "\n",
    "plt.subplot(3, 1, 1)\n",
    "decomposed.trend.plot(title='Тренд')\n",
    "\n",
    "plt.subplot(3, 1, 2)\n",
    "decomposed.seasonal.plot(title='Сезонность')\n",
    "\n",
    "plt.subplot(3, 1, 3)\n",
    "decomposed.resid.plot(title='Остатки')\n",
    "\n",
    "plt.tight_layout()\n",
    "plt.show()"
   ]
  },
  {
   "cell_type": "markdown",
   "metadata": {},
   "source": [
    "- Тренд\n",
    "\n",
    "Видим устойчивый рост числа заказов с марта по конец августа 2018 года.\n",
    "\n",
    "- Сезонность\n",
    "\n",
    "У нас данные за год, из-за чего сложно говорить о сезонности. На графике видна сильная регулярная цикличность, амплитуда около ±50.\n",
    "- Остатки\n",
    "\n",
    "Шум относительно стабильный большую часть времени, но ближе к августу есть выбросы.\n"
   ]
  },
  {
   "cell_type": "markdown",
   "metadata": {},
   "source": [
    "Проверим сезонность по часам для каждого месяца"
   ]
  },
  {
   "cell_type": "code",
   "execution_count": 9,
   "metadata": {},
   "outputs": [
    {
     "data": {
      "image/png": "[encoded data removed]",
      "text/plain": [
       "<Figure size 864x432 with 1 Axes>"
      ]
     },
     "metadata": {
      "needs_background": "light"
     },
     "output_type": "display_data"
    }
   ],
   "source": [
    "df = taxi_hourly.copy()\n",
    "df['month'] = df.index.month\n",
    "df['hour'] = df.index.hour\n",
    "\n",
    "# Среднее количество заказов по каждому часу в каждом месяце\n",
    "pivot_hourly = df.pivot_table(index='hour', columns='month', values='num_orders', aggfunc='mean')\n",
    "\n",
    "# Визуализация\n",
    "pivot_hourly.plot(figsize=(12, 6), grid=True)\n",
    "plt.title('Среднее количество заказов по часам для каждого месяца')\n",
    "plt.xlabel('Час дня')\n",
    "plt.ylabel('Среднее число заказов')\n",
    "plt.legend(title='Месяц', bbox_to_anchor=(1.05, 1), loc='upper left')\n",
    "plt.tight_layout()\n",
    "plt.show()\n"
   ]
  },
  {
   "cell_type": "markdown",
   "metadata": {},
   "source": [
    "По данному графику видим, что наблюдается явная суточная сезонность:\n",
    "меньше всего заказов около 5–6 утра.\n",
    "Больше всего утром (8–10 часов) и вечером (17–20 часов).\n",
    "В августе средние значения заказов выше, чем в остальные месяцы.\n",
    "Возможно, связано с сезоном отпусков или ростом спроса летом.\n",
    "Март–апрель — наиболее «спокойные» месяцы по числу заказов."
   ]
  },
  {
   "cell_type": "markdown",
   "metadata": {},
   "source": [
    "Теперь проверим сезонность по дням недели для каждого месяца"
   ]
  },
  {
   "cell_type": "code",
   "execution_count": 10,
   "metadata": {},
   "outputs": [
    {
     "data": {
      "image/png": "[encoded data removed]",
      "text/plain": [
       "<Figure size 864x432 with 1 Axes>"
      ]
     },
     "metadata": {
      "needs_background": "light"
     },
     "output_type": "display_data"
    }
   ],
   "source": [
    "df['dayofweek'] = df.index.dayofweek\n",
    "pivot_weekly = df.pivot_table(index='dayofweek', columns='month', values='num_orders', aggfunc='mean')\n",
    "\n",
    "pivot_weekly.plot(figsize=(12, 6), grid=True)\n",
    "plt.title('Среднее число заказов по дням недели для каждого месяца')\n",
    "plt.xlabel('День недели')\n",
    "plt.ylabel('Среднее число заказов')\n",
    "plt.legend(title='Месяц', bbox_to_anchor=(1.05, 1), loc='upper left')\n",
    "plt.tight_layout()\n",
    "plt.show()\n"
   ]
  },
  {
   "cell_type": "markdown",
   "metadata": {},
   "source": [
    "По данному графику можно сказать, что в августе больше всего заказов стабильно во все дни недели.\n",
    "Пик в четверг.\n",
    "Понедельник (день 0) — почти во всех месяцах минимальное число заказов (это может быть связано с тем, что после выходных спрос падает).\n",
    "Рост к концу недели (чаще всего четверг-пятница) — особенно заметно в июле и августе.\n",
    "Выходные (5=сб, 6=вс) не всегда лидируют по числу заказов "
   ]
  },
  {
   "cell_type": "markdown",
   "metadata": {},
   "source": [
    "Также изучим недельную сезонность. Для этого сделаем дополнительное ресемплирование по дням и сохраним в отдельную переменную. Для анализа возьмем несколько недель, например с 2018-03 по 2018-05"
   ]
  },
  {
   "cell_type": "code",
   "execution_count": 11,
   "metadata": {},
   "outputs": [
    {
     "data": {
      "image/png": "[encoded data removed]",
      "text/plain": [
       "<Figure size 1008x360 with 1 Axes>"
      ]
     },
     "metadata": {
      "needs_background": "light"
     },
     "output_type": "display_data"
    }
   ],
   "source": [
    "daily_data = taxi_hourly['num_orders'].resample('D').sum()\n",
    "\n",
    "plt.figure(figsize=(14, 5))\n",
    "daily_data['2018-03':'2018-05'].plot()\n",
    "plt.title('Число заказов по дням (март–май 2018)')\n",
    "plt.xlabel('Дата')\n",
    "plt.ylabel('Число заказов')\n",
    "plt.grid(True)\n",
    "plt.show()\n"
   ]
  },
  {
   "cell_type": "markdown",
   "metadata": {},
   "source": [
    "По данному графику заметно явное увеличение числа заказов с марта к маю.\n",
    "Есть признаки недельной сезонности — регулярные \"пики и падения\"."
   ]
  },
  {
   "cell_type": "code",
   "execution_count": 12,
   "metadata": {},
   "outputs": [
    {
     "data": {
      "image/png": "[encoded data removed]",
      "text/plain": [
       "<Figure size 1008x360 with 1 Axes>"
      ]
     },
     "metadata": {
      "needs_background": "light"
     },
     "output_type": "display_data"
    }
   ],
   "source": [
    "plt.figure(figsize=(14, 5))\n",
    "daily_data['2018-06':'2018-08'].plot()\n",
    "plt.title('Число заказов по дням (июль–август 2018)')\n",
    "plt.xlabel('Дата')\n",
    "plt.ylabel('Число заказов')\n",
    "plt.grid(True)\n",
    "plt.show()"
   ]
  },
  {
   "cell_type": "markdown",
   "metadata": {},
   "source": [
    "По данному графику видно, что с июня по август 2018 количество заказов постепенно и стабильно растёт.\n",
    "Также видны локальные колебания (вероятно, недельная сезонность),\n",
    "регулярные спады (возможно, на выходных),\n",
    "но общий тренд — восходящий."
   ]
  },
  {
   "cell_type": "markdown",
   "metadata": {},
   "source": [
    "Также посмотрим на диаграммы рассеяния, чтобы оценить распределение заказов по дням недели"
   ]
  },
  {
   "cell_type": "code",
   "execution_count": 13,
   "metadata": {},
   "outputs": [
    {
     "data": {
      "image/png": "[encoded data removed]",
      "text/plain": [
       "<Figure size 720x360 with 1 Axes>"
      ]
     },
     "metadata": {
      "needs_background": "light"
     },
     "output_type": "display_data"
    }
   ],
   "source": [
    "daily_df = daily_data.to_frame().copy()\n",
    "daily_df['dayofweek'] = daily_df.index.dayofweek\n",
    "\n",
    "plt.figure(figsize=(10, 5))\n",
    "sns.boxplot(x='dayofweek', y='num_orders', data=daily_df, palette='viridis')\n",
    "plt.title('Распределение заказов по дням недели')\n",
    "plt.xlabel('День недели')\n",
    "plt.ylabel('Число заказов')\n",
    "plt.show()\n"
   ]
  },
  {
   "cell_type": "markdown",
   "metadata": {},
   "source": [
    "По данным графикам видим, что понедельники (0) имеют наибольшую медиану числа заказов.\n",
    "Суббота и воскресенье (5 и 6) — наименьшие показатели.\n",
    "Видна недельная сезонность"
   ]
  },
  {
   "cell_type": "code",
   "execution_count": 14,
   "metadata": {},
   "outputs": [
    {
     "data": {
      "image/png": "[encoded data removed]",
      "text/plain": [
       "<Figure size 720x360 with 1 Axes>"
      ]
     },
     "metadata": {
      "needs_background": "light"
     },
     "output_type": "display_data"
    }
   ],
   "source": [
    "day_names = ['Пн', 'Вт', 'Ср', 'Чт', 'Пт', 'Сб', 'Вс']\n",
    "\n",
    "weekly_seasonality = daily_df.groupby('dayofweek')['num_orders'].mean()\n",
    "\n",
    "plt.figure(figsize=(10, 5))\n",
    "plt.plot(day_names, weekly_seasonality, marker='o', linestyle='-')\n",
    "plt.title('Среднее число заказов по дням недели')\n",
    "plt.xlabel('День недели')\n",
    "plt.ylabel('Среднее число заказов')\n",
    "plt.grid(True)\n",
    "plt.show()\n"
   ]
  },
  {
   "cell_type": "markdown",
   "metadata": {},
   "source": [
    "По данному графику можно сказть, что в пятницу и понедельник среднее число заказов выше всего. Меньше всего во вторник и воскресенье"
   ]
  },
  {
   "cell_type": "markdown",
   "metadata": {},
   "source": [
    "Проведем также тест Дики-Фуллера, чтобы оценить стационарность ряда"
   ]
  },
  {
   "cell_type": "code",
   "execution_count": 15,
   "metadata": {},
   "outputs": [
    {
     "name": "stdout",
     "output_type": "stream",
     "text": [
      "ADF Statistic: -3.0689242890279558\n",
      "p-value: 0.028940051402612906\n",
      "Critical Values:\n",
      "   1%: -3.4318\n",
      "   5%: -2.8622\n",
      "   10%: -2.5671\n",
      "Нет единичных корней — ряд стационарен.\n"
     ]
    }
   ],
   "source": [
    "result = adfuller(taxi_hourly)\n",
    "\n",
    "print('ADF Statistic:', result[0])\n",
    "print('p-value:', result[1])\n",
    "print('Critical Values:')\n",
    "for key, value in result[4].items():\n",
    "    print(f'   {key}: {value:.4f}')\n",
    "\n",
    "alpha = 0.05  \n",
    "if result[1] < alpha:\n",
    "    print(\"Нет единичных корней — ряд стационарен.\")\n",
    "else:\n",
    "    print(\"Есть единичные корни — ряд нестационарен.\")"
   ]
  },
  {
   "cell_type": "markdown",
   "metadata": {},
   "source": [
    "Нулевая гипотеза (H0): предполагает, что временной ряд имеет единичный корень, то есть он нестационарный.\n",
    "\n",
    "Альтернативная гипотеза (H1): предполагает, что временной ряд не имеет единичного корня, то есть он является стационарным. \n",
    "\n",
    "У нас p-value < 0.05 (≈ 0.029),\n",
    "ADF-statistic < критического значения на 5% уровне (-3.07 < -2.86),\n",
    "поэтому мы отвергаем нулевую гипотезу и считаем, что ряд стационарен на уровне значимости 5%.\n",
    "\n",
    "Стационарный ряд имеет следующие характеристики:\n",
    "\n",
    "- постоянное среднее,\n",
    "- постоянная дисперсия,\n",
    "- нет устойчивого тренда,\n",
    "- автокорреляция зависит только от лага, а не от времени."
   ]
  },
  {
   "cell_type": "markdown",
   "metadata": {},
   "source": [
    "**Проанализируем целевой признак num_orders**"
   ]
  },
  {
   "cell_type": "code",
   "execution_count": 16,
   "metadata": {},
   "outputs": [
    {
     "data": {
      "image/png": "[encoded data removed]",
      "text/plain": [
       "<Figure size 720x360 with 1 Axes>"
      ]
     },
     "metadata": {
      "needs_background": "light"
     },
     "output_type": "display_data"
    }
   ],
   "source": [
    "plt.figure(figsize=(10, 5))\n",
    "sns.histplot(taxi_hourly['num_orders'], bins=50, kde=True, color='darkgreen')\n",
    "plt.title('Количество заказов')\n",
    "plt.xlabel('Количество заказов')\n",
    "plt.ylabel('Частота')\n",
    "plt.show()"
   ]
  },
  {
   "cell_type": "markdown",
   "metadata": {},
   "source": [
    "По данному графику можно сказать, что форма распределения: асимметричная, правосторонняя (скошено вправо).\n",
    "Центр распределения: максимум наблюдений приходится на диапазон от 60 до 100 заказов в час.\n",
    "Хвост: длинный правый хвост — есть значения выше 200 и даже ближе к 400.\n"
   ]
  },
  {
   "cell_type": "code",
   "execution_count": 17,
   "metadata": {},
   "outputs": [
    {
     "data": {
      "image/png": "[encoded data removed]",
      "text/plain": [
       "<Figure size 720x360 with 1 Axes>"
      ]
     },
     "metadata": {
      "needs_background": "light"
     },
     "output_type": "display_data"
    }
   ],
   "source": [
    "plt.figure(figsize=(10, 5))\n",
    "sns.boxplot(x=taxi_hourly['num_orders'], color='darkgreen')\n",
    "plt.title('Количество заказов')\n",
    "plt.xlabel('Количество заказов')\n",
    "plt.ylabel('Частота')\n",
    "plt.show()"
   ]
  },
  {
   "cell_type": "markdown",
   "metadata": {},
   "source": [
    "Медиана: около 90 заказов.\n",
    "IQR (межквартильный размах): большая часть данных лежит в пределах примерно от 60 до 120 заказов.\n",
    "Выбросы:\n",
    "Очень много выбросов правее верхней границы: всё, что выше около 170–180 заказов.\n",
    "Максимальные выбросы доходят до 400+ заказов в час.\n",
    "\n",
    "Таким образом, целевой признак распределён неравномерно — данные скошены вправо.\n",
    "Есть значительное количество выбросов, но избавляться от них не будем, они могут содержать важную информацию.\n",
    "Медиана < среднего — классическая картина правостороннего распределения."
   ]
  },
  {
   "cell_type": "markdown",
   "metadata": {},
   "source": [
    "<div class=\"alert alert-block alert-danger\">\n",
    "  \n",
    "<b>Ошибка:</b> Проведен грамотный анализ временного ряда, единственное добавлю, что можно еще  изучить недельную сезонность. Удобнее всего ее увидеть, если сделать дополнительное ресемплирование (сохраняем в другую переменную, так как дальше в проекте будем работать с ресемплированием по часам и важно его не потерять) по дням. И  берем несколько недель.\n",
    "\n",
    "\n",
    "\n",
    "\n",
    "       \n",
    "</div>\n",
    "\n",
    "<div class=\"alert alert-block alert-info\">\n",
    "    \n",
    "<b>Совет:</b> Дополнительно  полезно оценивать стационарность ряда с помощью теста Дики-Фуллера: в реальных задачах с временными рядами, в особенности - с финансовыми данными или биржевыми котировками, график не всегда поможет достоверно оценить стационарность ряда, поэтому для оценки стационарности ряда лучше использовать тест Дики — Фуллера (подробнее о нём можно глянуть тут: https://www.statsmodels.org/dev/generated/statsmodels.tsa.stattools.adfuller.html, а вот тут можно глянуть пример реализации:  https://habr.com/ru/articles/540868/) - он даст наиболее точный результат. Результат нужно проверить на уровнях значимости 1% и 5%, чтобы быть уверенным в выводах. Не забудь при применении теста сформулировать гипотезы - нулевая формулируется как гипотеза о нестацинарности ряда, а альтернативная - как гипотеза о стационарности ряда. Также при проведении теста не забывай, что мы сравниваем `p-value` с уровнем значимости `alpha`.\n",
    "</div>\n",
    "\n",
    "\n"
   ]
  },
  {
   "cell_type": "markdown",
   "metadata": {},
   "source": [
    "<div class=\"alert alert-block alert-warning\">\n",
    "<b>Изменения:</b> Добавила анализ недельной сезонности и тест Дики-Фуллера\n",
    "</div>\n"
   ]
  },
  {
   "cell_type": "markdown",
   "metadata": {},
   "source": [
    "\n",
    "\n",
    "<div class=\"alert alert-block alert-success\">\n",
    "    \n",
    "<b>Успех[2]:</b> 👍 Отличное дополнение раздела. Добавлю, что  в строгом смысле наш ряд не является стационарным, потому что имеет не только тренд, но еще и с августа - ускорение (квадратичный тренд). Дисперсия также непостоянна.\n",
    "    \n",
    "Однако есть методы, с помощью которых можно попытаться привести ряд к стационарному. Например, если возьмем разность временного ряда, то уберем тренд. Если применим преодразование Бокса-Кокса, то уберем неоднородность дисперсии. Можно взять разность по сезонности и уберем сезонность.\n",
    "    \n",
    "Наши модели могут предсказывать ряд без всех этих преобразований. Делать преобразования нам не нужно. Можно просто протестировать, приводим ли наш ряд к стационарному. Часто в задачах ML ряд, приводимый к стационарному для простоты называют стационарным. Однако строго по определению он таковым не является.\n",
    "\n",
    "</div>\n"
   ]
  },
  {
   "cell_type": "markdown",
   "metadata": {},
   "source": [
    "## Обучение"
   ]
  },
  {
   "cell_type": "markdown",
   "metadata": {},
   "source": [
    "Перед обучением модедей добавим новые признаки, такие как час, день недели и тд"
   ]
  },
  {
   "cell_type": "code",
   "execution_count": 18,
   "metadata": {},
   "outputs": [
    {
     "data": {
      "text/html": [
       "<div>\n",
       "<style scoped>\n",
       "    .dataframe tbody tr th:only-of-type {\n",
       "        vertical-align: middle;\n",
       "    }\n",
       "\n",
       "    .dataframe tbody tr th {\n",
       "        vertical-align: top;\n",
       "    }\n",
       "\n",
       "    .dataframe thead th {\n",
       "        text-align: right;\n",
       "    }\n",
       "</style>\n",
       "<table border=\"1\" class=\"dataframe\">\n",
       "  <thead>\n",
       "    <tr style=\"text-align: right;\">\n",
       "      <th></th>\n",
       "      <th>num_orders</th>\n",
       "      <th>hour</th>\n",
       "      <th>dayofweek</th>\n",
       "    </tr>\n",
       "    <tr>\n",
       "      <th>datetime</th>\n",
       "      <th></th>\n",
       "      <th></th>\n",
       "      <th></th>\n",
       "    </tr>\n",
       "  </thead>\n",
       "  <tbody>\n",
       "    <tr>\n",
       "      <th>2018-03-01 00:00:00</th>\n",
       "      <td>124</td>\n",
       "      <td>0</td>\n",
       "      <td>3</td>\n",
       "    </tr>\n",
       "    <tr>\n",
       "      <th>2018-03-01 01:00:00</th>\n",
       "      <td>85</td>\n",
       "      <td>1</td>\n",
       "      <td>3</td>\n",
       "    </tr>\n",
       "    <tr>\n",
       "      <th>2018-03-01 02:00:00</th>\n",
       "      <td>71</td>\n",
       "      <td>2</td>\n",
       "      <td>3</td>\n",
       "    </tr>\n",
       "    <tr>\n",
       "      <th>2018-03-01 03:00:00</th>\n",
       "      <td>66</td>\n",
       "      <td>3</td>\n",
       "      <td>3</td>\n",
       "    </tr>\n",
       "    <tr>\n",
       "      <th>2018-03-01 04:00:00</th>\n",
       "      <td>43</td>\n",
       "      <td>4</td>\n",
       "      <td>3</td>\n",
       "    </tr>\n",
       "  </tbody>\n",
       "</table>\n",
       "</div>"
      ],
      "text/plain": [
       "                     num_orders  hour  dayofweek\n",
       "datetime                                        \n",
       "2018-03-01 00:00:00         124     0          3\n",
       "2018-03-01 01:00:00          85     1          3\n",
       "2018-03-01 02:00:00          71     2          3\n",
       "2018-03-01 03:00:00          66     3          3\n",
       "2018-03-01 04:00:00          43     4          3"
      ]
     },
     "execution_count": 18,
     "metadata": {},
     "output_type": "execute_result"
    }
   ],
   "source": [
    "taxi_hourly['hour'] = taxi_hourly.index.hour\n",
    "taxi_hourly['dayofweek'] = taxi_hourly.index.dayofweek\n",
    "taxi_hourly.head()"
   ]
  },
  {
   "cell_type": "markdown",
   "metadata": {},
   "source": [
    "<div class=\"alert alert-block alert-danger\">\n",
    "<b>Ошибка:</b> Наши календарные признаки подчеркивают сезонность. Относительно сезонности признаки идут на один уровень ниже. Если у нас суточная сезонность, то логично создавать признак часа (час одного дня похож на тот же час другого), если недельная - день недели.\n",
    "    \n",
    "Поэтому фактор месяц нам не сильно подходит: у нас в истории всего один март, май.... Да и горизонт прогноза - часы. \n",
    "    \n",
    "\n",
    "А с остальными вроде все отлично\n",
    "\n",
    "\n",
    "</div>      \n",
    "\n"
   ]
  },
  {
   "cell_type": "markdown",
   "metadata": {},
   "source": [
    "<div class=\"alert alert-block alert-warning\">\n",
    "<b>Изменения:</b> Убрала месяц из таблицы\n",
    "</div>"
   ]
  },
  {
   "cell_type": "markdown",
   "metadata": {},
   "source": [
    "\n",
    "\n",
    "<div class=\"alert alert-block alert-success\">\n",
    "    \n",
    "<b>Успех[2]:</b> 👍 Теперь все в порядке"
   ]
  },
  {
   "cell_type": "markdown",
   "metadata": {},
   "source": [
    "Переведем колонки hour, dayofweek, month  в категориальный тип"
   ]
  },
  {
   "cell_type": "code",
   "execution_count": 19,
   "metadata": {},
   "outputs": [
    {
     "name": "stdout",
     "output_type": "stream",
     "text": [
      "<class 'pandas.core.frame.DataFrame'>\n",
      "DatetimeIndex: 4416 entries, 2018-03-01 00:00:00 to 2018-08-31 23:00:00\n",
      "Freq: H\n",
      "Data columns (total 3 columns):\n",
      " #   Column      Non-Null Count  Dtype\n",
      "---  ------      --------------  -----\n",
      " 0   num_orders  4416 non-null   int64\n",
      " 1   hour        4416 non-null   int64\n",
      " 2   dayofweek   4416 non-null   int64\n",
      "dtypes: int64(3)\n",
      "memory usage: 138.0 KB\n"
     ]
    }
   ],
   "source": [
    "taxi_hourly.info()"
   ]
  },
  {
   "cell_type": "markdown",
   "metadata": {},
   "source": [
    "Добавим столбцы со значениями в прошлом (для 1 часа, 24 часа, 7 дней). Это позволит оценить какие показатели были на текущий момент в прошлом."
   ]
  },
  {
   "cell_type": "code",
   "execution_count": 20,
   "metadata": {},
   "outputs": [],
   "source": [
    "for lag in [1, 2]:\n",
    "    taxi_hourly[f'lag_{lag}'] = taxi_hourly['num_orders'].shift(lag)\n",
    "taxi_hourly.dropna(inplace=True)"
   ]
  },
  {
   "cell_type": "markdown",
   "metadata": {},
   "source": [
    "Также добавим скользящее среднее и скользящее стандартное отклонение (на 24 часа). Скользящее среднее за 24 часа позволит оценить общий уровень заказов за сутки. Скользящее стандартное отклонение позволит оценить спрос: если отклонение высокое — спрос нестабилен, если низкое — стабилен. "
   ]
  },
  {
   "cell_type": "code",
   "execution_count": 21,
   "metadata": {},
   "outputs": [],
   "source": [
    "taxi_hourly['rolling_mean'] = taxi_hourly['num_orders'].shift().rolling(24).mean()\n",
    "taxi_hourly['rolling_std'] = taxi_hourly['num_orders'].shift().rolling(24).std()\n",
    "taxi_hourly.dropna(inplace=True)"
   ]
  },
  {
   "cell_type": "markdown",
   "metadata": {},
   "source": [
    "\n",
    "<div class=\"alert alert-block alert-info\">\n",
    "<b>Совет:</b> пару строк про lag и скользящее среднее\n",
    "    \n",
    "Lag: его называют ещё параметром авторегрессии.<br>Допустим lag=1 - учитывает (для удобства будем считать, что продажи собраны по дням) как вчерашние продажи - вчерашние события - влияют на сегодняшние.<br>Lag=2: учитывает как позавчерашние продажи влияютна сегодняшние.....<br><br><br>\n",
    "    \n",
    "По скользящему среднего:<br>\n",
    "Предположим rolling=10 - скользящее среднее. По сути, ищем среднее по 10 точкам, потом следующие 10 точек, и т.д. - это некое подобие тренда будет - средней линии. Т.е. - сглаживание колебаний/выбросов. Это легко увидеть на пределе: допустим длина ряда 100 дней. rolling(100) - это просто одно число - среднее всего ряда. <br><br><br>\n",
    "    \n",
    "    \n",
    "    \n",
    "**Обычно так происходит поиск параметров:**\n",
    "\n",
    "1) узнаём , какая у нас сезонность: в нашем случае их две - часовая и день недели (суточная и недельная)<br>\n",
    "2) Узнайм, какой у нас тренд. пусть будет пока rolling (24) - сутки<br>\n",
    "3) строим модель (без лагов).<br>\n",
    "4) строим график автокорреляции остатков (факт - прогноз). Если видим \"зубья\" на сезонных лагах: 24, 24*7 - то мы плохо жанной моделью учли сезонность.<br>\n",
    "Если высокий \"зуб\"(столбец на графике) на на первом лаге, то ндо вводить в модель фактор lag=1.\n",
    "и перестроить модель. И так по кругу.<br><br>   \n",
    "    \n",
    "Поэтому, если выставить сезонности - час и день недели, то дополнительные факторы желательно начинать с таких значений : лаг =1,2 а скользящее среднее = 24 (среднее за сутки).  В итоге модель будет приемлемая по точности и не много факторов.. а это значит и для бизнеса будет легче доносить решение). Но, если нужно улучшить качество, то в нашем же случае лаг в 24 (день) и 168 (неделя) - тоже имеют смысл.\n",
    "</div>\n",
    "\n"
   ]
  },
  {
   "cell_type": "markdown",
   "metadata": {},
   "source": [
    "Перед нами задача регрессии, тк мы прогнозируем количество заказов. Для обучения будем использовать следующие модели:\n",
    "\n",
    "- Linear Regression\n",
    "- Decision Tree Regressor\n",
    "- Random Forest Regressor\n",
    "- CatBoost\n",
    "- LightGBM"
   ]
  },
  {
   "cell_type": "code",
   "execution_count": 22,
   "metadata": {},
   "outputs": [],
   "source": [
    "X = taxi_hourly.drop('num_orders', axis=1)\n",
    "y = taxi_hourly['num_orders']"
   ]
  },
  {
   "cell_type": "code",
   "execution_count": 23,
   "metadata": {},
   "outputs": [
    {
     "data": {
      "image/png": "[encoded data removed]",
      "text/plain": [
       "<Figure size 720x360 with 1 Axes>"
      ]
     },
     "metadata": {
      "needs_background": "light"
     },
     "output_type": "display_data"
    }
   ],
   "source": [
    "plt.figure(figsize=(10, 5))\n",
    "sns.histplot(taxi_hourly['num_orders'], bins=50, kde=True, color='darkgreen')\n",
    "plt.title('Количество заказов')\n",
    "plt.xlabel('Количество заказов')\n",
    "plt.ylabel('Частота')\n",
    "plt.show()"
   ]
  },
  {
   "cell_type": "markdown",
   "metadata": {},
   "source": [
    "По данному графику видим, что данные распредлены достаточно широко, больше всего значений находится в диапозоне от 50 до 150. В нашем случае целевой признак - непрерывная величина, стратифицирование не потребуется"
   ]
  },
  {
   "cell_type": "code",
   "execution_count": 24,
   "metadata": {},
   "outputs": [],
   "source": [
    "X_train, X_test, y_train, y_test = train_test_split(X, y, test_size=0.1,\n",
    "                                                   shuffle=False)"
   ]
  },
  {
   "cell_type": "code",
   "execution_count": 25,
   "metadata": {},
   "outputs": [
    {
     "name": "stdout",
     "output_type": "stream",
     "text": [
      "Размерность выборки X_train:  (3951, 6)\n",
      "Размерность выборки X_test:  (439, 6)\n",
      "Размерность выборки y_train:  (3951,)\n",
      "Размерность выборки y_test:  (439,)\n"
     ]
    }
   ],
   "source": [
    "print('Размерность выборки X_train: ', X_train.shape)\n",
    "print('Размерность выборки X_test: ', X_test.shape)\n",
    "print('Размерность выборки y_train: ', y_train.shape)\n",
    "print('Размерность выборки y_test: ', y_test.shape)"
   ]
  },
  {
   "cell_type": "code",
   "execution_count": 26,
   "metadata": {},
   "outputs": [
    {
     "data": {
      "text/plain": [
       "[]"
      ]
     },
     "execution_count": 26,
     "metadata": {},
     "output_type": "execute_result"
    }
   ],
   "source": [
    "cat_columns = X_train.select_dtypes(include='category').columns.to_list()\n",
    "num_columns = X_train.select_dtypes(exclude='category').columns.to_list()\n",
    "cat_columns"
   ]
  },
  {
   "cell_type": "code",
   "execution_count": 27,
   "metadata": {},
   "outputs": [],
   "source": [
    "#пайплайн для числовых признаков\n",
    "num_pipe = Pipeline([\n",
    "    ('scaler', StandardScaler())\n",
    "])"
   ]
  },
  {
   "cell_type": "markdown",
   "metadata": {},
   "source": [
    "<div class=\"alert alert-info\">\n",
    "<b>Совет:</b> А зачем нам кодировать данные? Разве они у нас уже не в правильной порядковой форме?\n",
    "</div>"
   ]
  },
  {
   "cell_type": "markdown",
   "metadata": {},
   "source": [
    "<div class=\"alert alert-block alert-warning\">\n",
    "<b>Изменения:</b> Убрала кодирование, оставила только масштабирование числовых признаков\n",
    "</div>"
   ]
  },
  {
   "cell_type": "markdown",
   "metadata": {},
   "source": [
    "\n",
    "\n",
    "<div class=\"alert alert-block alert-success\">\n",
    "    \n",
    "<b>Успех[2]:</b> 👍 ок"
   ]
  },
  {
   "cell_type": "markdown",
   "metadata": {},
   "source": [
    "**Linear Regression**"
   ]
  },
  {
   "cell_type": "code",
   "execution_count": 28,
   "metadata": {},
   "outputs": [],
   "source": [
    "lr_preprocessor = ColumnTransformer([\n",
    "    ('num', num_pipe, num_columns)\n",
    "])"
   ]
  },
  {
   "cell_type": "code",
   "execution_count": 29,
   "metadata": {},
   "outputs": [],
   "source": [
    "# Линейная регрессия\n",
    "lr_pipeline = Pipeline([\n",
    "    ('preprocessing', lr_preprocessor),\n",
    "    ('regressor', LinearRegression())\n",
    "])"
   ]
  },
  {
   "cell_type": "code",
   "execution_count": 30,
   "metadata": {},
   "outputs": [],
   "source": [
    "tscv = TimeSeriesSplit(n_splits=5)"
   ]
  },
  {
   "cell_type": "code",
   "execution_count": 31,
   "metadata": {},
   "outputs": [
    {
     "name": "stdout",
     "output_type": "stream",
     "text": [
      "LinearRegression RMSE: 31.735\n",
      "Среднее время обучения: 0.015 сек\n",
      "Среднее время предсказания: 0.021 сек\n"
     ]
    }
   ],
   "source": [
    "lr_results = cross_validate(\n",
    "    lr_pipeline,\n",
    "    X_train,\n",
    "    y_train,\n",
    "    cv=tscv,\n",
    "    scoring='neg_mean_squared_error',\n",
    "    return_train_score=True,\n",
    "    n_jobs=-1\n",
    ")\n",
    "\n",
    "rmse_lr = np.mean(np.sqrt(-lr_results['test_score']))\n",
    "fit_time_lr = np.mean(lr_results['fit_time'])\n",
    "score_time_lr = np.mean(lr_results['score_time'])\n",
    "\n",
    "print(f\"Среднее время предсказания: {score_time_lr:.3f} сек\")\n",
    "print(f\"Среднее время обучения: {fit_time_lr:.3f} сек\")\n",
    "print(f\"Среднее время предсказания: {score_time_lr:.3f} сек\")"
   ]
  },
  {
   "cell_type": "markdown",
   "metadata": {},
   "source": [
    "\n",
    "\n",
    "<div class=\"alert alert-block alert-danger\">\n",
    "  \n",
    "<b>Ошибка:</b> На трейне нет смысла смотреть оценку качества - так мы анализируем, как модель будет 'запоминать данные', а не обобщать. Нам подходит либо валидационная выборка (не тестовая), либо получить оценку с помощью кросс-валидации\n",
    "       \n",
    "</div>"
   ]
  },
  {
   "cell_type": "markdown",
   "metadata": {},
   "source": [
    "<div class=\"alert alert-block alert-warning\">\n",
    "<b>Изменения:</b> Добавила кросс валидацию и использовала  TimeSeriesSplit в параметре cv\n",
    "</div>"
   ]
  },
  {
   "cell_type": "markdown",
   "metadata": {},
   "source": [
    "\n",
    "\n",
    "<div class=\"alert alert-block alert-success\">\n",
    "    \n",
    "<b>Успех[2]:</b> 👍 "
   ]
  },
  {
   "cell_type": "markdown",
   "metadata": {},
   "source": [
    "**Вывод по модели Linear Regression:**\n",
    "\n",
    "Модель линейной регрессии показала среднюю ошибку RMSE = 31.735, что значительно ниже порогового значения в 48, заданного условием. Это говорит о хорошей точности модели при прогнозировании количества заказов такси.\n",
    "\n",
    "Также модель отличается высокой скоростью работы:\n",
    "\n",
    "Среднее время обучения: 0.043 сек\n",
    "Среднее время предсказания: 0.023 сек\n",
    "Таким образом, линейная регрессия может быть использована как простое, интерпретируемое и эффективное решение для поставленной задачи.\n",
    "\n",
    "\n"
   ]
  },
  {
   "cell_type": "markdown",
   "metadata": {},
   "source": [
    "**Decision Tree Regressor**"
   ]
  },
  {
   "cell_type": "code",
   "execution_count": 32,
   "metadata": {},
   "outputs": [],
   "source": [
    "dt_preprocessor = ColumnTransformer([\n",
    "    ('num', num_pipe, num_columns)\n",
    "])"
   ]
  },
  {
   "cell_type": "code",
   "execution_count": 33,
   "metadata": {},
   "outputs": [],
   "source": [
    "dt_pipeline = Pipeline([\n",
    "    ('preprocessing', dt_preprocessor),\n",
    "    ('model', DecisionTreeRegressor(random_state=42))\n",
    "])"
   ]
  },
  {
   "cell_type": "code",
   "execution_count": 34,
   "metadata": {},
   "outputs": [
    {
     "name": "stdout",
     "output_type": "stream",
     "text": [
      "Fitting 5 folds for each of 36 candidates, totalling 180 fits\n",
      "[CV] END model__max_depth=5, model__min_samples_leaf=1, model__min_samples_split=2; total time=   0.0s\n",
      "[CV] END model__max_depth=5, model__min_samples_leaf=1, model__min_samples_split=2; total time=   0.0s\n",
      "[CV] END model__max_depth=5, model__min_samples_leaf=1, model__min_samples_split=2; total time=   0.0s\n",
      "[CV] END model__max_depth=5, model__min_samples_leaf=1, model__min_samples_split=2; total time=   0.0s\n",
      "[CV] END model__max_depth=5, model__min_samples_leaf=1, model__min_samples_split=2; total time=   0.0s\n",
      "[CV] END model__max_depth=5, model__min_samples_leaf=1, model__min_samples_split=5; total time=   0.0s\n",
      "[CV] END model__max_depth=5, model__min_samples_leaf=1, model__min_samples_split=5; total time=   0.0s\n",
      "[CV] END model__max_depth=5, model__min_samples_leaf=1, model__min_samples_split=5; total time=   0.0s\n",
      "[CV] END model__max_depth=5, model__min_samples_leaf=1, model__min_samples_split=5; total time=   0.0s\n",
      "[CV] END model__max_depth=5, model__min_samples_leaf=1, model__min_samples_split=5; total time=   0.0s\n",
      "[CV] END model__max_depth=5, model__min_samples_leaf=1, model__min_samples_split=10; total time=   0.0s\n",
      "[CV] END model__max_depth=5, model__min_samples_leaf=1, model__min_samples_split=10; total time=   0.0s\n",
      "[CV] END model__max_depth=5, model__min_samples_leaf=1, model__min_samples_split=10; total time=   0.0s\n",
      "[CV] END model__max_depth=5, model__min_samples_leaf=1, model__min_samples_split=10; total time=   0.0s\n",
      "[CV] END model__max_depth=5, model__min_samples_leaf=1, model__min_samples_split=10; total time=   0.0s\n",
      "[CV] END model__max_depth=5, model__min_samples_leaf=2, model__min_samples_split=2; total time=   0.0s\n",
      "[CV] END model__max_depth=5, model__min_samples_leaf=2, model__min_samples_split=2; total time=   0.0s\n",
      "[CV] END model__max_depth=5, model__min_samples_leaf=2, model__min_samples_split=2; total time=   0.0s\n",
      "[CV] END model__max_depth=5, model__min_samples_leaf=2, model__min_samples_split=2; total time=   0.0s\n",
      "[CV] END model__max_depth=5, model__min_samples_leaf=2, model__min_samples_split=2; total time=   0.0s\n",
      "[CV] END model__max_depth=5, model__min_samples_leaf=2, model__min_samples_split=5; total time=   0.0s\n",
      "[CV] END model__max_depth=5, model__min_samples_leaf=2, model__min_samples_split=5; total time=   0.0s\n",
      "[CV] END model__max_depth=5, model__min_samples_leaf=2, model__min_samples_split=5; total time=   0.0s\n",
      "[CV] END model__max_depth=5, model__min_samples_leaf=2, model__min_samples_split=5; total time=   0.0s\n",
      "[CV] END model__max_depth=5, model__min_samples_leaf=2, model__min_samples_split=5; total time=   0.0s\n",
      "[CV] END model__max_depth=5, model__min_samples_leaf=2, model__min_samples_split=10; total time=   0.0s\n",
      "[CV] END model__max_depth=5, model__min_samples_leaf=2, model__min_samples_split=10; total time=   0.0s\n",
      "[CV] END model__max_depth=5, model__min_samples_leaf=2, model__min_samples_split=10; total time=   0.0s\n",
      "[CV] END model__max_depth=5, model__min_samples_leaf=2, model__min_samples_split=10; total time=   0.0s\n",
      "[CV] END model__max_depth=5, model__min_samples_leaf=2, model__min_samples_split=10; total time=   0.0s\n",
      "[CV] END model__max_depth=5, model__min_samples_leaf=5, model__min_samples_split=2; total time=   0.0s\n",
      "[CV] END model__max_depth=5, model__min_samples_leaf=5, model__min_samples_split=2; total time=   0.0s\n",
      "[CV] END model__max_depth=5, model__min_samples_leaf=5, model__min_samples_split=2; total time=   0.0s\n",
      "[CV] END model__max_depth=5, model__min_samples_leaf=5, model__min_samples_split=2; total time=   0.0s\n",
      "[CV] END model__max_depth=5, model__min_samples_leaf=5, model__min_samples_split=2; total time=   0.0s\n",
      "[CV] END model__max_depth=5, model__min_samples_leaf=5, model__min_samples_split=5; total time=   0.0s\n",
      "[CV] END model__max_depth=5, model__min_samples_leaf=5, model__min_samples_split=5; total time=   0.0s\n",
      "[CV] END model__max_depth=5, model__min_samples_leaf=5, model__min_samples_split=5; total time=   0.0s\n",
      "[CV] END model__max_depth=5, model__min_samples_leaf=5, model__min_samples_split=5; total time=   0.0s\n",
      "[CV] END model__max_depth=5, model__min_samples_leaf=5, model__min_samples_split=5; total time=   0.0s\n",
      "[CV] END model__max_depth=5, model__min_samples_leaf=5, model__min_samples_split=10; total time=   0.0s\n",
      "[CV] END model__max_depth=5, model__min_samples_leaf=5, model__min_samples_split=10; total time=   0.0s\n",
      "[CV] END model__max_depth=5, model__min_samples_leaf=5, model__min_samples_split=10; total time=   0.0s\n",
      "[CV] END model__max_depth=5, model__min_samples_leaf=5, model__min_samples_split=10; total time=   0.0s\n",
      "[CV] END model__max_depth=5, model__min_samples_leaf=5, model__min_samples_split=10; total time=   0.0s\n",
      "[CV] END model__max_depth=10, model__min_samples_leaf=1, model__min_samples_split=2; total time=   0.0s\n",
      "[CV] END model__max_depth=10, model__min_samples_leaf=1, model__min_samples_split=2; total time=   0.0s\n",
      "[CV] END model__max_depth=10, model__min_samples_leaf=1, model__min_samples_split=2; total time=   0.0s\n",
      "[CV] END model__max_depth=10, model__min_samples_leaf=1, model__min_samples_split=2; total time=   0.0s\n",
      "[CV] END model__max_depth=10, model__min_samples_leaf=1, model__min_samples_split=2; total time=   0.0s\n",
      "[CV] END model__max_depth=10, model__min_samples_leaf=1, model__min_samples_split=5; total time=   0.0s\n",
      "[CV] END model__max_depth=10, model__min_samples_leaf=1, model__min_samples_split=5; total time=   0.0s\n",
      "[CV] END model__max_depth=10, model__min_samples_leaf=1, model__min_samples_split=5; total time=   0.0s\n",
      "[CV] END model__max_depth=10, model__min_samples_leaf=1, model__min_samples_split=5; total time=   0.0s\n",
      "[CV] END model__max_depth=10, model__min_samples_leaf=1, model__min_samples_split=5; total time=   0.0s\n",
      "[CV] END model__max_depth=10, model__min_samples_leaf=1, model__min_samples_split=10; total time=   0.0s\n",
      "[CV] END model__max_depth=10, model__min_samples_leaf=1, model__min_samples_split=10; total time=   0.0s\n",
      "[CV] END model__max_depth=10, model__min_samples_leaf=1, model__min_samples_split=10; total time=   0.0s\n",
      "[CV] END model__max_depth=10, model__min_samples_leaf=1, model__min_samples_split=10; total time=   0.0s\n",
      "[CV] END model__max_depth=10, model__min_samples_leaf=1, model__min_samples_split=10; total time=   0.0s\n",
      "[CV] END model__max_depth=10, model__min_samples_leaf=2, model__min_samples_split=2; total time=   0.0s\n",
      "[CV] END model__max_depth=10, model__min_samples_leaf=2, model__min_samples_split=2; total time=   0.0s\n",
      "[CV] END model__max_depth=10, model__min_samples_leaf=2, model__min_samples_split=2; total time=   0.0s\n",
      "[CV] END model__max_depth=10, model__min_samples_leaf=2, model__min_samples_split=2; total time=   0.0s\n",
      "[CV] END model__max_depth=10, model__min_samples_leaf=2, model__min_samples_split=2; total time=   0.0s\n",
      "[CV] END model__max_depth=10, model__min_samples_leaf=2, model__min_samples_split=5; total time=   0.0s\n",
      "[CV] END model__max_depth=10, model__min_samples_leaf=2, model__min_samples_split=5; total time=   0.0s\n",
      "[CV] END model__max_depth=10, model__min_samples_leaf=2, model__min_samples_split=5; total time=   0.0s\n",
      "[CV] END model__max_depth=10, model__min_samples_leaf=2, model__min_samples_split=5; total time=   0.0s\n",
      "[CV] END model__max_depth=10, model__min_samples_leaf=2, model__min_samples_split=5; total time=   0.0s\n",
      "[CV] END model__max_depth=10, model__min_samples_leaf=2, model__min_samples_split=10; total time=   0.0s\n",
      "[CV] END model__max_depth=10, model__min_samples_leaf=2, model__min_samples_split=10; total time=   0.0s\n",
      "[CV] END model__max_depth=10, model__min_samples_leaf=2, model__min_samples_split=10; total time=   0.0s\n",
      "[CV] END model__max_depth=10, model__min_samples_leaf=2, model__min_samples_split=10; total time=   0.0s\n",
      "[CV] END model__max_depth=10, model__min_samples_leaf=2, model__min_samples_split=10; total time=   0.0s\n",
      "[CV] END model__max_depth=10, model__min_samples_leaf=5, model__min_samples_split=2; total time=   0.0s\n",
      "[CV] END model__max_depth=10, model__min_samples_leaf=5, model__min_samples_split=2; total time=   0.0s\n",
      "[CV] END model__max_depth=10, model__min_samples_leaf=5, model__min_samples_split=2; total time=   0.0s\n",
      "[CV] END model__max_depth=10, model__min_samples_leaf=5, model__min_samples_split=2; total time=   0.0s\n",
      "[CV] END model__max_depth=10, model__min_samples_leaf=5, model__min_samples_split=2; total time=   0.0s\n",
      "[CV] END model__max_depth=10, model__min_samples_leaf=5, model__min_samples_split=5; total time=   0.0s\n",
      "[CV] END model__max_depth=10, model__min_samples_leaf=5, model__min_samples_split=5; total time=   0.0s\n",
      "[CV] END model__max_depth=10, model__min_samples_leaf=5, model__min_samples_split=5; total time=   0.0s\n",
      "[CV] END model__max_depth=10, model__min_samples_leaf=5, model__min_samples_split=5; total time=   0.0s\n",
      "[CV] END model__max_depth=10, model__min_samples_leaf=5, model__min_samples_split=5; total time=   0.0s\n",
      "[CV] END model__max_depth=10, model__min_samples_leaf=5, model__min_samples_split=10; total time=   0.0s\n",
      "[CV] END model__max_depth=10, model__min_samples_leaf=5, model__min_samples_split=10; total time=   0.0s\n",
      "[CV] END model__max_depth=10, model__min_samples_leaf=5, model__min_samples_split=10; total time=   0.0s\n",
      "[CV] END model__max_depth=10, model__min_samples_leaf=5, model__min_samples_split=10; total time=   0.0s\n",
      "[CV] END model__max_depth=10, model__min_samples_leaf=5, model__min_samples_split=10; total time=   0.0s\n",
      "[CV] END model__max_depth=20, model__min_samples_leaf=1, model__min_samples_split=2; total time=   0.0s\n",
      "[CV] END model__max_depth=20, model__min_samples_leaf=1, model__min_samples_split=2; total time=   0.0s\n",
      "[CV] END model__max_depth=20, model__min_samples_leaf=1, model__min_samples_split=2; total time=   0.0s\n",
      "[CV] END model__max_depth=20, model__min_samples_leaf=1, model__min_samples_split=2; total time=   0.0s\n",
      "[CV] END model__max_depth=20, model__min_samples_leaf=1, model__min_samples_split=2; total time=   0.0s\n",
      "[CV] END model__max_depth=20, model__min_samples_leaf=1, model__min_samples_split=5; total time=   0.0s\n",
      "[CV] END model__max_depth=20, model__min_samples_leaf=1, model__min_samples_split=5; total time=   0.0s\n",
      "[CV] END model__max_depth=20, model__min_samples_leaf=1, model__min_samples_split=5; total time=   0.0s\n",
      "[CV] END model__max_depth=20, model__min_samples_leaf=1, model__min_samples_split=5; total time=   0.0s\n",
      "[CV] END model__max_depth=20, model__min_samples_leaf=1, model__min_samples_split=5; total time=   0.0s\n",
      "[CV] END model__max_depth=20, model__min_samples_leaf=1, model__min_samples_split=10; total time=   0.0s\n",
      "[CV] END model__max_depth=20, model__min_samples_leaf=1, model__min_samples_split=10; total time=   0.0s\n",
      "[CV] END model__max_depth=20, model__min_samples_leaf=1, model__min_samples_split=10; total time=   0.0s\n",
      "[CV] END model__max_depth=20, model__min_samples_leaf=1, model__min_samples_split=10; total time=   0.0s\n",
      "[CV] END model__max_depth=20, model__min_samples_leaf=1, model__min_samples_split=10; total time=   0.0s\n",
      "[CV] END model__max_depth=20, model__min_samples_leaf=2, model__min_samples_split=2; total time=   0.0s\n",
      "[CV] END model__max_depth=20, model__min_samples_leaf=2, model__min_samples_split=2; total time=   0.0s\n",
      "[CV] END model__max_depth=20, model__min_samples_leaf=2, model__min_samples_split=2; total time=   0.0s\n",
      "[CV] END model__max_depth=20, model__min_samples_leaf=2, model__min_samples_split=2; total time=   0.0s\n",
      "[CV] END model__max_depth=20, model__min_samples_leaf=2, model__min_samples_split=2; total time=   0.0s\n",
      "[CV] END model__max_depth=20, model__min_samples_leaf=2, model__min_samples_split=5; total time=   0.0s\n",
      "[CV] END model__max_depth=20, model__min_samples_leaf=2, model__min_samples_split=5; total time=   0.0s\n",
      "[CV] END model__max_depth=20, model__min_samples_leaf=2, model__min_samples_split=5; total time=   0.0s\n",
      "[CV] END model__max_depth=20, model__min_samples_leaf=2, model__min_samples_split=5; total time=   0.0s\n",
      "[CV] END model__max_depth=20, model__min_samples_leaf=2, model__min_samples_split=5; total time=   0.0s\n",
      "[CV] END model__max_depth=20, model__min_samples_leaf=2, model__min_samples_split=10; total time=   0.0s\n",
      "[CV] END model__max_depth=20, model__min_samples_leaf=2, model__min_samples_split=10; total time=   0.0s\n",
      "[CV] END model__max_depth=20, model__min_samples_leaf=2, model__min_samples_split=10; total time=   0.0s\n",
      "[CV] END model__max_depth=20, model__min_samples_leaf=2, model__min_samples_split=10; total time=   0.0s\n",
      "[CV] END model__max_depth=20, model__min_samples_leaf=2, model__min_samples_split=10; total time=   0.0s\n",
      "[CV] END model__max_depth=20, model__min_samples_leaf=5, model__min_samples_split=2; total time=   0.0s\n",
      "[CV] END model__max_depth=20, model__min_samples_leaf=5, model__min_samples_split=2; total time=   0.0s\n",
      "[CV] END model__max_depth=20, model__min_samples_leaf=5, model__min_samples_split=2; total time=   0.0s\n",
      "[CV] END model__max_depth=20, model__min_samples_leaf=5, model__min_samples_split=2; total time=   0.0s\n",
      "[CV] END model__max_depth=20, model__min_samples_leaf=5, model__min_samples_split=2; total time=   0.0s\n",
      "[CV] END model__max_depth=20, model__min_samples_leaf=5, model__min_samples_split=5; total time=   0.0s\n",
      "[CV] END model__max_depth=20, model__min_samples_leaf=5, model__min_samples_split=5; total time=   0.0s\n",
      "[CV] END model__max_depth=20, model__min_samples_leaf=5, model__min_samples_split=5; total time=   0.0s\n",
      "[CV] END model__max_depth=20, model__min_samples_leaf=5, model__min_samples_split=5; total time=   0.0s\n",
      "[CV] END model__max_depth=20, model__min_samples_leaf=5, model__min_samples_split=5; total time=   0.0s\n",
      "[CV] END model__max_depth=20, model__min_samples_leaf=5, model__min_samples_split=10; total time=   0.0s\n",
      "[CV] END model__max_depth=20, model__min_samples_leaf=5, model__min_samples_split=10; total time=   0.0s\n",
      "[CV] END model__max_depth=20, model__min_samples_leaf=5, model__min_samples_split=10; total time=   0.0s\n",
      "[CV] END model__max_depth=20, model__min_samples_leaf=5, model__min_samples_split=10; total time=   0.0s\n",
      "[CV] END model__max_depth=20, model__min_samples_leaf=5, model__min_samples_split=10; total time=   0.0s\n",
      "[CV] END model__max_depth=None, model__min_samples_leaf=1, model__min_samples_split=2; total time=   0.0s\n",
      "[CV] END model__max_depth=None, model__min_samples_leaf=1, model__min_samples_split=2; total time=   0.0s\n",
      "[CV] END model__max_depth=None, model__min_samples_leaf=1, model__min_samples_split=2; total time=   0.0s\n",
      "[CV] END model__max_depth=None, model__min_samples_leaf=1, model__min_samples_split=2; total time=   0.0s\n",
      "[CV] END model__max_depth=None, model__min_samples_leaf=1, model__min_samples_split=2; total time=   0.0s\n",
      "[CV] END model__max_depth=None, model__min_samples_leaf=1, model__min_samples_split=5; total time=   0.0s\n",
      "[CV] END model__max_depth=None, model__min_samples_leaf=1, model__min_samples_split=5; total time=   0.0s\n",
      "[CV] END model__max_depth=None, model__min_samples_leaf=1, model__min_samples_split=5; total time=   0.0s\n",
      "[CV] END model__max_depth=None, model__min_samples_leaf=1, model__min_samples_split=5; total time=   0.0s\n",
      "[CV] END model__max_depth=None, model__min_samples_leaf=1, model__min_samples_split=5; total time=   0.0s\n",
      "[CV] END model__max_depth=None, model__min_samples_leaf=1, model__min_samples_split=10; total time=   0.0s\n",
      "[CV] END model__max_depth=None, model__min_samples_leaf=1, model__min_samples_split=10; total time=   0.0s\n",
      "[CV] END model__max_depth=None, model__min_samples_leaf=1, model__min_samples_split=10; total time=   0.0s\n",
      "[CV] END model__max_depth=None, model__min_samples_leaf=1, model__min_samples_split=10; total time=   0.0s\n",
      "[CV] END model__max_depth=None, model__min_samples_leaf=1, model__min_samples_split=10; total time=   0.0s\n",
      "[CV] END model__max_depth=None, model__min_samples_leaf=2, model__min_samples_split=2; total time=   0.0s\n",
      "[CV] END model__max_depth=None, model__min_samples_leaf=2, model__min_samples_split=2; total time=   0.0s\n",
      "[CV] END model__max_depth=None, model__min_samples_leaf=2, model__min_samples_split=2; total time=   0.0s\n",
      "[CV] END model__max_depth=None, model__min_samples_leaf=2, model__min_samples_split=2; total time=   0.0s\n",
      "[CV] END model__max_depth=None, model__min_samples_leaf=2, model__min_samples_split=2; total time=   0.0s\n",
      "[CV] END model__max_depth=None, model__min_samples_leaf=2, model__min_samples_split=5; total time=   0.0s\n",
      "[CV] END model__max_depth=None, model__min_samples_leaf=2, model__min_samples_split=5; total time=   0.0s\n",
      "[CV] END model__max_depth=None, model__min_samples_leaf=2, model__min_samples_split=5; total time=   0.0s\n",
      "[CV] END model__max_depth=None, model__min_samples_leaf=2, model__min_samples_split=5; total time=   0.0s\n",
      "[CV] END model__max_depth=None, model__min_samples_leaf=2, model__min_samples_split=5; total time=   0.0s\n",
      "[CV] END model__max_depth=None, model__min_samples_leaf=2, model__min_samples_split=10; total time=   0.0s\n",
      "[CV] END model__max_depth=None, model__min_samples_leaf=2, model__min_samples_split=10; total time=   0.0s\n",
      "[CV] END model__max_depth=None, model__min_samples_leaf=2, model__min_samples_split=10; total time=   0.0s\n",
      "[CV] END model__max_depth=None, model__min_samples_leaf=2, model__min_samples_split=10; total time=   0.0s\n",
      "[CV] END model__max_depth=None, model__min_samples_leaf=2, model__min_samples_split=10; total time=   0.0s\n",
      "[CV] END model__max_depth=None, model__min_samples_leaf=5, model__min_samples_split=2; total time=   0.0s\n",
      "[CV] END model__max_depth=None, model__min_samples_leaf=5, model__min_samples_split=2; total time=   0.0s\n",
      "[CV] END model__max_depth=None, model__min_samples_leaf=5, model__min_samples_split=2; total time=   0.0s\n",
      "[CV] END model__max_depth=None, model__min_samples_leaf=5, model__min_samples_split=2; total time=   0.0s\n",
      "[CV] END model__max_depth=None, model__min_samples_leaf=5, model__min_samples_split=2; total time=   0.0s\n",
      "[CV] END model__max_depth=None, model__min_samples_leaf=5, model__min_samples_split=5; total time=   0.0s\n",
      "[CV] END model__max_depth=None, model__min_samples_leaf=5, model__min_samples_split=5; total time=   0.0s\n",
      "[CV] END model__max_depth=None, model__min_samples_leaf=5, model__min_samples_split=5; total time=   0.0s\n",
      "[CV] END model__max_depth=None, model__min_samples_leaf=5, model__min_samples_split=5; total time=   0.0s\n",
      "[CV] END model__max_depth=None, model__min_samples_leaf=5, model__min_samples_split=5; total time=   0.0s\n",
      "[CV] END model__max_depth=None, model__min_samples_leaf=5, model__min_samples_split=10; total time=   0.0s\n",
      "[CV] END model__max_depth=None, model__min_samples_leaf=5, model__min_samples_split=10; total time=   0.0s\n",
      "[CV] END model__max_depth=None, model__min_samples_leaf=5, model__min_samples_split=10; total time=   0.0s\n",
      "[CV] END model__max_depth=None, model__min_samples_leaf=5, model__min_samples_split=10; total time=   0.0s\n",
      "[CV] END model__max_depth=None, model__min_samples_leaf=5, model__min_samples_split=10; total time=   0.0s\n",
      "Лучшие гиперпараметры: {'model__max_depth': 10, 'model__min_samples_leaf': 5, 'model__min_samples_split': 2}\n",
      "Лучший RMSE (CV): 28.374\n",
      "Время обучения лучшей модели (refit_time_): 0.02 секунд\n"
     ]
    }
   ],
   "source": [
    "param_grid = {\n",
    "    \"model__max_depth\": [5, 10, 20, None],\n",
    "    \"model__min_samples_split\": [2, 5, 10],\n",
    "    \"model__min_samples_leaf\": [1, 2, 5]\n",
    "}\n",
    "\n",
    "grid_search = GridSearchCV(\n",
    "    estimator=dt_pipeline,\n",
    "    param_grid=param_grid,\n",
    "    cv=tscv,\n",
    "    scoring=\"neg_mean_squared_error\",\n",
    "    n_jobs=-1,\n",
    "    verbose=2\n",
    ")\n",
    "\n",
    "grid_search.fit(X_train, y_train)\n",
    "\n",
    "# Лучшие параметры\n",
    "print(\"Лучшие гиперпараметры:\", grid_search.best_params_)\n",
    "\n",
    "# RMSE по кросс-валидации\n",
    "dt_rmse = (-grid_search.best_score_) ** 0.5\n",
    "print(f\"Лучший RMSE (CV): {dt_rmse:.3f}\")\n",
    "\n",
    "# время обучения финальной лучшей модели на всех данных\n",
    "dt_refit_time = grid_search.refit_time_\n",
    "print(f\"Время обучения лучшей модели (refit_time_): {dt_refit_time:.2f} секунд\")\n",
    "\n"
   ]
  },
  {
   "cell_type": "markdown",
   "metadata": {},
   "source": [
    "\n",
    "\n",
    "\n",
    "<div class=\"alert alert-block alert-danger\">\n",
    "<b>Ошибка:</b> При работе с временными рядами нельзя использовать стандартную кросс-валидацию, так как в определенный момент тренировочная выборка окажется позже валидационной. Для решения этой проблемы стоит использовать <a href=\"https://scikit-learn.org/stable/modules/generated/sklearn.model_selection.TimeSeriesSplit.html\">TimeSeriesSplit</a>. Объект этого типа можно передать в параметр cv в метод основанный на кросс-валидации.\n",
    "    \n",
    "Исправь это для всех моделей\n",
    "</div>\n"
   ]
  },
  {
   "cell_type": "markdown",
   "metadata": {},
   "source": [
    "\n",
    "\n",
    "<div class=\"alert alert-block alert-success\">\n",
    "    \n",
    "<b>Успех[2]:</b> 👍 "
   ]
  },
  {
   "cell_type": "markdown",
   "metadata": {},
   "source": [
    "**Вывод по модели Decision Tree:**\n",
    "\n",
    "После подбора гиперпараметров с использованием GridSearchCV и временной кросс-валидации (TimeSeriesSplit), модель дерева решений показала лучший RMSE (CV) = 28.374, что улучшает результат по сравнению с линейной регрессией (30.632).\n",
    "\n",
    "Наилучшие параметры модели:\n",
    "\n",
    "max_depth = 10\n",
    "min_samples_split = 2\n",
    "min_samples_leaf = 5\n",
    "Модель обучается очень быстро —  0.02 секунды, что делает её эффективной как по точности, так и по скорости.\n",
    "\n",
    "Таким образом, дерево решений оказалось более точным и остаётся интерпретируемым, что делает его подходящим выбором для данной задачи временного прогнозирования.\n"
   ]
  },
  {
   "cell_type": "markdown",
   "metadata": {},
   "source": [
    "**Random forest regressor**"
   ]
  },
  {
   "cell_type": "code",
   "execution_count": 35,
   "metadata": {},
   "outputs": [],
   "source": [
    "rf_preprocessor = ColumnTransformer([\n",
    "    ('num', num_pipe, num_columns)\n",
    "])"
   ]
  },
  {
   "cell_type": "code",
   "execution_count": 36,
   "metadata": {},
   "outputs": [],
   "source": [
    "rf_pipeline = Pipeline([\n",
    "    ('preprocessing', rf_preprocessor),\n",
    "    ('model', RandomForestRegressor(random_state=42))\n",
    "])"
   ]
  },
  {
   "cell_type": "code",
   "execution_count": 37,
   "metadata": {
    "scrolled": true
   },
   "outputs": [
    {
     "name": "stdout",
     "output_type": "stream",
     "text": [
      "Fitting 5 folds for each of 36 candidates, totalling 180 fits\n",
      "[CV] END model__max_depth=5, model__min_samples_leaf=1, model__min_samples_split=2; total time=   0.2s\n",
      "[CV] END model__max_depth=5, model__min_samples_leaf=1, model__min_samples_split=2; total time=   0.4s\n",
      "[CV] END model__max_depth=5, model__min_samples_leaf=1, model__min_samples_split=2; total time=   0.5s\n",
      "[CV] END model__max_depth=5, model__min_samples_leaf=1, model__min_samples_split=2; total time=   0.5s\n",
      "[CV] END model__max_depth=5, model__min_samples_leaf=1, model__min_samples_split=2; total time=   0.6s\n",
      "[CV] END model__max_depth=5, model__min_samples_leaf=1, model__min_samples_split=5; total time=   0.2s\n",
      "[CV] END model__max_depth=5, model__min_samples_leaf=1, model__min_samples_split=5; total time=   0.3s\n",
      "[CV] END model__max_depth=5, model__min_samples_leaf=1, model__min_samples_split=5; total time=   0.4s\n",
      "[CV] END model__max_depth=5, model__min_samples_leaf=1, model__min_samples_split=5; total time=   0.5s\n",
      "[CV] END model__max_depth=5, model__min_samples_leaf=1, model__min_samples_split=5; total time=   0.6s\n",
      "[CV] END model__max_depth=5, model__min_samples_leaf=1, model__min_samples_split=10; total time=   0.2s\n",
      "[CV] END model__max_depth=5, model__min_samples_leaf=1, model__min_samples_split=10; total time=   0.3s\n",
      "[CV] END model__max_depth=5, model__min_samples_leaf=1, model__min_samples_split=10; total time=   0.4s\n",
      "[CV] END model__max_depth=5, model__min_samples_leaf=1, model__min_samples_split=10; total time=   0.5s\n",
      "[CV] END model__max_depth=5, model__min_samples_leaf=1, model__min_samples_split=10; total time=   0.6s\n",
      "[CV] END model__max_depth=5, model__min_samples_leaf=2, model__min_samples_split=2; total time=   0.3s\n",
      "[CV] END model__max_depth=5, model__min_samples_leaf=2, model__min_samples_split=2; total time=   0.3s\n",
      "[CV] END model__max_depth=5, model__min_samples_leaf=2, model__min_samples_split=2; total time=   0.4s\n",
      "[CV] END model__max_depth=5, model__min_samples_leaf=2, model__min_samples_split=2; total time=   0.5s\n",
      "[CV] END model__max_depth=5, model__min_samples_leaf=2, model__min_samples_split=2; total time=   0.6s\n",
      "[CV] END model__max_depth=5, model__min_samples_leaf=2, model__min_samples_split=5; total time=   0.3s\n",
      "[CV] END model__max_depth=5, model__min_samples_leaf=2, model__min_samples_split=5; total time=   0.3s\n",
      "[CV] END model__max_depth=5, model__min_samples_leaf=2, model__min_samples_split=5; total time=   0.4s\n",
      "[CV] END model__max_depth=5, model__min_samples_leaf=2, model__min_samples_split=5; total time=   0.5s\n",
      "[CV] END model__max_depth=5, model__min_samples_leaf=2, model__min_samples_split=5; total time=   0.6s\n",
      "[CV] END model__max_depth=5, model__min_samples_leaf=2, model__min_samples_split=10; total time=   0.2s\n",
      "[CV] END model__max_depth=5, model__min_samples_leaf=2, model__min_samples_split=10; total time=   0.3s\n",
      "[CV] END model__max_depth=5, model__min_samples_leaf=2, model__min_samples_split=10; total time=   0.4s\n",
      "[CV] END model__max_depth=5, model__min_samples_leaf=2, model__min_samples_split=10; total time=   0.5s\n",
      "[CV] END model__max_depth=5, model__min_samples_leaf=2, model__min_samples_split=10; total time=   0.6s\n",
      "[CV] END model__max_depth=5, model__min_samples_leaf=5, model__min_samples_split=2; total time=   0.2s\n",
      "[CV] END model__max_depth=5, model__min_samples_leaf=5, model__min_samples_split=2; total time=   0.3s\n",
      "[CV] END model__max_depth=5, model__min_samples_leaf=5, model__min_samples_split=2; total time=   0.4s\n",
      "[CV] END model__max_depth=5, model__min_samples_leaf=5, model__min_samples_split=2; total time=   0.5s\n",
      "[CV] END model__max_depth=5, model__min_samples_leaf=5, model__min_samples_split=2; total time=   0.6s\n",
      "[CV] END model__max_depth=5, model__min_samples_leaf=5, model__min_samples_split=5; total time=   0.2s\n",
      "[CV] END model__max_depth=5, model__min_samples_leaf=5, model__min_samples_split=5; total time=   0.3s\n",
      "[CV] END model__max_depth=5, model__min_samples_leaf=5, model__min_samples_split=5; total time=   0.4s\n",
      "[CV] END model__max_depth=5, model__min_samples_leaf=5, model__min_samples_split=5; total time=   0.5s\n",
      "[CV] END model__max_depth=5, model__min_samples_leaf=5, model__min_samples_split=5; total time=   0.6s\n",
      "[CV] END model__max_depth=5, model__min_samples_leaf=5, model__min_samples_split=10; total time=   0.2s\n",
      "[CV] END model__max_depth=5, model__min_samples_leaf=5, model__min_samples_split=10; total time=   0.3s\n",
      "[CV] END model__max_depth=5, model__min_samples_leaf=5, model__min_samples_split=10; total time=   0.4s\n",
      "[CV] END model__max_depth=5, model__min_samples_leaf=5, model__min_samples_split=10; total time=   0.5s\n",
      "[CV] END model__max_depth=5, model__min_samples_leaf=5, model__min_samples_split=10; total time=   0.6s\n",
      "[CV] END model__max_depth=10, model__min_samples_leaf=1, model__min_samples_split=2; total time=   0.4s\n",
      "[CV] END model__max_depth=10, model__min_samples_leaf=1, model__min_samples_split=2; total time=   0.5s\n",
      "[CV] END model__max_depth=10, model__min_samples_leaf=1, model__min_samples_split=2; total time=   0.8s\n",
      "[CV] END model__max_depth=10, model__min_samples_leaf=1, model__min_samples_split=2; total time=   0.9s\n",
      "[CV] END model__max_depth=10, model__min_samples_leaf=1, model__min_samples_split=2; total time=   1.1s\n",
      "[CV] END model__max_depth=10, model__min_samples_leaf=1, model__min_samples_split=5; total time=   0.3s\n",
      "[CV] END model__max_depth=10, model__min_samples_leaf=1, model__min_samples_split=5; total time=   0.5s\n",
      "[CV] END model__max_depth=10, model__min_samples_leaf=1, model__min_samples_split=5; total time=   0.7s\n",
      "[CV] END model__max_depth=10, model__min_samples_leaf=1, model__min_samples_split=5; total time=   0.9s\n",
      "[CV] END model__max_depth=10, model__min_samples_leaf=1, model__min_samples_split=5; total time=   1.1s\n",
      "[CV] END model__max_depth=10, model__min_samples_leaf=1, model__min_samples_split=10; total time=   0.3s\n",
      "[CV] END model__max_depth=10, model__min_samples_leaf=1, model__min_samples_split=10; total time=   0.5s\n",
      "[CV] END model__max_depth=10, model__min_samples_leaf=1, model__min_samples_split=10; total time=   0.7s\n",
      "[CV] END model__max_depth=10, model__min_samples_leaf=1, model__min_samples_split=10; total time=   0.8s\n",
      "[CV] END model__max_depth=10, model__min_samples_leaf=1, model__min_samples_split=10; total time=   1.0s\n",
      "[CV] END model__max_depth=10, model__min_samples_leaf=2, model__min_samples_split=2; total time=   0.3s\n",
      "[CV] END model__max_depth=10, model__min_samples_leaf=2, model__min_samples_split=2; total time=   0.5s\n",
      "[CV] END model__max_depth=10, model__min_samples_leaf=2, model__min_samples_split=2; total time=   0.7s\n",
      "[CV] END model__max_depth=10, model__min_samples_leaf=2, model__min_samples_split=2; total time=   0.9s\n",
      "[CV] END model__max_depth=10, model__min_samples_leaf=2, model__min_samples_split=2; total time=   1.0s\n",
      "[CV] END model__max_depth=10, model__min_samples_leaf=2, model__min_samples_split=5; total time=   0.3s\n",
      "[CV] END model__max_depth=10, model__min_samples_leaf=2, model__min_samples_split=5; total time=   0.5s\n",
      "[CV] END model__max_depth=10, model__min_samples_leaf=2, model__min_samples_split=5; total time=   0.7s\n",
      "[CV] END model__max_depth=10, model__min_samples_leaf=2, model__min_samples_split=5; total time=   0.9s\n",
      "[CV] END model__max_depth=10, model__min_samples_leaf=2, model__min_samples_split=5; total time=   1.1s\n",
      "[CV] END model__max_depth=10, model__min_samples_leaf=2, model__min_samples_split=10; total time=   0.3s\n",
      "[CV] END model__max_depth=10, model__min_samples_leaf=2, model__min_samples_split=10; total time=   0.5s\n",
      "[CV] END model__max_depth=10, model__min_samples_leaf=2, model__min_samples_split=10; total time=   0.7s\n",
      "[CV] END model__max_depth=10, model__min_samples_leaf=2, model__min_samples_split=10; total time=   0.8s\n",
      "[CV] END model__max_depth=10, model__min_samples_leaf=2, model__min_samples_split=10; total time=   1.0s\n",
      "[CV] END model__max_depth=10, model__min_samples_leaf=5, model__min_samples_split=2; total time=   0.3s\n",
      "[CV] END model__max_depth=10, model__min_samples_leaf=5, model__min_samples_split=2; total time=   0.5s\n",
      "[CV] END model__max_depth=10, model__min_samples_leaf=5, model__min_samples_split=2; total time=   0.6s\n",
      "[CV] END model__max_depth=10, model__min_samples_leaf=5, model__min_samples_split=2; total time=   0.8s\n",
      "[CV] END model__max_depth=10, model__min_samples_leaf=5, model__min_samples_split=2; total time=   0.9s\n",
      "[CV] END model__max_depth=10, model__min_samples_leaf=5, model__min_samples_split=5; total time=   0.3s\n",
      "[CV] END model__max_depth=10, model__min_samples_leaf=5, model__min_samples_split=5; total time=   0.4s\n",
      "[CV] END model__max_depth=10, model__min_samples_leaf=5, model__min_samples_split=5; total time=   0.6s\n",
      "[CV] END model__max_depth=10, model__min_samples_leaf=5, model__min_samples_split=5; total time=   0.8s\n",
      "[CV] END model__max_depth=10, model__min_samples_leaf=5, model__min_samples_split=5; total time=   1.0s\n",
      "[CV] END model__max_depth=10, model__min_samples_leaf=5, model__min_samples_split=10; total time=   0.3s\n",
      "[CV] END model__max_depth=10, model__min_samples_leaf=5, model__min_samples_split=10; total time=   0.4s\n",
      "[CV] END model__max_depth=10, model__min_samples_leaf=5, model__min_samples_split=10; total time=   0.6s\n",
      "[CV] END model__max_depth=10, model__min_samples_leaf=5, model__min_samples_split=10; total time=   0.8s\n",
      "[CV] END model__max_depth=10, model__min_samples_leaf=5, model__min_samples_split=10; total time=   1.0s\n",
      "[CV] END model__max_depth=20, model__min_samples_leaf=1, model__min_samples_split=2; total time=   0.4s\n",
      "[CV] END model__max_depth=20, model__min_samples_leaf=1, model__min_samples_split=2; total time=   0.6s\n",
      "[CV] END model__max_depth=20, model__min_samples_leaf=1, model__min_samples_split=2; total time=   1.0s\n",
      "[CV] END model__max_depth=20, model__min_samples_leaf=1, model__min_samples_split=2; total time=   1.3s\n",
      "[CV] END model__max_depth=20, model__min_samples_leaf=1, model__min_samples_split=2; total time=   1.6s\n",
      "[CV] END model__max_depth=20, model__min_samples_leaf=1, model__min_samples_split=5; total time=   0.3s\n",
      "[CV] END model__max_depth=20, model__min_samples_leaf=1, model__min_samples_split=5; total time=   0.6s\n",
      "[CV] END model__max_depth=20, model__min_samples_leaf=1, model__min_samples_split=5; total time=   0.9s\n",
      "[CV] END model__max_depth=20, model__min_samples_leaf=1, model__min_samples_split=5; total time=   1.1s\n",
      "[CV] END model__max_depth=20, model__min_samples_leaf=1, model__min_samples_split=5; total time=   1.4s\n",
      "[CV] END model__max_depth=20, model__min_samples_leaf=1, model__min_samples_split=10; total time=   0.3s\n",
      "[CV] END model__max_depth=20, model__min_samples_leaf=1, model__min_samples_split=10; total time=   0.5s\n",
      "[CV] END model__max_depth=20, model__min_samples_leaf=1, model__min_samples_split=10; total time=   0.8s\n",
      "[CV] END model__max_depth=20, model__min_samples_leaf=1, model__min_samples_split=10; total time=   1.0s\n",
      "[CV] END model__max_depth=20, model__min_samples_leaf=1, model__min_samples_split=10; total time=   1.3s\n",
      "[CV] END model__max_depth=20, model__min_samples_leaf=2, model__min_samples_split=2; total time=   0.3s\n",
      "[CV] END model__max_depth=20, model__min_samples_leaf=2, model__min_samples_split=2; total time=   0.6s\n",
      "[CV] END model__max_depth=20, model__min_samples_leaf=2, model__min_samples_split=2; total time=   0.8s\n",
      "[CV] END model__max_depth=20, model__min_samples_leaf=2, model__min_samples_split=2; total time=   1.1s\n",
      "[CV] END model__max_depth=20, model__min_samples_leaf=2, model__min_samples_split=2; total time=   1.4s\n",
      "[CV] END model__max_depth=20, model__min_samples_leaf=2, model__min_samples_split=5; total time=   0.3s\n",
      "[CV] END model__max_depth=20, model__min_samples_leaf=2, model__min_samples_split=5; total time=   0.6s\n",
      "[CV] END model__max_depth=20, model__min_samples_leaf=2, model__min_samples_split=5; total time=   0.8s\n",
      "[CV] END model__max_depth=20, model__min_samples_leaf=2, model__min_samples_split=5; total time=   1.0s\n",
      "[CV] END model__max_depth=20, model__min_samples_leaf=2, model__min_samples_split=5; total time=   1.3s\n",
      "[CV] END model__max_depth=20, model__min_samples_leaf=2, model__min_samples_split=10; total time=   0.3s\n",
      "[CV] END model__max_depth=20, model__min_samples_leaf=2, model__min_samples_split=10; total time=   0.5s\n",
      "[CV] END model__max_depth=20, model__min_samples_leaf=2, model__min_samples_split=10; total time=   0.8s\n",
      "[CV] END model__max_depth=20, model__min_samples_leaf=2, model__min_samples_split=10; total time=   1.0s\n",
      "[CV] END model__max_depth=20, model__min_samples_leaf=2, model__min_samples_split=10; total time=   1.2s\n",
      "[CV] END model__max_depth=20, model__min_samples_leaf=5, model__min_samples_split=2; total time=   0.3s\n",
      "[CV] END model__max_depth=20, model__min_samples_leaf=5, model__min_samples_split=2; total time=   0.5s\n",
      "[CV] END model__max_depth=20, model__min_samples_leaf=5, model__min_samples_split=2; total time=   0.8s\n",
      "[CV] END model__max_depth=20, model__min_samples_leaf=5, model__min_samples_split=2; total time=   0.9s\n",
      "[CV] END model__max_depth=20, model__min_samples_leaf=5, model__min_samples_split=2; total time=   1.1s\n",
      "[CV] END model__max_depth=20, model__min_samples_leaf=5, model__min_samples_split=5; total time=   0.3s\n",
      "[CV] END model__max_depth=20, model__min_samples_leaf=5, model__min_samples_split=5; total time=   0.5s\n",
      "[CV] END model__max_depth=20, model__min_samples_leaf=5, model__min_samples_split=5; total time=   0.7s\n",
      "[CV] END model__max_depth=20, model__min_samples_leaf=5, model__min_samples_split=5; total time=   0.9s\n",
      "[CV] END model__max_depth=20, model__min_samples_leaf=5, model__min_samples_split=5; total time=   1.2s\n",
      "[CV] END model__max_depth=20, model__min_samples_leaf=5, model__min_samples_split=10; total time=   0.3s\n",
      "[CV] END model__max_depth=20, model__min_samples_leaf=5, model__min_samples_split=10; total time=   0.5s\n",
      "[CV] END model__max_depth=20, model__min_samples_leaf=5, model__min_samples_split=10; total time=   0.7s\n",
      "[CV] END model__max_depth=20, model__min_samples_leaf=5, model__min_samples_split=10; total time=   0.9s\n",
      "[CV] END model__max_depth=20, model__min_samples_leaf=5, model__min_samples_split=10; total time=   1.1s\n",
      "[CV] END model__max_depth=None, model__min_samples_leaf=1, model__min_samples_split=2; total time=   0.4s\n",
      "[CV] END model__max_depth=None, model__min_samples_leaf=1, model__min_samples_split=2; total time=   0.7s\n",
      "[CV] END model__max_depth=None, model__min_samples_leaf=1, model__min_samples_split=2; total time=   1.0s\n",
      "[CV] END model__max_depth=None, model__min_samples_leaf=1, model__min_samples_split=2; total time=   1.3s\n",
      "[CV] END model__max_depth=None, model__min_samples_leaf=1, model__min_samples_split=2; total time=   1.6s\n",
      "[CV] END model__max_depth=None, model__min_samples_leaf=1, model__min_samples_split=5; total time=   0.4s\n",
      "[CV] END model__max_depth=None, model__min_samples_leaf=1, model__min_samples_split=5; total time=   0.6s\n",
      "[CV] END model__max_depth=None, model__min_samples_leaf=1, model__min_samples_split=5; total time=   0.9s\n",
      "[CV] END model__max_depth=None, model__min_samples_leaf=1, model__min_samples_split=5; total time=   1.1s\n",
      "[CV] END model__max_depth=None, model__min_samples_leaf=1, model__min_samples_split=5; total time=   1.4s\n",
      "[CV] END model__max_depth=None, model__min_samples_leaf=1, model__min_samples_split=10; total time=   0.3s\n",
      "[CV] END model__max_depth=None, model__min_samples_leaf=1, model__min_samples_split=10; total time=   0.5s\n",
      "[CV] END model__max_depth=None, model__min_samples_leaf=1, model__min_samples_split=10; total time=   0.8s\n",
      "[CV] END model__max_depth=None, model__min_samples_leaf=1, model__min_samples_split=10; total time=   1.0s\n",
      "[CV] END model__max_depth=None, model__min_samples_leaf=1, model__min_samples_split=10; total time=   1.3s\n",
      "[CV] END model__max_depth=None, model__min_samples_leaf=2, model__min_samples_split=2; total time=   0.4s\n",
      "[CV] END model__max_depth=None, model__min_samples_leaf=2, model__min_samples_split=2; total time=   0.6s\n",
      "[CV] END model__max_depth=None, model__min_samples_leaf=2, model__min_samples_split=2; total time=   0.8s\n",
      "[CV] END model__max_depth=None, model__min_samples_leaf=2, model__min_samples_split=2; total time=   1.1s\n",
      "[CV] END model__max_depth=None, model__min_samples_leaf=2, model__min_samples_split=2; total time=   1.4s\n",
      "[CV] END model__max_depth=None, model__min_samples_leaf=2, model__min_samples_split=5; total time=   0.3s\n",
      "[CV] END model__max_depth=None, model__min_samples_leaf=2, model__min_samples_split=5; total time=   0.5s\n",
      "[CV] END model__max_depth=None, model__min_samples_leaf=2, model__min_samples_split=5; total time=   0.8s\n",
      "[CV] END model__max_depth=None, model__min_samples_leaf=2, model__min_samples_split=5; total time=   1.0s\n",
      "[CV] END model__max_depth=None, model__min_samples_leaf=2, model__min_samples_split=5; total time=   1.3s\n",
      "[CV] END model__max_depth=None, model__min_samples_leaf=2, model__min_samples_split=10; total time=   0.3s\n",
      "[CV] END model__max_depth=None, model__min_samples_leaf=2, model__min_samples_split=10; total time=   0.5s\n",
      "[CV] END model__max_depth=None, model__min_samples_leaf=2, model__min_samples_split=10; total time=   0.7s\n",
      "[CV] END model__max_depth=None, model__min_samples_leaf=2, model__min_samples_split=10; total time=   1.0s\n",
      "[CV] END model__max_depth=None, model__min_samples_leaf=2, model__min_samples_split=10; total time=   1.2s\n",
      "[CV] END model__max_depth=None, model__min_samples_leaf=5, model__min_samples_split=2; total time=   0.3s\n",
      "[CV] END model__max_depth=None, model__min_samples_leaf=5, model__min_samples_split=2; total time=   0.5s\n",
      "[CV] END model__max_depth=None, model__min_samples_leaf=5, model__min_samples_split=2; total time=   0.7s\n",
      "[CV] END model__max_depth=None, model__min_samples_leaf=5, model__min_samples_split=2; total time=   0.9s\n",
      "[CV] END model__max_depth=None, model__min_samples_leaf=5, model__min_samples_split=2; total time=   1.1s\n",
      "[CV] END model__max_depth=None, model__min_samples_leaf=5, model__min_samples_split=5; total time=   0.3s\n",
      "[CV] END model__max_depth=None, model__min_samples_leaf=5, model__min_samples_split=5; total time=   0.5s\n",
      "[CV] END model__max_depth=None, model__min_samples_leaf=5, model__min_samples_split=5; total time=   0.7s\n",
      "[CV] END model__max_depth=None, model__min_samples_leaf=5, model__min_samples_split=5; total time=   0.9s\n",
      "[CV] END model__max_depth=None, model__min_samples_leaf=5, model__min_samples_split=5; total time=   1.1s\n",
      "[CV] END model__max_depth=None, model__min_samples_leaf=5, model__min_samples_split=10; total time=   0.3s\n",
      "[CV] END model__max_depth=None, model__min_samples_leaf=5, model__min_samples_split=10; total time=   0.5s\n",
      "[CV] END model__max_depth=None, model__min_samples_leaf=5, model__min_samples_split=10; total time=   0.7s\n",
      "[CV] END model__max_depth=None, model__min_samples_leaf=5, model__min_samples_split=10; total time=   0.9s\n",
      "[CV] END model__max_depth=None, model__min_samples_leaf=5, model__min_samples_split=10; total time=   1.1s\n",
      "Лучшие гиперпараметры: {'model__max_depth': None, 'model__min_samples_leaf': 1, 'model__min_samples_split': 10}\n",
      "Лучший RMSE (CV): 25.671\n",
      "Время обучения лучшей модели (refit_time_): 1.51 секунд\n"
     ]
    }
   ],
   "source": [
    "param_grid = {\n",
    "    \"model__max_depth\": [5, 10, 20, None],\n",
    "    \"model__min_samples_split\": [2, 5, 10],\n",
    "    \"model__min_samples_leaf\": [1, 2, 5]\n",
    "}\n",
    "\n",
    "grid_search = GridSearchCV(\n",
    "    estimator=rf_pipeline,\n",
    "    param_grid=param_grid,\n",
    "    cv=tscv,\n",
    "    scoring=\"neg_mean_squared_error\",\n",
    "    n_jobs=-1,\n",
    "    verbose=2\n",
    ")\n",
    "\n",
    "grid_search.fit(X_train, y_train)\n",
    "\n",
    "# Лучшие параметры\n",
    "print(\"Лучшие гиперпараметры:\", grid_search.best_params_)\n",
    "\n",
    "# RMSE по кросс-валидации\n",
    "rf_rmse = (-grid_search.best_score_) ** 0.5\n",
    "print(f\"Лучший RMSE (CV): {rf_rmse:.3f}\")\n",
    "\n",
    "# время обучения финальной лучшей модели на всех данных\n",
    "rf_refit_time = grid_search.refit_time_\n",
    "print(f\"Время обучения лучшей модели (refit_time_): {rf_refit_time:.2f} секунд\")"
   ]
  },
  {
   "cell_type": "markdown",
   "metadata": {},
   "source": [
    "**Вывод по DecisionTreeRegressor**\n",
    "\n",
    "RMSE по кросс-валидации составил 25.671.\n",
    "\n",
    "Оптимальные параметры модели:\n",
    "\n",
    "max_depth = None (деревья не ограничены по глубине),\n",
    "min_samples_split = 10 (более строгий критерий разбиения),\n",
    "min_samples_leaf = 1 (листья могут содержать по одному объекту).\n",
    "Обучение лучшей модели заняло 1.48 секунды, что больше, чем у других моделей, но оправдано ростом точности.\n",
    "\n",
    "Таким образом, случайный лес демонстрирует наилучший баланс между качеством и устойчивостью на временных данных и может быть рекомендован как основная модель для прогнозирования количества заказов.\n"
   ]
  },
  {
   "cell_type": "markdown",
   "metadata": {},
   "source": [
    "**LightGBM**"
   ]
  },
  {
   "cell_type": "code",
   "execution_count": 38,
   "metadata": {
    "scrolled": true
   },
   "outputs": [
    {
     "name": "stdout",
     "output_type": "stream",
     "text": [
      "Fitting 5 folds for each of 24 candidates, totalling 120 fits\n",
      "[CV] END model__learning_rate=0.1, model__max_depth=5, model__n_estimators=100, model__num_leaves=31; total time=   1.7s\n",
      "[CV] END model__learning_rate=0.1, model__max_depth=5, model__n_estimators=100, model__num_leaves=31; total time=   3.0s\n",
      "[CV] END model__learning_rate=0.1, model__max_depth=5, model__n_estimators=100, model__num_leaves=31; total time=   3.9s\n",
      "[CV] END model__learning_rate=0.1, model__max_depth=5, model__n_estimators=100, model__num_leaves=31; total time=   6.8s\n",
      "[CV] END model__learning_rate=0.1, model__max_depth=5, model__n_estimators=100, model__num_leaves=31; total time=   4.9s\n",
      "[CV] END model__learning_rate=0.1, model__max_depth=5, model__n_estimators=100, model__num_leaves=50; total time=   1.6s\n",
      "[CV] END model__learning_rate=0.1, model__max_depth=5, model__n_estimators=100, model__num_leaves=50; total time=   3.7s\n",
      "[CV] END model__learning_rate=0.1, model__max_depth=5, model__n_estimators=100, model__num_leaves=50; total time=   4.1s\n",
      "[CV] END model__learning_rate=0.1, model__max_depth=5, model__n_estimators=100, model__num_leaves=50; total time=   5.3s\n",
      "[CV] END model__learning_rate=0.1, model__max_depth=5, model__n_estimators=100, model__num_leaves=50; total time=   5.6s\n",
      "[CV] END model__learning_rate=0.1, model__max_depth=5, model__n_estimators=200, model__num_leaves=31; total time=   5.6s\n",
      "[CV] END model__learning_rate=0.1, model__max_depth=5, model__n_estimators=200, model__num_leaves=31; total time=  10.5s\n",
      "[CV] END model__learning_rate=0.1, model__max_depth=5, model__n_estimators=200, model__num_leaves=31; total time=   8.0s\n",
      "[CV] END model__learning_rate=0.1, model__max_depth=5, model__n_estimators=200, model__num_leaves=31; total time=  11.3s\n",
      "[CV] END model__learning_rate=0.1, model__max_depth=5, model__n_estimators=200, model__num_leaves=31; total time=  10.6s\n",
      "[CV] END model__learning_rate=0.1, model__max_depth=5, model__n_estimators=200, model__num_leaves=50; total time=   3.4s\n",
      "[CV] END model__learning_rate=0.1, model__max_depth=5, model__n_estimators=200, model__num_leaves=50; total time=   5.3s\n",
      "[CV] END model__learning_rate=0.1, model__max_depth=5, model__n_estimators=200, model__num_leaves=50; total time=   8.6s\n",
      "[CV] END model__learning_rate=0.1, model__max_depth=5, model__n_estimators=200, model__num_leaves=50; total time=   7.8s\n",
      "[CV] END model__learning_rate=0.1, model__max_depth=5, model__n_estimators=200, model__num_leaves=50; total time=   8.6s\n",
      "[CV] END model__learning_rate=0.1, model__max_depth=10, model__n_estimators=100, model__num_leaves=31; total time=   6.4s\n",
      "[CV] END model__learning_rate=0.1, model__max_depth=10, model__n_estimators=100, model__num_leaves=31; total time=   6.7s\n",
      "[CV] END model__learning_rate=0.1, model__max_depth=10, model__n_estimators=100, model__num_leaves=31; total time=   8.0s\n",
      "[CV] END model__learning_rate=0.1, model__max_depth=10, model__n_estimators=100, model__num_leaves=31; total time=   8.3s\n",
      "[CV] END model__learning_rate=0.1, model__max_depth=10, model__n_estimators=100, model__num_leaves=31; total time=  13.5s\n",
      "[CV] END model__learning_rate=0.1, model__max_depth=10, model__n_estimators=100, model__num_leaves=50; total time=   4.1s\n",
      "[CV] END model__learning_rate=0.1, model__max_depth=10, model__n_estimators=100, model__num_leaves=50; total time=  10.7s\n",
      "[CV] END model__learning_rate=0.1, model__max_depth=10, model__n_estimators=100, model__num_leaves=50; total time=   8.8s\n",
      "[CV] END model__learning_rate=0.1, model__max_depth=10, model__n_estimators=100, model__num_leaves=50; total time=   8.3s\n",
      "[CV] END model__learning_rate=0.1, model__max_depth=10, model__n_estimators=100, model__num_leaves=50; total time=  13.0s\n",
      "[CV] END model__learning_rate=0.1, model__max_depth=10, model__n_estimators=200, model__num_leaves=31; total time=   8.0s\n",
      "[CV] END model__learning_rate=0.1, model__max_depth=10, model__n_estimators=200, model__num_leaves=31; total time=  20.8s\n",
      "[CV] END model__learning_rate=0.1, model__max_depth=10, model__n_estimators=200, model__num_leaves=31; total time=  14.9s\n",
      "[CV] END model__learning_rate=0.1, model__max_depth=10, model__n_estimators=200, model__num_leaves=31; total time=  17.1s\n",
      "[CV] END model__learning_rate=0.1, model__max_depth=10, model__n_estimators=200, model__num_leaves=31; total time=  15.5s\n",
      "[CV] END model__learning_rate=0.1, model__max_depth=10, model__n_estimators=200, model__num_leaves=50; total time=  16.3s\n",
      "[CV] END model__learning_rate=0.1, model__max_depth=10, model__n_estimators=200, model__num_leaves=50; total time=   8.2s\n",
      "[CV] END model__learning_rate=0.1, model__max_depth=10, model__n_estimators=200, model__num_leaves=50; total time=  23.4s\n",
      "[CV] END model__learning_rate=0.1, model__max_depth=10, model__n_estimators=200, model__num_leaves=50; total time=  22.4s\n",
      "[CV] END model__learning_rate=0.1, model__max_depth=10, model__n_estimators=200, model__num_leaves=50; total time=  25.7s\n",
      "[CV] END model__learning_rate=0.1, model__max_depth=-1, model__n_estimators=100, model__num_leaves=31; total time=   6.3s\n",
      "[CV] END model__learning_rate=0.1, model__max_depth=-1, model__n_estimators=100, model__num_leaves=31; total time=  13.8s\n",
      "[CV] END model__learning_rate=0.1, model__max_depth=-1, model__n_estimators=100, model__num_leaves=31; total time=   9.4s\n",
      "[CV] END model__learning_rate=0.1, model__max_depth=-1, model__n_estimators=100, model__num_leaves=31; total time=  10.2s\n",
      "[CV] END model__learning_rate=0.1, model__max_depth=-1, model__n_estimators=100, model__num_leaves=31; total time=   8.4s\n",
      "[CV] END model__learning_rate=0.1, model__max_depth=-1, model__n_estimators=100, model__num_leaves=50; total time=   7.5s\n",
      "[CV] END model__learning_rate=0.1, model__max_depth=-1, model__n_estimators=100, model__num_leaves=50; total time=  13.1s\n",
      "[CV] END model__learning_rate=0.1, model__max_depth=-1, model__n_estimators=100, model__num_leaves=50; total time=  15.3s\n",
      "[CV] END model__learning_rate=0.1, model__max_depth=-1, model__n_estimators=100, model__num_leaves=50; total time=  16.9s\n",
      "[CV] END model__learning_rate=0.1, model__max_depth=-1, model__n_estimators=100, model__num_leaves=50; total time= 1.4min\n",
      "[CV] END model__learning_rate=0.1, model__max_depth=-1, model__n_estimators=200, model__num_leaves=31; total time=  10.7s\n",
      "[CV] END model__learning_rate=0.1, model__max_depth=-1, model__n_estimators=200, model__num_leaves=31; total time=  16.9s\n",
      "[CV] END model__learning_rate=0.1, model__max_depth=-1, model__n_estimators=200, model__num_leaves=31; total time=  19.7s\n",
      "[CV] END model__learning_rate=0.1, model__max_depth=-1, model__n_estimators=200, model__num_leaves=31; total time=  23.6s\n",
      "[CV] END model__learning_rate=0.1, model__max_depth=-1, model__n_estimators=200, model__num_leaves=31; total time=  17.6s\n",
      "[CV] END model__learning_rate=0.1, model__max_depth=-1, model__n_estimators=200, model__num_leaves=50; total time=  10.3s\n",
      "[CV] END model__learning_rate=0.1, model__max_depth=-1, model__n_estimators=200, model__num_leaves=50; total time=  28.9s\n",
      "[CV] END model__learning_rate=0.1, model__max_depth=-1, model__n_estimators=200, model__num_leaves=50; total time=  32.2s\n",
      "[CV] END model__learning_rate=0.1, model__max_depth=-1, model__n_estimators=200, model__num_leaves=50; total time=  29.8s\n",
      "[CV] END model__learning_rate=0.1, model__max_depth=-1, model__n_estimators=200, model__num_leaves=50; total time=  33.2s\n",
      "[CV] END model__learning_rate=0.05, model__max_depth=5, model__n_estimators=100, model__num_leaves=31; total time=   2.7s\n",
      "[CV] END model__learning_rate=0.05, model__max_depth=5, model__n_estimators=100, model__num_leaves=31; total time=   5.7s\n",
      "[CV] END model__learning_rate=0.05, model__max_depth=5, model__n_estimators=100, model__num_leaves=31; total time=   7.2s\n",
      "[CV] END model__learning_rate=0.05, model__max_depth=5, model__n_estimators=100, model__num_leaves=31; total time=   6.2s\n",
      "[CV] END model__learning_rate=0.05, model__max_depth=5, model__n_estimators=100, model__num_leaves=31; total time=   6.0s\n",
      "[CV] END model__learning_rate=0.05, model__max_depth=5, model__n_estimators=100, model__num_leaves=50; total time=  14.8s\n",
      "[CV] END model__learning_rate=0.05, model__max_depth=5, model__n_estimators=100, model__num_leaves=50; total time=   5.8s\n",
      "[CV] END model__learning_rate=0.05, model__max_depth=5, model__n_estimators=100, model__num_leaves=50; total time=   4.2s\n",
      "[CV] END model__learning_rate=0.05, model__max_depth=5, model__n_estimators=100, model__num_leaves=50; total time=   8.1s\n",
      "[CV] END model__learning_rate=0.05, model__max_depth=5, model__n_estimators=100, model__num_leaves=50; total time=   5.0s\n",
      "[CV] END model__learning_rate=0.05, model__max_depth=5, model__n_estimators=200, model__num_leaves=31; total time=   3.5s\n",
      "[CV] END model__learning_rate=0.05, model__max_depth=5, model__n_estimators=200, model__num_leaves=31; total time=   6.6s\n",
      "[CV] END model__learning_rate=0.05, model__max_depth=5, model__n_estimators=200, model__num_leaves=31; total time=   8.8s\n",
      "[CV] END model__learning_rate=0.05, model__max_depth=5, model__n_estimators=200, model__num_leaves=31; total time=   9.4s\n",
      "[CV] END model__learning_rate=0.05, model__max_depth=5, model__n_estimators=200, model__num_leaves=31; total time=   7.2s\n",
      "[CV] END model__learning_rate=0.05, model__max_depth=5, model__n_estimators=200, model__num_leaves=50; total time=   5.4s\n",
      "[CV] END model__learning_rate=0.05, model__max_depth=5, model__n_estimators=200, model__num_leaves=50; total time=   9.4s\n",
      "[CV] END model__learning_rate=0.05, model__max_depth=5, model__n_estimators=200, model__num_leaves=50; total time=   6.7s\n",
      "[CV] END model__learning_rate=0.05, model__max_depth=5, model__n_estimators=200, model__num_leaves=50; total time=  12.2s\n",
      "[CV] END model__learning_rate=0.05, model__max_depth=5, model__n_estimators=200, model__num_leaves=50; total time= 1.9min\n",
      "[CV] END model__learning_rate=0.05, model__max_depth=10, model__n_estimators=100, model__num_leaves=31; total time=   5.6s\n",
      "[CV] END model__learning_rate=0.05, model__max_depth=10, model__n_estimators=100, model__num_leaves=31; total time=   6.9s\n",
      "[CV] END model__learning_rate=0.05, model__max_depth=10, model__n_estimators=100, model__num_leaves=31; total time=  51.5s\n",
      "[CV] END model__learning_rate=0.05, model__max_depth=10, model__n_estimators=100, model__num_leaves=31; total time= 1.2min\n",
      "[CV] END model__learning_rate=0.05, model__max_depth=10, model__n_estimators=100, model__num_leaves=31; total time=  20.1s\n",
      "[CV] END model__learning_rate=0.05, model__max_depth=10, model__n_estimators=100, model__num_leaves=50; total time=   4.2s\n",
      "[CV] END model__learning_rate=0.05, model__max_depth=10, model__n_estimators=100, model__num_leaves=50; total time=  11.7s\n",
      "[CV] END model__learning_rate=0.05, model__max_depth=10, model__n_estimators=100, model__num_leaves=50; total time=  12.1s\n",
      "[CV] END model__learning_rate=0.05, model__max_depth=10, model__n_estimators=100, model__num_leaves=50; total time=  13.0s\n",
      "[CV] END model__learning_rate=0.05, model__max_depth=10, model__n_estimators=100, model__num_leaves=50; total time=  15.3s\n",
      "[CV] END model__learning_rate=0.05, model__max_depth=10, model__n_estimators=200, model__num_leaves=31; total time=  10.7s\n",
      "[CV] END model__learning_rate=0.05, model__max_depth=10, model__n_estimators=200, model__num_leaves=31; total time=   9.9s\n",
      "[CV] END model__learning_rate=0.05, model__max_depth=10, model__n_estimators=200, model__num_leaves=31; total time=  14.9s\n",
      "[CV] END model__learning_rate=0.05, model__max_depth=10, model__n_estimators=200, model__num_leaves=31; total time=  29.5s\n",
      "[CV] END model__learning_rate=0.05, model__max_depth=10, model__n_estimators=200, model__num_leaves=31; total time=  18.8s\n",
      "[CV] END model__learning_rate=0.05, model__max_depth=10, model__n_estimators=200, model__num_leaves=50; total time=   9.7s\n",
      "[CV] END model__learning_rate=0.05, model__max_depth=10, model__n_estimators=200, model__num_leaves=50; total time=  12.0s\n",
      "[CV] END model__learning_rate=0.05, model__max_depth=10, model__n_estimators=200, model__num_leaves=50; total time=  15.5s\n",
      "[CV] END model__learning_rate=0.05, model__max_depth=10, model__n_estimators=200, model__num_leaves=50; total time=  23.9s\n",
      "[CV] END model__learning_rate=0.05, model__max_depth=10, model__n_estimators=200, model__num_leaves=50; total time=  32.3s\n",
      "[CV] END model__learning_rate=0.05, model__max_depth=-1, model__n_estimators=100, model__num_leaves=31; total time=   7.6s\n",
      "[CV] END model__learning_rate=0.05, model__max_depth=-1, model__n_estimators=100, model__num_leaves=31; total time=   7.5s\n",
      "[CV] END model__learning_rate=0.05, model__max_depth=-1, model__n_estimators=100, model__num_leaves=31; total time=   8.7s\n",
      "[CV] END model__learning_rate=0.05, model__max_depth=-1, model__n_estimators=100, model__num_leaves=31; total time=   6.7s\n",
      "[CV] END model__learning_rate=0.05, model__max_depth=-1, model__n_estimators=100, model__num_leaves=31; total time=   9.0s\n",
      "[CV] END model__learning_rate=0.05, model__max_depth=-1, model__n_estimators=100, model__num_leaves=50; total time=   6.1s\n",
      "[CV] END model__learning_rate=0.05, model__max_depth=-1, model__n_estimators=100, model__num_leaves=50; total time=  10.7s\n",
      "[CV] END model__learning_rate=0.05, model__max_depth=-1, model__n_estimators=100, model__num_leaves=50; total time=  12.6s\n",
      "[CV] END model__learning_rate=0.05, model__max_depth=-1, model__n_estimators=100, model__num_leaves=50; total time=  14.7s\n",
      "[CV] END model__learning_rate=0.05, model__max_depth=-1, model__n_estimators=100, model__num_leaves=50; total time=  13.2s\n",
      "[CV] END model__learning_rate=0.05, model__max_depth=-1, model__n_estimators=200, model__num_leaves=31; total time=  11.3s\n",
      "[CV] END model__learning_rate=0.05, model__max_depth=-1, model__n_estimators=200, model__num_leaves=31; total time=  18.5s\n",
      "[CV] END model__learning_rate=0.05, model__max_depth=-1, model__n_estimators=200, model__num_leaves=31; total time=  18.9s\n",
      "[CV] END model__learning_rate=0.05, model__max_depth=-1, model__n_estimators=200, model__num_leaves=31; total time=  20.3s\n",
      "[CV] END model__learning_rate=0.05, model__max_depth=-1, model__n_estimators=200, model__num_leaves=31; total time=  16.1s\n",
      "[CV] END model__learning_rate=0.05, model__max_depth=-1, model__n_estimators=200, model__num_leaves=50; total time=  13.5s\n",
      "[CV] END model__learning_rate=0.05, model__max_depth=-1, model__n_estimators=200, model__num_leaves=50; total time=  30.3s\n",
      "[CV] END model__learning_rate=0.05, model__max_depth=-1, model__n_estimators=200, model__num_leaves=50; total time=  28.2s\n",
      "[CV] END model__learning_rate=0.05, model__max_depth=-1, model__n_estimators=200, model__num_leaves=50; total time=  23.1s\n",
      "[CV] END model__learning_rate=0.05, model__max_depth=-1, model__n_estimators=200, model__num_leaves=50; total time=  24.2s\n",
      "Лучшие гиперпараметры: {'model__learning_rate': 0.05, 'model__max_depth': 10, 'model__n_estimators': 100, 'model__num_leaves': 50}\n",
      "Лучший RMSE (CV): 25.561\n",
      "Время обучения лучшей модели (refit_time_): 15.00 секунд\n"
     ]
    }
   ],
   "source": [
    "lgbm_pipeline = Pipeline([\n",
    "    ('model', LGBMRegressor(random_state=42))\n",
    "])\n",
    "\n",
    "param_grid = {\n",
    "    'model__n_estimators': [100, 200],\n",
    "    'model__max_depth': [5, 10, -1],   \n",
    "    'model__learning_rate': [0.1, 0.05],\n",
    "    'model__num_leaves': [31, 50]\n",
    "}\n",
    "\n",
    "\n",
    "grid_search = GridSearchCV(\n",
    "    estimator=lgbm_pipeline,\n",
    "    param_grid=param_grid,\n",
    "    cv=tscv,\n",
    "    scoring='neg_mean_squared_error',\n",
    "    n_jobs=-1,\n",
    "    verbose=2\n",
    ")\n",
    "\n",
    "\n",
    "\n",
    "grid_search.fit(X_train, y_train)\n",
    "print(\"Лучшие гиперпараметры:\", grid_search.best_params_)\n",
    "\n",
    "lgbm_rmse = (-grid_search.best_score_) ** 0.5\n",
    "print(f\"Лучший RMSE (CV): {lgbm_rmse:.3f}\")\n",
    "\n",
    "# время обучения финальной лучшей модели на всех данных\n",
    "lgbm_refit_time = grid_search.refit_time_\n",
    "print(f\"Время обучения лучшей модели (refit_time_): {lgbm_refit_time:.2f} секунд\")"
   ]
  },
  {
   "cell_type": "markdown",
   "metadata": {},
   "source": [
    "**Вывод по модели LGBMRegressor** \n",
    "\n",
    "RMSE по кросс-валидации составил 25.561.\n",
    "\n",
    "Оптимальные параметры модели:\n",
    "\n",
    "learning_rate = 0.05 (умеренно низкий темп обучения для более плавного обучения),\n",
    "max_depth = 10 (ограничение глубины деревьев для контроля переобучения),\n",
    "n_estimators = 100 (количество деревьев в ансамбле),\n",
    "num_leaves = 50 (максимальное количество листьев в дереве).\n",
    "Обучение лучшей модели заняло 15.00 секунд, что немного дольше, чем у некоторых других моделей, однако оправдано улучшением точности прогноза.\n",
    "\n",
    "Таким образом, модель LightGBM демонстрирует хороший баланс между скоростью обучения и качеством предсказания и может быть рекомендована для решения задачи прогнозирования количества заказов."
   ]
  },
  {
   "cell_type": "markdown",
   "metadata": {},
   "source": [
    "**Cat boost regressor**"
   ]
  },
  {
   "cell_type": "code",
   "execution_count": 45,
   "metadata": {},
   "outputs": [
    {
     "name": "stdout",
     "output_type": "stream",
     "text": [
      "Fitting 5 folds for each of 1 candidates, totalling 5 fits\n",
      "[CV] END .................................................... total time=   2.0s\n",
      "[CV] END .................................................... total time=   2.1s\n",
      "[CV] END .................................................... total time=   2.4s\n",
      "[CV] END .................................................... total time=   2.5s\n",
      "[CV] END .................................................... total time=   2.4s\n",
      "Лучшие гиперпараметры: {}\n",
      "Лучший RMSE (CV): 25.769\n",
      "Время обучения лучшей модели (refit_time_): 2.52 секунд\n"
     ]
    }
   ],
   "source": [
    "catboost_pipeline = Pipeline([\n",
    "    ('model', CatBoostRegressor(cat_features=cat_columns, random_seed=42, verbose=False))\n",
    "])\n",
    "\n",
    "\n",
    "param_grid = {}\n",
    "\n",
    "\n",
    "grid_search = GridSearchCV(\n",
    "    estimator=catboost_pipeline,\n",
    "    param_grid=param_grid,\n",
    "    cv=tscv,\n",
    "    scoring='neg_mean_squared_error',\n",
    "    n_jobs=-1,\n",
    "    verbose=2\n",
    ")\n",
    "\n",
    "\n",
    "grid_search.fit(X_train, y_train)\n",
    "\n",
    "print(\"Лучшие гиперпараметры:\", grid_search.best_params_)\n",
    "\n",
    "catboost_rmse = (-grid_search.best_score_) ** 0.5\n",
    "print(f\"Лучший RMSE (CV): {catboost_rmse:.3f}\")\n",
    "\n",
    "\n",
    "# время обучения финальной лучшей модели на всех данных\n",
    "catboost_refit_time = grid_search.refit_time_\n",
    "print(f\"Время обучения лучшей модели (refit_time_): {catboost_refit_time:.2f} секунд\")"
   ]
  },
  {
   "cell_type": "markdown",
   "metadata": {},
   "source": [
    "**Вывод по CatBoostRegressor:**\n",
    "\n",
    "RMSE по кросс-валидации составил 25.769.\n",
    "\n",
    "Оптимальные параметры модели:\n",
    "\n",
    "depth = 6 (ограниченная глубина деревьев для контроля переобучения),\n",
    "iterations = 200 (число итераций обучения, то есть количество деревьев),\n",
    "learning_rate = 0.1 (скорость обучения, позволяющая быстро сходиться).\n",
    "Обучение лучшей модели заняло всего 1.28 секунды, что достаточно быстро и позволяет использовать модель в продуктивных задачах.\n",
    "\n",
    "Таким образом, модель CatBoostRegressor показывает хорошее качество прогноза при высокой скорости обучения и может быть рекомендована для использования в задачах регрессии с похожими данными."
   ]
  },
  {
   "cell_type": "markdown",
   "metadata": {},
   "source": [
    "Соберем все результаты в одну таблицу, чтобы было легче проанализировать какая модель является наиболее подходящей"
   ]
  },
  {
   "cell_type": "code",
   "execution_count": 43,
   "metadata": {},
   "outputs": [
    {
     "data": {
      "text/html": [
       "<div>\n",
       "<style scoped>\n",
       "    .dataframe tbody tr th:only-of-type {\n",
       "        vertical-align: middle;\n",
       "    }\n",
       "\n",
       "    .dataframe tbody tr th {\n",
       "        vertical-align: top;\n",
       "    }\n",
       "\n",
       "    .dataframe thead th {\n",
       "        text-align: right;\n",
       "    }\n",
       "</style>\n",
       "<table border=\"1\" class=\"dataframe\">\n",
       "  <thead>\n",
       "    <tr style=\"text-align: right;\">\n",
       "      <th></th>\n",
       "      <th>RMSE (CV)</th>\n",
       "      <th>Train Time (s)</th>\n",
       "    </tr>\n",
       "    <tr>\n",
       "      <th>Model</th>\n",
       "      <th></th>\n",
       "      <th></th>\n",
       "    </tr>\n",
       "  </thead>\n",
       "  <tbody>\n",
       "    <tr>\n",
       "      <th>Linear Regression</th>\n",
       "      <td>31.734552</td>\n",
       "      <td>0.014593</td>\n",
       "    </tr>\n",
       "    <tr>\n",
       "      <th>Decision Tree</th>\n",
       "      <td>28.373889</td>\n",
       "      <td>0.021791</td>\n",
       "    </tr>\n",
       "    <tr>\n",
       "      <th>Random Forest</th>\n",
       "      <td>25.670566</td>\n",
       "      <td>1.511998</td>\n",
       "    </tr>\n",
       "    <tr>\n",
       "      <th>LightGBM</th>\n",
       "      <td>25.560840</td>\n",
       "      <td>15.003601</td>\n",
       "    </tr>\n",
       "    <tr>\n",
       "      <th>CatBoost</th>\n",
       "      <td>25.655779</td>\n",
       "      <td>1.275739</td>\n",
       "    </tr>\n",
       "  </tbody>\n",
       "</table>\n",
       "</div>"
      ],
      "text/plain": [
       "                   RMSE (CV)  Train Time (s)\n",
       "Model                                       \n",
       "Linear Regression  31.734552        0.014593\n",
       "Decision Tree      28.373889        0.021791\n",
       "Random Forest      25.670566        1.511998\n",
       "LightGBM           25.560840       15.003601\n",
       "CatBoost           25.655779        1.275739"
      ]
     },
     "execution_count": 43,
     "metadata": {},
     "output_type": "execute_result"
    }
   ],
   "source": [
    "results = pd.DataFrame(columns=['Model', 'RMSE (CV)', 'Train Time (s)'])\n",
    "\n",
    "results = pd.DataFrame([\n",
    "    {'Model': 'Linear Regression', 'RMSE (CV)': rmse_lr, 'Train Time (s)': fit_time_lr},\n",
    "    {'Model': 'Decision Tree',     'RMSE (CV)': dt_rmse, 'Train Time (s)': dt_refit_time},\n",
    "    {'Model': 'Random Forest',     'RMSE (CV)': rf_rmse, 'Train Time (s)': rf_refit_time},\n",
    "    {'Model': 'LightGBM',          'RMSE (CV)': lgbm_rmse, 'Train Time (s)': lgbm_refit_time},\n",
    "    {'Model': 'CatBoost',          'RMSE (CV)': catboost_rmse, 'Train Time (s)': catboost_refit_time}\n",
    "])\n",
    "\n",
    "results.set_index(\"Model\", inplace=True)\n",
    "results"
   ]
  },
  {
   "cell_type": "markdown",
   "metadata": {},
   "source": [
    "**Вывод по результатам моделей:**\n",
    "\n",
    "Linear Regression показала худший результат по метрике RMSE, но обучается практически мгновенно. Может использоваться как базовая модель.\n",
    "\n",
    "Decision Tree улучшила точность по сравнению с линейной регрессией, но остаётся уязвимой к переобучению и нестабильна на временных данных.\n",
    "Random Forest обеспечил существенный прирост качества с RMSE = 25.67 при разумном времени обучения (1.51 с), показав хорошее соотношение точности и скорости.\n",
    "\n",
    "LightGBM достиг наилучшего качества (RMSE = 25.56), однако требует значительно больше времени на обучение (15 с). Это может быть критично при частом переобучении или ограниченных ресурсах.\n",
    "\n",
    "CatBoost продемонстрировал почти такое же качество, как LightGBM, но обучается в 10 раз быстрее. Это делает его отличным компромиссом между точностью и производительностью.\n",
    "\n",
    "Рекомендация:\n",
    "CatBoost и Random Forest — оптимальные кандидаты для использования на практике. Приоритет лучше отдать CatBoost так как результат почти такой же, а время обучения в несколько раз меньше"
   ]
  },
  {
   "cell_type": "markdown",
   "metadata": {},
   "source": [
    "\n",
    "<div class=\"alert alert-info\">\n",
    "<b>Совет:</b> Вычисления и анализ нужно будет обновить"
   ]
  },
  {
   "cell_type": "markdown",
   "metadata": {},
   "source": [
    "\n",
    "\n",
    "<div class=\"alert alert-block alert-success\">\n",
    "    \n",
    "<b>Успех[2]:</b> 👍 Отличная работа с моделями, выбор лучшей обоснован."
   ]
  },
  {
   "cell_type": "markdown",
   "metadata": {},
   "source": [
    "## Тестирование"
   ]
  },
  {
   "cell_type": "markdown",
   "metadata": {},
   "source": [
    "Нужно учитывать следующий критерий:\n",
    "\n",
    "Значение метрики RMSE на тестовой выборке должно быть не больше 48.\n",
    "\n",
    "Для обучения мы использовали следующие модели:\n",
    "\n",
    "- Linear Regression\n",
    "- Decision Tree Regressor\n",
    "- Random Forest Regressor\n",
    "- CatBoost\n",
    "- LightGBM\n",
    "\n",
    "Краткие выводы по моделям:\n",
    "\n",
    "CatBoost и Random Forest — оптимальные кандидаты для использования на практике. Приоритет лучше отдать CatBoost так как результат почти такой же, а время обучения в несколько раз меньше"
   ]
  },
  {
   "cell_type": "markdown",
   "metadata": {},
   "source": [
    "\n",
    "<div class=\"alert alert-block alert-danger\">\n",
    "<b>Ошибка:</b> После анализа и выбора одной наилучшей модели, должно идти  ее тестирование. Другие модели тестовую выборку использовать не должны.\n",
    "    \n",
    "Почему тестируем именно 1 модель? Потому что тестирование - это имитация выпуска модели в продакшн, где она будет рбаотать с новыми данными. Для этого используется 1 модель\n",
    "</div>\n"
   ]
  },
  {
   "cell_type": "markdown",
   "metadata": {},
   "source": [
    "<div class=\"alert alert-block alert-warning\">\n",
    "<b>Изменения:</b> Выбрала 1 модель\n",
    "</div>"
   ]
  },
  {
   "cell_type": "code",
   "execution_count": 46,
   "metadata": {},
   "outputs": [
    {
     "name": "stdout",
     "output_type": "stream",
     "text": [
      "RMSE на тестовой выборке: 46.82\n",
      "Время предсказания: 0.0019 секунд\n"
     ]
    }
   ],
   "source": [
    "cat_model = grid_search.best_estimator_\n",
    "\n",
    "start_time = time.time()\n",
    "\n",
    "cat_preds = cat_model.predict(X_test)\n",
    "\n",
    "end_time = time.time()\n",
    "cat_prediction_time = end_time - start_time\n",
    "\n",
    "cat_mse = mean_squared_error(y_test, cat_preds)\n",
    "cat_rmse = sqrt(cat_mse)\n",
    "\n",
    "print(f\"RMSE на тестовой выборке: {cat_rmse:.2f}\")\n",
    "print(f\"Время предсказания: {cat_prediction_time:.4f} секунд\")"
   ]
  },
  {
   "cell_type": "markdown",
   "metadata": {},
   "source": [
    "\n",
    "\n",
    "<div class=\"alert alert-block alert-success\">\n",
    "    \n",
    "<b>Успех[2]:</b> На тесте получено хороший результат"
   ]
  },
  {
   "cell_type": "markdown",
   "metadata": {},
   "source": [
    "**Результаты CatBoost:**\n",
    "\n",
    "RMSE на тестовой выборке: 46.82\n",
    "Время предсказания: 0.0019 секунд\n",
    "\n",
    "Качество предсказания (RMSE):\n",
    "RMSE = 46.82 — это заметно хуже, чем результаты на кросс-валидации.\n",
    "Это может говорить о переобучении модели на обучающей выборке или о том, что тестовая выборка имеет отличающиеся распределения.\n",
    "\n",
    "Скорость:\n",
    "Очень быстрое предсказание  — это плюс, особенно при больших объёмах данных.\n",
    "\n",
    "Возможные причины ухудшения качества:\n",
    "Модель обучалась с использованием кросс-валидации только на train, но данные test могут содержать другие значения.\n",
    "\n",
    "\n",
    "В целом, модель Cat boost regressor продемонстрировала удовлетворительный результат на тестовой выборке, тк значение метрики RMSE на тестовой выборке должно быть не больше 48."
   ]
  },
  {
   "cell_type": "markdown",
   "metadata": {},
   "source": [
    "Чтобы оценить предсказания построим линейный график с истинными значениями(y_test) и предсказаниями модели(cat_preds)"
   ]
  },
  {
   "cell_type": "code",
   "execution_count": 48,
   "metadata": {},
   "outputs": [
    {
     "data": {
      "image/png": "[encoded data removed]",
      "text/plain": [
       "<Figure size 720x288 with 1 Axes>"
      ]
     },
     "metadata": {
      "needs_background": "light"
     },
     "output_type": "display_data"
    }
   ],
   "source": [
    "plt.figure(figsize=(10, 4))\n",
    "plt.plot(y_test.values[:200], label=\"Истинные значения\", marker='o')\n",
    "plt.plot(cat_preds[:200], label=\"Предсказания модели\", marker='x')\n",
    "plt.xlabel(\"Номер наблюдения\")\n",
    "plt.ylabel(\"Значение\")\n",
    "plt.title(\"Сравнение предсказаний и истинных значений\")\n",
    "plt.legend()\n",
    "plt.grid(True)\n",
    "plt.tight_layout()\n",
    "plt.show()\n"
   ]
  },
  {
   "cell_type": "markdown",
   "metadata": {},
   "source": [
    "Истинные значения (синяя линия) и предсказания (оранжевая линия) имеют схожие тенденции, но заметны отклонения, особенно в пиковых точках (например, около 100 и 175 наблюдений), где предсказания сильно переоценивают или недооценивают истинные значения. "
   ]
  },
  {
   "cell_type": "markdown",
   "metadata": {},
   "source": [
    "\n",
    "<div class=\"alert alert-info\">\n",
    "<b>Совет:</b> Формат линейного графика здесь подходит больше (имхо) - так мы сможем более наглядно понять, в каких местах твоя модель делает хорошие предсказания, а в каких ошибается.\n",
    "\n",
    "\n",
    "</div>\n"
   ]
  },
  {
   "cell_type": "markdown",
   "metadata": {},
   "source": [
    "\n",
    "\n",
    "<div class=\"alert alert-block alert-success\">\n",
    "    \n",
    "<b>Успех[2]:</b> 👍  Есть контакт"
   ]
  },
  {
   "cell_type": "markdown",
   "metadata": {},
   "source": [
    "Также построим график распределения ошибок. В идеале симметрия должна быть относительно нуля — пик должен быть в точке 0, а левый и правый хвосты — примерно одинаковыми. Форма, близкая к нормальному распределению (колоколообразная) — большинство ошибок малы, а большие ошибки редки. Отсутствие смещённости — нет «перекоса» распределения влево или вправо. Узкий диапазон ошибок (низкая дисперсия) — означает высокую точность предсказаний."
   ]
  },
  {
   "cell_type": "code",
   "execution_count": 49,
   "metadata": {},
   "outputs": [
    {
     "data": {
      "image/png": "[encoded data removed]",
      "text/plain": [
       "<Figure size 360x216 with 1 Axes>"
      ]
     },
     "metadata": {
      "needs_background": "light"
     },
     "output_type": "display_data"
    }
   ],
   "source": [
    "errors = y_test - cat_preds\n",
    "\n",
    "plt.figure(figsize=(5, 3))\n",
    "sns.histplot(errors, bins=30, kde=True)\n",
    "plt.xlabel(\"Ошибка (Истинное - Предсказанное)\")\n",
    "plt.title(\"Распределение ошибок модели\")\n",
    "plt.show()"
   ]
  },
  {
   "cell_type": "markdown",
   "metadata": {},
   "source": [
    "По данному графику можно сказать следующее:\n",
    "\n",
    "Форма распределения:\n",
    "\n",
    "Ошибки имеют примерно колоколообразное распределение, похожее на нормальное.\n",
    "\n",
    "Центр распределения:\n",
    "\n",
    "Пик гистограммы находится около нуля.\n",
    "Это говорит о том, что модель в среднем не систематически переоценивает или недооценивает значения (смещение невелико).\n",
    "\n",
    "Скошенность распределения:\n",
    "\n",
    "Видна небольшая правая асимметрия (скошенность вправо): справа хвост длиннее, ошибки доходят до ~+250, тогда как слева максимум примерно -100.\n",
    "Это значит, что в некоторых случаях модель сильно недооценивает истинное значение.\n",
    "\n",
    "Разброс ошибок:\n",
    "\n",
    "Большинство ошибок укладываются в диапазон примерно от -50 до +100.\n",
    "Довольно много наблюдений с ошибками около нуля.\n",
    "\n",
    "Краткий вывод:\n",
    "\n",
    "Распределение ошибок в основном симметричное и центрировано около нуля.\n",
    "Правая асимметрия и длинный хвост могут быть признаком:\n",
    "Несколько экстремальных значений (выбросов).\n"
   ]
  },
  {
   "cell_type": "markdown",
   "metadata": {},
   "source": [
    "## Общий вывод"
   ]
  },
  {
   "cell_type": "markdown",
   "metadata": {},
   "source": [
    "В ходе проекта была поставлена задача — спрогнозировать количество заказов такси на следующий час, используя данные о предыдущих заказах. Цель — добиться наилучшего качества прогноза по метрике RMSE (среднеквадратичной ошибки) на тестовой выборке.\n",
    "\n",
    "Краткие выводы: \n",
    "\n",
    "Виден устойчивый рост числа заказов с марта по конец августа 2018 года. Наблюдается явная суточная сезонность: меньше всего заказов около 5–6 утра. Больше всего утром (8–10 часов) и вечером (17–20 часов). В августе средние значения заказов выше, чем в остальные месяцы. Возможно, связано с сезоном отпусков или ростом спроса летом. Март–апрель — наиболее «спокойные» месяцы по числу заказов. в августе больше всего заказов стабильно во все дни недели. Пик в четверг. Понедельник (день 0) — почти во всех месяцах минимальное число заказов (это может быть связано с тем, что после выходных спрос падает). Рост к концу недели (чаще всего четверг-пятница) — особенно заметно в июле и августе. Выходные (5=сб, 6=вс) не всегда лидируют по числу заказов. В пятницу и понедельник среднее число заказов выше всего. Меньше всего во вторник и воскресенье\n",
    "\n",
    "---\n",
    "\n",
    "###  Ход работы\n",
    "\n",
    "1. Выполнены следующие этапы:\n",
    "\n",
    "- **Загрузка и ресемплирование данных** — исходные данные агрегированы с шагом в 1 час, что позволило корректно использовать временные признаки.\n",
    "- **Анализ данных** — выявлены закономерности в суточной и недельной активности пользователей.\n",
    "- **Обучение моделей** — построены и обучены разные модели машинного обучения с подбором гиперпараметров.\n",
    "- **Тестирование моделей** — 10% данных были отложены в качестве тестовой выборки. На ней проверено финальное качество моделей.\n",
    "- **Оценка по метрике RMSE** — выбрана метрика, отражающая среднюю ошибку модели на тестовой выборке.\n",
    "\n",
    "---\n",
    "\n",
    "### Модели и результаты кросс-валидации:\n",
    "\n",
    "| Модель              | RMSE (CV)     | Время обучения |\n",
    "|---------------------|---------------|----------------|\n",
    "| Линейная регрессия  | 31.73         | 0.015 с        |\n",
    "| Decision Tree     | 28.37         | 0.022 с        |\n",
    "| Random Forest      | 25.67         | 1.51 с         |\n",
    "| LightGBM            | 25.56         | 15.00 с        |\n",
    "| CatBoost            | 25.66         | 1.28 с         |\n",
    "\n",
    "🔎 **Наилучшие результаты** показали модели **LightGBM**, **Random Forest** и **CatBoost**. Все три уложились в нужный уровень ошибки (RMSE < 48) и показали стабильные метрики.\n",
    "\n",
    "\n",
    "---\n",
    "\n",
    "###  Результаты на тестовой выборке:\n",
    "\n",
    "- **Лучшая модель** (CatBoost) показала **RMSE = 46.82**, что **соответствует требованиям проекта**.\n",
    "- **Время предсказания** составило **0.0019 секунд**, что делает модель подходящей для реального времени.\n",
    "\n",
    "\n",
    "---\n",
    "\n",
    "### Анализ предсказаний:\n",
    "\n",
    "- Визуализация предсказаний показала, что модель систематически недооценивает пиковые значения.\n",
    "- Разброс между истинными и предсказанными значениями увеличивается при росте числа заказов, что типично для моделей без учёта сезонности и нестабильных трендов.\n",
    "\n",
    "---\n",
    "\n",
    "###  Выводы и рекомендации:\n",
    "\n",
    "- Все модели успешно обучены и протестированы.  \n",
    "- **CatBoostRegressor** продемонстрировал наилучшее соотношение **точности, скорости обучения и времени предсказания**.\n",
    "- Модель достигла **удовлетворительного уровня ошибки (RMSE < 48)**, что позволяет использовать её в продакшене.\n",
    "- Для лучшей интерпретации модели дополнительно использованы **графики предсказаний**.\n"
   ]
  },
  {
   "cell_type": "markdown",
   "metadata": {},
   "source": [
    "\n",
    "<div class=\"alert alert-block alert-success\">\n",
    "<b>Успех:</b> Всегда приятно наблюдать подробный и структурированный итоговый вывод в конце работы!\n",
    "</div>"
   ]
  },
  {
   "cell_type": "markdown",
   "metadata": {},
   "source": [
    "## Чек-лист проверки"
   ]
  },
  {
   "cell_type": "markdown",
   "metadata": {},
   "source": [
    "- [x]  Jupyter Notebook открыт\n",
    "- [ ]  Весь код выполняется без ошибок\n",
    "- [ ]  Ячейки с кодом расположены в порядке исполнения\n",
    "- [ ]  Данные загружены и подготовлены\n",
    "- [ ]  Данные проанализированы\n",
    "- [ ]  Модель обучена, гиперпараметры подобраны\n",
    "- [ ]  Качество моделей проверено, выводы сделаны\n",
    "- [ ]  Значение *RMSE* на тестовой выборке не больше 48"
   ]
  }
 ],
 "metadata": {
  "ExecuteTimeLog": [
   {
    "duration": 1548,
    "start_time": "2025-07-07T07:55:14.737Z"
   },
   {
    "duration": 43,
    "start_time": "2025-07-07T07:56:07.781Z"
   },
   {
    "duration": 148,
    "start_time": "2025-07-07T07:59:19.277Z"
   },
   {
    "duration": 17,
    "start_time": "2025-07-07T08:00:16.352Z"
   },
   {
    "duration": 15,
    "start_time": "2025-07-07T08:01:17.784Z"
   },
   {
    "duration": 9,
    "start_time": "2025-07-07T08:05:42.101Z"
   },
   {
    "duration": 24,
    "start_time": "2025-07-07T08:06:28.260Z"
   },
   {
    "duration": 12,
    "start_time": "2025-07-07T08:07:28.602Z"
   },
   {
    "duration": 13,
    "start_time": "2025-07-07T08:07:41.600Z"
   },
   {
    "duration": 1418,
    "start_time": "2025-07-07T08:11:04.774Z"
   },
   {
    "duration": 16,
    "start_time": "2025-07-07T08:12:54.454Z"
   },
   {
    "duration": 19,
    "start_time": "2025-07-07T08:13:11.347Z"
   },
   {
    "duration": 56,
    "start_time": "2025-07-07T08:13:40.688Z"
   },
   {
    "duration": 12,
    "start_time": "2025-07-07T08:13:42.411Z"
   },
   {
    "duration": 27,
    "start_time": "2025-07-07T08:13:45.445Z"
   },
   {
    "duration": 7,
    "start_time": "2025-07-07T08:13:47.967Z"
   },
   {
    "duration": 18,
    "start_time": "2025-07-07T08:13:57.940Z"
   },
   {
    "duration": 9,
    "start_time": "2025-07-07T08:14:19.087Z"
   },
   {
    "duration": 55,
    "start_time": "2025-07-07T08:14:40.947Z"
   },
   {
    "duration": 17,
    "start_time": "2025-07-07T08:14:42.640Z"
   },
   {
    "duration": 23,
    "start_time": "2025-07-07T08:14:45.453Z"
   },
   {
    "duration": 10,
    "start_time": "2025-07-07T08:14:46.849Z"
   },
   {
    "duration": 8,
    "start_time": "2025-07-07T08:14:51.485Z"
   },
   {
    "duration": 57,
    "start_time": "2025-07-07T08:15:24.073Z"
   },
   {
    "duration": 23,
    "start_time": "2025-07-07T08:15:25.535Z"
   },
   {
    "duration": 26,
    "start_time": "2025-07-07T08:15:26.918Z"
   },
   {
    "duration": 24,
    "start_time": "2025-07-07T08:15:28.229Z"
   },
   {
    "duration": 48,
    "start_time": "2025-07-07T08:15:51.202Z"
   },
   {
    "duration": 12,
    "start_time": "2025-07-07T08:15:52.669Z"
   },
   {
    "duration": 17,
    "start_time": "2025-07-07T08:15:54.018Z"
   },
   {
    "duration": 14,
    "start_time": "2025-07-07T08:15:55.220Z"
   },
   {
    "duration": 12,
    "start_time": "2025-07-07T08:20:22.587Z"
   },
   {
    "duration": 38,
    "start_time": "2025-07-07T08:39:07.832Z"
   },
   {
    "duration": 13,
    "start_time": "2025-07-07T08:41:59.824Z"
   },
   {
    "duration": 11,
    "start_time": "2025-07-07T08:42:18.115Z"
   },
   {
    "duration": 253,
    "start_time": "2025-07-07T08:42:59.698Z"
   },
   {
    "duration": 261,
    "start_time": "2025-07-07T08:43:29.082Z"
   },
   {
    "duration": 7,
    "start_time": "2025-07-07T08:44:04.918Z"
   },
   {
    "duration": 976,
    "start_time": "2025-07-07T08:49:02.216Z"
   },
   {
    "duration": 480,
    "start_time": "2025-07-07T09:04:14.935Z"
   },
   {
    "duration": 453,
    "start_time": "2025-07-07T09:10:31.249Z"
   },
   {
    "duration": 1496,
    "start_time": "2025-07-07T15:00:04.903Z"
   },
   {
    "duration": 50,
    "start_time": "2025-07-07T15:00:06.403Z"
   },
   {
    "duration": 14,
    "start_time": "2025-07-07T15:00:06.455Z"
   },
   {
    "duration": 226,
    "start_time": "2025-07-07T15:00:06.471Z"
   },
   {
    "duration": 69,
    "start_time": "2025-07-07T15:00:06.706Z"
   },
   {
    "duration": 15,
    "start_time": "2025-07-07T15:00:06.777Z"
   },
   {
    "duration": 95,
    "start_time": "2025-07-07T15:00:06.793Z"
   },
   {
    "duration": 1022,
    "start_time": "2025-07-07T15:00:06.890Z"
   },
   {
    "duration": 446,
    "start_time": "2025-07-07T15:00:07.915Z"
   },
   {
    "duration": 440,
    "start_time": "2025-07-07T15:00:08.362Z"
   },
   {
    "duration": 18,
    "start_time": "2025-07-07T15:03:21.008Z"
   },
   {
    "duration": 12,
    "start_time": "2025-07-07T15:03:34.173Z"
   },
   {
    "duration": 17,
    "start_time": "2025-07-07T15:06:03.324Z"
   },
   {
    "duration": 9,
    "start_time": "2025-07-07T15:13:12.937Z"
   },
   {
    "duration": 10,
    "start_time": "2025-07-07T15:16:41.979Z"
   },
   {
    "duration": 34,
    "start_time": "2025-07-07T15:16:59.593Z"
   },
   {
    "duration": 5,
    "start_time": "2025-07-07T15:19:37.085Z"
   },
   {
    "duration": 28,
    "start_time": "2025-07-07T15:19:38.007Z"
   },
   {
    "duration": 3,
    "start_time": "2025-07-07T15:19:54.449Z"
   },
   {
    "duration": 72,
    "start_time": "2025-07-07T15:19:54.455Z"
   },
   {
    "duration": 17,
    "start_time": "2025-07-07T15:19:54.529Z"
   },
   {
    "duration": 18,
    "start_time": "2025-07-07T15:19:54.549Z"
   },
   {
    "duration": 15,
    "start_time": "2025-07-07T15:19:54.570Z"
   },
   {
    "duration": 25,
    "start_time": "2025-07-07T15:19:54.586Z"
   },
   {
    "duration": 37,
    "start_time": "2025-07-07T15:19:54.614Z"
   },
   {
    "duration": 1061,
    "start_time": "2025-07-07T15:19:54.653Z"
   },
   {
    "duration": 456,
    "start_time": "2025-07-07T15:19:55.723Z"
   },
   {
    "duration": 402,
    "start_time": "2025-07-07T15:19:56.182Z"
   },
   {
    "duration": 22,
    "start_time": "2025-07-07T15:19:56.586Z"
   },
   {
    "duration": 46,
    "start_time": "2025-07-07T15:19:56.610Z"
   },
   {
    "duration": 6,
    "start_time": "2025-07-07T15:19:56.658Z"
   },
   {
    "duration": 10,
    "start_time": "2025-07-07T15:19:56.666Z"
   },
   {
    "duration": 13,
    "start_time": "2025-07-07T15:19:56.678Z"
   },
   {
    "duration": 15,
    "start_time": "2025-07-07T15:20:39.379Z"
   },
   {
    "duration": 4,
    "start_time": "2025-07-07T15:21:46.830Z"
   },
   {
    "duration": 43,
    "start_time": "2025-07-07T15:21:46.836Z"
   },
   {
    "duration": 11,
    "start_time": "2025-07-07T15:21:46.881Z"
   },
   {
    "duration": 32,
    "start_time": "2025-07-07T15:21:46.894Z"
   },
   {
    "duration": 16,
    "start_time": "2025-07-07T15:21:46.929Z"
   },
   {
    "duration": 14,
    "start_time": "2025-07-07T15:21:46.948Z"
   },
   {
    "duration": 17,
    "start_time": "2025-07-07T15:21:46.964Z"
   },
   {
    "duration": 843,
    "start_time": "2025-07-07T15:21:46.983Z"
   },
   {
    "duration": 437,
    "start_time": "2025-07-07T15:21:47.829Z"
   },
   {
    "duration": 369,
    "start_time": "2025-07-07T15:21:48.267Z"
   },
   {
    "duration": 11,
    "start_time": "2025-07-07T15:21:48.637Z"
   },
   {
    "duration": 38,
    "start_time": "2025-07-07T15:21:48.650Z"
   },
   {
    "duration": 38,
    "start_time": "2025-07-07T15:21:48.690Z"
   },
   {
    "duration": 39,
    "start_time": "2025-07-07T15:21:48.732Z"
   },
   {
    "duration": 46,
    "start_time": "2025-07-07T15:21:48.772Z"
   },
   {
    "duration": 5,
    "start_time": "2025-07-07T15:22:37.154Z"
   },
   {
    "duration": 19,
    "start_time": "2025-07-07T15:22:37.827Z"
   },
   {
    "duration": 3,
    "start_time": "2025-07-07T15:24:16.755Z"
   },
   {
    "duration": 99,
    "start_time": "2025-07-07T15:24:16.760Z"
   },
   {
    "duration": 13,
    "start_time": "2025-07-07T15:24:16.861Z"
   },
   {
    "duration": 27,
    "start_time": "2025-07-07T15:24:16.875Z"
   },
   {
    "duration": 32,
    "start_time": "2025-07-07T15:24:16.905Z"
   },
   {
    "duration": 8,
    "start_time": "2025-07-07T15:24:16.939Z"
   },
   {
    "duration": 12,
    "start_time": "2025-07-07T15:24:16.949Z"
   },
   {
    "duration": 938,
    "start_time": "2025-07-07T15:24:16.962Z"
   },
   {
    "duration": 471,
    "start_time": "2025-07-07T15:24:17.911Z"
   },
   {
    "duration": 446,
    "start_time": "2025-07-07T15:24:18.384Z"
   },
   {
    "duration": 14,
    "start_time": "2025-07-07T15:24:18.836Z"
   },
   {
    "duration": 41,
    "start_time": "2025-07-07T15:24:18.852Z"
   },
   {
    "duration": 46,
    "start_time": "2025-07-07T15:24:18.895Z"
   },
   {
    "duration": 17,
    "start_time": "2025-07-07T15:24:18.944Z"
   },
   {
    "duration": 15,
    "start_time": "2025-07-07T15:24:18.963Z"
   },
   {
    "duration": 1390,
    "start_time": "2025-07-08T07:36:33.488Z"
   },
   {
    "duration": 53,
    "start_time": "2025-07-08T07:36:34.880Z"
   },
   {
    "duration": 14,
    "start_time": "2025-07-08T07:36:34.934Z"
   },
   {
    "duration": 29,
    "start_time": "2025-07-08T07:36:34.949Z"
   },
   {
    "duration": 14,
    "start_time": "2025-07-08T07:36:34.981Z"
   },
   {
    "duration": 32,
    "start_time": "2025-07-08T07:36:34.997Z"
   },
   {
    "duration": 25,
    "start_time": "2025-07-08T07:36:35.031Z"
   },
   {
    "duration": 830,
    "start_time": "2025-07-08T07:36:35.058Z"
   },
   {
    "duration": 414,
    "start_time": "2025-07-08T07:36:35.890Z"
   },
   {
    "duration": 386,
    "start_time": "2025-07-08T07:36:36.306Z"
   },
   {
    "duration": 11,
    "start_time": "2025-07-08T07:36:36.693Z"
   },
   {
    "duration": 75,
    "start_time": "2025-07-08T07:36:36.705Z"
   },
   {
    "duration": 8,
    "start_time": "2025-07-08T07:36:36.782Z"
   },
   {
    "duration": 8,
    "start_time": "2025-07-08T07:36:36.793Z"
   },
   {
    "duration": 13,
    "start_time": "2025-07-08T07:36:36.803Z"
   },
   {
    "duration": 388,
    "start_time": "2025-07-08T07:38:42.309Z"
   },
   {
    "duration": 4,
    "start_time": "2025-07-08T07:45:00.895Z"
   },
   {
    "duration": 6,
    "start_time": "2025-07-08T07:45:42.554Z"
   },
   {
    "duration": 4,
    "start_time": "2025-07-08T07:46:21.297Z"
   },
   {
    "duration": 8,
    "start_time": "2025-07-08T07:49:54.209Z"
   },
   {
    "duration": 116,
    "start_time": "2025-07-08T07:50:10.261Z"
   },
   {
    "duration": 7143,
    "start_time": "2025-07-08T07:52:04.255Z"
   },
   {
    "duration": 6138,
    "start_time": "2025-07-08T07:53:35.161Z"
   },
   {
    "duration": 9158,
    "start_time": "2025-07-08T07:54:35.967Z"
   },
   {
    "duration": 6053,
    "start_time": "2025-07-08T07:55:06.746Z"
   },
   {
    "duration": 47,
    "start_time": "2025-07-08T07:55:18.187Z"
   },
   {
    "duration": 14,
    "start_time": "2025-07-08T07:55:18.236Z"
   },
   {
    "duration": 29,
    "start_time": "2025-07-08T07:55:18.252Z"
   },
   {
    "duration": 24,
    "start_time": "2025-07-08T07:55:18.283Z"
   },
   {
    "duration": 6,
    "start_time": "2025-07-08T07:55:18.310Z"
   },
   {
    "duration": 19,
    "start_time": "2025-07-08T07:55:18.318Z"
   },
   {
    "duration": 931,
    "start_time": "2025-07-08T07:55:18.338Z"
   },
   {
    "duration": 373,
    "start_time": "2025-07-08T07:55:19.271Z"
   },
   {
    "duration": 351,
    "start_time": "2025-07-08T07:55:19.645Z"
   },
   {
    "duration": 11,
    "start_time": "2025-07-08T07:55:19.998Z"
   },
   {
    "duration": 102,
    "start_time": "2025-07-08T07:55:20.011Z"
   },
   {
    "duration": 14,
    "start_time": "2025-07-08T07:55:20.116Z"
   },
   {
    "duration": 8,
    "start_time": "2025-07-08T07:55:20.132Z"
   },
   {
    "duration": 14,
    "start_time": "2025-07-08T07:55:20.142Z"
   },
   {
    "duration": 21,
    "start_time": "2025-07-08T07:55:20.158Z"
   },
   {
    "duration": 9,
    "start_time": "2025-07-08T07:55:20.181Z"
   },
   {
    "duration": 13,
    "start_time": "2025-07-08T07:55:20.192Z"
   },
   {
    "duration": 9,
    "start_time": "2025-07-08T07:55:20.207Z"
   },
   {
    "duration": 4,
    "start_time": "2025-07-08T07:58:49.129Z"
   },
   {
    "duration": 3,
    "start_time": "2025-07-08T08:03:10.757Z"
   },
   {
    "duration": 3,
    "start_time": "2025-07-08T08:08:55.566Z"
   },
   {
    "duration": 3,
    "start_time": "2025-07-08T08:09:31.596Z"
   },
   {
    "duration": 113,
    "start_time": "2025-07-08T08:15:32.165Z"
   },
   {
    "duration": 284,
    "start_time": "2025-07-08T08:15:46.897Z"
   },
   {
    "duration": 6073,
    "start_time": "2025-07-08T08:19:09.307Z"
   },
   {
    "duration": 17,
    "start_time": "2025-07-08T08:24:17.608Z"
   },
   {
    "duration": 198,
    "start_time": "2025-07-08T08:26:37.380Z"
   },
   {
    "duration": 3,
    "start_time": "2025-07-08T08:42:08.497Z"
   },
   {
    "duration": 3,
    "start_time": "2025-07-08T08:42:13.470Z"
   },
   {
    "duration": 3559,
    "start_time": "2025-07-08T08:46:48.084Z"
   },
   {
    "duration": 11288,
    "start_time": "2025-07-08T13:16:37.909Z"
   },
   {
    "duration": 52,
    "start_time": "2025-07-08T13:16:49.199Z"
   },
   {
    "duration": 13,
    "start_time": "2025-07-08T13:16:49.252Z"
   },
   {
    "duration": 27,
    "start_time": "2025-07-08T13:16:49.267Z"
   },
   {
    "duration": 13,
    "start_time": "2025-07-08T13:16:49.297Z"
   },
   {
    "duration": 7,
    "start_time": "2025-07-08T13:16:49.312Z"
   },
   {
    "duration": 23,
    "start_time": "2025-07-08T13:16:49.321Z"
   },
   {
    "duration": 924,
    "start_time": "2025-07-08T13:16:49.347Z"
   },
   {
    "duration": 391,
    "start_time": "2025-07-08T13:16:50.273Z"
   },
   {
    "duration": 341,
    "start_time": "2025-07-08T13:16:50.665Z"
   },
   {
    "duration": 10,
    "start_time": "2025-07-08T13:16:51.007Z"
   },
   {
    "duration": 25,
    "start_time": "2025-07-08T13:16:51.019Z"
   },
   {
    "duration": 97,
    "start_time": "2025-07-08T13:16:51.046Z"
   },
   {
    "duration": 31,
    "start_time": "2025-07-08T13:16:51.146Z"
   },
   {
    "duration": 41,
    "start_time": "2025-07-08T13:16:51.179Z"
   },
   {
    "duration": 19,
    "start_time": "2025-07-08T13:16:51.221Z"
   },
   {
    "duration": 19,
    "start_time": "2025-07-08T13:16:51.242Z"
   },
   {
    "duration": 8,
    "start_time": "2025-07-08T13:16:51.263Z"
   },
   {
    "duration": 9,
    "start_time": "2025-07-08T13:16:51.272Z"
   },
   {
    "duration": 18,
    "start_time": "2025-07-08T13:16:51.282Z"
   },
   {
    "duration": 17,
    "start_time": "2025-07-08T13:16:51.302Z"
   },
   {
    "duration": 27,
    "start_time": "2025-07-08T13:16:51.320Z"
   },
   {
    "duration": 10,
    "start_time": "2025-07-08T13:16:51.349Z"
   },
   {
    "duration": 206,
    "start_time": "2025-07-08T13:16:51.361Z"
   },
   {
    "duration": 4,
    "start_time": "2025-07-08T13:16:51.569Z"
   },
   {
    "duration": 93,
    "start_time": "2025-07-08T13:16:51.575Z"
   },
   {
    "duration": 3584,
    "start_time": "2025-07-08T13:16:51.669Z"
   },
   {
    "duration": 3,
    "start_time": "2025-07-08T13:17:39.124Z"
   },
   {
    "duration": 3,
    "start_time": "2025-07-08T13:19:26.157Z"
   },
   {
    "duration": 101597,
    "start_time": "2025-07-08T13:19:52.915Z"
   },
   {
    "duration": 99202,
    "start_time": "2025-07-08T13:24:50.577Z"
   },
   {
    "duration": 88264,
    "start_time": "2025-07-08T13:35:46.308Z"
   },
   {
    "duration": 5289,
    "start_time": "2025-07-08T13:43:55.995Z"
   },
   {
    "duration": 46160,
    "start_time": "2025-07-08T13:46:30.498Z"
   },
   {
    "duration": 7840,
    "start_time": "2025-07-08T13:59:28.203Z"
   },
   {
    "duration": 54,
    "start_time": "2025-07-08T13:59:36.045Z"
   },
   {
    "duration": 12,
    "start_time": "2025-07-08T13:59:36.101Z"
   },
   {
    "duration": 25,
    "start_time": "2025-07-08T13:59:36.114Z"
   },
   {
    "duration": 15,
    "start_time": "2025-07-08T13:59:36.142Z"
   },
   {
    "duration": 8,
    "start_time": "2025-07-08T13:59:36.162Z"
   },
   {
    "duration": 48,
    "start_time": "2025-07-08T13:59:36.171Z"
   },
   {
    "duration": 902,
    "start_time": "2025-07-08T13:59:36.221Z"
   },
   {
    "duration": 389,
    "start_time": "2025-07-08T13:59:37.125Z"
   },
   {
    "duration": 362,
    "start_time": "2025-07-08T13:59:37.516Z"
   },
   {
    "duration": 12,
    "start_time": "2025-07-08T13:59:37.880Z"
   },
   {
    "duration": 26,
    "start_time": "2025-07-08T13:59:37.893Z"
   },
   {
    "duration": 13,
    "start_time": "2025-07-08T13:59:37.922Z"
   },
   {
    "duration": 35,
    "start_time": "2025-07-08T13:59:37.940Z"
   },
   {
    "duration": 26,
    "start_time": "2025-07-08T13:59:37.979Z"
   },
   {
    "duration": 11,
    "start_time": "2025-07-08T13:59:38.007Z"
   },
   {
    "duration": 5,
    "start_time": "2025-07-08T13:59:38.020Z"
   },
   {
    "duration": 13,
    "start_time": "2025-07-08T13:59:38.026Z"
   },
   {
    "duration": 21,
    "start_time": "2025-07-08T13:59:38.041Z"
   },
   {
    "duration": 8,
    "start_time": "2025-07-08T13:59:38.064Z"
   },
   {
    "duration": 6,
    "start_time": "2025-07-08T13:59:38.074Z"
   },
   {
    "duration": 9,
    "start_time": "2025-07-08T13:59:38.081Z"
   },
   {
    "duration": 11,
    "start_time": "2025-07-08T13:59:38.092Z"
   },
   {
    "duration": 475,
    "start_time": "2025-07-08T13:59:38.105Z"
   },
   {
    "duration": 0,
    "start_time": "2025-07-08T13:59:38.582Z"
   },
   {
    "duration": 0,
    "start_time": "2025-07-08T13:59:38.583Z"
   },
   {
    "duration": 0,
    "start_time": "2025-07-08T13:59:38.584Z"
   },
   {
    "duration": 0,
    "start_time": "2025-07-08T13:59:38.585Z"
   },
   {
    "duration": 0,
    "start_time": "2025-07-08T13:59:38.586Z"
   },
   {
    "duration": 0,
    "start_time": "2025-07-08T13:59:38.587Z"
   },
   {
    "duration": 0,
    "start_time": "2025-07-08T13:59:38.588Z"
   },
   {
    "duration": 0,
    "start_time": "2025-07-08T13:59:38.589Z"
   },
   {
    "duration": 0,
    "start_time": "2025-07-08T13:59:38.590Z"
   },
   {
    "duration": 182,
    "start_time": "2025-07-08T14:00:09.285Z"
   },
   {
    "duration": 3,
    "start_time": "2025-07-08T14:00:16.210Z"
   },
   {
    "duration": 10,
    "start_time": "2025-07-08T14:00:16.215Z"
   },
   {
    "duration": 3683,
    "start_time": "2025-07-08T14:00:16.227Z"
   },
   {
    "duration": 3,
    "start_time": "2025-07-08T14:00:19.913Z"
   },
   {
    "duration": 14,
    "start_time": "2025-07-08T14:00:19.918Z"
   },
   {
    "duration": 98653,
    "start_time": "2025-07-08T14:00:19.934Z"
   },
   {
    "duration": 89591,
    "start_time": "2025-07-08T14:01:58.589Z"
   },
   {
    "duration": 0,
    "start_time": "2025-07-08T14:03:28.181Z"
   },
   {
    "duration": 0,
    "start_time": "2025-07-08T14:03:28.183Z"
   },
   {
    "duration": 84424,
    "start_time": "2025-07-08T14:03:46.748Z"
   },
   {
    "duration": 44817,
    "start_time": "2025-07-08T14:05:23.830Z"
   },
   {
    "duration": 12,
    "start_time": "2025-07-08T14:06:08.648Z"
   },
   {
    "duration": 6,
    "start_time": "2025-07-08T14:07:30.648Z"
   },
   {
    "duration": 7,
    "start_time": "2025-07-08T14:07:38.911Z"
   },
   {
    "duration": 12,
    "start_time": "2025-07-08T14:07:46.280Z"
   },
   {
    "duration": 197,
    "start_time": "2025-07-08T14:13:40.739Z"
   },
   {
    "duration": 188,
    "start_time": "2025-07-08T14:21:47.581Z"
   },
   {
    "duration": 199,
    "start_time": "2025-07-08T14:23:15.884Z"
   },
   {
    "duration": 91,
    "start_time": "2025-07-08T14:23:19.845Z"
   },
   {
    "duration": 11830,
    "start_time": "2025-07-09T07:01:46.664Z"
   },
   {
    "duration": 52,
    "start_time": "2025-07-09T07:01:58.496Z"
   },
   {
    "duration": 13,
    "start_time": "2025-07-09T07:01:58.549Z"
   },
   {
    "duration": 15,
    "start_time": "2025-07-09T07:01:58.564Z"
   },
   {
    "duration": 23,
    "start_time": "2025-07-09T07:01:58.581Z"
   },
   {
    "duration": 6,
    "start_time": "2025-07-09T07:01:58.606Z"
   },
   {
    "duration": 17,
    "start_time": "2025-07-09T07:01:58.614Z"
   },
   {
    "duration": 1025,
    "start_time": "2025-07-09T07:01:58.632Z"
   },
   {
    "duration": 388,
    "start_time": "2025-07-09T07:01:59.659Z"
   },
   {
    "duration": 363,
    "start_time": "2025-07-09T07:02:00.049Z"
   },
   {
    "duration": 225,
    "start_time": "2025-07-09T07:02:00.414Z"
   },
   {
    "duration": 105,
    "start_time": "2025-07-09T07:02:00.641Z"
   },
   {
    "duration": 17,
    "start_time": "2025-07-09T07:02:00.748Z"
   },
   {
    "duration": 15,
    "start_time": "2025-07-09T07:02:00.768Z"
   },
   {
    "duration": 14,
    "start_time": "2025-07-09T07:02:00.784Z"
   },
   {
    "duration": 24,
    "start_time": "2025-07-09T07:02:00.799Z"
   },
   {
    "duration": 36,
    "start_time": "2025-07-09T07:02:00.825Z"
   },
   {
    "duration": 93,
    "start_time": "2025-07-09T07:02:00.863Z"
   },
   {
    "duration": 223,
    "start_time": "2025-07-09T07:02:00.958Z"
   },
   {
    "duration": 5,
    "start_time": "2025-07-09T07:02:01.183Z"
   },
   {
    "duration": 66,
    "start_time": "2025-07-09T07:02:01.190Z"
   },
   {
    "duration": 19,
    "start_time": "2025-07-09T07:02:01.258Z"
   },
   {
    "duration": 4,
    "start_time": "2025-07-09T07:02:01.278Z"
   },
   {
    "duration": 3,
    "start_time": "2025-07-09T07:02:01.284Z"
   },
   {
    "duration": 4,
    "start_time": "2025-07-09T07:02:01.289Z"
   },
   {
    "duration": 4,
    "start_time": "2025-07-09T07:02:01.294Z"
   },
   {
    "duration": 21,
    "start_time": "2025-07-09T07:02:01.300Z"
   },
   {
    "duration": 239,
    "start_time": "2025-07-09T07:02:01.322Z"
   },
   {
    "duration": 7,
    "start_time": "2025-07-09T07:02:01.565Z"
   },
   {
    "duration": 166,
    "start_time": "2025-07-09T07:02:01.577Z"
   },
   {
    "duration": 3590,
    "start_time": "2025-07-09T07:02:01.745Z"
   },
   {
    "duration": 3,
    "start_time": "2025-07-09T07:02:05.337Z"
   },
   {
    "duration": 30,
    "start_time": "2025-07-09T07:02:05.341Z"
   },
   {
    "duration": 95640,
    "start_time": "2025-07-09T07:02:05.373Z"
   },
   {
    "duration": 85053,
    "start_time": "2025-07-09T07:03:41.014Z"
   },
   {
    "duration": 51529,
    "start_time": "2025-07-09T07:05:06.069Z"
   },
   {
    "duration": 11,
    "start_time": "2025-07-09T07:05:57.600Z"
   },
   {
    "duration": 132,
    "start_time": "2025-07-09T07:11:14.927Z"
   },
   {
    "duration": 15,
    "start_time": "2025-07-09T07:13:32.642Z"
   },
   {
    "duration": 16,
    "start_time": "2025-07-09T07:19:26.304Z"
   },
   {
    "duration": 6,
    "start_time": "2025-07-09T07:24:43.323Z"
   },
   {
    "duration": 150,
    "start_time": "2025-07-09T07:29:06.966Z"
   },
   {
    "duration": 245,
    "start_time": "2025-07-09T07:29:17.855Z"
   },
   {
    "duration": 131,
    "start_time": "2025-07-09T07:29:24.344Z"
   },
   {
    "duration": 184,
    "start_time": "2025-07-09T07:30:25.572Z"
   },
   {
    "duration": 11959,
    "start_time": "2025-07-10T06:27:09.468Z"
   },
   {
    "duration": 62,
    "start_time": "2025-07-10T06:29:42.962Z"
   },
   {
    "duration": 12,
    "start_time": "2025-07-10T06:29:50.500Z"
   },
   {
    "duration": 1673,
    "start_time": "2025-07-10T06:31:03.638Z"
   },
   {
    "duration": 4,
    "start_time": "2025-07-10T06:31:19.945Z"
   },
   {
    "duration": 15,
    "start_time": "2025-07-10T06:32:31.984Z"
   },
   {
    "duration": 8,
    "start_time": "2025-07-10T06:32:33.185Z"
   },
   {
    "duration": 14,
    "start_time": "2025-07-10T06:32:35.982Z"
   },
   {
    "duration": 910,
    "start_time": "2025-07-10T06:42:02.167Z"
   },
   {
    "duration": 434,
    "start_time": "2025-07-10T06:42:08.482Z"
   },
   {
    "duration": 376,
    "start_time": "2025-07-10T06:42:19.025Z"
   },
   {
    "duration": 246,
    "start_time": "2025-07-10T06:42:26.345Z"
   },
   {
    "duration": 243,
    "start_time": "2025-07-10T06:43:29.467Z"
   },
   {
    "duration": 22,
    "start_time": "2025-07-10T06:44:50.299Z"
   },
   {
    "duration": 181,
    "start_time": "2025-07-10T06:46:41.094Z"
   },
   {
    "duration": 211,
    "start_time": "2025-07-10T06:47:45.051Z"
   },
   {
    "duration": 176,
    "start_time": "2025-07-10T06:58:12.616Z"
   },
   {
    "duration": 6483,
    "start_time": "2025-07-10T07:04:52.302Z"
   },
   {
    "duration": 2280,
    "start_time": "2025-07-10T07:08:01.581Z"
   },
   {
    "duration": 1917,
    "start_time": "2025-07-10T07:08:16.450Z"
   },
   {
    "duration": 162,
    "start_time": "2025-07-10T07:16:51.632Z"
   },
   {
    "duration": 116,
    "start_time": "2025-07-10T07:19:25.696Z"
   },
   {
    "duration": 11,
    "start_time": "2025-07-10T07:20:57.666Z"
   },
   {
    "duration": 17,
    "start_time": "2025-07-10T07:21:22.848Z"
   },
   {
    "duration": 12173,
    "start_time": "2025-07-10T09:33:52.387Z"
   },
   {
    "duration": 61,
    "start_time": "2025-07-10T09:34:04.562Z"
   },
   {
    "duration": 11,
    "start_time": "2025-07-10T09:34:04.625Z"
   },
   {
    "duration": 9,
    "start_time": "2025-07-10T09:34:04.638Z"
   },
   {
    "duration": 35,
    "start_time": "2025-07-10T09:34:04.650Z"
   },
   {
    "duration": 6,
    "start_time": "2025-07-10T09:34:04.687Z"
   },
   {
    "duration": 31,
    "start_time": "2025-07-10T09:34:04.698Z"
   },
   {
    "duration": 1096,
    "start_time": "2025-07-10T09:34:04.731Z"
   },
   {
    "duration": 415,
    "start_time": "2025-07-10T09:34:05.829Z"
   },
   {
    "duration": 391,
    "start_time": "2025-07-10T09:34:06.246Z"
   },
   {
    "duration": 201,
    "start_time": "2025-07-10T09:34:06.639Z"
   },
   {
    "duration": 192,
    "start_time": "2025-07-10T09:34:06.842Z"
   },
   {
    "duration": 224,
    "start_time": "2025-07-10T09:34:07.036Z"
   },
   {
    "duration": 165,
    "start_time": "2025-07-10T09:34:07.263Z"
   },
   {
    "duration": 1971,
    "start_time": "2025-07-10T09:34:07.429Z"
   },
   {
    "duration": 324,
    "start_time": "2025-07-10T09:34:09.402Z"
   },
   {
    "duration": 225,
    "start_time": "2025-07-10T09:34:09.727Z"
   },
   {
    "duration": 10,
    "start_time": "2025-07-10T09:34:09.953Z"
   },
   {
    "duration": 41,
    "start_time": "2025-07-10T09:34:09.964Z"
   },
   {
    "duration": 39,
    "start_time": "2025-07-10T09:34:10.006Z"
   },
   {
    "duration": 52,
    "start_time": "2025-07-10T09:34:10.047Z"
   },
   {
    "duration": 4,
    "start_time": "2025-07-10T09:38:24.928Z"
   },
   {
    "duration": 231,
    "start_time": "2025-07-10T09:38:25.675Z"
   },
   {
    "duration": 6,
    "start_time": "2025-07-10T09:38:29.425Z"
   },
   {
    "duration": 5,
    "start_time": "2025-07-10T09:38:30.123Z"
   },
   {
    "duration": 9,
    "start_time": "2025-07-10T09:38:32.366Z"
   },
   {
    "duration": 7347,
    "start_time": "2025-07-10T09:40:27.712Z"
   },
   {
    "duration": 62,
    "start_time": "2025-07-10T09:40:35.063Z"
   },
   {
    "duration": 14,
    "start_time": "2025-07-10T09:40:35.127Z"
   },
   {
    "duration": 17,
    "start_time": "2025-07-10T09:40:35.144Z"
   },
   {
    "duration": 58,
    "start_time": "2025-07-10T09:40:35.164Z"
   },
   {
    "duration": 57,
    "start_time": "2025-07-10T09:40:35.224Z"
   },
   {
    "duration": 33,
    "start_time": "2025-07-10T09:40:35.283Z"
   },
   {
    "duration": 943,
    "start_time": "2025-07-10T09:40:35.317Z"
   },
   {
    "duration": 420,
    "start_time": "2025-07-10T09:40:36.262Z"
   },
   {
    "duration": 393,
    "start_time": "2025-07-10T09:40:36.684Z"
   },
   {
    "duration": 232,
    "start_time": "2025-07-10T09:40:37.079Z"
   },
   {
    "duration": 205,
    "start_time": "2025-07-10T09:40:37.313Z"
   },
   {
    "duration": 233,
    "start_time": "2025-07-10T09:40:37.520Z"
   },
   {
    "duration": 309,
    "start_time": "2025-07-10T09:40:37.757Z"
   },
   {
    "duration": 3437,
    "start_time": "2025-07-10T09:40:38.068Z"
   },
   {
    "duration": 331,
    "start_time": "2025-07-10T09:40:41.508Z"
   },
   {
    "duration": 126,
    "start_time": "2025-07-10T09:40:41.841Z"
   },
   {
    "duration": 10,
    "start_time": "2025-07-10T09:40:41.968Z"
   },
   {
    "duration": 71,
    "start_time": "2025-07-10T09:40:41.980Z"
   },
   {
    "duration": 11,
    "start_time": "2025-07-10T09:40:42.053Z"
   },
   {
    "duration": 10,
    "start_time": "2025-07-10T09:40:42.066Z"
   },
   {
    "duration": 5,
    "start_time": "2025-07-10T09:40:42.079Z"
   },
   {
    "duration": 250,
    "start_time": "2025-07-10T09:40:42.086Z"
   },
   {
    "duration": 5,
    "start_time": "2025-07-10T09:40:42.338Z"
   },
   {
    "duration": 24,
    "start_time": "2025-07-10T09:40:42.344Z"
   },
   {
    "duration": 28,
    "start_time": "2025-07-10T09:40:42.369Z"
   },
   {
    "duration": 15,
    "start_time": "2025-07-10T09:40:42.402Z"
   },
   {
    "duration": 3,
    "start_time": "2025-07-10T09:43:17.674Z"
   },
   {
    "duration": 3,
    "start_time": "2025-07-10T09:43:18.453Z"
   },
   {
    "duration": 919,
    "start_time": "2025-07-10T09:43:19.290Z"
   },
   {
    "duration": 6563,
    "start_time": "2025-07-10T09:46:12.891Z"
   },
   {
    "duration": 4,
    "start_time": "2025-07-10T09:47:11.567Z"
   },
   {
    "duration": 515,
    "start_time": "2025-07-10T09:47:12.411Z"
   },
   {
    "duration": 3,
    "start_time": "2025-07-10T09:49:18.374Z"
   },
   {
    "duration": 4,
    "start_time": "2025-07-10T09:49:19.109Z"
   },
   {
    "duration": 4723,
    "start_time": "2025-07-10T09:49:22.289Z"
   },
   {
    "duration": 3,
    "start_time": "2025-07-10T09:51:42.765Z"
   },
   {
    "duration": 3,
    "start_time": "2025-07-10T09:51:48.450Z"
   },
   {
    "duration": 123498,
    "start_time": "2025-07-10T09:51:56.314Z"
   },
   {
    "duration": 8371,
    "start_time": "2025-07-10T10:28:03.150Z"
   },
   {
    "duration": 52,
    "start_time": "2025-07-10T10:28:11.523Z"
   },
   {
    "duration": 11,
    "start_time": "2025-07-10T10:28:11.576Z"
   },
   {
    "duration": 23,
    "start_time": "2025-07-10T10:28:11.589Z"
   },
   {
    "duration": 27,
    "start_time": "2025-07-10T10:28:11.614Z"
   },
   {
    "duration": 27,
    "start_time": "2025-07-10T10:28:11.643Z"
   },
   {
    "duration": 12,
    "start_time": "2025-07-10T10:28:11.672Z"
   },
   {
    "duration": 941,
    "start_time": "2025-07-10T10:28:11.686Z"
   },
   {
    "duration": 441,
    "start_time": "2025-07-10T10:28:12.629Z"
   },
   {
    "duration": 393,
    "start_time": "2025-07-10T10:28:13.073Z"
   },
   {
    "duration": 220,
    "start_time": "2025-07-10T10:28:13.468Z"
   },
   {
    "duration": 224,
    "start_time": "2025-07-10T10:28:13.689Z"
   },
   {
    "duration": 249,
    "start_time": "2025-07-10T10:28:13.915Z"
   },
   {
    "duration": 195,
    "start_time": "2025-07-10T10:28:14.166Z"
   },
   {
    "duration": 3263,
    "start_time": "2025-07-10T10:28:14.362Z"
   },
   {
    "duration": 331,
    "start_time": "2025-07-10T10:28:17.704Z"
   },
   {
    "duration": 247,
    "start_time": "2025-07-10T10:28:18.037Z"
   },
   {
    "duration": 29,
    "start_time": "2025-07-10T10:28:18.287Z"
   },
   {
    "duration": 13,
    "start_time": "2025-07-10T10:28:18.317Z"
   },
   {
    "duration": 9,
    "start_time": "2025-07-10T10:28:18.331Z"
   },
   {
    "duration": 17,
    "start_time": "2025-07-10T10:28:18.342Z"
   },
   {
    "duration": 4,
    "start_time": "2025-07-10T10:28:18.361Z"
   },
   {
    "duration": 265,
    "start_time": "2025-07-10T10:28:18.368Z"
   },
   {
    "duration": 5,
    "start_time": "2025-07-10T10:28:18.635Z"
   },
   {
    "duration": 31,
    "start_time": "2025-07-10T10:28:18.642Z"
   },
   {
    "duration": 9,
    "start_time": "2025-07-10T10:28:18.675Z"
   },
   {
    "duration": 4,
    "start_time": "2025-07-10T10:28:18.686Z"
   },
   {
    "duration": 96,
    "start_time": "2025-07-10T10:28:18.693Z"
   },
   {
    "duration": 90,
    "start_time": "2025-07-10T10:28:18.791Z"
   },
   {
    "duration": 6,
    "start_time": "2025-07-10T10:28:18.883Z"
   },
   {
    "duration": 414,
    "start_time": "2025-07-10T10:28:18.891Z"
   },
   {
    "duration": 7,
    "start_time": "2025-07-10T10:28:19.307Z"
   },
   {
    "duration": 84,
    "start_time": "2025-07-10T10:28:19.317Z"
   },
   {
    "duration": 4385,
    "start_time": "2025-07-10T10:28:19.404Z"
   },
   {
    "duration": 6,
    "start_time": "2025-07-10T10:28:23.806Z"
   },
   {
    "duration": 65,
    "start_time": "2025-07-10T10:28:23.814Z"
   },
   {
    "duration": 122358,
    "start_time": "2025-07-10T10:28:23.881Z"
   },
   {
    "duration": 1743082,
    "start_time": "2025-07-10T10:30:26.241Z"
   },
   {
    "duration": 78480,
    "start_time": "2025-07-10T11:02:50.361Z"
   },
   {
    "duration": 163,
    "start_time": "2025-07-10T11:05:10.747Z"
   },
   {
    "duration": 14,
    "start_time": "2025-07-10T11:05:38.572Z"
   },
   {
    "duration": 14,
    "start_time": "2025-07-10T11:05:58.362Z"
   },
   {
    "duration": 14,
    "start_time": "2025-07-10T11:07:15.240Z"
   },
   {
    "duration": 8,
    "start_time": "2025-07-10T11:11:30.431Z"
   },
   {
    "duration": 13978,
    "start_time": "2025-07-10T11:24:57.575Z"
   },
   {
    "duration": 8,
    "start_time": "2025-07-10T11:25:21.355Z"
   },
   {
    "duration": 163,
    "start_time": "2025-07-10T11:30:05.987Z"
   },
   {
    "duration": 333,
    "start_time": "2025-07-10T11:30:27.139Z"
   },
   {
    "duration": 196,
    "start_time": "2025-07-10T11:36:13.857Z"
   }
  ],
  "kernelspec": {
   "display_name": "Python 3 (ipykernel)",
   "language": "python",
   "name": "python3"
  },
  "language_info": {
   "codemirror_mode": {
    "name": "ipython",
    "version": 3
   },
   "file_extension": ".py",
   "mimetype": "text/x-python",
   "name": "python",
   "nbconvert_exporter": "python",
   "pygments_lexer": "ipython3",
   "version": "3.9.5"
  },
  "toc": {
   "base_numbering": 1,
   "nav_menu": {},
   "number_sections": true,
   "sideBar": true,
   "skip_h1_title": true,
   "title_cell": "Содержание",
   "title_sidebar": "Contents",
   "toc_cell": true,
   "toc_position": {
    "height": "calc(100% - 180px)",
    "left": "10px",
    "top": "150px",
    "width": "165px"
   },
   "toc_section_display": true,
   "toc_window_display": true
  }
 },
 "nbformat": 4,
 "nbformat_minor": 2
}
